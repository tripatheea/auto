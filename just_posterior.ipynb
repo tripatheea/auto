{
  "nbformat": 4,
  "nbformat_minor": 0,
  "metadata": {
    "colab": {
      "provenance": [],
      "authorship_tag": "ABX9TyMQ6TrdF06uEWIbUig7kCYy",
      "include_colab_link": true
    },
    "kernelspec": {
      "name": "python3",
      "display_name": "Python 3"
    },
    "language_info": {
      "name": "python"
    }
  },
  "cells": [
    {
      "cell_type": "markdown",
      "metadata": {
        "id": "view-in-github",
        "colab_type": "text"
      },
      "source": [
        "<a href=\"https://colab.research.google.com/github/tripatheea/auto/blob/main/just_posterior.ipynb\" target=\"_parent\"><img src=\"https://colab.research.google.com/assets/colab-badge.svg\" alt=\"Open In Colab\"/></a>"
      ]
    },
    {
      "cell_type": "code",
      "execution_count": null,
      "metadata": {
        "colab": {
          "base_uri": "https://localhost:8080/"
        },
        "id": "Niel0t6Ye_a0",
        "outputId": "05141184-2a0d-4c74-955f-58e59d408990"
      },
      "outputs": [
        {
          "output_type": "stream",
          "name": "stdout",
          "text": [
            "Looking in indexes: https://pypi.org/simple, https://us-python.pkg.dev/colab-wheels/public/simple/\n",
            "Requirement already satisfied: tensorflow-probability in /usr/local/lib/python3.8/dist-packages (0.17.0)\n",
            "Requirement already satisfied: numpy>=1.13.3 in /usr/local/lib/python3.8/dist-packages (from tensorflow-probability) (1.21.6)\n",
            "Requirement already satisfied: six>=1.10.0 in /usr/local/lib/python3.8/dist-packages (from tensorflow-probability) (1.15.0)\n",
            "Requirement already satisfied: decorator in /usr/local/lib/python3.8/dist-packages (from tensorflow-probability) (4.4.2)\n",
            "Requirement already satisfied: dm-tree in /usr/local/lib/python3.8/dist-packages (from tensorflow-probability) (0.1.8)\n",
            "Requirement already satisfied: absl-py in /usr/local/lib/python3.8/dist-packages (from tensorflow-probability) (1.3.0)\n",
            "Requirement already satisfied: gast>=0.3.2 in /usr/local/lib/python3.8/dist-packages (from tensorflow-probability) (0.4.0)\n",
            "Requirement already satisfied: cloudpickle>=1.3 in /usr/local/lib/python3.8/dist-packages (from tensorflow-probability) (2.2.0)\n",
            "Looking in indexes: https://pypi.org/simple, https://us-python.pkg.dev/colab-wheels/public/simple/\n",
            "Requirement already satisfied: imageio in /usr/local/lib/python3.8/dist-packages (2.9.0)\n",
            "Requirement already satisfied: pillow in /usr/local/lib/python3.8/dist-packages (from imageio) (7.1.2)\n",
            "Requirement already satisfied: numpy in /usr/local/lib/python3.8/dist-packages (from imageio) (1.21.6)\n",
            "Looking in indexes: https://pypi.org/simple, https://us-python.pkg.dev/colab-wheels/public/simple/\n",
            "Collecting git+https://github.com/tensorflow/docs\n",
            "  Cloning https://github.com/tensorflow/docs to /tmp/pip-req-build-sqgr8bea\n",
            "  Running command git clone --filter=blob:none --quiet https://github.com/tensorflow/docs /tmp/pip-req-build-sqgr8bea\n",
            "  Resolved https://github.com/tensorflow/docs to commit 8f431e2b96ebbebd325a7162a00c40653af799e5\n",
            "  Preparing metadata (setup.py) ... \u001b[?25l\u001b[?25hdone\n",
            "Requirement already satisfied: astor in /usr/local/lib/python3.8/dist-packages (from tensorflow-docs==0.0.0.dev0) (0.8.1)\n",
            "Requirement already satisfied: absl-py in /usr/local/lib/python3.8/dist-packages (from tensorflow-docs==0.0.0.dev0) (1.3.0)\n",
            "Requirement already satisfied: jinja2 in /usr/local/lib/python3.8/dist-packages (from tensorflow-docs==0.0.0.dev0) (2.11.3)\n",
            "Requirement already satisfied: nbformat in /usr/local/lib/python3.8/dist-packages (from tensorflow-docs==0.0.0.dev0) (5.7.1)\n",
            "Requirement already satisfied: protobuf<3.20,>=3.12.0 in /usr/local/lib/python3.8/dist-packages (from tensorflow-docs==0.0.0.dev0) (3.19.6)\n",
            "Requirement already satisfied: pyyaml in /usr/local/lib/python3.8/dist-packages (from tensorflow-docs==0.0.0.dev0) (6.0)\n",
            "Requirement already satisfied: MarkupSafe>=0.23 in /usr/local/lib/python3.8/dist-packages (from jinja2->tensorflow-docs==0.0.0.dev0) (2.0.1)\n",
            "Requirement already satisfied: jupyter-core in /usr/local/lib/python3.8/dist-packages (from nbformat->tensorflow-docs==0.0.0.dev0) (5.1.3)\n",
            "Requirement already satisfied: fastjsonschema in /usr/local/lib/python3.8/dist-packages (from nbformat->tensorflow-docs==0.0.0.dev0) (2.16.2)\n",
            "Requirement already satisfied: jsonschema>=2.6 in /usr/local/lib/python3.8/dist-packages (from nbformat->tensorflow-docs==0.0.0.dev0) (4.3.3)\n",
            "Requirement already satisfied: traitlets>=5.1 in /usr/local/lib/python3.8/dist-packages (from nbformat->tensorflow-docs==0.0.0.dev0) (5.7.1)\n",
            "Requirement already satisfied: importlib-resources>=1.4.0 in /usr/local/lib/python3.8/dist-packages (from jsonschema>=2.6->nbformat->tensorflow-docs==0.0.0.dev0) (5.10.2)\n",
            "Requirement already satisfied: attrs>=17.4.0 in /usr/local/lib/python3.8/dist-packages (from jsonschema>=2.6->nbformat->tensorflow-docs==0.0.0.dev0) (22.2.0)\n",
            "Requirement already satisfied: pyrsistent!=0.17.0,!=0.17.1,!=0.17.2,>=0.14.0 in /usr/local/lib/python3.8/dist-packages (from jsonschema>=2.6->nbformat->tensorflow-docs==0.0.0.dev0) (0.19.3)\n",
            "Requirement already satisfied: platformdirs>=2.5 in /usr/local/lib/python3.8/dist-packages (from jupyter-core->nbformat->tensorflow-docs==0.0.0.dev0) (2.6.2)\n",
            "Requirement already satisfied: zipp>=3.1.0 in /usr/local/lib/python3.8/dist-packages (from importlib-resources>=1.4.0->jsonschema>=2.6->nbformat->tensorflow-docs==0.0.0.dev0) (3.11.0)\n",
            "Building wheels for collected packages: tensorflow-docs\n",
            "  Building wheel for tensorflow-docs (setup.py) ... \u001b[?25l\u001b[?25hdone\n",
            "  Created wheel for tensorflow-docs: filename=tensorflow_docs-0.0.0.dev0-py3-none-any.whl size=184468 sha256=3d8c6abc8bc701d01c0b506d2f599b7974871f77ef7c908dd1653ccfb1b40c3e\n",
            "  Stored in directory: /tmp/pip-ephem-wheel-cache-4gkk74px/wheels/3b/ee/a2/ab4d36a9a4af495bcb936f3e849d4b497b65fa40548a68d6c3\n",
            "Successfully built tensorflow-docs\n",
            "Installing collected packages: tensorflow-docs\n",
            "Successfully installed tensorflow-docs-0.0.0.dev0\n"
          ]
        }
      ],
      "source": [
        "! pip install tensorflow-probability\n",
        "\n",
        "# to generate gifs\n",
        "! pip install imageio\n",
        "! pip install git+https://github.com/tensorflow/docs"
      ]
    },
    {
      "cell_type": "code",
      "source": [
        "from IPython import display\n",
        "\n",
        "import glob\n",
        "import imageio\n",
        "import matplotlib.pyplot as plt\n",
        "import numpy as np\n",
        "import PIL\n",
        "import tensorflow as tf\n",
        "import tensorflow_probability as tfp\n",
        "import time\n",
        "\n",
        "from tensorflow.python.framework.ops import disable_eager_execution, enable_eager_execution"
      ],
      "metadata": {
        "id": "j1LCh9FufCHN"
      },
      "execution_count": 3,
      "outputs": []
    },
    {
      "cell_type": "code",
      "source": [
        "# import keras\n",
        "# from keras import Model\n",
        "# from keras.layers import Input, Conv2D, MaxPooling2D, UpSampling2D, Concatenate, Reshape, Dense, Lambda, Flatten\n",
        "# from keras import backend as K\n",
        "\n",
        "import warnings\n",
        "warnings.filterwarnings('ignore')\n",
        "import numpy as np\n",
        "import glob\n",
        "import skimage\n",
        "import skimage.transform\n",
        "import skimage.io\n",
        "import PIL\n",
        "import numpy as np\n",
        "import os\n",
        "from IPython.display import clear_output\n",
        "import pandas as pd\n",
        "import matplotlib.pyplot as plt\n",
        "%matplotlib inline\n",
        "from ipywidgets import interact, interactive, fixed, interact_manual\n",
        "import ipywidgets as widgets\n",
        "import imageio\n",
        "# import utils"
      ],
      "metadata": {
        "id": "tVaauFC-fDYD"
      },
      "execution_count": 4,
      "outputs": []
    },
    {
      "cell_type": "code",
      "source": [
        "! pip install corner"
      ],
      "metadata": {
        "colab": {
          "base_uri": "https://localhost:8080/"
        },
        "id": "gFlwAnf6I2hf",
        "outputId": "82b8b1fd-d5b0-48ad-bd2f-994bc1bc3d8e"
      },
      "execution_count": 5,
      "outputs": [
        {
          "output_type": "stream",
          "name": "stdout",
          "text": [
            "Looking in indexes: https://pypi.org/simple, https://us-python.pkg.dev/colab-wheels/public/simple/\n",
            "Collecting corner\n",
            "  Downloading corner-2.2.1-py3-none-any.whl (15 kB)\n",
            "Requirement already satisfied: matplotlib>=2.1 in /usr/local/lib/python3.8/dist-packages (from corner) (3.2.2)\n",
            "Requirement already satisfied: cycler>=0.10 in /usr/local/lib/python3.8/dist-packages (from matplotlib>=2.1->corner) (0.11.0)\n",
            "Requirement already satisfied: numpy>=1.11 in /usr/local/lib/python3.8/dist-packages (from matplotlib>=2.1->corner) (1.21.6)\n",
            "Requirement already satisfied: python-dateutil>=2.1 in /usr/local/lib/python3.8/dist-packages (from matplotlib>=2.1->corner) (2.8.2)\n",
            "Requirement already satisfied: kiwisolver>=1.0.1 in /usr/local/lib/python3.8/dist-packages (from matplotlib>=2.1->corner) (1.4.4)\n",
            "Requirement already satisfied: pyparsing!=2.0.4,!=2.1.2,!=2.1.6,>=2.0.1 in /usr/local/lib/python3.8/dist-packages (from matplotlib>=2.1->corner) (3.0.9)\n",
            "Requirement already satisfied: six>=1.5 in /usr/local/lib/python3.8/dist-packages (from python-dateutil>=2.1->matplotlib>=2.1->corner) (1.15.0)\n",
            "Installing collected packages: corner\n",
            "Successfully installed corner-2.2.1\n"
          ]
        }
      ]
    },
    {
      "cell_type": "code",
      "source": [
        "import corner"
      ],
      "metadata": {
        "id": "humASsJJI373"
      },
      "execution_count": 6,
      "outputs": []
    },
    {
      "cell_type": "code",
      "source": [
        "enable_eager_execution()"
      ],
      "metadata": {
        "id": "F8zKLspGfETx"
      },
      "execution_count": 7,
      "outputs": []
    },
    {
      "cell_type": "code",
      "source": [
        "WIDTH = 90\n",
        "HEIGHT = 48"
      ],
      "metadata": {
        "id": "xCAiw4XLfFMD"
      },
      "execution_count": 16,
      "outputs": []
    },
    {
      "cell_type": "code",
      "source": [
        "import numpy as np\n",
        "import matplotlib.pyplot as plt\n",
        "\n",
        "import time\n",
        "from tensorflow.keras import regularizers\n",
        "import tensorflow.keras.initializers\n",
        "\n",
        "bandwidth = 0.1\n",
        "\n",
        "f_sig = 20.0\n",
        "\n",
        "fmax = f_sig + 0.5 * bandwidth\n",
        "fmin = f_sig - 0.5 * bandwidth\n",
        "\n",
        "\n",
        "def\tMakeSpectrogram(f_sig = 100., bandwidth = 0.25, Tobs_hr = 24., Tcoh_hr = .25, \n",
        "\t\thnoise = 100., hamp = .4, fsamp = 512., fdot_sig = -1e-6, fdotdot_sig = -1e-10, Omega=0.25, a_p=25,\n",
        "\t\tplot_num = 0, plot = False, write_to_file = False):\n",
        "\t\n",
        "\t##### Defining Variables #####\n",
        "\t# f_sig     --- signal central frequency, hz\n",
        "\t# bandwidth --- bandwidth of search, width of each freq, hz\n",
        "\t# Tobs_hr   --- Length of observation, hrs\n",
        "\t# Tcoh_hr   --- Coherence time, hrs\n",
        "\t# hnoise    --- noise amplitude\n",
        "\t# hamp      --- signal amplitude\n",
        "\t# fsamp     --- sampling frequency, hz\n",
        "\t# fdot_sig  --- Signal frequency derivative \n",
        "\t# plot_num  --- if multiple files is an index\n",
        "\t# whereto   --- Where to save plot\n",
        "\t\n",
        "\t##### Booleans ####\n",
        "\t# plot      \t--- whether or not to plot\n",
        "\t# write_to_file --- whether to save data to .txt file\n",
        "\n",
        "\t#### Returns ####\n",
        "\t# frequency \n",
        "\t# time\n",
        "\t# spectrogram\n",
        "\n",
        "\t# Define constants\n",
        "\tSECS_PER_HOUR = 3600\n",
        "\t\n",
        "\t# Find amplitude spectral density for noise\n",
        "\tnoiseamp = hnoise*np.sqrt(4./fsamp) \n",
        "\t\n",
        "\t\n",
        "\t# Convert observation and coherence time to seconds\n",
        "\tTobs = Tobs_hr * SECS_PER_HOUR\n",
        "\tTcoh = Tcoh_hr * SECS_PER_HOUR\n",
        "\n",
        "\t# Find low and high frequency\n",
        "\t# freqlo_approx = f_sig - 0.5 * bandwidth\n",
        "\t# freqlo = np.floor(freqlo_approx * Tcoh) / Tcoh\n",
        "\t# freqhi = freqlo + bandwidth\n",
        "\n",
        "\tfreqlo, freqhi = fmin, fmax\n",
        "\n",
        "\t# Define time series to hold raw data stream of signal + noise\n",
        "\tdeltat = 1. / fsamp\n",
        "\tt = np.arange(0,Tobs,deltat)\n",
        "\tNsample = len(t)\n",
        "\t# print ('Nsample = %i'%len(t))\n",
        "\t\n",
        "\t# Generate signal in the time domain\n",
        "\tnoise = noiseamp * np.random.normal(0, scale = 1, size = (Nsample,))\n",
        " \n",
        "\tt_asc = 0\n",
        "\t\n",
        "\tfmod = f_sig * (1.0 - a_p * Omega * np.cos(Omega * (t - t_asc)))\t# Should include Doppler term v \\dot n too.\n",
        "\n",
        "\tphi_of_t = 2 * np.pi * (fmod * t + .5 * fdot_sig * t**2 + (1/6) * fdotdot_sig * t**3 )\n",
        " \n",
        "\t# signal = hamp * np.sin(2 * np.pi * (f_sig * t + .5 * fdot_sig * t**2 + (1/6) * fdotdot_sig * t**3 ))\n",
        "\tsignal = hamp * np.sin(phi_of_t)\n",
        " \n",
        "\tdata = signal + noise\n",
        "\n",
        "\t# Generate spectra for each coherence time & extract band of interest to make spectrogram\n",
        "\tindbandlo = int(np.floor(freqlo * Tcoh))\n",
        "\tindbandhi = int(np.floor(freqhi * Tcoh))\n",
        "\tnbandbin  = indbandhi - indbandlo\n",
        "\tNseg = int(np.floor(Tobs / Tcoh))\n",
        "\tNsample_coh = int(np.floor(Nsample / Nseg))\n",
        "\tspectrogram = np.zeros((nbandbin,Nseg),)\t\n",
        "\t# print( np.shape(spectrogram) )\n",
        "\t\n",
        "\tfor seg in range(Nseg):\n",
        "\t\t# print('Generating segment %d\\n'%(seg))\n",
        "\t\tindlo = seg * Nsample_coh\n",
        "\t\tindhi = indlo + Nsample_coh \n",
        "\t\tsegment = data[indlo:indhi]\n",
        "\t\t\n",
        "\t\trawfft = np.fft.fft(segment,Nsample_coh, axis = 0)\n",
        "\t\tspectrogram[:,seg] = 2 * abs(rawfft[indbandlo:indbandhi])\n",
        "\t\t\n",
        "\tsegarray = np.arange(0,Nseg)\n",
        "\tseghour = (segarray) * Tcoh / SECS_PER_HOUR\n",
        "\tindarray = np.arange(indbandlo,indbandhi + 1)\n",
        "\tfreqplot = (indarray - indbandlo)*1.0/Tcoh + freqlo\t\n",
        "  \n",
        "\tif plot:\n",
        "\t\tplt.clf()\n",
        "\t\t# print('Plotting spectrogram')\n",
        "\t\t\n",
        "\t\tplt.pcolormesh(seghour, freqplot, spectrogram)\n",
        "\t\tplt.ylabel('Frequency [Hz]')\n",
        "\t\tplt.xlabel('Time [Hours]')\n",
        "  \n",
        "  \n",
        "\treturn(seghour, freqplot, spectrogram)\n",
        "\n"
      ],
      "metadata": {
        "id": "uQxcvbBNfF76"
      },
      "execution_count": 992,
      "outputs": []
    },
    {
      "cell_type": "code",
      "source": [
        "def fix_dims_and_normalize(s):\n",
        "  \n",
        "  s = np.pad(s, ((0, WIDTH - s.shape[0]), (0, HEIGHT - s.shape[1])))\n",
        "\n",
        "  return (s - np.min(s)) / (np.max(s) - np.min(s))\n",
        "  # return s"
      ],
      "metadata": {
        "id": "6AiICvfjfGgR"
      },
      "execution_count": 993,
      "outputs": []
    },
    {
      "cell_type": "code",
      "source": [
        "bandwidth = 0.1\n",
        "f_sig = 20\n",
        "\n",
        "T_coh = 0.25\n",
        "Tobs_hr = 24\n",
        "\n",
        "fdot_sig = np.random.choice([-1, 1]) * 10**np.random.uniform(-8, -6)\n",
        "\n",
        "\n",
        "fdotdot_sig = np.random.choice([-1, 1]) * 10**np.random.uniform(-13, -12)\n",
        "\n",
        "# fdot_sig = 1e-6\n",
        "\n",
        "fdot_sig, fdotdot_sig"
      ],
      "metadata": {
        "id": "fWru13CRfHM6",
        "colab": {
          "base_uri": "https://localhost:8080/"
        },
        "outputId": "283d8eb5-8e8c-4175-e107-7016f068bb1f"
      },
      "execution_count": 994,
      "outputs": [
        {
          "output_type": "execute_result",
          "data": {
            "text/plain": [
              "(5.0877204322569355e-08, 1.4441482598579244e-13)"
            ]
          },
          "metadata": {},
          "execution_count": 994
        }
      ]
    },
    {
      "cell_type": "code",
      "source": [
        "t, f, spec = MakeSpectrogram(f_sig = np.random.uniform(f_sig - 0.5 * bandwidth, f_sig + 0.5 * bandwidth), bandwidth = bandwidth, Tobs_hr = Tobs_hr, Tcoh_hr = T_coh, \n",
        "              hnoise = np.random.uniform(0.0, 0.001), hamp = np.random.uniform(0.1, 0.5), fsamp = 128., fdot_sig = fdot_sig, \n",
        "              fdotdot_sig=fdotdot_sig, Omega=1e-4, a_p=2, plot_num = 0, plot = True, write_to_file = False)"
      ],
      "metadata": {
        "colab": {
          "base_uri": "https://localhost:8080/",
          "height": 279
        },
        "id": "F4Jf6CI8fJu6",
        "outputId": "ffc702d8-6883-4437-e1e5-d1e4bcc7d8bf"
      },
      "execution_count": 1070,
      "outputs": [
        {
          "output_type": "display_data",
          "data": {
            "text/plain": [
              "<Figure size 432x288 with 1 Axes>"
            ],
            "image/png": "[encoded data removed]"
          },
          "metadata": {
            "needs_background": "light"
          }
        }
      ]
    },
    {
      "cell_type": "code",
      "source": [
        "# 1.0 / (bandwidth / 90)"
      ],
      "metadata": {
        "id": "I7wNaZg_sXbs"
      },
      "execution_count": 202,
      "outputs": []
    },
    {
      "cell_type": "code",
      "source": [
        "spec.shape"
      ],
      "metadata": {
        "colab": {
          "base_uri": "https://localhost:8080/"
        },
        "id": "aJCAHovxQknn",
        "outputId": "d9fb6e96-90a2-473c-8999-45c464b0bd43"
      },
      "execution_count": 203,
      "outputs": [
        {
          "output_type": "execute_result",
          "data": {
            "text/plain": [
              "(90, 96)"
            ]
          },
          "metadata": {},
          "execution_count": 203
        }
      ]
    },
    {
      "cell_type": "code",
      "source": [
        "plt.plot(spec[:,-1])"
      ],
      "metadata": {
        "colab": {
          "base_uri": "https://localhost:8080/",
          "height": 282
        },
        "id": "as29NMTHi2aQ",
        "outputId": "da874b93-98d1-44d4-def9-c44f2321af2d"
      },
      "execution_count": 204,
      "outputs": [
        {
          "output_type": "execute_result",
          "data": {
            "text/plain": [
              "[<matplotlib.lines.Line2D at 0x7fb3a7ec86d0>]"
            ]
          },
          "metadata": {},
          "execution_count": 204
        },
        {
          "output_type": "display_data",
          "data": {
            "text/plain": [
              "<Figure size 432x288 with 1 Axes>"
            ],
            "image/png": "[encoded data removed]"
          },
          "metadata": {
            "needs_background": "light"
          }
        }
      ]
    },
    {
      "cell_type": "code",
      "source": [
        "np.random.uniform(-8, -6)"
      ],
      "metadata": {
        "colab": {
          "base_uri": "https://localhost:8080/"
        },
        "id": "8rpqHWlavbXc",
        "outputId": "3b63cce1-3ab8-4bba-df7f-3f66cb0ada21"
      },
      "execution_count": 205,
      "outputs": [
        {
          "output_type": "execute_result",
          "data": {
            "text/plain": [
              "-6.537315994906183"
            ]
          },
          "metadata": {},
          "execution_count": 205
        }
      ]
    },
    {
      "cell_type": "code",
      "source": [
        "# Max frequency offset in a 24 hour period.\n",
        "\n",
        "delta_t = T_coh * 3600\n",
        "\n",
        "freq_resolution = 1.0 / delta_t\n",
        "\n",
        "fdot_min, fdot_max = 1e-8, 1e-6\n",
        "fdotdot_min, fdotdot_max = 1e-12, 1e-13\n",
        "\n",
        "\n",
        "\n",
        "\n",
        "print(delta_t, freq_resolution, fdot_min * (Tobs_hr * 60 * 60) * delta_t, fdot_max * (Tobs_hr * 60 * 60) * delta_t)\n",
        "print(fdotdot_min * ((Tobs_hr * 60 * 60)**2) * delta_t, fdotdot_max * ((Tobs_hr * 60 * 60)**2) * delta_t)"
      ],
      "metadata": {
        "colab": {
          "base_uri": "https://localhost:8080/"
        },
        "id": "7nVQBuDukukf",
        "outputId": "c5e98b44-4057-4d47-e0bf-51fb904b3a07"
      },
      "execution_count": 206,
      "outputs": [
        {
          "output_type": "stream",
          "name": "stdout",
          "text": [
            "900.0 0.0011111111111111111 0.7776 77.75999999999999\n",
            "6.718464 0.6718464000000001\n"
          ]
        }
      ]
    },
    {
      "cell_type": "code",
      "source": [
        "all_specs = []\n",
        "N = 500\n",
        "\n",
        "\n",
        "\n",
        "f_lower = fmin + 0.25 * (fmax - fmin)\n",
        "f_upper = fmin + 0.75 * (fmax - fmin)\n",
        "\n",
        "f1min, f1max = -8, -6\n",
        "\n",
        "f2min, f2max = -13, -12\n",
        "\n",
        "omega_min, omega_max = -10, -5\n",
        "ap_min, ap_max = 0.0, 2.0\n",
        "\n",
        "def invert_scaling(x, max_val, min_val):\n",
        "  return x * (max_val - min_val) + min_val\n",
        "\n",
        "\n",
        "x_s = []\n",
        "for i in range(N):\n",
        "  # t, f, spec = MakeSpectrogram(f_sig = np.random.random() * 100., bandwidth = 0.05, Tobs_hr = 12., Tcoh_hr = .25, \n",
        "  #             hnoise = 100. + (1 - 2 * np.random.random() * 10.), hamp = .4, fsamp = 128., fdot_sig = -1e-6, \n",
        "  #             plot_num = 0, plot = True, write_to_file = False)\n",
        "  \n",
        "\n",
        "  \n",
        "  freq = np.random.uniform(f_lower, f_upper)\n",
        "  scaled_freq = (freq - fmin) / (fmax - fmin)\n",
        "\n",
        "  \n",
        "  \n",
        "  spindown_exponent = np.random.uniform(f1min, f1max)\n",
        "  spindown = 10**spindown_exponent\n",
        "  scaled_spindown = (spindown_exponent - f1min) / (f1max - f1min)\n",
        "  \n",
        "  fdotdot_sign = np.random.choice([-1, 1])\n",
        "  fdotdot_exponent = np.random.uniform(f2min, f2max)\n",
        "  fdotdot = fdotdot_sign * 10**fdotdot_exponent\n",
        "  scaled_fdotdot = fdotdot_sign * (fdotdot_exponent - f2min) / (f2max - f2min)\n",
        "\n",
        "  omega_exponent = np.random.uniform(omega_min, omega_max)\n",
        "  omega = 10**omega_exponent\n",
        "  scaled_omega = (omega_exponent - omega_min) / (omega_max - omega_min)\n",
        "\n",
        "  a_p = np.random.uniform(ap_min, ap_max)\n",
        "  scaled_a_p = (a_p - ap_min) / (ap_max - ap_min)\n",
        "\n",
        "  # print(freq, spindown, fdotdot)\n",
        "\n",
        "  t, f, spec = MakeSpectrogram(f_sig = freq, bandwidth = bandwidth, Tobs_hr = 12., Tcoh_hr = .25, \n",
        "            hnoise = np.random.uniform(0.0, 0.001), hamp = np.random.uniform(0.1, 0.5), fsamp = 128., fdot_sig = spindown, fdotdot_sig = fdotdot,\n",
        "            Omega=omega, a_p=a_p,\n",
        "            plot_num = 0, plot = False, write_to_file = False)\n",
        "  \n",
        "\n",
        "  freq_start_bin = np.argmax(spec[:,0]) / spec.shape[0]\n",
        "\n",
        "  # scaler = StandardScaler()\n",
        "  # spec = scaler.fit_transform(spec)\n",
        "\n",
        "  r = fix_dims_and_normalize(np.copy(spec))\n",
        "\n",
        "  # print(r.shape)\n",
        "  all_specs.append(r)\n",
        "  x_s.append((scaled_freq, scaled_spindown, scaled_fdotdot, scaled_omega, scaled_a_p, freq_start_bin))\n",
        "\n",
        "  if (i % 100) == 0:\n",
        "    print(f\"i = {i}\")\n",
        "\n",
        "all_specs = np.asanyarray(all_specs)\n",
        "\n",
        "size = len(all_specs)\n",
        "\n",
        "print(all_specs.shape)"
      ],
      "metadata": {
        "colab": {
          "base_uri": "https://localhost:8080/"
        },
        "id": "LB-D6wcFfKYT",
        "outputId": "ca0d78b3-33af-463c-eaff-ba7f6eafb098"
      },
      "execution_count": null,
      "outputs": [
        {
          "output_type": "stream",
          "name": "stdout",
          "text": [
            "i = 0\n",
            "i = 100\n",
            "i = 200\n",
            "i = 300\n",
            "i = 400\n"
          ]
        }
      ]
    },
    {
      "cell_type": "code",
      "source": [
        "r, spec.shape"
      ],
      "metadata": {
        "id": "l3whEmiRUEHy"
      },
      "execution_count": null,
      "outputs": []
    },
    {
      "cell_type": "code",
      "source": [
        "plt.pcolormesh(all_specs[1,:,:])"
      ],
      "metadata": {
        "id": "Hn7qBFgvUt6U"
      },
      "execution_count": null,
      "outputs": []
    },
    {
      "cell_type": "code",
      "source": [
        "x_s"
      ],
      "metadata": {
        "id": "lQ9ON-EiWyeE"
      },
      "execution_count": null,
      "outputs": []
    },
    {
      "cell_type": "code",
      "source": [
        "# all_specs"
      ],
      "metadata": {
        "id": "O2Qv7CWXUzuI"
      },
      "execution_count": null,
      "outputs": []
    },
    {
      "cell_type": "code",
      "source": [
        "x_s = np.asanyarray(x_s)\n",
        "\n",
        "x_s.shape"
      ],
      "metadata": {
        "id": "YB2UNWVZfLAr"
      },
      "execution_count": null,
      "outputs": []
    },
    {
      "cell_type": "code",
      "source": [
        "from sklearn.preprocessing import StandardScaler"
      ],
      "metadata": {
        "id": "J9mz5l0CENEv"
      },
      "execution_count": null,
      "outputs": []
    },
    {
      "cell_type": "code",
      "source": [
        "# x_scaler = StandardScaler()\n",
        "# scaled_x_s = x_scaler.fit_transform(x_s)"
      ],
      "metadata": {
        "id": "QGO1G71lEN66"
      },
      "execution_count": null,
      "outputs": []
    },
    {
      "cell_type": "code",
      "source": [
        "scaled_x_s = x_s"
      ],
      "metadata": {
        "id": "ZIY2BcJENA5t"
      },
      "execution_count": null,
      "outputs": []
    },
    {
      "cell_type": "code",
      "source": [
        "from sklearn.model_selection import train_test_split"
      ],
      "metadata": {
        "id": "1awoW1c4fL8d"
      },
      "execution_count": null,
      "outputs": []
    },
    {
      "cell_type": "code",
      "source": [
        "# x_train_s, x_test_s, y_train_s, y_test_s = train_test_split(x_s, all_specs, test_size=0.2, random_state=42)\n",
        "\n",
        "x_train_s, x_test_s, y_train_s, y_test_s = train_test_split(scaled_x_s, all_specs, test_size=0.2, random_state=42)\n",
        "x_test_s, x_val_s, y_test_s, y_val_s = train_test_split(x_test_s, y_test_s, test_size=0.5, random_state=26)\n",
        "\n",
        "x_train_s.shape"
      ],
      "metadata": {
        "id": "xRHDJExafMnZ"
      },
      "execution_count": null,
      "outputs": []
    },
    {
      "cell_type": "code",
      "source": [
        "x_train_s = np.expand_dims(x_train_s, -1)\n",
        "x_test_s = np.expand_dims(x_test_s, -1)\n",
        "x_val_s = np.expand_dims(x_val_s, -1)\n",
        "\n",
        "y_train_s = np.expand_dims(y_train_s, -1)\n",
        "y_test_s = np.expand_dims(y_test_s, -1)\n",
        "y_val_s = np.expand_dims(y_val_s, -1)\n",
        "\n",
        "x_train_s.shape"
      ],
      "metadata": {
        "id": "khtgnkPSfNKW"
      },
      "execution_count": null,
      "outputs": []
    },
    {
      "cell_type": "code",
      "source": [
        "def convert_to_tensor_utility(x):\n",
        "    return tf.convert_to_tensor(x, dtype=tf.float32)\n",
        "\n",
        " \n",
        "x_train_s, y_train_s, x_test_s, y_test_s, x_val_s, y_val_s = tuple(map(convert_to_tensor_utility, [x_train_s, y_train_s, x_test_s, y_test_s, x_val_s, y_val_s]))"
      ],
      "metadata": {
        "id": "A_SYaXR0fNw6"
      },
      "execution_count": null,
      "outputs": []
    },
    {
      "cell_type": "code",
      "source": [
        "x_train_s.shape, y_train_s.shape"
      ],
      "metadata": {
        "id": "83U5j4OvfOhR"
      },
      "execution_count": null,
      "outputs": []
    },
    {
      "cell_type": "code",
      "source": [
        "y_train_s.shape, y_test_s.shape, y_val_s.shape"
      ],
      "metadata": {
        "id": "6ISRpQCGfPUn"
      },
      "execution_count": null,
      "outputs": []
    },
    {
      "cell_type": "code",
      "source": [
        "# y_train_s"
      ],
      "metadata": {
        "id": "Iz2Xmky8GKQZ"
      },
      "execution_count": null,
      "outputs": []
    },
    {
      "cell_type": "code",
      "source": [
        "batch_size = 8"
      ],
      "metadata": {
        "id": "Rrg7Fa14fn9R"
      },
      "execution_count": null,
      "outputs": []
    },
    {
      "cell_type": "code",
      "source": [
        "train_dataset = tf.data.Dataset.from_tensor_slices((x_train_s, y_train_s)).batch(batch_size)\n",
        "test_dataset = tf.data.Dataset.from_tensor_slices((x_test_s, y_test_s)).batch(batch_size)\n",
        "val_dataset = tf.data.Dataset.from_tensor_slices((x_val_s, y_val_s)).batch(batch_size)"
      ],
      "metadata": {
        "id": "dGo6GUkJfoqz"
      },
      "execution_count": null,
      "outputs": []
    },
    {
      "cell_type": "code",
      "source": [
        "params = dict()\n",
        "\n",
        "params['z_dim'] = 24\n",
        "params['n_modes'] = 1\n",
        "params['n_channels'] = 1\n",
        "params['ramp_start'] = 10\n",
        "params['ramp_end'] = 20\n",
        "params['y_normscale'] = 1.0\n",
        "\n",
        "params['rand_pars'] = ['frequency', 'fdot', 'fdotdot', 'Omega', 'a_p', 'bin']\n",
        "params['inf_pars'] = ['frequency', 'fdot', 'fdotdot', 'Omega', 'a_p', 'bin']\n"
      ],
      "metadata": {
        "id": "p1znqNWCfpPr"
      },
      "execution_count": null,
      "outputs": []
    },
    {
      "cell_type": "code",
      "source": [
        "def ramp_func(epoch,start,ramp_length, n_cycles):\n",
        "    i = (epoch - start) / (2.0 * ramp_length)\n",
        "    # print(epoch,i)\n",
        "    \n",
        "    if i < 0:\n",
        "        return 0.0\n",
        "    if i >= n_cycles:\n",
        "        return 1.0\n",
        "    \n",
        "    return min(1.0, 2.0 * np.remainder(i, 1.0))\n",
        "\n",
        "optimizer = tf.keras.optimizers.Adam(1e-4)\n",
        "initializer = tf.keras.initializers.GlorotUniform()"
      ],
      "metadata": {
        "id": "sLt_iTgrfqqE"
      },
      "execution_count": null,
      "outputs": []
    },
    {
      "cell_type": "code",
      "source": [
        "def define_encoder_block(x, num_filters, act):  \n",
        "    \"\"\"\n",
        "    Todo: Define two sequential 2D convolutional layers (Conv2D) with the following properties:\n",
        "          - num_filters many filters\n",
        "          - kernel_size 3\n",
        "          - activation \"relu\"\n",
        "          - padding \"same\"\n",
        "          - kernel_initializer \"he_normal\"\n",
        "          Also define a 2D max pooling layer (MaxPooling2D) (you can keep default arguments).\n",
        "    \"\"\"\n",
        "    x = tf.keras.layers.Conv2D(num_filters, 4, activation=act, padding='same', kernel_initializer='he_normal')(x)\n",
        "    x = tf.keras.layers.BatchNormalization()(x)\n",
        "    x = tf.keras.layers.Conv2D(num_filters, 4, activation=act, padding='same', kernel_initializer='he_normal')(x)\n",
        "    x = tf.keras.layers.MaxPooling2D()(x)\n",
        "    x = tf.keras.layers.BatchNormalization()(x)\n",
        "    \n",
        "    return x"
      ],
      "metadata": {
        "id": "u1gB6LC_geQz"
      },
      "execution_count": null,
      "outputs": []
    },
    {
      "cell_type": "code",
      "source": [
        "def define_decoder_block(x, num_filters, act):\n",
        "    \"\"\"\n",
        "    Todo: Define one 2D upsampling layer (UpSampling2D) (you can keep default arguments).\n",
        "          Also, define two sequential 2D convolutional layers (Conv2D) with the following properties:\n",
        "          - num_filters many filters\n",
        "          - kernel_size 3\n",
        "          - activation \"relu\"\n",
        "          - padding \"same\"\n",
        "          - kernel_initializer \"he_normal\"\n",
        "    \"\"\"\n",
        "    x = tf.keras.layers.UpSampling2D()(x)\n",
        "    x = tf.keras.layers.Conv2DTranspose(num_filters, 4, activation=act, padding = 'same', kernel_initializer = 'he_normal')(x)\n",
        "    x = tf.keras.layers.BatchNormalization()(x)\n",
        "    x = tf.keras.layers.Conv2DTranspose(num_filters, 4, activation=act, padding = 'same', kernel_initializer = 'he_normal')(x)\n",
        "    x = tf.keras.layers.BatchNormalization()(x)\n",
        "    return x"
      ],
      "metadata": {
        "id": "G1sXEcj5OZjV"
      },
      "execution_count": null,
      "outputs": []
    },
    {
      "cell_type": "code",
      "source": [
        "class CVAE(tf.keras.Model):\n",
        "    \"\"\"Convolutional variational autoencoder.\"\"\"\n",
        "\n",
        "    def __init__(self, x_dim, y_dim, n_channels, z_dim, n_modes, params):\n",
        "        super(CVAE, self).__init__()\n",
        "        self.z_dim = z_dim\n",
        "        self.n_modes = n_modes\n",
        "        self.x_modes = 1   # hardcoded for testing\n",
        "        self.x_dim = x_dim\n",
        "        self.y_dim = y_dim\n",
        "        self.n_channels = n_channels\n",
        "        self.act = tf.keras.layers.LeakyReLU(alpha=0.3)\n",
        "        self.params = params\n",
        "        self.reg = regularizers.l2(0.1)\n",
        "\n",
        "\n",
        "        start_filters = 16\n",
        "\n",
        "        \"\"\"\n",
        "        # Add this to get rid of regularizer\n",
        "        a2 = tf.keras.layers.Dense(2*self.z_dim*self.n_modes + self.n_modes)(a2)\n",
        "        self.encoder_r1 = tf.keras.Model(inputs=r1_input_y, outputs=a2)\n",
        "        print(self.encoder_r1.summary())\n",
        "        \"\"\"\n",
        "        \n",
        "        # the r1 encoder network- r1_encoder(y) = z'.\n",
        "\n",
        "        r1_input_y = tf.keras.Input(shape=(WIDTH, HEIGHT, 1))\n",
        "\n",
        "        eblock1 = define_encoder_block(r1_input_y, start_filters, self.act)\n",
        "        eblock2 = define_encoder_block(eblock1, start_filters*2, self.act)\n",
        "        eblock3 = define_encoder_block(eblock2, start_filters*4, self.act)\n",
        "        eblock4 = define_encoder_block(eblock3, start_filters*8, self.act)\n",
        "        # eblock4 = eblock2\n",
        "        _, *shape_spatial = eblock4.get_shape().as_list()\n",
        "        eblock4_flat = tf.keras.layers.Flatten()(eblock4)\n",
        "\n",
        "        x = tf.keras.layers.BatchNormalization(name='bn_2')(eblock4_flat)\n",
        "        a2 = tf.keras.layers.Dense(16, kernel_regularizer=self.reg, activation=self.act)(x)\n",
        "        a2 = tf.keras.layers.Dropout(.1)(a2)\n",
        "        a2 = tf.keras.layers.Dense(8, kernel_regularizer=self.reg, activation=self.act)(a2)\n",
        "        a2 = tf.keras.layers.Dropout(.1)(a2)\n",
        "        # a2 = x\n",
        "        a2 = tf.keras.layers.Dense(16, kernel_regularizer=self.reg, activation=self.act)(a2)\n",
        "        a2 = tf.keras.layers.BatchNormalization()(a2)\n",
        "        a2 = tf.keras.layers.Dense(2*self.z_dim*self.n_modes + self.n_modes, activation=self.act, kernel_regularizer=self.reg)(a2)\n",
        "        self.encoder_r1 = tf.keras.Model(inputs=r1_input_y, outputs=a2)\n",
        "\n",
        "        print(self.encoder_r1.summary())\n",
        "\n",
        "\n",
        "        # the q encoder network- q_encoder(x, y) = z''.\n",
        "\n",
        "        q_input_x = tf.keras.Input(shape=(self.x_dim))\n",
        "        c = tf.keras.layers.Flatten()(q_input_x)\n",
        "        d = tf.keras.layers.concatenate([eblock4_flat, c])\n",
        "        d = tf.keras.layers.BatchNormalization()(d)\n",
        "        e = tf.keras.layers.Dense(16, kernel_regularizer=self.reg, activation=self.act)(d)\n",
        "        e = tf.keras.layers.Dropout(.1)(e)\n",
        "        # e = d\n",
        "        e = tf.keras.layers.Dense(16, kernel_regularizer=self.reg, activation=self.act)(e)\n",
        "        e = tf.keras.layers.BatchNormalization()(e)\n",
        "        e = tf.keras.layers.Dense(2*self.z_dim, activation=self.act)(e)\n",
        "        self.encoder_q = tf.keras.Model(inputs=[r1_input_y, q_input_x], outputs=e)\n",
        "\n",
        "\n",
        "        print(self.encoder_q.summary())\n",
        "\n",
        "\n",
        "        # the r2 decoder network- r2_decoder(y, z) = x'.\n",
        "\n",
        "        r2_input_z = tf.keras.Input(shape=(self.z_dim))\n",
        "        g = tf.keras.layers.Flatten()(r2_input_z)\n",
        "\n",
        "        '''\n",
        "        # x = tf.keras.layers.Dense(8, kernel_regularizer=self.reg, activation=self.act)(r2_input_z)\n",
        "\n",
        "        # x = tf.reshape(x, [-1, 8, 8, 64])\n",
        "\n",
        "        x = tf.keras.layers.Dense(np.prod(shape_spatial), kernel_regularizer=self.reg, activation=self.act)(r2_input_z)  # \n",
        "        x = tf.keras.layers.Reshape(eblock4.shape.as_list()[1:])(x)                     # (None, 1, , 64)\n",
        "\n",
        "        dblock1 = define_decoder_block(x, start_filters)\n",
        "        dblock2 = define_decoder_block(dblock1, start_filters * 2)\n",
        "        dblock3 = define_decoder_block(dblock2, start_filters * 4)\n",
        "        dblock4 = define_decoder_block(dblock3, start_filters * 8)\n",
        "        # dblock4 = dblock2\n",
        "\n",
        "        g = tf.keras.layers.Flatten()(dblock4)\n",
        "        h = tf.keras.layers.concatenate([eblock4_flat, g])\n",
        "        \n",
        "        h = tf.keras.layers.BatchNormalization()(h)\n",
        "        i = tf.keras.layers.Dense(8, kernel_regularizer=self.reg, activation=self.act)(h)\n",
        "        # i = tf.keras.layers.Dropout(.1)(i)\n",
        "        # i = tf.keras.layers.Dense(8, kernel_regularizer=self.reg, activation=self.act)(i)\n",
        "        # i = tf.keras.layers.BatchNormalization()(i)\n",
        "        # i = tf.keras.layers.Dense(4, kernel_regularizer=self.reg, activation=self.act)(i)\n",
        "        # i = tf.keras.layers.BatchNormalization()(i)\n",
        "        j = tf.keras.layers.Dense(2*self.x_dim*self.x_modes + self.x_modes)(i)\n",
        "\n",
        "        print(\"Decoder summary:\")\n",
        "\n",
        "        self.decoder_r2 = tf.keras.Model(inputs=[r1_input_y, r2_input_z], outputs=j)\n",
        "        '''\n",
        "\n",
        "        h = tf.keras.layers.concatenate([eblock4_flat, g])\n",
        "        h = tf.keras.layers.BatchNormalization(name='bn_6')(h)\n",
        "        i = tf.keras.layers.Dense(32, kernel_regularizer=self.reg, activation=self.act)(h)\n",
        "        i = tf.keras.layers.Dropout(.5)(i)\n",
        "        i = tf.keras.layers.Dense(16, kernel_regularizer=self.reg, activation=self.act)(i)\n",
        "        i = tf.keras.layers.BatchNormalization(name='bn_7')(i)\n",
        "        j = tf.keras.layers.Dense(2*self.x_dim*self.x_modes + self.x_modes, activation=self.act)(i)\n",
        "        self.decoder_r2 = tf.keras.Model(inputs=[r1_input_y, r2_input_z], outputs=j)\n",
        "\n",
        "        print(self.decoder_r2.summary())\n",
        "        # During use, we would only have y. Use r1_encoder(y) = z'. Then, use r2_decoder(y, z') = x' to get the prediction / posterior.\n",
        "    \n",
        "    def get_encoders(self):\n",
        "        return self.encoder_r1, self.encoder_q\n",
        "    \n",
        "    def encode_r1(self, y=None):\n",
        "#         print(\"==\")\n",
        "#         print(y)\n",
        "#         print(\"AAA\")\n",
        "#         print(self.encoder_r1(y).shape)\n",
        "#         print(self.encoder_r1(y))\n",
        "# #         print([self.z_dim*self.n_modes, self.z_dim*self.n_modes,self.n_modes])\n",
        "#         print(\"==\")\n",
        "#         print(self.z_dim*self.n_modes + self.z_dim*self.n_modes + self.n_modes)\n",
        "        \n",
        "#         mean, logvar, weight = tf.split(self.encoder_r1(y), num_or_size_splits=[2, 4, 3], axis=1)\n",
        "\n",
        "        encoded_y = self.encoder_r1(y)  # (4, 17)\n",
        "\n",
        "        # print(encoded_y.shape)\n",
        "        mean, logvar, weight = tf.split(encoded_y, num_or_size_splits=[self.z_dim*self.n_modes, self.z_dim*self.n_modes,self.n_modes], axis=1)\n",
        "        \n",
        "        # print(mean.shape, logvar.shape, weight.shape) # (4, 8), (4, 8), (4, 1)\n",
        "        \n",
        "        # Becomes (4, 1, 2) (4, 2, 1)\n",
        "        return tf.reshape(mean,[-1,self.n_modes,self.z_dim]), tf.reshape(logvar,[-1,self.n_modes,self.z_dim]), tf.reshape(weight,[-1,self.n_modes])\n",
        "\n",
        "\n",
        "    def encode_q(self, x=None, y=None):\n",
        "        return tf.split(self.encoder_q([y,x]), num_or_size_splits=[self.z_dim, self.z_dim], axis=1)\n",
        "\n",
        "    def decode_r2(self, y=None, z=None, apply_sigmoid=False):\n",
        "        \n",
        "#         print(\"AA\", self.decoder_r2([y, z]).shape)\n",
        "#         print(\"BB\", [2 * self.x_dim * self.x_modes, self.x_modes])\n",
        "        mean, logvar, weight = tf.split(self.decoder_r2([y, z]), num_or_size_splits=[self.x_dim*self.x_modes, self.x_dim*self.x_modes, self.x_modes], axis=1)\n",
        "        return tf.reshape(mean,[-1,self.x_modes,self.x_dim]), tf.reshape(logvar,[-1,self.x_modes,self.x_dim]), tf.reshape(weight,[-1,self.x_modes])"
      ],
      "metadata": {
        "id": "tVciQBfofru-"
      },
      "execution_count": null,
      "outputs": []
    },
    {
      "cell_type": "code",
      "source": [
        "EPS = 1e-6\n",
        "dist_mask = np.array([True])\n",
        "not_dist_mask = np.array([True])\n",
        "\n",
        "bounds = dict(a=0.0, b=30.0)\n",
        "\n",
        "\n",
        "# KL[P || Q] = S(P) - H(P, Q)               Model P with approximation Q.\n",
        "# KL[Q || P] = S(Q) - H(Q, P)               Model Q with approximation P.\n",
        "\n",
        "# Variational Autoencoders:\n",
        "#  Let X be the data we want to model, z is the latent variable. Pr[X] = distn of data. Pr[z] latent distrn. Pr[X | z] = distrn of generating data | latent variable.\n",
        "#  We want to infer Pr[z] from Pr[z | X] which is the distrn that projects our data into the latent space.  \n",
        "#  But we do not know Pr[z | X], so we use a simpler estimate of Qr[z | X].\n",
        "\n",
        "# KL( Qr[z | X] || Pr[z | X] ) = E{ log( Qr[z | X] ) - log( Pr[z | X] ) } summed up over Qr[z | X]. \n",
        "# KL = H(Q, P) - S(Q) = cross-entropy between Q and P - entropy of P => info in just P - info overlap between P and Q => remaining info in P that we missed. \n",
        "\n",
        "\n",
        "# Ingredients:\n",
        "#   - Qr[z | x]\n",
        "#   - \n",
        "\n",
        "# Infer z_mean, z_var from just y.               Use encoder r1._samp            A = Pr[z | y].\n",
        "# \n",
        "# Infer z'_mean', z'_var' from x, y to get z_sample.                        B = Pr[z | x, y] => sample z_samp from q. We later calculate self-entropy of this.\n",
        "# Use encoder q for this.  Qr[z_sample | x, y]. Calculate self-entropy.\n",
        "# C = Pr[z_samp | y] = x_samp.\n",
        "# \n",
        "# Pr[z | x, y] is the \"real\" / actual distribution. So we want self-entropy of that - cross-entropy of that with Pr[z_samp | y].\n",
        "# What we are doing is that we are looking at how much information we are missing by calculating z_samp using Pr[z | y] instead of the actual distribution\n",
        "# of Pr[z | x, y]. This gives us our KL divergence, which we want to minimize.\n",
        "\n",
        "\n",
        "# Decode (z_sample, y) to get a distribution for x. Pr[x | z_samp, y]. Then, calculate the probability of getting x_actual under this distribution (log-likelihood).\n",
        "# The higher the probability the better it is, which we want to maximize.\n",
        "\n",
        "# Total Loss = (2) - (1)\n",
        "\n",
        "\n",
        "\n",
        "\n",
        "# XXXXX\n",
        "# Calculate self-entropy with Pr[z_samp] from inference of z_mean with y i.e. Pr[z_mean | y].  So entropy of Pr[z | x, y]. \n",
        "# This is the real distribution P. We are approximating it with Qr[z | y]. So we want S[ Pr[z | x, y] ] - H[Pr[z|x,y], Pr[z|y]].\n",
        "# Pr[z_samp] under A / r1.\n",
        "\n",
        "# \n",
        "\n",
        "tfd = tfp.distributions\n",
        "\n",
        "def compute_loss(model, x, y, ramp=1.0, noiseamp=1.0):\n",
        "    \n",
        "#     print(\"Computing loss.\")\n",
        "    \n",
        "    old_old_x = x\n",
        "    \n",
        "    noiseamp = tf.cast(noiseamp, dtype=tf.float32)\n",
        "    y_normscale = tf.cast(params['y_normscale'], dtype=tf.float32)\n",
        "    y = tf.cast(y, dtype=tf.float32)\n",
        "    x = tf.cast(x, dtype=tf.float32)\n",
        "    \n",
        "    y = (y + noiseamp*tf.random.normal(shape=tf.shape(y), mean=0.0, stddev=1.0, dtype=tf.float32)) / y_normscale\n",
        "    \n",
        "    # print(\"x\", x)\n",
        "    \n",
        "    # print(\"y\", y)\n",
        "    \n",
        "    # This is in the latent space z. z just from y.\n",
        "    mean_r1, logvar_r1, logweight_r1 = model.encode_r1(y=y)             # Infer z_mean, z_var by encoding y.\n",
        "    \n",
        "    \n",
        "    \n",
        "    \n",
        "    scale_r1 = EPS + tf.sqrt(tf.exp(logvar_r1))                         # Fix to enable backpropagation.\n",
        "\n",
        "    # Sample from the latent space. z just from y.\n",
        "    gm_r1 = tfd.MixtureSameFamily(mixture_distribution=tfd.Categorical(logits=logweight_r1),\n",
        "            components_distribution=tfd.MultivariateNormalDiag(\n",
        "            loc=mean_r1,\n",
        "            scale_diag=scale_r1))\n",
        "    \n",
        "    # Latent space. z from x and y.\n",
        "    mean_q, logvar_q = model.encode_q(x=x, y=y)                         # Infer z'_mean and z'_var by encoding x and y.\n",
        "    scale_q = EPS + tf.sqrt(tf.exp(logvar_q))                           # Fix to enable backpropagation.\n",
        "    \n",
        "    \n",
        "    \n",
        "    # print(np.mean(mean_r1))\n",
        "    \n",
        "    # Sample from the latent space. z from x and y.\n",
        "    mvn_q = tfp.distributions.MultivariateNormalDiag(\n",
        "                          loc=mean_q,\n",
        "                          scale_diag=scale_q)\n",
        "    \n",
        "    z_samp = mvn_q.sample()                                               # Sample z_samp from a multi-variate normal distribution (inferred from (x, y)).\n",
        "    \n",
        "    # print(z_samp)\n",
        "    # Take the latent sample and y to reconstruct x. Pr[x | y, z]\n",
        "    mean_r2, logvar_r2, logweight_r2 = model.decode_r2(y=y, z=z_samp)     # Decode (z_samp, y) to get predicted x'.\n",
        "    scale_r2 = EPS + tf.sqrt(tf.exp(logvar_r2))\n",
        "    \n",
        "    # This is a sample from x.\n",
        "    # print(\"Drawn f = \", np.mean(mean_r2), end=\", \")\n",
        "    \n",
        "    # Distribution for x. Pr[x | y, z]\n",
        "    mvn_r2 = tfd.MixtureSameFamily(mixture_distribution=tfd.Categorical(logits=logweight_r2),      # Sample predicted x'.\n",
        "            components_distribution=tfd.MultivariateNormalDiag(\n",
        "            loc=mean_r2,\n",
        "            scale_diag=scale_r2))\n",
        "    \n",
        "\n",
        "    # print(mean_r2.shape, old_old_x.shape)\n",
        "    \n",
        "    simple_cost_recon = -1.0*tf.reduce_mean(tf.reduce_sum(mvn_r2.log_prob(x)))                            # Calculate the odds of having the x_actual. Pr[x | y, z_samp].\n",
        "\n",
        "    # print(simple_cost_recon)\n",
        "    \n",
        "    selfent_q = -1.0*tf.reduce_mean(mvn_q.entropy())                                         # Self-entropy of q-encoder [(x, y) => z_samp]. H(z_samp(x, y)).\n",
        "    log_r1_q = gm_r1.log_prob(z_samp)   # evaluate the log prob of r1 at the q samples       # Pr[z_samp | x, y].\n",
        "    cost_KL = selfent_q - tf.reduce_mean(log_r1_q)                                           # KL-div with self-entropy - cross-entropy.\n",
        "    \n",
        "    # KL = H(z_samp(x, y)) - Pr[z_samp | x, y].\n",
        "    \n",
        "    \n",
        "    return simple_cost_recon, cost_KL"
      ],
      "metadata": {
        "id": "IWHHh5M9fsqH"
      },
      "execution_count": null,
      "outputs": []
    },
    {
      "cell_type": "code",
      "source": [
        "train_loss_metric = tf.keras.metrics.Mean('train_loss', dtype=tf.float32)\n",
        "\n",
        "@tf.function\n",
        "def train_step(model, x, y, optimizer, ramp=1.0):\n",
        "    \"\"\"Executes one training step and returns the loss.\n",
        "    This function computes the loss and gradients, and uses the latter to\n",
        "    update the model's parameters.\n",
        "    \"\"\"\n",
        "    with tf.GradientTape() as tape:\n",
        "        r_loss, kl_loss = compute_loss(model, x, y, ramp=ramp)\n",
        "        # r_loss, kl_loss = compute_loss(model, x, y)\n",
        "        loss = r_loss + ramp * kl_loss\n",
        "        \n",
        "    gradients = tape.gradient(loss, model.trainable_variables, unconnected_gradients=tf.UnconnectedGradients.ZERO)\n",
        "    optimizer.apply_gradients(zip(gradients, model.trainable_variables))\n",
        "    \n",
        "    train_loss_metric(loss)\n",
        "    \n",
        "    return r_loss, kl_loss, loss"
      ],
      "metadata": {
        "id": "6-GzauiEfujy"
      },
      "execution_count": null,
      "outputs": []
    },
    {
      "cell_type": "code",
      "source": [
        "\n",
        "epochs = 250\n",
        "ramp_start = 50\n",
        "ramp_length = 100\n",
        "\n",
        "\n",
        "ramp_cycles = 1\n",
        "ramp_list = [ramp_func(ep, ramp_start, ramp_length, ramp_cycles) for ep in np.arange(0, epochs, 1)]\n",
        "\n",
        "plt.plot(ramp_list)"
      ],
      "metadata": {
        "id": "i8R_-JNgyHMz"
      },
      "execution_count": null,
      "outputs": []
    },
    {
      "cell_type": "code",
      "source": [],
      "metadata": {
        "id": "yN8eylH606eK"
      },
      "execution_count": null,
      "outputs": []
    },
    {
      "cell_type": "code",
      "source": [
        "i = (25 - ramp_start) / (2.0 * ramp_length)\n",
        "\n",
        "print(i)\n",
        "# print(epoch,i)\n",
        "\n",
        "print(2.0 * np.remainder(i, 1.0))\n",
        "\n",
        "# if i < 0:\n",
        "#     return 0.0\n",
        "# if i >= n_cycles:\n",
        "#     return 1.0\n",
        "\n",
        "# return min(1.0, 2.0 * np.remainder(i, 1.0))"
      ],
      "metadata": {
        "id": "rSFRkpyzyZvb"
      },
      "execution_count": null,
      "outputs": []
    },
    {
      "cell_type": "code",
      "source": [
        "tf.random.set_seed(42)\n",
        "np.random.seed(42)\n",
        "\n",
        "\n",
        "\n",
        "# start the training loop\n",
        "train_loss = np.zeros((epochs, 3))\n",
        "test_loss = np.zeros((epochs, 3))\n",
        "\n",
        "KL_samples = []\n",
        "\n",
        "\n",
        "\n",
        "model = CVAE(x_dim=6, y_dim=1, n_channels=params['n_channels'], \\\n",
        "             z_dim=params['z_dim'], n_modes=1, params=params)\n",
        "\n",
        "model.compile()"
      ],
      "metadata": {
        "id": "ano40u3hfweq"
      },
      "execution_count": null,
      "outputs": []
    },
    {
      "cell_type": "code",
      "source": [
        "x_train_s[1:2,:,0].shape, y_train_s[1:2,:,:,0].shape"
      ],
      "metadata": {
        "id": "RKs_Xhymfxai"
      },
      "execution_count": null,
      "outputs": []
    },
    {
      "cell_type": "code",
      "source": [
        "model.encode_r1(y_train_s[1:2,:,:,0])"
      ],
      "metadata": {
        "id": "mE1dsqWVk3hv"
      },
      "execution_count": null,
      "outputs": []
    },
    {
      "cell_type": "code",
      "source": [
        "model.encode_q(x_train_s[1:2,:,0], y_train_s[1:2,:,:,0])"
      ],
      "metadata": {
        "id": "84wsMWc1k8Zr"
      },
      "execution_count": null,
      "outputs": []
    },
    {
      "cell_type": "code",
      "source": [
        "model.decode_r2(y_train_s[1:2,:,:,0], np.random.normal(0, 1, (1, params['z_dim'])))"
      ],
      "metadata": {
        "id": "r7GlLvcqlPK1"
      },
      "execution_count": null,
      "outputs": []
    },
    {
      "cell_type": "code",
      "source": [
        "x_train_s[1:2,:,0].shape, y_train_s[1:2,:,:,0].shape"
      ],
      "metadata": {
        "id": "eSIIopj_EWi-"
      },
      "execution_count": null,
      "outputs": []
    },
    {
      "cell_type": "code",
      "source": [
        "compute_loss(model, x_train_s[1:2,:,0], y_train_s[1:2,:,:,0])"
      ],
      "metadata": {
        "id": "V8Uf1mtbldn0"
      },
      "execution_count": null,
      "outputs": []
    },
    {
      "cell_type": "code",
      "source": [
        "ramp_grad = 0.025\n",
        "\n",
        "plt.plot([np.min([(epoch-ramp_start)*ramp_grad,1.0]) if epoch > ramp_start else 0.0 for epoch in range(0, epochs, 1)])"
      ],
      "metadata": {
        "id": "LvHTmwuFmUMW"
      },
      "execution_count": null,
      "outputs": []
    },
    {
      "cell_type": "code",
      "source": [
        "loss = tf.keras.metrics.Mean()\n",
        "\n",
        "print(\"Running with\", epochs, \"epochs.\")\n",
        "\n",
        "for epoch in range(1, epochs + 1):\n",
        "    temp_train_r_loss, temp_train_kl_loss, temp_train_loss = 0.0, 0.0, 0.0\n",
        "    temp_test_r_loss, temp_test_kl_loss, temp_test_loss = 0.0, 0.0, 0.0\n",
        "\n",
        "    \n",
        "    \n",
        "    current_ramp = (np.min([(epoch-ramp_start)*ramp_grad,1.0]).astype(np.single) if epoch>ramp_start else 0.0)\n",
        "    \n",
        "    # print(ramp)\n",
        "    \n",
        "    for step, (x_batch_train, y_batch_train) in train_dataset.enumerate():\n",
        "        x_b = x_batch_train[:,:,0]\n",
        "        # print(\"x_batch, y_batch\", x_b.shape, y_batch_train.shape)    \n",
        "        temp_train_r_loss, temp_train_kl_loss, temp_train_loss = train_step(model, x_b, y_batch_train, optimizer, ramp=current_ramp)\n",
        "        train_loss[epoch - 1, 0] += temp_train_r_loss / len(train_dataset)\n",
        "        train_loss[epoch - 1, 1] += temp_train_kl_loss / len(train_dataset)\n",
        "        train_loss[epoch - 1, 2] += temp_train_loss / len(train_dataset)\n",
        "        \n",
        "    for step, (x_batch_test, y_batch_test) in test_dataset.enumerate():\n",
        "        x_b_t = x_batch_test[:,:,0]\n",
        "        temp_test_r_loss, temp_test_kl_loss = compute_loss(model, x_b_t, y_batch_test)\n",
        "        test_loss[epoch - 1, 0] += temp_test_r_loss / len(test_dataset)\n",
        "        test_loss[epoch - 1, 1] += temp_test_kl_loss / len(test_dataset)\n",
        "        # test_loss[epoch - 1, 2] += temp_test_loss / len(test_dataset)\n",
        "    \n",
        "    if epoch % 10 == 0:\n",
        "        print(\"epoch = %d; train loss = %.4e, train KL = %.4e; train total: %.4e; test loss = %.4e, test KL = %.4e\" % \\\n",
        "              (epoch, train_loss[epoch - 1, 0], train_loss[epoch - 1, 1], train_loss[epoch - 1, 2], \\\n",
        "               test_loss[epoch - 1, 0], test_loss[epoch - 1, 1]))\n"
      ],
      "metadata": {
        "id": "kCq66Kobly49"
      },
      "execution_count": null,
      "outputs": []
    },
    {
      "cell_type": "code",
      "source": [
        "plt.figure(figsize=(10, 5), dpi=150)\n",
        "\n",
        "plt.subplot(121)\n",
        "plt.plot(train_loss[:,0], label=\"Train R Loss\")\n",
        "# plt.plot(test_loss[:,0], label=\"Test R Loss\")\n",
        "plt.plot(train_loss[:,1], label=\"Train KL Loss\")\n",
        "plt.plot(train_loss[:,2], label=\"Train Total Loss\")\n",
        "\n",
        "# plt.ylim(0, 0.1)\n",
        "\n",
        "plt.legend()\n",
        "# plt.yscale('log')\n",
        "\n",
        "plt.subplot(122)\n",
        "plt.plot(test_loss[:,0], label=\"Test R Loss\")\n",
        "plt.plot(test_loss[:,1], label=\"Test KL Loss\")\n",
        "\n",
        "# plt.ylim(0, 0.15)\n",
        "\n",
        "plt.legend()\n",
        "# plt.yscale('log')"
      ],
      "metadata": {
        "id": "7CONJyTtmIGt"
      },
      "execution_count": null,
      "outputs": []
    },
    {
      "cell_type": "code",
      "source": [
        "def gen_z_samples(model, x, y, nsamples=1000):\n",
        "    \n",
        "    y = y / params['y_normscale']\n",
        "    y = tf.tile(y,(nsamples, 1, 1))\n",
        "    x = tf.tile(x,(nsamples, 1))\n",
        "    \n",
        "    mean_r1, logvar_r1, logweight_r1 = model.encode_r1(y=y)\n",
        "    \n",
        "    scale_r1 = EPS + tf.sqrt(tf.exp(logvar_r1))\n",
        "    \n",
        "    gm_r1 = tfd.MixtureSameFamily(mixture_distribution=tfd.Categorical(logits=logweight_r1),\n",
        "            components_distribution=tfd.MultivariateNormalDiag(\n",
        "            loc=mean_r1,\n",
        "            scale_diag=scale_r1))\n",
        "    \n",
        "    z_samp_r1 = gm_r1.sample()\n",
        "    \n",
        "    mean_q, logvar_q = model.encode_q(x=x,y=y)\n",
        "    \n",
        "    scale_q = EPS + tf.sqrt(tf.exp(logvar_q))\n",
        "    mvn_q = tfp.distributions.MultivariateNormalDiag(\n",
        "                          loc=mean_q,\n",
        "                          scale_diag=scale_q)\n",
        "    \n",
        "    z_samp_q = mvn_q.sample()    \n",
        "    \n",
        "    return mean_r1, z_samp_r1, mean_q, z_samp_q"
      ],
      "metadata": {
        "id": "9BlnypwCFwEh"
      },
      "execution_count": null,
      "outputs": []
    },
    {
      "cell_type": "code",
      "source": [
        "def gen_samples(model, y, ramp=1.0, nsamples=100, max_samples=10):    # Generate samples from (test) y.\n",
        "\n",
        "    y = y\n",
        "    y = tf.tile(y, (max_samples, 1, 1, 1))\n",
        "    \n",
        "    samp_iterations = int(nsamples / max_samples)\n",
        "\n",
        "    print(\"samp_iterations\", samp_iterations)\n",
        "    \n",
        "    x_sample = []\n",
        "    for i in range(samp_iterations):\n",
        "        mean_r1, logvar_r1, logweight_r1 = model.encode_r1(y=y) # Encode y to get z.\n",
        "        scale_r1 = EPS + tf.sqrt(tf.exp(logvar_r1))\n",
        "        \n",
        "        gm_r1 = tfd.MixtureSameFamily(mixture_distribution=tfd.Categorical(logits=logweight_r1),\n",
        "            components_distribution=tfd.MultivariateNormalDiag(\n",
        "            loc=mean_r1,\n",
        "            scale_diag=scale_r1))\n",
        "        \n",
        "        z_samp = gm_r1.sample()   # Sample a z_samp.\n",
        "        \n",
        "        mean_r2, logvar_r2, logweight_r2 = model.decode_r2(z=z_samp,y=y)  # Decode (z_samp, y) => x\n",
        "        scale_r2 = EPS + tf.sqrt(tf.exp(logvar_r2))\n",
        "        \n",
        "        gm_r2 = tfd.MixtureSameFamily(mixture_distribution=tfd.Categorical(logits=logweight_r2),    \n",
        "            components_distribution=tfd.MultivariateNormalDiag(\n",
        "            loc=mean_r2,\n",
        "            scale_diag=scale_r2))\n",
        "\n",
        "        current_sample = gm_r2.sample()\n",
        "        # current_sample_inverse_transformed = x_scaler.inverse_transform(current_sample)\n",
        "\n",
        "        if i == 0:\n",
        "            x_sample = current_sample   # Sample an x.\n",
        "        else:\n",
        "            x_sample = tf.concat([x_sample, current_sample],axis=0)\n",
        "\n",
        "\n",
        "    return x_sample\n"
      ],
      "metadata": {
        "id": "xu5RKouJF0yU"
      },
      "execution_count": null,
      "outputs": []
    },
    {
      "cell_type": "code",
      "source": [
        "bounds = {'frequency_min': fmin, 'frequency_max': fmax}\n",
        "\n",
        "defaults_kwargs = dict(\n",
        "                    bins=50, smooth=0.9, label_kwargs=dict(fontsize=16),\n",
        "                    title_kwargs=dict(fontsize=16),\n",
        "                    truth_color='#4682b4', quantiles=[0.16, 0.84],\n",
        "                    levels=(0.68,0.90,0.95), density=True,\n",
        "                    plot_density=False, plot_datapoints=True,\n",
        "                    max_n_ticks=3)\n",
        "\n",
        "\n",
        "hist_kwargs = dict(density=True,color='tab:red')\n",
        "hist_kwargs_other = dict(density=True,color='tab:blue')"
      ],
      "metadata": {
        "id": "3TRdoujQF2dR"
      },
      "execution_count": null,
      "outputs": []
    },
    {
      "cell_type": "code",
      "source": [
        "plot_dir = \"./\"\n",
        "params['n_samples'] = 100\n",
        "\n",
        "run = plot_dir"
      ],
      "metadata": {
        "id": "ZN-P1UPxF6L1"
      },
      "execution_count": null,
      "outputs": []
    },
    {
      "cell_type": "code",
      "source": [
        "params['corner_labels'] = {'frequency': 'frequency', 'fdot': 'fdot', 'fdotdot': 'fdotdot', 'Omega': 'Omega', 'a_p': 'a_p', 'bin': 'bin'}"
      ],
      "metadata": {
        "id": "_Y1REeOXIyDD"
      },
      "execution_count": null,
      "outputs": []
    },
    {
      "cell_type": "code",
      "source": [
        "# invert_scaling(x, max_value, min_value)\n",
        "\n",
        "min_max_values = [(fmin, fmax), (f1min, f1max), (f2min, f2max), (omega_min, omega_max), (ap_min, ap_max), (0, 90)]\n",
        "\n",
        "min_max_values"
      ],
      "metadata": {
        "id": "PKTKnwmgiAFf"
      },
      "execution_count": null,
      "outputs": []
    },
    {
      "cell_type": "code",
      "source": [
        "def generate_posterior(dataset):\n",
        "\n",
        "  for step, (x_batch, y_batch) in dataset.enumerate():\n",
        "\n",
        "      if step > 1:\n",
        "        break\n",
        "\n",
        "      samples = gen_samples(model, y_batch, ramp=1.0, nsamples=params['n_samples'], max_samples=100)\n",
        "\n",
        "      print('Epoch: {}, run {} Testing time elapsed for {} samples.'.format(epoch,run,params['n_samples']))\n",
        "\n",
        "      # print(np.mean(samples), np.mean(x_truth))\n",
        "      # print(samples)\n",
        "\n",
        "      # x_truth = x_scaler.inverse_transform(x_batch)\n",
        "      # x_truth = np.expand_dims(x_scaler.inverse_transform(x_batch[:,:,0]), -1)\n",
        "\n",
        "      # x_batch[:,:-1]\n",
        "      x_truth = x_batch    # Exclude the very last parameter\n",
        "\n",
        "      # tf.reduce_mean(x_truth[:,:,0], axis=(0))\n",
        "\n",
        "      sample_mean = tf.math.reduce_mean(samples, axis=0)\n",
        "      sample_std = tf.math.reduce_std(samples, axis=0)\n",
        "      x_truth_mean = tf.math.reduce_mean(x_truth[:,:,0], axis=0)\n",
        "      x_truth_std = tf.math.reduce_std(x_truth[:,:,0], axis=0)\n",
        "\n",
        "      # print(type(sample_mean), type(x_truth_mean))\n",
        "      # diff = 100 * np.abs(sample_mean - x_truth_mean) / x_truth_mean\n",
        "      diff = -1\n",
        "\n",
        "      # print(\"Mean of sample = %.2f (%.2f); mean of truth = %.2f (%.2f); difference = %.2f percent.\" % (sample_mean, sample_std, x_truth_mean, x_truth_std, diff))\n",
        "      \n",
        "      # print(\"Mean of sample = \", end=\"\\t\")\n",
        "      # print(sample_mean)\n",
        "      # print(\" x truth mean = \", end=\"\\t\")\n",
        "      # print(x_truth_mean)\n",
        "      # print(\" diff = \", end=\"\\t\")\n",
        "      # print(diff)\n",
        "      \n",
        "\n",
        "      # print(params['corner_labels'])\n",
        "      # Get corner parnames to use in plotting labels\n",
        "      parnames = []\n",
        "      for k_idx, k in enumerate(params['rand_pars']):\n",
        "          # print(k_idx, k)\n",
        "          if np.isin(k, params['inf_pars']):\n",
        "              parnames.append(params['corner_labels'][k])\n",
        "\n",
        "      full_true_x = np.zeros(x_truth.shape[1:])\n",
        "      new_samples = np.zeros([samples.shape[0], len(params['inf_pars'])])\n",
        "\n",
        "      # print(full_true_x.shape)\n",
        "      # print(x_truth[0].shape)\n",
        "      for inf_par_idx, inf_par in enumerate(params['inf_pars']):\n",
        "        min_max_value = min_max_values[inf_par_idx]\n",
        "        # print(inf_par_idx)\n",
        "        new_samples[:,inf_par_idx] = invert_scaling(samples[:,inf_par_idx], min_max_value[0], min_max_value[1])\n",
        "        # print(min_max_value)\n",
        "        # print(new_samples[:,inf_par_idx][0:5])\n",
        "        # break\n",
        "        full_true_x[inf_par_idx] = invert_scaling(x_truth[0, inf_par_idx, 0], min_max_value[0], min_max_value[1])\n",
        "      \n",
        "      print(\"Full true x = \", full_true_x[:,0])\n",
        "      # plt.subplot(width, height, step + 1)\n",
        "      figure = corner.corner(new_samples, **defaults_kwargs,labels=parnames,\n",
        "                        color='tab:red',\n",
        "                        fill_contours=True, truths=full_true_x[:,0],\n",
        "                        show_titles=True, hist_kwargs=hist_kwargs)\n",
        "      \n",
        "      figure.suptitle(\" \".join([f\"{t:.2f}\" for t in full_true_x[:,0]]))\n",
        "\n",
        "      figure.set_tight_layout(True)"
      ],
      "metadata": {
        "id": "87p4II7XF6a5"
      },
      "execution_count": null,
      "outputs": []
    },
    {
      "cell_type": "code",
      "source": [
        "generate_posterior(train_dataset)"
      ],
      "metadata": {
        "id": "VRlfM4zNGJkr"
      },
      "execution_count": null,
      "outputs": []
    },
    {
      "cell_type": "code",
      "source": [
        "params['inf_pars']"
      ],
      "metadata": {
        "id": "H1uN0uQZjyas"
      },
      "execution_count": null,
      "outputs": []
    },
    {
      "cell_type": "code",
      "source": [
        "generate_posterior(test_dataset)"
      ],
      "metadata": {
        "id": "wvQmLTNTHK_K"
      },
      "execution_count": null,
      "outputs": []
    },
    {
      "cell_type": "code",
      "source": [
        "x_s.shape"
      ],
      "metadata": {
        "id": "47ytbwagZc5m"
      },
      "execution_count": null,
      "outputs": []
    },
    {
      "cell_type": "code",
      "source": [
        "for step, (x_batch, y_batch) in train_dataset.enumerate():\n",
        "\n",
        "  print(x_batch.shape)\n",
        "  print(x_batch[:,0,:])"
      ],
      "metadata": {
        "id": "aso1fe0iaghE"
      },
      "execution_count": null,
      "outputs": []
    },
    {
      "cell_type": "code",
      "source": [],
      "metadata": {
        "id": "fwpiX9DVakLg"
      },
      "execution_count": null,
      "outputs": []
    },
    {
      "cell_type": "code",
      "source": [
        "y_test_s[0,:,:,0].shape"
      ],
      "metadata": {
        "id": "NDOoRHHcazsB"
      },
      "execution_count": null,
      "outputs": []
    },
    {
      "cell_type": "code",
      "source": [
        "# samples = gen_samples(model, y_test_s, ramp=ramp, nsamples=params['n_samples'])"
      ],
      "metadata": {
        "id": "2UY-_TYqc1KG"
      },
      "execution_count": null,
      "outputs": []
    },
    {
      "cell_type": "code",
      "source": [
        "x_s.shape"
      ],
      "metadata": {
        "id": "AzPBfERvHi0v"
      },
      "execution_count": null,
      "outputs": []
    },
    {
      "cell_type": "code",
      "source": [
        "x_test_s[0,:,0]"
      ],
      "metadata": {
        "id": "Da8VIwKqU_1Z"
      },
      "execution_count": null,
      "outputs": []
    },
    {
      "cell_type": "code",
      "source": [
        "x_mean, x_var = x_scaler.mean_, x_scaler.var_"
      ],
      "metadata": {
        "id": "ccjQSDp-JDgx"
      },
      "execution_count": null,
      "outputs": []
    },
    {
      "cell_type": "code",
      "source": [
        "x_test_s[0,:,0] * np.sqrt(x_var) + x_mean"
      ],
      "metadata": {
        "id": "5-yAJVn_VMcx"
      },
      "execution_count": null,
      "outputs": []
    },
    {
      "cell_type": "code",
      "source": [
        "plt.pcolormesh(y_test_s[0,:,:,0])"
      ],
      "metadata": {
        "id": "a6hya2HWV2s1"
      },
      "execution_count": null,
      "outputs": []
    },
    {
      "cell_type": "code",
      "source": [
        "samples = gen_samples(model, tf.expand_dims(y_test_s[0], axis=0), ramp=ramp, nsamples=200)"
      ],
      "metadata": {
        "id": "TDyMVC4HJHm8"
      },
      "execution_count": null,
      "outputs": []
    },
    {
      "cell_type": "code",
      "source": [
        "import seaborn as sns"
      ],
      "metadata": {
        "id": "MDvAVTlRULhn"
      },
      "execution_count": null,
      "outputs": []
    },
    {
      "cell_type": "code",
      "source": [
        "sns.distplot(samples[:,0])"
      ],
      "metadata": {
        "id": "8fisfx5fSTYx"
      },
      "execution_count": null,
      "outputs": []
    },
    {
      "cell_type": "code",
      "source": [],
      "metadata": {
        "id": "EBSA_mMUSU2K"
      },
      "execution_count": null,
      "outputs": []
    }
  ]
}