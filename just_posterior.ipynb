{
  "nbformat": 4,
  "nbformat_minor": 0,
  "metadata": {
    "colab": {
      "provenance": [],
      "authorship_tag": "ABX9TyMDO35aWjIaQrQjxIuRJ9/Y",
      "include_colab_link": true
    },
    "kernelspec": {
      "name": "python3",
      "display_name": "Python 3"
    },
    "language_info": {
      "name": "python"
    }
  },
  "cells": [
    {
      "cell_type": "markdown",
      "metadata": {
        "id": "view-in-github",
        "colab_type": "text"
      },
      "source": [
        "<a href=\"https://colab.research.google.com/github/tripatheea/auto/blob/main/just_posterior.ipynb\" target=\"_parent\"><img src=\"https://colab.research.google.com/assets/colab-badge.svg\" alt=\"Open In Colab\"/></a>"
      ]
    },
    {
      "cell_type": "code",
      "execution_count": 2,
      "metadata": {
        "colab": {
          "base_uri": "https://localhost:8080/"
        },
        "id": "Niel0t6Ye_a0",
        "outputId": "05141184-2a0d-4c74-955f-58e59d408990"
      },
      "outputs": [
        {
          "output_type": "stream",
          "name": "stdout",
          "text": [
            "Looking in indexes: https://pypi.org/simple, https://us-python.pkg.dev/colab-wheels/public/simple/\n",
            "Requirement already satisfied: tensorflow-probability in /usr/local/lib/python3.8/dist-packages (0.17.0)\n",
            "Requirement already satisfied: numpy>=1.13.3 in /usr/local/lib/python3.8/dist-packages (from tensorflow-probability) (1.21.6)\n",
            "Requirement already satisfied: six>=1.10.0 in /usr/local/lib/python3.8/dist-packages (from tensorflow-probability) (1.15.0)\n",
            "Requirement already satisfied: decorator in /usr/local/lib/python3.8/dist-packages (from tensorflow-probability) (4.4.2)\n",
            "Requirement already satisfied: dm-tree in /usr/local/lib/python3.8/dist-packages (from tensorflow-probability) (0.1.8)\n",
            "Requirement already satisfied: absl-py in /usr/local/lib/python3.8/dist-packages (from tensorflow-probability) (1.3.0)\n",
            "Requirement already satisfied: gast>=0.3.2 in /usr/local/lib/python3.8/dist-packages (from tensorflow-probability) (0.4.0)\n",
            "Requirement already satisfied: cloudpickle>=1.3 in /usr/local/lib/python3.8/dist-packages (from tensorflow-probability) (2.2.0)\n",
            "Looking in indexes: https://pypi.org/simple, https://us-python.pkg.dev/colab-wheels/public/simple/\n",
            "Requirement already satisfied: imageio in /usr/local/lib/python3.8/dist-packages (2.9.0)\n",
            "Requirement already satisfied: pillow in /usr/local/lib/python3.8/dist-packages (from imageio) (7.1.2)\n",
            "Requirement already satisfied: numpy in /usr/local/lib/python3.8/dist-packages (from imageio) (1.21.6)\n",
            "Looking in indexes: https://pypi.org/simple, https://us-python.pkg.dev/colab-wheels/public/simple/\n",
            "Collecting git+https://github.com/tensorflow/docs\n",
            "  Cloning https://github.com/tensorflow/docs to /tmp/pip-req-build-sqgr8bea\n",
            "  Running command git clone --filter=blob:none --quiet https://github.com/tensorflow/docs /tmp/pip-req-build-sqgr8bea\n",
            "  Resolved https://github.com/tensorflow/docs to commit 8f431e2b96ebbebd325a7162a00c40653af799e5\n",
            "  Preparing metadata (setup.py) ... \u001b[?25l\u001b[?25hdone\n",
            "Requirement already satisfied: astor in /usr/local/lib/python3.8/dist-packages (from tensorflow-docs==0.0.0.dev0) (0.8.1)\n",
            "Requirement already satisfied: absl-py in /usr/local/lib/python3.8/dist-packages (from tensorflow-docs==0.0.0.dev0) (1.3.0)\n",
            "Requirement already satisfied: jinja2 in /usr/local/lib/python3.8/dist-packages (from tensorflow-docs==0.0.0.dev0) (2.11.3)\n",
            "Requirement already satisfied: nbformat in /usr/local/lib/python3.8/dist-packages (from tensorflow-docs==0.0.0.dev0) (5.7.1)\n",
            "Requirement already satisfied: protobuf<3.20,>=3.12.0 in /usr/local/lib/python3.8/dist-packages (from tensorflow-docs==0.0.0.dev0) (3.19.6)\n",
            "Requirement already satisfied: pyyaml in /usr/local/lib/python3.8/dist-packages (from tensorflow-docs==0.0.0.dev0) (6.0)\n",
            "Requirement already satisfied: MarkupSafe>=0.23 in /usr/local/lib/python3.8/dist-packages (from jinja2->tensorflow-docs==0.0.0.dev0) (2.0.1)\n",
            "Requirement already satisfied: jupyter-core in /usr/local/lib/python3.8/dist-packages (from nbformat->tensorflow-docs==0.0.0.dev0) (5.1.3)\n",
            "Requirement already satisfied: fastjsonschema in /usr/local/lib/python3.8/dist-packages (from nbformat->tensorflow-docs==0.0.0.dev0) (2.16.2)\n",
            "Requirement already satisfied: jsonschema>=2.6 in /usr/local/lib/python3.8/dist-packages (from nbformat->tensorflow-docs==0.0.0.dev0) (4.3.3)\n",
            "Requirement already satisfied: traitlets>=5.1 in /usr/local/lib/python3.8/dist-packages (from nbformat->tensorflow-docs==0.0.0.dev0) (5.7.1)\n",
            "Requirement already satisfied: importlib-resources>=1.4.0 in /usr/local/lib/python3.8/dist-packages (from jsonschema>=2.6->nbformat->tensorflow-docs==0.0.0.dev0) (5.10.2)\n",
            "Requirement already satisfied: attrs>=17.4.0 in /usr/local/lib/python3.8/dist-packages (from jsonschema>=2.6->nbformat->tensorflow-docs==0.0.0.dev0) (22.2.0)\n",
            "Requirement already satisfied: pyrsistent!=0.17.0,!=0.17.1,!=0.17.2,>=0.14.0 in /usr/local/lib/python3.8/dist-packages (from jsonschema>=2.6->nbformat->tensorflow-docs==0.0.0.dev0) (0.19.3)\n",
            "Requirement already satisfied: platformdirs>=2.5 in /usr/local/lib/python3.8/dist-packages (from jupyter-core->nbformat->tensorflow-docs==0.0.0.dev0) (2.6.2)\n",
            "Requirement already satisfied: zipp>=3.1.0 in /usr/local/lib/python3.8/dist-packages (from importlib-resources>=1.4.0->jsonschema>=2.6->nbformat->tensorflow-docs==0.0.0.dev0) (3.11.0)\n",
            "Building wheels for collected packages: tensorflow-docs\n",
            "  Building wheel for tensorflow-docs (setup.py) ... \u001b[?25l\u001b[?25hdone\n",
            "  Created wheel for tensorflow-docs: filename=tensorflow_docs-0.0.0.dev0-py3-none-any.whl size=184468 sha256=3d8c6abc8bc701d01c0b506d2f599b7974871f77ef7c908dd1653ccfb1b40c3e\n",
            "  Stored in directory: /tmp/pip-ephem-wheel-cache-4gkk74px/wheels/3b/ee/a2/ab4d36a9a4af495bcb936f3e849d4b497b65fa40548a68d6c3\n",
            "Successfully built tensorflow-docs\n",
            "Installing collected packages: tensorflow-docs\n",
            "Successfully installed tensorflow-docs-0.0.0.dev0\n"
          ]
        }
      ],
      "source": [
        "! pip install tensorflow-probability\n",
        "\n",
        "# to generate gifs\n",
        "! pip install imageio\n",
        "! pip install git+https://github.com/tensorflow/docs"
      ]
    },
    {
      "cell_type": "code",
      "source": [
        "from IPython import display\n",
        "\n",
        "import glob\n",
        "import imageio\n",
        "import matplotlib.pyplot as plt\n",
        "import numpy as np\n",
        "import PIL\n",
        "import tensorflow as tf\n",
        "import tensorflow_probability as tfp\n",
        "import time\n",
        "\n",
        "from tensorflow.python.framework.ops import disable_eager_execution, enable_eager_execution"
      ],
      "metadata": {
        "id": "j1LCh9FufCHN"
      },
      "execution_count": 3,
      "outputs": []
    },
    {
      "cell_type": "code",
      "source": [
        "# import keras\n",
        "# from keras import Model\n",
        "# from keras.layers import Input, Conv2D, MaxPooling2D, UpSampling2D, Concatenate, Reshape, Dense, Lambda, Flatten\n",
        "# from keras import backend as K\n",
        "\n",
        "import warnings\n",
        "warnings.filterwarnings('ignore')\n",
        "import numpy as np\n",
        "import glob\n",
        "import skimage\n",
        "import skimage.transform\n",
        "import skimage.io\n",
        "import PIL\n",
        "import numpy as np\n",
        "import os\n",
        "from IPython.display import clear_output\n",
        "import pandas as pd\n",
        "import matplotlib.pyplot as plt\n",
        "%matplotlib inline\n",
        "from ipywidgets import interact, interactive, fixed, interact_manual\n",
        "import ipywidgets as widgets\n",
        "import imageio\n",
        "# import utils"
      ],
      "metadata": {
        "id": "tVaauFC-fDYD"
      },
      "execution_count": 4,
      "outputs": []
    },
    {
      "cell_type": "code",
      "source": [
        "! pip install corner"
      ],
      "metadata": {
        "colab": {
          "base_uri": "https://localhost:8080/"
        },
        "id": "gFlwAnf6I2hf",
        "outputId": "ad5f395f-3264-4fab-d771-27f2439763f2"
      },
      "execution_count": 235,
      "outputs": [
        {
          "output_type": "stream",
          "name": "stdout",
          "text": [
            "Looking in indexes: https://pypi.org/simple, https://us-python.pkg.dev/colab-wheels/public/simple/\n",
            "Collecting corner\n",
            "  Downloading corner-2.2.1-py3-none-any.whl (15 kB)\n",
            "Requirement already satisfied: matplotlib>=2.1 in /usr/local/lib/python3.8/dist-packages (from corner) (3.2.2)\n",
            "Requirement already satisfied: kiwisolver>=1.0.1 in /usr/local/lib/python3.8/dist-packages (from matplotlib>=2.1->corner) (1.4.4)\n",
            "Requirement already satisfied: pyparsing!=2.0.4,!=2.1.2,!=2.1.6,>=2.0.1 in /usr/local/lib/python3.8/dist-packages (from matplotlib>=2.1->corner) (3.0.9)\n",
            "Requirement already satisfied: numpy>=1.11 in /usr/local/lib/python3.8/dist-packages (from matplotlib>=2.1->corner) (1.21.6)\n",
            "Requirement already satisfied: cycler>=0.10 in /usr/local/lib/python3.8/dist-packages (from matplotlib>=2.1->corner) (0.11.0)\n",
            "Requirement already satisfied: python-dateutil>=2.1 in /usr/local/lib/python3.8/dist-packages (from matplotlib>=2.1->corner) (2.8.2)\n",
            "Requirement already satisfied: six>=1.5 in /usr/local/lib/python3.8/dist-packages (from python-dateutil>=2.1->matplotlib>=2.1->corner) (1.15.0)\n",
            "Installing collected packages: corner\n",
            "Successfully installed corner-2.2.1\n"
          ]
        }
      ]
    },
    {
      "cell_type": "code",
      "source": [
        "import corner"
      ],
      "metadata": {
        "id": "humASsJJI373"
      },
      "execution_count": 236,
      "outputs": []
    },
    {
      "cell_type": "code",
      "source": [
        "enable_eager_execution()"
      ],
      "metadata": {
        "id": "F8zKLspGfETx"
      },
      "execution_count": 5,
      "outputs": []
    },
    {
      "cell_type": "code",
      "source": [
        "WIDTH = 48"
      ],
      "metadata": {
        "id": "xCAiw4XLfFMD"
      },
      "execution_count": 510,
      "outputs": []
    },
    {
      "cell_type": "code",
      "source": [
        "import numpy as np\n",
        "import matplotlib.pyplot as plt\n",
        "\n",
        "import time\n",
        "from tensorflow.keras import regularizers\n",
        "import tensorflow.keras.initializers\n",
        "\n",
        "def\tMakeSpectrogram(f_sig = 100., bandwidth = 0.25, Tobs_hr = 24., Tcoh_hr = .25, \n",
        "\t\thnoise = 100., hamp = .4, fsamp = 512., fdot_sig = -1e-6, \n",
        "\t\tplot_num = 0, plot = False, write_to_file = False):\n",
        "\t\n",
        "\t##### Defining Variables #####\n",
        "\t# f_sig     --- signal central frequency, hz\n",
        "\t# bandwidth --- bandwidth of search, width of each freq, hz\n",
        "\t# Tobs_hr   --- Length of observation, hrs\n",
        "\t# Tcoh_hr   --- Coherence time, hrs\n",
        "\t# hnoise    --- noise amplitude\n",
        "\t# hamp      --- signal amplitude\n",
        "\t# fsamp     --- sampling frequency, hz\n",
        "\t# fdot_sig  --- Signal frequency derivative \n",
        "\t# plot_num  --- if multiple files is an index\n",
        "\t# whereto   --- Where to save plot\n",
        "\t\n",
        "\t##### Booleans ####\n",
        "\t# plot      \t--- whether or not to plot\n",
        "\t# write_to_file --- whether to save data to .txt file\n",
        "\n",
        "\t#### Returns ####\n",
        "\t# frequency \n",
        "\t# time\n",
        "\t# spectrogram\n",
        "\n",
        "\t# Define constants\n",
        "\tSECS_PER_HOUR = 3600\n",
        "\t\n",
        "\t# Find amplitude spectral density for noise\n",
        "\tnoiseamp = hnoise*np.sqrt(4./fsamp) \n",
        "\t\n",
        "\t\n",
        "\t# Convert observation and coherence time to seconds\n",
        "\tTobs = Tobs_hr * SECS_PER_HOUR\n",
        "\tTcoh = Tcoh_hr * SECS_PER_HOUR\n",
        "\n",
        "\t# Find low and high frequency\n",
        "\tfreqlo_approx = f_sig - 0.5 * bandwidth\n",
        "\tfreqlo = np.floor(freqlo_approx * Tcoh) / Tcoh\n",
        "\tfreqhi = freqlo + bandwidth\n",
        "\n",
        "\t# Define time series to hold raw data stream of signal + noise\n",
        "\tdeltat = 1. / fsamp\n",
        "\tt = np.arange(0,Tobs,deltat)\n",
        "\tNsample = len(t)\n",
        "\t# print ('Nsample = %i'%len(t))\n",
        "\t\n",
        "\t# Generate signal in the time domain\n",
        "\tnoise = noiseamp * np.random.normal(0, scale = 1, size = (Nsample,))\n",
        "\tsignal = hamp * np.sin(2 * np.pi * (f_sig * t + .5 * fdot_sig * t**2))\n",
        "\n",
        "\tdata = signal + noise\n",
        "\n",
        "\t# Generate spectra for each coherence time & extract band of interest to make spectrogram\n",
        "\tindbandlo = int(np.floor(freqlo * Tcoh))\n",
        "\tindbandhi = int(np.floor(freqhi * Tcoh))\n",
        "\tnbandbin  = indbandhi - indbandlo\n",
        "\tNseg = int(np.floor(Tobs / Tcoh))\n",
        "\tNsample_coh = int(np.floor(Nsample / Nseg))\n",
        "\tspectrogram = np.zeros((nbandbin,Nseg),)\t\n",
        "\t# print( np.shape(spectrogram) )\n",
        "\t\n",
        "\tfor seg in range(Nseg):\n",
        "\t\t# print('Generating segment %d\\n'%(seg))\n",
        "\t\tindlo = seg * Nsample_coh\n",
        "\t\tindhi = indlo + Nsample_coh \n",
        "\t\tsegment = data[indlo:indhi]\n",
        "\t\t\n",
        "\t\trawfft = np.fft.fft(segment,Nsample_coh, axis = 0)\n",
        "\t\tspectrogram[:,seg] = 2 * abs(rawfft[indbandlo:indbandhi])\n",
        "\t\t\n",
        "\tsegarray = np.arange(0,Nseg)\n",
        "\tseghour = (segarray) * Tcoh / SECS_PER_HOUR\n",
        "\tindarray = np.arange(indbandlo,indbandhi + 1)\n",
        "\tfreqplot = (indarray - indbandlo)*1.0/Tcoh + freqlo\t\n",
        "  \n",
        "\tif plot:\n",
        "\t\tplt.clf()\n",
        "\t\t# print('Plotting spectrogram')\n",
        "\t\t\n",
        "\t\tplt.pcolormesh(seghour, freqplot, spectrogram)\n",
        "\t\tplt.ylabel('Frequency [Hz]')\n",
        "\t\tplt.xlabel('Time [Hours]')\n",
        "  \n",
        "  \n",
        "\treturn(seghour, freqplot, spectrogram)\n",
        "\n"
      ],
      "metadata": {
        "id": "uQxcvbBNfF76"
      },
      "execution_count": 978,
      "outputs": []
    },
    {
      "cell_type": "code",
      "source": [
        "def fix_dims_and_normalize(s):\n",
        "  \n",
        "  s = np.pad(s, ((0, WIDTH - s.shape[0]), (0, WIDTH - s.shape[1])))\n",
        "\n",
        "  # return (s - np.min(s)) / (np.max(s) - np.min(s))\n",
        "  return s"
      ],
      "metadata": {
        "id": "6AiICvfjfGgR"
      },
      "execution_count": 984,
      "outputs": []
    },
    {
      "cell_type": "code",
      "source": [
        "bandwidth = 0.054\n",
        "f_sig = 3"
      ],
      "metadata": {
        "id": "fWru13CRfHM6"
      },
      "execution_count": 985,
      "outputs": []
    },
    {
      "cell_type": "code",
      "source": [
        "t, f, spec = MakeSpectrogram(f_sig = np.random.uniform(f_sig - 0.5 * bandwidth, f_sig + 0.5 * bandwidth), bandwidth = bandwidth, Tobs_hr = 12., Tcoh_hr = .25, \n",
        "              hnoise = np.random.uniform(0.0, 0.001), hamp = np.random.uniform(0.1, 0.5), fsamp = 128., fdot_sig = np.random.choice([-1, 1]) * 10**np.random.uniform(-6, -7), \n",
        "              plot_num = 0, plot = True, write_to_file = False)"
      ],
      "metadata": {
        "colab": {
          "base_uri": "https://localhost:8080/",
          "height": 279
        },
        "id": "F4Jf6CI8fJu6",
        "outputId": "c4e220a9-5840-4cb3-ec49-e874c89df73f"
      },
      "execution_count": 986,
      "outputs": [
        {
          "output_type": "display_data",
          "data": {
            "text/plain": [
              "<Figure size 432x288 with 1 Axes>"
            ],
            "image/png": "[encoded data removed]"
          },
          "metadata": {
            "needs_background": "light"
          }
        }
      ]
    },
    {
      "cell_type": "code",
      "source": [
        "spec.shape"
      ],
      "metadata": {
        "colab": {
          "base_uri": "https://localhost:8080/"
        },
        "id": "aJCAHovxQknn",
        "outputId": "1285045d-1ff0-4926-92bf-d64c13c40646"
      },
      "execution_count": 987,
      "outputs": [
        {
          "output_type": "execute_result",
          "data": {
            "text/plain": [
              "(48, 48)"
            ]
          },
          "metadata": {},
          "execution_count": 987
        }
      ]
    },
    {
      "cell_type": "code",
      "source": [
        "all_specs = []\n",
        "N = 50\n",
        "\n",
        "x_s = []\n",
        "for i in range(N):\n",
        "  # t, f, spec = MakeSpectrogram(f_sig = np.random.random() * 100., bandwidth = 0.05, Tobs_hr = 12., Tcoh_hr = .25, \n",
        "  #             hnoise = 100. + (1 - 2 * np.random.random() * 10.), hamp = .4, fsamp = 128., fdot_sig = -1e-6, \n",
        "  #             plot_num = 0, plot = True, write_to_file = False)\n",
        "  freq = np.random.uniform(f_sig - 0.5 * bandwidth, f_sig + 0.5 * bandwidth)\n",
        "  spindown = np.random.choice([-1, 1]) * 10**np.random.uniform(-6, -7)\n",
        "  t, f, spec = MakeSpectrogram(f_sig = freq, bandwidth = bandwidth, Tobs_hr = 12., Tcoh_hr = .25, \n",
        "            hnoise = np.random.uniform(0.0, 0.001), hamp = np.random.uniform(0.1, 0.5), fsamp = 128., fdot_sig = spindown, \n",
        "            plot_num = 0, plot = True, write_to_file = False)\n",
        "  \n",
        "  scaler = StandardScaler()\n",
        "  spec = scaler.fit_transform(spec)\n",
        "\n",
        "  r = fix_dims_and_normalize(np.copy(spec))\n",
        "\n",
        "  # print(r.shape)\n",
        "  all_specs.append(r)\n",
        "  x_s.append((freq, spindown))\n",
        "\n",
        "  if (i % 100) == 0:\n",
        "    print(f\"i = {i}\")\n",
        "\n",
        "all_specs = np.asanyarray(all_specs)\n",
        "\n",
        "size = len(all_specs)\n",
        "\n",
        "print(all_specs.shape)"
      ],
      "metadata": {
        "colab": {
          "base_uri": "https://localhost:8080/",
          "height": 314
        },
        "id": "LB-D6wcFfKYT",
        "outputId": "9faa6dfc-afb3-4ca4-a7d3-e2fe79d58031"
      },
      "execution_count": 992,
      "outputs": [
        {
          "output_type": "stream",
          "name": "stdout",
          "text": [
            "i = 0\n",
            "(50, 48, 48)\n"
          ]
        },
        {
          "output_type": "display_data",
          "data": {
            "text/plain": [
              "<Figure size 432x288 with 1 Axes>"
            ],
            "image/png": "[encoded data removed]"
          },
          "metadata": {
            "needs_background": "light"
          }
        }
      ]
    },
    {
      "cell_type": "code",
      "source": [
        "all_specs[0,:,:]"
      ],
      "metadata": {
        "colab": {
          "base_uri": "https://localhost:8080/"
        },
        "id": "l3whEmiRUEHy",
        "outputId": "231a0a7f-8276-45a3-96ff-35690e635bdb"
      },
      "execution_count": 993,
      "outputs": [
        {
          "output_type": "execute_result",
          "data": {
            "text/plain": [
              "array([[-0.43672241, -0.27700236, -0.29579761, ..., -0.391726  ,\n",
              "        -0.17269804, -0.39971669],\n",
              "       [-0.43230967, -0.27515724, -0.29374864, ..., -0.39039688,\n",
              "        -0.17262672, -0.39836792],\n",
              "       [-0.42757204, -0.27312454, -0.29152388, ..., -0.38898159,\n",
              "        -0.17259494, -0.39693052],\n",
              "       ...,\n",
              "       [-0.41753595, -0.26652834, -0.28204037, ..., -0.05474888,\n",
              "        -0.15306035,  0.01208701],\n",
              "       [-0.42321797, -0.26912672, -0.28506756, ..., -0.11654341,\n",
              "        -0.15809837, -0.07053158],\n",
              "       [-0.42845155, -0.27143207, -0.28783626, ..., -0.16140054,\n",
              "        -0.16119663, -0.1282054 ]])"
            ]
          },
          "metadata": {},
          "execution_count": 993
        }
      ]
    },
    {
      "cell_type": "code",
      "source": [
        "plt.pcolormesh(all_specs[0,:,:])"
      ],
      "metadata": {
        "colab": {
          "base_uri": "https://localhost:8080/",
          "height": 282
        },
        "id": "Hn7qBFgvUt6U",
        "outputId": "a0a80242-ede0-4ccf-8d32-2884fad0f19e"
      },
      "execution_count": 994,
      "outputs": [
        {
          "output_type": "execute_result",
          "data": {
            "text/plain": [
              "<matplotlib.collections.QuadMesh at 0x7fcb5e9197f0>"
            ]
          },
          "metadata": {},
          "execution_count": 994
        },
        {
          "output_type": "display_data",
          "data": {
            "text/plain": [
              "<Figure size 432x288 with 1 Axes>"
            ],
            "image/png": "[encoded data removed]"
          },
          "metadata": {
            "needs_background": "light"
          }
        }
      ]
    },
    {
      "cell_type": "code",
      "source": [],
      "metadata": {
        "id": "lQ9ON-EiWyeE"
      },
      "execution_count": 994,
      "outputs": []
    },
    {
      "cell_type": "code",
      "source": [
        "# all_specs"
      ],
      "metadata": {
        "id": "O2Qv7CWXUzuI"
      },
      "execution_count": 995,
      "outputs": []
    },
    {
      "cell_type": "code",
      "source": [
        "x_s = np.asanyarray(x_s)\n",
        "\n",
        "x_s.shape"
      ],
      "metadata": {
        "colab": {
          "base_uri": "https://localhost:8080/"
        },
        "id": "YB2UNWVZfLAr",
        "outputId": "0b4a42fa-8be1-4afb-d6e7-e5c220c228d1"
      },
      "execution_count": 996,
      "outputs": [
        {
          "output_type": "execute_result",
          "data": {
            "text/plain": [
              "(50, 2)"
            ]
          },
          "metadata": {},
          "execution_count": 996
        }
      ]
    },
    {
      "cell_type": "code",
      "source": [
        "from sklearn.preprocessing import StandardScaler"
      ],
      "metadata": {
        "id": "J9mz5l0CENEv"
      },
      "execution_count": 997,
      "outputs": []
    },
    {
      "cell_type": "code",
      "source": [
        "x_scaler = StandardScaler()\n",
        "scaled_x_s = x_scaler.fit_transform(x_s)"
      ],
      "metadata": {
        "id": "QGO1G71lEN66"
      },
      "execution_count": 998,
      "outputs": []
    },
    {
      "cell_type": "code",
      "source": [
        "# scaled_x_s"
      ],
      "metadata": {
        "id": "ZIY2BcJENA5t"
      },
      "execution_count": 1001,
      "outputs": []
    },
    {
      "cell_type": "code",
      "source": [
        "from sklearn.model_selection import train_test_split"
      ],
      "metadata": {
        "id": "1awoW1c4fL8d"
      },
      "execution_count": 900,
      "outputs": []
    },
    {
      "cell_type": "code",
      "source": [
        "# x_train_s, x_test_s, y_train_s, y_test_s = train_test_split(x_s, all_specs, test_size=0.2, random_state=42)\n",
        "\n",
        "x_train_s, x_test_s, y_train_s, y_test_s = train_test_split(scaled_x_s, all_specs, test_size=0.2, random_state=42)\n",
        "x_test_s, x_val_s, y_test_s, y_val_s = train_test_split(x_test_s, y_test_s, test_size=0.5, random_state=26)\n",
        "\n",
        "x_train_s.shape"
      ],
      "metadata": {
        "colab": {
          "base_uri": "https://localhost:8080/"
        },
        "id": "xRHDJExafMnZ",
        "outputId": "5cc40eeb-0693-4f07-9b27-8ae914068b9a"
      },
      "execution_count": 1002,
      "outputs": [
        {
          "output_type": "execute_result",
          "data": {
            "text/plain": [
              "(40, 2)"
            ]
          },
          "metadata": {},
          "execution_count": 1002
        }
      ]
    },
    {
      "cell_type": "code",
      "source": [
        "x_train_s = np.expand_dims(x_train_s, -1)\n",
        "x_test_s = np.expand_dims(x_test_s, -1)\n",
        "x_val_s = np.expand_dims(x_val_s, -1)\n",
        "\n",
        "y_train_s = np.expand_dims(y_train_s, -1)\n",
        "y_test_s = np.expand_dims(y_test_s, -1)\n",
        "y_val_s = np.expand_dims(y_val_s, -1)\n",
        "\n",
        "x_train_s.shape"
      ],
      "metadata": {
        "colab": {
          "base_uri": "https://localhost:8080/"
        },
        "id": "khtgnkPSfNKW",
        "outputId": "7988f74f-0233-477b-c3a0-7b960559b907"
      },
      "execution_count": 1003,
      "outputs": [
        {
          "output_type": "execute_result",
          "data": {
            "text/plain": [
              "(40, 2, 1)"
            ]
          },
          "metadata": {},
          "execution_count": 1003
        }
      ]
    },
    {
      "cell_type": "code",
      "source": [
        "def convert_to_tensor_utility(x):\n",
        "    return tf.convert_to_tensor(x, dtype=tf.float32)\n",
        "\n",
        " \n",
        "x_train_s, y_train_s, x_test_s, y_test_s, x_val_s, y_val_s = tuple(map(convert_to_tensor_utility, [x_train_s, y_train_s, x_test_s, y_test_s, x_val_s, y_val_s]))"
      ],
      "metadata": {
        "id": "A_SYaXR0fNw6"
      },
      "execution_count": 1004,
      "outputs": []
    },
    {
      "cell_type": "code",
      "source": [
        "x_train_s.shape, y_train_s.shape"
      ],
      "metadata": {
        "colab": {
          "base_uri": "https://localhost:8080/"
        },
        "id": "83U5j4OvfOhR",
        "outputId": "99ec3931-0fc9-4072-ca01-ca96ebc2167c"
      },
      "execution_count": 1005,
      "outputs": [
        {
          "output_type": "execute_result",
          "data": {
            "text/plain": [
              "(TensorShape([40, 2, 1]), TensorShape([40, 48, 48, 1]))"
            ]
          },
          "metadata": {},
          "execution_count": 1005
        }
      ]
    },
    {
      "cell_type": "code",
      "source": [
        "y_train_s.shape, y_test_s.shape, y_val_s.shape"
      ],
      "metadata": {
        "colab": {
          "base_uri": "https://localhost:8080/"
        },
        "id": "6ISRpQCGfPUn",
        "outputId": "7f6ba331-696b-428b-ff45-7d3d1de7ae08"
      },
      "execution_count": 1006,
      "outputs": [
        {
          "output_type": "execute_result",
          "data": {
            "text/plain": [
              "(TensorShape([40, 48, 48, 1]),\n",
              " TensorShape([5, 48, 48, 1]),\n",
              " TensorShape([5, 48, 48, 1]))"
            ]
          },
          "metadata": {},
          "execution_count": 1006
        }
      ]
    },
    {
      "cell_type": "code",
      "source": [
        "# y_train_s"
      ],
      "metadata": {
        "id": "Iz2Xmky8GKQZ"
      },
      "execution_count": 1014,
      "outputs": []
    },
    {
      "cell_type": "code",
      "source": [
        "batch_size = 8"
      ],
      "metadata": {
        "id": "Rrg7Fa14fn9R"
      },
      "execution_count": 1015,
      "outputs": []
    },
    {
      "cell_type": "code",
      "source": [
        "train_dataset = tf.data.Dataset.from_tensor_slices((x_train_s, y_train_s)).batch(batch_size)\n",
        "test_dataset = tf.data.Dataset.from_tensor_slices((x_test_s, y_test_s)).batch(batch_size)\n",
        "val_dataset = tf.data.Dataset.from_tensor_slices((x_val_s, y_val_s)).batch(batch_size)"
      ],
      "metadata": {
        "id": "dGo6GUkJfoqz"
      },
      "execution_count": 1016,
      "outputs": []
    },
    {
      "cell_type": "code",
      "source": [
        "params = dict()\n",
        "\n",
        "params['z_dim'] = 32\n",
        "params['n_modes'] = 1\n",
        "params['n_channels'] = 1\n",
        "params['ramp_start'] = 10\n",
        "params['ramp_end'] = 20\n",
        "params['y_normscale'] = 1.0\n",
        "\n",
        "params['rand_pars'] = ['frequency', 'fdot']\n",
        "params['inf_pars'] = ['frequency', 'fdot']\n"
      ],
      "metadata": {
        "id": "p1znqNWCfpPr"
      },
      "execution_count": 1017,
      "outputs": []
    },
    {
      "cell_type": "code",
      "source": [
        "def ramp_func(epoch,start,ramp_length, n_cycles):\n",
        "    i = (epoch - start) / (2.0 * ramp_length)\n",
        "    print(epoch,i)\n",
        "    \n",
        "    if i < 0:\n",
        "        return 0.0\n",
        "    if i >= n_cycles:\n",
        "        return 1.0\n",
        "    \n",
        "    return min(1.0, 2.0 * np.remainder(i, 1.0))\n",
        "\n",
        "optimizer = tf.keras.optimizers.Adam(1e-4)\n",
        "initializer = tf.keras.initializers.GlorotUniform()"
      ],
      "metadata": {
        "id": "sLt_iTgrfqqE"
      },
      "execution_count": 1018,
      "outputs": []
    },
    {
      "cell_type": "code",
      "source": [
        "def define_encoder_block(x, num_filters):  \n",
        "    \"\"\"\n",
        "    Todo: Define two sequential 2D convolutional layers (Conv2D) with the following properties:\n",
        "          - num_filters many filters\n",
        "          - kernel_size 3\n",
        "          - activation \"relu\"\n",
        "          - padding \"same\"\n",
        "          - kernel_initializer \"he_normal\"\n",
        "          Also define a 2D max pooling layer (MaxPooling2D) (you can keep default arguments).\n",
        "    \"\"\"\n",
        "    x = tf.keras.layers.Conv2D(num_filters, 3, activation='relu', padding='same', kernel_initializer='he_normal')(x)\n",
        "    x = tf.keras.layers.Conv2D(num_filters, 3, activation='relu', padding='same', kernel_initializer='he_normal')(x)\n",
        "    x = tf.keras.layers..BatchNormalization(name='bn_1')(x)\n",
        "    x = tf.keras.layers.MaxPooling2D()(x)\n",
        "    return x"
      ],
      "metadata": {
        "colab": {
          "base_uri": "https://localhost:8080/",
          "height": 133
        },
        "id": "u1gB6LC_geQz",
        "outputId": "540b0353-5bc2-47a1-8a26-d612d9b9b5a4"
      },
      "execution_count": 1019,
      "outputs": [
        {
          "output_type": "error",
          "ename": "SyntaxError",
          "evalue": "ignored",
          "traceback": [
            "\u001b[0;36m  File \u001b[0;32m\"<ipython-input-1019-768093f16fb2>\"\u001b[0;36m, line \u001b[0;32m13\u001b[0m\n\u001b[0;31m    x = tf.keras.layers..BatchNormalization(name='bn_1')(x)\u001b[0m\n\u001b[0m                        ^\u001b[0m\n\u001b[0;31mSyntaxError\u001b[0m\u001b[0;31m:\u001b[0m invalid syntax\n"
          ]
        }
      ]
    },
    {
      "cell_type": "code",
      "source": [
        "class CVAE(tf.keras.Model):\n",
        "    \"\"\"Convolutional variational autoencoder.\"\"\"\n",
        "\n",
        "    def __init__(self, x_dim, y_dim, n_channels, z_dim, n_modes, params):\n",
        "        super(CVAE, self).__init__()\n",
        "        self.z_dim = z_dim\n",
        "        self.n_modes = n_modes\n",
        "        self.x_modes = 1   # hardcoded for testing\n",
        "        self.x_dim = x_dim\n",
        "        self.y_dim = y_dim\n",
        "        self.n_channels = n_channels\n",
        "        self.act = tf.keras.layers.LeakyReLU(alpha=0.01)\n",
        "        self.params = params\n",
        "        self.reg = regularizers.l2(0.001)\n",
        "\n",
        "\n",
        "        start_filters = 8\n",
        "\n",
        "        \"\"\"\n",
        "        # Add this to get rid of regularizer\n",
        "        a2 = tf.keras.layers.Dense(2*self.z_dim*self.n_modes + self.n_modes)(a2)\n",
        "        self.encoder_r1 = tf.keras.Model(inputs=r1_input_y, outputs=a2)\n",
        "        print(self.encoder_r1.summary())\n",
        "        \"\"\"\n",
        "        \n",
        "        # the r1 encoder network- r1_encoder(y) = z'.\n",
        "\n",
        "        r1_input_y = tf.keras.Input(shape=(WIDTH, WIDTH, 1))\n",
        "\n",
        "        eblock1 = define_encoder_block(r1_input_y, start_filters)\n",
        "        eblock2 = define_encoder_block(eblock1, start_filters*2)\n",
        "        eblock3 = define_encoder_block(eblock2, start_filters*4)\n",
        "        eblock4 = define_encoder_block(eblock3, start_filters*8)\n",
        "        eblock4 = define_encoder_block(eblock4, start_filters*8)\n",
        "        # eblock4 = eblock2\n",
        "        _, *shape_spatial = eblock4.get_shape().as_list()\n",
        "        eblock4_flat = tf.keras.layers.Flatten()(eblock4)\n",
        "\n",
        "        x = tf.keras.layers.BatchNormalization(name='bn_2')(eblock4_flat)\n",
        "        a2 = tf.keras.layers.Dense(32, kernel_regularizer=self.reg, activation=self.act)(x)\n",
        "        a2 = tf.keras.layers.Dropout(.1)(a2)\n",
        "        a2 = tf.keras.layers.Dense(32, kernel_regularizer=self.reg, activation=self.act)(a2)\n",
        "        a2 = tf.keras.layers.Dropout(.5)(a2)\n",
        "        a2 = tf.keras.layers.Dense(16, kernel_regularizer=self.reg, activation=self.act)(a2)\n",
        "        a2 = tf.keras.layers.BatchNormalization(name='bn_3')(a2)\n",
        "        a2 = tf.keras.layers.Dense(2*self.z_dim*self.n_modes + self.n_modes)(a2)\n",
        "        self.encoder_r1 = tf.keras.Model(inputs=r1_input_y, outputs=a2)\n",
        "\n",
        "        print(self.encoder_r1.summary())\n",
        "\n",
        "\n",
        "        # the q encoder network- q_encoder(x, y) = z''.\n",
        "\n",
        "        q_input_x = tf.keras.Input(shape=(self.x_dim))\n",
        "        c = tf.keras.layers.Flatten()(q_input_x)\n",
        "        d = tf.keras.layers.concatenate([eblock4_flat, c])\n",
        "        d = tf.keras.layers.BatchNormalization(name='bn_4')(d)\n",
        "        e = tf.keras.layers.Dense(32, kernel_regularizer=self.reg, activation=self.act)(d)\n",
        "        e = tf.keras.layers.Dropout(.1)(e)\n",
        "        e = tf.keras.layers.Dense(32, kernel_regularizer=self.reg, activation=self.act)(e)\n",
        "        e = tf.keras.layers.Dropout(.5)(e)\n",
        "        e = tf.keras.layers.Dense(16, kernel_regularizer=self.reg, activation=self.act)(e)\n",
        "        e = tf.keras.layers.BatchNormalization(name='bn_5')(e)\n",
        "        e = tf.keras.layers.Dense(2*self.z_dim)(e)\n",
        "        self.encoder_q = tf.keras.Model(inputs=[r1_input_y, q_input_x], outputs=e)\n",
        "\n",
        "\n",
        "        print(self.encoder_q.summary())\n",
        "\n",
        "\n",
        "        # the r2 decoder network- r2_decoder(y, z) = x'.\n",
        "\n",
        "        r2_input_z = tf.keras.Input(shape=(self.z_dim))\n",
        "        g = tf.keras.layers.Flatten()(r2_input_z)\n",
        "        h = tf.keras.layers.concatenate([eblock4_flat, g])\n",
        "        h = tf.keras.layers.BatchNormalization(name='bn_6')(h)\n",
        "        i = tf.keras.layers.Dense(32, kernel_regularizer=self.reg, activation=self.act)(h)\n",
        "        i = tf.keras.layers.Dropout(.1)(i)\n",
        "        i = tf.keras.layers.Dense(32, kernel_regularizer=self.reg, activation=self.act)(i)\n",
        "        i = tf.keras.layers.Dropout(.5)(i)\n",
        "        i = tf.keras.layers.Dense(16, kernel_regularizer=self.reg, activation=self.act)(i)\n",
        "        i = tf.keras.layers.BatchNormalization(name='bn_7')(i)\n",
        "        j = tf.keras.layers.Dense(2*self.x_dim*self.x_modes + self.x_modes)(i)\n",
        "        self.decoder_r2 = tf.keras.Model(inputs=[r1_input_y, r2_input_z], outputs=j)\n",
        "\n",
        "        print(self.decoder_r2.summary())\n",
        "        # During use, we would only have y. Use r1_encoder(y) = z'. Then, use r2_decoder(y, z') = x' to get the prediction / posterior.\n",
        "    \n",
        "    def get_encoders(self):\n",
        "        return self.encoder_r1, self.encoder_q\n",
        "    \n",
        "    def encode_r1(self, y=None):\n",
        "#         print(\"==\")\n",
        "#         print(y)\n",
        "#         print(\"AAA\")\n",
        "#         print(self.encoder_r1(y).shape)\n",
        "#         print(self.encoder_r1(y))\n",
        "# #         print([self.z_dim*self.n_modes, self.z_dim*self.n_modes,self.n_modes])\n",
        "#         print(\"==\")\n",
        "#         print(self.z_dim*self.n_modes + self.z_dim*self.n_modes + self.n_modes)\n",
        "        \n",
        "#         mean, logvar, weight = tf.split(self.encoder_r1(y), num_or_size_splits=[2, 4, 3], axis=1)\n",
        "\n",
        "        encoded_y = self.encoder_r1(y)  # (4, 17)\n",
        "\n",
        "        # print(encoded_y.shape)\n",
        "        mean, logvar, weight = tf.split(encoded_y, num_or_size_splits=[self.z_dim*self.n_modes, self.z_dim*self.n_modes,self.n_modes], axis=1)\n",
        "        \n",
        "        # print(mean.shape, logvar.shape, weight.shape) # (4, 8), (4, 8), (4, 1)\n",
        "        \n",
        "        # Becomes (4, 1, 2) (4, 2, 1)\n",
        "        return tf.reshape(mean,[-1,self.n_modes,self.z_dim]), tf.reshape(logvar,[-1,self.n_modes,self.z_dim]), tf.reshape(weight,[-1,self.n_modes])\n",
        "\n",
        "\n",
        "    def encode_q(self, x=None, y=None):\n",
        "        return tf.split(self.encoder_q([y,x]), num_or_size_splits=[self.z_dim, self.z_dim], axis=1)\n",
        "\n",
        "    def decode_r2(self, y=None, z=None, apply_sigmoid=False):\n",
        "        \n",
        "#         print(\"AA\", self.decoder_r2([y, z]).shape)\n",
        "#         print(\"BB\", [2 * self.x_dim * self.x_modes, self.x_modes])\n",
        "        mean, logvar, weight = tf.split(self.decoder_r2([y, z]), num_or_size_splits=[self.x_dim*self.x_modes, self.x_dim*self.x_modes, self.x_modes], axis=1)\n",
        "        return tf.reshape(mean,[-1,self.x_modes,self.x_dim]), tf.reshape(logvar,[-1,self.x_modes,self.x_dim]), tf.reshape(weight,[-1,self.x_modes])"
      ],
      "metadata": {
        "id": "tVciQBfofru-"
      },
      "execution_count": 1020,
      "outputs": []
    },
    {
      "cell_type": "code",
      "source": [
        "EPS = 1e-3\n",
        "dist_mask = np.array([True])\n",
        "not_dist_mask = np.array([True])\n",
        "\n",
        "bounds = dict(a=0.0, b=30.0)\n",
        "\n",
        "\n",
        "# KL[P || Q] = S(P) - H(P, Q)               Model P with approximation Q.\n",
        "# KL[Q || P] = S(Q) - H(Q, P)               Model Q with approximation P.\n",
        "\n",
        "# Variational Autoencoders:\n",
        "#  Let X be the data we want to model, z is the latent variable. Pr[X] = distn of data. Pr[z] latent distrn. Pr[X | z] = distrn of generating data | latent variable.\n",
        "#  We want to infer Pr[z] from Pr[z | X] which is the distrn that projects our data into the latent space.  \n",
        "#  But we do not know Pr[z | X], so we use a simpler estimate of Qr[z | X].\n",
        "\n",
        "# KL( Qr[z | X] || Pr[z | X] ) = E{ log( Qr[z | X] ) - log( Pr[z | X] ) } summed up over Qr[z | X]. \n",
        "# KL = H(Q, P) - S(Q) = cross-entropy between Q and P - entropy of P => info in just P - info overlap between P and Q => remaining info in P that we missed. \n",
        "\n",
        "\n",
        "# Ingredients:\n",
        "#   - Qr[z | x]\n",
        "#   - \n",
        "\n",
        "# Infer z_mean, z_var from just y.               Use encoder r1._samp            A = Pr[z | y].\n",
        "# \n",
        "# Infer z'_mean', z'_var' from x, y to get z_sample.                        B = Pr[z | x, y] => sample z_samp from q. We later calculate self-entropy of this.\n",
        "# Use encoder q for this.  Qr[z_sample | x, y]. Calculate self-entropy.\n",
        "# C = Pr[z_samp | y] = x_samp.\n",
        "# \n",
        "# Pr[z | x, y] is the \"real\" / actual distribution. So we want self-entropy of that - cross-entropy of that with Pr[z_samp | y].\n",
        "# What we are doing is that we are looking at how much information we are missing by calculating z_samp using Pr[z | y] instead of the actual distribution\n",
        "# of Pr[z | x, y]. This gives us our KL divergence, which we want to minimize.\n",
        "\n",
        "\n",
        "# Decode (z_sample, y) to get a distribution for x. Pr[x | z_samp, y]. Then, calculate the probability of getting x_actual under this distribution (log-likelihood).\n",
        "# The higher the probability the better it is, which we want to maximize.\n",
        "\n",
        "# Total Loss = (2) - (1)\n",
        "\n",
        "\n",
        "\n",
        "\n",
        "# XXXXX\n",
        "# Calculate self-entropy with Pr[z_samp] from inference of z_mean with y i.e. Pr[z_mean | y].  So entropy of Pr[z | x, y]. \n",
        "# This is the real distribution P. We are approximating it with Qr[z | y]. So we want S[ Pr[z | x, y] ] - H[Pr[z|x,y], Pr[z|y]].\n",
        "# Pr[z_samp] under A / r1.\n",
        "\n",
        "# \n",
        "\n",
        "tfd = tfp.distributions\n",
        "\n",
        "def compute_loss(model, x, y, ramp=1.0, noiseamp=1.0):\n",
        "    \n",
        "#     print(\"Computing loss.\")\n",
        "    \n",
        "    old_old_x = x\n",
        "    \n",
        "    noiseamp = tf.cast(noiseamp, dtype=tf.float32)\n",
        "    y_normscale = tf.cast(params['y_normscale'], dtype=tf.float32)\n",
        "#     y = tf.cast(y, dtype=tf.float32)\n",
        "#     x = tf.cast(x, dtype=tf.float32)\n",
        "    \n",
        "#     y = (y + noiseamp*tf.random.normal(shape=tf.shape(y), mean=0.0, stddev=1.0, dtype=tf.float32))\n",
        "    \n",
        "    # print(\"x\", x)\n",
        "    \n",
        "    # print(\"y\", y)\n",
        "    \n",
        "    # This is in the latent space z. z just from y.\n",
        "    mean_r1, logvar_r1, logweight_r1 = model.encode_r1(y=y)             # Infer z_mean, z_var by encoding y.\n",
        "    \n",
        "    \n",
        "    \n",
        "    \n",
        "    scale_r1 = EPS + tf.sqrt(tf.exp(logvar_r1))                         # Fix to enable backpropagation.\n",
        "\n",
        "    # Sample from the latent space. z just from y.\n",
        "    gm_r1 = tfd.MixtureSameFamily(mixture_distribution=tfd.Categorical(logits=logweight_r1),\n",
        "            components_distribution=tfd.MultivariateNormalDiag(\n",
        "            loc=mean_r1,\n",
        "            scale_diag=scale_r1))\n",
        "    \n",
        "    # Latent space. z from x and y.\n",
        "    mean_q, logvar_q = model.encode_q(x=x, y=y)                         # Infer z'_mean and z'_var by encoding x and y.\n",
        "    scale_q = EPS + tf.sqrt(tf.exp(logvar_q))                           # Fix to enable backpropagation.\n",
        "    \n",
        "    \n",
        "    \n",
        "    # print(np.mean(mean_r1))\n",
        "    \n",
        "    # Sample from the latent space. z from x and y.\n",
        "    mvn_q = tfp.distributions.MultivariateNormalDiag(\n",
        "                          loc=mean_q,\n",
        "                          scale_diag=scale_q)\n",
        "    \n",
        "    z_samp = mvn_q.sample()                                               # Sample z_samp from a multi-variate normal distribution (inferred from (x, y)).\n",
        "    \n",
        "    # print(z_samp)\n",
        "    # Take the latent sample and y to reconstruct x. Pr[x | y, z]\n",
        "    mean_r2, logvar_r2, logweight_r2 = model.decode_r2(y=y, z=z_samp)     # Decode (z_samp, y) to get predicted x'.\n",
        "    scale_r2 = EPS + tf.sqrt(tf.exp(logvar_r2))\n",
        "    \n",
        "    # This is a sample from x.\n",
        "    # print(\"Drawn f = \", np.mean(mean_r2), end=\", \")\n",
        "    \n",
        "    # Distribution for x. Pr[x | y, z]\n",
        "    gm_r2 = tfd.MixtureSameFamily(mixture_distribution=tfd.Categorical(logits=logweight_r2),      # Sample predicted x'.\n",
        "            components_distribution=tfd.MultivariateNormalDiag(\n",
        "            loc=mean_r2,\n",
        "            scale_diag=scale_r2))\n",
        "    \n",
        "\n",
        "    # print(mean_r2.shape, old_old_x.shape)\n",
        "    \n",
        "    simple_cost_recon = -1.0*tf.reduce_mean(gm_r2.log_prob(old_old_x))                            # Calculate the odds of having the x_actual. Pr[x | y, z_samp].\n",
        "\n",
        "    # print(simple_cost_recon)\n",
        "    \n",
        "    selfent_q = -1.0*tf.reduce_mean(mvn_q.entropy())                                         # Self-entropy of q-encoder [(x, y) => z_samp]. H(z_samp(x, y)).\n",
        "    log_r1_q = gm_r1.log_prob(z_samp)   # evaluate the log prob of r1 at the q samples       # Pr[z_samp | x, y].\n",
        "    cost_KL = selfent_q - tf.reduce_mean(log_r1_q)                                           # KL-div with self-entropy - cross-entropy.\n",
        "    \n",
        "    # KL = H(z_samp(x, y)) - Pr[z_samp | x, y].\n",
        "    \n",
        "    \n",
        "    return simple_cost_recon, cost_KL"
      ],
      "metadata": {
        "id": "IWHHh5M9fsqH"
      },
      "execution_count": 1021,
      "outputs": []
    },
    {
      "cell_type": "code",
      "source": [
        "train_loss_metric = tf.keras.metrics.Mean('train_loss', dtype=tf.float32)\n",
        "\n",
        "@tf.function\n",
        "def train_step(model, x, y, optimizer, ramp=1.0):\n",
        "    \"\"\"Executes one training step and returns the loss.\n",
        "    This function computes the loss and gradients, and uses the latter to\n",
        "    update the model's parameters.\n",
        "    \"\"\"\n",
        "    \n",
        "    \n",
        "    ramp = 1.0\n",
        "    \n",
        "    with tf.GradientTape() as tape:\n",
        "        r_loss, kl_loss = compute_loss(model, x, y, ramp=ramp)\n",
        "        # r_loss, kl_loss = compute_loss(model, x, y)\n",
        "        loss = r_loss + ramp * kl_loss\n",
        "        \n",
        "    gradients = tape.gradient(loss, model.trainable_variables, unconnected_gradients=tf.UnconnectedGradients.ZERO)\n",
        "    optimizer.apply_gradients(zip(gradients, model.trainable_variables))\n",
        "    \n",
        "    train_loss_metric(loss)\n",
        "    \n",
        "    return r_loss, kl_loss"
      ],
      "metadata": {
        "id": "6-GzauiEfujy"
      },
      "execution_count": 1022,
      "outputs": []
    },
    {
      "cell_type": "code",
      "source": [
        "tf.random.set_seed(42)\n",
        "np.random.seed(42)\n",
        "\n",
        "\n",
        "epochs = 50\n",
        "\n",
        "# start the training loop\n",
        "train_loss = np.zeros((epochs, 2))\n",
        "test_loss = np.zeros((epochs, 2))\n",
        "ramp_start = params['ramp_start']\n",
        "ramp_length = params['ramp_end']\n",
        "\n",
        "\n",
        "ramp_cycles = 1\n",
        "KL_samples = []\n",
        "\n",
        "\n",
        "\n",
        "model = CVAE(x_dim=2, y_dim=1, n_channels=params['n_channels'], \\\n",
        "             z_dim=params['z_dim'], n_modes=1, params=params)\n",
        "\n",
        "model.compile()"
      ],
      "metadata": {
        "colab": {
          "base_uri": "https://localhost:8080/"
        },
        "id": "ano40u3hfweq",
        "outputId": "6f1c5907-f3fc-43c3-bdc6-ca011d5b6b8f"
      },
      "execution_count": 1023,
      "outputs": [
        {
          "output_type": "stream",
          "name": "stdout",
          "text": [
            "Model: \"model_102\"\n",
            "_________________________________________________________________\n",
            " Layer (type)                Output Shape              Param #   \n",
            "=================================================================\n",
            " input_105 (InputLayer)      [(None, 48, 48, 1)]       0         \n",
            "                                                                 \n",
            " conv2d_287 (Conv2D)         (None, 48, 48, 8)         80        \n",
            "                                                                 \n",
            " conv2d_288 (Conv2D)         (None, 48, 48, 8)         584       \n",
            "                                                                 \n",
            " max_pooling2d_143 (MaxPooli  (None, 24, 24, 8)        0         \n",
            " ng2D)                                                           \n",
            "                                                                 \n",
            " conv2d_289 (Conv2D)         (None, 24, 24, 16)        1168      \n",
            "                                                                 \n",
            " conv2d_290 (Conv2D)         (None, 24, 24, 16)        2320      \n",
            "                                                                 \n",
            " max_pooling2d_144 (MaxPooli  (None, 12, 12, 16)       0         \n",
            " ng2D)                                                           \n",
            "                                                                 \n",
            " conv2d_291 (Conv2D)         (None, 12, 12, 32)        4640      \n",
            "                                                                 \n",
            " conv2d_292 (Conv2D)         (None, 12, 12, 32)        9248      \n",
            "                                                                 \n",
            " max_pooling2d_145 (MaxPooli  (None, 6, 6, 32)         0         \n",
            " ng2D)                                                           \n",
            "                                                                 \n",
            " conv2d_293 (Conv2D)         (None, 6, 6, 64)          18496     \n",
            "                                                                 \n",
            " conv2d_294 (Conv2D)         (None, 6, 6, 64)          36928     \n",
            "                                                                 \n",
            " max_pooling2d_146 (MaxPooli  (None, 3, 3, 64)         0         \n",
            " ng2D)                                                           \n",
            "                                                                 \n",
            " conv2d_295 (Conv2D)         (None, 3, 3, 64)          36928     \n",
            "                                                                 \n",
            " conv2d_296 (Conv2D)         (None, 3, 3, 64)          36928     \n",
            "                                                                 \n",
            " max_pooling2d_147 (MaxPooli  (None, 1, 1, 64)         0         \n",
            " ng2D)                                                           \n",
            "                                                                 \n",
            " flatten_102 (Flatten)       (None, 64)                0         \n",
            "                                                                 \n",
            " bn_2 (BatchNormalization)   (None, 64)                256       \n",
            "                                                                 \n",
            " dense_344 (Dense)           (None, 32)                2080      \n",
            "                                                                 \n",
            " dropout_173 (Dropout)       (None, 32)                0         \n",
            "                                                                 \n",
            " dense_345 (Dense)           (None, 32)                1056      \n",
            "                                                                 \n",
            " dropout_174 (Dropout)       (None, 32)                0         \n",
            "                                                                 \n",
            " dense_346 (Dense)           (None, 16)                528       \n",
            "                                                                 \n",
            " bn_3 (BatchNormalization)   (None, 16)                64        \n",
            "                                                                 \n",
            " dense_347 (Dense)           (None, 65)                1105      \n",
            "                                                                 \n",
            "=================================================================\n",
            "Total params: 152,409\n",
            "Trainable params: 152,249\n",
            "Non-trainable params: 160\n",
            "_________________________________________________________________\n",
            "None\n",
            "Model: \"model_103\"\n",
            "__________________________________________________________________________________________________\n",
            " Layer (type)                   Output Shape         Param #     Connected to                     \n",
            "==================================================================================================\n",
            " input_105 (InputLayer)         [(None, 48, 48, 1)]  0           []                               \n",
            "                                                                                                  \n",
            " conv2d_287 (Conv2D)            (None, 48, 48, 8)    80          ['input_105[0][0]']              \n",
            "                                                                                                  \n",
            " conv2d_288 (Conv2D)            (None, 48, 48, 8)    584         ['conv2d_287[0][0]']             \n",
            "                                                                                                  \n",
            " max_pooling2d_143 (MaxPooling2  (None, 24, 24, 8)   0           ['conv2d_288[0][0]']             \n",
            " D)                                                                                               \n",
            "                                                                                                  \n",
            " conv2d_289 (Conv2D)            (None, 24, 24, 16)   1168        ['max_pooling2d_143[0][0]']      \n",
            "                                                                                                  \n",
            " conv2d_290 (Conv2D)            (None, 24, 24, 16)   2320        ['conv2d_289[0][0]']             \n",
            "                                                                                                  \n",
            " max_pooling2d_144 (MaxPooling2  (None, 12, 12, 16)  0           ['conv2d_290[0][0]']             \n",
            " D)                                                                                               \n",
            "                                                                                                  \n",
            " conv2d_291 (Conv2D)            (None, 12, 12, 32)   4640        ['max_pooling2d_144[0][0]']      \n",
            "                                                                                                  \n",
            " conv2d_292 (Conv2D)            (None, 12, 12, 32)   9248        ['conv2d_291[0][0]']             \n",
            "                                                                                                  \n",
            " max_pooling2d_145 (MaxPooling2  (None, 6, 6, 32)    0           ['conv2d_292[0][0]']             \n",
            " D)                                                                                               \n",
            "                                                                                                  \n",
            " conv2d_293 (Conv2D)            (None, 6, 6, 64)     18496       ['max_pooling2d_145[0][0]']      \n",
            "                                                                                                  \n",
            " conv2d_294 (Conv2D)            (None, 6, 6, 64)     36928       ['conv2d_293[0][0]']             \n",
            "                                                                                                  \n",
            " max_pooling2d_146 (MaxPooling2  (None, 3, 3, 64)    0           ['conv2d_294[0][0]']             \n",
            " D)                                                                                               \n",
            "                                                                                                  \n",
            " conv2d_295 (Conv2D)            (None, 3, 3, 64)     36928       ['max_pooling2d_146[0][0]']      \n",
            "                                                                                                  \n",
            " conv2d_296 (Conv2D)            (None, 3, 3, 64)     36928       ['conv2d_295[0][0]']             \n",
            "                                                                                                  \n",
            " max_pooling2d_147 (MaxPooling2  (None, 1, 1, 64)    0           ['conv2d_296[0][0]']             \n",
            " D)                                                                                               \n",
            "                                                                                                  \n",
            " input_106 (InputLayer)         [(None, 2)]          0           []                               \n",
            "                                                                                                  \n",
            " flatten_102 (Flatten)          (None, 64)           0           ['max_pooling2d_147[0][0]']      \n",
            "                                                                                                  \n",
            " flatten_103 (Flatten)          (None, 2)            0           ['input_106[0][0]']              \n",
            "                                                                                                  \n",
            " concatenate_68 (Concatenate)   (None, 66)           0           ['flatten_102[0][0]',            \n",
            "                                                                  'flatten_103[0][0]']            \n",
            "                                                                                                  \n",
            " bn_4 (BatchNormalization)      (None, 66)           264         ['concatenate_68[0][0]']         \n",
            "                                                                                                  \n",
            " dense_348 (Dense)              (None, 32)           2144        ['bn_4[0][0]']                   \n",
            "                                                                                                  \n",
            " dropout_175 (Dropout)          (None, 32)           0           ['dense_348[0][0]']              \n",
            "                                                                                                  \n",
            " dense_349 (Dense)              (None, 32)           1056        ['dropout_175[0][0]']            \n",
            "                                                                                                  \n",
            " dropout_176 (Dropout)          (None, 32)           0           ['dense_349[0][0]']              \n",
            "                                                                                                  \n",
            " dense_350 (Dense)              (None, 16)           528         ['dropout_176[0][0]']            \n",
            "                                                                                                  \n",
            " bn_5 (BatchNormalization)      (None, 16)           64          ['dense_350[0][0]']              \n",
            "                                                                                                  \n",
            " dense_351 (Dense)              (None, 64)           1088        ['bn_5[0][0]']                   \n",
            "                                                                                                  \n",
            "==================================================================================================\n",
            "Total params: 152,464\n",
            "Trainable params: 152,300\n",
            "Non-trainable params: 164\n",
            "__________________________________________________________________________________________________\n",
            "None\n",
            "Model: \"model_104\"\n",
            "__________________________________________________________________________________________________\n",
            " Layer (type)                   Output Shape         Param #     Connected to                     \n",
            "==================================================================================================\n",
            " input_105 (InputLayer)         [(None, 48, 48, 1)]  0           []                               \n",
            "                                                                                                  \n",
            " conv2d_287 (Conv2D)            (None, 48, 48, 8)    80          ['input_105[0][0]']              \n",
            "                                                                                                  \n",
            " conv2d_288 (Conv2D)            (None, 48, 48, 8)    584         ['conv2d_287[0][0]']             \n",
            "                                                                                                  \n",
            " max_pooling2d_143 (MaxPooling2  (None, 24, 24, 8)   0           ['conv2d_288[0][0]']             \n",
            " D)                                                                                               \n",
            "                                                                                                  \n",
            " conv2d_289 (Conv2D)            (None, 24, 24, 16)   1168        ['max_pooling2d_143[0][0]']      \n",
            "                                                                                                  \n",
            " conv2d_290 (Conv2D)            (None, 24, 24, 16)   2320        ['conv2d_289[0][0]']             \n",
            "                                                                                                  \n",
            " max_pooling2d_144 (MaxPooling2  (None, 12, 12, 16)  0           ['conv2d_290[0][0]']             \n",
            " D)                                                                                               \n",
            "                                                                                                  \n",
            " conv2d_291 (Conv2D)            (None, 12, 12, 32)   4640        ['max_pooling2d_144[0][0]']      \n",
            "                                                                                                  \n",
            " conv2d_292 (Conv2D)            (None, 12, 12, 32)   9248        ['conv2d_291[0][0]']             \n",
            "                                                                                                  \n",
            " max_pooling2d_145 (MaxPooling2  (None, 6, 6, 32)    0           ['conv2d_292[0][0]']             \n",
            " D)                                                                                               \n",
            "                                                                                                  \n",
            " conv2d_293 (Conv2D)            (None, 6, 6, 64)     18496       ['max_pooling2d_145[0][0]']      \n",
            "                                                                                                  \n",
            " conv2d_294 (Conv2D)            (None, 6, 6, 64)     36928       ['conv2d_293[0][0]']             \n",
            "                                                                                                  \n",
            " max_pooling2d_146 (MaxPooling2  (None, 3, 3, 64)    0           ['conv2d_294[0][0]']             \n",
            " D)                                                                                               \n",
            "                                                                                                  \n",
            " conv2d_295 (Conv2D)            (None, 3, 3, 64)     36928       ['max_pooling2d_146[0][0]']      \n",
            "                                                                                                  \n",
            " conv2d_296 (Conv2D)            (None, 3, 3, 64)     36928       ['conv2d_295[0][0]']             \n",
            "                                                                                                  \n",
            " max_pooling2d_147 (MaxPooling2  (None, 1, 1, 64)    0           ['conv2d_296[0][0]']             \n",
            " D)                                                                                               \n",
            "                                                                                                  \n",
            " input_107 (InputLayer)         [(None, 32)]         0           []                               \n",
            "                                                                                                  \n",
            " flatten_102 (Flatten)          (None, 64)           0           ['max_pooling2d_147[0][0]']      \n",
            "                                                                                                  \n",
            " flatten_104 (Flatten)          (None, 32)           0           ['input_107[0][0]']              \n",
            "                                                                                                  \n",
            " concatenate_69 (Concatenate)   (None, 96)           0           ['flatten_102[0][0]',            \n",
            "                                                                  'flatten_104[0][0]']            \n",
            "                                                                                                  \n",
            " bn_6 (BatchNormalization)      (None, 96)           384         ['concatenate_69[0][0]']         \n",
            "                                                                                                  \n",
            " dense_352 (Dense)              (None, 32)           3104        ['bn_6[0][0]']                   \n",
            "                                                                                                  \n",
            " dropout_177 (Dropout)          (None, 32)           0           ['dense_352[0][0]']              \n",
            "                                                                                                  \n",
            " dense_353 (Dense)              (None, 32)           1056        ['dropout_177[0][0]']            \n",
            "                                                                                                  \n",
            " dropout_178 (Dropout)          (None, 32)           0           ['dense_353[0][0]']              \n",
            "                                                                                                  \n",
            " dense_354 (Dense)              (None, 16)           528         ['dropout_178[0][0]']            \n",
            "                                                                                                  \n",
            " bn_7 (BatchNormalization)      (None, 16)           64          ['dense_354[0][0]']              \n",
            "                                                                                                  \n",
            " dense_355 (Dense)              (None, 5)            85          ['bn_7[0][0]']                   \n",
            "                                                                                                  \n",
            "==================================================================================================\n",
            "Total params: 152,541\n",
            "Trainable params: 152,317\n",
            "Non-trainable params: 224\n",
            "__________________________________________________________________________________________________\n",
            "None\n"
          ]
        }
      ]
    },
    {
      "cell_type": "code",
      "source": [
        "x_train_s[1:2,:,0].shape, y_train_s[1:2,:,:,0].shape"
      ],
      "metadata": {
        "colab": {
          "base_uri": "https://localhost:8080/"
        },
        "id": "RKs_Xhymfxai",
        "outputId": "02860b68-f17e-4288-d317-2dbff7bf499e"
      },
      "execution_count": 1024,
      "outputs": [
        {
          "output_type": "execute_result",
          "data": {
            "text/plain": [
              "(TensorShape([1, 2]), TensorShape([1, 48, 48]))"
            ]
          },
          "metadata": {},
          "execution_count": 1024
        }
      ]
    },
    {
      "cell_type": "code",
      "source": [
        "model.encode_r1(y_train_s[1:2,:,:,0])"
      ],
      "metadata": {
        "colab": {
          "base_uri": "https://localhost:8080/"
        },
        "id": "mE1dsqWVk3hv",
        "outputId": "4d62b767-4a74-424d-f16b-c4cbc31f34bc"
      },
      "execution_count": 1035,
      "outputs": [
        {
          "output_type": "execute_result",
          "data": {
            "text/plain": [
              "(<tf.Tensor: shape=(1, 1, 32), dtype=float32, numpy=\n",
              " array([[[ 0.02916882, -0.06714127, -0.07318783, -0.03557358,\n",
              "           0.11824225,  0.10163726,  0.08905941,  0.06728489,\n",
              "           0.00220634, -0.01995726,  0.01047247, -0.06568419,\n",
              "           0.08227045,  0.02329286, -0.03276597,  0.04338291,\n",
              "          -0.06984032, -0.09193086,  0.02147098,  0.00530901,\n",
              "          -0.00314934, -0.11305038,  0.07429138, -0.04301096,\n",
              "          -0.0557748 ,  0.12822813,  0.0725303 , -0.03273347,\n",
              "           0.07352943, -0.06392462, -0.05015974, -0.00312331]]],\n",
              "       dtype=float32)>, <tf.Tensor: shape=(1, 1, 32), dtype=float32, numpy=\n",
              " array([[[ 0.09442484, -0.01070157,  0.09858792, -0.07307478,\n",
              "          -0.06400467, -0.10939964, -0.10162355, -0.06031097,\n",
              "          -0.05402964, -0.12546234, -0.0599247 , -0.0771168 ,\n",
              "          -0.04009765,  0.01743248, -0.1087936 , -0.01054056,\n",
              "           0.06790674, -0.01904871, -0.01602685, -0.00280499,\n",
              "          -0.07939816, -0.01416588, -0.03286839,  0.00397776,\n",
              "          -0.12132604, -0.0995655 , -0.04556909, -0.01291294,\n",
              "           0.05525796, -0.03541608, -0.12581724, -0.0625568 ]]],\n",
              "       dtype=float32)>, <tf.Tensor: shape=(1, 1), dtype=float32, numpy=array([[-0.08028446]], dtype=float32)>)"
            ]
          },
          "metadata": {},
          "execution_count": 1035
        }
      ]
    },
    {
      "cell_type": "code",
      "source": [
        "model.encode_q(x_train_s[1:2,:,0], y_train_s[1:2,:,:,0])"
      ],
      "metadata": {
        "colab": {
          "base_uri": "https://localhost:8080/"
        },
        "id": "84wsMWc1k8Zr",
        "outputId": "da0d167d-ba14-4cfc-c864-8c827f72a720"
      },
      "execution_count": 1036,
      "outputs": [
        {
          "output_type": "execute_result",
          "data": {
            "text/plain": [
              "[<tf.Tensor: shape=(1, 32), dtype=float32, numpy=\n",
              " array([[-0.05890954, -0.01770825, -0.07830998, -0.0698251 , -0.09417441,\n",
              "         -0.1223831 , -0.01796393,  0.10928354, -0.02632648, -0.03099125,\n",
              "         -0.02389692, -0.05277964, -0.05969334, -0.02049684, -0.1428414 ,\n",
              "         -0.11619761,  0.08795809,  0.03827982, -0.00104673, -0.06403843,\n",
              "          0.01494222, -0.10471587, -0.0658576 ,  0.03660861, -0.07861792,\n",
              "          0.138971  , -0.06737405, -0.08263639,  0.05478617, -0.01063863,\n",
              "         -0.01102239,  0.00284634]], dtype=float32)>,\n",
              " <tf.Tensor: shape=(1, 32), dtype=float32, numpy=\n",
              " array([[-0.03480262, -0.08339897, -0.00456237,  0.05129656,  0.11504682,\n",
              "         -0.0963107 , -0.04487097,  0.00678848,  0.04439056, -0.06865537,\n",
              "         -0.11915243,  0.00357149,  0.0159002 ,  0.13600226, -0.07496482,\n",
              "         -0.11757816,  0.1303816 , -0.20198362,  0.0633681 ,  0.03215767,\n",
              "         -0.03145224, -0.15856294, -0.1140184 ,  0.01356152,  0.08121947,\n",
              "         -0.06096076,  0.0042939 ,  0.01692831,  0.06264231, -0.01573728,\n",
              "         -0.00439981,  0.02905219]], dtype=float32)>]"
            ]
          },
          "metadata": {},
          "execution_count": 1036
        }
      ]
    },
    {
      "cell_type": "code",
      "source": [
        "model.decode_r2(y_train_s[1:2,:,:,0], np.random.normal(0, 1, (1, params['z_dim'])))"
      ],
      "metadata": {
        "colab": {
          "base_uri": "https://localhost:8080/"
        },
        "id": "r7GlLvcqlPK1",
        "outputId": "fe339622-ef9e-45c7-a6b1-b6c085f04b9f"
      },
      "execution_count": 1037,
      "outputs": [
        {
          "output_type": "execute_result",
          "data": {
            "text/plain": [
              "(<tf.Tensor: shape=(1, 1, 2), dtype=float32, numpy=array([[[0.3542627, 0.1811502]]], dtype=float32)>,\n",
              " <tf.Tensor: shape=(1, 1, 2), dtype=float32, numpy=array([[[-0.5055967 , -0.27253357]]], dtype=float32)>,\n",
              " <tf.Tensor: shape=(1, 1), dtype=float32, numpy=array([[-0.02121864]], dtype=float32)>)"
            ]
          },
          "metadata": {},
          "execution_count": 1037
        }
      ]
    },
    {
      "cell_type": "code",
      "source": [
        "x_train_s[1:2,:,0].shape, y_train_s[1:2,:,:,0].shape"
      ],
      "metadata": {
        "colab": {
          "base_uri": "https://localhost:8080/"
        },
        "id": "eSIIopj_EWi-",
        "outputId": "3728a067-d435-4e24-898f-798a27299ecc"
      },
      "execution_count": 1028,
      "outputs": [
        {
          "output_type": "execute_result",
          "data": {
            "text/plain": [
              "(TensorShape([1, 2]), TensorShape([1, 48, 48]))"
            ]
          },
          "metadata": {},
          "execution_count": 1028
        }
      ]
    },
    {
      "cell_type": "code",
      "source": [
        "compute_loss(model, x_train_s[1:2,:,0], y_train_s[1:2,:,:,0])"
      ],
      "metadata": {
        "colab": {
          "base_uri": "https://localhost:8080/"
        },
        "id": "V8Uf1mtbldn0",
        "outputId": "14c8f905-d19f-4f7f-8a2b-9eb0710585ed"
      },
      "execution_count": 1029,
      "outputs": [
        {
          "output_type": "execute_result",
          "data": {
            "text/plain": [
              "(<tf.Tensor: shape=(), dtype=float32, numpy=32.552685>,\n",
              " <tf.Tensor: shape=(), dtype=float32, numpy=22.827621>)"
            ]
          },
          "metadata": {},
          "execution_count": 1029
        }
      ]
    },
    {
      "cell_type": "code",
      "source": [
        "ramp = tf.convert_to_tensor(ramp_func(epochs, ramp_start, ramp_length, ramp_cycles), dtype=tf.float32)"
      ],
      "metadata": {
        "colab": {
          "base_uri": "https://localhost:8080/"
        },
        "id": "LvHTmwuFmUMW",
        "outputId": "0f73c1b3-3b6c-4b75-b767-04fa70a470ad"
      },
      "execution_count": 1030,
      "outputs": [
        {
          "output_type": "stream",
          "name": "stdout",
          "text": [
            "50 1.0\n"
          ]
        }
      ]
    },
    {
      "cell_type": "code",
      "source": [
        "loss = tf.keras.metrics.Mean()\n",
        "\n",
        "print(\"Running with\", epochs, \"epochs.\")\n",
        "\n",
        "for epoch in range(1, epochs + 1):\n",
        "    temp_train_r_loss, temp_train_kl_loss = 0.0, 0.0\n",
        "    temp_test_r_loss, temp_test_kl_loss = 0.0, 0.0\n",
        "    \n",
        "    \n",
        "    for step, (x_batch_train, y_batch_train) in train_dataset.enumerate():\n",
        "        x_b = x_batch_train[:,:,0]\n",
        "        # print(\"x_batch, y_batch\", x_b.shape, y_batch_train.shape)    \n",
        "        temp_train_r_loss, temp_train_kl_loss = train_step(model, x_b, y_batch_train, optimizer, ramp=ramp)\n",
        "        train_loss[epoch - 1, 0] += temp_train_r_loss / len(train_dataset)\n",
        "        train_loss[epoch - 1, 1] += temp_train_kl_loss / len(train_dataset)\n",
        "        \n",
        "    for step, (x_batch_test, y_batch_test) in test_dataset.enumerate():\n",
        "        x_b_t = x_batch_test[:,:,0]\n",
        "        temp_test_r_loss, temp_test_kl_loss = compute_loss(model, x_b_t, y_batch_test)\n",
        "        test_loss[epoch - 1, 0] += temp_train_r_loss / len(test_dataset)\n",
        "        test_loss[epoch - 1, 1] += temp_train_kl_loss / len(test_dataset)\n",
        "    \n",
        "    if epoch % 10 == 0:\n",
        "        print(\"epoch = %d; train loss = %.4e, %.4e; test loss = %.4e, %.4e\" % \\\n",
        "              (epoch, train_loss[epoch - 1, 0], train_loss[epoch - 1, 1], \\\n",
        "               test_loss[epoch - 1, 0], test_loss[epoch - 1, 1]))\n"
      ],
      "metadata": {
        "colab": {
          "base_uri": "https://localhost:8080/"
        },
        "id": "kCq66Kobly49",
        "outputId": "4abad6ef-3078-4042-8231-6a8927ad36ab"
      },
      "execution_count": 1031,
      "outputs": [
        {
          "output_type": "stream",
          "name": "stdout",
          "text": [
            "Running with 50 epochs.\n",
            "epoch = 10; train loss = 2.8459e+00, 1.6005e+00; test loss = 2.8468e+00, 2.3341e+00\n",
            "epoch = 20; train loss = 2.7367e+00, -1.0849e-03; test loss = 3.2052e+00, -1.3124e+00\n",
            "epoch = 30; train loss = 2.7437e+00, -5.5605e-01; test loss = 2.8288e+00, -1.4600e-01\n",
            "epoch = 40; train loss = 2.6093e+00, 7.9100e-01; test loss = 2.8582e+00, -8.6666e-01\n",
            "epoch = 50; train loss = 2.5024e+00, 9.5297e-01; test loss = 3.0469e+00, 1.7554e+00\n"
          ]
        }
      ]
    },
    {
      "cell_type": "code",
      "source": [
        "plt.figure(figsize=(10, 5), dpi=150)\n",
        "\n",
        "plt.subplot(121)\n",
        "plt.plot(train_loss[:,0], label=\"Train R Loss\")\n",
        "plt.plot(test_loss[:,0], label=\"Test R Loss\")\n",
        "\n",
        "# plt.ylim(0, 0.1)\n",
        "\n",
        "plt.legend()\n",
        "plt.yscale('log')\n",
        "\n",
        "plt.subplot(122)\n",
        "plt.plot(train_loss[:,1], label=\"Train KL Loss\")\n",
        "plt.plot(test_loss[:,1], label=\"Test KL Loss\")\n",
        "\n",
        "# plt.ylim(0, 0.15)\n",
        "\n",
        "plt.legend()\n",
        "plt.yscale('log')"
      ],
      "metadata": {
        "colab": {
          "base_uri": "https://localhost:8080/",
          "height": 647
        },
        "id": "7CONJyTtmIGt",
        "outputId": "c5f65710-073a-4e21-ae57-5abf1e492476"
      },
      "execution_count": 1032,
      "outputs": [
        {
          "output_type": "display_data",
          "data": {
            "text/plain": [
              "<Figure size 1500x750 with 2 Axes>"
            ],
            "image/png": "[encoded data removed]"
          },
          "metadata": {
            "needs_background": "light"
          }
        }
      ]
    },
    {
      "cell_type": "code",
      "source": [
        "def gen_z_samples(model, x, y, nsamples=1000):\n",
        "    \n",
        "    y = y / params['y_normscale']\n",
        "    y = tf.tile(y,(nsamples, 1, 1))\n",
        "    x = tf.tile(x,(nsamples, 1))\n",
        "    \n",
        "    mean_r1, logvar_r1, logweight_r1 = model.encode_r1(y=y)\n",
        "    \n",
        "    scale_r1 = EPS + tf.sqrt(tf.exp(logvar_r1))\n",
        "    \n",
        "    gm_r1 = tfd.MixtureSameFamily(mixture_distribution=tfd.Categorical(logits=logweight_r1),\n",
        "            components_distribution=tfd.MultivariateNormalDiag(\n",
        "            loc=mean_r1,\n",
        "            scale_diag=scale_r1))\n",
        "    \n",
        "    z_samp_r1 = gm_r1.sample()\n",
        "    \n",
        "    mean_q, logvar_q = model.encode_q(x=x,y=y)\n",
        "    \n",
        "    scale_q = EPS + tf.sqrt(tf.exp(logvar_q))\n",
        "    mvn_q = tfp.distributions.MultivariateNormalDiag(\n",
        "                          loc=mean_q,\n",
        "                          scale_diag=scale_q)\n",
        "    \n",
        "    z_samp_q = mvn_q.sample()    \n",
        "    \n",
        "    return mean_r1, z_samp_r1, mean_q, z_samp_q"
      ],
      "metadata": {
        "id": "9BlnypwCFwEh"
      },
      "execution_count": 1038,
      "outputs": []
    },
    {
      "cell_type": "code",
      "source": [
        "def gen_samples(model, y, ramp=1.0, nsamples=100, max_samples=10):    # Generate samples from (test) y.\n",
        "\n",
        "    y = y\n",
        "    y = tf.tile(y, (max_samples, 1, 1, 1))\n",
        "    \n",
        "    samp_iterations = int(nsamples / max_samples)\n",
        "\n",
        "    print(\"samp_iterations\", samp_iterations)\n",
        "    \n",
        "    x_sample = []\n",
        "    for i in range(samp_iterations):\n",
        "        mean_r1, logvar_r1, logweight_r1 = model.encode_r1(y=y) # Encode y to get z.\n",
        "        scale_r1 = EPS + tf.sqrt(tf.exp(logvar_r1))\n",
        "        \n",
        "        gm_r1 = tfd.MixtureSameFamily(mixture_distribution=tfd.Categorical(logits=logweight_r1),\n",
        "            components_distribution=tfd.MultivariateNormalDiag(\n",
        "            loc=mean_r1,\n",
        "            scale_diag=scale_r1))\n",
        "        \n",
        "        z_samp = gm_r1.sample()   # Sample a z_samp.\n",
        "        \n",
        "        mean_r2, logvar_r2, logweight_r2 = model.decode_r2(z=z_samp,y=y)  # Decode (z_samp, y) => x\n",
        "        scale_r2 = EPS + tf.sqrt(tf.exp(logvar_r2))\n",
        "        \n",
        "        gm_r2 = tfd.MixtureSameFamily(mixture_distribution=tfd.Categorical(logits=logweight_r2),    \n",
        "            components_distribution=tfd.MultivariateNormalDiag(\n",
        "            loc=mean_r2,\n",
        "            scale_diag=scale_r2))\n",
        "\n",
        "        current_sample = gm_r2.sample()\n",
        "        current_sample_inverse_transformed = x_scaler.inverse_transform(current_sample)\n",
        "\n",
        "        if i == 0:\n",
        "            x_sample = current_sample_inverse_transformed   # Sample an x.\n",
        "        else:\n",
        "            x_sample = tf.concat([x_sample, current_sample_inverse_transformed],axis=0)\n",
        "\n",
        "\n",
        "    return x_sample\n"
      ],
      "metadata": {
        "id": "xu5RKouJF0yU"
      },
      "execution_count": 1079,
      "outputs": []
    },
    {
      "cell_type": "code",
      "source": [
        "bounds = {'frequency_min': 0, 'frequency_max': 50}\n",
        "\n",
        "defaults_kwargs = dict(\n",
        "                    bins=50, smooth=0.9, label_kwargs=dict(fontsize=16),\n",
        "                    title_kwargs=dict(fontsize=16),\n",
        "                    truth_color='#4682b4', quantiles=[0.16, 0.84],\n",
        "                    levels=(0.68,0.90,0.95), density=True,\n",
        "                    plot_density=False, plot_datapoints=True,\n",
        "                    max_n_ticks=3)\n",
        "\n",
        "\n",
        "hist_kwargs = dict(density=True,color='tab:red')\n",
        "hist_kwargs_other = dict(density=True,color='tab:blue')"
      ],
      "metadata": {
        "id": "3TRdoujQF2dR"
      },
      "execution_count": 1080,
      "outputs": []
    },
    {
      "cell_type": "code",
      "source": [
        "plot_dir = \"./\"\n",
        "params['n_samples'] = 100\n",
        "\n",
        "run = plot_dir"
      ],
      "metadata": {
        "id": "ZN-P1UPxF6L1"
      },
      "execution_count": 1081,
      "outputs": []
    },
    {
      "cell_type": "code",
      "source": [
        "params['corner_labels'] = {'frequency': 'frequency', 'fdot': 'fdot'}"
      ],
      "metadata": {
        "id": "_Y1REeOXIyDD"
      },
      "execution_count": 1082,
      "outputs": []
    },
    {
      "cell_type": "code",
      "source": [
        "def generate_posterior(dataset):\n",
        "\n",
        "  for step, (x_batch, y_batch) in dataset.enumerate():\n",
        "\n",
        "      samples = gen_samples(model, y_batch, ramp=ramp, nsamples=params['n_samples'])\n",
        "\n",
        "      print('Epoch: {}, run {} Testing time elapsed for {} samples.'.format(epoch,run,params['n_samples']))\n",
        "\n",
        "      # print(np.mean(samples), np.mean(x_truth))\n",
        "      # print(samples)\n",
        "\n",
        "      # x_truth = x_scaler.inverse_transform(x_batch)\n",
        "      x_truth = np.expand_dims(x_scaler.inverse_transform(x_batch[:,:,0]), -1)\n",
        "\n",
        "      # tf.reduce_mean(x_truth[:,:,0], axis=(0))\n",
        "\n",
        "      sample_mean = tf.math.reduce_mean(samples, axis=0)\n",
        "      sample_std = tf.math.reduce_std(samples, axis=0)\n",
        "      x_truth_mean = tf.math.reduce_mean(x_truth[:,:,0], axis=0)\n",
        "      x_truth_std = tf.math.reduce_std(x_truth[:,:,0], axis=0)\n",
        "\n",
        "      # print(type(sample_mean), type(x_truth_mean))\n",
        "      # diff = 100 * np.abs(sample_mean - x_truth_mean) / x_truth_mean\n",
        "      diff = -1\n",
        "\n",
        "      # print(\"Mean of sample = %.2f (%.2f); mean of truth = %.2f (%.2f); difference = %.2f percent.\" % (sample_mean, sample_std, x_truth_mean, x_truth_std, diff))\n",
        "      \n",
        "      print(\"Mean of sample = \", end=\"\\t\")\n",
        "      print(sample_mean)\n",
        "      print(\" x truth mean = \", end=\"\\t\")\n",
        "      print(x_truth_mean)\n",
        "      print(\" diff = \", end=\"\\t\")\n",
        "      print(diff)\n",
        "      \n",
        "\n",
        "      # print(params['corner_labels'])\n",
        "      # Get corner parnames to use in plotting labels\n",
        "      parnames = []\n",
        "      for k_idx, k in enumerate(params['rand_pars']):\n",
        "          # print(k_idx, k)\n",
        "          if np.isin(k, params['inf_pars']):\n",
        "              parnames.append(params['corner_labels'][k])\n",
        "\n",
        "      full_true_x = np.zeros(x_truth.shape[1:])\n",
        "      new_samples = np.zeros([samples.shape[0], len(params['inf_pars'])])\n",
        "\n",
        "      # print(full_true_x.shape)\n",
        "      # print(x_truth[0].shape)\n",
        "      for inf_par_idx, inf_par in enumerate(params['inf_pars']):\n",
        "          new_samples[:,inf_par_idx] = samples[:,inf_par_idx]\n",
        "          full_true_x[inf_par_idx] = x_truth[0, inf_par_idx, 0]\n",
        "      \n",
        "  #     plt.subplot(width, height, step + 1)\n",
        "      figure = corner.corner(new_samples, **defaults_kwargs,labels=parnames,\n",
        "                        color='tab:red',\n",
        "                        fill_contours=True, truths=full_true_x[:,0],\n",
        "                        show_titles=True, hist_kwargs=hist_kwargs)"
      ],
      "metadata": {
        "id": "87p4II7XF6a5"
      },
      "execution_count": 1127,
      "outputs": []
    },
    {
      "cell_type": "code",
      "source": [
        "generate_posterior(train_dataset)"
      ],
      "metadata": {
        "colab": {
          "base_uri": "https://localhost:8080/",
          "height": 1000
        },
        "id": "VRlfM4zNGJkr",
        "outputId": "1daaa3dd-e370-4003-cbda-0610a0c8d77d"
      },
      "execution_count": 1128,
      "outputs": [
        {
          "output_type": "stream",
          "name": "stdout",
          "text": [
            "samp_iterations 10\n",
            "Epoch: 50, run ./ Testing time elapsed for 100 samples.\n",
            "Mean of sample = \ttf.Tensor([3.00216955e+00 2.04427307e-07], shape=(2,), dtype=float64)\n",
            " x truth mean = \ttf.Tensor([3.00463498e+00 3.12149050e-07], shape=(2,), dtype=float64)\n",
            " diff = \t-1\n",
            "samp_iterations 10\n",
            "Epoch: 50, run ./ Testing time elapsed for 100 samples.\n",
            "Mean of sample = \ttf.Tensor([3.00050350e+00 1.74777598e-07], shape=(2,), dtype=float64)\n",
            " x truth mean = \ttf.Tensor([2.99638727e+00 9.25971089e-08], shape=(2,), dtype=float64)\n",
            " diff = \t-1\n",
            "samp_iterations 10\n",
            "Epoch: 50, run ./ Testing time elapsed for 100 samples.\n",
            "Mean of sample = \ttf.Tensor([3.00036868e+00 1.41330717e-07], shape=(2,), dtype=float64)\n",
            " x truth mean = \ttf.Tensor([ 2.99827011e+00 -8.68278755e-08], shape=(2,), dtype=float64)\n",
            " diff = \t-1\n",
            "samp_iterations 10\n",
            "Epoch: 50, run ./ Testing time elapsed for 100 samples.\n",
            "Mean of sample = \ttf.Tensor([3.00065984e+00 1.81972918e-07], shape=(2,), dtype=float64)\n",
            " x truth mean = \ttf.Tensor([2.99362513e+00 2.63351833e-07], shape=(2,), dtype=float64)\n",
            " diff = \t-1\n",
            "samp_iterations 10\n",
            "Epoch: 50, run ./ Testing time elapsed for 100 samples.\n",
            "Mean of sample = \ttf.Tensor([3.00085975e+00 1.38084101e-07], shape=(2,), dtype=float64)\n",
            " x truth mean = \ttf.Tensor([2.99929756e+00 1.74393249e-08], shape=(2,), dtype=float64)\n",
            " diff = \t-1\n"
          ]
        },
        {
          "output_type": "display_data",
          "data": {
            "text/plain": [
              "<Figure size 396x396 with 4 Axes>"
            ],
            "image/png": "[encoded data removed]"
          },
          "metadata": {
            "needs_background": "light"
          }
        },
        {
          "output_type": "display_data",
          "data": {
            "text/plain": [
              "<Figure size 396x396 with 4 Axes>"
            ],
            "image/png": "[encoded data removed]"
          },
          "metadata": {
            "needs_background": "light"
          }
        },
        {
          "output_type": "display_data",
          "data": {
            "text/plain": [
              "<Figure size 396x396 with 4 Axes>"
            ],
            "image/png": "[encoded data removed]"
          },
          "metadata": {
            "needs_background": "light"
          }
        },
        {
          "output_type": "display_data",
          "data": {
            "text/plain": [
              "<Figure size 396x396 with 4 Axes>"
            ],
            "image/png": "[encoded data removed]"
          },
          "metadata": {
            "needs_background": "light"
          }
        },
        {
          "output_type": "display_data",
          "data": {
            "text/plain": [
              "<Figure size 396x396 with 4 Axes>"
            ],
            "image/png": "[encoded data removed]"
          },
          "metadata": {
            "needs_background": "light"
          }
        }
      ]
    },
    {
      "cell_type": "code",
      "source": [
        "generate_posterior(test_dataset)"
      ],
      "metadata": {
        "colab": {
          "base_uri": "https://localhost:8080/",
          "height": 494
        },
        "id": "wvQmLTNTHK_K",
        "outputId": "c399797f-6b38-41ae-9c49-3078163a157a"
      },
      "execution_count": 1129,
      "outputs": [
        {
          "output_type": "stream",
          "name": "stdout",
          "text": [
            "samp_iterations 10\n",
            "Epoch: 50, run ./ Testing time elapsed for 100 samples.\n",
            "Mean of sample = \ttf.Tensor([3.00001847e+00 2.19273839e-07], shape=(2,), dtype=float64)\n",
            " x truth mean = \ttf.Tensor([3.00692532e+00 2.17440068e-07], shape=(2,), dtype=float64)\n",
            " diff = \t-1\n"
          ]
        },
        {
          "output_type": "display_data",
          "data": {
            "text/plain": [
              "<Figure size 396x396 with 4 Axes>"
            ],
            "image/png": "[encoded data removed]"
          },
          "metadata": {
            "needs_background": "light"
          }
        }
      ]
    },
    {
      "cell_type": "code",
      "source": [],
      "metadata": {
        "id": "47ytbwagZc5m"
      },
      "execution_count": 932,
      "outputs": []
    },
    {
      "cell_type": "code",
      "source": [],
      "metadata": {
        "id": "aso1fe0iaghE"
      },
      "execution_count": 932,
      "outputs": []
    },
    {
      "cell_type": "code",
      "source": [],
      "metadata": {
        "id": "fwpiX9DVakLg"
      },
      "execution_count": 819,
      "outputs": []
    },
    {
      "cell_type": "code",
      "source": [
        "x_truth"
      ],
      "metadata": {
        "colab": {
          "base_uri": "https://localhost:8080/"
        },
        "id": "NDOoRHHcazsB",
        "outputId": "17131635-4d28-42fb-8fdd-c4012f48797f"
      },
      "execution_count": 1126,
      "outputs": [
        {
          "output_type": "execute_result",
          "data": {
            "text/plain": [
              "<tf.Tensor: shape=(2, 2, 1), dtype=float32, numpy=\n",
              "array([[[ 1.9991537e+01],\n",
              "        [-2.8287377e-07]],\n",
              "\n",
              "       [[ 2.0020668e+01],\n",
              "        [ 1.2588627e-07]]], dtype=float32)>"
            ]
          },
          "metadata": {},
          "execution_count": 1126
        }
      ]
    },
    {
      "cell_type": "code",
      "source": [
        "np.expand_dims(x_scaler.inverse_transform(x_truth[:,:,0]), -1)"
      ],
      "metadata": {
        "colab": {
          "base_uri": "https://localhost:8080/"
        },
        "id": "2UY-_TYqc1KG",
        "outputId": "54c96adf-4b51-4bcb-b454-eef4462d4004"
      },
      "execution_count": 1114,
      "outputs": [
        {
          "output_type": "execute_result",
          "data": {
            "text/plain": [
              "array([[[3.31436913e+00],\n",
              "        [1.27789631e-07]],\n",
              "\n",
              "       [[3.31482923e+00],\n",
              "        [1.27789819e-07]]])"
            ]
          },
          "metadata": {},
          "execution_count": 1114
        }
      ]
    },
    {
      "cell_type": "code",
      "source": [
        "tf.math.reduce_mean(x_truth[:,:,0], axis=0)"
      ],
      "metadata": {
        "colab": {
          "base_uri": "https://localhost:8080/"
        },
        "id": "AzPBfERvHi0v",
        "outputId": "8bae351a-b078-4cdb-e0de-009ba3f9064c"
      },
      "execution_count": 1123,
      "outputs": [
        {
          "output_type": "execute_result",
          "data": {
            "text/plain": [
              "<tf.Tensor: shape=(2,), dtype=float32, numpy=array([ 2.0006104e+01, -7.8493748e-08], dtype=float32)>"
            ]
          },
          "metadata": {},
          "execution_count": 1123
        }
      ]
    },
    {
      "cell_type": "code",
      "source": [],
      "metadata": {
        "colab": {
          "base_uri": "https://localhost:8080/"
        },
        "id": "ccjQSDp-JDgx",
        "outputId": "1df88668-390d-4fd4-a6a0-29e6e6604305"
      },
      "execution_count": 1099,
      "outputs": [
        {
          "output_type": "execute_result",
          "data": {
            "text/plain": [
              "<tf.Tensor: shape=(2, 2, 1), dtype=float32, numpy=\n",
              "array([[[ 1.9991537e+01],\n",
              "        [-2.8287377e-07]],\n",
              "\n",
              "       [[ 2.0020668e+01],\n",
              "        [ 1.2588627e-07]]], dtype=float32)>"
            ]
          },
          "metadata": {},
          "execution_count": 1099
        }
      ]
    },
    {
      "cell_type": "code",
      "source": [],
      "metadata": {
        "id": "TDyMVC4HJHm8"
      },
      "execution_count": null,
      "outputs": []
    }
  ]
}