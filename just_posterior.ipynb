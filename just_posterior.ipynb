{
  "nbformat": 4,
  "nbformat_minor": 0,
  "metadata": {
    "colab": {
      "provenance": [],
      "authorship_tag": "ABX9TyN1xd/aDtG/mlXbAYYVujuF",
      "include_colab_link": true
    },
    "kernelspec": {
      "name": "python3",
      "display_name": "Python 3"
    },
    "language_info": {
      "name": "python"
    }
  },
  "cells": [
    {
      "cell_type": "markdown",
      "metadata": {
        "id": "view-in-github",
        "colab_type": "text"
      },
      "source": [
        "<a href=\"https://colab.research.google.com/github/tripatheea/auto/blob/main/just_posterior.ipynb\" target=\"_parent\"><img src=\"https://colab.research.google.com/assets/colab-badge.svg\" alt=\"Open In Colab\"/></a>"
      ]
    },
    {
      "cell_type": "code",
      "execution_count": 2,
      "metadata": {
        "colab": {
          "base_uri": "https://localhost:8080/"
        },
        "id": "Niel0t6Ye_a0",
        "outputId": "05141184-2a0d-4c74-955f-58e59d408990"
      },
      "outputs": [
        {
          "output_type": "stream",
          "name": "stdout",
          "text": [
            "Looking in indexes: https://pypi.org/simple, https://us-python.pkg.dev/colab-wheels/public/simple/\n",
            "Requirement already satisfied: tensorflow-probability in /usr/local/lib/python3.8/dist-packages (0.17.0)\n",
            "Requirement already satisfied: numpy>=1.13.3 in /usr/local/lib/python3.8/dist-packages (from tensorflow-probability) (1.21.6)\n",
            "Requirement already satisfied: six>=1.10.0 in /usr/local/lib/python3.8/dist-packages (from tensorflow-probability) (1.15.0)\n",
            "Requirement already satisfied: decorator in /usr/local/lib/python3.8/dist-packages (from tensorflow-probability) (4.4.2)\n",
            "Requirement already satisfied: dm-tree in /usr/local/lib/python3.8/dist-packages (from tensorflow-probability) (0.1.8)\n",
            "Requirement already satisfied: absl-py in /usr/local/lib/python3.8/dist-packages (from tensorflow-probability) (1.3.0)\n",
            "Requirement already satisfied: gast>=0.3.2 in /usr/local/lib/python3.8/dist-packages (from tensorflow-probability) (0.4.0)\n",
            "Requirement already satisfied: cloudpickle>=1.3 in /usr/local/lib/python3.8/dist-packages (from tensorflow-probability) (2.2.0)\n",
            "Looking in indexes: https://pypi.org/simple, https://us-python.pkg.dev/colab-wheels/public/simple/\n",
            "Requirement already satisfied: imageio in /usr/local/lib/python3.8/dist-packages (2.9.0)\n",
            "Requirement already satisfied: pillow in /usr/local/lib/python3.8/dist-packages (from imageio) (7.1.2)\n",
            "Requirement already satisfied: numpy in /usr/local/lib/python3.8/dist-packages (from imageio) (1.21.6)\n",
            "Looking in indexes: https://pypi.org/simple, https://us-python.pkg.dev/colab-wheels/public/simple/\n",
            "Collecting git+https://github.com/tensorflow/docs\n",
            "  Cloning https://github.com/tensorflow/docs to /tmp/pip-req-build-sqgr8bea\n",
            "  Running command git clone --filter=blob:none --quiet https://github.com/tensorflow/docs /tmp/pip-req-build-sqgr8bea\n",
            "  Resolved https://github.com/tensorflow/docs to commit 8f431e2b96ebbebd325a7162a00c40653af799e5\n",
            "  Preparing metadata (setup.py) ... \u001b[?25l\u001b[?25hdone\n",
            "Requirement already satisfied: astor in /usr/local/lib/python3.8/dist-packages (from tensorflow-docs==0.0.0.dev0) (0.8.1)\n",
            "Requirement already satisfied: absl-py in /usr/local/lib/python3.8/dist-packages (from tensorflow-docs==0.0.0.dev0) (1.3.0)\n",
            "Requirement already satisfied: jinja2 in /usr/local/lib/python3.8/dist-packages (from tensorflow-docs==0.0.0.dev0) (2.11.3)\n",
            "Requirement already satisfied: nbformat in /usr/local/lib/python3.8/dist-packages (from tensorflow-docs==0.0.0.dev0) (5.7.1)\n",
            "Requirement already satisfied: protobuf<3.20,>=3.12.0 in /usr/local/lib/python3.8/dist-packages (from tensorflow-docs==0.0.0.dev0) (3.19.6)\n",
            "Requirement already satisfied: pyyaml in /usr/local/lib/python3.8/dist-packages (from tensorflow-docs==0.0.0.dev0) (6.0)\n",
            "Requirement already satisfied: MarkupSafe>=0.23 in /usr/local/lib/python3.8/dist-packages (from jinja2->tensorflow-docs==0.0.0.dev0) (2.0.1)\n",
            "Requirement already satisfied: jupyter-core in /usr/local/lib/python3.8/dist-packages (from nbformat->tensorflow-docs==0.0.0.dev0) (5.1.3)\n",
            "Requirement already satisfied: fastjsonschema in /usr/local/lib/python3.8/dist-packages (from nbformat->tensorflow-docs==0.0.0.dev0) (2.16.2)\n",
            "Requirement already satisfied: jsonschema>=2.6 in /usr/local/lib/python3.8/dist-packages (from nbformat->tensorflow-docs==0.0.0.dev0) (4.3.3)\n",
            "Requirement already satisfied: traitlets>=5.1 in /usr/local/lib/python3.8/dist-packages (from nbformat->tensorflow-docs==0.0.0.dev0) (5.7.1)\n",
            "Requirement already satisfied: importlib-resources>=1.4.0 in /usr/local/lib/python3.8/dist-packages (from jsonschema>=2.6->nbformat->tensorflow-docs==0.0.0.dev0) (5.10.2)\n",
            "Requirement already satisfied: attrs>=17.4.0 in /usr/local/lib/python3.8/dist-packages (from jsonschema>=2.6->nbformat->tensorflow-docs==0.0.0.dev0) (22.2.0)\n",
            "Requirement already satisfied: pyrsistent!=0.17.0,!=0.17.1,!=0.17.2,>=0.14.0 in /usr/local/lib/python3.8/dist-packages (from jsonschema>=2.6->nbformat->tensorflow-docs==0.0.0.dev0) (0.19.3)\n",
            "Requirement already satisfied: platformdirs>=2.5 in /usr/local/lib/python3.8/dist-packages (from jupyter-core->nbformat->tensorflow-docs==0.0.0.dev0) (2.6.2)\n",
            "Requirement already satisfied: zipp>=3.1.0 in /usr/local/lib/python3.8/dist-packages (from importlib-resources>=1.4.0->jsonschema>=2.6->nbformat->tensorflow-docs==0.0.0.dev0) (3.11.0)\n",
            "Building wheels for collected packages: tensorflow-docs\n",
            "  Building wheel for tensorflow-docs (setup.py) ... \u001b[?25l\u001b[?25hdone\n",
            "  Created wheel for tensorflow-docs: filename=tensorflow_docs-0.0.0.dev0-py3-none-any.whl size=184468 sha256=3d8c6abc8bc701d01c0b506d2f599b7974871f77ef7c908dd1653ccfb1b40c3e\n",
            "  Stored in directory: /tmp/pip-ephem-wheel-cache-4gkk74px/wheels/3b/ee/a2/ab4d36a9a4af495bcb936f3e849d4b497b65fa40548a68d6c3\n",
            "Successfully built tensorflow-docs\n",
            "Installing collected packages: tensorflow-docs\n",
            "Successfully installed tensorflow-docs-0.0.0.dev0\n"
          ]
        }
      ],
      "source": [
        "! pip install tensorflow-probability\n",
        "\n",
        "# to generate gifs\n",
        "! pip install imageio\n",
        "! pip install git+https://github.com/tensorflow/docs"
      ]
    },
    {
      "cell_type": "code",
      "source": [
        "from IPython import display\n",
        "\n",
        "import glob\n",
        "import imageio\n",
        "import matplotlib.pyplot as plt\n",
        "import numpy as np\n",
        "import PIL\n",
        "import tensorflow as tf\n",
        "import tensorflow_probability as tfp\n",
        "import time\n",
        "\n",
        "from tensorflow.python.framework.ops import disable_eager_execution, enable_eager_execution"
      ],
      "metadata": {
        "id": "j1LCh9FufCHN"
      },
      "execution_count": 3,
      "outputs": []
    },
    {
      "cell_type": "code",
      "source": [
        "# import keras\n",
        "# from keras import Model\n",
        "# from keras.layers import Input, Conv2D, MaxPooling2D, UpSampling2D, Concatenate, Reshape, Dense, Lambda, Flatten\n",
        "# from keras import backend as K\n",
        "\n",
        "import warnings\n",
        "warnings.filterwarnings('ignore')\n",
        "import numpy as np\n",
        "import glob\n",
        "import skimage\n",
        "import skimage.transform\n",
        "import skimage.io\n",
        "import PIL\n",
        "import numpy as np\n",
        "import os\n",
        "from IPython.display import clear_output\n",
        "import pandas as pd\n",
        "import matplotlib.pyplot as plt\n",
        "%matplotlib inline\n",
        "from ipywidgets import interact, interactive, fixed, interact_manual\n",
        "import ipywidgets as widgets\n",
        "import imageio\n",
        "# import utils"
      ],
      "metadata": {
        "id": "tVaauFC-fDYD"
      },
      "execution_count": 4,
      "outputs": []
    },
    {
      "cell_type": "code",
      "source": [
        "! pip install corner"
      ],
      "metadata": {
        "colab": {
          "base_uri": "https://localhost:8080/"
        },
        "id": "gFlwAnf6I2hf",
        "outputId": "ad5f395f-3264-4fab-d771-27f2439763f2"
      },
      "execution_count": 235,
      "outputs": [
        {
          "output_type": "stream",
          "name": "stdout",
          "text": [
            "Looking in indexes: https://pypi.org/simple, https://us-python.pkg.dev/colab-wheels/public/simple/\n",
            "Collecting corner\n",
            "  Downloading corner-2.2.1-py3-none-any.whl (15 kB)\n",
            "Requirement already satisfied: matplotlib>=2.1 in /usr/local/lib/python3.8/dist-packages (from corner) (3.2.2)\n",
            "Requirement already satisfied: kiwisolver>=1.0.1 in /usr/local/lib/python3.8/dist-packages (from matplotlib>=2.1->corner) (1.4.4)\n",
            "Requirement already satisfied: pyparsing!=2.0.4,!=2.1.2,!=2.1.6,>=2.0.1 in /usr/local/lib/python3.8/dist-packages (from matplotlib>=2.1->corner) (3.0.9)\n",
            "Requirement already satisfied: numpy>=1.11 in /usr/local/lib/python3.8/dist-packages (from matplotlib>=2.1->corner) (1.21.6)\n",
            "Requirement already satisfied: cycler>=0.10 in /usr/local/lib/python3.8/dist-packages (from matplotlib>=2.1->corner) (0.11.0)\n",
            "Requirement already satisfied: python-dateutil>=2.1 in /usr/local/lib/python3.8/dist-packages (from matplotlib>=2.1->corner) (2.8.2)\n",
            "Requirement already satisfied: six>=1.5 in /usr/local/lib/python3.8/dist-packages (from python-dateutil>=2.1->matplotlib>=2.1->corner) (1.15.0)\n",
            "Installing collected packages: corner\n",
            "Successfully installed corner-2.2.1\n"
          ]
        }
      ]
    },
    {
      "cell_type": "code",
      "source": [
        "import corner"
      ],
      "metadata": {
        "id": "humASsJJI373"
      },
      "execution_count": 236,
      "outputs": []
    },
    {
      "cell_type": "code",
      "source": [
        "enable_eager_execution()"
      ],
      "metadata": {
        "id": "F8zKLspGfETx"
      },
      "execution_count": 5,
      "outputs": []
    },
    {
      "cell_type": "code",
      "source": [
        "WIDTH = 48"
      ],
      "metadata": {
        "id": "xCAiw4XLfFMD"
      },
      "execution_count": 510,
      "outputs": []
    },
    {
      "cell_type": "code",
      "source": [
        "import numpy as np\n",
        "import matplotlib.pyplot as plt\n",
        "\n",
        "import time\n",
        "from tensorflow.keras import regularizers\n",
        "import tensorflow.keras.initializers\n",
        "\n",
        "def\tMakeSpectrogram(f_sig = 100., bandwidth = 0.25, Tobs_hr = 24., Tcoh_hr = .25, \n",
        "\t\thnoise = 100., hamp = .4, fsamp = 512., fdot_sig = -1e-6, \n",
        "\t\tplot_num = 0, plot = False, write_to_file = False):\n",
        "\t\n",
        "\t##### Defining Variables #####\n",
        "\t# f_sig     --- signal central frequency, hz\n",
        "\t# bandwidth --- bandwidth of search, width of each freq, hz\n",
        "\t# Tobs_hr   --- Length of observation, hrs\n",
        "\t# Tcoh_hr   --- Coherence time, hrs\n",
        "\t# hnoise    --- noise amplitude\n",
        "\t# hamp      --- signal amplitude\n",
        "\t# fsamp     --- sampling frequency, hz\n",
        "\t# fdot_sig  --- Signal frequency derivative \n",
        "\t# plot_num  --- if multiple files is an index\n",
        "\t# whereto   --- Where to save plot\n",
        "\t\n",
        "\t##### Booleans ####\n",
        "\t# plot      \t--- whether or not to plot\n",
        "\t# write_to_file --- whether to save data to .txt file\n",
        "\n",
        "\t#### Returns ####\n",
        "\t# frequency \n",
        "\t# time\n",
        "\t# spectrogram\n",
        "\n",
        "\t# Define constants\n",
        "\tSECS_PER_HOUR = 3600\n",
        "\t\n",
        "\t# Find amplitude spectral density for noise\n",
        "\tnoiseamp = hnoise*np.sqrt(4./fsamp) \n",
        "\t\n",
        "\t\n",
        "\t# Convert observation and coherence time to seconds\n",
        "\tTobs = Tobs_hr * SECS_PER_HOUR\n",
        "\tTcoh = Tcoh_hr * SECS_PER_HOUR\n",
        "\n",
        "\t# Find low and high frequency\n",
        "\tfreqlo_approx = f_sig - 0.5 * bandwidth\n",
        "\tfreqlo = np.floor(freqlo_approx * Tcoh) / Tcoh\n",
        "\tfreqhi = freqlo + bandwidth\n",
        "\n",
        "\t# Define time series to hold raw data stream of signal + noise\n",
        "\tdeltat = 1. / fsamp\n",
        "\tt = np.arange(0,Tobs,deltat)\n",
        "\tNsample = len(t)\n",
        "\t# print ('Nsample = %i'%len(t))\n",
        "\t\n",
        "\t# Generate signal in the time domain\n",
        "\tnoise = noiseamp * np.random.normal(0, scale = 1, size = (Nsample,))\n",
        "\tsignal = hamp * np.sin(2 * np.pi * (f_sig * t + .5 * fdot_sig * t**2))\n",
        "\n",
        "\tdata = signal + noise\n",
        "\n",
        "\t# Generate spectra for each coherence time & extract band of interest to make spectrogram\n",
        "\tindbandlo = int(np.floor(freqlo * Tcoh))\n",
        "\tindbandhi = int(np.floor(freqhi * Tcoh))\n",
        "\tnbandbin  = indbandhi - indbandlo\n",
        "\tNseg = int(np.floor(Tobs / Tcoh))\n",
        "\tNsample_coh = int(np.floor(Nsample / Nseg))\n",
        "\tspectrogram = np.zeros((nbandbin,Nseg),)\t\n",
        "\t# print( np.shape(spectrogram) )\n",
        "\t\n",
        "\tfor seg in range(Nseg):\n",
        "\t\t# print('Generating segment %d\\n'%(seg))\n",
        "\t\tindlo = seg * Nsample_coh\n",
        "\t\tindhi = indlo + Nsample_coh \n",
        "\t\tsegment = data[indlo:indhi]\n",
        "\t\t\n",
        "\t\trawfft = np.fft.fft(segment,Nsample_coh, axis = 0)\n",
        "\t\tspectrogram[:,seg] = 2 * abs(rawfft[indbandlo:indbandhi])\n",
        "\t\t\n",
        "\tsegarray = np.arange(0,Nseg)\n",
        "\tseghour = (segarray) * Tcoh / SECS_PER_HOUR\n",
        "\tindarray = np.arange(indbandlo,indbandhi + 1)\n",
        "\tfreqplot = (indarray - indbandlo)*1.0/Tcoh + freqlo\t\n",
        "\t\n",
        "\tif plot:\n",
        "\t\tplt.clf()\n",
        "\t\t# print('Plotting spectrogram')\n",
        "\t\t\n",
        "\t\tplt.pcolormesh(seghour, freqplot, spectrogram)\n",
        "\t\tplt.ylabel('Frequency [Hz]')\n",
        "\t\tplt.xlabel('Time [Hours]')\n",
        "  \n",
        "  \n",
        "\treturn(seghour, freqplot, spectrogram)\n",
        "\n"
      ],
      "metadata": {
        "id": "uQxcvbBNfF76"
      },
      "execution_count": 511,
      "outputs": []
    },
    {
      "cell_type": "code",
      "source": [
        "def fix_dims_and_normalize(s):\n",
        "  \n",
        "  s = np.pad(s, ((0, WIDTH - s.shape[0]), (0, WIDTH - s.shape[1])))\n",
        "\n",
        "  return (s - np.min(s)) / (np.max(s) - np.min(s))"
      ],
      "metadata": {
        "id": "6AiICvfjfGgR"
      },
      "execution_count": 603,
      "outputs": []
    },
    {
      "cell_type": "code",
      "source": [
        "bandwidth = 0.054\n",
        "f_sig = 20.0"
      ],
      "metadata": {
        "id": "fWru13CRfHM6"
      },
      "execution_count": 604,
      "outputs": []
    },
    {
      "cell_type": "code",
      "source": [
        "t, f, spec = MakeSpectrogram(f_sig = np.random.uniform(f_sig - 0.5 * bandwidth, f_sig + 0.5 * bandwidth), bandwidth = bandwidth, Tobs_hr = 12., Tcoh_hr = .25, \n",
        "              hnoise = np.random.uniform(0.0, 0.001), hamp = np.random.uniform(0.1, 0.5), fsamp = 128., fdot_sig = np.random.choice([-1, 1]) * 10**np.random.uniform(-6, -7), \n",
        "              plot_num = 0, plot = True, write_to_file = False)"
      ],
      "metadata": {
        "colab": {
          "base_uri": "https://localhost:8080/",
          "height": 283
        },
        "id": "F4Jf6CI8fJu6",
        "outputId": "692e30e6-4259-460e-d8b2-fcf31933b808"
      },
      "execution_count": 605,
      "outputs": [
        {
          "output_type": "display_data",
          "data": {
            "text/plain": [
              "<Figure size 432x288 with 1 Axes>"
            ],
            "image/png": "[encoded data removed]"
          },
          "metadata": {
            "needs_background": "light"
          }
        }
      ]
    },
    {
      "cell_type": "code",
      "source": [
        "spec.shape"
      ],
      "metadata": {
        "colab": {
          "base_uri": "https://localhost:8080/"
        },
        "id": "aJCAHovxQknn",
        "outputId": "1ba59294-2ff9-4544-a35c-b8d1c06fa3eb"
      },
      "execution_count": 606,
      "outputs": [
        {
          "output_type": "execute_result",
          "data": {
            "text/plain": [
              "(48, 48)"
            ]
          },
          "metadata": {},
          "execution_count": 606
        }
      ]
    },
    {
      "cell_type": "code",
      "source": [
        "all_specs = []\n",
        "N = 20\n",
        "\n",
        "x_s = []\n",
        "for i in range(N):\n",
        "  # t, f, spec = MakeSpectrogram(f_sig = np.random.random() * 100., bandwidth = 0.05, Tobs_hr = 12., Tcoh_hr = .25, \n",
        "  #             hnoise = 100. + (1 - 2 * np.random.random() * 10.), hamp = .4, fsamp = 128., fdot_sig = -1e-6, \n",
        "  #             plot_num = 0, plot = True, write_to_file = False)\n",
        "  freq = np.random.uniform(f_sig - 0.5 * bandwidth, f_sig + 0.5 * bandwidth)\n",
        "  spindown = np.random.choice([-1, 1]) * 10**np.random.uniform(-6, -7)\n",
        "  t, f, spec = MakeSpectrogram(f_sig = freq, bandwidth = bandwidth, Tobs_hr = 12., Tcoh_hr = .25, \n",
        "            hnoise = np.random.uniform(0.0, 0.001), hamp = np.random.uniform(0.1, 0.5), fsamp = 128., fdot_sig = spindown, \n",
        "            plot_num = 0, plot = True, write_to_file = False)\n",
        "  \n",
        "  r = fix_dims_and_normalize(np.copy(spec))\n",
        "\n",
        "  # print(r.shape)\n",
        "  all_specs.append(r)\n",
        "  x_s.append((freq, spindown))\n",
        "\n",
        "  if (i % 100) == 0:\n",
        "    print(f\"i = {i}\")\n",
        "\n",
        "all_specs = np.asanyarray(all_specs)\n",
        "\n",
        "size = len(all_specs)\n",
        "\n",
        "print(all_specs.shape)"
      ],
      "metadata": {
        "colab": {
          "base_uri": "https://localhost:8080/",
          "height": 314
        },
        "id": "LB-D6wcFfKYT",
        "outputId": "6d70723d-4140-4c1e-9ced-3537de59de85"
      },
      "execution_count": 612,
      "outputs": [
        {
          "output_type": "stream",
          "name": "stdout",
          "text": [
            "i = 0\n",
            "(20, 48, 48)\n"
          ]
        },
        {
          "output_type": "display_data",
          "data": {
            "text/plain": [
              "<Figure size 432x288 with 1 Axes>"
            ],
            "image/png": "[encoded data removed]"
          },
          "metadata": {
            "needs_background": "light"
          }
        }
      ]
    },
    {
      "cell_type": "code",
      "source": [
        "all_specs.shape"
      ],
      "metadata": {
        "colab": {
          "base_uri": "https://localhost:8080/"
        },
        "id": "l3whEmiRUEHy",
        "outputId": "78da6c3a-8643-4fb5-a96e-44050ca6dc4d"
      },
      "execution_count": 613,
      "outputs": [
        {
          "output_type": "execute_result",
          "data": {
            "text/plain": [
              "(20, 48, 48)"
            ]
          },
          "metadata": {},
          "execution_count": 613
        }
      ]
    },
    {
      "cell_type": "code",
      "source": [
        "plt.pcolormesh(all_specs[0,:,:])"
      ],
      "metadata": {
        "colab": {
          "base_uri": "https://localhost:8080/",
          "height": 282
        },
        "id": "Hn7qBFgvUt6U",
        "outputId": "4f3284d6-b7dd-4d9c-97d5-07daf8a474fd"
      },
      "execution_count": 614,
      "outputs": [
        {
          "output_type": "execute_result",
          "data": {
            "text/plain": [
              "<matplotlib.collections.QuadMesh at 0x7fcb795328b0>"
            ]
          },
          "metadata": {},
          "execution_count": 614
        },
        {
          "output_type": "display_data",
          "data": {
            "text/plain": [
              "<Figure size 432x288 with 1 Axes>"
            ],
            "image/png": "[encoded data removed]"
          },
          "metadata": {
            "needs_background": "light"
          }
        }
      ]
    },
    {
      "cell_type": "code",
      "source": [],
      "metadata": {
        "id": "lQ9ON-EiWyeE"
      },
      "execution_count": 614,
      "outputs": []
    },
    {
      "cell_type": "code",
      "source": [
        "x_s[0,:]"
      ],
      "metadata": {
        "colab": {
          "base_uri": "https://localhost:8080/",
          "height": 167
        },
        "id": "O2Qv7CWXUzuI",
        "outputId": "53d3074e-7552-4fcc-9178-a4bde38963c6"
      },
      "execution_count": 617,
      "outputs": [
        {
          "output_type": "error",
          "ename": "TypeError",
          "evalue": "ignored",
          "traceback": [
            "\u001b[0;31m---------------------------------------------------------------------------\u001b[0m",
            "\u001b[0;31mTypeError\u001b[0m                                 Traceback (most recent call last)",
            "\u001b[0;32m<ipython-input-617-8e08f1c6d8eb>\u001b[0m in \u001b[0;36m<module>\u001b[0;34m\u001b[0m\n\u001b[0;32m----> 1\u001b[0;31m \u001b[0mx_s\u001b[0m\u001b[0;34m[\u001b[0m\u001b[0;36m0\u001b[0m\u001b[0;34m,\u001b[0m\u001b[0;34m:\u001b[0m\u001b[0;34m]\u001b[0m\u001b[0;34m\u001b[0m\u001b[0;34m\u001b[0m\u001b[0m\n\u001b[0m",
            "\u001b[0;31mTypeError\u001b[0m: list indices must be integers or slices, not tuple"
          ]
        }
      ]
    },
    {
      "cell_type": "code",
      "source": [
        "x_s = np.asanyarray(x_s)\n",
        "\n",
        "x_s.shape"
      ],
      "metadata": {
        "colab": {
          "base_uri": "https://localhost:8080/"
        },
        "id": "YB2UNWVZfLAr",
        "outputId": "2b59747b-5b30-4e71-8f73-e56a042bae38"
      },
      "execution_count": 618,
      "outputs": [
        {
          "output_type": "execute_result",
          "data": {
            "text/plain": [
              "(20, 2)"
            ]
          },
          "metadata": {},
          "execution_count": 618
        }
      ]
    },
    {
      "cell_type": "code",
      "source": [
        "x_s"
      ],
      "metadata": {
        "colab": {
          "base_uri": "https://localhost:8080/"
        },
        "id": "ZIY2BcJENA5t",
        "outputId": "1addf941-406b-454c-e1b6-9aa5d7ec37d9"
      },
      "execution_count": 621,
      "outputs": [
        {
          "output_type": "execute_result",
          "data": {
            "text/plain": [
              "array([[ 1.99814278e+01,  1.24002373e-07],\n",
              "       [ 1.99921712e+01, -3.82246700e-07],\n",
              "       [ 2.00219066e+01,  1.53830749e-07],\n",
              "       [ 2.00095135e+01, -2.45264341e-07],\n",
              "       [ 2.00125053e+01, -8.39853776e-07],\n",
              "       [ 2.00211362e+01,  6.73600197e-07],\n",
              "       [ 2.00018486e+01, -1.98023561e-07],\n",
              "       [ 2.00262077e+01,  1.60245589e-07],\n",
              "       [ 1.99832435e+01, -1.10693426e-07],\n",
              "       [ 2.00078707e+01, -3.08058073e-07],\n",
              "       [ 2.00114289e+01, -1.17475992e-07],\n",
              "       [ 1.99856245e+01, -1.95522110e-07],\n",
              "       [ 1.99903966e+01,  3.90960182e-07],\n",
              "       [ 1.99798055e+01,  1.45630467e-07],\n",
              "       [ 1.99803164e+01,  6.33958995e-07],\n",
              "       [ 1.99915374e+01, -2.82873777e-07],\n",
              "       [ 2.00190646e+01,  8.46874749e-07],\n",
              "       [ 2.00206682e+01,  1.25886278e-07],\n",
              "       [ 2.00023788e+01,  3.13537974e-07],\n",
              "       [ 2.00202822e+01,  3.09697509e-07]])"
            ]
          },
          "metadata": {},
          "execution_count": 621
        }
      ]
    },
    {
      "cell_type": "code",
      "source": [
        "from sklearn.model_selection import train_test_split"
      ],
      "metadata": {
        "id": "1awoW1c4fL8d"
      },
      "execution_count": 622,
      "outputs": []
    },
    {
      "cell_type": "code",
      "source": [
        "x_train_s, x_test_s, y_train_s, y_test_s = train_test_split(x_s, all_specs, test_size=0.2, random_state=42)\n",
        "\n",
        "x_test_s, x_val_s, y_test_s, y_val_s = train_test_split(x_test_s, y_test_s, test_size=0.5, random_state=26)\n",
        "\n",
        "x_train_s.shape"
      ],
      "metadata": {
        "colab": {
          "base_uri": "https://localhost:8080/"
        },
        "id": "xRHDJExafMnZ",
        "outputId": "4be5d5bc-750d-4cea-d64a-555b238f2f9b"
      },
      "execution_count": 623,
      "outputs": [
        {
          "output_type": "execute_result",
          "data": {
            "text/plain": [
              "(16, 2)"
            ]
          },
          "metadata": {},
          "execution_count": 623
        }
      ]
    },
    {
      "cell_type": "code",
      "source": [
        "x_train_s = np.expand_dims(x_train_s, -1)\n",
        "x_test_s = np.expand_dims(x_test_s, -1)\n",
        "x_val_s = np.expand_dims(x_val_s, -1)\n",
        "\n",
        "y_train_s = np.expand_dims(y_train_s, -1)\n",
        "y_test_s = np.expand_dims(y_test_s, -1)\n",
        "y_val_s = np.expand_dims(y_val_s, -1)\n",
        "\n",
        "x_train_s.shape"
      ],
      "metadata": {
        "colab": {
          "base_uri": "https://localhost:8080/"
        },
        "id": "khtgnkPSfNKW",
        "outputId": "2db176fb-4c24-40ae-e97e-b26fc0cf8b23"
      },
      "execution_count": 624,
      "outputs": [
        {
          "output_type": "execute_result",
          "data": {
            "text/plain": [
              "(16, 2, 1)"
            ]
          },
          "metadata": {},
          "execution_count": 624
        }
      ]
    },
    {
      "cell_type": "code",
      "source": [
        "def convert_to_tensor_utility(x):\n",
        "    return tf.convert_to_tensor(x, dtype=tf.float32)\n",
        "\n",
        " \n",
        "x_train_s, y_train_s, x_test_s, y_test_s, x_val_s, y_val_s = tuple(map(convert_to_tensor_utility, [x_train_s, y_train_s, x_test_s, y_test_s, x_val_s, y_val_s]))"
      ],
      "metadata": {
        "id": "A_SYaXR0fNw6"
      },
      "execution_count": 625,
      "outputs": []
    },
    {
      "cell_type": "code",
      "source": [
        "x_train_s.shape, y_train_s.shape"
      ],
      "metadata": {
        "colab": {
          "base_uri": "https://localhost:8080/"
        },
        "id": "83U5j4OvfOhR",
        "outputId": "663acd07-b507-4f0c-e8c8-61e7378b5a05"
      },
      "execution_count": 626,
      "outputs": [
        {
          "output_type": "execute_result",
          "data": {
            "text/plain": [
              "(TensorShape([16, 2, 1]), TensorShape([16, 48, 48, 1]))"
            ]
          },
          "metadata": {},
          "execution_count": 626
        }
      ]
    },
    {
      "cell_type": "code",
      "source": [
        "y_train_s.shape, y_test_s.shape, y_val_s.shape"
      ],
      "metadata": {
        "colab": {
          "base_uri": "https://localhost:8080/"
        },
        "id": "6ISRpQCGfPUn",
        "outputId": "e7b64077-17e5-45a1-ab91-2b28b8348579"
      },
      "execution_count": 627,
      "outputs": [
        {
          "output_type": "execute_result",
          "data": {
            "text/plain": [
              "(TensorShape([16, 48, 48, 1]),\n",
              " TensorShape([2, 48, 48, 1]),\n",
              " TensorShape([2, 48, 48, 1]))"
            ]
          },
          "metadata": {},
          "execution_count": 627
        }
      ]
    },
    {
      "cell_type": "code",
      "source": [
        "batch_size = 4"
      ],
      "metadata": {
        "id": "Rrg7Fa14fn9R"
      },
      "execution_count": 628,
      "outputs": []
    },
    {
      "cell_type": "code",
      "source": [
        "train_dataset = tf.data.Dataset.from_tensor_slices((x_train_s, y_train_s)).batch(batch_size)\n",
        "test_dataset = tf.data.Dataset.from_tensor_slices((x_test_s, y_test_s)).batch(batch_size)\n",
        "val_dataset = tf.data.Dataset.from_tensor_slices((x_val_s, y_val_s)).batch(batch_size)"
      ],
      "metadata": {
        "id": "dGo6GUkJfoqz"
      },
      "execution_count": 629,
      "outputs": []
    },
    {
      "cell_type": "code",
      "source": [
        "params = dict()\n",
        "\n",
        "params['z_dim'] = 8\n",
        "params['n_modes'] = 1\n",
        "params['n_channels'] = 1\n",
        "params['ramp_start'] = 10\n",
        "params['ramp_end'] = 20\n",
        "params['y_normscale'] = 1.0\n",
        "\n",
        "params['rand_pars'] = ['frequency', 'fdot']\n",
        "params['inf_pars'] = ['frequency', 'fdot']\n"
      ],
      "metadata": {
        "id": "p1znqNWCfpPr"
      },
      "execution_count": 630,
      "outputs": []
    },
    {
      "cell_type": "code",
      "source": [
        "def ramp_func(epoch,start,ramp_length, n_cycles):\n",
        "    i = (epoch - start) / (2.0 * ramp_length)\n",
        "    print(epoch,i)\n",
        "    \n",
        "    if i < 0:\n",
        "        return 0.0\n",
        "    if i >= n_cycles:\n",
        "        return 1.0\n",
        "    \n",
        "    return min(1.0, 2.0 * np.remainder(i, 1.0))\n",
        "\n",
        "optimizer = tf.keras.optimizers.Adam(1e-4)\n",
        "initializer = tf.keras.initializers.GlorotUniform()"
      ],
      "metadata": {
        "id": "sLt_iTgrfqqE"
      },
      "execution_count": 631,
      "outputs": []
    },
    {
      "cell_type": "code",
      "source": [
        "def define_encoder_block(x, num_filters):  \n",
        "    \"\"\"\n",
        "    Todo: Define two sequential 2D convolutional layers (Conv2D) with the following properties:\n",
        "          - num_filters many filters\n",
        "          - kernel_size 3\n",
        "          - activation \"relu\"\n",
        "          - padding \"same\"\n",
        "          - kernel_initializer \"he_normal\"\n",
        "          Also define a 2D max pooling layer (MaxPooling2D) (you can keep default arguments).\n",
        "    \"\"\"\n",
        "    x = tf.keras.layers.Conv2D(num_filters, 3, activation='relu', padding='same', kernel_initializer='he_normal')(x)\n",
        "    x = tf.keras.layers.Conv2D(num_filters, 3, activation='relu', padding='same', kernel_initializer='he_normal')(x)\n",
        "    x = tf.keras.layers.MaxPooling2D()(x)\n",
        "    return x"
      ],
      "metadata": {
        "id": "u1gB6LC_geQz"
      },
      "execution_count": 632,
      "outputs": []
    },
    {
      "cell_type": "code",
      "source": [
        "class CVAE(tf.keras.Model):\n",
        "    \"\"\"Convolutional variational autoencoder.\"\"\"\n",
        "\n",
        "    def __init__(self, x_dim, y_dim, n_channels, z_dim, n_modes, params):\n",
        "        super(CVAE, self).__init__()\n",
        "        self.z_dim = z_dim\n",
        "        self.n_modes = n_modes\n",
        "        self.x_modes = 1   # hardcoded for testing\n",
        "        self.x_dim = x_dim\n",
        "        self.y_dim = y_dim\n",
        "        self.n_channels = n_channels\n",
        "        self.act = tf.keras.layers.LeakyReLU(alpha=0.1)\n",
        "        self.params = params\n",
        "        self.reg = regularizers.l2(0.01)\n",
        "\n",
        "\n",
        "        start_filters = 2\n",
        "\n",
        "        \"\"\"\n",
        "        # Add this to get rid of regularizer\n",
        "        a2 = tf.keras.layers.Dense(2*self.z_dim*self.n_modes + self.n_modes)(a2)\n",
        "        self.encoder_r1 = tf.keras.Model(inputs=r1_input_y, outputs=a2)\n",
        "        print(self.encoder_r1.summary())\n",
        "        \"\"\"\n",
        "        \n",
        "        # the r1 encoder network- r1_encoder(y) = z'.\n",
        "\n",
        "        r1_input_y = tf.keras.Input(shape=(WIDTH, WIDTH, 1))\n",
        "\n",
        "        eblock1 = define_encoder_block(r1_input_y, start_filters)\n",
        "        eblock2 = define_encoder_block(eblock1, start_filters*2)\n",
        "        eblock3 = define_encoder_block(eblock2, start_filters*4)\n",
        "        eblock4 = define_encoder_block(eblock3, start_filters*8)\n",
        "        eblock4 = define_encoder_block(eblock4, start_filters*8)\n",
        "        # eblock4 = eblock3\n",
        "        _, *shape_spatial = eblock4.get_shape().as_list()\n",
        "        eblock4_flat = tf.keras.layers.Flatten()(eblock4)\n",
        "\n",
        "        a2 = tf.keras.layers.Dense(32, kernel_regularizer=self.reg, activation=self.act)(eblock4_flat)\n",
        "        a2 = tf.keras.layers.Dropout(.5)(a2)\n",
        "        a2 = tf.keras.layers.Dense(32, kernel_regularizer=self.reg, activation=self.act)(a2)\n",
        "        a2 = tf.keras.layers.Dropout(.5)(a2)\n",
        "        a2 = tf.keras.layers.Dense(16, kernel_regularizer=self.reg, activation=self.act)(a2)\n",
        "        a2 = tf.keras.layers.Dense(2*self.z_dim*self.n_modes + self.n_modes)(a2)\n",
        "        self.encoder_r1 = tf.keras.Model(inputs=r1_input_y, outputs=a2)\n",
        "\n",
        "        print(self.encoder_r1.summary())\n",
        "\n",
        "\n",
        "        # the q encoder network- q_encoder(x, y) = z''.\n",
        "\n",
        "        q_input_x = tf.keras.Input(shape=(self.x_dim))\n",
        "        c = tf.keras.layers.Flatten()(q_input_x)\n",
        "        d = tf.keras.layers.concatenate([eblock4_flat, c])\n",
        "        e = tf.keras.layers.Dense(32, kernel_regularizer=self.reg, activation=self.act)(d)\n",
        "        e = tf.keras.layers.Dropout(.5)(e)\n",
        "        e = tf.keras.layers.Dense(32, kernel_regularizer=self.reg, activation=self.act)(e)\n",
        "        e = tf.keras.layers.Dropout(.5)(e)\n",
        "        e = tf.keras.layers.Dense(16, kernel_regularizer=self.reg, activation=self.act)(e)\n",
        "        e = tf.keras.layers.Dense(2*self.z_dim)(e)\n",
        "        self.encoder_q = tf.keras.Model(inputs=[r1_input_y, q_input_x], outputs=e)\n",
        "\n",
        "\n",
        "        print(self.encoder_q.summary())\n",
        "\n",
        "\n",
        "        # the r2 decoder network- r2_decoder(y, z) = x'.\n",
        "\n",
        "        r2_input_z = tf.keras.Input(shape=(self.z_dim))\n",
        "        g = tf.keras.layers.Flatten()(r2_input_z)\n",
        "        h = tf.keras.layers.concatenate([eblock4_flat, g])\n",
        "        i = tf.keras.layers.Dense(32, kernel_regularizer=self.reg, activation=self.act)(h)\n",
        "        i = tf.keras.layers.Dropout(.5)(i)\n",
        "        i = tf.keras.layers.Dense(32, kernel_regularizer=self.reg, activation=self.act)(i)\n",
        "        i = tf.keras.layers.Dropout(.5)(i)\n",
        "        i = tf.keras.layers.Dense(16, kernel_regularizer=self.reg, activation=self.act)(i)\n",
        "        j = tf.keras.layers.Dense(2*self.x_dim*self.x_modes + self.x_modes)(i)\n",
        "        self.decoder_r2 = tf.keras.Model(inputs=[r1_input_y, r2_input_z], outputs=j)\n",
        "\n",
        "        print(self.decoder_r2.summary())\n",
        "        # During use, we would only have y. Use r1_encoder(y) = z'. Then, use r2_decoder(y, z') = x' to get the prediction / posterior.\n",
        "    \n",
        "    def get_encoders(self):\n",
        "        return self.encoder_r1, self.encoder_q\n",
        "    \n",
        "    def encode_r1(self, y=None):\n",
        "#         print(\"==\")\n",
        "#         print(y)\n",
        "#         print(\"AAA\")\n",
        "#         print(self.encoder_r1(y).shape)\n",
        "#         print(self.encoder_r1(y))\n",
        "# #         print([self.z_dim*self.n_modes, self.z_dim*self.n_modes,self.n_modes])\n",
        "#         print(\"==\")\n",
        "#         print(self.z_dim*self.n_modes + self.z_dim*self.n_modes + self.n_modes)\n",
        "        \n",
        "#         mean, logvar, weight = tf.split(self.encoder_r1(y), num_or_size_splits=[2, 4, 3], axis=1)\n",
        "\n",
        "        encoded_y = self.encoder_r1(y)  # (4, 17)\n",
        "\n",
        "        # print(encoded_y.shape)\n",
        "        mean, logvar, weight = tf.split(encoded_y, num_or_size_splits=[self.z_dim*self.n_modes, self.z_dim*self.n_modes,self.n_modes], axis=1)\n",
        "        \n",
        "        # print(mean.shape, logvar.shape, weight.shape) # (4, 8), (4, 8), (4, 1)\n",
        "        \n",
        "        # Becomes (4, 1, 2) (4, 2, 1)\n",
        "        return tf.reshape(mean,[-1,self.n_modes,self.z_dim]), tf.reshape(logvar,[-1,self.n_modes,self.z_dim]), tf.reshape(weight,[-1,self.n_modes])\n",
        "\n",
        "\n",
        "    def encode_q(self, x=None, y=None):\n",
        "        return tf.split(self.encoder_q([y,x]), num_or_size_splits=[self.z_dim, self.z_dim], axis=1)\n",
        "\n",
        "    def decode_r2(self, y=None, z=None, apply_sigmoid=False):\n",
        "        \n",
        "#         print(\"AA\", self.decoder_r2([y, z]).shape)\n",
        "#         print(\"BB\", [2 * self.x_dim * self.x_modes, self.x_modes])\n",
        "        mean, logvar, weight = tf.split(self.decoder_r2([y, z]), num_or_size_splits=[self.x_dim*self.x_modes, self.x_dim*self.x_modes, self.x_modes], axis=1)\n",
        "        return tf.reshape(mean,[-1,self.x_modes,self.x_dim]), tf.reshape(logvar,[-1,self.x_modes,self.x_dim]), tf.reshape(weight,[-1,self.x_modes])"
      ],
      "metadata": {
        "id": "tVciQBfofru-"
      },
      "execution_count": 633,
      "outputs": []
    },
    {
      "cell_type": "code",
      "source": [
        "EPS = 1e-3\n",
        "dist_mask = np.array([True])\n",
        "not_dist_mask = np.array([True])\n",
        "\n",
        "bounds = dict(a=0.0, b=30.0)\n",
        "\n",
        "\n",
        "# KL[P || Q] = S(P) - H(P, Q)               Model P with approximation Q.\n",
        "# KL[Q || P] = S(Q) - H(Q, P)               Model Q with approximation P.\n",
        "\n",
        "# Variational Autoencoders:\n",
        "#  Let X be the data we want to model, z is the latent variable. Pr[X] = distn of data. Pr[z] latent distrn. Pr[X | z] = distrn of generating data | latent variable.\n",
        "#  We want to infer Pr[z] from Pr[z | X] which is the distrn that projects our data into the latent space.  \n",
        "#  But we do not know Pr[z | X], so we use a simpler estimate of Qr[z | X].\n",
        "\n",
        "# KL( Qr[z | X] || Pr[z | X] ) = E{ log( Qr[z | X] ) - log( Pr[z | X] ) } summed up over Qr[z | X]. \n",
        "# KL = H(Q, P) - S(Q) = cross-entropy between Q and P - entropy of P => info in just P - info overlap between P and Q => remaining info in P that we missed. \n",
        "\n",
        "\n",
        "# Ingredients:\n",
        "#   - Qr[z | x]\n",
        "#   - \n",
        "\n",
        "# Infer z_mean, z_var from just y.               Use encoder r1._samp            A = Pr[z | y].\n",
        "# \n",
        "# Infer z'_mean', z'_var' from x, y to get z_sample.                        B = Pr[z | x, y] => sample z_samp from q. We later calculate self-entropy of this.\n",
        "# Use encoder q for this.  Qr[z_sample | x, y]. Calculate self-entropy.\n",
        "# C = Pr[z_samp | y] = x_samp.\n",
        "# \n",
        "# Pr[z | x, y] is the \"real\" / actual distribution. So we want self-entropy of that - cross-entropy of that with Pr[z_samp | y].\n",
        "# What we are doing is that we are looking at how much information we are missing by calculating z_samp using Pr[z | y] instead of the actual distribution\n",
        "# of Pr[z | x, y]. This gives us our KL divergence, which we want to minimize.\n",
        "\n",
        "\n",
        "# Decode (z_sample, y) to get a distribution for x. Pr[x | z_samp, y]. Then, calculate the probability of getting x_actual under this distribution (log-likelihood).\n",
        "# The higher the probability the better it is, which we want to maximize.\n",
        "\n",
        "# Total Loss = (2) - (1)\n",
        "\n",
        "\n",
        "\n",
        "\n",
        "# XXXXX\n",
        "# Calculate self-entropy with Pr[z_samp] from inference of z_mean with y i.e. Pr[z_mean | y].  So entropy of Pr[z | x, y]. \n",
        "# This is the real distribution P. We are approximating it with Qr[z | y]. So we want S[ Pr[z | x, y] ] - H[Pr[z|x,y], Pr[z|y]].\n",
        "# Pr[z_samp] under A / r1.\n",
        "\n",
        "# \n",
        "\n",
        "tfd = tfp.distributions\n",
        "\n",
        "def compute_loss(model, x, y, ramp=1.0, noiseamp=1.0):\n",
        "    \n",
        "#     print(\"Computing loss.\")\n",
        "    \n",
        "    old_old_x = x\n",
        "    \n",
        "    noiseamp = tf.cast(noiseamp, dtype=tf.float32)\n",
        "    y_normscale = tf.cast(params['y_normscale'], dtype=tf.float32)\n",
        "#     y = tf.cast(y, dtype=tf.float32)\n",
        "#     x = tf.cast(x, dtype=tf.float32)\n",
        "    \n",
        "#     y = (y + noiseamp*tf.random.normal(shape=tf.shape(y), mean=0.0, stddev=1.0, dtype=tf.float32))\n",
        "    \n",
        "    print(\"x\", x)\n",
        "    \n",
        "    print(\"y\", y)\n",
        "    \n",
        "    # This is in the latent space z. z just from y.\n",
        "    mean_r1, logvar_r1, logweight_r1 = model.encode_r1(y=y)             # Infer z_mean, z_var by encoding y.\n",
        "    \n",
        "    \n",
        "    \n",
        "    \n",
        "    scale_r1 = EPS + tf.sqrt(tf.exp(logvar_r1))                         # Fix to enable backpropagation.\n",
        "\n",
        "    # Sample from the latent space. z just from y.\n",
        "    gm_r1 = tfd.MixtureSameFamily(mixture_distribution=tfd.Categorical(logits=logweight_r1),\n",
        "            components_distribution=tfd.MultivariateNormalDiag(\n",
        "            loc=mean_r1,\n",
        "            scale_diag=scale_r1))\n",
        "    \n",
        "    # Latent space. z from x and y.\n",
        "    mean_q, logvar_q = model.encode_q(x=x, y=y)                         # Infer z'_mean and z'_var by encoding x and y.\n",
        "    scale_q = EPS + tf.sqrt(tf.exp(logvar_q))                           # Fix to enable backpropagation.\n",
        "    \n",
        "    \n",
        "    \n",
        "    print(np.mean(mean_r1))\n",
        "    \n",
        "    # Sample from the latent space. z from x and y.\n",
        "    mvn_q = tfp.distributions.MultivariateNormalDiag(\n",
        "                          loc=mean_q,\n",
        "                          scale_diag=scale_q)\n",
        "    \n",
        "    z_samp = mvn_q.sample()                                               # Sample z_samp from a multi-variate normal distribution (inferred from (x, y)).\n",
        "    \n",
        "    print(z_samp)\n",
        "    # Take the latent sample and y to reconstruct x. Pr[x | y, z]\n",
        "    mean_r2, logvar_r2, logweight_r2 = model.decode_r2(y=y, z=z_samp)     # Decode (z_samp, y) to get predicted x'.\n",
        "    scale_r2 = EPS + tf.sqrt(tf.exp(logvar_r2))\n",
        "    \n",
        "    # This is a sample from x.\n",
        "    print(\"Drawn f = \", np.mean(mean_r2), end=\", \")\n",
        "    \n",
        "    # Distribution for x. Pr[x | y, z]\n",
        "    gm_r2 = tfd.MixtureSameFamily(mixture_distribution=tfd.Categorical(logits=logweight_r2),      # Sample predicted x'.\n",
        "            components_distribution=tfd.MultivariateNormalDiag(\n",
        "            loc=mean_r2,\n",
        "            scale_diag=scale_r2))\n",
        "    \n",
        "\n",
        "    # print(mean_r2.shape, old_old_x.shape)\n",
        "    \n",
        "    simple_cost_recon = -1.0*tf.reduce_mean(gm_r2.log_prob(old_old_x))                            # Calculate the odds of having the x_actual. Pr[x | y, z_samp].\n",
        "\n",
        "    print(simple_cost_recon)\n",
        "    \n",
        "    selfent_q = -1.0*tf.reduce_mean(mvn_q.entropy())                                         # Self-entropy of q-encoder [(x, y) => z_samp]. H(z_samp(x, y)).\n",
        "    log_r1_q = gm_r1.log_prob(z_samp)   # evaluate the log prob of r1 at the q samples       # Pr[z_samp | x, y].\n",
        "    cost_KL = selfent_q - tf.reduce_mean(log_r1_q)                                           # KL-div with self-entropy - cross-entropy.\n",
        "    \n",
        "    # KL = H(z_samp(x, y)) - Pr[z_samp | x, y].\n",
        "    \n",
        "    \n",
        "    return simple_cost_recon, cost_KL"
      ],
      "metadata": {
        "id": "IWHHh5M9fsqH"
      },
      "execution_count": 634,
      "outputs": []
    },
    {
      "cell_type": "code",
      "source": [
        "train_loss_metric = tf.keras.metrics.Mean('train_loss', dtype=tf.float32)\n",
        "\n",
        "@tf.function\n",
        "def train_step(model, x, y, optimizer, ramp=1.0):\n",
        "    \"\"\"Executes one training step and returns the loss.\n",
        "    This function computes the loss and gradients, and uses the latter to\n",
        "    update the model's parameters.\n",
        "    \"\"\"\n",
        "    \n",
        "    \n",
        "    ramp = 1.0\n",
        "    \n",
        "    with tf.GradientTape() as tape:\n",
        "        r_loss, kl_loss = compute_loss(model, x, y, ramp=ramp)\n",
        "        # r_loss, kl_loss = compute_loss(model, x, y)\n",
        "        loss = r_loss + ramp * kl_loss\n",
        "        \n",
        "    gradients = tape.gradient(loss, model.trainable_variables, unconnected_gradients=tf.UnconnectedGradients.ZERO)\n",
        "    optimizer.apply_gradients(zip(gradients, model.trainable_variables))\n",
        "    \n",
        "    train_loss_metric(loss)\n",
        "    \n",
        "    return r_loss, kl_loss"
      ],
      "metadata": {
        "id": "6-GzauiEfujy"
      },
      "execution_count": 635,
      "outputs": []
    },
    {
      "cell_type": "code",
      "source": [
        "tf.random.set_seed(42)\n",
        "np.random.seed(42)\n",
        "\n",
        "\n",
        "epochs = 50\n",
        "\n",
        "# start the training loop\n",
        "train_loss = np.zeros((epochs, 2))\n",
        "test_loss = np.zeros((epochs, 2))\n",
        "ramp_start = params['ramp_start']\n",
        "ramp_length = params['ramp_end']\n",
        "\n",
        "\n",
        "ramp_cycles = 1\n",
        "KL_samples = []\n",
        "\n",
        "\n",
        "\n",
        "model = CVAE(x_dim=2, y_dim=1, n_channels=params['n_channels'], \\\n",
        "             z_dim=params['z_dim'], n_modes=1, params=params)\n",
        "\n",
        "model.compile()"
      ],
      "metadata": {
        "colab": {
          "base_uri": "https://localhost:8080/"
        },
        "id": "ano40u3hfweq",
        "outputId": "2fbcb1a7-f9fd-4d70-ece5-8dfb8fb1ccb6"
      },
      "execution_count": 636,
      "outputs": [
        {
          "output_type": "stream",
          "name": "stdout",
          "text": [
            "Model: \"model_63\"\n",
            "_________________________________________________________________\n",
            " Layer (type)                Output Shape              Param #   \n",
            "=================================================================\n",
            " input_66 (InputLayer)       [(None, 48, 48, 1)]       0         \n",
            "                                                                 \n",
            " conv2d_199 (Conv2D)         (None, 48, 48, 2)         20        \n",
            "                                                                 \n",
            " conv2d_200 (Conv2D)         (None, 48, 48, 2)         38        \n",
            "                                                                 \n",
            " max_pooling2d_99 (MaxPoolin  (None, 24, 24, 2)        0         \n",
            " g2D)                                                            \n",
            "                                                                 \n",
            " conv2d_201 (Conv2D)         (None, 24, 24, 4)         76        \n",
            "                                                                 \n",
            " conv2d_202 (Conv2D)         (None, 24, 24, 4)         148       \n",
            "                                                                 \n",
            " max_pooling2d_100 (MaxPooli  (None, 12, 12, 4)        0         \n",
            " ng2D)                                                           \n",
            "                                                                 \n",
            " conv2d_203 (Conv2D)         (None, 12, 12, 8)         296       \n",
            "                                                                 \n",
            " conv2d_204 (Conv2D)         (None, 12, 12, 8)         584       \n",
            "                                                                 \n",
            " max_pooling2d_101 (MaxPooli  (None, 6, 6, 8)          0         \n",
            " ng2D)                                                           \n",
            "                                                                 \n",
            " conv2d_205 (Conv2D)         (None, 6, 6, 16)          1168      \n",
            "                                                                 \n",
            " conv2d_206 (Conv2D)         (None, 6, 6, 16)          2320      \n",
            "                                                                 \n",
            " max_pooling2d_102 (MaxPooli  (None, 3, 3, 16)         0         \n",
            " ng2D)                                                           \n",
            "                                                                 \n",
            " conv2d_207 (Conv2D)         (None, 3, 3, 16)          2320      \n",
            "                                                                 \n",
            " conv2d_208 (Conv2D)         (None, 3, 3, 16)          2320      \n",
            "                                                                 \n",
            " max_pooling2d_103 (MaxPooli  (None, 1, 1, 16)         0         \n",
            " ng2D)                                                           \n",
            "                                                                 \n",
            " flatten_63 (Flatten)        (None, 16)                0         \n",
            "                                                                 \n",
            " dense_230 (Dense)           (None, 32)                544       \n",
            "                                                                 \n",
            " dropout_116 (Dropout)       (None, 32)                0         \n",
            "                                                                 \n",
            " dense_231 (Dense)           (None, 32)                1056      \n",
            "                                                                 \n",
            " dropout_117 (Dropout)       (None, 32)                0         \n",
            "                                                                 \n",
            " dense_232 (Dense)           (None, 16)                528       \n",
            "                                                                 \n",
            " dense_233 (Dense)           (None, 17)                289       \n",
            "                                                                 \n",
            "=================================================================\n",
            "Total params: 11,707\n",
            "Trainable params: 11,707\n",
            "Non-trainable params: 0\n",
            "_________________________________________________________________\n",
            "None\n",
            "Model: \"model_64\"\n",
            "__________________________________________________________________________________________________\n",
            " Layer (type)                   Output Shape         Param #     Connected to                     \n",
            "==================================================================================================\n",
            " input_66 (InputLayer)          [(None, 48, 48, 1)]  0           []                               \n",
            "                                                                                                  \n",
            " conv2d_199 (Conv2D)            (None, 48, 48, 2)    20          ['input_66[0][0]']               \n",
            "                                                                                                  \n",
            " conv2d_200 (Conv2D)            (None, 48, 48, 2)    38          ['conv2d_199[0][0]']             \n",
            "                                                                                                  \n",
            " max_pooling2d_99 (MaxPooling2D  (None, 24, 24, 2)   0           ['conv2d_200[0][0]']             \n",
            " )                                                                                                \n",
            "                                                                                                  \n",
            " conv2d_201 (Conv2D)            (None, 24, 24, 4)    76          ['max_pooling2d_99[0][0]']       \n",
            "                                                                                                  \n",
            " conv2d_202 (Conv2D)            (None, 24, 24, 4)    148         ['conv2d_201[0][0]']             \n",
            "                                                                                                  \n",
            " max_pooling2d_100 (MaxPooling2  (None, 12, 12, 4)   0           ['conv2d_202[0][0]']             \n",
            " D)                                                                                               \n",
            "                                                                                                  \n",
            " conv2d_203 (Conv2D)            (None, 12, 12, 8)    296         ['max_pooling2d_100[0][0]']      \n",
            "                                                                                                  \n",
            " conv2d_204 (Conv2D)            (None, 12, 12, 8)    584         ['conv2d_203[0][0]']             \n",
            "                                                                                                  \n",
            " max_pooling2d_101 (MaxPooling2  (None, 6, 6, 8)     0           ['conv2d_204[0][0]']             \n",
            " D)                                                                                               \n",
            "                                                                                                  \n",
            " conv2d_205 (Conv2D)            (None, 6, 6, 16)     1168        ['max_pooling2d_101[0][0]']      \n",
            "                                                                                                  \n",
            " conv2d_206 (Conv2D)            (None, 6, 6, 16)     2320        ['conv2d_205[0][0]']             \n",
            "                                                                                                  \n",
            " max_pooling2d_102 (MaxPooling2  (None, 3, 3, 16)    0           ['conv2d_206[0][0]']             \n",
            " D)                                                                                               \n",
            "                                                                                                  \n",
            " conv2d_207 (Conv2D)            (None, 3, 3, 16)     2320        ['max_pooling2d_102[0][0]']      \n",
            "                                                                                                  \n",
            " conv2d_208 (Conv2D)            (None, 3, 3, 16)     2320        ['conv2d_207[0][0]']             \n",
            "                                                                                                  \n",
            " max_pooling2d_103 (MaxPooling2  (None, 1, 1, 16)    0           ['conv2d_208[0][0]']             \n",
            " D)                                                                                               \n",
            "                                                                                                  \n",
            " input_67 (InputLayer)          [(None, 2)]          0           []                               \n",
            "                                                                                                  \n",
            " flatten_63 (Flatten)           (None, 16)           0           ['max_pooling2d_103[0][0]']      \n",
            "                                                                                                  \n",
            " flatten_64 (Flatten)           (None, 2)            0           ['input_67[0][0]']               \n",
            "                                                                                                  \n",
            " concatenate_42 (Concatenate)   (None, 18)           0           ['flatten_63[0][0]',             \n",
            "                                                                  'flatten_64[0][0]']             \n",
            "                                                                                                  \n",
            " dense_234 (Dense)              (None, 32)           608         ['concatenate_42[0][0]']         \n",
            "                                                                                                  \n",
            " dropout_118 (Dropout)          (None, 32)           0           ['dense_234[0][0]']              \n",
            "                                                                                                  \n",
            " dense_235 (Dense)              (None, 32)           1056        ['dropout_118[0][0]']            \n",
            "                                                                                                  \n",
            " dropout_119 (Dropout)          (None, 32)           0           ['dense_235[0][0]']              \n",
            "                                                                                                  \n",
            " dense_236 (Dense)              (None, 16)           528         ['dropout_119[0][0]']            \n",
            "                                                                                                  \n",
            " dense_237 (Dense)              (None, 16)           272         ['dense_236[0][0]']              \n",
            "                                                                                                  \n",
            "==================================================================================================\n",
            "Total params: 11,754\n",
            "Trainable params: 11,754\n",
            "Non-trainable params: 0\n",
            "__________________________________________________________________________________________________\n",
            "None\n",
            "Model: \"model_65\"\n",
            "__________________________________________________________________________________________________\n",
            " Layer (type)                   Output Shape         Param #     Connected to                     \n",
            "==================================================================================================\n",
            " input_66 (InputLayer)          [(None, 48, 48, 1)]  0           []                               \n",
            "                                                                                                  \n",
            " conv2d_199 (Conv2D)            (None, 48, 48, 2)    20          ['input_66[0][0]']               \n",
            "                                                                                                  \n",
            " conv2d_200 (Conv2D)            (None, 48, 48, 2)    38          ['conv2d_199[0][0]']             \n",
            "                                                                                                  \n",
            " max_pooling2d_99 (MaxPooling2D  (None, 24, 24, 2)   0           ['conv2d_200[0][0]']             \n",
            " )                                                                                                \n",
            "                                                                                                  \n",
            " conv2d_201 (Conv2D)            (None, 24, 24, 4)    76          ['max_pooling2d_99[0][0]']       \n",
            "                                                                                                  \n",
            " conv2d_202 (Conv2D)            (None, 24, 24, 4)    148         ['conv2d_201[0][0]']             \n",
            "                                                                                                  \n",
            " max_pooling2d_100 (MaxPooling2  (None, 12, 12, 4)   0           ['conv2d_202[0][0]']             \n",
            " D)                                                                                               \n",
            "                                                                                                  \n",
            " conv2d_203 (Conv2D)            (None, 12, 12, 8)    296         ['max_pooling2d_100[0][0]']      \n",
            "                                                                                                  \n",
            " conv2d_204 (Conv2D)            (None, 12, 12, 8)    584         ['conv2d_203[0][0]']             \n",
            "                                                                                                  \n",
            " max_pooling2d_101 (MaxPooling2  (None, 6, 6, 8)     0           ['conv2d_204[0][0]']             \n",
            " D)                                                                                               \n",
            "                                                                                                  \n",
            " conv2d_205 (Conv2D)            (None, 6, 6, 16)     1168        ['max_pooling2d_101[0][0]']      \n",
            "                                                                                                  \n",
            " conv2d_206 (Conv2D)            (None, 6, 6, 16)     2320        ['conv2d_205[0][0]']             \n",
            "                                                                                                  \n",
            " max_pooling2d_102 (MaxPooling2  (None, 3, 3, 16)    0           ['conv2d_206[0][0]']             \n",
            " D)                                                                                               \n",
            "                                                                                                  \n",
            " conv2d_207 (Conv2D)            (None, 3, 3, 16)     2320        ['max_pooling2d_102[0][0]']      \n",
            "                                                                                                  \n",
            " conv2d_208 (Conv2D)            (None, 3, 3, 16)     2320        ['conv2d_207[0][0]']             \n",
            "                                                                                                  \n",
            " max_pooling2d_103 (MaxPooling2  (None, 1, 1, 16)    0           ['conv2d_208[0][0]']             \n",
            " D)                                                                                               \n",
            "                                                                                                  \n",
            " input_68 (InputLayer)          [(None, 8)]          0           []                               \n",
            "                                                                                                  \n",
            " flatten_63 (Flatten)           (None, 16)           0           ['max_pooling2d_103[0][0]']      \n",
            "                                                                                                  \n",
            " flatten_65 (Flatten)           (None, 8)            0           ['input_68[0][0]']               \n",
            "                                                                                                  \n",
            " concatenate_43 (Concatenate)   (None, 24)           0           ['flatten_63[0][0]',             \n",
            "                                                                  'flatten_65[0][0]']             \n",
            "                                                                                                  \n",
            " dense_238 (Dense)              (None, 32)           800         ['concatenate_43[0][0]']         \n",
            "                                                                                                  \n",
            " dropout_120 (Dropout)          (None, 32)           0           ['dense_238[0][0]']              \n",
            "                                                                                                  \n",
            " dense_239 (Dense)              (None, 32)           1056        ['dropout_120[0][0]']            \n",
            "                                                                                                  \n",
            " dropout_121 (Dropout)          (None, 32)           0           ['dense_239[0][0]']              \n",
            "                                                                                                  \n",
            " dense_240 (Dense)              (None, 16)           528         ['dropout_121[0][0]']            \n",
            "                                                                                                  \n",
            " dense_241 (Dense)              (None, 5)            85          ['dense_240[0][0]']              \n",
            "                                                                                                  \n",
            "==================================================================================================\n",
            "Total params: 11,759\n",
            "Trainable params: 11,759\n",
            "Non-trainable params: 0\n",
            "__________________________________________________________________________________________________\n",
            "None\n"
          ]
        }
      ]
    },
    {
      "cell_type": "code",
      "source": [
        "x_train_s[1:2,:,0].shape, y_train_s[1:2,:,:,0].shape"
      ],
      "metadata": {
        "colab": {
          "base_uri": "https://localhost:8080/"
        },
        "id": "RKs_Xhymfxai",
        "outputId": "1b701858-b086-4d91-907c-1dc6fa8f998b"
      },
      "execution_count": 637,
      "outputs": [
        {
          "output_type": "execute_result",
          "data": {
            "text/plain": [
              "(TensorShape([1, 2]), TensorShape([1, 48, 48]))"
            ]
          },
          "metadata": {},
          "execution_count": 637
        }
      ]
    },
    {
      "cell_type": "code",
      "source": [
        "model.encode_r1(y_train_s[1:2,:,:,0])"
      ],
      "metadata": {
        "colab": {
          "base_uri": "https://localhost:8080/"
        },
        "id": "mE1dsqWVk3hv",
        "outputId": "9b4a3a04-683b-4dc0-b929-7d937d5b4ef5"
      },
      "execution_count": 638,
      "outputs": [
        {
          "output_type": "execute_result",
          "data": {
            "text/plain": [
              "(<tf.Tensor: shape=(1, 1, 8), dtype=float32, numpy=\n",
              " array([[[-0.00014657, -0.0021604 ,  0.00224556, -0.01084441,\n",
              "          -0.00146433, -0.0068485 , -0.00098298,  0.00068019]]],\n",
              "       dtype=float32)>, <tf.Tensor: shape=(1, 1, 8), dtype=float32, numpy=\n",
              " array([[[-0.00236438,  0.0035755 , -0.00535476,  0.00624416,\n",
              "           0.00247439, -0.00223182, -0.00649368,  0.0019157 ]]],\n",
              "       dtype=float32)>, <tf.Tensor: shape=(1, 1), dtype=float32, numpy=array([[0.00614947]], dtype=float32)>)"
            ]
          },
          "metadata": {},
          "execution_count": 638
        }
      ]
    },
    {
      "cell_type": "code",
      "source": [
        "model.encode_q(x_train_s[1:2,:,0], y_train_s[1:2,:,:,0])"
      ],
      "metadata": {
        "colab": {
          "base_uri": "https://localhost:8080/"
        },
        "id": "84wsMWc1k8Zr",
        "outputId": "10066d53-9a3b-4410-f550-f46725efa349"
      },
      "execution_count": 639,
      "outputs": [
        {
          "output_type": "execute_result",
          "data": {
            "text/plain": [
              "[<tf.Tensor: shape=(1, 8), dtype=float32, numpy=\n",
              " array([[ 1.1076066, -1.6334949,  1.6944046,  1.6468824,  1.4676381,\n",
              "         -0.7437579,  1.0462657, -2.0626762]], dtype=float32)>,\n",
              " <tf.Tensor: shape=(1, 8), dtype=float32, numpy=\n",
              " array([[ 0.9434751 , -0.06845274,  1.5190805 , -1.7322271 , -0.05448165,\n",
              "          0.05246169,  3.4492257 , -0.1546337 ]], dtype=float32)>]"
            ]
          },
          "metadata": {},
          "execution_count": 639
        }
      ]
    },
    {
      "cell_type": "code",
      "source": [
        "model.decode_r2(y_train_s[1:2,:,:,0], np.random.normal(0, 1, (1, params['z_dim'])))"
      ],
      "metadata": {
        "colab": {
          "base_uri": "https://localhost:8080/"
        },
        "id": "r7GlLvcqlPK1",
        "outputId": "b56d9956-7c60-4e6d-af8e-8d35809f1e7f"
      },
      "execution_count": 640,
      "outputs": [
        {
          "output_type": "execute_result",
          "data": {
            "text/plain": [
              "(<tf.Tensor: shape=(1, 1, 2), dtype=float32, numpy=array([[[0.25426012, 0.17861453]]], dtype=float32)>,\n",
              " <tf.Tensor: shape=(1, 1, 2), dtype=float32, numpy=array([[[-0.3296483, -0.2516062]]], dtype=float32)>,\n",
              " <tf.Tensor: shape=(1, 1), dtype=float32, numpy=array([[-0.3503569]], dtype=float32)>)"
            ]
          },
          "metadata": {},
          "execution_count": 640
        }
      ]
    },
    {
      "cell_type": "code",
      "source": [
        "x_train_s[1:2,:,0].shape, y_train_s[1:2,:,:,0].shape"
      ],
      "metadata": {
        "colab": {
          "base_uri": "https://localhost:8080/"
        },
        "id": "eSIIopj_EWi-",
        "outputId": "e082087c-6ecb-4216-b750-71e81d7c280f"
      },
      "execution_count": 641,
      "outputs": [
        {
          "output_type": "execute_result",
          "data": {
            "text/plain": [
              "(TensorShape([1, 2]), TensorShape([1, 48, 48]))"
            ]
          },
          "metadata": {},
          "execution_count": 641
        }
      ]
    },
    {
      "cell_type": "code",
      "source": [
        "compute_loss(model, x_train_s[1:2,:,0], y_train_s[1:2,:,:,0])"
      ],
      "metadata": {
        "colab": {
          "base_uri": "https://localhost:8080/"
        },
        "id": "V8Uf1mtbldn0",
        "outputId": "cb219657-8459-4dbb-8a67-9c0b9af03c45"
      },
      "execution_count": 642,
      "outputs": [
        {
          "output_type": "stream",
          "name": "stdout",
          "text": [
            "x tf.Tensor([[2.0021135e+01 6.7360020e-07]], shape=(1, 2), dtype=float32)\n",
            "y tf.Tensor(\n",
            "[[[0.00954115 0.00532997 0.01079773 ... 0.00234149 0.00539803 0.00056193]\n",
            "  [0.0099505  0.005571   0.01124388 ... 0.00239893 0.00550223 0.00059221]\n",
            "  [0.0103995  0.00582536 0.01173257 ... 0.0024539  0.00564282 0.00061162]\n",
            "  ...\n",
            "  [0.0124267  0.0074179  0.01555408 ... 0.0300798  0.05582866 0.00992105]\n",
            "  [0.01180463 0.00701274 0.0147184  ... 0.03822888 0.06875788 0.01219854]\n",
            "  [0.01123293 0.00664072 0.01398642 ... 0.05236016 0.08948483 0.01582148]]], shape=(1, 48, 48), dtype=float32)\n",
            "-0.0024401802\n",
            "tf.Tensor(\n",
            "[[-0.5362278  -2.092331    1.962616    1.4812478   2.028284   -0.43146303\n",
            "  -0.9688648  -1.5302368 ]], shape=(1, 8), dtype=float32)\n",
            "Drawn f =  0.43178952, tf.Tensor(296.56592, shape=(), dtype=float32)\n"
          ]
        },
        {
          "output_type": "execute_result",
          "data": {
            "text/plain": [
              "(<tf.Tensor: shape=(), dtype=float32, numpy=296.56592>,\n",
              " <tf.Tensor: shape=(), dtype=float32, numpy=3.1486235>)"
            ]
          },
          "metadata": {},
          "execution_count": 642
        }
      ]
    },
    {
      "cell_type": "code",
      "source": [
        "ramp = tf.convert_to_tensor(ramp_func(epochs, ramp_start, ramp_length, ramp_cycles), dtype=tf.float32)"
      ],
      "metadata": {
        "colab": {
          "base_uri": "https://localhost:8080/"
        },
        "id": "LvHTmwuFmUMW",
        "outputId": "06572858-1d73-4791-88ec-366ed3775e9a"
      },
      "execution_count": 601,
      "outputs": [
        {
          "output_type": "stream",
          "name": "stdout",
          "text": [
            "50 1.0\n"
          ]
        }
      ]
    },
    {
      "cell_type": "code",
      "source": [
        "loss = tf.keras.metrics.Mean()\n",
        "\n",
        "print(\"Running with\", epochs, \"epochs.\")\n",
        "\n",
        "for epoch in range(1, epochs + 1):\n",
        "    temp_train_r_loss, temp_train_kl_loss = 0.0, 0.0\n",
        "    temp_test_r_loss, temp_test_kl_loss = 0.0, 0.0\n",
        "    \n",
        "    \n",
        "    for step, (x_batch_train, y_batch_train) in train_dataset.enumerate():\n",
        "        x_b = x_batch_train[:,:,0]\n",
        "        # print(\"x_batch, y_batch\", x_b.shape, y_batch_train.shape)    \n",
        "        temp_train_r_loss, temp_train_kl_loss = train_step(model, x_b, y_batch_train, optimizer, ramp=ramp)\n",
        "        train_loss[epoch - 1, 0] += temp_train_r_loss / len(train_dataset)\n",
        "        train_loss[epoch - 1, 1] += temp_train_kl_loss / len(train_dataset)\n",
        "        \n",
        "    for step, (x_batch_test, y_batch_test) in test_dataset.enumerate():\n",
        "        x_b_t = x_batch_test[:,:,0]\n",
        "        temp_test_r_loss, temp_test_kl_loss = compute_loss(model, x_b_t, y_batch_test)\n",
        "        test_loss[epoch - 1, 0] += temp_train_r_loss / len(test_dataset)\n",
        "        test_loss[epoch - 1, 1] += temp_train_kl_loss / len(test_dataset)\n",
        "    \n",
        "    if epoch % 10 == 0:\n",
        "        print(\"epoch = %d; train loss = %.4e, %.4e; test loss = %.4e, %.4e\" % \\\n",
        "              (epoch, train_loss[epoch - 1, 0], train_loss[epoch - 1, 1], \\\n",
        "               test_loss[epoch - 1, 0], test_loss[epoch - 1, 1]))\n"
      ],
      "metadata": {
        "colab": {
          "base_uri": "https://localhost:8080/"
        },
        "id": "kCq66Kobly49",
        "outputId": "2664661f-037c-48ce-cd24-6eb69f1ae863"
      },
      "execution_count": 560,
      "outputs": [
        {
          "output_type": "stream",
          "name": "stdout",
          "text": [
            "Running with 50 epochs.\n",
            "epoch = 10; train loss = nan, nan; test loss = nan, nan\n",
            "epoch = 20; train loss = nan, nan; test loss = nan, nan\n",
            "epoch = 30; train loss = nan, nan; test loss = nan, nan\n",
            "epoch = 40; train loss = nan, nan; test loss = nan, nan\n",
            "epoch = 50; train loss = nan, nan; test loss = nan, nan\n"
          ]
        }
      ]
    },
    {
      "cell_type": "code",
      "source": [
        "plt.figure(figsize=(10, 5), dpi=150)\n",
        "\n",
        "plt.subplot(121)\n",
        "plt.plot(train_loss[:,0], label=\"Train R Loss\")\n",
        "plt.plot(test_loss[:,0], label=\"Test R Loss\")\n",
        "\n",
        "# plt.ylim(0, 0.1)\n",
        "\n",
        "plt.legend()\n",
        "# plt.yscale('log')\n",
        "\n",
        "plt.subplot(122)\n",
        "plt.plot(train_loss[:,1], label=\"Train KL Loss\")\n",
        "plt.plot(test_loss[:,1], label=\"Test KL Loss\")\n",
        "\n",
        "# plt.ylim(0, 0.15)\n",
        "\n",
        "plt.legend()\n",
        "# plt.yscale('log')"
      ],
      "metadata": {
        "colab": {
          "base_uri": "https://localhost:8080/",
          "height": 664
        },
        "id": "7CONJyTtmIGt",
        "outputId": "90e32d72-72ea-4163-99af-7813d3593018"
      },
      "execution_count": 561,
      "outputs": [
        {
          "output_type": "execute_result",
          "data": {
            "text/plain": [
              "<matplotlib.legend.Legend at 0x7fcb644ad190>"
            ]
          },
          "metadata": {},
          "execution_count": 561
        },
        {
          "output_type": "display_data",
          "data": {
            "text/plain": [
              "<Figure size 1500x750 with 2 Axes>"
            ],
            "image/png": "[encoded data removed]"
          },
          "metadata": {
            "needs_background": "light"
          }
        }
      ]
    },
    {
      "cell_type": "code",
      "source": [
        "def gen_z_samples(model, x, y, nsamples=1000):\n",
        "    \n",
        "    y = y / params['y_normscale']\n",
        "    y = tf.tile(y,(nsamples, 1, 1))\n",
        "    x = tf.tile(x,(nsamples, 1))\n",
        "    \n",
        "    mean_r1, logvar_r1, logweight_r1 = model.encode_r1(y=y)\n",
        "    \n",
        "    scale_r1 = EPS + tf.sqrt(tf.exp(logvar_r1))\n",
        "    \n",
        "    gm_r1 = tfd.MixtureSameFamily(mixture_distribution=tfd.Categorical(logits=logweight_r1),\n",
        "            components_distribution=tfd.MultivariateNormalDiag(\n",
        "            loc=mean_r1,\n",
        "            scale_diag=scale_r1))\n",
        "    \n",
        "    z_samp_r1 = gm_r1.sample()\n",
        "    \n",
        "    mean_q, logvar_q = model.encode_q(x=x,y=y)\n",
        "    \n",
        "    scale_q = EPS + tf.sqrt(tf.exp(logvar_q))\n",
        "    mvn_q = tfp.distributions.MultivariateNormalDiag(\n",
        "                          loc=mean_q,\n",
        "                          scale_diag=scale_q)\n",
        "    \n",
        "    z_samp_q = mvn_q.sample()    \n",
        "    \n",
        "    return mean_r1, z_samp_r1, mean_q, z_samp_q"
      ],
      "metadata": {
        "id": "9BlnypwCFwEh"
      },
      "execution_count": 562,
      "outputs": []
    },
    {
      "cell_type": "code",
      "source": [
        "def gen_samples(model, y, ramp=1.0, nsamples=1000, max_samples=100):    # Generate samples from (test) y.\n",
        "\n",
        "    y = y\n",
        "    y = tf.tile(y, (max_samples, 1, 1, 1))\n",
        "    \n",
        "    samp_iterations = int(nsamples / max_samples)\n",
        "\n",
        "    print(\"samp_iterations\", samp_iterations)\n",
        "    \n",
        "    x_sample = []\n",
        "    for i in range(samp_iterations):\n",
        "        mean_r1, logvar_r1, logweight_r1 = model.encode_r1(y=y) # Encode y to get z.\n",
        "        scale_r1 = EPS + tf.sqrt(tf.exp(logvar_r1))\n",
        "        \n",
        "        gm_r1 = tfd.MixtureSameFamily(mixture_distribution=tfd.Categorical(logits=logweight_r1),\n",
        "            components_distribution=tfd.MultivariateNormalDiag(\n",
        "            loc=mean_r1,\n",
        "            scale_diag=scale_r1))\n",
        "        \n",
        "        z_samp = gm_r1.sample()   # Sample a z_samp.\n",
        "        \n",
        "        mean_r2, logvar_r2, logweight_r2 = model.decode_r2(z=z_samp,y=y)  # Decode (z_samp, y) => x\n",
        "        scale_r2 = EPS + tf.sqrt(tf.exp(logvar_r2))\n",
        "        \n",
        "        gm_r2 = tfd.MixtureSameFamily(mixture_distribution=tfd.Categorical(logits=logweight_r2),    \n",
        "            components_distribution=tfd.MultivariateNormalDiag(\n",
        "            loc=mean_r2,\n",
        "            scale_diag=scale_r2))\n",
        "\n",
        "\n",
        "        if i == 0:\n",
        "            x_sample = gm_r2.sample()   # Sample an x.\n",
        "        else:\n",
        "            x_sample = tf.concat([x_sample, gm_r2.sample()],axis=0)\n",
        "\n",
        "\n",
        "    return x_sample\n"
      ],
      "metadata": {
        "id": "xu5RKouJF0yU"
      },
      "execution_count": 563,
      "outputs": []
    },
    {
      "cell_type": "code",
      "source": [
        "bounds = {'frequency_min': 0, 'frequency_max': 50}\n",
        "\n",
        "defaults_kwargs = dict(\n",
        "                    bins=50, smooth=0.9, label_kwargs=dict(fontsize=16),\n",
        "                    title_kwargs=dict(fontsize=16),\n",
        "                    truth_color='#4682b4', quantiles=[0.16, 0.84],\n",
        "                    levels=(0.68,0.90,0.95), density=True,\n",
        "                    plot_density=False, plot_datapoints=True,\n",
        "                    max_n_ticks=3)\n",
        "\n",
        "\n",
        "hist_kwargs = dict(density=True,color='tab:red')\n",
        "hist_kwargs_other = dict(density=True,color='tab:blue')"
      ],
      "metadata": {
        "id": "3TRdoujQF2dR"
      },
      "execution_count": 564,
      "outputs": []
    },
    {
      "cell_type": "code",
      "source": [
        "plot_dir = \"./\"\n",
        "params['n_samples'] = 1000\n",
        "\n",
        "run = plot_dir"
      ],
      "metadata": {
        "id": "ZN-P1UPxF6L1"
      },
      "execution_count": 565,
      "outputs": []
    },
    {
      "cell_type": "code",
      "source": [
        "params['corner_labels'] = {'frequency': 'frequency', 'fdot': 'fdot'}"
      ],
      "metadata": {
        "id": "_Y1REeOXIyDD"
      },
      "execution_count": 566,
      "outputs": []
    },
    {
      "cell_type": "code",
      "source": [
        "for step, (x_batch_test, y_batch_test) in test_dataset.enumerate():\n",
        "\n",
        "    samples = gen_samples(model, y_batch_test, ramp=ramp, nsamples=params['n_samples'])\n",
        "\n",
        "    print('Epoch: {}, run {} Testing time elapsed for {} samples.'.format(epoch,run,params['n_samples']))\n",
        "\n",
        "    # print(np.mean(samples), np.mean(x_truth))\n",
        "    # print(samples)\n",
        "\n",
        "    x_truth = x_batch_test\n",
        "\n",
        "    diff = 100 * np.abs(np.mean(samples) - np.mean(x_truth)) / np.mean(x_truth)\n",
        "    \n",
        "    print(\"Mean of sample = %.2f (%.2f); mean of truth = %.2f (%.2f); difference = %.2f percent.\" % (np.mean(samples), np.std(samples), \\\n",
        "                                                                  np.mean(x_truth), np.std(x_truth), diff))\n",
        "    \n",
        "    # print(params['corner_labels'])\n",
        "     # Get corner parnames to use in plotting labels\n",
        "    parnames = []\n",
        "    for k_idx, k in enumerate(params['rand_pars']):\n",
        "        # print(k_idx, k)\n",
        "        if np.isin(k, params['inf_pars']):\n",
        "            parnames.append(params['corner_labels'][k])\n",
        "\n",
        "    full_true_x = np.zeros(x_truth.shape[1:])\n",
        "    new_samples = np.zeros([samples.shape[0], len(params['inf_pars'])])\n",
        "\n",
        "    # print(full_true_x.shape)\n",
        "    # print(x_truth[0].shape)\n",
        "    for inf_par_idx, inf_par in enumerate(params['inf_pars']):\n",
        "        new_samples[:,inf_par_idx] = samples[:,inf_par_idx]\n",
        "        full_true_x[inf_par_idx] = x_truth[0, inf_par_idx, 0]\n",
        "    \n",
        "#     plt.subplot(width, height, step + 1)\n",
        "    figure = corner.corner(new_samples, **defaults_kwargs,labels=parnames,\n",
        "                       color='tab:red',\n",
        "                       fill_contours=True, truths=full_true_x[:,0],\n",
        "                       show_titles=True, hist_kwargs=hist_kwargs)"
      ],
      "metadata": {
        "colab": {
          "base_uri": "https://localhost:8080/",
          "height": 799
        },
        "id": "87p4II7XF6a5",
        "outputId": "d4f17ff3-4e54-43e2-9fff-31561e018237"
      },
      "execution_count": 567,
      "outputs": [
        {
          "output_type": "stream",
          "name": "stdout",
          "text": [
            "samp_iterations 10\n",
            "Epoch: 50, run ./ Testing time elapsed for 1000 samples.\n",
            "Mean of sample = 0.00 (0.00); mean of truth = 10.00 (10.00); difference = 100.00 percent.\n"
          ]
        },
        {
          "output_type": "error",
          "ename": "ValueError",
          "evalue": "ignored",
          "traceback": [
            "\u001b[0;31m---------------------------------------------------------------------------\u001b[0m",
            "\u001b[0;31mValueError\u001b[0m                                Traceback (most recent call last)",
            "\u001b[0;32m<ipython-input-567-b31e18139e36>\u001b[0m in \u001b[0;36m<module>\u001b[0;34m\u001b[0m\n\u001b[1;32m     33\u001b[0m \u001b[0;34m\u001b[0m\u001b[0m\n\u001b[1;32m     34\u001b[0m \u001b[0;31m#     plt.subplot(width, height, step + 1)\u001b[0m\u001b[0;34m\u001b[0m\u001b[0;34m\u001b[0m\u001b[0;34m\u001b[0m\u001b[0m\n\u001b[0;32m---> 35\u001b[0;31m     figure = corner.corner(new_samples, **defaults_kwargs,labels=parnames,\n\u001b[0m\u001b[1;32m     36\u001b[0m                        \u001b[0mcolor\u001b[0m\u001b[0;34m=\u001b[0m\u001b[0;34m'tab:red'\u001b[0m\u001b[0;34m,\u001b[0m\u001b[0;34m\u001b[0m\u001b[0;34m\u001b[0m\u001b[0m\n\u001b[1;32m     37\u001b[0m                        \u001b[0mfill_contours\u001b[0m\u001b[0;34m=\u001b[0m\u001b[0;32mTrue\u001b[0m\u001b[0;34m,\u001b[0m \u001b[0mtruths\u001b[0m\u001b[0;34m=\u001b[0m\u001b[0mfull_true_x\u001b[0m\u001b[0;34m[\u001b[0m\u001b[0;34m:\u001b[0m\u001b[0;34m,\u001b[0m\u001b[0;36m0\u001b[0m\u001b[0;34m]\u001b[0m\u001b[0;34m,\u001b[0m\u001b[0;34m\u001b[0m\u001b[0;34m\u001b[0m\u001b[0m\n",
            "\u001b[0;32m/usr/local/lib/python3.8/dist-packages/corner/corner.py\u001b[0m in \u001b[0;36mcorner\u001b[0;34m(data, bins, range, weights, color, hist_bin_factor, smooth, smooth1d, labels, label_kwargs, titles, show_titles, title_fmt, title_kwargs, truths, truth_color, scale_hist, quantiles, verbose, fig, max_n_ticks, top_ticks, use_math_text, reverse, labelpad, hist_kwargs, group, var_names, filter_vars, coords, divergences, divergences_kwargs, labeller, **hist2d_kwargs)\u001b[0m\n\u001b[1;32m    254\u001b[0m         )\n\u001b[1;32m    255\u001b[0m \u001b[0;34m\u001b[0m\u001b[0m\n\u001b[0;32m--> 256\u001b[0;31m     return arviz_corner(\n\u001b[0m\u001b[1;32m    257\u001b[0m         \u001b[0mdata\u001b[0m\u001b[0;34m,\u001b[0m\u001b[0;34m\u001b[0m\u001b[0;34m\u001b[0m\u001b[0m\n\u001b[1;32m    258\u001b[0m         \u001b[0mbins\u001b[0m\u001b[0;34m=\u001b[0m\u001b[0mbins\u001b[0m\u001b[0;34m,\u001b[0m\u001b[0;34m\u001b[0m\u001b[0;34m\u001b[0m\u001b[0m\n",
            "\u001b[0;32m/usr/local/lib/python3.8/dist-packages/corner/arviz_corner.py\u001b[0m in \u001b[0;36marviz_corner\u001b[0;34m(data, bins, range, weights, color, hist_bin_factor, smooth, smooth1d, labels, label_kwargs, titles, show_titles, title_fmt, title_kwargs, truths, truth_color, scale_hist, quantiles, verbose, fig, max_n_ticks, top_ticks, use_math_text, reverse, labelpad, hist_kwargs, group, var_names, filter_vars, coords, divergences, divergences_kwargs, labeller, **hist2d_kwargs)\u001b[0m\n\u001b[1;32m    134\u001b[0m     \u001b[0;31m# Coerce the samples into the expected format\u001b[0m\u001b[0;34m\u001b[0m\u001b[0;34m\u001b[0m\u001b[0;34m\u001b[0m\u001b[0m\n\u001b[1;32m    135\u001b[0m     \u001b[0msamples\u001b[0m \u001b[0;34m=\u001b[0m \u001b[0mnp\u001b[0m\u001b[0;34m.\u001b[0m\u001b[0mstack\u001b[0m\u001b[0;34m(\u001b[0m\u001b[0;34m[\u001b[0m\u001b[0mx\u001b[0m\u001b[0;34m[\u001b[0m\u001b[0;34m-\u001b[0m\u001b[0;36m1\u001b[0m\u001b[0;34m]\u001b[0m\u001b[0;34m.\u001b[0m\u001b[0mflatten\u001b[0m\u001b[0;34m(\u001b[0m\u001b[0;34m)\u001b[0m \u001b[0;32mfor\u001b[0m \u001b[0mx\u001b[0m \u001b[0;32min\u001b[0m \u001b[0mplotters\u001b[0m\u001b[0;34m]\u001b[0m\u001b[0;34m,\u001b[0m \u001b[0maxis\u001b[0m\u001b[0;34m=\u001b[0m\u001b[0;34m-\u001b[0m\u001b[0;36m1\u001b[0m\u001b[0;34m)\u001b[0m\u001b[0;34m\u001b[0m\u001b[0;34m\u001b[0m\u001b[0m\n\u001b[0;32m--> 136\u001b[0;31m     fig = corner_impl(\n\u001b[0m\u001b[1;32m    137\u001b[0m         \u001b[0msamples\u001b[0m\u001b[0;34m,\u001b[0m\u001b[0;34m\u001b[0m\u001b[0;34m\u001b[0m\u001b[0m\n\u001b[1;32m    138\u001b[0m         \u001b[0mbins\u001b[0m\u001b[0;34m=\u001b[0m\u001b[0mbins\u001b[0m\u001b[0;34m,\u001b[0m\u001b[0;34m\u001b[0m\u001b[0;34m\u001b[0m\u001b[0m\n",
            "\u001b[0;32m/usr/local/lib/python3.8/dist-packages/corner/core.py\u001b[0m in \u001b[0;36mcorner_impl\u001b[0;34m(xs, bins, range, weights, color, hist_bin_factor, smooth, smooth1d, labels, label_kwargs, titles, show_titles, title_fmt, title_kwargs, truths, truth_color, scale_hist, quantiles, verbose, fig, max_n_ticks, top_ticks, use_math_text, reverse, labelpad, hist_kwargs, **hist2d_kwargs)\u001b[0m\n\u001b[1;32m    119\u001b[0m             \u001b[0mm\u001b[0m \u001b[0;34m=\u001b[0m \u001b[0mnp\u001b[0m\u001b[0;34m.\u001b[0m\u001b[0marray\u001b[0m\u001b[0;34m(\u001b[0m\u001b[0;34m[\u001b[0m\u001b[0me\u001b[0m\u001b[0;34m[\u001b[0m\u001b[0;36m0\u001b[0m\u001b[0;34m]\u001b[0m \u001b[0;34m==\u001b[0m \u001b[0me\u001b[0m\u001b[0;34m[\u001b[0m\u001b[0;36m1\u001b[0m\u001b[0;34m]\u001b[0m \u001b[0;32mfor\u001b[0m \u001b[0me\u001b[0m \u001b[0;32min\u001b[0m \u001b[0mrange\u001b[0m\u001b[0;34m]\u001b[0m\u001b[0;34m,\u001b[0m \u001b[0mdtype\u001b[0m\u001b[0;34m=\u001b[0m\u001b[0mbool\u001b[0m\u001b[0;34m)\u001b[0m\u001b[0;34m\u001b[0m\u001b[0;34m\u001b[0m\u001b[0m\n\u001b[1;32m    120\u001b[0m             \u001b[0;32mif\u001b[0m \u001b[0mnp\u001b[0m\u001b[0;34m.\u001b[0m\u001b[0many\u001b[0m\u001b[0;34m(\u001b[0m\u001b[0mm\u001b[0m\u001b[0;34m)\u001b[0m\u001b[0;34m:\u001b[0m\u001b[0;34m\u001b[0m\u001b[0;34m\u001b[0m\u001b[0m\n\u001b[0;32m--> 121\u001b[0;31m                 raise ValueError(\n\u001b[0m\u001b[1;32m    122\u001b[0m                     (\n\u001b[1;32m    123\u001b[0m                         \u001b[0;34m\"It looks like the parameter(s) in \"\u001b[0m\u001b[0;34m\u001b[0m\u001b[0;34m\u001b[0m\u001b[0m\n",
            "\u001b[0;31mValueError\u001b[0m: It looks like the parameter(s) in column(s) 0, 1 have no dynamic range. Please provide a `range` argument."
          ]
        },
        {
          "output_type": "display_data",
          "data": {
            "text/plain": [
              "<Figure size 396x396 with 4 Axes>"
            ],
            "image/png": "[encoded data removed]"
          },
          "metadata": {
            "needs_background": "light"
          }
        }
      ]
    },
    {
      "cell_type": "code",
      "source": [],
      "metadata": {
        "id": "VRlfM4zNGJkr"
      },
      "execution_count": null,
      "outputs": []
    },
    {
      "cell_type": "code",
      "source": [],
      "metadata": {
        "id": "wvQmLTNTHK_K"
      },
      "execution_count": null,
      "outputs": []
    },
    {
      "cell_type": "code",
      "source": [],
      "metadata": {
        "id": "juSkaIpmND2m"
      },
      "execution_count": null,
      "outputs": []
    },
    {
      "cell_type": "code",
      "source": [],
      "metadata": {
        "id": "hYYigQg5NgCT"
      },
      "execution_count": null,
      "outputs": []
    }
  ]
}