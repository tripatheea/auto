{
  "nbformat": 4,
  "nbformat_minor": 0,
  "metadata": {
    "colab": {
      "provenance": [],
      "authorship_tag": "ABX9TyODh94QtvGVVp58CZWvsIV6",
      "include_colab_link": true
    },
    "kernelspec": {
      "name": "python3",
      "display_name": "Python 3"
    },
    "language_info": {
      "name": "python"
    }
  },
  "cells": [
    {
      "cell_type": "markdown",
      "metadata": {
        "id": "view-in-github",
        "colab_type": "text"
      },
      "source": [
        "<a href=\"https://colab.research.google.com/github/tripatheea/auto/blob/main/just_posterior.ipynb\" target=\"_parent\"><img src=\"https://colab.research.google.com/assets/colab-badge.svg\" alt=\"Open In Colab\"/></a>"
      ]
    },
    {
      "cell_type": "code",
      "execution_count": 3,
      "metadata": {
        "colab": {
          "base_uri": "https://localhost:8080/"
        },
        "id": "Niel0t6Ye_a0",
        "outputId": "5b8a8581-88ab-417e-872e-b7495027e3c5"
      },
      "outputs": [
        {
          "output_type": "stream",
          "name": "stdout",
          "text": [
            "Looking in indexes: https://pypi.org/simple, https://us-python.pkg.dev/colab-wheels/public/simple/\n",
            "Requirement already satisfied: tensorflow-probability in /usr/local/lib/python3.8/dist-packages (0.17.0)\n",
            "Requirement already satisfied: decorator in /usr/local/lib/python3.8/dist-packages (from tensorflow-probability) (4.4.2)\n",
            "Requirement already satisfied: cloudpickle>=1.3 in /usr/local/lib/python3.8/dist-packages (from tensorflow-probability) (2.2.0)\n",
            "Requirement already satisfied: gast>=0.3.2 in /usr/local/lib/python3.8/dist-packages (from tensorflow-probability) (0.4.0)\n",
            "Requirement already satisfied: six>=1.10.0 in /usr/local/lib/python3.8/dist-packages (from tensorflow-probability) (1.15.0)\n",
            "Requirement already satisfied: numpy>=1.13.3 in /usr/local/lib/python3.8/dist-packages (from tensorflow-probability) (1.21.6)\n",
            "Requirement already satisfied: absl-py in /usr/local/lib/python3.8/dist-packages (from tensorflow-probability) (1.3.0)\n",
            "Requirement already satisfied: dm-tree in /usr/local/lib/python3.8/dist-packages (from tensorflow-probability) (0.1.8)\n",
            "Looking in indexes: https://pypi.org/simple, https://us-python.pkg.dev/colab-wheels/public/simple/\n",
            "Requirement already satisfied: imageio in /usr/local/lib/python3.8/dist-packages (2.9.0)\n",
            "Requirement already satisfied: pillow in /usr/local/lib/python3.8/dist-packages (from imageio) (7.1.2)\n",
            "Requirement already satisfied: numpy in /usr/local/lib/python3.8/dist-packages (from imageio) (1.21.6)\n",
            "Looking in indexes: https://pypi.org/simple, https://us-python.pkg.dev/colab-wheels/public/simple/\n",
            "Collecting git+https://github.com/tensorflow/docs\n",
            "  Cloning https://github.com/tensorflow/docs to /tmp/pip-req-build-aytkf89b\n",
            "  Running command git clone --filter=blob:none --quiet https://github.com/tensorflow/docs /tmp/pip-req-build-aytkf89b\n",
            "  Resolved https://github.com/tensorflow/docs to commit 7d9aab3abb979d304e768df250b7fd069d60497e\n",
            "  Preparing metadata (setup.py) ... \u001b[?25l\u001b[?25hdone\n",
            "Requirement already satisfied: astor in /usr/local/lib/python3.8/dist-packages (from tensorflow-docs==0.0.0.dev0) (0.8.1)\n",
            "Requirement already satisfied: absl-py in /usr/local/lib/python3.8/dist-packages (from tensorflow-docs==0.0.0.dev0) (1.3.0)\n",
            "Requirement already satisfied: jinja2 in /usr/local/lib/python3.8/dist-packages (from tensorflow-docs==0.0.0.dev0) (2.11.3)\n",
            "Requirement already satisfied: nbformat in /usr/local/lib/python3.8/dist-packages (from tensorflow-docs==0.0.0.dev0) (5.7.1)\n",
            "Requirement already satisfied: protobuf<3.20,>=3.12.0 in /usr/local/lib/python3.8/dist-packages (from tensorflow-docs==0.0.0.dev0) (3.19.6)\n",
            "Requirement already satisfied: pyyaml in /usr/local/lib/python3.8/dist-packages (from tensorflow-docs==0.0.0.dev0) (6.0)\n",
            "Requirement already satisfied: MarkupSafe>=0.23 in /usr/local/lib/python3.8/dist-packages (from jinja2->tensorflow-docs==0.0.0.dev0) (2.0.1)\n",
            "Requirement already satisfied: fastjsonschema in /usr/local/lib/python3.8/dist-packages (from nbformat->tensorflow-docs==0.0.0.dev0) (2.16.2)\n",
            "Requirement already satisfied: traitlets>=5.1 in /usr/local/lib/python3.8/dist-packages (from nbformat->tensorflow-docs==0.0.0.dev0) (5.7.1)\n",
            "Requirement already satisfied: jupyter-core in /usr/local/lib/python3.8/dist-packages (from nbformat->tensorflow-docs==0.0.0.dev0) (5.1.3)\n",
            "Requirement already satisfied: jsonschema>=2.6 in /usr/local/lib/python3.8/dist-packages (from nbformat->tensorflow-docs==0.0.0.dev0) (4.3.3)\n",
            "Requirement already satisfied: attrs>=17.4.0 in /usr/local/lib/python3.8/dist-packages (from jsonschema>=2.6->nbformat->tensorflow-docs==0.0.0.dev0) (22.2.0)\n",
            "Requirement already satisfied: pyrsistent!=0.17.0,!=0.17.1,!=0.17.2,>=0.14.0 in /usr/local/lib/python3.8/dist-packages (from jsonschema>=2.6->nbformat->tensorflow-docs==0.0.0.dev0) (0.19.3)\n",
            "Requirement already satisfied: importlib-resources>=1.4.0 in /usr/local/lib/python3.8/dist-packages (from jsonschema>=2.6->nbformat->tensorflow-docs==0.0.0.dev0) (5.10.2)\n",
            "Requirement already satisfied: platformdirs>=2.5 in /usr/local/lib/python3.8/dist-packages (from jupyter-core->nbformat->tensorflow-docs==0.0.0.dev0) (2.6.2)\n",
            "Requirement already satisfied: zipp>=3.1.0 in /usr/local/lib/python3.8/dist-packages (from importlib-resources>=1.4.0->jsonschema>=2.6->nbformat->tensorflow-docs==0.0.0.dev0) (3.11.0)\n",
            "Building wheels for collected packages: tensorflow-docs\n",
            "  Building wheel for tensorflow-docs (setup.py) ... \u001b[?25l\u001b[?25hdone\n",
            "  Created wheel for tensorflow-docs: filename=tensorflow_docs-0.0.0.dev0-py3-none-any.whl size=184416 sha256=79d97cc2c096a5d1a9cf811aa4533d490f843f8b80b9f6d265a94ad39813d905\n",
            "  Stored in directory: /tmp/pip-ephem-wheel-cache-u_mdl86l/wheels/3b/ee/a2/ab4d36a9a4af495bcb936f3e849d4b497b65fa40548a68d6c3\n",
            "Successfully built tensorflow-docs\n",
            "Installing collected packages: tensorflow-docs\n",
            "Successfully installed tensorflow-docs-0.0.0.dev0\n"
          ]
        }
      ],
      "source": [
        "! pip install tensorflow-probability\n",
        "\n",
        "# to generate gifs\n",
        "! pip install imageio\n",
        "! pip install git+https://github.com/tensorflow/docs"
      ]
    },
    {
      "cell_type": "code",
      "source": [
        "from IPython import display\n",
        "\n",
        "import glob\n",
        "import imageio\n",
        "import matplotlib.pyplot as plt\n",
        "import numpy as np\n",
        "import PIL\n",
        "import tensorflow as tf\n",
        "import tensorflow_probability as tfp\n",
        "import time\n",
        "\n",
        "from tensorflow.python.framework.ops import disable_eager_execution, enable_eager_execution"
      ],
      "metadata": {
        "id": "j1LCh9FufCHN"
      },
      "execution_count": 4,
      "outputs": []
    },
    {
      "cell_type": "code",
      "source": [
        "# import keras\n",
        "# from keras import Model\n",
        "# from keras.layers import Input, Conv2D, MaxPooling2D, UpSampling2D, Concatenate, Reshape, Dense, Lambda, Flatten\n",
        "# from keras import backend as K\n",
        "\n",
        "import warnings\n",
        "warnings.filterwarnings('ignore')\n",
        "import numpy as np\n",
        "import glob\n",
        "import skimage\n",
        "import skimage.transform\n",
        "import skimage.io\n",
        "import PIL\n",
        "import numpy as np\n",
        "import os\n",
        "from IPython.display import clear_output\n",
        "import pandas as pd\n",
        "import matplotlib.pyplot as plt\n",
        "%matplotlib inline\n",
        "from ipywidgets import interact, interactive, fixed, interact_manual\n",
        "import ipywidgets as widgets\n",
        "import imageio\n",
        "# import utils"
      ],
      "metadata": {
        "id": "tVaauFC-fDYD"
      },
      "execution_count": 5,
      "outputs": []
    },
    {
      "cell_type": "code",
      "source": [
        "! pip install corner"
      ],
      "metadata": {
        "colab": {
          "base_uri": "https://localhost:8080/"
        },
        "id": "gFlwAnf6I2hf",
        "outputId": "9ad21868-d27f-4ce5-e90f-ba39ff3e4cfd"
      },
      "execution_count": 6,
      "outputs": [
        {
          "output_type": "stream",
          "name": "stdout",
          "text": [
            "Looking in indexes: https://pypi.org/simple, https://us-python.pkg.dev/colab-wheels/public/simple/\n",
            "Collecting corner\n",
            "  Downloading corner-2.2.1-py3-none-any.whl (15 kB)\n",
            "Requirement already satisfied: matplotlib>=2.1 in /usr/local/lib/python3.8/dist-packages (from corner) (3.2.2)\n",
            "Requirement already satisfied: numpy>=1.11 in /usr/local/lib/python3.8/dist-packages (from matplotlib>=2.1->corner) (1.21.6)\n",
            "Requirement already satisfied: cycler>=0.10 in /usr/local/lib/python3.8/dist-packages (from matplotlib>=2.1->corner) (0.11.0)\n",
            "Requirement already satisfied: python-dateutil>=2.1 in /usr/local/lib/python3.8/dist-packages (from matplotlib>=2.1->corner) (2.8.2)\n",
            "Requirement already satisfied: pyparsing!=2.0.4,!=2.1.2,!=2.1.6,>=2.0.1 in /usr/local/lib/python3.8/dist-packages (from matplotlib>=2.1->corner) (3.0.9)\n",
            "Requirement already satisfied: kiwisolver>=1.0.1 in /usr/local/lib/python3.8/dist-packages (from matplotlib>=2.1->corner) (1.4.4)\n",
            "Requirement already satisfied: six>=1.5 in /usr/local/lib/python3.8/dist-packages (from python-dateutil>=2.1->matplotlib>=2.1->corner) (1.15.0)\n",
            "Installing collected packages: corner\n",
            "Successfully installed corner-2.2.1\n"
          ]
        }
      ]
    },
    {
      "cell_type": "code",
      "source": [
        "import corner"
      ],
      "metadata": {
        "id": "humASsJJI373"
      },
      "execution_count": 7,
      "outputs": []
    },
    {
      "cell_type": "code",
      "source": [
        "enable_eager_execution()"
      ],
      "metadata": {
        "id": "F8zKLspGfETx"
      },
      "execution_count": 8,
      "outputs": []
    },
    {
      "cell_type": "code",
      "source": [
        "WIDTH = 90\n",
        "HEIGHT = 48"
      ],
      "metadata": {
        "id": "xCAiw4XLfFMD"
      },
      "execution_count": 9,
      "outputs": []
    },
    {
      "cell_type": "code",
      "source": [
        "import numpy as np\n",
        "import matplotlib.pyplot as plt\n",
        "\n",
        "import time\n",
        "from tensorflow.keras import regularizers\n",
        "import tensorflow.keras.initializers\n",
        "\n",
        "bandwidth = 0.1\n",
        "\n",
        "f_sig = 20.0\n",
        "\n",
        "fmax = f_sig + 0.5 * bandwidth\n",
        "fmin = f_sig - 0.5 * bandwidth\n",
        "\n",
        "\n",
        "def\tMakeSpectrogram(f_sig = 100., bandwidth = 0.25, Tobs_hr = 24., Tcoh_hr = .25, \n",
        "\t\thnoise = 100., hamp = .4, fsamp = 512., fdot_sig = -1e-6, fdotdot_sig = -1e-10, Omega=0.25, a_p=25,\n",
        "\t\tplot_num = 0, plot = False, write_to_file = False):\n",
        "\t\n",
        "\t##### Defining Variables #####\n",
        "\t# f_sig     --- signal central frequency, hz\n",
        "\t# bandwidth --- bandwidth of search, width of each freq, hz\n",
        "\t# Tobs_hr   --- Length of observation, hrs\n",
        "\t# Tcoh_hr   --- Coherence time, hrs\n",
        "\t# hnoise    --- noise amplitude\n",
        "\t# hamp      --- signal amplitude\n",
        "\t# fsamp     --- sampling frequency, hz\n",
        "\t# fdot_sig  --- Signal frequency derivative \n",
        "\t# plot_num  --- if multiple files is an index\n",
        "\t# whereto   --- Where to save plot\n",
        "\t\n",
        "\t##### Booleans ####\n",
        "\t# plot      \t--- whether or not to plot\n",
        "\t# write_to_file --- whether to save data to .txt file\n",
        "\n",
        "\t#### Returns ####\n",
        "\t# frequency \n",
        "\t# time\n",
        "\t# spectrogram\n",
        "\n",
        "\t# Define constants\n",
        "\tSECS_PER_HOUR = 3600\n",
        "\t\n",
        "\t# Find amplitude spectral density for noise\n",
        "\tnoiseamp = hnoise*np.sqrt(4./fsamp) \n",
        "\t\n",
        "\t\n",
        "\t# Convert observation and coherence time to seconds\n",
        "\tTobs = Tobs_hr * SECS_PER_HOUR\n",
        "\tTcoh = Tcoh_hr * SECS_PER_HOUR\n",
        "\n",
        "\t# Find low and high frequency\n",
        "\t# freqlo_approx = f_sig - 0.5 * bandwidth\n",
        "\t# freqlo = np.floor(freqlo_approx * Tcoh) / Tcoh\n",
        "\t# freqhi = freqlo + bandwidth\n",
        "\n",
        "\tfreqlo, freqhi = fmin, fmax\n",
        "\n",
        "\t# Define time series to hold raw data stream of signal + noise\n",
        "\tdeltat = 1. / fsamp\n",
        "\tt = np.arange(0,Tobs,deltat)\n",
        "\tNsample = len(t)\n",
        "\t# print ('Nsample = %i'%len(t))\n",
        "\t\n",
        "\t# Generate signal in the time domain\n",
        "\tnoise = noiseamp * np.random.normal(0, scale = 1, size = (Nsample,))\n",
        " \n",
        "\tt_asc = 0\n",
        "\t\n",
        "\tfmod = f_sig * (1.0 - a_p * Omega * np.cos(Omega * (t - t_asc)))\t# Should include Doppler term v \\dot n too.\n",
        "\n",
        "\tphi_of_t = 2 * np.pi * (fmod * t + .5 * fdot_sig * t**2 + (1/6) * fdotdot_sig * t**3 )\n",
        " \n",
        "\t# signal = hamp * np.sin(2 * np.pi * (f_sig * t + .5 * fdot_sig * t**2 + (1/6) * fdotdot_sig * t**3 ))\n",
        "\tsignal = hamp * np.sin(phi_of_t)\n",
        " \n",
        "\tdata = signal + noise\n",
        "\n",
        "\t# Generate spectra for each coherence time & extract band of interest to make spectrogram\n",
        "\tindbandlo = int(np.floor(freqlo * Tcoh))\n",
        "\tindbandhi = int(np.floor(freqhi * Tcoh))\n",
        "\tnbandbin  = indbandhi - indbandlo\n",
        "\tNseg = int(np.floor(Tobs / Tcoh))\n",
        "\tNsample_coh = int(np.floor(Nsample / Nseg))\n",
        "\tspectrogram = np.zeros((nbandbin,Nseg),)\t\n",
        "\t# print( np.shape(spectrogram) )\n",
        "\t\n",
        "\tfor seg in range(Nseg):\n",
        "\t\t# print('Generating segment %d\\n'%(seg))\n",
        "\t\tindlo = seg * Nsample_coh\n",
        "\t\tindhi = indlo + Nsample_coh \n",
        "\t\tsegment = data[indlo:indhi]\n",
        "\t\t\n",
        "\t\trawfft = np.fft.fft(segment,Nsample_coh, axis = 0)\n",
        "\t\tspectrogram[:,seg] = 2 * abs(rawfft[indbandlo:indbandhi])\n",
        "\t\t\n",
        "\tsegarray = np.arange(0,Nseg)\n",
        "\tseghour = (segarray) * Tcoh / SECS_PER_HOUR\n",
        "\tindarray = np.arange(indbandlo,indbandhi + 1)\n",
        "\tfreqplot = (indarray - indbandlo)*1.0/Tcoh + freqlo\t\n",
        "  \n",
        "\tif plot:\n",
        "\t\tplt.clf()\n",
        "\t\t# print('Plotting spectrogram')\n",
        "\t\t\n",
        "\t\tplt.pcolormesh(seghour, freqplot, spectrogram)\n",
        "\t\tplt.ylabel('Frequency [Hz]')\n",
        "\t\tplt.xlabel('Time [Hours]')\n",
        "  \n",
        "  \n",
        "\treturn(seghour, freqplot, spectrogram)\n",
        "\n"
      ],
      "metadata": {
        "id": "uQxcvbBNfF76"
      },
      "execution_count": 10,
      "outputs": []
    },
    {
      "cell_type": "code",
      "source": [
        "def fix_dims_and_normalize(s):\n",
        "  \n",
        "  s = np.pad(s, ((0, WIDTH - s.shape[0]), (0, HEIGHT - s.shape[1])))\n",
        "\n",
        "  return (s - np.min(s)) / (np.max(s) - np.min(s))\n",
        "  # return s"
      ],
      "metadata": {
        "id": "6AiICvfjfGgR"
      },
      "execution_count": 11,
      "outputs": []
    },
    {
      "cell_type": "code",
      "source": [
        "bandwidth = 0.1\n",
        "f_sig = 20\n",
        "\n",
        "T_coh = 0.25\n",
        "Tobs_hr = 24\n",
        "\n",
        "fdot_sig = np.random.choice([-1, 1]) * 10**np.random.uniform(-8, -6)\n",
        "\n",
        "\n",
        "fdotdot_sig = np.random.choice([-1, 1]) * 10**np.random.uniform(-13, -12)\n",
        "\n",
        "# fdot_sig = 1e-6\n",
        "\n",
        "fdot_sig, fdotdot_sig"
      ],
      "metadata": {
        "id": "fWru13CRfHM6",
        "colab": {
          "base_uri": "https://localhost:8080/"
        },
        "outputId": "9aefb87b-b5c4-4da9-e90a-7a104d7a5883"
      },
      "execution_count": 12,
      "outputs": [
        {
          "output_type": "execute_result",
          "data": {
            "text/plain": [
              "(1.94956655603548e-08, 8.132269097968939e-13)"
            ]
          },
          "metadata": {},
          "execution_count": 12
        }
      ]
    },
    {
      "cell_type": "code",
      "source": [
        "t, f, spec = MakeSpectrogram(f_sig = np.random.uniform(f_sig - 0.5 * bandwidth, f_sig + 0.5 * bandwidth), bandwidth = bandwidth, Tobs_hr = Tobs_hr, Tcoh_hr = T_coh, \n",
        "              hnoise = np.random.uniform(0.0, 0.001), hamp = np.random.uniform(0.1, 0.5), fsamp = 128., fdot_sig = fdot_sig, \n",
        "              fdotdot_sig=fdotdot_sig, Omega=1e-4, a_p=2, plot_num = 0, plot = True, write_to_file = False)"
      ],
      "metadata": {
        "colab": {
          "base_uri": "https://localhost:8080/",
          "height": 279
        },
        "id": "F4Jf6CI8fJu6",
        "outputId": "93dc1553-28e9-434b-9190-6c169d2b6759"
      },
      "execution_count": 13,
      "outputs": [
        {
          "output_type": "display_data",
          "data": {
            "text/plain": [
              "<Figure size 432x288 with 1 Axes>"
            ],
            "image/png": "[encoded data removed]"
          },
          "metadata": {
            "needs_background": "light"
          }
        }
      ]
    },
    {
      "cell_type": "code",
      "source": [
        "# 1.0 / (bandwidth / 90)"
      ],
      "metadata": {
        "id": "I7wNaZg_sXbs"
      },
      "execution_count": 14,
      "outputs": []
    },
    {
      "cell_type": "code",
      "source": [
        "spec.shape"
      ],
      "metadata": {
        "colab": {
          "base_uri": "https://localhost:8080/"
        },
        "id": "aJCAHovxQknn",
        "outputId": "c5b76186-4e3d-4e32-9914-1a449301af00"
      },
      "execution_count": 15,
      "outputs": [
        {
          "output_type": "execute_result",
          "data": {
            "text/plain": [
              "(90, 96)"
            ]
          },
          "metadata": {},
          "execution_count": 15
        }
      ]
    },
    {
      "cell_type": "code",
      "source": [
        "plt.plot(spec[:,-1])"
      ],
      "metadata": {
        "colab": {
          "base_uri": "https://localhost:8080/",
          "height": 284
        },
        "id": "as29NMTHi2aQ",
        "outputId": "db2681df-10b0-4e27-88fc-ac4e62ffdaff"
      },
      "execution_count": 16,
      "outputs": [
        {
          "output_type": "execute_result",
          "data": {
            "text/plain": [
              "[<matplotlib.lines.Line2D at 0x7f9a70d12b50>]"
            ]
          },
          "metadata": {},
          "execution_count": 16
        },
        {
          "output_type": "display_data",
          "data": {
            "text/plain": [
              "<Figure size 432x288 with 1 Axes>"
            ],
            "image/png": "[encoded data removed]"
          },
          "metadata": {
            "needs_background": "light"
          }
        }
      ]
    },
    {
      "cell_type": "code",
      "source": [
        "np.random.uniform(-8, -6)"
      ],
      "metadata": {
        "colab": {
          "base_uri": "https://localhost:8080/"
        },
        "id": "8rpqHWlavbXc",
        "outputId": "b8ee68d0-66ae-4136-aa93-84dd60b991ce"
      },
      "execution_count": 17,
      "outputs": [
        {
          "output_type": "execute_result",
          "data": {
            "text/plain": [
              "-6.690539300154036"
            ]
          },
          "metadata": {},
          "execution_count": 17
        }
      ]
    },
    {
      "cell_type": "code",
      "source": [
        "# Max frequency offset in a 24 hour period.\n",
        "\n",
        "delta_t = T_coh * 3600\n",
        "\n",
        "freq_resolution = 1.0 / delta_t\n",
        "\n",
        "fdot_min, fdot_max = 1e-8, 1e-6\n",
        "fdotdot_min, fdotdot_max = 1e-12, 1e-13\n",
        "\n",
        "\n",
        "\n",
        "\n",
        "print(delta_t, freq_resolution, fdot_min * (Tobs_hr * 60 * 60) * delta_t, fdot_max * (Tobs_hr * 60 * 60) * delta_t)\n",
        "print(fdotdot_min * ((Tobs_hr * 60 * 60)**2) * delta_t, fdotdot_max * ((Tobs_hr * 60 * 60)**2) * delta_t)"
      ],
      "metadata": {
        "colab": {
          "base_uri": "https://localhost:8080/"
        },
        "id": "7nVQBuDukukf",
        "outputId": "0ea30be8-421c-4e92-a157-352744817fb6"
      },
      "execution_count": 18,
      "outputs": [
        {
          "output_type": "stream",
          "name": "stdout",
          "text": [
            "900.0 0.0011111111111111111 0.7776 77.75999999999999\n",
            "6.718464 0.6718464000000001\n"
          ]
        }
      ]
    },
    {
      "cell_type": "code",
      "source": [
        "all_specs = []\n",
        "N = 200\n",
        "\n",
        "\n",
        "\n",
        "f_lower = fmin + 0.25 * (fmax - fmin)\n",
        "f_upper = fmin + 0.75 * (fmax - fmin)\n",
        "\n",
        "f1min, f1max = -8, -6\n",
        "\n",
        "f2min, f2max = -13, -12\n",
        "\n",
        "omega_min, omega_max = -10, -5\n",
        "ap_min, ap_max = 0.0, 2.0\n",
        "\n",
        "def invert_scaling(x, max_val, min_val):\n",
        "  return x * (max_val - min_val) + min_val\n",
        "\n",
        "\n",
        "x_s = []\n",
        "for i in range(N):\n",
        "  # t, f, spec = MakeSpectrogram(f_sig = np.random.random() * 100., bandwidth = 0.05, Tobs_hr = 12., Tcoh_hr = .25, \n",
        "  #             hnoise = 100. + (1 - 2 * np.random.random() * 10.), hamp = .4, fsamp = 128., fdot_sig = -1e-6, \n",
        "  #             plot_num = 0, plot = True, write_to_file = False)\n",
        "  \n",
        "\n",
        "  \n",
        "  freq = np.random.uniform(f_lower, f_upper)\n",
        "  scaled_freq = (freq - fmin) / (fmax - fmin)\n",
        "\n",
        "  \n",
        "  \n",
        "  spindown_exponent = np.random.uniform(f1min, f1max)\n",
        "  spindown = 10**spindown_exponent\n",
        "  scaled_spindown = (spindown_exponent - f1min) / (f1max - f1min)\n",
        "  \n",
        "  fdotdot_sign = np.random.choice([-1, 1])\n",
        "  fdotdot_exponent = np.random.uniform(f2min, f2max)\n",
        "  fdotdot = fdotdot_sign * 10**fdotdot_exponent\n",
        "  scaled_fdotdot = fdotdot_sign * (fdotdot_exponent - f2min) / (f2max - f2min)\n",
        "\n",
        "  omega_exponent = np.random.uniform(omega_min, omega_max)\n",
        "  omega = 10**omega_exponent\n",
        "  scaled_omega = (omega_exponent - omega_min) / (omega_max - omega_min)\n",
        "\n",
        "  a_p = np.random.uniform(ap_min, ap_max)\n",
        "  scaled_a_p = (a_p - ap_min) / (ap_max - ap_min)\n",
        "\n",
        "  # print(freq, spindown, fdotdot)\n",
        "\n",
        "  t, f, spec = MakeSpectrogram(f_sig = freq, bandwidth = bandwidth, Tobs_hr = 12., Tcoh_hr = .25, \n",
        "            hnoise = np.random.uniform(0.0, 0.001), hamp = np.random.uniform(0.1, 0.5), fsamp = 128., fdot_sig = spindown, fdotdot_sig = fdotdot,\n",
        "            Omega=omega, a_p=a_p,\n",
        "            plot_num = 0, plot = False, write_to_file = False)\n",
        "  \n",
        "\n",
        "  freq_start_bin = np.argmax(spec[:,0]) / spec.shape[0]\n",
        "\n",
        "  # scaler = StandardScaler()\n",
        "  # spec = scaler.fit_transform(spec)\n",
        "\n",
        "  r = fix_dims_and_normalize(np.copy(spec))\n",
        "\n",
        "  # print(r.shape)\n",
        "  all_specs.append(r)\n",
        "  x_s.append((scaled_freq, scaled_spindown, scaled_fdotdot, scaled_omega, scaled_a_p, freq_start_bin))\n",
        "\n",
        "  if (i % 100) == 0:\n",
        "    print(f\"i = {i}\")\n",
        "\n",
        "all_specs = np.asanyarray(all_specs)\n",
        "\n",
        "size = len(all_specs)\n",
        "\n",
        "print(all_specs.shape)"
      ],
      "metadata": {
        "colab": {
          "base_uri": "https://localhost:8080/"
        },
        "id": "LB-D6wcFfKYT",
        "outputId": "30487bf6-6324-440f-d43e-ca5a339f50e7"
      },
      "execution_count": 19,
      "outputs": [
        {
          "output_type": "stream",
          "name": "stdout",
          "text": [
            "i = 0\n",
            "i = 100\n",
            "(200, 90, 48)\n"
          ]
        }
      ]
    },
    {
      "cell_type": "code",
      "source": [
        "r, spec.shape"
      ],
      "metadata": {
        "colab": {
          "base_uri": "https://localhost:8080/"
        },
        "id": "l3whEmiRUEHy",
        "outputId": "7a2bf2ae-b95e-4399-b4b0-b2fa2aab268a"
      },
      "execution_count": 20,
      "outputs": [
        {
          "output_type": "execute_result",
          "data": {
            "text/plain": [
              "(array([[0.00000000e+00, 1.94584610e-04, 3.83191223e-04, ...,\n",
              "         4.58750338e-03, 4.61626157e-03, 4.62825170e-03],\n",
              "        [1.10320887e-05, 2.07599760e-04, 4.00509764e-04, ...,\n",
              "         4.69106021e-03, 4.71822793e-03, 4.73282152e-03],\n",
              "        [2.06664184e-05, 2.22907389e-04, 4.18106876e-04, ...,\n",
              "         4.79948431e-03, 4.82423163e-03, 4.83950460e-03],\n",
              "        ...,\n",
              "        [1.66607539e-04, 4.30820198e-04, 6.88520671e-04, ...,\n",
              "         6.45547497e-03, 6.49214097e-03, 6.53087817e-03],\n",
              "        [1.51239788e-04, 4.05381313e-04, 6.56748264e-04, ...,\n",
              "         6.27336288e-03, 6.30564484e-03, 6.34626045e-03],\n",
              "        [1.33988468e-04, 3.83706598e-04, 6.27582158e-04, ...,\n",
              "         6.09852202e-03, 6.12828489e-03, 6.17301485e-03]]), (90, 48))"
            ]
          },
          "metadata": {},
          "execution_count": 20
        }
      ]
    },
    {
      "cell_type": "code",
      "source": [
        "plt.pcolormesh(all_specs[1,:,:])"
      ],
      "metadata": {
        "colab": {
          "base_uri": "https://localhost:8080/",
          "height": 286
        },
        "id": "Hn7qBFgvUt6U",
        "outputId": "30319889-992e-410c-d661-0d2f05408bee"
      },
      "execution_count": 21,
      "outputs": [
        {
          "output_type": "execute_result",
          "data": {
            "text/plain": [
              "<matplotlib.collections.QuadMesh at 0x7f9a70cd6af0>"
            ]
          },
          "metadata": {},
          "execution_count": 21
        },
        {
          "output_type": "display_data",
          "data": {
            "text/plain": [
              "<Figure size 432x288 with 1 Axes>"
            ],
            "image/png": "[encoded data removed]"
          },
          "metadata": {
            "needs_background": "light"
          }
        }
      ]
    },
    {
      "cell_type": "code",
      "source": [
        "x_s"
      ],
      "metadata": {
        "id": "lQ9ON-EiWyeE",
        "colab": {
          "base_uri": "https://localhost:8080/"
        },
        "outputId": "c39ca23b-9b3c-4038-a95a-701a61de9a7c"
      },
      "execution_count": 22,
      "outputs": [
        {
          "output_type": "execute_result",
          "data": {
            "text/plain": [
              "[(0.2601193272145926,\n",
              "  0.4390815062172697,\n",
              "  -0.4087894741398781,\n",
              "  0.4443539145541939,\n",
              "  0.7021765468805882,\n",
              "  0.25555555555555554),\n",
              " (0.48329280139344655,\n",
              "  0.8092423076093205,\n",
              "  0.36229736842108906,\n",
              "  0.30480494532889607,\n",
              "  0.35147166744712266,\n",
              "  0.4888888888888889),\n",
              " (0.6420045762464619,\n",
              "  0.7970212528139284,\n",
              "  0.9416049343997059,\n",
              "  0.7998780796213442,\n",
              "  0.8233598978388263,\n",
              "  0.6444444444444445),\n",
              " (0.2822228336696102,\n",
              "  0.914363265181338,\n",
              "  -0.760365195797359,\n",
              "  0.7036710538321269,\n",
              "  0.0012334676991875293,\n",
              "  0.28888888888888886),\n",
              " (0.34116935815336774,\n",
              "  0.2222957069712952,\n",
              "  0.6537461610345137,\n",
              "  0.807257645383965,\n",
              "  0.061423891151075494,\n",
              "  0.34444444444444444),\n",
              " (0.5147512099490752,\n",
              "  0.013009373007278668,\n",
              "  -0.793303510243156,\n",
              "  0.09278039155153835,\n",
              "  0.0662956694643918,\n",
              "  0.5111111111111111),\n",
              " (0.4306878772047834,\n",
              "  0.119246673468274,\n",
              "  0.4109279501050409,\n",
              "  0.7483879399110209,\n",
              "  0.8460358633755789,\n",
              "  0.43333333333333335),\n",
              " (0.2979639758034083,\n",
              "  0.35188082953046695,\n",
              "  -0.25949605717012325,\n",
              "  0.08484128074328048,\n",
              "  0.4445199079747233,\n",
              "  0.3),\n",
              " (0.5444956481361551,\n",
              "  0.07589991463529122,\n",
              "  0.25805502328798013,\n",
              "  0.041114541710015474,\n",
              "  0.8513095125343342,\n",
              "  0.5444444444444444),\n",
              " (0.647602277178931,\n",
              "  0.032956681816636024,\n",
              "  0.30021001540964143,\n",
              "  0.30795278127165276,\n",
              "  0.9628423814627691,\n",
              "  0.6444444444444445),\n",
              " (0.6247307555389181,\n",
              "  0.7470914022755704,\n",
              "  0.1306330959465356,\n",
              "  0.29748639719933256,\n",
              "  0.23941661201850617,\n",
              "  0.6222222222222222),\n",
              " (0.6304337502857659,\n",
              "  0.987375482500541,\n",
              "  -0.25718350631121467,\n",
              "  0.9828701359779204,\n",
              "  0.6586521207976332,\n",
              "  0.6333333333333333),\n",
              " (0.5851861135742015,\n",
              "  0.36246374103426193,\n",
              "  -0.23807642315879463,\n",
              "  0.6599260561479954,\n",
              "  0.24560203007458625,\n",
              "  0.5888888888888889),\n",
              " (0.6744024042056556,\n",
              "  0.29054967050500924,\n",
              "  0.29985901050929975,\n",
              "  0.502046548422227,\n",
              "  0.5404478037986166,\n",
              "  0.6777777777777778),\n",
              " (0.5778186149732452,\n",
              "  0.32915660930978996,\n",
              "  0.3898487818258509,\n",
              "  0.8015527647011197,\n",
              "  0.8085088843018123,\n",
              "  0.5777777777777777),\n",
              " (0.3679090860611415,\n",
              "  0.6185672528425745,\n",
              "  0.5163451125722425,\n",
              "  0.034856922385905875,\n",
              "  0.33491657539982267,\n",
              "  0.36666666666666664),\n",
              " (0.5747520337093011,\n",
              "  0.41878507541519694,\n",
              "  -0.8913648321770093,\n",
              "  0.9251413171266556,\n",
              "  0.13298705080973838,\n",
              "  0.5777777777777777),\n",
              " (0.6185337502781519,\n",
              "  0.13003910679990094,\n",
              "  -0.43885189220815235,\n",
              "  0.19228231871212031,\n",
              "  0.029117832310368463,\n",
              "  0.6222222222222222),\n",
              " (0.742677703118691,\n",
              "  0.47063577821146074,\n",
              "  0.7672095462720705,\n",
              "  0.8379577535066642,\n",
              "  0.28088043804509333,\n",
              "  0.7444444444444445),\n",
              " (0.7494290421243015,\n",
              "  0.6312082413565863,\n",
              "  -0.9267483813524642,\n",
              "  0.019212968515853746,\n",
              "  0.38064822315356617,\n",
              "  0.7555555555555555),\n",
              " (0.5519468113657232,\n",
              "  0.4341264105001015,\n",
              "  -0.8069884110379881,\n",
              "  0.4152960216928296,\n",
              "  0.008311976855872816,\n",
              "  0.5555555555555556),\n",
              " (0.40830390391725174,\n",
              "  0.8686500543114817,\n",
              "  -0.39092800863815214,\n",
              "  0.5051402108863676,\n",
              "  0.13610357960940556,\n",
              "  0.4111111111111111),\n",
              " (0.34830366925248274,\n",
              "  0.2690231037023736,\n",
              "  0.3911750019896374,\n",
              "  0.23452669047317193,\n",
              "  0.5706470733663398,\n",
              "  0.34444444444444444),\n",
              " (0.6112106959699217,\n",
              "  0.02873840894210966,\n",
              "  0.03345613421999616,\n",
              "  0.0014895387890813793,\n",
              "  0.921525573906024,\n",
              "  0.6111111111111112),\n",
              " (0.3779866226818331,\n",
              "  0.7075688755094047,\n",
              "  0.451860497378231,\n",
              "  0.47560270707810554,\n",
              "  0.6717935207330484,\n",
              "  0.37777777777777777),\n",
              " (0.5183110058593525,\n",
              "  0.36518311992159136,\n",
              "  0.9155342268608759,\n",
              "  0.647610855724845,\n",
              "  0.20753246843944928,\n",
              "  0.5222222222222223),\n",
              " (0.2823504041323548,\n",
              "  0.25182151665865327,\n",
              "  0.7483961455356454,\n",
              "  0.08936660913940742,\n",
              "  0.8870403632981653,\n",
              "  0.2777777777777778),\n",
              " (0.37891144610646593,\n",
              "  0.6045264585073724,\n",
              "  0.7207462798161881,\n",
              "  0.24459419032071034,\n",
              "  0.32314166602514316,\n",
              "  0.37777777777777777),\n",
              " (0.4262644462602278,\n",
              "  0.4535145997098602,\n",
              "  -0.9306973844929995,\n",
              "  0.39413713192782396,\n",
              "  0.2577827296736934,\n",
              "  0.4222222222222222),\n",
              " (0.4228608002551877,\n",
              "  0.1206129573116339,\n",
              "  0.233478411713401,\n",
              "  0.8811853578390112,\n",
              "  0.8729541845808438,\n",
              "  0.4222222222222222),\n",
              " (0.7326147006177204,\n",
              "  0.45055402984409465,\n",
              "  0.3762826905750991,\n",
              "  0.29351722802044156,\n",
              "  0.19023940888272017,\n",
              "  0.7333333333333333),\n",
              " (0.27138034813297524,\n",
              "  0.008982578202756386,\n",
              "  -0.9478445414382506,\n",
              "  0.8612390138151784,\n",
              "  0.7439138952005375,\n",
              "  0.26666666666666666),\n",
              " (0.5895341695089501,\n",
              "  0.08463796931836365,\n",
              "  0.8612285728513367,\n",
              "  0.5663382429009912,\n",
              "  0.1740355405511056,\n",
              "  0.5888888888888889),\n",
              " (0.26981498898322415,\n",
              "  0.39069084017595035,\n",
              "  0.6372297663374464,\n",
              "  0.5697598814631007,\n",
              "  0.0354087388896992,\n",
              "  0.26666666666666666),\n",
              " (0.44353081803336003,\n",
              "  0.10226705171592121,\n",
              "  0.8667233401293775,\n",
              "  0.9242907233399424,\n",
              "  0.7710683780225736,\n",
              "  0.4444444444444444),\n",
              " (0.31970773816258,\n",
              "  0.8235294804064521,\n",
              "  0.46689047755727486,\n",
              "  0.052509284838338034,\n",
              "  0.9204902310485831,\n",
              "  0.32222222222222224),\n",
              " (0.6220218693937252,\n",
              "  0.8998202990484403,\n",
              "  0.032167933398470794,\n",
              "  0.8385920295524908,\n",
              "  0.6323680015979317,\n",
              "  0.6222222222222222),\n",
              " (0.4023654524924623,\n",
              "  0.034013424642535206,\n",
              "  0.47411117334392117,\n",
              "  0.11097178286980913,\n",
              "  0.9714852151697164,\n",
              "  0.4),\n",
              " (0.5303676100169166,\n",
              "  0.6167319989069888,\n",
              "  0.4663511168269796,\n",
              "  0.01788716762214193,\n",
              "  0.0581817525943118,\n",
              "  0.5333333333333333),\n",
              " (0.6066520475321637,\n",
              "  0.32227782714583286,\n",
              "  -0.2818744977921437,\n",
              "  0.6977943656775892,\n",
              "  0.4702464442581836,\n",
              "  0.6111111111111112),\n",
              " (0.3998673898578474,\n",
              "  0.04049601292380345,\n",
              "  -0.9784338084758772,\n",
              "  0.8381592349624143,\n",
              "  0.6097121579415832,\n",
              "  0.4),\n",
              " (0.25231562330535334,\n",
              "  0.8533571726250226,\n",
              "  -0.25907061488579686,\n",
              "  0.5519825774017754,\n",
              "  0.08470748189153088,\n",
              "  0.25555555555555554),\n",
              " (0.48076202230123527,\n",
              "  0.07140684051815116,\n",
              "  0.8479797707872425,\n",
              "  0.44313063462458313,\n",
              "  0.646552249299804,\n",
              "  0.4777777777777778),\n",
              " (0.4379746342300388,\n",
              "  0.4186454735278402,\n",
              "  0.8661611241471192,\n",
              "  0.6712268743352983,\n",
              "  0.4972254105363617,\n",
              "  0.43333333333333335),\n",
              " (0.4956243158831271,\n",
              "  0.48555750782242146,\n",
              "  -0.6472918458062633,\n",
              "  0.3013425567494945,\n",
              "  0.9451070262816085,\n",
              "  0.5),\n",
              " (0.6588614841723746,\n",
              "  0.46524423157346506,\n",
              "  0.18375187432376627,\n",
              "  0.22401167571316982,\n",
              "  0.6753113973689298,\n",
              "  0.6555555555555556),\n",
              " (0.5449554832486847,\n",
              "  0.424582663547556,\n",
              "  -0.8795755161966152,\n",
              "  0.018093646180638957,\n",
              "  0.6537089620433401,\n",
              "  0.5444444444444444),\n",
              " (0.44147785830069436,\n",
              "  0.6914737255890842,\n",
              "  0.493968851517824,\n",
              "  0.01798293107007822,\n",
              "  0.07291017689508905,\n",
              "  0.4444444444444444),\n",
              " (0.35811049593252364,\n",
              "  0.5576715264543157,\n",
              "  -0.70620889665358,\n",
              "  0.2300904074820874,\n",
              "  0.8081517818444256,\n",
              "  0.35555555555555557),\n",
              " (0.6767822537597726,\n",
              "  0.23219516741337953,\n",
              "  -0.04830629617156035,\n",
              "  0.6936857728385029,\n",
              "  0.8588553744015178,\n",
              "  0.6777777777777778),\n",
              " (0.28549428119766723,\n",
              "  0.44069327202867603,\n",
              "  -0.26580354811438767,\n",
              "  0.9280175832073425,\n",
              "  0.625943089735822,\n",
              "  0.28888888888888886),\n",
              " (0.3835732909516255,\n",
              "  0.38876504185330996,\n",
              "  0.8581565004922052,\n",
              "  0.6553867144080471,\n",
              "  0.313462584470233,\n",
              "  0.3888888888888889),\n",
              " (0.7452634967288213,\n",
              "  0.30070785636063313,\n",
              "  -0.8414463508287078,\n",
              "  0.1323504058542923,\n",
              "  0.2969380486301991,\n",
              "  0.7444444444444445),\n",
              " (0.48524520345412747,\n",
              "  0.8515510576382064,\n",
              "  0.2474698168271452,\n",
              "  0.1961322999320064,\n",
              "  0.1800572078006174,\n",
              "  0.4888888888888889),\n",
              " (0.3907629556950398,\n",
              "  0.657821152391652,\n",
              "  0.6776791962532513,\n",
              "  0.4910757452886715,\n",
              "  0.5781143245197786,\n",
              "  0.3888888888888889),\n",
              " (0.27040985620739705,\n",
              "  0.5824033236153836,\n",
              "  -0.460837959201422,\n",
              "  0.3027186885897805,\n",
              "  0.5835251896014971,\n",
              "  0.26666666666666666),\n",
              " (0.29808554646862295,\n",
              "  0.5364652056004031,\n",
              "  -0.6183795730000803,\n",
              "  0.32928924955553107,\n",
              "  0.23997636239256237,\n",
              "  0.3),\n",
              " (0.3953977611022041,\n",
              "  0.6376950356284738,\n",
              "  -0.17755569349037792,\n",
              "  0.9628851415123352,\n",
              "  0.3924383198466853,\n",
              "  0.4),\n",
              " (0.27942746999130064,\n",
              "  0.04372023911137912,\n",
              "  0.910937407083825,\n",
              "  0.18769353027695637,\n",
              "  0.22843654960568183,\n",
              "  0.2777777777777778),\n",
              " (0.39928515660931796,\n",
              "  0.415493024032072,\n",
              "  -0.40134575745806167,\n",
              "  0.8991291937249868,\n",
              "  0.7553859725496923,\n",
              "  0.4),\n",
              " (0.48758290507794316,\n",
              "  0.4245660323118834,\n",
              "  0.41605669985264804,\n",
              "  0.2536477067962366,\n",
              "  0.8556782893427877,\n",
              "  0.4888888888888889),\n",
              " (0.37831596097944414,\n",
              "  0.045349931001414934,\n",
              "  0.17537435151721148,\n",
              "  0.26757576933129634,\n",
              "  0.1776960769345588,\n",
              "  0.37777777777777777),\n",
              " (0.5437816625839809,\n",
              "  0.9182990116292493,\n",
              "  0.8143446252601052,\n",
              "  0.7005775579125479,\n",
              "  0.1672333432276727,\n",
              "  0.5444444444444444),\n",
              " (0.513737748253497,\n",
              "  0.7401655796903994,\n",
              "  0.9505443016042374,\n",
              "  0.9387033544822192,\n",
              "  0.956486043506356,\n",
              "  0.5111111111111111),\n",
              " (0.7454629401280749,\n",
              "  0.6378624012587579,\n",
              "  -0.6920718237277477,\n",
              "  0.8277096270010705,\n",
              "  0.4519873644974136,\n",
              "  0.7444444444444445),\n",
              " (0.5557779107198534,\n",
              "  0.17719977780996388,\n",
              "  0.7558307174814214,\n",
              "  0.7534441834586817,\n",
              "  0.22354494794825253,\n",
              "  0.5555555555555556),\n",
              " (0.4189917991225241,\n",
              "  0.27231481421279913,\n",
              "  0.7510230980707675,\n",
              "  0.48836454206072694,\n",
              "  0.9783451471494232,\n",
              "  0.4222222222222222),\n",
              " (0.6843259289958583,\n",
              "  0.18483975220048565,\n",
              "  0.8289771964601069,\n",
              "  0.1190986673847462,\n",
              "  0.17290536579791416,\n",
              "  0.6888888888888889),\n",
              " (0.47569396970426714,\n",
              "  0.39693312148322546,\n",
              "  -0.8530060870934264,\n",
              "  0.8749737812010278,\n",
              "  0.7981277351327265,\n",
              "  0.4777777777777778),\n",
              " (0.5785196478248185,\n",
              "  0.8553858715037483,\n",
              "  0.44468907088535836,\n",
              "  0.6157642012810328,\n",
              "  0.20966554782241886,\n",
              "  0.5777777777777777),\n",
              " (0.46094299702498687,\n",
              "  0.5889106516009956,\n",
              "  -0.1841135027072731,\n",
              "  0.05600455681087517,\n",
              "  0.284959328121272,\n",
              "  0.4666666666666667),\n",
              " (0.5021559910703317,\n",
              "  0.1161478821550257,\n",
              "  -0.08403737902593811,\n",
              "  0.2973105682088402,\n",
              "  0.8505380920473061,\n",
              "  0.5),\n",
              " (0.32524239478824307,\n",
              "  0.3353145768587096,\n",
              "  0.3844054166036859,\n",
              "  0.41115606211941136,\n",
              "  0.40158092127642153,\n",
              "  0.32222222222222224),\n",
              " (0.6315706948922805,\n",
              "  0.6440383662449012,\n",
              "  0.6287630652516878,\n",
              "  0.7589045951875555,\n",
              "  0.6103841347915319,\n",
              "  0.6333333333333333),\n",
              " (0.6896001922133168,\n",
              "  0.8873179021573394,\n",
              "  0.5916621575082335,\n",
              "  0.9283958487513472,\n",
              "  0.9867970814914446,\n",
              "  0.6888888888888889),\n",
              " (0.48042211628401815,\n",
              "  0.4961412311703093,\n",
              "  0.5261106919881993,\n",
              "  0.46059289974935247,\n",
              "  0.44931600197287014,\n",
              "  0.4777777777777778),\n",
              " (0.511154694543336,\n",
              "  0.3630416624493007,\n",
              "  0.03411836223092557,\n",
              "  0.3813216672838166,\n",
              "  0.8453620402821228,\n",
              "  0.5111111111111111),\n",
              " (0.5942325531865849,\n",
              "  0.697522977850574,\n",
              "  0.559866315562882,\n",
              "  0.44345490719893715,\n",
              "  0.040607105495802265,\n",
              "  0.6),\n",
              " (0.2943602449793617,\n",
              "  0.10021329916953192,\n",
              "  -0.05112700041729035,\n",
              "  0.2917553398359047,\n",
              "  0.5480451718987762,\n",
              "  0.28888888888888886),\n",
              " (0.5798837288741427,\n",
              "  0.8864509063645087,\n",
              "  -0.14676038594669194,\n",
              "  0.19356029867514407,\n",
              "  0.3848128423698248,\n",
              "  0.5777777777777777),\n",
              " (0.620366216812185,\n",
              "  0.7999966498923761,\n",
              "  0.49592112271320765,\n",
              "  0.2602451413105225,\n",
              "  0.7924985841645766,\n",
              "  0.6222222222222222),\n",
              " (0.6213757861524538,\n",
              "  0.0025194951437810253,\n",
              "  -0.5256084285749534,\n",
              "  0.6597147145139383,\n",
              "  0.4473158133939297,\n",
              "  0.6222222222222222),\n",
              " (0.4124369136453806,\n",
              "  0.9573579450894392,\n",
              "  0.01953971434037527,\n",
              "  0.7810862155933884,\n",
              "  0.07665842555557023,\n",
              "  0.4111111111111111),\n",
              " (0.54062369444437,\n",
              "  0.8525152371170264,\n",
              "  -0.253690115134944,\n",
              "  0.5627581140152426,\n",
              "  0.9136545908129242,\n",
              "  0.5444444444444444),\n",
              " (0.291333346072942,\n",
              "  0.7425318579009841,\n",
              "  -0.6561809626370216,\n",
              "  0.9025110452513625,\n",
              "  0.4023347714190255,\n",
              "  0.28888888888888886),\n",
              " (0.6296320764825846,\n",
              "  0.7533534730011544,\n",
              "  -0.1647837772891929,\n",
              "  0.07997775220353028,\n",
              "  0.68195743723826,\n",
              "  0.6333333333333333),\n",
              " (0.7061891250904295,\n",
              "  0.19999175710462147,\n",
              "  -0.8575898741463703,\n",
              "  0.2635272101357984,\n",
              "  0.823812915821831,\n",
              "  0.7111111111111111),\n",
              " (0.5240336701222429,\n",
              "  0.8513113993293184,\n",
              "  -0.3145073025132099,\n",
              "  0.7092095512077574,\n",
              "  0.8146615151801665,\n",
              "  0.5222222222222223),\n",
              " (0.6678107047819898,\n",
              "  0.5998084333511269,\n",
              "  -0.21658295771853098,\n",
              "  0.7234326263246352,\n",
              "  0.4859644897655505,\n",
              "  0.6666666666666666),\n",
              " (0.5290587388482417,\n",
              "  0.8809926212160417,\n",
              "  -0.8239283311546401,\n",
              "  0.9587939195897549,\n",
              "  0.16946191638626207,\n",
              "  0.5333333333333333),\n",
              " (0.503422954436445,\n",
              "  0.38284457743167755,\n",
              "  -0.29274927695498043,\n",
              "  0.14331201198194704,\n",
              "  0.9229675624245495,\n",
              "  0.5),\n",
              " (0.6265760876802684,\n",
              "  0.7534504390142449,\n",
              "  0.6901320526691315,\n",
              "  0.22391146019390895,\n",
              "  0.3709832105934956,\n",
              "  0.6333333333333333),\n",
              " (0.6741869631211632,\n",
              "  0.48240147109243825,\n",
              "  -0.9435736663646654,\n",
              "  0.8744811406839104,\n",
              "  0.00434229518559992,\n",
              "  0.6777777777777778),\n",
              " (0.5710436814061656,\n",
              "  0.37494100972826194,\n",
              "  -0.6412218982970685,\n",
              "  0.7166265191402157,\n",
              "  0.12560589284011625,\n",
              "  0.5666666666666667),\n",
              " (0.34635633326444765,\n",
              "  0.9235011907257897,\n",
              "  -0.0655853862516782,\n",
              "  0.5329968641622213,\n",
              "  0.5198478690153165,\n",
              "  0.34444444444444444),\n",
              " (0.5338346918302785,\n",
              "  0.03333251729183928,\n",
              "  -0.1561801644288181,\n",
              "  0.9073109907846433,\n",
              "  0.1550101998328275,\n",
              "  0.5333333333333333),\n",
              " (0.5941348986540889,\n",
              "  0.04785971694065072,\n",
              "  -0.13349762329488435,\n",
              "  0.24488702435726636,\n",
              "  0.459450422285704,\n",
              "  0.5888888888888889),\n",
              " (0.6804780569412375,\n",
              "  0.7921052215151723,\n",
              "  0.6292808177962126,\n",
              "  0.4762415157111791,\n",
              "  0.21295842986130098,\n",
              "  0.6777777777777778),\n",
              " (0.622228543372918,\n",
              "  0.2092468967637804,\n",
              "  0.43983041475679485,\n",
              "  0.30319420329489366,\n",
              "  0.027519046217896914,\n",
              "  0.6222222222222222),\n",
              " (0.55700398305759,\n",
              "  0.8751164935060975,\n",
              "  -0.4367345247697543,\n",
              "  0.5138471841006856,\n",
              "  0.19840046651459198,\n",
              "  0.5555555555555556),\n",
              " (0.2746177343652395,\n",
              "  0.7134373149512885,\n",
              "  0.8530851284027303,\n",
              "  0.5145109616916212,\n",
              "  0.4820382769619904,\n",
              "  0.2777777777777778),\n",
              " (0.740073167425333,\n",
              "  0.18355286112688862,\n",
              "  -0.4188532056336083,\n",
              "  0.8377751181584362,\n",
              "  0.46222560198684604,\n",
              "  0.7444444444444445),\n",
              " (0.5101395669526737,\n",
              "  0.7551226376448708,\n",
              "  0.7896972483083431,\n",
              "  0.6373841366817201,\n",
              "  0.9674381556238353,\n",
              "  0.5111111111111111),\n",
              " (0.7246401835549218,\n",
              "  0.9572776514135573,\n",
              "  -0.3058275416954128,\n",
              "  0.9385106931855323,\n",
              "  0.18167044630013895,\n",
              "  0.7333333333333333),\n",
              " (0.5163438688456805,\n",
              "  0.3524384495141595,\n",
              "  -0.630820663260014,\n",
              "  0.9371036867717951,\n",
              "  0.5822830585834208,\n",
              "  0.5111111111111111),\n",
              " (0.42315300838235825,\n",
              "  0.9687612198142883,\n",
              "  0.24042065547602398,\n",
              "  0.6910695952331899,\n",
              "  0.35711259540920237,\n",
              "  0.4222222222222222),\n",
              " (0.46594807602420524,\n",
              "  0.4407612453539702,\n",
              "  -0.5888706260759164,\n",
              "  0.770811461434502,\n",
              "  0.48493669911137427,\n",
              "  0.4666666666666667),\n",
              " (0.3289100829250866,\n",
              "  0.8295947205275347,\n",
              "  0.752794582781668,\n",
              "  0.13947413961771354,\n",
              "  0.7907293417792554,\n",
              "  0.3333333333333333),\n",
              " (0.3855304223072709,\n",
              "  0.7437151093887251,\n",
              "  0.7342100361533994,\n",
              "  0.15307313217989388,\n",
              "  0.7441894940843816,\n",
              "  0.3888888888888889),\n",
              " (0.38939982055654965,\n",
              "  0.48584834736644344,\n",
              "  0.18665129862307062,\n",
              "  0.05164226513129009,\n",
              "  0.1393096925962488,\n",
              "  0.3888888888888889),\n",
              " (0.36785800494846843,\n",
              "  0.7117073720420839,\n",
              "  -0.38540894736453346,\n",
              "  0.9309389627720419,\n",
              "  0.9775936260976935,\n",
              "  0.36666666666666664),\n",
              " (0.4127099026189226,\n",
              "  0.3196674541644735,\n",
              "  0.45841435596743096,\n",
              "  0.6987466515835493,\n",
              "  0.7110545850076821,\n",
              "  0.4111111111111111),\n",
              " (0.2795472130710013,\n",
              "  0.9255017933533813,\n",
              "  -0.5737945459761384,\n",
              "  0.8299414783263206,\n",
              "  0.6879244827271751,\n",
              "  0.2777777777777778),\n",
              " (0.27188106336758333,\n",
              "  0.4629658832493009,\n",
              "  0.7103675259440134,\n",
              "  0.77582579347544,\n",
              "  0.4739669610662727,\n",
              "  0.26666666666666666),\n",
              " (0.25173813725448113,\n",
              "  0.16916469194149997,\n",
              "  -0.18774921560769187,\n",
              "  0.7926401651908013,\n",
              "  0.10044309014855302,\n",
              "  0.25555555555555554),\n",
              " (0.44708331574354865,\n",
              "  0.05937515668798099,\n",
              "  0.8056624702130435,\n",
              "  0.720694850227444,\n",
              "  0.14409696230051205,\n",
              "  0.4444444444444444),\n",
              " (0.7472979998542577,\n",
              "  0.8711990148520368,\n",
              "  -0.9535071807141211,\n",
              "  0.44841150656854223,\n",
              "  0.26176746428646425,\n",
              "  0.7444444444444445),\n",
              " (0.6208789671439431,\n",
              "  0.1365981851537339,\n",
              "  -0.4939753688230155,\n",
              "  0.990804557552624,\n",
              "  0.4286656294932911,\n",
              "  0.6222222222222222),\n",
              " (0.35082446157889746,\n",
              "  0.9070228833923242,\n",
              "  0.0048393109412625535,\n",
              "  0.47106760328882336,\n",
              "  0.43012751960236595,\n",
              "  0.35555555555555557),\n",
              " (0.34134434494276406,\n",
              "  0.7926141615612368,\n",
              "  0.08818022896702615,\n",
              "  0.5071336899443141,\n",
              "  0.27303245808180954,\n",
              "  0.34444444444444444),\n",
              " (0.3412922113962176,\n",
              "  0.36731741554001474,\n",
              "  0.5264531961542822,\n",
              "  0.18279634380935406,\n",
              "  0.9538523847487104,\n",
              "  0.34444444444444444),\n",
              " (0.3445719111930097,\n",
              "  0.9806792817894046,\n",
              "  -0.044613632115137136,\n",
              "  0.5628450807488781,\n",
              "  0.5473315435399793,\n",
              "  0.34444444444444444),\n",
              " (0.5695997703964214,\n",
              "  0.05531139521600981,\n",
              "  -0.13149331440829037,\n",
              "  0.14060536699979984,\n",
              "  0.6653509492247204,\n",
              "  0.5666666666666667),\n",
              " (0.7288298258770961,\n",
              "  0.7420262808594424,\n",
              "  0.36005428387947447,\n",
              "  0.8981162238407177,\n",
              "  0.9347194662461444,\n",
              "  0.7333333333333333),\n",
              " (0.30823106272471096,\n",
              "  0.1718428445439022,\n",
              "  -0.6431716099357878,\n",
              "  0.44579603235743104,\n",
              "  0.0577199490122734,\n",
              "  0.3111111111111111),\n",
              " (0.25082189526393606,\n",
              "  0.13069062966429934,\n",
              "  0.7665738178802926,\n",
              "  0.25749086785922726,\n",
              "  0.299581081237671,\n",
              "  0.25555555555555554),\n",
              " (0.38731347562893764,\n",
              "  0.6945389782081723,\n",
              "  0.19708792859993807,\n",
              "  0.2988772339370964,\n",
              "  0.15351813964080407,\n",
              "  0.3888888888888889),\n",
              " (0.3214880658389728,\n",
              "  0.3877151450739724,\n",
              "  0.3457256842482703,\n",
              "  0.7470950521322803,\n",
              "  0.6018999584386089,\n",
              "  0.32222222222222224),\n",
              " (0.6287457067655122,\n",
              "  0.2626452295206616,\n",
              "  -0.8244927745179975,\n",
              "  0.35634384476580794,\n",
              "  0.4984048942544018,\n",
              "  0.6333333333333333),\n",
              " (0.6460291042906882,\n",
              "  0.8895187387714887,\n",
              "  -0.46448262021801234,\n",
              "  0.6478705618632684,\n",
              "  0.7475412640471176,\n",
              "  0.6444444444444445),\n",
              " (0.5506602460364285,\n",
              "  0.45836810177633236,\n",
              "  -0.6004318939883788,\n",
              "  0.0845078759244167,\n",
              "  0.050252007232040596,\n",
              "  0.5555555555555556),\n",
              " (0.28437982471114104,\n",
              "  0.05494275124988368,\n",
              "  0.49767677820736544,\n",
              "  0.3786918829978827,\n",
              "  0.6657327391577661,\n",
              "  0.28888888888888886),\n",
              " (0.2703318492503432,\n",
              "  0.9991234038170989,\n",
              "  -0.480569650042904,\n",
              "  0.835938669717574,\n",
              "  0.9173491057358478,\n",
              "  0.2777777777777778),\n",
              " (0.3673637298015412,\n",
              "  0.26093765950617254,\n",
              "  -0.4087263128116092,\n",
              "  0.20990323409531159,\n",
              "  0.16866121524191702,\n",
              "  0.36666666666666664),\n",
              " (0.5637651178741541,\n",
              "  0.7668657621279618,\n",
              "  0.1304677503677567,\n",
              "  0.4603902825382047,\n",
              "  0.7040468242102601,\n",
              "  0.5666666666666667),\n",
              " (0.6267731340453064,\n",
              "  0.6441797300417056,\n",
              "  0.47183885786319024,\n",
              "  0.1957050602809911,\n",
              "  0.6246456946021838,\n",
              "  0.6222222222222222),\n",
              " (0.3873818122180895,\n",
              "  0.9178045571576767,\n",
              "  -0.7585015015533507,\n",
              "  0.050205442176426016,\n",
              "  0.2019610743702892,\n",
              "  0.3888888888888889),\n",
              " (0.5766294809323032,\n",
              "  0.058764348445471626,\n",
              "  -0.6904017272663729,\n",
              "  0.5082310686881355,\n",
              "  0.7245469373661205,\n",
              "  0.5777777777777777),\n",
              " (0.6832804644384797,\n",
              "  0.7740082684059151,\n",
              "  0.1483176144387528,\n",
              "  0.8484348789506031,\n",
              "  0.1546334637678879,\n",
              "  0.6888888888888889),\n",
              " (0.443581124662196,\n",
              "  0.6105391148536339,\n",
              "  0.40896731054426283,\n",
              "  0.4158970273792981,\n",
              "  0.22048720600772143,\n",
              "  0.4444444444444444),\n",
              " (0.42365464671408515,\n",
              "  0.02046265914560319,\n",
              "  0.4905863291922756,\n",
              "  0.5416007714199644,\n",
              "  0.13543494249715027,\n",
              "  0.4222222222222222),\n",
              " (0.5420485850508351,\n",
              "  0.5560548296355576,\n",
              "  -0.3766423771337646,\n",
              "  0.5960800252237164,\n",
              "  0.9075850928898198,\n",
              "  0.5444444444444444),\n",
              " (0.28410978145135196,\n",
              "  0.6797634336485165,\n",
              "  0.0709881671215804,\n",
              "  0.09816875467924646,\n",
              "  0.9293266389858783,\n",
              "  0.28888888888888886),\n",
              " (0.3665861133959273,\n",
              "  0.9454888008923761,\n",
              "  0.47376079231634805,\n",
              "  0.9921950360645091,\n",
              "  0.4065264666851518,\n",
              "  0.36666666666666664),\n",
              " (0.3786099186152771,\n",
              "  0.8658373750160866,\n",
              "  0.5719841528202494,\n",
              "  0.26704460321890444,\n",
              "  0.2036276129927409,\n",
              "  0.37777777777777777),\n",
              " (0.6813528334848843,\n",
              "  0.7229908642430178,\n",
              "  0.8614644985417392,\n",
              "  0.006485427638334329,\n",
              "  0.14687343926639806,\n",
              "  0.6777777777777778),\n",
              " (0.4203307551691833,\n",
              "  0.17841897665451212,\n",
              "  0.8650833640998385,\n",
              "  0.6643018654092934,\n",
              "  0.29549167745210725,\n",
              "  0.4222222222222222),\n",
              " (0.3060730280326097,\n",
              "  0.6415769339033504,\n",
              "  -0.5285481942305292,\n",
              "  0.48224544974330036,\n",
              "  0.12454458130880308,\n",
              "  0.3111111111111111),\n",
              " (0.5212579123774145,\n",
              "  0.019312955282614563,\n",
              "  -0.5034853833545601,\n",
              "  0.42038354368261466,\n",
              "  0.3382311858711431,\n",
              "  0.5222222222222223),\n",
              " (0.7033605258142728,\n",
              "  0.80349664816843,\n",
              "  -0.13792020640585534,\n",
              "  0.4448125307346844,\n",
              "  0.9367801817028242,\n",
              "  0.7),\n",
              " (0.60195870474721,\n",
              "  0.49321619034033315,\n",
              "  -0.9544585256523277,\n",
              "  0.3368260997462915,\n",
              "  0.3705344964351007,\n",
              "  0.6),\n",
              " (0.6774262231393894,\n",
              "  0.7123997854325212,\n",
              "  -0.7642804937268046,\n",
              "  0.892120964750067,\n",
              "  0.22436822520686361,\n",
              "  0.6777777777777778),\n",
              " (0.43914078071782203,\n",
              "  0.279481400897005,\n",
              "  -0.0746821896102201,\n",
              "  0.5319368601339743,\n",
              "  0.05008459230113271,\n",
              "  0.4444444444444444),\n",
              " (0.5026123911748144,\n",
              "  0.9977883244637757,\n",
              "  0.037907977107341395,\n",
              "  0.7148785975036844,\n",
              "  0.23683102099317344,\n",
              "  0.5111111111111111),\n",
              " (0.3196962300031768,\n",
              "  0.09992916534213991,\n",
              "  0.805070621069568,\n",
              "  0.12307315206785496,\n",
              "  0.7000957443572882,\n",
              "  0.32222222222222224),\n",
              " (0.5107362209228866,\n",
              "  0.416081671716487,\n",
              "  -0.2655602408976794,\n",
              "  0.8242329887189618,\n",
              "  0.26852519286856247,\n",
              "  0.5111111111111111),\n",
              " (0.47008084493668223,\n",
              "  0.12991075336443458,\n",
              "  0.7447350753631845,\n",
              "  0.5510697145561021,\n",
              "  0.6612228050351094,\n",
              "  0.4666666666666667),\n",
              " (0.5916481287513435,\n",
              "  0.1019804698164899,\n",
              "  -0.3758244136079032,\n",
              "  0.5856522295407576,\n",
              "  0.9567706171266451,\n",
              "  0.5888888888888889),\n",
              " (0.5867317852446791,\n",
              "  0.9959515805305825,\n",
              "  0.1856272073222076,\n",
              "  0.5019405660056788,\n",
              "  0.414477378140338,\n",
              "  0.5888888888888889),\n",
              " (0.5498351551706115,\n",
              "  0.6077339130419728,\n",
              "  -0.5633740907945626,\n",
              "  0.28136026585349827,\n",
              "  0.27093079229575945,\n",
              "  0.5555555555555556),\n",
              " (0.4161043754784129,\n",
              "  0.14266356424518323,\n",
              "  0.7064257312188502,\n",
              "  0.8244456355140592,\n",
              "  0.7459950319811509,\n",
              "  0.4111111111111111),\n",
              " (0.30486024190501404,\n",
              "  0.07390346836232942,\n",
              "  0.5972745026853907,\n",
              "  0.4164375652213659,\n",
              "  0.23633712980135235,\n",
              "  0.3),\n",
              " (0.7369664351169443,\n",
              "  0.6354162933518936,\n",
              "  0.3611917378002367,\n",
              "  0.9610949514796555,\n",
              "  0.2850896093876375,\n",
              "  0.7333333333333333),\n",
              " (0.48467421179004355,\n",
              "  0.6850831483424136,\n",
              "  0.5604124152017302,\n",
              "  0.7891555662164365,\n",
              "  0.19499450133216145,\n",
              "  0.4888888888888889),\n",
              " (0.7088499839974359,\n",
              "  0.5732084678613343,\n",
              "  0.7442564482546654,\n",
              "  0.9088289351660956,\n",
              "  0.7058710854686315,\n",
              "  0.7111111111111111),\n",
              " (0.37923616283360845,\n",
              "  0.09721951963400377,\n",
              "  -0.43247892434755997,\n",
              "  0.9907718316744976,\n",
              "  0.6932690997377546,\n",
              "  0.37777777777777777),\n",
              " (0.7417184101922097,\n",
              "  0.9528041677136732,\n",
              "  -0.7256746208235381,\n",
              "  0.8931412206566465,\n",
              "  0.13540488130014872,\n",
              "  0.7444444444444445),\n",
              " (0.27119860818881464,\n",
              "  0.0832503467625898,\n",
              "  -0.2676946338018027,\n",
              "  0.29621235523869416,\n",
              "  0.7529521825339589,\n",
              "  0.26666666666666666),\n",
              " (0.6977326635691384,\n",
              "  0.8020407781080268,\n",
              "  0.9001478867140644,\n",
              "  0.7021716177695119,\n",
              "  0.2358666191038784,\n",
              "  0.7),\n",
              " (0.3660021842234632,\n",
              "  0.7231130410119873,\n",
              "  -0.11735450707432804,\n",
              "  0.845455656172535,\n",
              "  0.7301901743891496,\n",
              "  0.36666666666666664),\n",
              " (0.42962134274126484,\n",
              "  0.9464897950748359,\n",
              "  0.3617487188047708,\n",
              "  0.1302820159289638,\n",
              "  0.5857297314599405,\n",
              "  0.43333333333333335),\n",
              " (0.5602318436251883,\n",
              "  0.7705641455305887,\n",
              "  -0.5334144969569614,\n",
              "  0.2815108870479882,\n",
              "  0.8166757145308552,\n",
              "  0.5666666666666667),\n",
              " (0.5889462695181097,\n",
              "  0.1194692794769634,\n",
              "  0.08352278965711335,\n",
              "  0.8470590534302895,\n",
              "  0.15603419604469093,\n",
              "  0.5888888888888889),\n",
              " (0.5236816284838423,\n",
              "  0.15914046567617213,\n",
              "  0.29631114812525716,\n",
              "  0.6746610386360281,\n",
              "  0.6810760784201891,\n",
              "  0.5222222222222223),\n",
              " (0.7446401381390794,\n",
              "  0.04593930060126672,\n",
              "  -0.6099957685996102,\n",
              "  0.005074000375319798,\n",
              "  0.04989649599995649,\n",
              "  0.7444444444444445),\n",
              " (0.34450417853551807,\n",
              "  0.9178472609055399,\n",
              "  0.1700284737975597,\n",
              "  0.33036308761077926,\n",
              "  0.48178790481263667,\n",
              "  0.34444444444444444),\n",
              " (0.35393096328149404,\n",
              "  0.6725045544030288,\n",
              "  -0.16557225803163078,\n",
              "  0.23065133036429622,\n",
              "  0.49889358726378263,\n",
              "  0.35555555555555557),\n",
              " (0.5232612810920682,\n",
              "  0.9723568122130066,\n",
              "  0.13052975883265816,\n",
              "  0.8918371831896568,\n",
              "  0.9921968284648107,\n",
              "  0.5222222222222223),\n",
              " (0.5732465011379436,\n",
              "  0.08106105024067123,\n",
              "  0.33512684853137564,\n",
              "  0.896446769095172,\n",
              "  0.12569163429689523,\n",
              "  0.5777777777777777),\n",
              " (0.3458822984446592,\n",
              "  0.9985700323138418,\n",
              "  0.048040902100362715,\n",
              "  0.47581845946121304,\n",
              "  0.20852249064002282,\n",
              "  0.35555555555555557),\n",
              " (0.7294589288456063,\n",
              "  0.8553702037766975,\n",
              "  -0.3471724927777746,\n",
              "  0.5688297441825011,\n",
              "  0.959614258608114,\n",
              "  0.7333333333333333),\n",
              " (0.6093930769687275,\n",
              "  0.13999557331078893,\n",
              "  -0.4820886630135206,\n",
              "  0.9157697023989411,\n",
              "  0.009481569683455149,\n",
              "  0.6111111111111112),\n",
              " (0.7341361364151207,\n",
              "  0.32216450230291116,\n",
              "  0.9799793437037856,\n",
              "  0.049818962363585226,\n",
              "  0.6936738681895491,\n",
              "  0.7333333333333333),\n",
              " (0.47288445148214503,\n",
              "  0.6988086047465929,\n",
              "  0.5678314638682664,\n",
              "  0.7181476714284789,\n",
              "  0.8695185558681723,\n",
              "  0.4777777777777778),\n",
              " (0.31926485793359205,\n",
              "  0.9882198871891017,\n",
              "  -0.36102757247402195,\n",
              "  0.32413425788051986,\n",
              "  0.692603025068468,\n",
              "  0.32222222222222224),\n",
              " (0.41720557542954967,\n",
              "  0.3981472439456013,\n",
              "  -0.03405245364591458,\n",
              "  0.6240748534277187,\n",
              "  0.9827573836477808,\n",
              "  0.4222222222222222),\n",
              " (0.535576496862077,\n",
              "  0.49448186093248836,\n",
              "  -0.27504891143730603,\n",
              "  0.1920975661108301,\n",
              "  0.5406014659112128,\n",
              "  0.5333333333333333),\n",
              " (0.44059715494380297,\n",
              "  0.12403002348251757,\n",
              "  0.43988439841138316,\n",
              "  0.33004123358413046,\n",
              "  0.23496783672662214,\n",
              "  0.4444444444444444),\n",
              " (0.7353227262300062,\n",
              "  0.09467855534660963,\n",
              "  -0.05720510016788438,\n",
              "  0.8370307290895586,\n",
              "  0.5589985090557248,\n",
              "  0.7333333333333333),\n",
              " (0.26097029407707933,\n",
              "  0.5220327485647931,\n",
              "  0.19111608832000648,\n",
              "  0.012394308975891732,\n",
              "  0.03667105682612881,\n",
              "  0.26666666666666666),\n",
              " (0.2633513266056616,\n",
              "  0.028361471103511615,\n",
              "  0.017398216438650138,\n",
              "  0.1448189427871867,\n",
              "  0.09812275711690965,\n",
              "  0.26666666666666666),\n",
              " (0.7400903143685406,\n",
              "  0.20632177076361824,\n",
              "  0.3887747852098773,\n",
              "  0.06093283925456845,\n",
              "  0.9401149171733866,\n",
              "  0.7444444444444445),\n",
              " (0.5044759961388151,\n",
              "  0.48311849935422035,\n",
              "  -0.030971565879763574,\n",
              "  0.8806773761731564,\n",
              "  0.2686768090572128,\n",
              "  0.5),\n",
              " (0.5453867571792792,\n",
              "  0.9015549852725182,\n",
              "  0.28334509424594856,\n",
              "  0.7092077685479273,\n",
              "  0.9015186947639171,\n",
              "  0.5444444444444444),\n",
              " (0.6696467922927145,\n",
              "  0.11304910983402605,\n",
              "  0.7069130104731656,\n",
              "  0.7951424946710836,\n",
              "  0.6860240444267872,\n",
              "  0.6666666666666666),\n",
              " (0.32504354233487726,\n",
              "  0.38765005478899184,\n",
              "  -0.7713830220681643,\n",
              "  0.8837649266841818,\n",
              "  0.5078534194209401,\n",
              "  0.32222222222222224),\n",
              " (0.6336886628246229,\n",
              "  0.372748048325632,\n",
              "  0.5445437215172078,\n",
              "  0.14471390699145878,\n",
              "  0.5206613862000518,\n",
              "  0.6333333333333333),\n",
              " (0.5417069708595003,\n",
              "  0.5403842514478336,\n",
              "  -0.6572923125446231,\n",
              "  0.9585122662903716,\n",
              "  0.31360246814782244,\n",
              "  0.5444444444444444),\n",
              " (0.40802669737451813,\n",
              "  0.4318120731079569,\n",
              "  0.7005808382375527,\n",
              "  0.02172329372586752,\n",
              "  0.3343406806092004,\n",
              "  0.4111111111111111),\n",
              " (0.5557615770919276,\n",
              "  0.04366973742040425,\n",
              "  -0.36597121037145364,\n",
              "  0.26096828318659393,\n",
              "  0.38138831128168704,\n",
              "  0.5555555555555556)]"
            ]
          },
          "metadata": {},
          "execution_count": 22
        }
      ]
    },
    {
      "cell_type": "code",
      "source": [
        "# all_specs"
      ],
      "metadata": {
        "id": "O2Qv7CWXUzuI"
      },
      "execution_count": 23,
      "outputs": []
    },
    {
      "cell_type": "code",
      "source": [
        "x_s = np.asanyarray(x_s)\n",
        "\n",
        "x_s.shape"
      ],
      "metadata": {
        "colab": {
          "base_uri": "https://localhost:8080/"
        },
        "id": "YB2UNWVZfLAr",
        "outputId": "283081c9-7bf0-4c38-e494-dc2205cf4af3"
      },
      "execution_count": 24,
      "outputs": [
        {
          "output_type": "execute_result",
          "data": {
            "text/plain": [
              "(200, 6)"
            ]
          },
          "metadata": {},
          "execution_count": 24
        }
      ]
    },
    {
      "cell_type": "code",
      "source": [
        "from sklearn.preprocessing import StandardScaler"
      ],
      "metadata": {
        "id": "J9mz5l0CENEv"
      },
      "execution_count": 25,
      "outputs": []
    },
    {
      "cell_type": "code",
      "source": [
        "# x_scaler = StandardScaler()\n",
        "# scaled_x_s = x_scaler.fit_transform(x_s)"
      ],
      "metadata": {
        "id": "QGO1G71lEN66"
      },
      "execution_count": 26,
      "outputs": []
    },
    {
      "cell_type": "code",
      "source": [
        "scaled_x_s = x_s"
      ],
      "metadata": {
        "id": "ZIY2BcJENA5t"
      },
      "execution_count": 27,
      "outputs": []
    },
    {
      "cell_type": "code",
      "source": [
        "from sklearn.model_selection import train_test_split"
      ],
      "metadata": {
        "id": "1awoW1c4fL8d"
      },
      "execution_count": 28,
      "outputs": []
    },
    {
      "cell_type": "code",
      "source": [
        "# x_train_s, x_test_s, y_train_s, y_test_s = train_test_split(x_s, all_specs, test_size=0.2, random_state=42)\n",
        "\n",
        "x_train_s, x_test_s, y_train_s, y_test_s = train_test_split(scaled_x_s, all_specs, test_size=0.2, random_state=42)\n",
        "x_test_s, x_val_s, y_test_s, y_val_s = train_test_split(x_test_s, y_test_s, test_size=0.5, random_state=26)\n",
        "\n",
        "x_train_s.shape"
      ],
      "metadata": {
        "colab": {
          "base_uri": "https://localhost:8080/"
        },
        "id": "xRHDJExafMnZ",
        "outputId": "b33185c8-11e7-4d46-e252-948541bff7ff"
      },
      "execution_count": 29,
      "outputs": [
        {
          "output_type": "execute_result",
          "data": {
            "text/plain": [
              "(160, 6)"
            ]
          },
          "metadata": {},
          "execution_count": 29
        }
      ]
    },
    {
      "cell_type": "code",
      "source": [
        "x_train_s = np.expand_dims(x_train_s, -1)\n",
        "x_test_s = np.expand_dims(x_test_s, -1)\n",
        "x_val_s = np.expand_dims(x_val_s, -1)\n",
        "\n",
        "y_train_s = np.expand_dims(y_train_s, -1)\n",
        "y_test_s = np.expand_dims(y_test_s, -1)\n",
        "y_val_s = np.expand_dims(y_val_s, -1)\n",
        "\n",
        "x_train_s.shape"
      ],
      "metadata": {
        "colab": {
          "base_uri": "https://localhost:8080/"
        },
        "id": "khtgnkPSfNKW",
        "outputId": "6378cb57-20cf-426b-9894-e518bb1a80aa"
      },
      "execution_count": 30,
      "outputs": [
        {
          "output_type": "execute_result",
          "data": {
            "text/plain": [
              "(160, 6, 1)"
            ]
          },
          "metadata": {},
          "execution_count": 30
        }
      ]
    },
    {
      "cell_type": "code",
      "source": [
        "def convert_to_tensor_utility(x):\n",
        "    return tf.convert_to_tensor(x, dtype=tf.float32)\n",
        "\n",
        " \n",
        "x_train_s, y_train_s, x_test_s, y_test_s, x_val_s, y_val_s = tuple(map(convert_to_tensor_utility, [x_train_s, y_train_s, x_test_s, y_test_s, x_val_s, y_val_s]))"
      ],
      "metadata": {
        "id": "A_SYaXR0fNw6"
      },
      "execution_count": 31,
      "outputs": []
    },
    {
      "cell_type": "code",
      "source": [
        "x_train_s.shape, y_train_s.shape"
      ],
      "metadata": {
        "colab": {
          "base_uri": "https://localhost:8080/"
        },
        "id": "83U5j4OvfOhR",
        "outputId": "7cad6bcb-91ed-4920-cced-5e8db9feaa9a"
      },
      "execution_count": 32,
      "outputs": [
        {
          "output_type": "execute_result",
          "data": {
            "text/plain": [
              "(TensorShape([160, 6, 1]), TensorShape([160, 90, 48, 1]))"
            ]
          },
          "metadata": {},
          "execution_count": 32
        }
      ]
    },
    {
      "cell_type": "code",
      "source": [
        "y_train_s.shape, y_test_s.shape, y_val_s.shape"
      ],
      "metadata": {
        "colab": {
          "base_uri": "https://localhost:8080/"
        },
        "id": "6ISRpQCGfPUn",
        "outputId": "a58a5839-a7f4-41ce-a766-847c4d2d6093"
      },
      "execution_count": 33,
      "outputs": [
        {
          "output_type": "execute_result",
          "data": {
            "text/plain": [
              "(TensorShape([160, 90, 48, 1]),\n",
              " TensorShape([20, 90, 48, 1]),\n",
              " TensorShape([20, 90, 48, 1]))"
            ]
          },
          "metadata": {},
          "execution_count": 33
        }
      ]
    },
    {
      "cell_type": "code",
      "source": [
        "# y_train_s"
      ],
      "metadata": {
        "id": "Iz2Xmky8GKQZ"
      },
      "execution_count": 34,
      "outputs": []
    },
    {
      "cell_type": "code",
      "source": [
        "batch_size = 8"
      ],
      "metadata": {
        "id": "Rrg7Fa14fn9R"
      },
      "execution_count": 35,
      "outputs": []
    },
    {
      "cell_type": "code",
      "source": [
        "train_dataset = tf.data.Dataset.from_tensor_slices((x_train_s, y_train_s)).batch(batch_size)\n",
        "test_dataset = tf.data.Dataset.from_tensor_slices((x_test_s, y_test_s)).batch(batch_size)\n",
        "val_dataset = tf.data.Dataset.from_tensor_slices((x_val_s, y_val_s)).batch(batch_size)"
      ],
      "metadata": {
        "id": "dGo6GUkJfoqz"
      },
      "execution_count": 36,
      "outputs": []
    },
    {
      "cell_type": "code",
      "source": [
        "params = dict()\n",
        "\n",
        "params['z_dim'] = 24\n",
        "params['n_modes'] = 1\n",
        "params['n_channels'] = 1\n",
        "params['ramp_start'] = 10\n",
        "params['ramp_end'] = 20\n",
        "params['y_normscale'] = 1.0\n",
        "\n",
        "params['rand_pars'] = ['frequency', 'fdot', 'fdotdot', 'Omega', 'a_p', 'bin']\n",
        "params['inf_pars'] = ['frequency', 'fdot', 'fdotdot', 'Omega', 'a_p', 'bin']\n"
      ],
      "metadata": {
        "id": "p1znqNWCfpPr"
      },
      "execution_count": 37,
      "outputs": []
    },
    {
      "cell_type": "code",
      "source": [
        "def ramp_func(epoch,start,ramp_length, n_cycles):\n",
        "    i = (epoch - start) / (2.0 * ramp_length)\n",
        "    # print(epoch,i)\n",
        "    \n",
        "    if i < 0:\n",
        "        return 0.0\n",
        "    if i >= n_cycles:\n",
        "        return 1.0\n",
        "    \n",
        "    return min(1.0, 2.0 * np.remainder(i, 1.0))\n",
        "\n",
        "optimizer = tf.keras.optimizers.Adam(1e-4)\n",
        "initializer = tf.keras.initializers.GlorotUniform()"
      ],
      "metadata": {
        "id": "sLt_iTgrfqqE"
      },
      "execution_count": 38,
      "outputs": []
    },
    {
      "cell_type": "code",
      "source": [
        "def define_encoder_block(x, num_filters, act):  \n",
        "    \"\"\"\n",
        "    Todo: Define two sequential 2D convolutional layers (Conv2D) with the following properties:\n",
        "          - num_filters many filters\n",
        "          - kernel_size 3\n",
        "          - activation \"relu\"\n",
        "          - padding \"same\"\n",
        "          - kernel_initializer \"he_normal\"\n",
        "          Also define a 2D max pooling layer (MaxPooling2D) (you can keep default arguments).\n",
        "    \"\"\"\n",
        "    x = tf.keras.layers.Conv2D(num_filters, 4, activation=act, padding='same', kernel_initializer='he_normal')(x)\n",
        "    x = tf.keras.layers.BatchNormalization()(x)\n",
        "    x = tf.keras.layers.Conv2D(num_filters, 4, activation=act, padding='same', kernel_initializer='he_normal')(x)\n",
        "    x = tf.keras.layers.MaxPooling2D()(x)\n",
        "    x = tf.keras.layers.BatchNormalization()(x)\n",
        "    \n",
        "    return x"
      ],
      "metadata": {
        "id": "u1gB6LC_geQz"
      },
      "execution_count": 39,
      "outputs": []
    },
    {
      "cell_type": "code",
      "source": [
        "def define_decoder_block(x, num_filters, act):\n",
        "    \"\"\"\n",
        "    Todo: Define one 2D upsampling layer (UpSampling2D) (you can keep default arguments).\n",
        "          Also, define two sequential 2D convolutional layers (Conv2D) with the following properties:\n",
        "          - num_filters many filters\n",
        "          - kernel_size 3\n",
        "          - activation \"relu\"\n",
        "          - padding \"same\"\n",
        "          - kernel_initializer \"he_normal\"\n",
        "    \"\"\"\n",
        "    x = tf.keras.layers.UpSampling2D()(x)\n",
        "    x = tf.keras.layers.Conv2DTranspose(num_filters, 4, activation=act, padding = 'same', kernel_initializer = 'he_normal')(x)\n",
        "    x = tf.keras.layers.BatchNormalization()(x)\n",
        "    x = tf.keras.layers.Conv2DTranspose(num_filters, 4, activation=act, padding = 'same', kernel_initializer = 'he_normal')(x)\n",
        "    x = tf.keras.layers.BatchNormalization()(x)\n",
        "    return x"
      ],
      "metadata": {
        "id": "G1sXEcj5OZjV"
      },
      "execution_count": 40,
      "outputs": []
    },
    {
      "cell_type": "code",
      "source": [
        "class CVAE(tf.keras.Model):\n",
        "    \"\"\"Convolutional variational autoencoder.\"\"\"\n",
        "\n",
        "    def __init__(self, x_dim, y_dim, n_channels, z_dim, n_modes, params):\n",
        "        super(CVAE, self).__init__()\n",
        "        self.z_dim = z_dim\n",
        "        self.n_modes = n_modes\n",
        "        self.x_modes = 1   # hardcoded for testing\n",
        "        self.x_dim = x_dim\n",
        "        self.y_dim = y_dim\n",
        "        self.n_channels = n_channels\n",
        "        self.act = tf.keras.layers.LeakyReLU(alpha=0.3)\n",
        "        self.params = params\n",
        "        self.reg = regularizers.l2(0.1)\n",
        "\n",
        "\n",
        "        start_filters = 16\n",
        "\n",
        "        \"\"\"\n",
        "        # Add this to get rid of regularizer\n",
        "        a2 = tf.keras.layers.Dense(2*self.z_dim*self.n_modes + self.n_modes)(a2)\n",
        "        self.encoder_r1 = tf.keras.Model(inputs=r1_input_y, outputs=a2)\n",
        "        print(self.encoder_r1.summary())\n",
        "        \"\"\"\n",
        "        \n",
        "        # the r1 encoder network- r1_encoder(y) = z'.\n",
        "\n",
        "        r1_input_y = tf.keras.Input(shape=(WIDTH, HEIGHT, 1))\n",
        "\n",
        "        eblock1 = define_encoder_block(r1_input_y, start_filters, self.act)\n",
        "        eblock2 = define_encoder_block(eblock1, start_filters*2, self.act)\n",
        "        eblock3 = define_encoder_block(eblock2, start_filters*4, self.act)\n",
        "        eblock4 = define_encoder_block(eblock3, start_filters*8, self.act)\n",
        "        # eblock4 = eblock2\n",
        "        _, *shape_spatial = eblock4.get_shape().as_list()\n",
        "        eblock4_flat = tf.keras.layers.Flatten()(eblock4)\n",
        "\n",
        "        x = tf.keras.layers.BatchNormalization(name='bn_2')(eblock4_flat)\n",
        "        a2 = tf.keras.layers.Dense(16, kernel_regularizer=self.reg, activation=self.act)(x)\n",
        "        a2 = tf.keras.layers.Dropout(.1)(a2)\n",
        "        a2 = tf.keras.layers.Dense(8, kernel_regularizer=self.reg, activation=self.act)(a2)\n",
        "        a2 = tf.keras.layers.Dropout(.1)(a2)\n",
        "        # a2 = x\n",
        "        a2 = tf.keras.layers.Dense(16, kernel_regularizer=self.reg, activation=self.act)(a2)\n",
        "        a2 = tf.keras.layers.BatchNormalization()(a2)\n",
        "        a2 = tf.keras.layers.Dense(2*self.z_dim*self.n_modes + self.n_modes, activation=self.act, kernel_regularizer=self.reg)(a2)\n",
        "        self.encoder_r1 = tf.keras.Model(inputs=r1_input_y, outputs=a2)\n",
        "\n",
        "        print(self.encoder_r1.summary())\n",
        "\n",
        "\n",
        "        # the q encoder network- q_encoder(x, y) = z''.\n",
        "\n",
        "        q_input_x = tf.keras.Input(shape=(self.x_dim))\n",
        "        c = tf.keras.layers.Flatten()(q_input_x)\n",
        "        d = tf.keras.layers.concatenate([eblock4_flat, c])\n",
        "        d = tf.keras.layers.BatchNormalization()(d)\n",
        "        e = tf.keras.layers.Dense(16, kernel_regularizer=self.reg, activation=self.act)(d)\n",
        "        e = tf.keras.layers.Dropout(.1)(e)\n",
        "        # e = d\n",
        "        e = tf.keras.layers.Dense(16, kernel_regularizer=self.reg, activation=self.act)(e)\n",
        "        e = tf.keras.layers.BatchNormalization()(e)\n",
        "        e = tf.keras.layers.Dense(2*self.z_dim, activation=self.act)(e)\n",
        "        self.encoder_q = tf.keras.Model(inputs=[r1_input_y, q_input_x], outputs=e)\n",
        "\n",
        "\n",
        "        print(self.encoder_q.summary())\n",
        "\n",
        "\n",
        "        # the r2 decoder network- r2_decoder(y, z) = x'.\n",
        "\n",
        "        r2_input_z = tf.keras.Input(shape=(self.z_dim))\n",
        "        g = tf.keras.layers.Flatten()(r2_input_z)\n",
        "\n",
        "        '''\n",
        "        # x = tf.keras.layers.Dense(8, kernel_regularizer=self.reg, activation=self.act)(r2_input_z)\n",
        "\n",
        "        # x = tf.reshape(x, [-1, 8, 8, 64])\n",
        "\n",
        "        x = tf.keras.layers.Dense(np.prod(shape_spatial), kernel_regularizer=self.reg, activation=self.act)(r2_input_z)  # \n",
        "        x = tf.keras.layers.Reshape(eblock4.shape.as_list()[1:])(x)                     # (None, 1, , 64)\n",
        "\n",
        "        dblock1 = define_decoder_block(x, start_filters)\n",
        "        dblock2 = define_decoder_block(dblock1, start_filters * 2)\n",
        "        dblock3 = define_decoder_block(dblock2, start_filters * 4)\n",
        "        dblock4 = define_decoder_block(dblock3, start_filters * 8)\n",
        "        # dblock4 = dblock2\n",
        "\n",
        "        g = tf.keras.layers.Flatten()(dblock4)\n",
        "        h = tf.keras.layers.concatenate([eblock4_flat, g])\n",
        "        \n",
        "        h = tf.keras.layers.BatchNormalization()(h)\n",
        "        i = tf.keras.layers.Dense(8, kernel_regularizer=self.reg, activation=self.act)(h)\n",
        "        # i = tf.keras.layers.Dropout(.1)(i)\n",
        "        # i = tf.keras.layers.Dense(8, kernel_regularizer=self.reg, activation=self.act)(i)\n",
        "        # i = tf.keras.layers.BatchNormalization()(i)\n",
        "        # i = tf.keras.layers.Dense(4, kernel_regularizer=self.reg, activation=self.act)(i)\n",
        "        # i = tf.keras.layers.BatchNormalization()(i)\n",
        "        j = tf.keras.layers.Dense(2*self.x_dim*self.x_modes + self.x_modes)(i)\n",
        "\n",
        "        print(\"Decoder summary:\")\n",
        "\n",
        "        self.decoder_r2 = tf.keras.Model(inputs=[r1_input_y, r2_input_z], outputs=j)\n",
        "        '''\n",
        "\n",
        "        h = tf.keras.layers.concatenate([eblock4_flat, g])\n",
        "        h = tf.keras.layers.BatchNormalization(name='bn_6')(h)\n",
        "        i = tf.keras.layers.Dense(32, kernel_regularizer=self.reg, activation=self.act)(h)\n",
        "        i = tf.keras.layers.Dropout(.5)(i)\n",
        "        i = tf.keras.layers.Dense(16, kernel_regularizer=self.reg, activation=self.act)(i)\n",
        "        i = tf.keras.layers.BatchNormalization(name='bn_7')(i)\n",
        "        j = tf.keras.layers.Dense(2*self.x_dim*self.x_modes + self.x_modes, activation=self.act)(i)\n",
        "        self.decoder_r2 = tf.keras.Model(inputs=[r1_input_y, r2_input_z], outputs=j)\n",
        "\n",
        "        print(self.decoder_r2.summary())\n",
        "        # During use, we would only have y. Use r1_encoder(y) = z'. Then, use r2_decoder(y, z') = x' to get the prediction / posterior.\n",
        "    \n",
        "    def get_encoders(self):\n",
        "        return self.encoder_r1, self.encoder_q\n",
        "    \n",
        "    def encode_r1(self, y=None):\n",
        "#         print(\"==\")\n",
        "#         print(y)\n",
        "#         print(\"AAA\")\n",
        "#         print(self.encoder_r1(y).shape)\n",
        "#         print(self.encoder_r1(y))\n",
        "# #         print([self.z_dim*self.n_modes, self.z_dim*self.n_modes,self.n_modes])\n",
        "#         print(\"==\")\n",
        "#         print(self.z_dim*self.n_modes + self.z_dim*self.n_modes + self.n_modes)\n",
        "        \n",
        "#         mean, logvar, weight = tf.split(self.encoder_r1(y), num_or_size_splits=[2, 4, 3], axis=1)\n",
        "\n",
        "        encoded_y = self.encoder_r1(y)  # (4, 17)\n",
        "\n",
        "        # print(encoded_y.shape)\n",
        "        mean, logvar, weight = tf.split(encoded_y, num_or_size_splits=[self.z_dim*self.n_modes, self.z_dim*self.n_modes,self.n_modes], axis=1)\n",
        "        \n",
        "        # print(mean.shape, logvar.shape, weight.shape) # (4, 8), (4, 8), (4, 1)\n",
        "        \n",
        "        # Becomes (4, 1, 2) (4, 2, 1)\n",
        "        return tf.reshape(mean,[-1,self.n_modes,self.z_dim]), tf.reshape(logvar,[-1,self.n_modes,self.z_dim]), tf.reshape(weight,[-1,self.n_modes])\n",
        "\n",
        "\n",
        "    def encode_q(self, x=None, y=None):\n",
        "        return tf.split(self.encoder_q([y,x]), num_or_size_splits=[self.z_dim, self.z_dim], axis=1)\n",
        "\n",
        "    def decode_r2(self, y=None, z=None, apply_sigmoid=False):\n",
        "        \n",
        "#         print(\"AA\", self.decoder_r2([y, z]).shape)\n",
        "#         print(\"BB\", [2 * self.x_dim * self.x_modes, self.x_modes])\n",
        "        mean, logvar, weight = tf.split(self.decoder_r2([y, z]), num_or_size_splits=[self.x_dim*self.x_modes, self.x_dim*self.x_modes, self.x_modes], axis=1)\n",
        "        return tf.reshape(mean,[-1,self.x_modes,self.x_dim]), tf.reshape(logvar,[-1,self.x_modes,self.x_dim]), tf.reshape(weight,[-1,self.x_modes])"
      ],
      "metadata": {
        "id": "tVciQBfofru-"
      },
      "execution_count": 41,
      "outputs": []
    },
    {
      "cell_type": "code",
      "source": [
        "from tensorflow.keras.losses import MeanSquaredError"
      ],
      "metadata": {
        "id": "KJ21SAD9lOjO"
      },
      "execution_count": 171,
      "outputs": []
    },
    {
      "cell_type": "code",
      "source": [
        "EPS = 1e-6\n",
        "dist_mask = np.array([True])\n",
        "not_dist_mask = np.array([True])\n",
        "\n",
        "bounds = dict(a=0.0, b=30.0)\n",
        "\n",
        "\n",
        "# KL[P || Q] = S(P) - H(P, Q)               Model P with approximation Q.\n",
        "# KL[Q || P] = S(Q) - H(Q, P)               Model Q with approximation P.\n",
        "\n",
        "# Variational Autoencoders:\n",
        "#  Let X be the data we want to model, z is the latent variable. Pr[X] = distn of data. Pr[z] latent distrn. Pr[X | z] = distrn of generating data | latent variable.\n",
        "#  We want to infer Pr[z] from Pr[z | X] which is the distrn that projects our data into the latent space.  \n",
        "#  But we do not know Pr[z | X], so we use a simpler estimate of Qr[z | X].\n",
        "\n",
        "# KL( Qr[z | X] || Pr[z | X] ) = E{ log( Qr[z | X] ) - log( Pr[z | X] ) } summed up over Qr[z | X]. \n",
        "# KL = H(Q, P) - S(Q) = cross-entropy between Q and P - entropy of P => info in just P - info overlap between P and Q => remaining info in P that we missed. \n",
        "\n",
        "\n",
        "# Ingredients:\n",
        "#   - Qr[z | x]\n",
        "#   - \n",
        "\n",
        "# Infer z_mean, z_var from just y.               Use encoder r1._samp            A = Pr[z | y].\n",
        "# \n",
        "# Infer z'_mean', z'_var' from x, y to get z_sample.                        B = Pr[z | x, y] => sample z_samp from q. We later calculate self-entropy of this.\n",
        "# Use encoder q for this.  Qr[z_sample | x, y]. Calculate self-entropy.\n",
        "# C = Pr[z_samp | y] = x_samp.\n",
        "# \n",
        "# Pr[z | x, y] is the \"real\" / actual distribution. So we want self-entropy of that - cross-entropy of that with Pr[z_samp | y].\n",
        "# What we are doing is that we are looking at how much information we are missing by calculating z_samp using Pr[z | y] instead of the actual distribution\n",
        "# of Pr[z | x, y]. This gives us our KL divergence, which we want to minimize.\n",
        "\n",
        "\n",
        "# Decode (z_sample, y) to get a distribution for x. Pr[x | z_samp, y]. Then, calculate the probability of getting x_actual under this distribution (log-likelihood).\n",
        "# The higher the probability the better it is, which we want to maximize.\n",
        "\n",
        "# Total Loss = (2) - (1)\n",
        "\n",
        "\n",
        "\n",
        "\n",
        "# XXXXX\n",
        "# Calculate self-entropy with Pr[z_samp] from inference of z_mean with y i.e. Pr[z_mean | y].  So entropy of Pr[z | x, y]. \n",
        "# This is the real distribution P. We are approximating it with Qr[z | y]. So we want S[ Pr[z | x, y] ] - H[Pr[z|x,y], Pr[z|y]].\n",
        "# Pr[z_samp] under A / r1.\n",
        "\n",
        "# \n",
        "\n",
        "tfd = tfp.distributions\n",
        "\n",
        "def compute_loss(model, x, y, ramp=1.0, noiseamp=1.0):\n",
        "    \n",
        "#     print(\"Computing loss.\")\n",
        "    \n",
        "    old_old_x = x\n",
        "    \n",
        "    noiseamp = tf.cast(noiseamp, dtype=tf.float32)\n",
        "    y_normscale = tf.cast(params['y_normscale'], dtype=tf.float32)\n",
        "    y = tf.cast(y, dtype=tf.float32)\n",
        "    x = tf.cast(x, dtype=tf.float32)\n",
        "    \n",
        "    y = (y + noiseamp*tf.random.normal(shape=tf.shape(y), mean=0.0, stddev=1.0, dtype=tf.float32)) / y_normscale\n",
        "    \n",
        "    # print(\"x\", x)\n",
        "    \n",
        "    # print(\"y\", y)\n",
        "    \n",
        "    # This is in the latent space z. z just from y.\n",
        "    mean_r1, logvar_r1, logweight_r1 = model.encode_r1(y=y)             # Infer z_mean, z_var by encoding y.\n",
        "    \n",
        "    \n",
        "    \n",
        "    \n",
        "    scale_r1 = EPS + tf.sqrt(tf.exp(logvar_r1))                         # Fix to enable backpropagation.\n",
        "\n",
        "    # Sample from the latent space. z just from y.\n",
        "    gm_r1 = tfd.MixtureSameFamily(mixture_distribution=tfd.Categorical(logits=logweight_r1),\n",
        "            components_distribution=tfd.MultivariateNormalDiag(\n",
        "            loc=mean_r1,\n",
        "            scale_diag=scale_r1))\n",
        "    \n",
        "    # Latent space. z from x and y.\n",
        "    mean_q, logvar_q = model.encode_q(x=x, y=y)                         # Infer z'_mean and z'_var by encoding x and y.\n",
        "    scale_q = EPS + tf.sqrt(tf.exp(logvar_q))                           # Fix to enable backpropagation.\n",
        "    \n",
        "    \n",
        "    \n",
        "    # print(np.mean(mean_r1))\n",
        "    \n",
        "    # Sample from the latent space. z from x and y.\n",
        "    mvn_q = tfp.distributions.MultivariateNormalDiag(\n",
        "                          loc=mean_q,\n",
        "                          scale_diag=scale_q)\n",
        "    \n",
        "    z_samp = mvn_q.sample()                                               # Sample z_samp from a multi-variate normal distribution (inferred from (x, y)).\n",
        "    \n",
        "    # print(z_samp)\n",
        "    # Take the latent sample and y to reconstruct x. Pr[x | y, z]\n",
        "    mean_r2, logvar_r2, logweight_r2 = model.decode_r2(y=y, z=z_samp)     # Decode (z_samp, y) to get predicted x'.\n",
        "    scale_r2 = EPS + tf.sqrt(tf.exp(logvar_r2))\n",
        "    \n",
        "    # This is a sample from x.\n",
        "    # print(\"Drawn f = \", np.mean(mean_r2), end=\", \")\n",
        "    \n",
        "    # Distribution for x. Pr[x | y, z]\n",
        "    mvn_r2 = tfd.MixtureSameFamily(mixture_distribution=tfd.Categorical(logits=logweight_r2),      # Sample predicted x'.\n",
        "            components_distribution=tfd.MultivariateNormalDiag(\n",
        "            loc=mean_r2,\n",
        "            scale_diag=scale_r2))\n",
        "    \n",
        "\n",
        "    # print(mean_r2.shape, old_old_x.shape)\n",
        "    \n",
        "    # simple_cost_recon = -1.0*tf.reduce_mean(tf.reduce_sum(mvn_r2.log_prob(x)))                            # Calculate the odds of having the x_actual. Pr[x | y, z_samp].\n",
        "\n",
        "    # print(simple_cost_recon)\n",
        "    \n",
        "    selfent_q = -1.0*tf.reduce_mean(mvn_q.entropy())                                         # Self-entropy of q-encoder [(x, y) => z_samp]. H(z_samp(x, y)).\n",
        "    log_r1_q = gm_r1.log_prob(z_samp)   # evaluate the log prob of r1 at the q samples       # Pr[z_samp | x, y].\n",
        "    cost_KL = selfent_q - tf.reduce_mean(log_r1_q)                                           # KL-div with self-entropy - cross-entropy.\n",
        "    mse = MeanSquaredError(mean_r2, x)\n",
        "    # KL = H(z_samp(x, y)) - Pr[z_samp | x, y].\n",
        "    \n",
        "    \n",
        "    # return simple_cost_recon, cost_KL\n",
        "\n",
        "    return mse, cost_KL"
      ],
      "metadata": {
        "id": "IWHHh5M9fsqH"
      },
      "execution_count": 172,
      "outputs": []
    },
    {
      "cell_type": "code",
      "source": [
        "train_loss_metric = tf.keras.metrics.Mean('train_loss', dtype=tf.float32)\n",
        "\n",
        "@tf.function\n",
        "def train_step(model, x, y, optimizer, ramp=1.0):\n",
        "    \"\"\"Executes one training step and returns the loss.\n",
        "    This function computes the loss and gradients, and uses the latter to\n",
        "    update the model's parameters.\n",
        "    \"\"\"\n",
        "    with tf.GradientTape() as tape:\n",
        "        r_loss, kl_loss = compute_loss(model, x, y, ramp=ramp)\n",
        "        # r_loss, kl_loss = compute_loss(model, x, y)\n",
        "        loss = r_loss + ramp * kl_loss\n",
        "        \n",
        "    gradients = tape.gradient(loss, model.trainable_variables, unconnected_gradients=tf.UnconnectedGradients.ZERO)\n",
        "    optimizer.apply_gradients(zip(gradients, model.trainable_variables))\n",
        "    \n",
        "    train_loss_metric(loss)\n",
        "    \n",
        "    return r_loss, kl_loss, loss"
      ],
      "metadata": {
        "id": "6-GzauiEfujy"
      },
      "execution_count": 173,
      "outputs": []
    },
    {
      "cell_type": "code",
      "source": [
        "\n",
        "epochs = 250\n",
        "ramp_start = 50\n",
        "ramp_length = 100\n",
        "\n",
        "\n",
        "ramp_cycles = 1\n",
        "ramp_list = [ramp_func(ep, ramp_start, ramp_length, ramp_cycles) for ep in np.arange(0, epochs, 1)]\n",
        "\n",
        "plt.plot(ramp_list)"
      ],
      "metadata": {
        "colab": {
          "base_uri": "https://localhost:8080/",
          "height": 282
        },
        "id": "i8R_-JNgyHMz",
        "outputId": "51638233-72e0-4279-b81e-c1d8948f9c6a"
      },
      "execution_count": 174,
      "outputs": [
        {
          "output_type": "execute_result",
          "data": {
            "text/plain": [
              "[<matplotlib.lines.Line2D at 0x7f9a63242160>]"
            ]
          },
          "metadata": {},
          "execution_count": 174
        },
        {
          "output_type": "display_data",
          "data": {
            "text/plain": [
              "<Figure size 432x288 with 1 Axes>"
            ],
            "image/png": "[encoded data removed]"
          },
          "metadata": {
            "needs_background": "light"
          }
        }
      ]
    },
    {
      "cell_type": "code",
      "source": [],
      "metadata": {
        "id": "yN8eylH606eK"
      },
      "execution_count": 174,
      "outputs": []
    },
    {
      "cell_type": "code",
      "source": [
        "i = (25 - ramp_start) / (2.0 * ramp_length)\n",
        "\n",
        "print(i)\n",
        "# print(epoch,i)\n",
        "\n",
        "print(2.0 * np.remainder(i, 1.0))\n",
        "\n",
        "# if i < 0:\n",
        "#     return 0.0\n",
        "# if i >= n_cycles:\n",
        "#     return 1.0\n",
        "\n",
        "# return min(1.0, 2.0 * np.remainder(i, 1.0))"
      ],
      "metadata": {
        "colab": {
          "base_uri": "https://localhost:8080/"
        },
        "id": "rSFRkpyzyZvb",
        "outputId": "ce884790-164e-4c2d-9b04-4283e9713601"
      },
      "execution_count": 175,
      "outputs": [
        {
          "output_type": "stream",
          "name": "stdout",
          "text": [
            "-0.125\n",
            "1.75\n"
          ]
        }
      ]
    },
    {
      "cell_type": "code",
      "source": [
        "tf.random.set_seed(42)\n",
        "np.random.seed(42)\n",
        "\n",
        "\n",
        "\n",
        "# start the training loop\n",
        "train_loss = np.zeros((epochs, 3))\n",
        "test_loss = np.zeros((epochs, 3))\n",
        "\n",
        "KL_samples = []\n",
        "\n",
        "\n",
        "\n",
        "model = CVAE(x_dim=6, y_dim=1, n_channels=params['n_channels'], \\\n",
        "             z_dim=params['z_dim'], n_modes=1, params=params)\n",
        "\n",
        "model.compile()"
      ],
      "metadata": {
        "colab": {
          "base_uri": "https://localhost:8080/"
        },
        "id": "ano40u3hfweq",
        "outputId": "87066ed7-d32a-46ba-f529-e11de017d7e2"
      },
      "execution_count": 176,
      "outputs": [
        {
          "output_type": "stream",
          "name": "stdout",
          "text": [
            "Model: \"model_3\"\n",
            "_________________________________________________________________\n",
            " Layer (type)                Output Shape              Param #   \n",
            "=================================================================\n",
            " input_4 (InputLayer)        [(None, 90, 48, 1)]       0         \n",
            "                                                                 \n",
            " conv2d_8 (Conv2D)           (None, 90, 48, 16)        272       \n",
            "                                                                 \n",
            " batch_normalization_11 (Bat  (None, 90, 48, 16)       64        \n",
            " chNormalization)                                                \n",
            "                                                                 \n",
            " conv2d_9 (Conv2D)           (None, 90, 48, 16)        4112      \n",
            "                                                                 \n",
            " max_pooling2d_4 (MaxPooling  (None, 45, 24, 16)       0         \n",
            " 2D)                                                             \n",
            "                                                                 \n",
            " batch_normalization_12 (Bat  (None, 45, 24, 16)       64        \n",
            " chNormalization)                                                \n",
            "                                                                 \n",
            " conv2d_10 (Conv2D)          (None, 45, 24, 32)        8224      \n",
            "                                                                 \n",
            " batch_normalization_13 (Bat  (None, 45, 24, 32)       128       \n",
            " chNormalization)                                                \n",
            "                                                                 \n",
            " conv2d_11 (Conv2D)          (None, 45, 24, 32)        16416     \n",
            "                                                                 \n",
            " max_pooling2d_5 (MaxPooling  (None, 22, 12, 32)       0         \n",
            " 2D)                                                             \n",
            "                                                                 \n",
            " batch_normalization_14 (Bat  (None, 22, 12, 32)       128       \n",
            " chNormalization)                                                \n",
            "                                                                 \n",
            " conv2d_12 (Conv2D)          (None, 22, 12, 64)        32832     \n",
            "                                                                 \n",
            " batch_normalization_15 (Bat  (None, 22, 12, 64)       256       \n",
            " chNormalization)                                                \n",
            "                                                                 \n",
            " conv2d_13 (Conv2D)          (None, 22, 12, 64)        65600     \n",
            "                                                                 \n",
            " max_pooling2d_6 (MaxPooling  (None, 11, 6, 64)        0         \n",
            " 2D)                                                             \n",
            "                                                                 \n",
            " batch_normalization_16 (Bat  (None, 11, 6, 64)        256       \n",
            " chNormalization)                                                \n",
            "                                                                 \n",
            " conv2d_14 (Conv2D)          (None, 11, 6, 128)        131200    \n",
            "                                                                 \n",
            " batch_normalization_17 (Bat  (None, 11, 6, 128)       512       \n",
            " chNormalization)                                                \n",
            "                                                                 \n",
            " conv2d_15 (Conv2D)          (None, 11, 6, 128)        262272    \n",
            "                                                                 \n",
            " max_pooling2d_7 (MaxPooling  (None, 5, 3, 128)        0         \n",
            " 2D)                                                             \n",
            "                                                                 \n",
            " batch_normalization_18 (Bat  (None, 5, 3, 128)        512       \n",
            " chNormalization)                                                \n",
            "                                                                 \n",
            " flatten_3 (Flatten)         (None, 1920)              0         \n",
            "                                                                 \n",
            " bn_2 (BatchNormalization)   (None, 1920)              7680      \n",
            "                                                                 \n",
            " dense_10 (Dense)            (None, 16)                30736     \n",
            "                                                                 \n",
            " dropout_4 (Dropout)         (None, 16)                0         \n",
            "                                                                 \n",
            " dense_11 (Dense)            (None, 8)                 136       \n",
            "                                                                 \n",
            " dropout_5 (Dropout)         (None, 8)                 0         \n",
            "                                                                 \n",
            " dense_12 (Dense)            (None, 16)                144       \n",
            "                                                                 \n",
            " batch_normalization_19 (Bat  (None, 16)               64        \n",
            " chNormalization)                                                \n",
            "                                                                 \n",
            " dense_13 (Dense)            (None, 49)                833       \n",
            "                                                                 \n",
            "=================================================================\n",
            "Total params: 562,441\n",
            "Trainable params: 557,609\n",
            "Non-trainable params: 4,832\n",
            "_________________________________________________________________\n",
            "None\n",
            "Model: \"model_4\"\n",
            "__________________________________________________________________________________________________\n",
            " Layer (type)                   Output Shape         Param #     Connected to                     \n",
            "==================================================================================================\n",
            " input_4 (InputLayer)           [(None, 90, 48, 1)]  0           []                               \n",
            "                                                                                                  \n",
            " conv2d_8 (Conv2D)              (None, 90, 48, 16)   272         ['input_4[0][0]']                \n",
            "                                                                                                  \n",
            " batch_normalization_11 (BatchN  (None, 90, 48, 16)  64          ['conv2d_8[0][0]']               \n",
            " ormalization)                                                                                    \n",
            "                                                                                                  \n",
            " conv2d_9 (Conv2D)              (None, 90, 48, 16)   4112        ['batch_normalization_11[0][0]'] \n",
            "                                                                                                  \n",
            " max_pooling2d_4 (MaxPooling2D)  (None, 45, 24, 16)  0           ['conv2d_9[0][0]']               \n",
            "                                                                                                  \n",
            " batch_normalization_12 (BatchN  (None, 45, 24, 16)  64          ['max_pooling2d_4[0][0]']        \n",
            " ormalization)                                                                                    \n",
            "                                                                                                  \n",
            " conv2d_10 (Conv2D)             (None, 45, 24, 32)   8224        ['batch_normalization_12[0][0]'] \n",
            "                                                                                                  \n",
            " batch_normalization_13 (BatchN  (None, 45, 24, 32)  128         ['conv2d_10[0][0]']              \n",
            " ormalization)                                                                                    \n",
            "                                                                                                  \n",
            " conv2d_11 (Conv2D)             (None, 45, 24, 32)   16416       ['batch_normalization_13[0][0]'] \n",
            "                                                                                                  \n",
            " max_pooling2d_5 (MaxPooling2D)  (None, 22, 12, 32)  0           ['conv2d_11[0][0]']              \n",
            "                                                                                                  \n",
            " batch_normalization_14 (BatchN  (None, 22, 12, 32)  128         ['max_pooling2d_5[0][0]']        \n",
            " ormalization)                                                                                    \n",
            "                                                                                                  \n",
            " conv2d_12 (Conv2D)             (None, 22, 12, 64)   32832       ['batch_normalization_14[0][0]'] \n",
            "                                                                                                  \n",
            " batch_normalization_15 (BatchN  (None, 22, 12, 64)  256         ['conv2d_12[0][0]']              \n",
            " ormalization)                                                                                    \n",
            "                                                                                                  \n",
            " conv2d_13 (Conv2D)             (None, 22, 12, 64)   65600       ['batch_normalization_15[0][0]'] \n",
            "                                                                                                  \n",
            " max_pooling2d_6 (MaxPooling2D)  (None, 11, 6, 64)   0           ['conv2d_13[0][0]']              \n",
            "                                                                                                  \n",
            " batch_normalization_16 (BatchN  (None, 11, 6, 64)   256         ['max_pooling2d_6[0][0]']        \n",
            " ormalization)                                                                                    \n",
            "                                                                                                  \n",
            " conv2d_14 (Conv2D)             (None, 11, 6, 128)   131200      ['batch_normalization_16[0][0]'] \n",
            "                                                                                                  \n",
            " batch_normalization_17 (BatchN  (None, 11, 6, 128)  512         ['conv2d_14[0][0]']              \n",
            " ormalization)                                                                                    \n",
            "                                                                                                  \n",
            " conv2d_15 (Conv2D)             (None, 11, 6, 128)   262272      ['batch_normalization_17[0][0]'] \n",
            "                                                                                                  \n",
            " max_pooling2d_7 (MaxPooling2D)  (None, 5, 3, 128)   0           ['conv2d_15[0][0]']              \n",
            "                                                                                                  \n",
            " batch_normalization_18 (BatchN  (None, 5, 3, 128)   512         ['max_pooling2d_7[0][0]']        \n",
            " ormalization)                                                                                    \n",
            "                                                                                                  \n",
            " input_5 (InputLayer)           [(None, 6)]          0           []                               \n",
            "                                                                                                  \n",
            " flatten_3 (Flatten)            (None, 1920)         0           ['batch_normalization_18[0][0]'] \n",
            "                                                                                                  \n",
            " flatten_4 (Flatten)            (None, 6)            0           ['input_5[0][0]']                \n",
            "                                                                                                  \n",
            " concatenate_2 (Concatenate)    (None, 1926)         0           ['flatten_3[0][0]',              \n",
            "                                                                  'flatten_4[0][0]']              \n",
            "                                                                                                  \n",
            " batch_normalization_20 (BatchN  (None, 1926)        7704        ['concatenate_2[0][0]']          \n",
            " ormalization)                                                                                    \n",
            "                                                                                                  \n",
            " dense_14 (Dense)               (None, 16)           30832       ['batch_normalization_20[0][0]'] \n",
            "                                                                                                  \n",
            " dropout_6 (Dropout)            (None, 16)           0           ['dense_14[0][0]']               \n",
            "                                                                                                  \n",
            " dense_15 (Dense)               (None, 16)           272         ['dropout_6[0][0]']              \n",
            "                                                                                                  \n",
            " batch_normalization_21 (BatchN  (None, 16)          64          ['dense_15[0][0]']               \n",
            " ormalization)                                                                                    \n",
            "                                                                                                  \n",
            " dense_16 (Dense)               (None, 48)           816         ['batch_normalization_21[0][0]'] \n",
            "                                                                                                  \n",
            "==================================================================================================\n",
            "Total params: 562,536\n",
            "Trainable params: 557,692\n",
            "Non-trainable params: 4,844\n",
            "__________________________________________________________________________________________________\n",
            "None\n",
            "Model: \"model_5\"\n",
            "__________________________________________________________________________________________________\n",
            " Layer (type)                   Output Shape         Param #     Connected to                     \n",
            "==================================================================================================\n",
            " input_4 (InputLayer)           [(None, 90, 48, 1)]  0           []                               \n",
            "                                                                                                  \n",
            " conv2d_8 (Conv2D)              (None, 90, 48, 16)   272         ['input_4[0][0]']                \n",
            "                                                                                                  \n",
            " batch_normalization_11 (BatchN  (None, 90, 48, 16)  64          ['conv2d_8[0][0]']               \n",
            " ormalization)                                                                                    \n",
            "                                                                                                  \n",
            " conv2d_9 (Conv2D)              (None, 90, 48, 16)   4112        ['batch_normalization_11[0][0]'] \n",
            "                                                                                                  \n",
            " max_pooling2d_4 (MaxPooling2D)  (None, 45, 24, 16)  0           ['conv2d_9[0][0]']               \n",
            "                                                                                                  \n",
            " batch_normalization_12 (BatchN  (None, 45, 24, 16)  64          ['max_pooling2d_4[0][0]']        \n",
            " ormalization)                                                                                    \n",
            "                                                                                                  \n",
            " conv2d_10 (Conv2D)             (None, 45, 24, 32)   8224        ['batch_normalization_12[0][0]'] \n",
            "                                                                                                  \n",
            " batch_normalization_13 (BatchN  (None, 45, 24, 32)  128         ['conv2d_10[0][0]']              \n",
            " ormalization)                                                                                    \n",
            "                                                                                                  \n",
            " conv2d_11 (Conv2D)             (None, 45, 24, 32)   16416       ['batch_normalization_13[0][0]'] \n",
            "                                                                                                  \n",
            " max_pooling2d_5 (MaxPooling2D)  (None, 22, 12, 32)  0           ['conv2d_11[0][0]']              \n",
            "                                                                                                  \n",
            " batch_normalization_14 (BatchN  (None, 22, 12, 32)  128         ['max_pooling2d_5[0][0]']        \n",
            " ormalization)                                                                                    \n",
            "                                                                                                  \n",
            " conv2d_12 (Conv2D)             (None, 22, 12, 64)   32832       ['batch_normalization_14[0][0]'] \n",
            "                                                                                                  \n",
            " batch_normalization_15 (BatchN  (None, 22, 12, 64)  256         ['conv2d_12[0][0]']              \n",
            " ormalization)                                                                                    \n",
            "                                                                                                  \n",
            " conv2d_13 (Conv2D)             (None, 22, 12, 64)   65600       ['batch_normalization_15[0][0]'] \n",
            "                                                                                                  \n",
            " max_pooling2d_6 (MaxPooling2D)  (None, 11, 6, 64)   0           ['conv2d_13[0][0]']              \n",
            "                                                                                                  \n",
            " batch_normalization_16 (BatchN  (None, 11, 6, 64)   256         ['max_pooling2d_6[0][0]']        \n",
            " ormalization)                                                                                    \n",
            "                                                                                                  \n",
            " conv2d_14 (Conv2D)             (None, 11, 6, 128)   131200      ['batch_normalization_16[0][0]'] \n",
            "                                                                                                  \n",
            " batch_normalization_17 (BatchN  (None, 11, 6, 128)  512         ['conv2d_14[0][0]']              \n",
            " ormalization)                                                                                    \n",
            "                                                                                                  \n",
            " conv2d_15 (Conv2D)             (None, 11, 6, 128)   262272      ['batch_normalization_17[0][0]'] \n",
            "                                                                                                  \n",
            " max_pooling2d_7 (MaxPooling2D)  (None, 5, 3, 128)   0           ['conv2d_15[0][0]']              \n",
            "                                                                                                  \n",
            " batch_normalization_18 (BatchN  (None, 5, 3, 128)   512         ['max_pooling2d_7[0][0]']        \n",
            " ormalization)                                                                                    \n",
            "                                                                                                  \n",
            " input_6 (InputLayer)           [(None, 24)]         0           []                               \n",
            "                                                                                                  \n",
            " flatten_3 (Flatten)            (None, 1920)         0           ['batch_normalization_18[0][0]'] \n",
            "                                                                                                  \n",
            " flatten_5 (Flatten)            (None, 24)           0           ['input_6[0][0]']                \n",
            "                                                                                                  \n",
            " concatenate_3 (Concatenate)    (None, 1944)         0           ['flatten_3[0][0]',              \n",
            "                                                                  'flatten_5[0][0]']              \n",
            "                                                                                                  \n",
            " bn_6 (BatchNormalization)      (None, 1944)         7776        ['concatenate_3[0][0]']          \n",
            "                                                                                                  \n",
            " dense_17 (Dense)               (None, 32)           62240       ['bn_6[0][0]']                   \n",
            "                                                                                                  \n",
            " dropout_7 (Dropout)            (None, 32)           0           ['dense_17[0][0]']               \n",
            "                                                                                                  \n",
            " dense_18 (Dense)               (None, 16)           528         ['dropout_7[0][0]']              \n",
            "                                                                                                  \n",
            " bn_7 (BatchNormalization)      (None, 16)           64          ['dense_18[0][0]']               \n",
            "                                                                                                  \n",
            " dense_19 (Dense)               (None, 13)           221         ['bn_7[0][0]']                   \n",
            "                                                                                                  \n",
            "==================================================================================================\n",
            "Total params: 593,677\n",
            "Trainable params: 588,797\n",
            "Non-trainable params: 4,880\n",
            "__________________________________________________________________________________________________\n",
            "None\n"
          ]
        }
      ]
    },
    {
      "cell_type": "code",
      "source": [
        "x_train_s[1:2,:,0].shape, y_train_s[1:2,:,:,0].shape"
      ],
      "metadata": {
        "colab": {
          "base_uri": "https://localhost:8080/"
        },
        "id": "RKs_Xhymfxai",
        "outputId": "e6358dde-adab-43de-a5c2-3cdb4076f170"
      },
      "execution_count": 177,
      "outputs": [
        {
          "output_type": "execute_result",
          "data": {
            "text/plain": [
              "(TensorShape([1, 6]), TensorShape([1, 90, 48]))"
            ]
          },
          "metadata": {},
          "execution_count": 177
        }
      ]
    },
    {
      "cell_type": "code",
      "source": [
        "model.encode_r1(y_train_s[1:2,:,:,0])"
      ],
      "metadata": {
        "colab": {
          "base_uri": "https://localhost:8080/"
        },
        "id": "mE1dsqWVk3hv",
        "outputId": "e86c1358-a150-410c-d5a2-710422a3d81c"
      },
      "execution_count": 178,
      "outputs": [
        {
          "output_type": "execute_result",
          "data": {
            "text/plain": [
              "(<tf.Tensor: shape=(1, 1, 24), dtype=float32, numpy=\n",
              " array([[[-5.1565889e-02, -1.4138975e-02,  2.6053447e-02, -1.5405781e-02,\n",
              "          -1.1339523e-02,  2.9613781e-01,  1.3292287e-02, -1.7232614e-02,\n",
              "          -7.5460255e-02,  1.1438409e-01,  2.7503368e-01,  9.7679839e-02,\n",
              "          -1.3102254e-01, -3.1594466e-02, -7.1083844e-02, -1.2004361e-03,\n",
              "          -1.3224236e-02,  3.3054072e-01,  3.1509679e-03, -5.2377466e-02,\n",
              "          -2.4843044e-04,  2.1970637e-02, -1.9717701e-02, -1.7803608e-02]]],\n",
              "       dtype=float32)>, <tf.Tensor: shape=(1, 1, 24), dtype=float32, numpy=\n",
              " array([[[-0.05220233, -0.06622671, -0.02947789,  0.18811724,\n",
              "           0.07799517, -0.01119036, -0.12069467, -0.06352562,\n",
              "          -0.082212  , -0.1073972 , -0.08978082,  0.23071228,\n",
              "          -0.01750663,  0.079644  , -0.07242691, -0.02416382,\n",
              "          -0.05365988, -0.03510815, -0.00627209,  0.05130333,\n",
              "           0.17419355,  0.23320118,  0.09704568, -0.10283051]]],\n",
              "       dtype=float32)>, <tf.Tensor: shape=(1, 1), dtype=float32, numpy=array([[0.07360566]], dtype=float32)>)"
            ]
          },
          "metadata": {},
          "execution_count": 178
        }
      ]
    },
    {
      "cell_type": "code",
      "source": [
        "model.encode_q(x_train_s[1:2,:,0], y_train_s[1:2,:,:,0])"
      ],
      "metadata": {
        "colab": {
          "base_uri": "https://localhost:8080/"
        },
        "id": "84wsMWc1k8Zr",
        "outputId": "4bfbe788-3808-40cf-9a34-ebc07ded06e7"
      },
      "execution_count": 179,
      "outputs": [
        {
          "output_type": "execute_result",
          "data": {
            "text/plain": [
              "[<tf.Tensor: shape=(1, 24), dtype=float32, numpy=\n",
              " array([[ 0.2956546 ,  0.38408837,  0.01365658,  0.04461274,  0.3062714 ,\n",
              "          0.22318399,  0.27867284, -0.08063281, -0.01184574, -0.03853442,\n",
              "          0.14230947, -0.04647215,  0.39617956, -0.0120342 ,  0.1502032 ,\n",
              "          0.07477937, -0.03331155,  0.12506758, -0.06973518, -0.00539799,\n",
              "         -0.13077073, -0.04414019,  0.16233993, -0.00141467]],\n",
              "       dtype=float32)>, <tf.Tensor: shape=(1, 24), dtype=float32, numpy=\n",
              " array([[ 0.2913188 , -0.05149382,  0.01632316,  0.2186169 , -0.09179309,\n",
              "         -0.00094743,  0.04124898, -0.17380352,  0.07006694,  0.18601398,\n",
              "         -0.04760947, -0.03202954, -0.06951474,  0.12494393,  0.04226978,\n",
              "         -0.03610256, -0.03703992,  0.23306094,  0.18497391, -0.06344073,\n",
              "          0.1930741 , -0.10294511, -0.03723387, -0.0407768 ]],\n",
              "       dtype=float32)>]"
            ]
          },
          "metadata": {},
          "execution_count": 179
        }
      ]
    },
    {
      "cell_type": "code",
      "source": [
        "model.decode_r2(y_train_s[1:2,:,:,0], np.random.normal(0, 1, (1, params['z_dim'])))"
      ],
      "metadata": {
        "colab": {
          "base_uri": "https://localhost:8080/"
        },
        "id": "r7GlLvcqlPK1",
        "outputId": "31863a9e-74f7-45a7-d549-a5bd9f28301d"
      },
      "execution_count": 180,
      "outputs": [
        {
          "output_type": "execute_result",
          "data": {
            "text/plain": [
              "(<tf.Tensor: shape=(1, 1, 6), dtype=float32, numpy=\n",
              " array([[[-0.12806639,  0.03852959,  0.45922107,  0.0843053 ,\n",
              "           0.6208533 ,  0.33585182]]], dtype=float32)>,\n",
              " <tf.Tensor: shape=(1, 1, 6), dtype=float32, numpy=\n",
              " array([[[-0.05276566, -0.15609837,  0.29244375, -0.10966117,\n",
              "           0.31304288, -0.19569273]]], dtype=float32)>,\n",
              " <tf.Tensor: shape=(1, 1), dtype=float32, numpy=array([[0.35849997]], dtype=float32)>)"
            ]
          },
          "metadata": {},
          "execution_count": 180
        }
      ]
    },
    {
      "cell_type": "code",
      "source": [
        "x_train_s[1:2,:,0].shape, y_train_s[1:2,:,:,0].shape"
      ],
      "metadata": {
        "colab": {
          "base_uri": "https://localhost:8080/"
        },
        "id": "eSIIopj_EWi-",
        "outputId": "59388a09-eef0-4180-a875-30eefdd94a46"
      },
      "execution_count": 181,
      "outputs": [
        {
          "output_type": "execute_result",
          "data": {
            "text/plain": [
              "(TensorShape([1, 6]), TensorShape([1, 90, 48]))"
            ]
          },
          "metadata": {},
          "execution_count": 181
        }
      ]
    },
    {
      "cell_type": "code",
      "source": [
        "compute_loss(model, x_train_s[1:2,:,0], y_train_s[1:2,:,:,0])"
      ],
      "metadata": {
        "colab": {
          "base_uri": "https://localhost:8080/",
          "height": 313
        },
        "id": "V8Uf1mtbldn0",
        "outputId": "2f52b162-ad6b-4815-d1cb-fd02fbf04a71"
      },
      "execution_count": 182,
      "outputs": [
        {
          "output_type": "error",
          "ename": "TypeError",
          "evalue": "ignored",
          "traceback": [
            "\u001b[0;31m---------------------------------------------------------------------------\u001b[0m",
            "\u001b[0;31mTypeError\u001b[0m                                 Traceback (most recent call last)",
            "\u001b[0;32m<ipython-input-182-f6876768074c>\u001b[0m in \u001b[0;36m<module>\u001b[0;34m\u001b[0m\n\u001b[0;32m----> 1\u001b[0;31m \u001b[0mcompute_loss\u001b[0m\u001b[0;34m(\u001b[0m\u001b[0mmodel\u001b[0m\u001b[0;34m,\u001b[0m \u001b[0mx_train_s\u001b[0m\u001b[0;34m[\u001b[0m\u001b[0;36m1\u001b[0m\u001b[0;34m:\u001b[0m\u001b[0;36m2\u001b[0m\u001b[0;34m,\u001b[0m\u001b[0;34m:\u001b[0m\u001b[0;34m,\u001b[0m\u001b[0;36m0\u001b[0m\u001b[0;34m]\u001b[0m\u001b[0;34m,\u001b[0m \u001b[0my_train_s\u001b[0m\u001b[0;34m[\u001b[0m\u001b[0;36m1\u001b[0m\u001b[0;34m:\u001b[0m\u001b[0;36m2\u001b[0m\u001b[0;34m,\u001b[0m\u001b[0;34m:\u001b[0m\u001b[0;34m,\u001b[0m\u001b[0;34m:\u001b[0m\u001b[0;34m,\u001b[0m\u001b[0;36m0\u001b[0m\u001b[0;34m]\u001b[0m\u001b[0;34m)\u001b[0m\u001b[0;34m\u001b[0m\u001b[0;34m\u001b[0m\u001b[0m\n\u001b[0m",
            "\u001b[0;32m<ipython-input-172-5ac1118223e9>\u001b[0m in \u001b[0;36mcompute_loss\u001b[0;34m(model, x, y, ramp, noiseamp)\u001b[0m\n\u001b[1;32m    120\u001b[0m     \u001b[0mlog_r1_q\u001b[0m \u001b[0;34m=\u001b[0m \u001b[0mgm_r1\u001b[0m\u001b[0;34m.\u001b[0m\u001b[0mlog_prob\u001b[0m\u001b[0;34m(\u001b[0m\u001b[0mz_samp\u001b[0m\u001b[0;34m)\u001b[0m   \u001b[0;31m# evaluate the log prob of r1 at the q samples       # Pr[z_samp | x, y].\u001b[0m\u001b[0;34m\u001b[0m\u001b[0;34m\u001b[0m\u001b[0m\n\u001b[1;32m    121\u001b[0m     \u001b[0mcost_KL\u001b[0m \u001b[0;34m=\u001b[0m \u001b[0mselfent_q\u001b[0m \u001b[0;34m-\u001b[0m \u001b[0mtf\u001b[0m\u001b[0;34m.\u001b[0m\u001b[0mreduce_mean\u001b[0m\u001b[0;34m(\u001b[0m\u001b[0mlog_r1_q\u001b[0m\u001b[0;34m)\u001b[0m                                           \u001b[0;31m# KL-div with self-entropy - cross-entropy.\u001b[0m\u001b[0;34m\u001b[0m\u001b[0;34m\u001b[0m\u001b[0m\n\u001b[0;32m--> 122\u001b[0;31m     \u001b[0mmse\u001b[0m \u001b[0;34m=\u001b[0m \u001b[0mMeanSquaredError\u001b[0m\u001b[0;34m(\u001b[0m\u001b[0mmean_r2\u001b[0m\u001b[0;34m,\u001b[0m \u001b[0mx\u001b[0m\u001b[0;34m)\u001b[0m\u001b[0;34m\u001b[0m\u001b[0;34m\u001b[0m\u001b[0m\n\u001b[0m\u001b[1;32m    123\u001b[0m     \u001b[0;31m# KL = H(z_samp(x, y)) - Pr[z_samp | x, y].\u001b[0m\u001b[0;34m\u001b[0m\u001b[0;34m\u001b[0m\u001b[0;34m\u001b[0m\u001b[0m\n\u001b[1;32m    124\u001b[0m \u001b[0;34m\u001b[0m\u001b[0m\n",
            "\u001b[0;32m/usr/local/lib/python3.8/dist-packages/keras/losses.py\u001b[0m in \u001b[0;36m__init__\u001b[0;34m(self, reduction, name)\u001b[0m\n\u001b[1;32m    306\u001b[0m       \u001b[0mname\u001b[0m\u001b[0;34m:\u001b[0m \u001b[0mOptional\u001b[0m \u001b[0mname\u001b[0m \u001b[0;32mfor\u001b[0m \u001b[0mthe\u001b[0m \u001b[0minstance\u001b[0m\u001b[0;34m.\u001b[0m \u001b[0mDefaults\u001b[0m \u001b[0mto\u001b[0m \u001b[0;34m'mean_squared_error'\u001b[0m\u001b[0;34m.\u001b[0m\u001b[0;34m\u001b[0m\u001b[0;34m\u001b[0m\u001b[0m\n\u001b[1;32m    307\u001b[0m     \"\"\"\n\u001b[0;32m--> 308\u001b[0;31m     \u001b[0msuper\u001b[0m\u001b[0;34m(\u001b[0m\u001b[0;34m)\u001b[0m\u001b[0;34m.\u001b[0m\u001b[0m__init__\u001b[0m\u001b[0;34m(\u001b[0m\u001b[0mmean_squared_error\u001b[0m\u001b[0;34m,\u001b[0m \u001b[0mname\u001b[0m\u001b[0;34m=\u001b[0m\u001b[0mname\u001b[0m\u001b[0;34m,\u001b[0m \u001b[0mreduction\u001b[0m\u001b[0;34m=\u001b[0m\u001b[0mreduction\u001b[0m\u001b[0;34m)\u001b[0m\u001b[0;34m\u001b[0m\u001b[0;34m\u001b[0m\u001b[0m\n\u001b[0m\u001b[1;32m    309\u001b[0m \u001b[0;34m\u001b[0m\u001b[0m\n\u001b[1;32m    310\u001b[0m \u001b[0;34m\u001b[0m\u001b[0m\n",
            "\u001b[0;32m/usr/local/lib/python3.8/dist-packages/keras/losses.py\u001b[0m in \u001b[0;36m__init__\u001b[0;34m(self, fn, reduction, name, **kwargs)\u001b[0m\n\u001b[1;32m    223\u001b[0m       \u001b[0;34m**\u001b[0m\u001b[0mkwargs\u001b[0m\u001b[0;34m:\u001b[0m \u001b[0mThe\u001b[0m \u001b[0mkeyword\u001b[0m \u001b[0marguments\u001b[0m \u001b[0mthat\u001b[0m \u001b[0mare\u001b[0m \u001b[0mpassed\u001b[0m \u001b[0mon\u001b[0m \u001b[0mto\u001b[0m\u001b[0;31m \u001b[0m\u001b[0;31m`\u001b[0m\u001b[0mfn\u001b[0m\u001b[0;31m`\u001b[0m\u001b[0;34m.\u001b[0m\u001b[0;34m\u001b[0m\u001b[0;34m\u001b[0m\u001b[0m\n\u001b[1;32m    224\u001b[0m     \"\"\"\n\u001b[0;32m--> 225\u001b[0;31m     \u001b[0msuper\u001b[0m\u001b[0;34m(\u001b[0m\u001b[0;34m)\u001b[0m\u001b[0;34m.\u001b[0m\u001b[0m__init__\u001b[0m\u001b[0;34m(\u001b[0m\u001b[0mreduction\u001b[0m\u001b[0;34m=\u001b[0m\u001b[0mreduction\u001b[0m\u001b[0;34m,\u001b[0m \u001b[0mname\u001b[0m\u001b[0;34m=\u001b[0m\u001b[0mname\u001b[0m\u001b[0;34m)\u001b[0m\u001b[0;34m\u001b[0m\u001b[0;34m\u001b[0m\u001b[0m\n\u001b[0m\u001b[1;32m    226\u001b[0m     \u001b[0mself\u001b[0m\u001b[0;34m.\u001b[0m\u001b[0mfn\u001b[0m \u001b[0;34m=\u001b[0m \u001b[0mfn\u001b[0m\u001b[0;34m\u001b[0m\u001b[0;34m\u001b[0m\u001b[0m\n\u001b[1;32m    227\u001b[0m     \u001b[0mself\u001b[0m\u001b[0;34m.\u001b[0m\u001b[0m_fn_kwargs\u001b[0m \u001b[0;34m=\u001b[0m \u001b[0mkwargs\u001b[0m\u001b[0;34m\u001b[0m\u001b[0;34m\u001b[0m\u001b[0m\n",
            "\u001b[0;32m/usr/local/lib/python3.8/dist-packages/keras/losses.py\u001b[0m in \u001b[0;36m__init__\u001b[0;34m(self, reduction, name)\u001b[0m\n\u001b[1;32m     84\u001b[0m       \u001b[0mname\u001b[0m\u001b[0;34m:\u001b[0m \u001b[0mOptional\u001b[0m \u001b[0mname\u001b[0m \u001b[0;32mfor\u001b[0m \u001b[0mthe\u001b[0m \u001b[0minstance\u001b[0m\u001b[0;34m.\u001b[0m\u001b[0;34m\u001b[0m\u001b[0;34m\u001b[0m\u001b[0m\n\u001b[1;32m     85\u001b[0m     \"\"\"\n\u001b[0;32m---> 86\u001b[0;31m     \u001b[0mlosses_utils\u001b[0m\u001b[0;34m.\u001b[0m\u001b[0mReductionV2\u001b[0m\u001b[0;34m.\u001b[0m\u001b[0mvalidate\u001b[0m\u001b[0;34m(\u001b[0m\u001b[0mreduction\u001b[0m\u001b[0;34m)\u001b[0m\u001b[0;34m\u001b[0m\u001b[0;34m\u001b[0m\u001b[0m\n\u001b[0m\u001b[1;32m     87\u001b[0m     \u001b[0mself\u001b[0m\u001b[0;34m.\u001b[0m\u001b[0mreduction\u001b[0m \u001b[0;34m=\u001b[0m \u001b[0mreduction\u001b[0m\u001b[0;34m\u001b[0m\u001b[0;34m\u001b[0m\u001b[0m\n\u001b[1;32m     88\u001b[0m     \u001b[0mself\u001b[0m\u001b[0;34m.\u001b[0m\u001b[0mname\u001b[0m \u001b[0;34m=\u001b[0m \u001b[0mname\u001b[0m\u001b[0;34m\u001b[0m\u001b[0;34m\u001b[0m\u001b[0m\n",
            "\u001b[0;32m/usr/local/lib/python3.8/dist-packages/keras/utils/losses_utils.py\u001b[0m in \u001b[0;36mvalidate\u001b[0;34m(cls, key)\u001b[0m\n\u001b[1;32m     81\u001b[0m   \u001b[0;34m@\u001b[0m\u001b[0mclassmethod\u001b[0m\u001b[0;34m\u001b[0m\u001b[0;34m\u001b[0m\u001b[0m\n\u001b[1;32m     82\u001b[0m   \u001b[0;32mdef\u001b[0m \u001b[0mvalidate\u001b[0m\u001b[0;34m(\u001b[0m\u001b[0mcls\u001b[0m\u001b[0;34m,\u001b[0m \u001b[0mkey\u001b[0m\u001b[0;34m)\u001b[0m\u001b[0;34m:\u001b[0m\u001b[0;34m\u001b[0m\u001b[0;34m\u001b[0m\u001b[0m\n\u001b[0;32m---> 83\u001b[0;31m     \u001b[0;32mif\u001b[0m \u001b[0mkey\u001b[0m \u001b[0;32mnot\u001b[0m \u001b[0;32min\u001b[0m \u001b[0mcls\u001b[0m\u001b[0;34m.\u001b[0m\u001b[0mall\u001b[0m\u001b[0;34m(\u001b[0m\u001b[0;34m)\u001b[0m\u001b[0;34m:\u001b[0m\u001b[0;34m\u001b[0m\u001b[0;34m\u001b[0m\u001b[0m\n\u001b[0m\u001b[1;32m     84\u001b[0m       raise ValueError(\n\u001b[1;32m     85\u001b[0m           f'Invalid Reduction Key: {key}. Expected keys are \"{cls.all()}\"')\n",
            "\u001b[0;32m/usr/local/lib/python3.8/dist-packages/tensorflow/python/util/traceback_utils.py\u001b[0m in \u001b[0;36merror_handler\u001b[0;34m(*args, **kwargs)\u001b[0m\n\u001b[1;32m    151\u001b[0m     \u001b[0;32mexcept\u001b[0m \u001b[0mException\u001b[0m \u001b[0;32mas\u001b[0m \u001b[0me\u001b[0m\u001b[0;34m:\u001b[0m\u001b[0;34m\u001b[0m\u001b[0;34m\u001b[0m\u001b[0m\n\u001b[1;32m    152\u001b[0m       \u001b[0mfiltered_tb\u001b[0m \u001b[0;34m=\u001b[0m \u001b[0m_process_traceback_frames\u001b[0m\u001b[0;34m(\u001b[0m\u001b[0me\u001b[0m\u001b[0;34m.\u001b[0m\u001b[0m__traceback__\u001b[0m\u001b[0;34m)\u001b[0m\u001b[0;34m\u001b[0m\u001b[0;34m\u001b[0m\u001b[0m\n\u001b[0;32m--> 153\u001b[0;31m       \u001b[0;32mraise\u001b[0m \u001b[0me\u001b[0m\u001b[0;34m.\u001b[0m\u001b[0mwith_traceback\u001b[0m\u001b[0;34m(\u001b[0m\u001b[0mfiltered_tb\u001b[0m\u001b[0;34m)\u001b[0m \u001b[0;32mfrom\u001b[0m \u001b[0;32mNone\u001b[0m\u001b[0;34m\u001b[0m\u001b[0;34m\u001b[0m\u001b[0m\n\u001b[0m\u001b[1;32m    154\u001b[0m     \u001b[0;32mfinally\u001b[0m\u001b[0;34m:\u001b[0m\u001b[0;34m\u001b[0m\u001b[0;34m\u001b[0m\u001b[0m\n\u001b[1;32m    155\u001b[0m       \u001b[0;32mdel\u001b[0m \u001b[0mfiltered_tb\u001b[0m\u001b[0;34m\u001b[0m\u001b[0;34m\u001b[0m\u001b[0m\n",
            "\u001b[0;32m/usr/local/lib/python3.8/dist-packages/tensorflow/python/framework/constant_op.py\u001b[0m in \u001b[0;36mconvert_to_eager_tensor\u001b[0;34m(value, ctx, dtype)\u001b[0m\n\u001b[1;32m    100\u001b[0m       \u001b[0mdtype\u001b[0m \u001b[0;34m=\u001b[0m \u001b[0mdtypes\u001b[0m\u001b[0;34m.\u001b[0m\u001b[0mas_dtype\u001b[0m\u001b[0;34m(\u001b[0m\u001b[0mdtype\u001b[0m\u001b[0;34m)\u001b[0m\u001b[0;34m.\u001b[0m\u001b[0mas_datatype_enum\u001b[0m\u001b[0;34m\u001b[0m\u001b[0;34m\u001b[0m\u001b[0m\n\u001b[1;32m    101\u001b[0m   \u001b[0mctx\u001b[0m\u001b[0;34m.\u001b[0m\u001b[0mensure_initialized\u001b[0m\u001b[0;34m(\u001b[0m\u001b[0;34m)\u001b[0m\u001b[0;34m\u001b[0m\u001b[0;34m\u001b[0m\u001b[0m\n\u001b[0;32m--> 102\u001b[0;31m   \u001b[0;32mreturn\u001b[0m \u001b[0mops\u001b[0m\u001b[0;34m.\u001b[0m\u001b[0mEagerTensor\u001b[0m\u001b[0;34m(\u001b[0m\u001b[0mvalue\u001b[0m\u001b[0;34m,\u001b[0m \u001b[0mctx\u001b[0m\u001b[0;34m.\u001b[0m\u001b[0mdevice_name\u001b[0m\u001b[0;34m,\u001b[0m \u001b[0mdtype\u001b[0m\u001b[0;34m)\u001b[0m\u001b[0;34m\u001b[0m\u001b[0;34m\u001b[0m\u001b[0m\n\u001b[0m\u001b[1;32m    103\u001b[0m \u001b[0;34m\u001b[0m\u001b[0m\n\u001b[1;32m    104\u001b[0m \u001b[0;34m\u001b[0m\u001b[0m\n",
            "\u001b[0;31mTypeError\u001b[0m: Cannot convert 'auto' to EagerTensor of dtype float"
          ]
        }
      ]
    },
    {
      "cell_type": "code",
      "source": [
        "ramp_grad = 0.025\n",
        "\n",
        "plt.plot([np.min([(epoch-ramp_start)*ramp_grad,1.0]) if epoch > ramp_start else 0.0 for epoch in range(0, epochs, 1)])"
      ],
      "metadata": {
        "colab": {
          "base_uri": "https://localhost:8080/",
          "height": 282
        },
        "id": "LvHTmwuFmUMW",
        "outputId": "4059cac1-1d8c-4a14-db85-ecd1144a62db"
      },
      "execution_count": 183,
      "outputs": [
        {
          "output_type": "execute_result",
          "data": {
            "text/plain": [
              "[<matplotlib.lines.Line2D at 0x7f9a60471640>]"
            ]
          },
          "metadata": {},
          "execution_count": 183
        },
        {
          "output_type": "display_data",
          "data": {
            "text/plain": [
              "<Figure size 432x288 with 1 Axes>"
            ],
            "image/png": "[encoded data removed]"
          },
          "metadata": {
            "needs_background": "light"
          }
        }
      ]
    },
    {
      "cell_type": "code",
      "source": [
        "loss = tf.keras.metrics.Mean()\n",
        "\n",
        "print(\"Running with\", epochs, \"epochs.\")\n",
        "\n",
        "for epoch in range(1, epochs + 1):\n",
        "    temp_train_r_loss, temp_train_kl_loss, temp_train_loss = 0.0, 0.0, 0.0\n",
        "    temp_test_r_loss, temp_test_kl_loss, temp_test_loss = 0.0, 0.0, 0.0\n",
        "\n",
        "    \n",
        "    \n",
        "    current_ramp = (np.min([(epoch-ramp_start)*ramp_grad,1.0]).astype(np.single) if epoch>ramp_start else 0.0)\n",
        "    \n",
        "    # print(ramp)\n",
        "    \n",
        "    for step, (x_batch_train, y_batch_train) in train_dataset.enumerate():\n",
        "        x_b = x_batch_train[:,:,0]\n",
        "        # print(\"x_batch, y_batch\", x_b.shape, y_batch_train.shape)    \n",
        "        temp_train_r_loss, temp_train_kl_loss, temp_train_loss = train_step(model, x_b, y_batch_train, optimizer, ramp=current_ramp)\n",
        "        train_loss[epoch - 1, 0] += temp_train_r_loss / len(train_dataset)\n",
        "        train_loss[epoch - 1, 1] += temp_train_kl_loss / len(train_dataset)\n",
        "        train_loss[epoch - 1, 2] += temp_train_loss / len(train_dataset)\n",
        "        \n",
        "    for step, (x_batch_test, y_batch_test) in test_dataset.enumerate():\n",
        "        x_b_t = x_batch_test[:,:,0]\n",
        "        temp_test_r_loss, temp_test_kl_loss = compute_loss(model, x_b_t, y_batch_test)\n",
        "        test_loss[epoch - 1, 0] += temp_test_r_loss / len(test_dataset)\n",
        "        test_loss[epoch - 1, 1] += temp_test_kl_loss / len(test_dataset)\n",
        "        # test_loss[epoch - 1, 2] += temp_test_loss / len(test_dataset)\n",
        "    \n",
        "    if epoch % 10 == 0:\n",
        "        print(\"epoch = %d; train loss = %.4e, train KL = %.4e; train total: %.4e; test loss = %.4e, test KL = %.4e\" % \\\n",
        "              (epoch, train_loss[epoch - 1, 0], train_loss[epoch - 1, 1], train_loss[epoch - 1, 2], \\\n",
        "               test_loss[epoch - 1, 0], test_loss[epoch - 1, 1]))\n"
      ],
      "metadata": {
        "colab": {
          "base_uri": "https://localhost:8080/",
          "height": 660
        },
        "id": "kCq66Kobly49",
        "outputId": "6aa059c3-9212-48cf-805e-a3c9aa202cae"
      },
      "execution_count": 184,
      "outputs": [
        {
          "output_type": "stream",
          "name": "stdout",
          "text": [
            "Running with 250 epochs.\n"
          ]
        },
        {
          "output_type": "error",
          "ename": "TypeError",
          "evalue": "ignored",
          "traceback": [
            "\u001b[0;31m---------------------------------------------------------------------------\u001b[0m",
            "\u001b[0;31mTypeError\u001b[0m                                 Traceback (most recent call last)",
            "\u001b[0;32m<ipython-input-184-f4e83a3d5888>\u001b[0m in \u001b[0;36m<module>\u001b[0;34m\u001b[0m\n\u001b[1;32m     16\u001b[0m         \u001b[0mx_b\u001b[0m \u001b[0;34m=\u001b[0m \u001b[0mx_batch_train\u001b[0m\u001b[0;34m[\u001b[0m\u001b[0;34m:\u001b[0m\u001b[0;34m,\u001b[0m\u001b[0;34m:\u001b[0m\u001b[0;34m,\u001b[0m\u001b[0;36m0\u001b[0m\u001b[0;34m]\u001b[0m\u001b[0;34m\u001b[0m\u001b[0;34m\u001b[0m\u001b[0m\n\u001b[1;32m     17\u001b[0m         \u001b[0;31m# print(\"x_batch, y_batch\", x_b.shape, y_batch_train.shape)\u001b[0m\u001b[0;34m\u001b[0m\u001b[0;34m\u001b[0m\u001b[0;34m\u001b[0m\u001b[0m\n\u001b[0;32m---> 18\u001b[0;31m         \u001b[0mtemp_train_r_loss\u001b[0m\u001b[0;34m,\u001b[0m \u001b[0mtemp_train_kl_loss\u001b[0m\u001b[0;34m,\u001b[0m \u001b[0mtemp_train_loss\u001b[0m \u001b[0;34m=\u001b[0m \u001b[0mtrain_step\u001b[0m\u001b[0;34m(\u001b[0m\u001b[0mmodel\u001b[0m\u001b[0;34m,\u001b[0m \u001b[0mx_b\u001b[0m\u001b[0;34m,\u001b[0m \u001b[0my_batch_train\u001b[0m\u001b[0;34m,\u001b[0m \u001b[0moptimizer\u001b[0m\u001b[0;34m,\u001b[0m \u001b[0mramp\u001b[0m\u001b[0;34m=\u001b[0m\u001b[0mcurrent_ramp\u001b[0m\u001b[0;34m)\u001b[0m\u001b[0;34m\u001b[0m\u001b[0;34m\u001b[0m\u001b[0m\n\u001b[0m\u001b[1;32m     19\u001b[0m         \u001b[0mtrain_loss\u001b[0m\u001b[0;34m[\u001b[0m\u001b[0mepoch\u001b[0m \u001b[0;34m-\u001b[0m \u001b[0;36m1\u001b[0m\u001b[0;34m,\u001b[0m \u001b[0;36m0\u001b[0m\u001b[0;34m]\u001b[0m \u001b[0;34m+=\u001b[0m \u001b[0mtemp_train_r_loss\u001b[0m \u001b[0;34m/\u001b[0m \u001b[0mlen\u001b[0m\u001b[0;34m(\u001b[0m\u001b[0mtrain_dataset\u001b[0m\u001b[0;34m)\u001b[0m\u001b[0;34m\u001b[0m\u001b[0;34m\u001b[0m\u001b[0m\n\u001b[1;32m     20\u001b[0m         \u001b[0mtrain_loss\u001b[0m\u001b[0;34m[\u001b[0m\u001b[0mepoch\u001b[0m \u001b[0;34m-\u001b[0m \u001b[0;36m1\u001b[0m\u001b[0;34m,\u001b[0m \u001b[0;36m1\u001b[0m\u001b[0;34m]\u001b[0m \u001b[0;34m+=\u001b[0m \u001b[0mtemp_train_kl_loss\u001b[0m \u001b[0;34m/\u001b[0m \u001b[0mlen\u001b[0m\u001b[0;34m(\u001b[0m\u001b[0mtrain_dataset\u001b[0m\u001b[0;34m)\u001b[0m\u001b[0;34m\u001b[0m\u001b[0;34m\u001b[0m\u001b[0m\n",
            "\u001b[0;32m/usr/local/lib/python3.8/dist-packages/tensorflow/python/util/traceback_utils.py\u001b[0m in \u001b[0;36merror_handler\u001b[0;34m(*args, **kwargs)\u001b[0m\n\u001b[1;32m    151\u001b[0m     \u001b[0;32mexcept\u001b[0m \u001b[0mException\u001b[0m \u001b[0;32mas\u001b[0m \u001b[0me\u001b[0m\u001b[0;34m:\u001b[0m\u001b[0;34m\u001b[0m\u001b[0;34m\u001b[0m\u001b[0m\n\u001b[1;32m    152\u001b[0m       \u001b[0mfiltered_tb\u001b[0m \u001b[0;34m=\u001b[0m \u001b[0m_process_traceback_frames\u001b[0m\u001b[0;34m(\u001b[0m\u001b[0me\u001b[0m\u001b[0;34m.\u001b[0m\u001b[0m__traceback__\u001b[0m\u001b[0;34m)\u001b[0m\u001b[0;34m\u001b[0m\u001b[0;34m\u001b[0m\u001b[0m\n\u001b[0;32m--> 153\u001b[0;31m       \u001b[0;32mraise\u001b[0m \u001b[0me\u001b[0m\u001b[0;34m.\u001b[0m\u001b[0mwith_traceback\u001b[0m\u001b[0;34m(\u001b[0m\u001b[0mfiltered_tb\u001b[0m\u001b[0;34m)\u001b[0m \u001b[0;32mfrom\u001b[0m \u001b[0;32mNone\u001b[0m\u001b[0;34m\u001b[0m\u001b[0;34m\u001b[0m\u001b[0m\n\u001b[0m\u001b[1;32m    154\u001b[0m     \u001b[0;32mfinally\u001b[0m\u001b[0;34m:\u001b[0m\u001b[0;34m\u001b[0m\u001b[0;34m\u001b[0m\u001b[0m\n\u001b[1;32m    155\u001b[0m       \u001b[0;32mdel\u001b[0m \u001b[0mfiltered_tb\u001b[0m\u001b[0;34m\u001b[0m\u001b[0;34m\u001b[0m\u001b[0m\n",
            "\u001b[0;32m/tmp/__autograph_generated_fileope3y0pc.py\u001b[0m in \u001b[0;36mtf__train_step\u001b[0;34m(model, x, y, optimizer, ramp)\u001b[0m\n\u001b[1;32m     10\u001b[0m                 \u001b[0mretval_\u001b[0m \u001b[0;34m=\u001b[0m \u001b[0mag__\u001b[0m\u001b[0;34m.\u001b[0m\u001b[0mUndefinedReturnValue\u001b[0m\u001b[0;34m(\u001b[0m\u001b[0;34m)\u001b[0m\u001b[0;34m\u001b[0m\u001b[0;34m\u001b[0m\u001b[0m\n\u001b[1;32m     11\u001b[0m                 \u001b[0;32mwith\u001b[0m \u001b[0mag__\u001b[0m\u001b[0;34m.\u001b[0m\u001b[0mld\u001b[0m\u001b[0;34m(\u001b[0m\u001b[0mtf\u001b[0m\u001b[0;34m)\u001b[0m\u001b[0;34m.\u001b[0m\u001b[0mGradientTape\u001b[0m\u001b[0;34m(\u001b[0m\u001b[0;34m)\u001b[0m \u001b[0;32mas\u001b[0m \u001b[0mtape\u001b[0m\u001b[0;34m:\u001b[0m\u001b[0;34m\u001b[0m\u001b[0;34m\u001b[0m\u001b[0m\n\u001b[0;32m---> 12\u001b[0;31m                     \u001b[0;34m(\u001b[0m\u001b[0mr_loss\u001b[0m\u001b[0;34m,\u001b[0m \u001b[0mkl_loss\u001b[0m\u001b[0;34m)\u001b[0m \u001b[0;34m=\u001b[0m \u001b[0mag__\u001b[0m\u001b[0;34m.\u001b[0m\u001b[0mconverted_call\u001b[0m\u001b[0;34m(\u001b[0m\u001b[0mag__\u001b[0m\u001b[0;34m.\u001b[0m\u001b[0mld\u001b[0m\u001b[0;34m(\u001b[0m\u001b[0mcompute_loss\u001b[0m\u001b[0;34m)\u001b[0m\u001b[0;34m,\u001b[0m \u001b[0;34m(\u001b[0m\u001b[0mag__\u001b[0m\u001b[0;34m.\u001b[0m\u001b[0mld\u001b[0m\u001b[0;34m(\u001b[0m\u001b[0mmodel\u001b[0m\u001b[0;34m)\u001b[0m\u001b[0;34m,\u001b[0m \u001b[0mag__\u001b[0m\u001b[0;34m.\u001b[0m\u001b[0mld\u001b[0m\u001b[0;34m(\u001b[0m\u001b[0mx\u001b[0m\u001b[0;34m)\u001b[0m\u001b[0;34m,\u001b[0m \u001b[0mag__\u001b[0m\u001b[0;34m.\u001b[0m\u001b[0mld\u001b[0m\u001b[0;34m(\u001b[0m\u001b[0my\u001b[0m\u001b[0;34m)\u001b[0m\u001b[0;34m)\u001b[0m\u001b[0;34m,\u001b[0m \u001b[0mdict\u001b[0m\u001b[0;34m(\u001b[0m\u001b[0mramp\u001b[0m\u001b[0;34m=\u001b[0m\u001b[0mag__\u001b[0m\u001b[0;34m.\u001b[0m\u001b[0mld\u001b[0m\u001b[0;34m(\u001b[0m\u001b[0mramp\u001b[0m\u001b[0;34m)\u001b[0m\u001b[0;34m)\u001b[0m\u001b[0;34m,\u001b[0m \u001b[0mfscope\u001b[0m\u001b[0;34m)\u001b[0m\u001b[0;34m\u001b[0m\u001b[0;34m\u001b[0m\u001b[0m\n\u001b[0m\u001b[1;32m     13\u001b[0m                     \u001b[0mloss\u001b[0m \u001b[0;34m=\u001b[0m \u001b[0;34m(\u001b[0m\u001b[0mag__\u001b[0m\u001b[0;34m.\u001b[0m\u001b[0mld\u001b[0m\u001b[0;34m(\u001b[0m\u001b[0mr_loss\u001b[0m\u001b[0;34m)\u001b[0m \u001b[0;34m+\u001b[0m \u001b[0;34m(\u001b[0m\u001b[0mag__\u001b[0m\u001b[0;34m.\u001b[0m\u001b[0mld\u001b[0m\u001b[0;34m(\u001b[0m\u001b[0mramp\u001b[0m\u001b[0;34m)\u001b[0m \u001b[0;34m*\u001b[0m \u001b[0mag__\u001b[0m\u001b[0;34m.\u001b[0m\u001b[0mld\u001b[0m\u001b[0;34m(\u001b[0m\u001b[0mkl_loss\u001b[0m\u001b[0;34m)\u001b[0m\u001b[0;34m)\u001b[0m\u001b[0;34m)\u001b[0m\u001b[0;34m\u001b[0m\u001b[0;34m\u001b[0m\u001b[0m\n\u001b[1;32m     14\u001b[0m                 \u001b[0mgradients\u001b[0m \u001b[0;34m=\u001b[0m \u001b[0mag__\u001b[0m\u001b[0;34m.\u001b[0m\u001b[0mconverted_call\u001b[0m\u001b[0;34m(\u001b[0m\u001b[0mag__\u001b[0m\u001b[0;34m.\u001b[0m\u001b[0mld\u001b[0m\u001b[0;34m(\u001b[0m\u001b[0mtape\u001b[0m\u001b[0;34m)\u001b[0m\u001b[0;34m.\u001b[0m\u001b[0mgradient\u001b[0m\u001b[0;34m,\u001b[0m \u001b[0;34m(\u001b[0m\u001b[0mag__\u001b[0m\u001b[0;34m.\u001b[0m\u001b[0mld\u001b[0m\u001b[0;34m(\u001b[0m\u001b[0mloss\u001b[0m\u001b[0;34m)\u001b[0m\u001b[0;34m,\u001b[0m \u001b[0mag__\u001b[0m\u001b[0;34m.\u001b[0m\u001b[0mld\u001b[0m\u001b[0;34m(\u001b[0m\u001b[0mmodel\u001b[0m\u001b[0;34m)\u001b[0m\u001b[0;34m.\u001b[0m\u001b[0mtrainable_variables\u001b[0m\u001b[0;34m)\u001b[0m\u001b[0;34m,\u001b[0m \u001b[0mdict\u001b[0m\u001b[0;34m(\u001b[0m\u001b[0munconnected_gradients\u001b[0m\u001b[0;34m=\u001b[0m\u001b[0mag__\u001b[0m\u001b[0;34m.\u001b[0m\u001b[0mld\u001b[0m\u001b[0;34m(\u001b[0m\u001b[0mtf\u001b[0m\u001b[0;34m)\u001b[0m\u001b[0;34m.\u001b[0m\u001b[0mUnconnectedGradients\u001b[0m\u001b[0;34m.\u001b[0m\u001b[0mZERO\u001b[0m\u001b[0;34m)\u001b[0m\u001b[0;34m,\u001b[0m \u001b[0mfscope\u001b[0m\u001b[0;34m)\u001b[0m\u001b[0;34m\u001b[0m\u001b[0;34m\u001b[0m\u001b[0m\n",
            "\u001b[0;32m/tmp/__autograph_generated_filemo1b4v2p.py\u001b[0m in \u001b[0;36mtf__compute_loss\u001b[0;34m(model, x, y, ramp, noiseamp)\u001b[0m\n\u001b[1;32m     27\u001b[0m                 \u001b[0mlog_r1_q\u001b[0m \u001b[0;34m=\u001b[0m \u001b[0mag__\u001b[0m\u001b[0;34m.\u001b[0m\u001b[0mconverted_call\u001b[0m\u001b[0;34m(\u001b[0m\u001b[0mag__\u001b[0m\u001b[0;34m.\u001b[0m\u001b[0mld\u001b[0m\u001b[0;34m(\u001b[0m\u001b[0mgm_r1\u001b[0m\u001b[0;34m)\u001b[0m\u001b[0;34m.\u001b[0m\u001b[0mlog_prob\u001b[0m\u001b[0;34m,\u001b[0m \u001b[0;34m(\u001b[0m\u001b[0mag__\u001b[0m\u001b[0;34m.\u001b[0m\u001b[0mld\u001b[0m\u001b[0;34m(\u001b[0m\u001b[0mz_samp\u001b[0m\u001b[0;34m)\u001b[0m\u001b[0;34m,\u001b[0m\u001b[0;34m)\u001b[0m\u001b[0;34m,\u001b[0m \u001b[0;32mNone\u001b[0m\u001b[0;34m,\u001b[0m \u001b[0mfscope\u001b[0m\u001b[0;34m)\u001b[0m\u001b[0;34m\u001b[0m\u001b[0;34m\u001b[0m\u001b[0m\n\u001b[1;32m     28\u001b[0m                 \u001b[0mcost_KL\u001b[0m \u001b[0;34m=\u001b[0m \u001b[0;34m(\u001b[0m\u001b[0mag__\u001b[0m\u001b[0;34m.\u001b[0m\u001b[0mld\u001b[0m\u001b[0;34m(\u001b[0m\u001b[0mselfent_q\u001b[0m\u001b[0;34m)\u001b[0m \u001b[0;34m-\u001b[0m \u001b[0mag__\u001b[0m\u001b[0;34m.\u001b[0m\u001b[0mconverted_call\u001b[0m\u001b[0;34m(\u001b[0m\u001b[0mag__\u001b[0m\u001b[0;34m.\u001b[0m\u001b[0mld\u001b[0m\u001b[0;34m(\u001b[0m\u001b[0mtf\u001b[0m\u001b[0;34m)\u001b[0m\u001b[0;34m.\u001b[0m\u001b[0mreduce_mean\u001b[0m\u001b[0;34m,\u001b[0m \u001b[0;34m(\u001b[0m\u001b[0mag__\u001b[0m\u001b[0;34m.\u001b[0m\u001b[0mld\u001b[0m\u001b[0;34m(\u001b[0m\u001b[0mlog_r1_q\u001b[0m\u001b[0;34m)\u001b[0m\u001b[0;34m,\u001b[0m\u001b[0;34m)\u001b[0m\u001b[0;34m,\u001b[0m \u001b[0;32mNone\u001b[0m\u001b[0;34m,\u001b[0m \u001b[0mfscope\u001b[0m\u001b[0;34m)\u001b[0m\u001b[0;34m)\u001b[0m\u001b[0;34m\u001b[0m\u001b[0;34m\u001b[0m\u001b[0m\n\u001b[0;32m---> 29\u001b[0;31m                 \u001b[0mmse\u001b[0m \u001b[0;34m=\u001b[0m \u001b[0mag__\u001b[0m\u001b[0;34m.\u001b[0m\u001b[0mconverted_call\u001b[0m\u001b[0;34m(\u001b[0m\u001b[0mag__\u001b[0m\u001b[0;34m.\u001b[0m\u001b[0mld\u001b[0m\u001b[0;34m(\u001b[0m\u001b[0mMeanSquaredError\u001b[0m\u001b[0;34m)\u001b[0m\u001b[0;34m,\u001b[0m \u001b[0;34m(\u001b[0m\u001b[0mag__\u001b[0m\u001b[0;34m.\u001b[0m\u001b[0mld\u001b[0m\u001b[0;34m(\u001b[0m\u001b[0mmean_r2\u001b[0m\u001b[0;34m)\u001b[0m\u001b[0;34m,\u001b[0m \u001b[0mag__\u001b[0m\u001b[0;34m.\u001b[0m\u001b[0mld\u001b[0m\u001b[0;34m(\u001b[0m\u001b[0mx\u001b[0m\u001b[0;34m)\u001b[0m\u001b[0;34m)\u001b[0m\u001b[0;34m,\u001b[0m \u001b[0;32mNone\u001b[0m\u001b[0;34m,\u001b[0m \u001b[0mfscope\u001b[0m\u001b[0;34m)\u001b[0m\u001b[0;34m\u001b[0m\u001b[0;34m\u001b[0m\u001b[0m\n\u001b[0m\u001b[1;32m     30\u001b[0m                 \u001b[0;32mtry\u001b[0m\u001b[0;34m:\u001b[0m\u001b[0;34m\u001b[0m\u001b[0;34m\u001b[0m\u001b[0m\n\u001b[1;32m     31\u001b[0m                     \u001b[0mdo_return\u001b[0m \u001b[0;34m=\u001b[0m \u001b[0;32mTrue\u001b[0m\u001b[0;34m\u001b[0m\u001b[0;34m\u001b[0m\u001b[0m\n",
            "\u001b[0;32m/usr/local/lib/python3.8/dist-packages/keras/losses.py\u001b[0m in \u001b[0;36m__init__\u001b[0;34m(self, reduction, name)\u001b[0m\n\u001b[1;32m    306\u001b[0m       \u001b[0mname\u001b[0m\u001b[0;34m:\u001b[0m \u001b[0mOptional\u001b[0m \u001b[0mname\u001b[0m \u001b[0;32mfor\u001b[0m \u001b[0mthe\u001b[0m \u001b[0minstance\u001b[0m\u001b[0;34m.\u001b[0m \u001b[0mDefaults\u001b[0m \u001b[0mto\u001b[0m \u001b[0;34m'mean_squared_error'\u001b[0m\u001b[0;34m.\u001b[0m\u001b[0;34m\u001b[0m\u001b[0;34m\u001b[0m\u001b[0m\n\u001b[1;32m    307\u001b[0m     \"\"\"\n\u001b[0;32m--> 308\u001b[0;31m     \u001b[0msuper\u001b[0m\u001b[0;34m(\u001b[0m\u001b[0;34m)\u001b[0m\u001b[0;34m.\u001b[0m\u001b[0m__init__\u001b[0m\u001b[0;34m(\u001b[0m\u001b[0mmean_squared_error\u001b[0m\u001b[0;34m,\u001b[0m \u001b[0mname\u001b[0m\u001b[0;34m=\u001b[0m\u001b[0mname\u001b[0m\u001b[0;34m,\u001b[0m \u001b[0mreduction\u001b[0m\u001b[0;34m=\u001b[0m\u001b[0mreduction\u001b[0m\u001b[0;34m)\u001b[0m\u001b[0;34m\u001b[0m\u001b[0;34m\u001b[0m\u001b[0m\n\u001b[0m\u001b[1;32m    309\u001b[0m \u001b[0;34m\u001b[0m\u001b[0m\n\u001b[1;32m    310\u001b[0m \u001b[0;34m\u001b[0m\u001b[0m\n",
            "\u001b[0;32m/usr/local/lib/python3.8/dist-packages/keras/losses.py\u001b[0m in \u001b[0;36m__init__\u001b[0;34m(self, fn, reduction, name, **kwargs)\u001b[0m\n\u001b[1;32m    223\u001b[0m       \u001b[0;34m**\u001b[0m\u001b[0mkwargs\u001b[0m\u001b[0;34m:\u001b[0m \u001b[0mThe\u001b[0m \u001b[0mkeyword\u001b[0m \u001b[0marguments\u001b[0m \u001b[0mthat\u001b[0m \u001b[0mare\u001b[0m \u001b[0mpassed\u001b[0m \u001b[0mon\u001b[0m \u001b[0mto\u001b[0m\u001b[0;31m \u001b[0m\u001b[0;31m`\u001b[0m\u001b[0mfn\u001b[0m\u001b[0;31m`\u001b[0m\u001b[0;34m.\u001b[0m\u001b[0;34m\u001b[0m\u001b[0;34m\u001b[0m\u001b[0m\n\u001b[1;32m    224\u001b[0m     \"\"\"\n\u001b[0;32m--> 225\u001b[0;31m     \u001b[0msuper\u001b[0m\u001b[0;34m(\u001b[0m\u001b[0;34m)\u001b[0m\u001b[0;34m.\u001b[0m\u001b[0m__init__\u001b[0m\u001b[0;34m(\u001b[0m\u001b[0mreduction\u001b[0m\u001b[0;34m=\u001b[0m\u001b[0mreduction\u001b[0m\u001b[0;34m,\u001b[0m \u001b[0mname\u001b[0m\u001b[0;34m=\u001b[0m\u001b[0mname\u001b[0m\u001b[0;34m)\u001b[0m\u001b[0;34m\u001b[0m\u001b[0;34m\u001b[0m\u001b[0m\n\u001b[0m\u001b[1;32m    226\u001b[0m     \u001b[0mself\u001b[0m\u001b[0;34m.\u001b[0m\u001b[0mfn\u001b[0m \u001b[0;34m=\u001b[0m \u001b[0mfn\u001b[0m\u001b[0;34m\u001b[0m\u001b[0;34m\u001b[0m\u001b[0m\n\u001b[1;32m    227\u001b[0m     \u001b[0mself\u001b[0m\u001b[0;34m.\u001b[0m\u001b[0m_fn_kwargs\u001b[0m \u001b[0;34m=\u001b[0m \u001b[0mkwargs\u001b[0m\u001b[0;34m\u001b[0m\u001b[0;34m\u001b[0m\u001b[0m\n",
            "\u001b[0;32m/usr/local/lib/python3.8/dist-packages/keras/losses.py\u001b[0m in \u001b[0;36m__init__\u001b[0;34m(self, reduction, name)\u001b[0m\n\u001b[1;32m     84\u001b[0m       \u001b[0mname\u001b[0m\u001b[0;34m:\u001b[0m \u001b[0mOptional\u001b[0m \u001b[0mname\u001b[0m \u001b[0;32mfor\u001b[0m \u001b[0mthe\u001b[0m \u001b[0minstance\u001b[0m\u001b[0;34m.\u001b[0m\u001b[0;34m\u001b[0m\u001b[0;34m\u001b[0m\u001b[0m\n\u001b[1;32m     85\u001b[0m     \"\"\"\n\u001b[0;32m---> 86\u001b[0;31m     \u001b[0mlosses_utils\u001b[0m\u001b[0;34m.\u001b[0m\u001b[0mReductionV2\u001b[0m\u001b[0;34m.\u001b[0m\u001b[0mvalidate\u001b[0m\u001b[0;34m(\u001b[0m\u001b[0mreduction\u001b[0m\u001b[0;34m)\u001b[0m\u001b[0;34m\u001b[0m\u001b[0;34m\u001b[0m\u001b[0m\n\u001b[0m\u001b[1;32m     87\u001b[0m     \u001b[0mself\u001b[0m\u001b[0;34m.\u001b[0m\u001b[0mreduction\u001b[0m \u001b[0;34m=\u001b[0m \u001b[0mreduction\u001b[0m\u001b[0;34m\u001b[0m\u001b[0;34m\u001b[0m\u001b[0m\n\u001b[1;32m     88\u001b[0m     \u001b[0mself\u001b[0m\u001b[0;34m.\u001b[0m\u001b[0mname\u001b[0m \u001b[0;34m=\u001b[0m \u001b[0mname\u001b[0m\u001b[0;34m\u001b[0m\u001b[0;34m\u001b[0m\u001b[0m\n",
            "\u001b[0;32m/usr/local/lib/python3.8/dist-packages/keras/utils/losses_utils.py\u001b[0m in \u001b[0;36mvalidate\u001b[0;34m(cls, key)\u001b[0m\n\u001b[1;32m     81\u001b[0m   \u001b[0;34m@\u001b[0m\u001b[0mclassmethod\u001b[0m\u001b[0;34m\u001b[0m\u001b[0;34m\u001b[0m\u001b[0m\n\u001b[1;32m     82\u001b[0m   \u001b[0;32mdef\u001b[0m \u001b[0mvalidate\u001b[0m\u001b[0;34m(\u001b[0m\u001b[0mcls\u001b[0m\u001b[0;34m,\u001b[0m \u001b[0mkey\u001b[0m\u001b[0;34m)\u001b[0m\u001b[0;34m:\u001b[0m\u001b[0;34m\u001b[0m\u001b[0;34m\u001b[0m\u001b[0m\n\u001b[0;32m---> 83\u001b[0;31m     \u001b[0;32mif\u001b[0m \u001b[0mkey\u001b[0m \u001b[0;32mnot\u001b[0m \u001b[0;32min\u001b[0m \u001b[0mcls\u001b[0m\u001b[0;34m.\u001b[0m\u001b[0mall\u001b[0m\u001b[0;34m(\u001b[0m\u001b[0;34m)\u001b[0m\u001b[0;34m:\u001b[0m\u001b[0;34m\u001b[0m\u001b[0;34m\u001b[0m\u001b[0m\n\u001b[0m\u001b[1;32m     84\u001b[0m       raise ValueError(\n\u001b[1;32m     85\u001b[0m           f'Invalid Reduction Key: {key}. Expected keys are \"{cls.all()}\"')\n",
            "\u001b[0;31mTypeError\u001b[0m: in user code:\n\n    File \"<ipython-input-173-1333b49e02d5>\", line 10, in train_step  *\n        r_loss, kl_loss = compute_loss(model, x, y, ramp=ramp)\n    File \"<ipython-input-172-5ac1118223e9>\", line 122, in compute_loss  *\n        mse = MeanSquaredError(mean_r2, x)\n    File \"/usr/local/lib/python3.8/dist-packages/keras/losses.py\", line 308, in __init__  **\n        super().__init__(mean_squared_error, name=name, reduction=reduction)\n    File \"/usr/local/lib/python3.8/dist-packages/keras/losses.py\", line 225, in __init__\n        super().__init__(reduction=reduction, name=name)\n    File \"/usr/local/lib/python3.8/dist-packages/keras/losses.py\", line 86, in __init__\n        losses_utils.ReductionV2.validate(reduction)\n    File \"/usr/local/lib/python3.8/dist-packages/keras/utils/losses_utils.py\", line 83, in validate\n        if key not in cls.all():\n\n    TypeError: Expected float32 passed to parameter 'y' of op 'Equal', got 'auto' of type 'str' instead. Error: Expected float32, but got auto of type 'str'.\n"
          ]
        }
      ]
    },
    {
      "cell_type": "code",
      "source": [
        "plt.figure(figsize=(10, 5), dpi=150)\n",
        "\n",
        "plt.subplot(121)\n",
        "plt.plot(train_loss[:,0], label=\"Train R Loss\")\n",
        "# plt.plot(test_loss[:,0], label=\"Test R Loss\")\n",
        "plt.plot(train_loss[:,1], label=\"Train KL Loss\")\n",
        "plt.plot(train_loss[:,2], label=\"Train Total Loss\")\n",
        "\n",
        "# plt.ylim(0, 0.1)\n",
        "\n",
        "plt.legend()\n",
        "# plt.yscale('log')\n",
        "\n",
        "plt.subplot(122)\n",
        "plt.plot(test_loss[:,0], label=\"Test R Loss\")\n",
        "plt.plot(test_loss[:,1], label=\"Test KL Loss\")\n",
        "\n",
        "# plt.ylim(0, 0.15)\n",
        "\n",
        "plt.legend()\n",
        "# plt.yscale('log')"
      ],
      "metadata": {
        "colab": {
          "base_uri": "https://localhost:8080/",
          "height": 664
        },
        "id": "7CONJyTtmIGt",
        "outputId": "f51a675f-6642-4aa2-dcb2-08bb9a20b6db"
      },
      "execution_count": 55,
      "outputs": [
        {
          "output_type": "execute_result",
          "data": {
            "text/plain": [
              "<matplotlib.legend.Legend at 0x7f9a68d668e0>"
            ]
          },
          "metadata": {},
          "execution_count": 55
        },
        {
          "output_type": "display_data",
          "data": {
            "text/plain": [
              "<Figure size 1500x750 with 2 Axes>"
            ],
            "image/png": "[encoded data removed]"
          },
          "metadata": {
            "needs_background": "light"
          }
        }
      ]
    },
    {
      "cell_type": "code",
      "source": [
        "def gen_z_samples(model, x, y, nsamples=1000):\n",
        "    \n",
        "    y = y / params['y_normscale']\n",
        "    y = tf.tile(y,(nsamples, 1, 1))\n",
        "    x = tf.tile(x,(nsamples, 1))\n",
        "    \n",
        "    mean_r1, logvar_r1, logweight_r1 = model.encode_r1(y=y)\n",
        "    \n",
        "    scale_r1 = EPS + tf.sqrt(tf.exp(logvar_r1))\n",
        "    \n",
        "    gm_r1 = tfd.MixtureSameFamily(mixture_distribution=tfd.Categorical(logits=logweight_r1),\n",
        "            components_distribution=tfd.MultivariateNormalDiag(\n",
        "            loc=mean_r1,\n",
        "            scale_diag=scale_r1))\n",
        "    \n",
        "    z_samp_r1 = gm_r1.sample()\n",
        "    \n",
        "    mean_q, logvar_q = model.encode_q(x=x,y=y)\n",
        "    \n",
        "    scale_q = EPS + tf.sqrt(tf.exp(logvar_q))\n",
        "    mvn_q = tfp.distributions.MultivariateNormalDiag(\n",
        "                          loc=mean_q,\n",
        "                          scale_diag=scale_q)\n",
        "    \n",
        "    z_samp_q = mvn_q.sample()    \n",
        "    \n",
        "    return mean_r1, z_samp_r1, mean_q, z_samp_q"
      ],
      "metadata": {
        "id": "9BlnypwCFwEh"
      },
      "execution_count": 111,
      "outputs": []
    },
    {
      "cell_type": "code",
      "source": [
        "def gen_samples(model, y, ramp=1.0, nsamples=100, max_samples=10):    # Generate samples from (test) y.\n",
        "\n",
        "    y = y\n",
        "    y = tf.tile(y, (max_samples, 1, 1, 1))\n",
        "    \n",
        "    samp_iterations = int(nsamples / max_samples)\n",
        "\n",
        "    print(\"samp_iterations\", samp_iterations)\n",
        "    \n",
        "    x_sample = []\n",
        "    for i in range(samp_iterations):\n",
        "        mean_r1, logvar_r1, logweight_r1 = model.encode_r1(y=y) # Encode y to get z.\n",
        "        scale_r1 = EPS + tf.sqrt(tf.exp(logvar_r1))\n",
        "        \n",
        "        gm_r1 = tfd.MixtureSameFamily(mixture_distribution=tfd.Categorical(logits=logweight_r1),\n",
        "            components_distribution=tfd.MultivariateNormalDiag(\n",
        "            loc=mean_r1,\n",
        "            scale_diag=scale_r1))\n",
        "        \n",
        "        z_samp = gm_r1.sample()   # Sample a z_samp.\n",
        "        \n",
        "        mean_r2, logvar_r2, logweight_r2 = model.decode_r2(z=z_samp,y=y)  # Decode (z_samp, y) => x\n",
        "        scale_r2 = EPS + tf.sqrt(tf.exp(logvar_r2))\n",
        "        \n",
        "        gm_r2 = tfd.MixtureSameFamily(mixture_distribution=tfd.Categorical(logits=logweight_r2),    \n",
        "            components_distribution=tfd.MultivariateNormalDiag(\n",
        "            loc=mean_r2,\n",
        "            scale_diag=scale_r2))\n",
        "\n",
        "        current_sample = gm_r2.sample()\n",
        "        # current_sample_inverse_transformed = x_scaler.inverse_transform(current_sample)\n",
        "\n",
        "        if i == 0:\n",
        "            x_sample = current_sample   # Sample an x.\n",
        "        else:\n",
        "            x_sample = tf.concat([x_sample, current_sample],axis=0)\n",
        "\n",
        "\n",
        "    return np.array(x_sample)\n"
      ],
      "metadata": {
        "id": "xu5RKouJF0yU"
      },
      "execution_count": 119,
      "outputs": []
    },
    {
      "cell_type": "code",
      "source": [
        "bounds = {'frequency_min': fmin, 'frequency_max': fmax}\n",
        "\n",
        "defaults_kwargs = dict(\n",
        "                    bins=50, smooth=0.9, label_kwargs=dict(fontsize=16),\n",
        "                    title_kwargs=dict(fontsize=16), quantiles=[0.16, 0.84],\n",
        "                    levels=(0.68,0.90,0.95), density=True,\n",
        "                    plot_density=False, plot_datapoints=True,\n",
        "                    max_n_ticks=5)\n",
        "\n",
        "\n",
        "hist_kwargs = dict(density=True)\n",
        "hist_kwargs_other = dict(density=True)"
      ],
      "metadata": {
        "id": "3TRdoujQF2dR"
      },
      "execution_count": 147,
      "outputs": []
    },
    {
      "cell_type": "code",
      "source": [
        "plot_dir = \"./\"\n",
        "params['n_samples'] = 1000\n",
        "\n",
        "run = plot_dir"
      ],
      "metadata": {
        "id": "ZN-P1UPxF6L1"
      },
      "execution_count": 161,
      "outputs": []
    },
    {
      "cell_type": "code",
      "source": [
        "params['corner_labels'] = {'frequency': 'frequency', 'fdot': 'fdot', 'fdotdot': 'fdotdot', 'Omega': 'Omega', 'a_p': 'a_p', 'bin': 'bin'}"
      ],
      "metadata": {
        "id": "_Y1REeOXIyDD"
      },
      "execution_count": 162,
      "outputs": []
    },
    {
      "cell_type": "code",
      "source": [
        "# invert_scaling(x, max_value, min_value)\n",
        "\n",
        "min_max_values = [(fmin, fmax), (f1min, f1max), (f2min, f2max), (omega_min, omega_max), (ap_min, ap_max), (0, 90)]\n",
        "\n",
        "min_max_values"
      ],
      "metadata": {
        "colab": {
          "base_uri": "https://localhost:8080/"
        },
        "id": "PKTKnwmgiAFf",
        "outputId": "482e755c-ab3f-49e5-d502-a8a2fc64b1fb"
      },
      "execution_count": 163,
      "outputs": [
        {
          "output_type": "execute_result",
          "data": {
            "text/plain": [
              "[(19.95, 20.05), (-8, -6), (-13, -12), (-10, -5), (0.0, 2.0), (0, 90)]"
            ]
          },
          "metadata": {},
          "execution_count": 163
        }
      ]
    },
    {
      "cell_type": "code",
      "source": [
        "def generate_posterior(dataset):\n",
        "\n",
        "  for step, (x_batch, y_batch) in dataset.enumerate():\n",
        "\n",
        "      if step > 1:\n",
        "        break\n",
        "\n",
        "      samples = gen_samples(model, y_batch, ramp=1.0, nsamples=params['n_samples'], max_samples=100)\n",
        "\n",
        "      print('Epoch: {}, run {} Testing time elapsed for {} samples.'.format(epoch, run, params['n_samples']))\n",
        "\n",
        "      # print(np.mean(samples), np.mean(x_truth))\n",
        "      # print(samples)\n",
        "\n",
        "      # x_truth = x_scaler.inverse_transform(x_batch)\n",
        "      # x_truth = np.expand_dims(x_scaler.inverse_transform(x_batch[:,:,0]), -1)\n",
        "\n",
        "      # x_batch[:,:-1]\n",
        "      x_truth = x_batch    # Exclude the very last parameter\n",
        "\n",
        "      # tf.reduce_mean(x_truth[:,:,0], axis=(0))\n",
        "\n",
        "      sample_mean = tf.math.reduce_mean(samples, axis=0)\n",
        "      sample_std = tf.math.reduce_std(samples, axis=0)\n",
        "      x_truth_mean = tf.math.reduce_mean(x_truth[:,:,0], axis=0)\n",
        "      x_truth_std = tf.math.reduce_std(x_truth[:,:,0], axis=0)\n",
        "\n",
        "      # print(type(sample_mean), type(x_truth_mean))\n",
        "      # diff = 100 * np.abs(sample_mean - x_truth_mean) / x_truth_mean\n",
        "      diff = -1\n",
        "\n",
        "      # print(\"Mean of sample = %.2f (%.2f); mean of truth = %.2f (%.2f); difference = %.2f percent.\" % (sample_mean, sample_std, x_truth_mean, x_truth_std, diff))\n",
        "      \n",
        "      # print(\"Mean of sample = \", end=\"\\t\")\n",
        "      # print(sample_mean)\n",
        "      # print(\" x truth mean = \", end=\"\\t\")\n",
        "      # print(x_truth_mean)\n",
        "      # print(\" diff = \", end=\"\\t\")\n",
        "      # print(diff)\n",
        "      \n",
        "\n",
        "      # print(params['corner_labels'])\n",
        "      # Get corner parnames to use in plotting labels\n",
        "      parnames = []\n",
        "      for k_idx, k in enumerate(params['rand_pars']):\n",
        "          # print(k_idx, k)\n",
        "          if np.isin(k, params['inf_pars']):\n",
        "              parnames.append(params['corner_labels'][k])\n",
        "\n",
        "      full_true_x = np.zeros(x_truth.shape[1:])\n",
        "      new_samples = np.zeros([samples.shape[0], len(params['inf_pars'])])\n",
        "\n",
        "      # print(full_true_x.shape)\n",
        "      # print(x_truth[0].shape)\n",
        "      for inf_par_idx, inf_par in enumerate(params['inf_pars']):\n",
        "        min_max_value = min_max_values[inf_par_idx]\n",
        "        # print(inf_par_idx)\n",
        "        new_samples[:,inf_par_idx] = invert_scaling(samples[:,inf_par_idx], min_max_value[0], min_max_value[1])\n",
        "        # print(min_max_value)\n",
        "        # print(new_samples[:,inf_par_idx][0:5])\n",
        "        # break\n",
        "        full_true_x[inf_par_idx] = invert_scaling(x_truth[0, inf_par_idx, 0], min_max_value[0], min_max_value[1])\n",
        "      \n",
        "      # print(\"Full true x = \", full_true_x[:,0])\n",
        "      # plt.subplot(width, height, step + 1)\n",
        "      # figure = corner.corner(new_samples, **defaults_kwargs,labels=parnames,\n",
        "      #                   color='tab:red',\n",
        "      #                   fill_contours=True, truths=full_true_x[:,0],\n",
        "      #                   show_titles=True, hist_kwargs=hist_kwargs)\n",
        "\n",
        "      figure = corner.corner(new_samples, \n",
        "                             labels=parnames, \n",
        "                             **defaults_kwargs,\n",
        "                             fill_contours=True,\n",
        "                             show_titles=True,\n",
        "                             hist_kwargs=hist_kwargs\n",
        "                             )\n",
        "      \n",
        "      figure.suptitle(\" \".join([f\"{t:.2f}\" for t in full_true_x[:,0]]))\n",
        "\n",
        "      value1 = full_true_x[:,0]\n",
        "      value2 = np.mean(new_samples, axis=0)\n",
        "\n",
        "      ndim = len(params['inf_pars'])\n",
        "      # Extract the axes\n",
        "      axes = np.array(figure.axes).reshape((ndim, ndim))\n",
        "\n",
        "      # Loop over the diagonal\n",
        "      for i in range(ndim):\n",
        "          ax = axes[i, i]\n",
        "          ax.axvline(value1[i], color=\"g\")\n",
        "          ax.axvline(value2[i], color=\"r\")\n",
        "\n",
        "          min_max_value = min_max_values[i]\n",
        "          ax.set_xlim(min_max_value[0], min_max_value[1])\n",
        "\n",
        "      # Loop over the histograms\n",
        "      for yi in range(ndim):\n",
        "          for xi in range(yi):\n",
        "              ax = axes[yi, xi]\n",
        "              ax.axvline(value1[xi], color=\"g\")\n",
        "              ax.axvline(value2[xi], color=\"r\")\n",
        "              ax.axhline(value1[yi], color=\"g\")\n",
        "              ax.axhline(value2[yi], color=\"r\")\n",
        "              ax.plot(value1[xi], value1[yi], \"sg\")\n",
        "              ax.plot(value2[xi], value2[yi], \"sr\")\n",
        "\n",
        "              min_max_value_for_x = min_max_values[xi]\n",
        "              min_max_value_for_y = min_max_values[yi]\n",
        "\n",
        "              ax.set_xlim(min_max_value_for_x[0], min_max_value_for_x[1])\n",
        "              ax.set_ylim(min_max_value_for_y[0], min_max_value_for_y[1])\n",
        "              \n",
        "      figure.set_tight_layout(True)\n",
        "\n",
        "      break"
      ],
      "metadata": {
        "id": "87p4II7XF6a5"
      },
      "execution_count": 164,
      "outputs": []
    },
    {
      "cell_type": "code",
      "source": [
        "generate_posterior(train_dataset)"
      ],
      "metadata": {
        "colab": {
          "base_uri": "https://localhost:8080/",
          "height": 1000
        },
        "id": "VRlfM4zNGJkr",
        "outputId": "93938042-d709-40a5-a058-d39c94a17f44"
      },
      "execution_count": 165,
      "outputs": [
        {
          "output_type": "stream",
          "name": "stdout",
          "text": [
            "samp_iterations 10\n",
            "Epoch: 250, run ./ Testing time elapsed for 1000 samples.\n"
          ]
        },
        {
          "output_type": "display_data",
          "data": {
            "text/plain": [
              "<Figure size 1000.8x1000.8 with 36 Axes>"
            ],
            "image/png": "[encoded data removed]"
          },
          "metadata": {
            "needs_background": "light"
          }
        }
      ]
    },
    {
      "cell_type": "code",
      "source": [
        "params['inf_pars']"
      ],
      "metadata": {
        "colab": {
          "base_uri": "https://localhost:8080/"
        },
        "id": "H1uN0uQZjyas",
        "outputId": "0374a41e-18b0-4b68-f6e2-da898ef79065"
      },
      "execution_count": 166,
      "outputs": [
        {
          "output_type": "execute_result",
          "data": {
            "text/plain": [
              "ListWrapper(['frequency', 'fdot', 'fdotdot', 'Omega', 'a_p', 'bin'])"
            ]
          },
          "metadata": {},
          "execution_count": 166
        }
      ]
    },
    {
      "cell_type": "code",
      "source": [
        "generate_posterior(test_dataset)"
      ],
      "metadata": {
        "colab": {
          "base_uri": "https://localhost:8080/",
          "height": 1000
        },
        "id": "wvQmLTNTHK_K",
        "outputId": "e8e00e95-3e86-4bcf-e7b6-9dbf969ee262"
      },
      "execution_count": 167,
      "outputs": [
        {
          "output_type": "stream",
          "name": "stdout",
          "text": [
            "samp_iterations 10\n",
            "Epoch: 250, run ./ Testing time elapsed for 1000 samples.\n"
          ]
        },
        {
          "output_type": "display_data",
          "data": {
            "text/plain": [
              "<Figure size 1000.8x1000.8 with 36 Axes>"
            ],
            "image/png": "[encoded data removed]"
          },
          "metadata": {
            "needs_background": "light"
          }
        }
      ]
    },
    {
      "cell_type": "code",
      "source": [
        "x_s.shape"
      ],
      "metadata": {
        "id": "47ytbwagZc5m",
        "colab": {
          "base_uri": "https://localhost:8080/"
        },
        "outputId": "4aeb7121-0bd5-4c6f-f6bc-94bcfee3dd49"
      },
      "execution_count": 168,
      "outputs": [
        {
          "output_type": "execute_result",
          "data": {
            "text/plain": [
              "(200, 6)"
            ]
          },
          "metadata": {},
          "execution_count": 168
        }
      ]
    },
    {
      "cell_type": "code",
      "source": [
        "for step, (x_batch, y_batch) in train_dataset.enumerate():\n",
        "\n",
        "  print(x_batch.shape)\n",
        "  print(x_batch[:,0,:])"
      ],
      "metadata": {
        "id": "aso1fe0iaghE",
        "colab": {
          "base_uri": "https://localhost:8080/"
        },
        "outputId": "9bbaa15b-b0d4-48e0-d1ca-47387459759c"
      },
      "execution_count": 169,
      "outputs": [
        {
          "output_type": "stream",
          "name": "stdout",
          "text": [
            "(8, 6, 1)\n",
            "tf.Tensor(\n",
            "[[0.57988375]\n",
            " [0.541707  ]\n",
            " [0.5303676 ]\n",
            " [0.3779866 ]\n",
            " [0.56959975]\n",
            " [0.32504353]\n",
            " [0.4228608 ]\n",
            " [0.74942905]], shape=(8, 1), dtype=float32)\n",
            "(8, 6, 1)\n",
            "tf.Tensor(\n",
            "[[0.36658612]\n",
            " [0.7061891 ]\n",
            " [0.25173813]\n",
            " [0.52368164]\n",
            " [0.5147512 ]\n",
            " [0.3873135 ]\n",
            " [0.620879  ]\n",
            " [0.6315707 ]], shape=(8, 1), dtype=float32)\n",
            "(8, 6, 1)\n",
            "tf.Tensor(\n",
            "[[0.42365465]\n",
            " [0.62222856]\n",
            " [0.5889463 ]\n",
            " [0.5941349 ]\n",
            " [0.36600217]\n",
            " [0.68047804]\n",
            " [0.27138034]\n",
            " [0.5851861 ]], shape=(8, 1), dtype=float32)\n",
            "(8, 6, 1)\n",
            "tf.Tensor(\n",
            "[[0.31970775]\n",
            " [0.34134436]\n",
            " [0.48076203]\n",
            " [0.2609703 ]\n",
            " [0.503423  ]\n",
            " [0.38738182]\n",
            " [0.3835733 ]\n",
            " [0.32148805]], shape=(8, 1), dtype=float32)\n",
            "(8, 6, 1)\n",
            "tf.Tensor(\n",
            "[[0.73696643]\n",
            " [0.2523156 ]\n",
            " [0.35082448]\n",
            " [0.27188107]\n",
            " [0.2823504 ]\n",
            " [0.44358113]\n",
            " [0.27461773]\n",
            " [0.4127099 ]], shape=(8, 1), dtype=float32)\n",
            "(8, 6, 1)\n",
            "tf.Tensor(\n",
            "[[0.64200455]\n",
            " [0.59423256]\n",
            " [0.5449555 ]\n",
            " [0.44059715]\n",
            " [0.7400903 ]\n",
            " [0.62963206]\n",
            " [0.30486023]\n",
            " [0.62202185]], shape=(8, 1), dtype=float32)\n",
            "(8, 6, 1)\n",
            "tf.Tensor(\n",
            "[[0.26335132]\n",
            " [0.37831596]\n",
            " [0.34830368]\n",
            " [0.5420486 ]\n",
            " [0.74007314]\n",
            " [0.269815  ]\n",
            " [0.63043374]\n",
            " [0.6696468 ]], shape=(8, 1), dtype=float32)\n",
            "(8, 6, 1)\n",
            "tf.Tensor(\n",
            "[[0.54983515]\n",
            " [0.43068787]\n",
            " [0.37891144]\n",
            " [0.3412922 ]\n",
            " [0.34116936]\n",
            " [0.58953416]\n",
            " [0.28410977]\n",
            " [0.68135285]], shape=(8, 1), dtype=float32)\n",
            "(8, 6, 1)\n",
            "tf.Tensor(\n",
            "[[0.38939983]\n",
            " [0.37860993]\n",
            " [0.62473077]\n",
            " [0.54378164]\n",
            " [0.2795472 ]\n",
            " [0.42033076]\n",
            " [0.7417184 ]\n",
            " [0.26011932]], shape=(8, 1), dtype=float32)\n",
            "(8, 6, 1)\n",
            "tf.Tensor(\n",
            "[[0.4080267 ]\n",
            " [0.5026124 ]\n",
            " [0.46094298]\n",
            " [0.7288298 ]\n",
            " [0.74546295]\n",
            " [0.4956243 ]\n",
            " [0.48467422]\n",
            " [0.42626444]], shape=(8, 1), dtype=float32)\n",
            "(8, 6, 1)\n",
            "tf.Tensor(\n",
            "[[0.3998674 ]\n",
            " [0.3855304 ]\n",
            " [0.5107362 ]\n",
            " [0.47008085]\n",
            " [0.518311  ]\n",
            " [0.6112107 ]\n",
            " [0.31926486]\n",
            " [0.30607304]], shape=(8, 1), dtype=float32)\n",
            "(8, 6, 1)\n",
            "tf.Tensor(\n",
            "[[0.6213758 ]\n",
            " [0.606652  ]\n",
            " [0.6977327 ]\n",
            " [0.44147786]\n",
            " [0.34635633]\n",
            " [0.31969622]\n",
            " [0.43797463]\n",
            " [0.68328047]], shape=(8, 1), dtype=float32)\n",
            "(8, 6, 1)\n",
            "tf.Tensor(\n",
            "[[0.28222284]\n",
            " [0.423153  ]\n",
            " [0.4852452 ]\n",
            " [0.36736372]\n",
            " [0.7294589 ]\n",
            " [0.5732465 ]\n",
            " [0.41720557]\n",
            " [0.67678225]], shape=(8, 1), dtype=float32)\n",
            "(8, 6, 1)\n",
            "tf.Tensor(\n",
            "[[0.6203662 ]\n",
            " [0.44353083]\n",
            " [0.29796398]\n",
            " [0.367858  ]\n",
            " [0.62657607]\n",
            " [0.54062366]\n",
            " [0.35393095]\n",
            " [0.60939306]], shape=(8, 1), dtype=float32)\n",
            "(8, 6, 1)\n",
            "tf.Tensor(\n",
            "[[0.52905875]\n",
            " [0.54449564]\n",
            " [0.6744024 ]\n",
            " [0.39928517]\n",
            " [0.56023186]\n",
            " [0.2843798 ]\n",
            " [0.61853373]\n",
            " [0.3252424 ]], shape=(8, 1), dtype=float32)\n",
            "(8, 6, 1)\n",
            "tf.Tensor(\n",
            "[[0.34450418]\n",
            " [0.5637651 ]\n",
            " [0.2711986 ]\n",
            " [0.47288445]\n",
            " [0.51373774]\n",
            " [0.39076295]\n",
            " [0.32891008]\n",
            " [0.28549427]], shape=(8, 1), dtype=float32)\n",
            "(8, 6, 1)\n",
            "tf.Tensor(\n",
            "[[0.6336887 ]\n",
            " [0.27942747]\n",
            " [0.3581105 ]\n",
            " [0.6678107 ]\n",
            " [0.40830392]\n",
            " [0.39539775]\n",
            " [0.41610438]\n",
            " [0.504476  ]], shape=(8, 1), dtype=float32)\n",
            "(8, 6, 1)\n",
            "tf.Tensor(\n",
            "[[0.6460291 ]\n",
            " [0.40236545]\n",
            " [0.5916481 ]\n",
            " [0.54538673]\n",
            " [0.4832928 ]\n",
            " [0.7452635 ]\n",
            " [0.7033605 ]\n",
            " [0.55066025]], shape=(8, 1), dtype=float32)\n",
            "(8, 6, 1)\n",
            "tf.Tensor(\n",
            "[[0.6774262 ]\n",
            " [0.7246402 ]\n",
            " [0.557004  ]\n",
            " [0.747298  ]\n",
            " [0.52403367]\n",
            " [0.68960017]\n",
            " [0.34457192]\n",
            " [0.5557616 ]], shape=(8, 1), dtype=float32)\n",
            "(8, 6, 1)\n",
            "tf.Tensor(\n",
            "[[0.5519468 ]\n",
            " [0.7353227 ]\n",
            " [0.502156  ]\n",
            " [0.46594808]\n",
            " [0.57781863]\n",
            " [0.67418694]\n",
            " [0.3458823 ]\n",
            " [0.5101396 ]], shape=(8, 1), dtype=float32)\n"
          ]
        }
      ]
    },
    {
      "cell_type": "code",
      "source": [
        "min_max_values"
      ],
      "metadata": {
        "id": "fwpiX9DVakLg",
        "colab": {
          "base_uri": "https://localhost:8080/"
        },
        "outputId": "2b53fc03-e6e6-4e6c-a757-86cbc853ee04"
      },
      "execution_count": 140,
      "outputs": [
        {
          "output_type": "execute_result",
          "data": {
            "text/plain": [
              "[(19.95, 20.05), (-8, -6), (-13, -12), (-10, -5), (0.0, 2.0), (0, 90)]"
            ]
          },
          "metadata": {},
          "execution_count": 140
        }
      ]
    },
    {
      "cell_type": "code",
      "source": [
        "y_test_s[0,:,:,0].shape"
      ],
      "metadata": {
        "colab": {
          "base_uri": "https://localhost:8080/"
        },
        "id": "NDOoRHHcazsB",
        "outputId": "767658fb-39b0-449a-8dde-c050f6210cb5"
      },
      "execution_count": 68,
      "outputs": [
        {
          "output_type": "execute_result",
          "data": {
            "text/plain": [
              "TensorShape([90, 48])"
            ]
          },
          "metadata": {},
          "execution_count": 68
        }
      ]
    },
    {
      "cell_type": "code",
      "source": [
        "# samples = gen_samples(model, y_test_s, ramp=ramp, nsamples=params['n_samples'])"
      ],
      "metadata": {
        "id": "2UY-_TYqc1KG"
      },
      "execution_count": 69,
      "outputs": []
    },
    {
      "cell_type": "code",
      "source": [
        "x_s.shape"
      ],
      "metadata": {
        "colab": {
          "base_uri": "https://localhost:8080/"
        },
        "id": "AzPBfERvHi0v",
        "outputId": "d7617e46-4b7a-4dd5-9761-13e8a1121ce5"
      },
      "execution_count": 70,
      "outputs": [
        {
          "output_type": "execute_result",
          "data": {
            "text/plain": [
              "(200, 6)"
            ]
          },
          "metadata": {},
          "execution_count": 70
        }
      ]
    },
    {
      "cell_type": "code",
      "source": [
        "x_test_s[0,:,0]"
      ],
      "metadata": {
        "colab": {
          "base_uri": "https://localhost:8080/"
        },
        "id": "Da8VIwKqU_1Z",
        "outputId": "6e61b037-6735-4d69-d110-4f461f1b6683"
      },
      "execution_count": 71,
      "outputs": [
        {
          "output_type": "execute_result",
          "data": {
            "text/plain": [
              "<tf.Tensor: shape=(6,), dtype=float32, numpy=\n",
              "array([0.5111547 , 0.36304167, 0.03411836, 0.38132167, 0.84536207,\n",
              "       0.51111114], dtype=float32)>"
            ]
          },
          "metadata": {},
          "execution_count": 71
        }
      ]
    },
    {
      "cell_type": "code",
      "source": [
        "x_mean, x_var = x_scaler.mean_, x_scaler.var_"
      ],
      "metadata": {
        "id": "ccjQSDp-JDgx",
        "colab": {
          "base_uri": "https://localhost:8080/",
          "height": 167
        },
        "outputId": "98a6675b-3b65-4d04-b62f-fc6e4913f929"
      },
      "execution_count": 72,
      "outputs": [
        {
          "output_type": "error",
          "ename": "NameError",
          "evalue": "ignored",
          "traceback": [
            "\u001b[0;31m---------------------------------------------------------------------------\u001b[0m",
            "\u001b[0;31mNameError\u001b[0m                                 Traceback (most recent call last)",
            "\u001b[0;32m<ipython-input-72-fb5a751262a2>\u001b[0m in \u001b[0;36m<module>\u001b[0;34m\u001b[0m\n\u001b[0;32m----> 1\u001b[0;31m \u001b[0mx_mean\u001b[0m\u001b[0;34m,\u001b[0m \u001b[0mx_var\u001b[0m \u001b[0;34m=\u001b[0m \u001b[0mx_scaler\u001b[0m\u001b[0;34m.\u001b[0m\u001b[0mmean_\u001b[0m\u001b[0;34m,\u001b[0m \u001b[0mx_scaler\u001b[0m\u001b[0;34m.\u001b[0m\u001b[0mvar_\u001b[0m\u001b[0;34m\u001b[0m\u001b[0;34m\u001b[0m\u001b[0m\n\u001b[0m",
            "\u001b[0;31mNameError\u001b[0m: name 'x_scaler' is not defined"
          ]
        }
      ]
    },
    {
      "cell_type": "code",
      "source": [
        "x_test_s[0,:,0] * np.sqrt(x_var) + x_mean"
      ],
      "metadata": {
        "id": "5-yAJVn_VMcx"
      },
      "execution_count": null,
      "outputs": []
    },
    {
      "cell_type": "code",
      "source": [
        "plt.pcolormesh(y_test_s[0,:,:,0])"
      ],
      "metadata": {
        "id": "a6hya2HWV2s1"
      },
      "execution_count": null,
      "outputs": []
    },
    {
      "cell_type": "code",
      "source": [
        "samples = gen_samples(model, tf.expand_dims(y_test_s[0], axis=0), ramp=ramp, nsamples=200)"
      ],
      "metadata": {
        "id": "TDyMVC4HJHm8"
      },
      "execution_count": null,
      "outputs": []
    },
    {
      "cell_type": "code",
      "source": [
        "import seaborn as sns"
      ],
      "metadata": {
        "id": "MDvAVTlRULhn"
      },
      "execution_count": null,
      "outputs": []
    },
    {
      "cell_type": "code",
      "source": [
        "sns.distplot(samples[:,0])"
      ],
      "metadata": {
        "id": "8fisfx5fSTYx"
      },
      "execution_count": null,
      "outputs": []
    },
    {
      "cell_type": "code",
      "source": [
        "import corner\n",
        "import numpy as np\n",
        "\n",
        "ndim, nsamples = 4, 50000\n",
        "np.random.seed(1234)\n",
        "data1 = np.random.randn(ndim * 4 * nsamples // 5).reshape(\n",
        "    [4 * nsamples // 5, ndim]\n",
        ")\n",
        "mean = 4 * np.random.rand(ndim)\n",
        "data2 = mean[None, :] + np.random.randn(ndim * nsamples // 5).reshape(\n",
        "    [nsamples // 5, ndim]\n",
        ")\n",
        "samples = np.vstack([data1, data2])\n",
        "\n",
        "# figure = corner.corner(samples)\n"
      ],
      "metadata": {
        "id": "EBSA_mMUSU2K"
      },
      "execution_count": 84,
      "outputs": []
    },
    {
      "cell_type": "code",
      "source": [
        "# This is the true mean of the second mode that we used above:\n",
        "value1 = mean\n",
        "\n",
        "# This is the empirical mean of the sample:\n",
        "value2 = np.mean(samples, axis=0)\n",
        "\n",
        "# Make the base corner plot\n",
        "figure = corner.corner(samples)\n",
        "\n",
        "# Extract the axes\n",
        "axes = np.array(figure.axes).reshape((ndim, ndim))\n",
        "\n",
        "# Loop over the diagonal\n",
        "for i in range(ndim):\n",
        "    ax = axes[i, i]\n",
        "    ax.axvline(value1[i], color=\"g\")\n",
        "    ax.axvline(value2[i], color=\"r\")\n",
        "\n",
        "# Loop over the histograms\n",
        "for yi in range(ndim):\n",
        "    for xi in range(yi):\n",
        "        ax = axes[yi, xi]\n",
        "        ax.axvline(value1[xi], color=\"g\")\n",
        "        ax.axvline(value2[xi], color=\"r\")\n",
        "        ax.axhline(value1[yi], color=\"g\")\n",
        "        ax.axhline(value2[yi], color=\"r\")\n",
        "        ax.plot(value1[xi], value1[yi], \"sg\")\n",
        "        ax.plot(value2[xi], value2[yi], \"sr\")\n",
        "\n",
        "        ax.set_xlim(-10, 10)"
      ],
      "metadata": {
        "colab": {
          "base_uri": "https://localhost:8080/",
          "height": 653
        },
        "id": "HefbOtm2TlOU",
        "outputId": "0a9907bc-37f9-409a-dc34-a3ed0b4a300d"
      },
      "execution_count": 88,
      "outputs": [
        {
          "output_type": "display_data",
          "data": {
            "text/plain": [
              "<Figure size 698.4x698.4 with 16 Axes>"
            ],
            "image/png": "[encoded data removed]"
          },
          "metadata": {
            "needs_background": "light"
          }
        }
      ]
    },
    {
      "cell_type": "code",
      "source": [],
      "metadata": {
        "id": "81UIx3zyTn68"
      },
      "execution_count": null,
      "outputs": []
    }
  ]
}