{
  "nbformat": 4,
  "nbformat_minor": 0,
  "metadata": {
    "colab": {
      "provenance": [],
      "authorship_tag": "ABX9TyOz7KJc3JQUkghp90MpH92v",
      "include_colab_link": true
    },
    "kernelspec": {
      "name": "python3",
      "display_name": "Python 3"
    },
    "language_info": {
      "name": "python"
    }
  },
  "cells": [
    {
      "cell_type": "markdown",
      "metadata": {
        "id": "view-in-github",
        "colab_type": "text"
      },
      "source": [
        "<a href=\"https://colab.research.google.com/github/tripatheea/auto/blob/main/just_posterior.ipynb\" target=\"_parent\"><img src=\"https://colab.research.google.com/assets/colab-badge.svg\" alt=\"Open In Colab\"/></a>"
      ]
    },
    {
      "cell_type": "code",
      "execution_count": 4,
      "metadata": {
        "colab": {
          "base_uri": "https://localhost:8080/"
        },
        "id": "Niel0t6Ye_a0",
        "outputId": "57ed6498-3b4c-470b-a069-081827d5d53c"
      },
      "outputs": [
        {
          "output_type": "stream",
          "name": "stdout",
          "text": [
            "Looking in indexes: https://pypi.org/simple, https://us-python.pkg.dev/colab-wheels/public/simple/\n",
            "Requirement already satisfied: tensorflow-probability in /usr/local/lib/python3.8/dist-packages (0.17.0)\n",
            "Requirement already satisfied: gast>=0.3.2 in /usr/local/lib/python3.8/dist-packages (from tensorflow-probability) (0.4.0)\n",
            "Requirement already satisfied: dm-tree in /usr/local/lib/python3.8/dist-packages (from tensorflow-probability) (0.1.8)\n",
            "Requirement already satisfied: absl-py in /usr/local/lib/python3.8/dist-packages (from tensorflow-probability) (1.3.0)\n",
            "Requirement already satisfied: numpy>=1.13.3 in /usr/local/lib/python3.8/dist-packages (from tensorflow-probability) (1.21.6)\n",
            "Requirement already satisfied: decorator in /usr/local/lib/python3.8/dist-packages (from tensorflow-probability) (4.4.2)\n",
            "Requirement already satisfied: six>=1.10.0 in /usr/local/lib/python3.8/dist-packages (from tensorflow-probability) (1.15.0)\n",
            "Requirement already satisfied: cloudpickle>=1.3 in /usr/local/lib/python3.8/dist-packages (from tensorflow-probability) (2.2.0)\n",
            "Looking in indexes: https://pypi.org/simple, https://us-python.pkg.dev/colab-wheels/public/simple/\n",
            "Requirement already satisfied: imageio in /usr/local/lib/python3.8/dist-packages (2.9.0)\n",
            "Requirement already satisfied: pillow in /usr/local/lib/python3.8/dist-packages (from imageio) (7.1.2)\n",
            "Requirement already satisfied: numpy in /usr/local/lib/python3.8/dist-packages (from imageio) (1.21.6)\n",
            "Looking in indexes: https://pypi.org/simple, https://us-python.pkg.dev/colab-wheels/public/simple/\n",
            "Collecting git+https://github.com/tensorflow/docs\n",
            "  Cloning https://github.com/tensorflow/docs to /tmp/pip-req-build-sr79xvt5\n",
            "  Running command git clone --filter=blob:none --quiet https://github.com/tensorflow/docs /tmp/pip-req-build-sr79xvt5\n",
            "  Resolved https://github.com/tensorflow/docs to commit 7d9aab3abb979d304e768df250b7fd069d60497e\n",
            "  Preparing metadata (setup.py) ... \u001b[?25l\u001b[?25hdone\n",
            "Requirement already satisfied: astor in /usr/local/lib/python3.8/dist-packages (from tensorflow-docs==0.0.0.dev0) (0.8.1)\n",
            "Requirement already satisfied: absl-py in /usr/local/lib/python3.8/dist-packages (from tensorflow-docs==0.0.0.dev0) (1.3.0)\n",
            "Requirement already satisfied: jinja2 in /usr/local/lib/python3.8/dist-packages (from tensorflow-docs==0.0.0.dev0) (2.11.3)\n",
            "Requirement already satisfied: nbformat in /usr/local/lib/python3.8/dist-packages (from tensorflow-docs==0.0.0.dev0) (5.7.1)\n",
            "Requirement already satisfied: protobuf<3.20,>=3.12.0 in /usr/local/lib/python3.8/dist-packages (from tensorflow-docs==0.0.0.dev0) (3.19.6)\n",
            "Requirement already satisfied: pyyaml in /usr/local/lib/python3.8/dist-packages (from tensorflow-docs==0.0.0.dev0) (6.0)\n",
            "Requirement already satisfied: MarkupSafe>=0.23 in /usr/local/lib/python3.8/dist-packages (from jinja2->tensorflow-docs==0.0.0.dev0) (2.0.1)\n",
            "Requirement already satisfied: jsonschema>=2.6 in /usr/local/lib/python3.8/dist-packages (from nbformat->tensorflow-docs==0.0.0.dev0) (4.3.3)\n",
            "Requirement already satisfied: jupyter-core in /usr/local/lib/python3.8/dist-packages (from nbformat->tensorflow-docs==0.0.0.dev0) (5.1.3)\n",
            "Requirement already satisfied: fastjsonschema in /usr/local/lib/python3.8/dist-packages (from nbformat->tensorflow-docs==0.0.0.dev0) (2.16.2)\n",
            "Requirement already satisfied: traitlets>=5.1 in /usr/local/lib/python3.8/dist-packages (from nbformat->tensorflow-docs==0.0.0.dev0) (5.7.1)\n",
            "Requirement already satisfied: importlib-resources>=1.4.0 in /usr/local/lib/python3.8/dist-packages (from jsonschema>=2.6->nbformat->tensorflow-docs==0.0.0.dev0) (5.10.2)\n",
            "Requirement already satisfied: attrs>=17.4.0 in /usr/local/lib/python3.8/dist-packages (from jsonschema>=2.6->nbformat->tensorflow-docs==0.0.0.dev0) (22.2.0)\n",
            "Requirement already satisfied: pyrsistent!=0.17.0,!=0.17.1,!=0.17.2,>=0.14.0 in /usr/local/lib/python3.8/dist-packages (from jsonschema>=2.6->nbformat->tensorflow-docs==0.0.0.dev0) (0.19.3)\n",
            "Requirement already satisfied: platformdirs>=2.5 in /usr/local/lib/python3.8/dist-packages (from jupyter-core->nbformat->tensorflow-docs==0.0.0.dev0) (2.6.2)\n",
            "Requirement already satisfied: zipp>=3.1.0 in /usr/local/lib/python3.8/dist-packages (from importlib-resources>=1.4.0->jsonschema>=2.6->nbformat->tensorflow-docs==0.0.0.dev0) (3.11.0)\n",
            "Building wheels for collected packages: tensorflow-docs\n",
            "  Building wheel for tensorflow-docs (setup.py) ... \u001b[?25l\u001b[?25hdone\n",
            "  Created wheel for tensorflow-docs: filename=tensorflow_docs-0.0.0.dev0-py3-none-any.whl size=184416 sha256=206452ccfb005635eca59d91f7866af4ef4d8cfdbadad3007d80535b2e0113cf\n",
            "  Stored in directory: /tmp/pip-ephem-wheel-cache-44ffrbo3/wheels/3b/ee/a2/ab4d36a9a4af495bcb936f3e849d4b497b65fa40548a68d6c3\n",
            "Successfully built tensorflow-docs\n",
            "Installing collected packages: tensorflow-docs\n",
            "Successfully installed tensorflow-docs-0.0.0.dev0\n"
          ]
        }
      ],
      "source": [
        "! pip install tensorflow-probability\n",
        "\n",
        "# to generate gifs\n",
        "! pip install imageio\n",
        "! pip install git+https://github.com/tensorflow/docs"
      ]
    },
    {
      "cell_type": "code",
      "source": [
        "from IPython import display\n",
        "\n",
        "import glob\n",
        "import imageio\n",
        "import matplotlib.pyplot as plt\n",
        "import numpy as np\n",
        "import PIL\n",
        "import tensorflow as tf\n",
        "import tensorflow_probability as tfp\n",
        "import time\n",
        "\n",
        "from tensorflow.python.framework.ops import disable_eager_execution, enable_eager_execution"
      ],
      "metadata": {
        "id": "j1LCh9FufCHN"
      },
      "execution_count": 6,
      "outputs": []
    },
    {
      "cell_type": "code",
      "source": [
        "# import keras\n",
        "# from keras import Model\n",
        "# from keras.layers import Input, Conv2D, MaxPooling2D, UpSampling2D, Concatenate, Reshape, Dense, Lambda, Flatten\n",
        "# from keras import backend as K\n",
        "\n",
        "import warnings\n",
        "warnings.filterwarnings('ignore')\n",
        "import numpy as np\n",
        "import glob\n",
        "import skimage\n",
        "import skimage.transform\n",
        "import skimage.io\n",
        "import PIL\n",
        "import numpy as np\n",
        "import os\n",
        "from IPython.display import clear_output\n",
        "import pandas as pd\n",
        "import matplotlib.pyplot as plt\n",
        "%matplotlib inline\n",
        "from ipywidgets import interact, interactive, fixed, interact_manual\n",
        "import ipywidgets as widgets\n",
        "import imageio\n",
        "# import utils"
      ],
      "metadata": {
        "id": "tVaauFC-fDYD"
      },
      "execution_count": 7,
      "outputs": []
    },
    {
      "cell_type": "code",
      "source": [
        "! pip install corner"
      ],
      "metadata": {
        "colab": {
          "base_uri": "https://localhost:8080/"
        },
        "id": "gFlwAnf6I2hf",
        "outputId": "e60b28d7-0046-4ecb-959f-ef631f48a241"
      },
      "execution_count": 8,
      "outputs": [
        {
          "output_type": "stream",
          "name": "stdout",
          "text": [
            "Looking in indexes: https://pypi.org/simple, https://us-python.pkg.dev/colab-wheels/public/simple/\n",
            "Collecting corner\n",
            "  Downloading corner-2.2.1-py3-none-any.whl (15 kB)\n",
            "Requirement already satisfied: matplotlib>=2.1 in /usr/local/lib/python3.8/dist-packages (from corner) (3.2.2)\n",
            "Requirement already satisfied: numpy>=1.11 in /usr/local/lib/python3.8/dist-packages (from matplotlib>=2.1->corner) (1.21.6)\n",
            "Requirement already satisfied: kiwisolver>=1.0.1 in /usr/local/lib/python3.8/dist-packages (from matplotlib>=2.1->corner) (1.4.4)\n",
            "Requirement already satisfied: python-dateutil>=2.1 in /usr/local/lib/python3.8/dist-packages (from matplotlib>=2.1->corner) (2.8.2)\n",
            "Requirement already satisfied: pyparsing!=2.0.4,!=2.1.2,!=2.1.6,>=2.0.1 in /usr/local/lib/python3.8/dist-packages (from matplotlib>=2.1->corner) (3.0.9)\n",
            "Requirement already satisfied: cycler>=0.10 in /usr/local/lib/python3.8/dist-packages (from matplotlib>=2.1->corner) (0.11.0)\n",
            "Requirement already satisfied: six>=1.5 in /usr/local/lib/python3.8/dist-packages (from python-dateutil>=2.1->matplotlib>=2.1->corner) (1.15.0)\n",
            "Installing collected packages: corner\n",
            "Successfully installed corner-2.2.1\n"
          ]
        }
      ]
    },
    {
      "cell_type": "code",
      "source": [
        "import corner"
      ],
      "metadata": {
        "id": "humASsJJI373"
      },
      "execution_count": 9,
      "outputs": []
    },
    {
      "cell_type": "code",
      "source": [
        "enable_eager_execution()"
      ],
      "metadata": {
        "id": "F8zKLspGfETx"
      },
      "execution_count": 10,
      "outputs": []
    },
    {
      "cell_type": "code",
      "source": [
        "WIDTH = 90\n",
        "HEIGHT = 48"
      ],
      "metadata": {
        "id": "xCAiw4XLfFMD"
      },
      "execution_count": 11,
      "outputs": []
    },
    {
      "cell_type": "code",
      "source": [
        "import numpy as np\n",
        "import matplotlib.pyplot as plt\n",
        "\n",
        "import time\n",
        "from tensorflow.keras import regularizers\n",
        "import tensorflow.keras.initializers\n",
        "\n",
        "bandwidth = 0.1\n",
        "\n",
        "f_sig = 20.0\n",
        "\n",
        "fmax = f_sig + 0.5 * bandwidth\n",
        "fmin = f_sig - 0.5 * bandwidth\n",
        "\n",
        "\n",
        "def\tMakeSpectrogram(f_sig = 100., bandwidth = 0.25, Tobs_hr = 24., Tcoh_hr = .25, \n",
        "\t\thnoise = 100., hamp = .4, fsamp = 512., fdot_sig = -1e-6, fdotdot_sig = -1e-10, Omega=0.25, a_p=25,\n",
        "\t\tplot_num = 0, plot = False, write_to_file = False):\n",
        "\t\n",
        "\t##### Defining Variables #####\n",
        "\t# f_sig     --- signal central frequency, hz\n",
        "\t# bandwidth --- bandwidth of search, width of each freq, hz\n",
        "\t# Tobs_hr   --- Length of observation, hrs\n",
        "\t# Tcoh_hr   --- Coherence time, hrs\n",
        "\t# hnoise    --- noise amplitude\n",
        "\t# hamp      --- signal amplitude\n",
        "\t# fsamp     --- sampling frequency, hz\n",
        "\t# fdot_sig  --- Signal frequency derivative \n",
        "\t# plot_num  --- if multiple files is an index\n",
        "\t# whereto   --- Where to save plot\n",
        "\t\n",
        "\t##### Booleans ####\n",
        "\t# plot      \t--- whether or not to plot\n",
        "\t# write_to_file --- whether to save data to .txt file\n",
        "\n",
        "\t#### Returns ####\n",
        "\t# frequency \n",
        "\t# time\n",
        "\t# spectrogram\n",
        "\n",
        "\t# Define constants\n",
        "\tSECS_PER_HOUR = 3600\n",
        "\t\n",
        "\t# Find amplitude spectral density for noise\n",
        "\tnoiseamp = hnoise*np.sqrt(4./fsamp) \n",
        "\t\n",
        "\t\n",
        "\t# Convert observation and coherence time to seconds\n",
        "\tTobs = Tobs_hr * SECS_PER_HOUR\n",
        "\tTcoh = Tcoh_hr * SECS_PER_HOUR\n",
        "\n",
        "\t# Find low and high frequency\n",
        "\t# freqlo_approx = f_sig - 0.5 * bandwidth\n",
        "\t# freqlo = np.floor(freqlo_approx * Tcoh) / Tcoh\n",
        "\t# freqhi = freqlo + bandwidth\n",
        "\n",
        "\tfreqlo, freqhi = fmin, fmax\n",
        "\n",
        "\t# Define time series to hold raw data stream of signal + noise\n",
        "\tdeltat = 1. / fsamp\n",
        "\tt = np.arange(0,Tobs,deltat)\n",
        "\tNsample = len(t)\n",
        "\t# print ('Nsample = %i'%len(t))\n",
        "\t\n",
        "\t# Generate signal in the time domain\n",
        "\tnoise = noiseamp * np.random.normal(0, scale = 1, size = (Nsample,))\n",
        " \n",
        "\tt_asc = 0\n",
        "\t\n",
        "\tfmod = f_sig * (1.0 - a_p * Omega * np.cos(Omega * (t - t_asc)))\t# Should include Doppler term v \\dot n too.\n",
        "\n",
        "\tphi_of_t = 2 * np.pi * (fmod * t + .5 * fdot_sig * t**2 + (1/6) * fdotdot_sig * t**3 )\n",
        " \n",
        "\t# signal = hamp * np.sin(2 * np.pi * (f_sig * t + .5 * fdot_sig * t**2 + (1/6) * fdotdot_sig * t**3 ))\n",
        "\tsignal = hamp * np.sin(phi_of_t)\n",
        " \n",
        "\tdata = signal + noise\n",
        "\n",
        "\t# Generate spectra for each coherence time & extract band of interest to make spectrogram\n",
        "\tindbandlo = int(np.floor(freqlo * Tcoh))\n",
        "\tindbandhi = int(np.floor(freqhi * Tcoh))\n",
        "\tnbandbin  = indbandhi - indbandlo\n",
        "\tNseg = int(np.floor(Tobs / Tcoh))\n",
        "\tNsample_coh = int(np.floor(Nsample / Nseg))\n",
        "\tspectrogram = np.zeros((nbandbin,Nseg),)\t\n",
        "\t# print( np.shape(spectrogram) )\n",
        "\t\n",
        "\tfor seg in range(Nseg):\n",
        "\t\t# print('Generating segment %d\\n'%(seg))\n",
        "\t\tindlo = seg * Nsample_coh\n",
        "\t\tindhi = indlo + Nsample_coh \n",
        "\t\tsegment = data[indlo:indhi]\n",
        "\t\t\n",
        "\t\trawfft = np.fft.fft(segment,Nsample_coh, axis = 0)\n",
        "\t\tspectrogram[:,seg] = 2 * abs(rawfft[indbandlo:indbandhi])\n",
        "\t\t\n",
        "\tsegarray = np.arange(0,Nseg)\n",
        "\tseghour = (segarray) * Tcoh / SECS_PER_HOUR\n",
        "\tindarray = np.arange(indbandlo,indbandhi + 1)\n",
        "\tfreqplot = (indarray - indbandlo)*1.0/Tcoh + freqlo\t\n",
        "  \n",
        "\tif plot:\n",
        "\t\tplt.clf()\n",
        "\t\t# print('Plotting spectrogram')\n",
        "\t\t\n",
        "\t\tplt.pcolormesh(seghour, freqplot, spectrogram)\n",
        "\t\tplt.ylabel('Frequency [Hz]')\n",
        "\t\tplt.xlabel('Time [Hours]')\n",
        "  \n",
        "  \n",
        "\treturn(seghour, freqplot, spectrogram)\n",
        "\n"
      ],
      "metadata": {
        "id": "uQxcvbBNfF76"
      },
      "execution_count": 12,
      "outputs": []
    },
    {
      "cell_type": "code",
      "source": [
        "def fix_dims_and_normalize(s):\n",
        "  \n",
        "  s = np.pad(s, ((0, WIDTH - s.shape[0]), (0, HEIGHT - s.shape[1])))\n",
        "\n",
        "  return (s - np.min(s)) / (np.max(s) - np.min(s))\n",
        "  # return s"
      ],
      "metadata": {
        "id": "6AiICvfjfGgR"
      },
      "execution_count": 13,
      "outputs": []
    },
    {
      "cell_type": "code",
      "source": [
        "bandwidth = 0.1\n",
        "f_sig = 20\n",
        "\n",
        "T_coh = 0.25\n",
        "Tobs_hr = 24\n",
        "\n",
        "fdot_sig = np.random.choice([-1, 1]) * 10**np.random.uniform(-8, -6)\n",
        "\n",
        "\n",
        "fdotdot_sig = np.random.choice([-1, 1]) * 10**np.random.uniform(-13, -12)\n",
        "\n",
        "# fdot_sig = 1e-6\n",
        "\n",
        "fdot_sig, fdotdot_sig"
      ],
      "metadata": {
        "id": "fWru13CRfHM6",
        "colab": {
          "base_uri": "https://localhost:8080/"
        },
        "outputId": "1d50632f-f0a5-48a1-a5b9-27d20dfe0c90"
      },
      "execution_count": 14,
      "outputs": [
        {
          "output_type": "execute_result",
          "data": {
            "text/plain": [
              "(2.4944756445217536e-07, -6.375955802884552e-13)"
            ]
          },
          "metadata": {},
          "execution_count": 14
        }
      ]
    },
    {
      "cell_type": "code",
      "source": [
        "t, f, spec = MakeSpectrogram(f_sig = np.random.uniform(f_sig - 0.5 * bandwidth, f_sig + 0.5 * bandwidth), bandwidth = bandwidth, Tobs_hr = Tobs_hr, Tcoh_hr = T_coh, \n",
        "              hnoise = np.random.uniform(0.0, 0.05), hamp = np.random.uniform(0.1, 0.5), fsamp = 128., fdot_sig = fdot_sig, \n",
        "              fdotdot_sig=fdotdot_sig, Omega=1e-4, a_p=2, plot_num = 0, plot = True, write_to_file = False)"
      ],
      "metadata": {
        "colab": {
          "base_uri": "https://localhost:8080/",
          "height": 279
        },
        "id": "F4Jf6CI8fJu6",
        "outputId": "575456e1-c3c2-4739-fdd5-fa02c5d6c139"
      },
      "execution_count": 15,
      "outputs": [
        {
          "output_type": "display_data",
          "data": {
            "text/plain": [
              "<Figure size 432x288 with 1 Axes>"
            ],
            "image/png": "[encoded data removed]"
          },
          "metadata": {
            "needs_background": "light"
          }
        }
      ]
    },
    {
      "cell_type": "code",
      "source": [
        "# 1.0 / (bandwidth / 90)"
      ],
      "metadata": {
        "id": "I7wNaZg_sXbs"
      },
      "execution_count": 16,
      "outputs": []
    },
    {
      "cell_type": "code",
      "source": [
        "spec.shape"
      ],
      "metadata": {
        "colab": {
          "base_uri": "https://localhost:8080/"
        },
        "id": "aJCAHovxQknn",
        "outputId": "a2b665d6-b3db-43d5-8d24-f6f0a3b880a1"
      },
      "execution_count": 17,
      "outputs": [
        {
          "output_type": "execute_result",
          "data": {
            "text/plain": [
              "(90, 96)"
            ]
          },
          "metadata": {},
          "execution_count": 17
        }
      ]
    },
    {
      "cell_type": "code",
      "source": [
        "plt.plot(spec[:,-1])"
      ],
      "metadata": {
        "colab": {
          "base_uri": "https://localhost:8080/",
          "height": 282
        },
        "id": "as29NMTHi2aQ",
        "outputId": "2dba98f0-35be-4e1a-8c83-b6e81b2470a3"
      },
      "execution_count": 18,
      "outputs": [
        {
          "output_type": "execute_result",
          "data": {
            "text/plain": [
              "[<matplotlib.lines.Line2D at 0x7f36c21052e0>]"
            ]
          },
          "metadata": {},
          "execution_count": 18
        },
        {
          "output_type": "display_data",
          "data": {
            "text/plain": [
              "<Figure size 432x288 with 1 Axes>"
            ],
            "image/png": "[encoded data removed]"
          },
          "metadata": {
            "needs_background": "light"
          }
        }
      ]
    },
    {
      "cell_type": "code",
      "source": [
        "np.random.uniform(-8, -6)"
      ],
      "metadata": {
        "colab": {
          "base_uri": "https://localhost:8080/"
        },
        "id": "8rpqHWlavbXc",
        "outputId": "e28a5158-403d-4c85-f918-c0e306d3e99e"
      },
      "execution_count": 19,
      "outputs": [
        {
          "output_type": "execute_result",
          "data": {
            "text/plain": [
              "-7.657963425168952"
            ]
          },
          "metadata": {},
          "execution_count": 19
        }
      ]
    },
    {
      "cell_type": "code",
      "source": [
        "# Max frequency offset in a 24 hour period.\n",
        "\n",
        "delta_t = T_coh * 3600\n",
        "\n",
        "freq_resolution = 1.0 / delta_t\n",
        "\n",
        "fdot_min, fdot_max = 1e-8, 1e-6\n",
        "fdotdot_min, fdotdot_max = 1e-12, 1e-13\n",
        "\n",
        "\n",
        "\n",
        "\n",
        "print(delta_t, freq_resolution, fdot_min * (Tobs_hr * 60 * 60) * delta_t, fdot_max * (Tobs_hr * 60 * 60) * delta_t)\n",
        "print(fdotdot_min * ((Tobs_hr * 60 * 60)**2) * delta_t, fdotdot_max * ((Tobs_hr * 60 * 60)**2) * delta_t)"
      ],
      "metadata": {
        "colab": {
          "base_uri": "https://localhost:8080/"
        },
        "id": "7nVQBuDukukf",
        "outputId": "c7f5bd4b-3ab5-401c-b8fd-be2b99a83572"
      },
      "execution_count": 20,
      "outputs": [
        {
          "output_type": "stream",
          "name": "stdout",
          "text": [
            "900.0 0.0011111111111111111 0.7776 77.75999999999999\n",
            "6.718464 0.6718464000000001\n"
          ]
        }
      ]
    },
    {
      "cell_type": "code",
      "source": [
        "all_specs = []\n",
        "N = 500\n",
        "\n",
        "\n",
        "\n",
        "f_lower = fmin + 0.25 * (fmax - fmin)\n",
        "f_upper = fmin + 0.75 * (fmax - fmin)\n",
        "\n",
        "f1min, f1max = -8, -6\n",
        "\n",
        "f2min, f2max = -13, -12\n",
        "\n",
        "omega_min, omega_max = -10, -5\n",
        "ap_min, ap_max = 0.0, 2.0\n",
        "\n",
        "def invert_scaling(x, max_val, min_val):\n",
        "  return x * (max_val - min_val) + min_val\n",
        "\n",
        "\n",
        "x_s = []\n",
        "for i in range(N):\n",
        "  # t, f, spec = MakeSpectrogram(f_sig = np.random.random() * 100., bandwidth = 0.05, Tobs_hr = 12., Tcoh_hr = .25, \n",
        "  #             hnoise = 100. + (1 - 2 * np.random.random() * 10.), hamp = .4, fsamp = 128., fdot_sig = -1e-6, \n",
        "  #             plot_num = 0, plot = True, write_to_file = False)\n",
        "  \n",
        "\n",
        "  \n",
        "  freq = np.random.uniform(f_lower, f_upper)\n",
        "  scaled_freq = (freq - fmin) / (fmax - fmin)\n",
        "\n",
        "  \n",
        "  \n",
        "  spindown_exponent = np.random.uniform(f1min, f1max)\n",
        "  spindown = 10**spindown_exponent\n",
        "  scaled_spindown = (spindown_exponent - f1min) / (f1max - f1min)\n",
        "  \n",
        "  fdotdot_sign = np.random.choice([-1, 1])\n",
        "  fdotdot_exponent = np.random.uniform(f2min, f2max)\n",
        "  fdotdot = fdotdot_sign * 10**fdotdot_exponent\n",
        "  scaled_fdotdot = fdotdot_sign * (fdotdot_exponent - f2min) / (f2max - f2min)\n",
        "\n",
        "  omega_exponent = np.random.uniform(omega_min, omega_max)\n",
        "  omega = 10**omega_exponent\n",
        "  scaled_omega = (omega_exponent - omega_min) / (omega_max - omega_min)\n",
        "\n",
        "  a_p = np.random.uniform(ap_min, ap_max)\n",
        "  scaled_a_p = (a_p - ap_min) / (ap_max - ap_min)\n",
        "\n",
        "  # print(freq, spindown, fdotdot)\n",
        "\n",
        "  t, f, spec = MakeSpectrogram(f_sig = freq, bandwidth = bandwidth, Tobs_hr = 12., Tcoh_hr = .25, \n",
        "            hnoise = np.random.uniform(0.0, 0.001), hamp = np.random.uniform(0.1, 0.5), fsamp = 128., fdot_sig = spindown, fdotdot_sig = fdotdot,\n",
        "            Omega=omega, a_p=a_p,\n",
        "            plot_num = 0, plot = False, write_to_file = False)\n",
        "  \n",
        "\n",
        "  freq_start_bin = np.argmax(spec[:,0]) / spec.shape[0]\n",
        "\n",
        "  # scaler = StandardScaler()\n",
        "  # spec = scaler.fit_transform(spec)\n",
        "\n",
        "  r = fix_dims_and_normalize(np.copy(spec))\n",
        "\n",
        "  # print(r.shape)\n",
        "  all_specs.append(r)\n",
        "  x_s.append((scaled_freq, scaled_spindown, scaled_fdotdot, scaled_omega, scaled_a_p, freq_start_bin))\n",
        "\n",
        "  if (i % 100) == 0:\n",
        "    print(f\"i = {i}\")\n",
        "\n",
        "all_specs = np.asanyarray(all_specs)\n",
        "\n",
        "size = len(all_specs)\n",
        "\n",
        "print(all_specs.shape)"
      ],
      "metadata": {
        "colab": {
          "base_uri": "https://localhost:8080/"
        },
        "id": "LB-D6wcFfKYT",
        "outputId": "fba42030-fa44-440e-e139-c4b028d26a66"
      },
      "execution_count": 21,
      "outputs": [
        {
          "output_type": "stream",
          "name": "stdout",
          "text": [
            "i = 0\n",
            "i = 100\n",
            "i = 200\n",
            "i = 300\n",
            "i = 400\n",
            "(500, 90, 48)\n"
          ]
        }
      ]
    },
    {
      "cell_type": "code",
      "source": [
        "r, spec.shape"
      ],
      "metadata": {
        "colab": {
          "base_uri": "https://localhost:8080/"
        },
        "id": "l3whEmiRUEHy",
        "outputId": "fd4f10b7-8582-4068-d6dd-ba15d3724c69"
      },
      "execution_count": 22,
      "outputs": [
        {
          "output_type": "execute_result",
          "data": {
            "text/plain": [
              "(array([[0.00142951, 0.00104371, 0.00064803, ..., 0.00186659, 0.00231731,\n",
              "         0.00274106],\n",
              "        [0.00145439, 0.00106128, 0.00065928, ..., 0.00189745, 0.00235647,\n",
              "         0.00278686],\n",
              "        [0.00147952, 0.00108031, 0.00067028, ..., 0.0019305 , 0.00239599,\n",
              "         0.00283388],\n",
              "        ...,\n",
              "        [0.00317128, 0.00231536, 0.00144192, ..., 0.0044281 , 0.00547961,\n",
              "         0.00650007],\n",
              "        [0.00305871, 0.00223266, 0.00138973, ..., 0.00426302, 0.00527582,\n",
              "         0.00625754],\n",
              "        [0.00295337, 0.00215558, 0.0013415 , ..., 0.00410947, 0.00508557,\n",
              "         0.0060329 ]]), (90, 48))"
            ]
          },
          "metadata": {},
          "execution_count": 22
        }
      ]
    },
    {
      "cell_type": "code",
      "source": [
        "plt.pcolormesh(all_specs[1,:,:])"
      ],
      "metadata": {
        "colab": {
          "base_uri": "https://localhost:8080/",
          "height": 286
        },
        "id": "Hn7qBFgvUt6U",
        "outputId": "80f5208f-5f9c-490f-d52e-446087bf9ade"
      },
      "execution_count": 23,
      "outputs": [
        {
          "output_type": "execute_result",
          "data": {
            "text/plain": [
              "<matplotlib.collections.QuadMesh at 0x7f36c203f1f0>"
            ]
          },
          "metadata": {},
          "execution_count": 23
        },
        {
          "output_type": "display_data",
          "data": {
            "text/plain": [
              "<Figure size 432x288 with 1 Axes>"
            ],
            "image/png": "[encoded data removed]"
          },
          "metadata": {
            "needs_background": "light"
          }
        }
      ]
    },
    {
      "cell_type": "code",
      "source": [
        "# x_s"
      ],
      "metadata": {
        "id": "lQ9ON-EiWyeE"
      },
      "execution_count": 24,
      "outputs": []
    },
    {
      "cell_type": "code",
      "source": [
        "# all_specs"
      ],
      "metadata": {
        "id": "O2Qv7CWXUzuI"
      },
      "execution_count": 25,
      "outputs": []
    },
    {
      "cell_type": "code",
      "source": [
        "x_s = np.asanyarray(x_s)\n",
        "\n",
        "x_s.shape"
      ],
      "metadata": {
        "colab": {
          "base_uri": "https://localhost:8080/"
        },
        "id": "YB2UNWVZfLAr",
        "outputId": "096fb5f0-17e8-43eb-866f-08ddaeaef5df"
      },
      "execution_count": 26,
      "outputs": [
        {
          "output_type": "execute_result",
          "data": {
            "text/plain": [
              "(500, 6)"
            ]
          },
          "metadata": {},
          "execution_count": 26
        }
      ]
    },
    {
      "cell_type": "code",
      "source": [
        "from sklearn.preprocessing import StandardScaler"
      ],
      "metadata": {
        "id": "J9mz5l0CENEv"
      },
      "execution_count": 27,
      "outputs": []
    },
    {
      "cell_type": "code",
      "source": [
        "# x_scaler = StandardScaler()\n",
        "# scaled_x_s = x_scaler.fit_transform(x_s)"
      ],
      "metadata": {
        "id": "QGO1G71lEN66"
      },
      "execution_count": 28,
      "outputs": []
    },
    {
      "cell_type": "code",
      "source": [
        "scaled_x_s = x_s"
      ],
      "metadata": {
        "id": "ZIY2BcJENA5t"
      },
      "execution_count": 29,
      "outputs": []
    },
    {
      "cell_type": "code",
      "source": [
        "from sklearn.model_selection import train_test_split"
      ],
      "metadata": {
        "id": "1awoW1c4fL8d"
      },
      "execution_count": 30,
      "outputs": []
    },
    {
      "cell_type": "code",
      "source": [
        "# x_train_s, x_test_s, y_train_s, y_test_s = train_test_split(x_s, all_specs, test_size=0.2, random_state=42)\n",
        "\n",
        "x_train_s, x_test_s, y_train_s, y_test_s = train_test_split(scaled_x_s, all_specs, test_size=0.2, random_state=42)\n",
        "x_test_s, x_val_s, y_test_s, y_val_s = train_test_split(x_test_s, y_test_s, test_size=0.5, random_state=26)\n",
        "\n",
        "x_train_s.shape"
      ],
      "metadata": {
        "colab": {
          "base_uri": "https://localhost:8080/"
        },
        "id": "xRHDJExafMnZ",
        "outputId": "d745df05-5b38-4236-89f4-11bb8b86c7e6"
      },
      "execution_count": 31,
      "outputs": [
        {
          "output_type": "execute_result",
          "data": {
            "text/plain": [
              "(400, 6)"
            ]
          },
          "metadata": {},
          "execution_count": 31
        }
      ]
    },
    {
      "cell_type": "code",
      "source": [
        "x_train_s = np.expand_dims(x_train_s, -1)\n",
        "x_test_s = np.expand_dims(x_test_s, -1)\n",
        "x_val_s = np.expand_dims(x_val_s, -1)\n",
        "\n",
        "y_train_s = np.expand_dims(y_train_s, -1)\n",
        "y_test_s = np.expand_dims(y_test_s, -1)\n",
        "y_val_s = np.expand_dims(y_val_s, -1)\n",
        "\n",
        "x_train_s.shape"
      ],
      "metadata": {
        "colab": {
          "base_uri": "https://localhost:8080/"
        },
        "id": "khtgnkPSfNKW",
        "outputId": "f7a6e5f4-d6a6-4e3d-cd07-e1f8988dfd5b"
      },
      "execution_count": 32,
      "outputs": [
        {
          "output_type": "execute_result",
          "data": {
            "text/plain": [
              "(400, 6, 1)"
            ]
          },
          "metadata": {},
          "execution_count": 32
        }
      ]
    },
    {
      "cell_type": "code",
      "source": [
        "def convert_to_tensor_utility(x):\n",
        "    return tf.convert_to_tensor(x, dtype=tf.float32)\n",
        "\n",
        " \n",
        "x_train_s, y_train_s, x_test_s, y_test_s, x_val_s, y_val_s = tuple(map(convert_to_tensor_utility, [x_train_s, y_train_s, x_test_s, y_test_s, x_val_s, y_val_s]))"
      ],
      "metadata": {
        "id": "A_SYaXR0fNw6"
      },
      "execution_count": 33,
      "outputs": []
    },
    {
      "cell_type": "code",
      "source": [
        "x_train_s.shape, y_train_s.shape"
      ],
      "metadata": {
        "colab": {
          "base_uri": "https://localhost:8080/"
        },
        "id": "83U5j4OvfOhR",
        "outputId": "d4018a84-f081-46d0-dc8b-cb8b7eab7d15"
      },
      "execution_count": 34,
      "outputs": [
        {
          "output_type": "execute_result",
          "data": {
            "text/plain": [
              "(TensorShape([400, 6, 1]), TensorShape([400, 90, 48, 1]))"
            ]
          },
          "metadata": {},
          "execution_count": 34
        }
      ]
    },
    {
      "cell_type": "code",
      "source": [
        "y_train_s.shape, y_test_s.shape, y_val_s.shape"
      ],
      "metadata": {
        "colab": {
          "base_uri": "https://localhost:8080/"
        },
        "id": "6ISRpQCGfPUn",
        "outputId": "1a9cd2ce-41e5-43ed-f2d6-cd8576ad912e"
      },
      "execution_count": 35,
      "outputs": [
        {
          "output_type": "execute_result",
          "data": {
            "text/plain": [
              "(TensorShape([400, 90, 48, 1]),\n",
              " TensorShape([50, 90, 48, 1]),\n",
              " TensorShape([50, 90, 48, 1]))"
            ]
          },
          "metadata": {},
          "execution_count": 35
        }
      ]
    },
    {
      "cell_type": "code",
      "source": [
        "# y_train_s"
      ],
      "metadata": {
        "id": "Iz2Xmky8GKQZ"
      },
      "execution_count": 36,
      "outputs": []
    },
    {
      "cell_type": "code",
      "source": [
        "batch_size = 8"
      ],
      "metadata": {
        "id": "Rrg7Fa14fn9R"
      },
      "execution_count": 37,
      "outputs": []
    },
    {
      "cell_type": "code",
      "source": [
        "train_dataset = tf.data.Dataset.from_tensor_slices((x_train_s, y_train_s)).batch(batch_size)\n",
        "test_dataset = tf.data.Dataset.from_tensor_slices((x_test_s, y_test_s)).batch(batch_size)\n",
        "val_dataset = tf.data.Dataset.from_tensor_slices((x_val_s, y_val_s)).batch(batch_size)"
      ],
      "metadata": {
        "id": "dGo6GUkJfoqz"
      },
      "execution_count": 38,
      "outputs": []
    },
    {
      "cell_type": "code",
      "source": [
        "params = dict()\n",
        "\n",
        "params['z_dim'] = 6\n",
        "params['n_modes'] = 1\n",
        "params['n_channels'] = 1\n",
        "params['ramp_start'] = 10\n",
        "params['ramp_end'] = 20\n",
        "params['y_normscale'] = 1.0\n",
        "\n",
        "params['rand_pars'] = ['frequency', 'fdot', 'fdotdot', 'Omega', 'a_p', 'bin']\n",
        "params['inf_pars'] = ['frequency', 'fdot', 'fdotdot', 'Omega', 'a_p', 'bin']\n"
      ],
      "metadata": {
        "id": "p1znqNWCfpPr"
      },
      "execution_count": 39,
      "outputs": []
    },
    {
      "cell_type": "code",
      "source": [
        "def ramp_func(epoch,start,ramp_length, n_cycles):\n",
        "    i = (epoch - start) / (2.0 * ramp_length)\n",
        "    # print(epoch,i)\n",
        "    \n",
        "    if i < 0:\n",
        "        return 0.0\n",
        "    if i >= n_cycles:\n",
        "        return 1.0\n",
        "    \n",
        "    return min(1.0, 2.0 * np.remainder(i, 1.0))\n",
        "\n",
        "optimizer = tf.keras.optimizers.Adam(1e-4)\n",
        "initializer = tf.keras.initializers.GlorotUniform()"
      ],
      "metadata": {
        "id": "sLt_iTgrfqqE"
      },
      "execution_count": 40,
      "outputs": []
    },
    {
      "cell_type": "code",
      "source": [
        "def define_encoder_block(x, num_filters, act):  \n",
        "    \"\"\"\n",
        "    Todo: Define two sequential 2D convolutional layers (Conv2D) with the following properties:\n",
        "          - num_filters many filters\n",
        "          - kernel_size 3\n",
        "          - activation \"relu\"\n",
        "          - padding \"same\"\n",
        "          - kernel_initializer \"he_normal\"\n",
        "          Also define a 2D max pooling layer (MaxPooling2D) (you can keep default arguments).\n",
        "    \"\"\"\n",
        "    x = tf.keras.layers.Conv2D(num_filters, 4, activation=act, padding='same', kernel_initializer='he_normal')(x)\n",
        "    # x = tf.keras.layers.BatchNormalization()(x)\n",
        "    x = tf.keras.layers.Conv2D(num_filters, 4, activation=act, padding='same', kernel_initializer='he_normal')(x)\n",
        "    x = tf.keras.layers.MaxPooling2D()(x)\n",
        "    # x = tf.keras.layers.BatchNormalization()(x)\n",
        "    \n",
        "    return x"
      ],
      "metadata": {
        "id": "u1gB6LC_geQz"
      },
      "execution_count": 41,
      "outputs": []
    },
    {
      "cell_type": "code",
      "source": [
        "def define_decoder_block(x, num_filters, act):\n",
        "    \"\"\"\n",
        "    Todo: Define one 2D upsampling layer (UpSampling2D) (you can keep default arguments).\n",
        "          Also, define two sequential 2D convolutional layers (Conv2D) with the following properties:\n",
        "          - num_filters many filters\n",
        "          - kernel_size 3\n",
        "          - activation \"relu\"\n",
        "          - padding \"same\"\n",
        "          - kernel_initializer \"he_normal\"\n",
        "    \"\"\"\n",
        "    x = tf.keras.layers.UpSampling2D()(x)\n",
        "    x = tf.keras.layers.Conv2DTranspose(num_filters, 4, activation=act, padding = 'same', kernel_initializer = 'he_normal')(x)\n",
        "    # x = tf.keras.layers.BatchNormalization()(x)\n",
        "    x = tf.keras.layers.Conv2DTranspose(num_filters, 4, activation=act, padding = 'same', kernel_initializer = 'he_normal')(x)\n",
        "    # x = tf.keras.layers.BatchNormalization()(x)\n",
        "    return x"
      ],
      "metadata": {
        "id": "G1sXEcj5OZjV"
      },
      "execution_count": 42,
      "outputs": []
    },
    {
      "cell_type": "code",
      "source": [
        "class CVAE(tf.keras.Model):\n",
        "    \"\"\"Convolutional variational autoencoder.\"\"\"\n",
        "\n",
        "    def __init__(self, x_dim, y_dim, n_channels, z_dim, n_modes, params):\n",
        "        super(CVAE, self).__init__()\n",
        "        self.z_dim = z_dim\n",
        "        self.n_modes = n_modes\n",
        "        self.x_modes = 1   # hardcoded for testing\n",
        "        self.x_dim = x_dim\n",
        "        self.y_dim = y_dim\n",
        "        self.n_channels = n_channels\n",
        "        self.act = tf.keras.layers.LeakyReLU(alpha=0.3)\n",
        "        self.params = params\n",
        "        self.reg = regularizers.l1(0.25)\n",
        "\n",
        "\n",
        "        start_filters = 2\n",
        "\n",
        "        \n",
        "        # the r1 encoder network- r1_encoder(y) = z'.\n",
        "\n",
        "        r1_input_y = tf.keras.Input(shape=(WIDTH, HEIGHT, 1))\n",
        "\n",
        "        eblock1 = define_encoder_block(r1_input_y, start_filters, self.act)\n",
        "        # eblock2 = define_encoder_block(eblock1, start_filters*2, self.act)\n",
        "        # eblock3 = define_encoder_block(eblock2, start_filters*4, self.act)\n",
        "        # eblock4 = define_encoder_block(eblock3, start_filters*8, self.act)\n",
        "        eblock4 = eblock1\n",
        "        _, *shape_spatial = eblock4.get_shape().as_list()\n",
        "        eblock4_flat = tf.keras.layers.Flatten()(eblock4)\n",
        "\n",
        "        # x = tf.keras.layers.BatchNormalization(name='bn_2')(eblock4_flat)\n",
        "        # a2 = tf.keras.layers.Dense(16, kernel_regularizer=self.reg, activation=self.act)(x)\n",
        "        # a2 = tf.keras.layers.Dropout(.1)(a2)\n",
        "        # a2 = tf.keras.layers.Dense(8, kernel_regularizer=self.reg, activation=self.act)(a2)\n",
        "        # a2 = tf.keras.layers.Dropout(.1)(a2)\n",
        "        # a2 = x\n",
        "        a2 = eblock4_flat\n",
        "        a2 = tf.keras.layers.Dense(4, kernel_regularizer=self.reg, activation=self.act)(a2)\n",
        "        # a2 = tf.keras.layers.BatchNormalization()(a2)\n",
        "        a2 = tf.keras.layers.Dense(2 * self.z_dim, activation=self.act, kernel_regularizer=self.reg)(a2)\n",
        "        self.encoder_r1 = tf.keras.Model(inputs=r1_input_y, outputs=a2)\n",
        "\n",
        "        # print(self.encoder_r1.summary())\n",
        "\n",
        "\n",
        "        # the q encoder network- q_encoder(x, y) = z''.\n",
        "\n",
        "        q_input_x = tf.keras.Input(shape=(self.x_dim))\n",
        "        c = tf.keras.layers.Flatten()(q_input_x)\n",
        "        d = tf.keras.layers.concatenate([eblock4_flat, c])\n",
        "        # d = tf.keras.layers.BatchNormalization()(d)\n",
        "        # e = tf.keras.layers.Dense(16, kernel_regularizer=self.reg, activation=self.act)(d)\n",
        "        # e = tf.keras.layers.Dropout(.1)(e)\n",
        "        e = d\n",
        "        e = tf.keras.layers.Dense(4, kernel_regularizer=self.reg, activation=self.act)(e)\n",
        "        e = tf.keras.layers.BatchNormalization()(e)\n",
        "        e = tf.keras.layers.Dense(2*self.z_dim, activation=self.act)(e)\n",
        "        self.encoder_q = tf.keras.Model(inputs=[q_input_x, r1_input_y], outputs=e)\n",
        "\n",
        "\n",
        "        # print(self.encoder_q.summary())\n",
        "\n",
        "\n",
        "        # the r2 decoder network- r2_decoder(y, z) = x'.\n",
        "\n",
        "        r2_input_z = tf.keras.Input(shape=(self.z_dim))\n",
        "        \n",
        "\n",
        "        \n",
        "        h = tf.keras.layers.concatenate([eblock4_flat, r2_input_z])\n",
        "        # h = tf.keras.layers.BatchNormalization(name='bn_6')(h)\n",
        "        i = tf.keras.layers.Dense(8, kernel_regularizer=self.reg, activation=self.act)(h)\n",
        "        # i = tf.keras.layers.Dropout(.5)(i)\n",
        "        # i = tf.keras.layers.Dense(16, kernel_regularizer=self.reg, activation=self.act)(i)\n",
        "        # i = tf.keras.layers.BatchNormalization(name='bn_7')(i)\n",
        "        j = tf.keras.layers.Dense(4, activation=self.act)(i)\n",
        "        j = tf.keras.layers.Dense(2*self.x_dim)(j)\n",
        "        self.decoder_r2 = tf.keras.Model(inputs=[r1_input_y, r2_input_z], outputs=j)\n",
        "\n",
        "        \n",
        "\n",
        "        print(self.decoder_r2.summary())\n",
        "        # During use, we would only have y. Use r1_encoder(y) = z'. Then, use r2_decoder(y, z') = x' to get the prediction / posterior.\n",
        "    \n",
        "    def get_encoders(self):\n",
        "        return self.encoder_r1, self.encoder_q\n",
        "    \n",
        "\n",
        "    @tf.function\n",
        "    def sample(self, eps=None):\n",
        "      if eps is None:\n",
        "        eps = tf.random.normal(shape=(100, self.z_dim))\n",
        "      return self.decode(eps, apply_sigmoid=True)\n",
        "\n",
        "    def encode_r1(self, y):\n",
        "      mean, logvar = tf.split(self.encoder_r1(y), num_or_size_splits=2, axis=1)\n",
        "      return mean, logvar\n",
        "\n",
        "    def encode_q(self, x, y):\n",
        "      mean, logvar = tf.split(self.encoder_q([x, y]), num_or_size_splits=2, axis=1)\n",
        "      return mean, logvar\n",
        "\n",
        "    def reparameterize(self, mean, logvar):\n",
        "      eps = tf.random.normal(shape=mean.shape)\n",
        "      return eps * tf.exp(logvar * .5) + mean\n",
        "\n",
        "    def decode(self, z, apply_sigmoid=False):\n",
        "      logits = self.decoder(z)\n",
        "      if apply_sigmoid:\n",
        "        probs = tf.sigmoid(logits)\n",
        "        return probs\n",
        "      return logits\n",
        "\n",
        "\n",
        "    def decode_r2(self, y=None, z=None, apply_sigmoid=False):\n",
        "        mean, logvar = tf.split(self.decoder_r2([y, z]), num_or_size_splits=2, axis=1)\n",
        "        return mean, logvar"
      ],
      "metadata": {
        "id": "tVciQBfofru-"
      },
      "execution_count": 77,
      "outputs": []
    },
    {
      "cell_type": "code",
      "source": [
        "tf.random.set_seed(42)\n",
        "np.random.seed(42)\n",
        "\n",
        "\n",
        "\n",
        "epochs = 200\n",
        "\n",
        "\n",
        "ramp_start = 50\n",
        "ramp_length = 100\n",
        "\n",
        "\n",
        "ramp_cycles = 1\n",
        "\n",
        "# start the training loop\n",
        "train_loss = np.zeros((epochs, 3))\n",
        "test_loss = np.zeros((epochs, 3))\n",
        "\n",
        "KL_samples = []\n",
        "\n",
        "\n",
        "\n",
        "model = CVAE(x_dim=6, y_dim=1, n_channels=params['n_channels'], \\\n",
        "             z_dim=params['z_dim'], n_modes=1, params=params)\n",
        "\n",
        "model.compile()"
      ],
      "metadata": {
        "colab": {
          "base_uri": "https://localhost:8080/"
        },
        "id": "o_528mRFKKGv",
        "outputId": "f8a7e513-9328-4822-de12-da83d829c464"
      },
      "execution_count": 78,
      "outputs": [
        {
          "output_type": "stream",
          "name": "stdout",
          "text": [
            "Model: \"model_5\"\n",
            "__________________________________________________________________________________________________\n",
            " Layer (type)                   Output Shape         Param #     Connected to                     \n",
            "==================================================================================================\n",
            " input_4 (InputLayer)           [(None, 90, 48, 1)]  0           []                               \n",
            "                                                                                                  \n",
            " conv2d_2 (Conv2D)              (None, 90, 48, 2)    34          ['input_4[0][0]']                \n",
            "                                                                                                  \n",
            " conv2d_3 (Conv2D)              (None, 90, 48, 2)    66          ['conv2d_2[0][0]']               \n",
            "                                                                                                  \n",
            " max_pooling2d_1 (MaxPooling2D)  (None, 45, 24, 2)   0           ['conv2d_3[0][0]']               \n",
            "                                                                                                  \n",
            " flatten_2 (Flatten)            (None, 2160)         0           ['max_pooling2d_1[0][0]']        \n",
            "                                                                                                  \n",
            " input_6 (InputLayer)           [(None, 6)]          0           []                               \n",
            "                                                                                                  \n",
            " concatenate_3 (Concatenate)    (None, 2166)         0           ['flatten_2[0][0]',              \n",
            "                                                                  'input_6[0][0]']                \n",
            "                                                                                                  \n",
            " dense_11 (Dense)               (None, 8)            17336       ['concatenate_3[0][0]']          \n",
            "                                                                                                  \n",
            " dense_12 (Dense)               (None, 4)            36          ['dense_11[0][0]']               \n",
            "                                                                                                  \n",
            " dense_13 (Dense)               (None, 12)           60          ['dense_12[0][0]']               \n",
            "                                                                                                  \n",
            "==================================================================================================\n",
            "Total params: 17,532\n",
            "Trainable params: 17,532\n",
            "Non-trainable params: 0\n",
            "__________________________________________________________________________________________________\n",
            "None\n"
          ]
        }
      ]
    },
    {
      "cell_type": "code",
      "source": [
        "from tensorflow.keras.losses import MeanSquaredError"
      ],
      "metadata": {
        "id": "KJ21SAD9lOjO"
      },
      "execution_count": 79,
      "outputs": []
    },
    {
      "cell_type": "code",
      "source": [
        "EPS = 1e-6\n",
        "dist_mask = np.array([True])\n",
        "not_dist_mask = np.array([True])\n",
        "\n",
        "bounds = dict(a=0.0, b=30.0)\n",
        "\n",
        "\n",
        "# KL[P || Q] = S(P) - H(P, Q)               Model P with approximation Q.\n",
        "# KL[Q || P] = S(Q) - H(Q, P)               Model Q with approximation P.\n",
        "\n",
        "# Variational Autoencoders:\n",
        "#  Let X be the data we want to model, z is the latent variable. Pr[X] = distn of data. Pr[z] latent distrn. Pr[X | z] = distrn of generating data | latent variable.\n",
        "#  We want to infer Pr[z] from Pr[z | X] which is the distrn that projects our data into the latent space.  \n",
        "#  But we do not know Pr[z | X], so we use a simpler estimate of Qr[z | X].\n",
        "\n",
        "# KL( Qr[z | X] || Pr[z | X] ) = E{ log( Qr[z | X] ) - log( Pr[z | X] ) } summed up over Qr[z | X]. \n",
        "# KL = H(Q, P) - S(Q) = cross-entropy between Q and P - entropy of P => info in just P - info overlap between P and Q => remaining info in P that we missed. \n",
        "\n",
        "\n",
        "# Ingredients:\n",
        "#   - Qr[z | x]\n",
        "#   - \n",
        "\n",
        "# Infer z_mean, z_var from just y.               Use encoder r1._samp            A = Pr[z | y].\n",
        "# \n",
        "# Infer z'_mean', z'_var' from x, y to get z_sample.                        B = Pr[z | x, y] => sample z_samp from q. We later calculate self-entropy of this.\n",
        "# Use encoder q for this.  Qr[z_sample | x, y]. Calculate self-entropy.\n",
        "# C = Pr[z_samp | y] = x_samp.\n",
        "# \n",
        "# Pr[z | x, y] is the \"real\" / actual distribution. So we want self-entropy of that - cross-entropy of that with Pr[z_samp | y].\n",
        "# What we are doing is that we are looking at how much information we are missing by calculating z_samp using Pr[z | y] instead of the actual distribution\n",
        "# of Pr[z | x, y]. This gives us our KL divergence, which we want to minimize.\n",
        "\n",
        "\n",
        "# Decode (z_sample, y) to get a distribution for x. Pr[x | z_samp, y]. Then, calculate the probability of getting x_actual under this distribution (log-likelihood).\n",
        "# The higher the probability the better it is, which we want to maximize.\n",
        "\n",
        "# Total Loss = (2) - (1)\n",
        "\n",
        "\n",
        "\n",
        "\n",
        "# XXXXX\n",
        "# Calculate self-entropy with Pr[z_samp] from inference of z_mean with y i.e. Pr[z_mean | y].  So entropy of Pr[z | x, y]. \n",
        "# This is the real distribution P. We are approximating it with Qr[z | y]. So we want S[ Pr[z | x, y] ] - H[Pr[z|x,y], Pr[z|y]].\n",
        "# Pr[z_samp] under A / r1.\n",
        "\n",
        "# \n",
        "\n",
        "tfd = tfp.distributions\n",
        "\n",
        "\n",
        "'''\n",
        "def compute_loss(model, x):\n",
        "  mean, logvar = model.encode(x)\n",
        "  z = model.reparameterize(mean, logvar)\n",
        "  x_logit = model.decode(z)\n",
        "  cross_ent = tf.nn.sigmoid_cross_entropy_with_logits(logits=x_logit, labels=x)\n",
        "  logpx_z = -tf.reduce_sum(cross_ent, axis=[1, 2, 3])\n",
        "  logpz = log_normal_pdf(z, 0., 0.)\n",
        "  logqz_x = log_normal_pdf(z, mean, logvar)\n",
        "  return -tf.reduce_mean(logpx_z + logpz - logqz_x)\n",
        "'''\n",
        "\n",
        "\n",
        "def compute_loss(model, x, y, ramp=1.0, noiseamp=1.0):\n",
        "    # Encode just y first.\n",
        "    z_given_y_mean, z_given_y_logvar = model.encode_r1(y)\n",
        "\n",
        "    # Reparameterize.\n",
        "    z_given_y = model.reparameterize(z_given_y_mean, z_given_y_logvar)\n",
        "\n",
        "    # Encode x and y to get z.\n",
        "    zq_given_x_y_mean, zq_given_x_y_logvar = model.encode_q(x, y)\n",
        "\n",
        "    # Reparameterize.\n",
        "    zq_given_x_y = model.reparameterize(zq_given_x_y_mean, zq_given_x_y_logvar)      # q \n",
        "\n",
        "    \n",
        "    x_given_y_z = model.decode_r2(y, zq_given_x_y)\n",
        "\n",
        "    # We want x_given_y_z to be as close to x (input) as possible.\n",
        "    mse = tf.keras.losses.mse(x_given_y_z[0], x)\n",
        "    mse = tf.reduce_mean(mse)\n",
        "    # Now, do KL-divergence.\n",
        "    \n",
        "    # We are approximating Pr(z | X) by Qr(z | X), and we want to minimize the distance between the two distributions.\n",
        "    # KL( Qr[z | X] || Pr[z | X] ) = E{ log( Qr[z | X] ) - log( Pr[z | X] ) } summed up over Qr[z | X].\n",
        "\n",
        "    # kl_loss = 1 + z_log_var - pz_log_var - K.tf.divide(K.square(z_mean-pz_mean),K.exp(pz_log_var)) - K.tf.divide(K.exp(z_log_var),K.exp(pz_log_var))\n",
        "    # kl_loss = -0.5*K.sum(kl_loss, axis=-1)\n",
        "\n",
        "    kl_loss = zq_given_x_y_logvar - z_given_y_logvar + tf.math.divide(tf.math.square(zq_given_x_y_mean - z_given_y_mean), 2 * tf.math.exp(2 * zq_given_x_y_logvar)) \\\n",
        "              + tf.math.divide(tf.math.exp(2 * z_given_y_logvar), 2 * tf.math.exp(2 * zq_given_x_y_logvar))\n",
        "\n",
        "    kl_loss = tf.reduce_mean(kl_loss)\n",
        "\n",
        "    return mse, kl_loss"
      ],
      "metadata": {
        "id": "IWHHh5M9fsqH"
      },
      "execution_count": 80,
      "outputs": []
    },
    {
      "cell_type": "code",
      "source": [
        "train_loss_metric = tf.keras.metrics.Mean('train_loss', dtype=tf.float32)\n",
        "\n",
        "@tf.function\n",
        "def train_step(model, x, y, optimizer, ramp=1.0):\n",
        "    \"\"\"Executes one training step and returns the loss.\n",
        "    This function computes the loss and gradients, and uses the latter to\n",
        "    update the model's parameters.\n",
        "    \"\"\"\n",
        "    with tf.GradientTape() as tape:\n",
        "        r_loss, kl_loss = compute_loss(model, x, y, ramp=ramp)\n",
        "        # r_loss, kl_loss = compute_loss(model, x, y)\n",
        "        loss = r_loss + ramp * kl_loss\n",
        "        \n",
        "    gradients = tape.gradient(loss, model.trainable_variables, unconnected_gradients=tf.UnconnectedGradients.ZERO)\n",
        "    optimizer.apply_gradients(zip(gradients, model.trainable_variables))\n",
        "    \n",
        "    train_loss_metric(loss)\n",
        "    \n",
        "    return r_loss, kl_loss, loss"
      ],
      "metadata": {
        "id": "6-GzauiEfujy"
      },
      "execution_count": 81,
      "outputs": []
    },
    {
      "cell_type": "code",
      "source": [
        "\n",
        "\n",
        "# ramp_list = [ramp_func(ep, ramp_start, ramp_length, ramp_cycles) for ep in np.arange(0, epochs, 1)]\n",
        "\n",
        "# plt.plot(ramp_list)"
      ],
      "metadata": {
        "id": "i8R_-JNgyHMz"
      },
      "execution_count": 82,
      "outputs": []
    },
    {
      "cell_type": "code",
      "source": [
        "x_train_s[1:2,:,0].shape, y_train_s[1:2,:,:,0].shape"
      ],
      "metadata": {
        "colab": {
          "base_uri": "https://localhost:8080/"
        },
        "id": "RKs_Xhymfxai",
        "outputId": "eb62bac8-5ffd-4506-c8e1-c87abcf507b0"
      },
      "execution_count": 83,
      "outputs": [
        {
          "output_type": "execute_result",
          "data": {
            "text/plain": [
              "(TensorShape([1, 6]), TensorShape([1, 90, 48]))"
            ]
          },
          "metadata": {},
          "execution_count": 83
        }
      ]
    },
    {
      "cell_type": "code",
      "source": [
        "model.encode_r1(y_train_s[1:2,:,:,0])"
      ],
      "metadata": {
        "colab": {
          "base_uri": "https://localhost:8080/"
        },
        "id": "mE1dsqWVk3hv",
        "outputId": "028eec54-230e-47fd-dc79-679a46660126"
      },
      "execution_count": 84,
      "outputs": [
        {
          "output_type": "execute_result",
          "data": {
            "text/plain": [
              "(<tf.Tensor: shape=(1, 6), dtype=float32, numpy=\n",
              " array([[-0.01542785,  0.03148625,  0.0956341 ,  0.1278049 ,  0.0236148 ,\n",
              "          0.15516654]], dtype=float32)>,\n",
              " <tf.Tensor: shape=(1, 6), dtype=float32, numpy=\n",
              " array([[ 0.11679469, -0.04894501,  0.0360241 ,  0.11682863,  0.02532921,\n",
              "          0.17660046]], dtype=float32)>)"
            ]
          },
          "metadata": {},
          "execution_count": 84
        }
      ]
    },
    {
      "cell_type": "code",
      "source": [
        "model.encode_q(x_train_s[1:2,:,0], y_train_s[1:2,:,:,0])"
      ],
      "metadata": {
        "colab": {
          "base_uri": "https://localhost:8080/"
        },
        "id": "84wsMWc1k8Zr",
        "outputId": "7c2612fb-3307-4662-a264-2b089a2ad5fd"
      },
      "execution_count": 85,
      "outputs": [
        {
          "output_type": "execute_result",
          "data": {
            "text/plain": [
              "(<tf.Tensor: shape=(1, 6), dtype=float32, numpy=\n",
              " array([[ 0.05905725, -0.02746127, -0.03521162, -0.05508854,  0.07941642,\n",
              "          0.10685998]], dtype=float32)>,\n",
              " <tf.Tensor: shape=(1, 6), dtype=float32, numpy=\n",
              " array([[-0.02081151, -0.01109356, -0.0268687 ,  0.03334036,  0.15880623,\n",
              "         -0.0466671 ]], dtype=float32)>)"
            ]
          },
          "metadata": {},
          "execution_count": 85
        }
      ]
    },
    {
      "cell_type": "code",
      "source": [
        "model.decode_r2(y_train_s[1:2,:,:,0], np.random.normal(0, 1, (1, params['z_dim'])))"
      ],
      "metadata": {
        "colab": {
          "base_uri": "https://localhost:8080/"
        },
        "id": "r7GlLvcqlPK1",
        "outputId": "32e114b4-732e-42fd-bdb9-0c5dd0c8ed10"
      },
      "execution_count": 86,
      "outputs": [
        {
          "output_type": "execute_result",
          "data": {
            "text/plain": [
              "(<tf.Tensor: shape=(1, 6), dtype=float32, numpy=\n",
              " array([[-0.04025345,  0.04958296, -0.03812861, -0.04840943,  0.00443882,\n",
              "          0.01537558]], dtype=float32)>,\n",
              " <tf.Tensor: shape=(1, 6), dtype=float32, numpy=\n",
              " array([[-0.02318467, -0.03529839, -0.02199674,  0.01420135,  0.03180993,\n",
              "          0.07086306]], dtype=float32)>)"
            ]
          },
          "metadata": {},
          "execution_count": 86
        }
      ]
    },
    {
      "cell_type": "code",
      "source": [
        "x_train_s[1:2,:,0].shape, y_train_s[1:2,:,:,0].shape"
      ],
      "metadata": {
        "colab": {
          "base_uri": "https://localhost:8080/"
        },
        "id": "eSIIopj_EWi-",
        "outputId": "7634393a-0f7b-48bb-fc50-905962049c9f"
      },
      "execution_count": 87,
      "outputs": [
        {
          "output_type": "execute_result",
          "data": {
            "text/plain": [
              "(TensorShape([1, 6]), TensorShape([1, 90, 48]))"
            ]
          },
          "metadata": {},
          "execution_count": 87
        }
      ]
    },
    {
      "cell_type": "code",
      "source": [
        "loss = compute_loss(model, x_train_s[1:2,:,0], y_train_s[1:2,:,:,0])\n",
        "\n",
        "loss"
      ],
      "metadata": {
        "colab": {
          "base_uri": "https://localhost:8080/"
        },
        "id": "V8Uf1mtbldn0",
        "outputId": "42f10879-2544-4cf8-b34e-138487373247"
      },
      "execution_count": 88,
      "outputs": [
        {
          "output_type": "execute_result",
          "data": {
            "text/plain": [
              "(<tf.Tensor: shape=(), dtype=float32, numpy=0.46178234>,\n",
              " <tf.Tensor: shape=(), dtype=float32, numpy=0.52332777>)"
            ]
          },
          "metadata": {},
          "execution_count": 88
        }
      ]
    },
    {
      "cell_type": "code",
      "source": [
        "tf.get_static_value(loss[0])"
      ],
      "metadata": {
        "colab": {
          "base_uri": "https://localhost:8080/"
        },
        "id": "IIZP7BYHXXLC",
        "outputId": "ca1a738f-d850-45cc-deb6-fc84672a33f4"
      },
      "execution_count": 89,
      "outputs": [
        {
          "output_type": "execute_result",
          "data": {
            "text/plain": [
              "0.46178234"
            ]
          },
          "metadata": {},
          "execution_count": 89
        }
      ]
    },
    {
      "cell_type": "code",
      "source": [
        "ramp_grad = 0.025\n",
        "\n",
        "plt.plot([np.min([(epoch-ramp_start)*ramp_grad,1.0]) if epoch > ramp_start else 0.0 for epoch in range(0, epochs, 1)])"
      ],
      "metadata": {
        "colab": {
          "base_uri": "https://localhost:8080/",
          "height": 282
        },
        "id": "LvHTmwuFmUMW",
        "outputId": "a54418f6-4dae-46a9-ea23-a288de5aea25"
      },
      "execution_count": 90,
      "outputs": [
        {
          "output_type": "execute_result",
          "data": {
            "text/plain": [
              "[<matplotlib.lines.Line2D at 0x7f36b5c743a0>]"
            ]
          },
          "metadata": {},
          "execution_count": 90
        },
        {
          "output_type": "display_data",
          "data": {
            "text/plain": [
              "<Figure size 432x288 with 1 Axes>"
            ],
            "image/png": "[encoded data removed]"
          },
          "metadata": {
            "needs_background": "light"
          }
        }
      ]
    },
    {
      "cell_type": "code",
      "source": [
        "loss = tf.keras.metrics.Mean()\n",
        "\n",
        "print(\"Running with\", epochs, \"epochs.\")\n",
        "\n",
        "for epoch in range(1, epochs + 1):\n",
        "    temp_train_r_loss, temp_train_kl_loss, temp_train_loss = 0.0, 0.0, 0.0\n",
        "    temp_test_r_loss, temp_test_kl_loss, temp_test_loss = 0.0, 0.0, 0.0\n",
        "\n",
        "    \n",
        "    \n",
        "    current_ramp = (np.min([(epoch-ramp_start)*ramp_grad,1.0]).astype(np.single) if epoch>ramp_start else 0.0)\n",
        "    \n",
        "\n",
        "    # current_ramp = 1.0\n",
        "    # print(ramp)\n",
        "    \n",
        "    for step, (x_batch_train, y_batch_train) in train_dataset.enumerate():\n",
        "        x_b = x_batch_train[:,:,0]\n",
        "        # print(\"x_batch, y_batch\", x_b.shape, y_batch_train.shape)    \n",
        "        temp_train_r_loss, temp_train_kl_loss, temp_train_loss = train_step(model, x_b, y_batch_train, optimizer, ramp=current_ramp)\n",
        "\n",
        "        # print(temp_train_r_loss, temp_train_kl_loss, temp_train_loss)\n",
        "        \n",
        "        train_loss[epoch - 1, 0] += temp_train_r_loss / len(train_dataset)\n",
        "        train_loss[epoch - 1, 1] += temp_train_kl_loss / len(train_dataset)\n",
        "        train_loss[epoch - 1, 2] += temp_train_loss / len(train_dataset)\n",
        "        \n",
        "    for step, (x_batch_test, y_batch_test) in test_dataset.enumerate():\n",
        "        x_b_t = x_batch_test[:,:,0]\n",
        "        temp_test_r_loss, temp_test_kl_loss = compute_loss(model, x_b_t, y_batch_test)\n",
        "        test_loss[epoch - 1, 0] += temp_test_r_loss / len(test_dataset)\n",
        "        test_loss[epoch - 1, 1] += temp_test_kl_loss / len(test_dataset)\n",
        "        # test_loss[epoch - 1, 2] += temp_test_loss / len(test_dataset)\n",
        "    \n",
        "    if epoch % 10 == 0:\n",
        "        print(\"epoch = %d; train loss = %.4e, train KL = %.4e; train total: %.4e; test loss = %.4e, test KL = %.4e\" % \\\n",
        "              (epoch, tf.get_static_value(train_loss[epoch - 1, 0]), tf.get_static_value(train_loss[epoch - 1, 1]), tf.get_static_value(train_loss[epoch - 1, 2]), \\\n",
        "               tf.get_static_value(test_loss[epoch - 1, 0]), tf.get_static_value(test_loss[epoch - 1, 1])))\n"
      ],
      "metadata": {
        "colab": {
          "base_uri": "https://localhost:8080/"
        },
        "id": "kCq66Kobly49",
        "outputId": "ade080aa-75cd-4801-9128-15912ad7967c"
      },
      "execution_count": 91,
      "outputs": [
        {
          "output_type": "stream",
          "name": "stdout",
          "text": [
            "Running with 200 epochs.\n",
            "epoch = 10; train loss = 8.4798e-02, train KL = 9.1363e-01; train total: 8.4798e-02; test loss = 9.5646e-02, test KL = 9.2196e-01\n",
            "epoch = 20; train loss = 7.4933e-02, train KL = 1.1224e+00; train total: 7.4933e-02; test loss = 9.1727e-02, test KL = 1.1110e+00\n",
            "epoch = 30; train loss = 6.8336e-02, train KL = 1.4718e+00; train total: 6.8336e-02; test loss = 9.1137e-02, test KL = 1.4506e+00\n",
            "epoch = 40; train loss = 5.9981e-02, train KL = 2.0322e+00; train total: 5.9981e-02; test loss = 8.6467e-02, test KL = 1.9849e+00\n",
            "epoch = 50; train loss = 5.4399e-02, train KL = 2.7979e+00; train total: 5.4399e-02; test loss = 8.7062e-02, test KL = 2.7087e+00\n",
            "epoch = 60; train loss = 5.8719e-02, train KL = 5.1710e-01; train total: 1.8799e-01; test loss = 1.0484e-01, test KL = 5.1410e-01\n",
            "epoch = 70; train loss = 5.5982e-02, train KL = 5.0491e-01; train total: 3.0843e-01; test loss = 1.0639e-01, test KL = 5.0609e-01\n",
            "epoch = 80; train loss = 5.3545e-02, train KL = 5.0238e-01; train total: 4.3033e-01; test loss = 1.1820e-01, test KL = 5.0410e-01\n",
            "epoch = 90; train loss = 4.8982e-02, train KL = 5.0139e-01; train total: 5.5037e-01; test loss = 1.1858e-01, test KL = 5.0298e-01\n",
            "epoch = 100; train loss = 4.6102e-02, train KL = 5.0086e-01; train total: 5.4696e-01; test loss = 1.2856e-01, test KL = 5.0232e-01\n",
            "epoch = 110; train loss = 4.2569e-02, train KL = 5.0062e-01; train total: 5.4319e-01; test loss = 1.3037e-01, test KL = 5.0196e-01\n",
            "epoch = 120; train loss = 4.0271e-02, train KL = 5.0040e-01; train total: 5.4067e-01; test loss = 1.3508e-01, test KL = 5.0177e-01\n",
            "epoch = 130; train loss = 3.8175e-02, train KL = 5.0032e-01; train total: 5.3849e-01; test loss = 1.4067e-01, test KL = 5.0157e-01\n",
            "epoch = 140; train loss = 3.6143e-02, train KL = 5.0022e-01; train total: 5.3637e-01; test loss = 1.4385e-01, test KL = 5.0132e-01\n",
            "epoch = 150; train loss = 3.4284e-02, train KL = 5.0017e-01; train total: 5.3446e-01; test loss = 1.4724e-01, test KL = 5.0117e-01\n",
            "epoch = 160; train loss = 3.2618e-02, train KL = 5.0014e-01; train total: 5.3276e-01; test loss = 1.4842e-01, test KL = 5.0104e-01\n",
            "epoch = 170; train loss = 3.1164e-02, train KL = 5.0010e-01; train total: 5.3127e-01; test loss = 1.5224e-01, test KL = 5.0086e-01\n",
            "epoch = 180; train loss = 2.9876e-02, train KL = 5.0009e-01; train total: 5.2997e-01; test loss = 1.5377e-01, test KL = 5.0071e-01\n",
            "epoch = 190; train loss = 2.8703e-02, train KL = 5.0007e-01; train total: 5.2878e-01; test loss = 1.5818e-01, test KL = 5.0071e-01\n",
            "epoch = 200; train loss = 2.7655e-02, train KL = 5.0007e-01; train total: 5.2772e-01; test loss = 1.5988e-01, test KL = 5.0067e-01\n"
          ]
        }
      ]
    },
    {
      "cell_type": "code",
      "source": [
        "plt.figure(figsize=(10, 5), dpi=150)\n",
        "\n",
        "plt.subplot(121)\n",
        "plt.plot(train_loss[:,0], label=\"Train R Loss\")\n",
        "# plt.plot(test_loss[:,0], label=\"Test R Loss\")\n",
        "plt.plot(train_loss[:,1], label=\"Train KL Loss\")\n",
        "plt.plot(train_loss[:,2], label=\"Train Total Loss\")\n",
        "\n",
        "# plt.ylim(0, 0.1)\n",
        "\n",
        "plt.legend()\n",
        "# plt.yscale('log')\n",
        "\n",
        "plt.subplot(122)\n",
        "plt.plot(test_loss[:,0], label=\"Test R Loss\")\n",
        "plt.plot(test_loss[:,1], label=\"Test KL Loss\")\n",
        "\n",
        "# plt.ylim(0, 0.15)\n",
        "\n",
        "plt.legend()\n",
        "# plt.yscale('log')"
      ],
      "metadata": {
        "colab": {
          "base_uri": "https://localhost:8080/",
          "height": 664
        },
        "id": "7CONJyTtmIGt",
        "outputId": "69664acb-77cd-4887-a3ba-bd59a4fc1531"
      },
      "execution_count": 92,
      "outputs": [
        {
          "output_type": "execute_result",
          "data": {
            "text/plain": [
              "<matplotlib.legend.Legend at 0x7f36b4c33040>"
            ]
          },
          "metadata": {},
          "execution_count": 92
        },
        {
          "output_type": "display_data",
          "data": {
            "text/plain": [
              "<Figure size 1500x750 with 2 Axes>"
            ],
            "image/png": "[encoded data removed]"
          },
          "metadata": {
            "needs_background": "light"
          }
        }
      ]
    },
    {
      "cell_type": "code",
      "source": [
        "def gen_z_samples(model, x, y, nsamples=1000):\n",
        "    \n",
        "    y = y / params['y_normscale']\n",
        "    y = tf.tile(y,(nsamples, 1, 1))\n",
        "    x = tf.tile(x,(nsamples, 1))\n",
        "    \n",
        "    mean_r1, logvar_r1, logweight_r1 = model.encode_r1(y=y)\n",
        "    \n",
        "    scale_r1 = EPS + tf.sqrt(tf.exp(logvar_r1))\n",
        "    \n",
        "    gm_r1 = tfd.MixtureSameFamily(mixture_distribution=tfd.Categorical(logits=logweight_r1),\n",
        "            components_distribution=tfd.MultivariateNormalDiag(\n",
        "            loc=mean_r1,\n",
        "            scale_diag=scale_r1))\n",
        "    \n",
        "    z_samp_r1 = gm_r1.sample()\n",
        "    \n",
        "    mean_q, logvar_q = model.encode_q(x=x,y=y)\n",
        "    \n",
        "    scale_q = EPS + tf.sqrt(tf.exp(logvar_q))\n",
        "    mvn_q = tfp.distributions.MultivariateNormalDiag(\n",
        "                          loc=mean_q,\n",
        "                          scale_diag=scale_q)\n",
        "    \n",
        "    z_samp_q = mvn_q.sample()    \n",
        "    \n",
        "    return mean_r1, z_samp_r1, mean_q, z_samp_q"
      ],
      "metadata": {
        "id": "9BlnypwCFwEh"
      },
      "execution_count": 93,
      "outputs": []
    },
    {
      "cell_type": "code",
      "source": [
        "def gen_samples(model, y, ramp=1.0, nsamples=100, max_samples=10):    # Generate samples from (test) y.\n",
        "\n",
        "    y = y\n",
        "    y = tf.tile(y, (max_samples, 1, 1, 1))\n",
        "    \n",
        "    samp_iterations = int(nsamples / max_samples)\n",
        "\n",
        "    print(\"samp_iterations\", samp_iterations)\n",
        "    \n",
        "    x_sample = []\n",
        "    for i in range(samp_iterations):\n",
        "        mean_r1, logvar_r1 = model.encode_r1(y=y) # Encode y to get z.\n",
        "        \n",
        "        \n",
        "\n",
        "        \n",
        "        # z_samp = gm_r1.sample()   # Sample a z_samp.\n",
        "\n",
        "        z_samp = model.reparameterize(mean_r1, logvar_r1)\n",
        "        \n",
        "        mean_r2, logvar_r2 = model.decode_r2(z=z_samp,y=y)  # Decode (z_samp, y) => x\n",
        "\n",
        "        current_sample = model.reparameterize(mean_r2, logvar_r2)\n",
        "        # current_sample_inverse_transformed = x_scaler.inverse_transform(current_sample)\n",
        "\n",
        "        if i == 0:\n",
        "            x_sample = current_sample   # Sample an x.\n",
        "        else:\n",
        "            x_sample = tf.concat([x_sample, current_sample],axis=0)\n",
        "\n",
        "\n",
        "    return np.array(x_sample)\n"
      ],
      "metadata": {
        "id": "xu5RKouJF0yU"
      },
      "execution_count": 94,
      "outputs": []
    },
    {
      "cell_type": "code",
      "source": [
        "bounds = {'frequency_min': fmin, 'frequency_max': fmax}\n",
        "\n",
        "defaults_kwargs = dict(\n",
        "                    bins=50, smooth=0.9, label_kwargs=dict(fontsize=16),\n",
        "                    title_kwargs=dict(fontsize=16), quantiles=[0.16, 0.84],\n",
        "                    levels=(0.68,0.90,0.95), density=True,\n",
        "                    plot_density=False, plot_datapoints=True,\n",
        "                    max_n_ticks=5)\n",
        "\n",
        "\n",
        "hist_kwargs = dict(density=True)\n",
        "hist_kwargs_other = dict(density=True)"
      ],
      "metadata": {
        "id": "3TRdoujQF2dR"
      },
      "execution_count": 95,
      "outputs": []
    },
    {
      "cell_type": "code",
      "source": [
        "plot_dir = \"./\"\n",
        "params['n_samples'] = 1000\n",
        "\n",
        "run = plot_dir"
      ],
      "metadata": {
        "id": "ZN-P1UPxF6L1"
      },
      "execution_count": 96,
      "outputs": []
    },
    {
      "cell_type": "code",
      "source": [
        "params['corner_labels'] = {'frequency': 'frequency', 'fdot': 'fdot', 'fdotdot': 'fdotdot', 'Omega': 'Omega', 'a_p': 'a_p', 'bin': 'bin'}"
      ],
      "metadata": {
        "id": "_Y1REeOXIyDD"
      },
      "execution_count": 97,
      "outputs": []
    },
    {
      "cell_type": "code",
      "source": [
        "# invert_scaling(x, max_value, min_value)\n",
        "\n",
        "min_max_values = [(fmin, fmax), (f1min, f1max), (f2min, f2max), (omega_min, omega_max), (ap_min, ap_max), (0, 90)]\n",
        "\n",
        "min_max_values"
      ],
      "metadata": {
        "colab": {
          "base_uri": "https://localhost:8080/"
        },
        "id": "PKTKnwmgiAFf",
        "outputId": "d95eff11-c500-47d5-d6eb-2d455cfa9551"
      },
      "execution_count": 98,
      "outputs": [
        {
          "output_type": "execute_result",
          "data": {
            "text/plain": [
              "[(19.95, 20.05), (-8, -6), (-13, -12), (-10, -5), (0.0, 2.0), (0, 90)]"
            ]
          },
          "metadata": {},
          "execution_count": 98
        }
      ]
    },
    {
      "cell_type": "code",
      "source": [
        "def generate_posterior(dataset):\n",
        "\n",
        "  for step, (x_batch, y_batch) in dataset.enumerate():\n",
        "\n",
        "      if step > 1:\n",
        "        break\n",
        "\n",
        "      samples = gen_samples(model, y_batch, ramp=1.0, nsamples=params['n_samples'], max_samples=100)\n",
        "\n",
        "      print('Epoch: {}, run {} Testing time elapsed for {} samples.'.format(epoch, run, params['n_samples']))\n",
        "\n",
        "      # print(np.mean(samples), np.mean(x_truth))\n",
        "      # print(samples)\n",
        "\n",
        "      # x_truth = x_scaler.inverse_transform(x_batch)\n",
        "      # x_truth = np.expand_dims(x_scaler.inverse_transform(x_batch[:,:,0]), -1)\n",
        "\n",
        "      # x_batch[:,:-1]\n",
        "      x_truth = x_batch    # Exclude the very last parameter\n",
        "\n",
        "      # tf.reduce_mean(x_truth[:,:,0], axis=(0))\n",
        "\n",
        "      sample_mean = tf.math.reduce_mean(samples, axis=0)\n",
        "      sample_std = tf.math.reduce_std(samples, axis=0)\n",
        "      x_truth_mean = tf.math.reduce_mean(x_truth[:,:,0], axis=0)\n",
        "      x_truth_std = tf.math.reduce_std(x_truth[:,:,0], axis=0)\n",
        "\n",
        "      # print(type(sample_mean), type(x_truth_mean))\n",
        "      # diff = 100 * np.abs(sample_mean - x_truth_mean) / x_truth_mean\n",
        "      diff = -1\n",
        "\n",
        "      # print(\"Mean of sample = %.2f (%.2f); mean of truth = %.2f (%.2f); difference = %.2f percent.\" % (sample_mean, sample_std, x_truth_mean, x_truth_std, diff))\n",
        "      \n",
        "      # print(\"Mean of sample = \", end=\"\\t\")\n",
        "      # print(sample_mean)\n",
        "      # print(\" x truth mean = \", end=\"\\t\")\n",
        "      # print(x_truth_mean)\n",
        "      # print(\" diff = \", end=\"\\t\")\n",
        "      # print(diff)\n",
        "      \n",
        "\n",
        "      # print(params['corner_labels'])\n",
        "      # Get corner parnames to use in plotting labels\n",
        "      parnames = []\n",
        "      for k_idx, k in enumerate(params['rand_pars']):\n",
        "          # print(k_idx, k)\n",
        "          if np.isin(k, params['inf_pars']):\n",
        "              parnames.append(params['corner_labels'][k])\n",
        "\n",
        "      full_true_x = np.zeros(x_truth.shape[1:])\n",
        "      new_samples = np.zeros([samples.shape[0], len(params['inf_pars'])])\n",
        "\n",
        "      # print(full_true_x.shape)\n",
        "      # print(x_truth[0].shape)\n",
        "      for inf_par_idx, inf_par in enumerate(params['inf_pars']):\n",
        "        min_max_value = min_max_values[inf_par_idx]\n",
        "        # print(inf_par_idx)\n",
        "        new_samples[:,inf_par_idx] = invert_scaling(samples[:,inf_par_idx], min_max_value[0], min_max_value[1])\n",
        "        # print(min_max_value)\n",
        "        # print(new_samples[:,inf_par_idx][0:5])\n",
        "        # break\n",
        "        full_true_x[inf_par_idx] = invert_scaling(x_truth[0, inf_par_idx, 0], min_max_value[0], min_max_value[1])\n",
        "      \n",
        "      # print(\"Full true x = \", full_true_x[:,0])\n",
        "      # plt.subplot(width, height, step + 1)\n",
        "      # figure = corner.corner(new_samples, **defaults_kwargs,labels=parnames,\n",
        "      #                   color='tab:red',\n",
        "      #                   fill_contours=True, truths=full_true_x[:,0],\n",
        "      #                   show_titles=True, hist_kwargs=hist_kwargs)\n",
        "\n",
        "      figure = corner.corner(new_samples, \n",
        "                             labels=parnames, \n",
        "                             **defaults_kwargs,\n",
        "                             fill_contours=True,\n",
        "                             show_titles=True,\n",
        "                             hist_kwargs=hist_kwargs\n",
        "                             )\n",
        "      \n",
        "      figure.suptitle(\" \".join([f\"{t:.2f}\" for t in full_true_x[:,0]]))\n",
        "\n",
        "      value1 = full_true_x[:,0]\n",
        "      value2 = np.mean(new_samples, axis=0)\n",
        "\n",
        "      ndim = len(params['inf_pars'])\n",
        "      # Extract the axes\n",
        "      axes = np.array(figure.axes).reshape((ndim, ndim))\n",
        "\n",
        "      # Loop over the diagonal\n",
        "      for i in range(ndim):\n",
        "          ax = axes[i, i]\n",
        "          ax.axvline(value1[i], color=\"g\")\n",
        "          ax.axvline(value2[i], color=\"r\")\n",
        "\n",
        "          min_max_value = min_max_values[i]\n",
        "          ax.set_xlim(min_max_value[0], min_max_value[1])\n",
        "\n",
        "      # Loop over the histograms\n",
        "      for yi in range(ndim):\n",
        "          for xi in range(yi):\n",
        "              ax = axes[yi, xi]\n",
        "              ax.axvline(value1[xi], color=\"g\")\n",
        "              ax.axvline(value2[xi], color=\"r\")\n",
        "              ax.axhline(value1[yi], color=\"g\")\n",
        "              ax.axhline(value2[yi], color=\"r\")\n",
        "              ax.plot(value1[xi], value1[yi], \"sg\")\n",
        "              ax.plot(value2[xi], value2[yi], \"sr\")\n",
        "\n",
        "              min_max_value_for_x = min_max_values[xi]\n",
        "              min_max_value_for_y = min_max_values[yi]\n",
        "\n",
        "              ax.set_xlim(min_max_value_for_x[0], min_max_value_for_x[1])\n",
        "              ax.set_ylim(min_max_value_for_y[0], min_max_value_for_y[1])\n",
        "              \n",
        "      figure.set_tight_layout(True)\n",
        "\n",
        "      break"
      ],
      "metadata": {
        "id": "87p4II7XF6a5"
      },
      "execution_count": 99,
      "outputs": []
    },
    {
      "cell_type": "code",
      "source": [
        "generate_posterior(train_dataset)"
      ],
      "metadata": {
        "colab": {
          "base_uri": "https://localhost:8080/",
          "height": 1000
        },
        "id": "VRlfM4zNGJkr",
        "outputId": "11a99595-4dff-4506-bf3c-4bfc2ce99dbe"
      },
      "execution_count": 100,
      "outputs": [
        {
          "output_type": "stream",
          "name": "stdout",
          "text": [
            "samp_iterations 10\n",
            "Epoch: 200, run ./ Testing time elapsed for 1000 samples.\n"
          ]
        },
        {
          "output_type": "display_data",
          "data": {
            "text/plain": [
              "<Figure size 1000.8x1000.8 with 36 Axes>"
            ],
            "image/png": "[encoded data removed]"
          },
          "metadata": {
            "needs_background": "light"
          }
        }
      ]
    },
    {
      "cell_type": "code",
      "source": [
        "params['inf_pars']"
      ],
      "metadata": {
        "colab": {
          "base_uri": "https://localhost:8080/"
        },
        "id": "H1uN0uQZjyas",
        "outputId": "a4c8b183-4ad3-4b62-f4d8-4e3c8366456f"
      },
      "execution_count": 101,
      "outputs": [
        {
          "output_type": "execute_result",
          "data": {
            "text/plain": [
              "ListWrapper(['frequency', 'fdot', 'fdotdot', 'Omega', 'a_p', 'bin'])"
            ]
          },
          "metadata": {},
          "execution_count": 101
        }
      ]
    },
    {
      "cell_type": "code",
      "source": [
        "generate_posterior(test_dataset)"
      ],
      "metadata": {
        "colab": {
          "base_uri": "https://localhost:8080/",
          "height": 1000
        },
        "id": "wvQmLTNTHK_K",
        "outputId": "78c45b16-26c6-4353-eb44-00fc5597729d"
      },
      "execution_count": 102,
      "outputs": [
        {
          "output_type": "stream",
          "name": "stdout",
          "text": [
            "samp_iterations 10\n",
            "Epoch: 200, run ./ Testing time elapsed for 1000 samples.\n"
          ]
        },
        {
          "output_type": "display_data",
          "data": {
            "text/plain": [
              "<Figure size 1000.8x1000.8 with 36 Axes>"
            ],
            "image/png": "[encoded data removed]"
          },
          "metadata": {
            "needs_background": "light"
          }
        }
      ]
    },
    {
      "cell_type": "code",
      "source": [
        "x_s.shape"
      ],
      "metadata": {
        "id": "47ytbwagZc5m",
        "colab": {
          "base_uri": "https://localhost:8080/"
        },
        "outputId": "a6e565b5-7d0e-4f8a-b8d4-14bb77294ed6"
      },
      "execution_count": 103,
      "outputs": [
        {
          "output_type": "execute_result",
          "data": {
            "text/plain": [
              "(500, 6)"
            ]
          },
          "metadata": {},
          "execution_count": 103
        }
      ]
    },
    {
      "cell_type": "code",
      "source": [
        "for step, (x_batch, y_batch) in train_dataset.enumerate():\n",
        "\n",
        "  print(x_batch.shape)\n",
        "  print(x_batch[:,0,:])"
      ],
      "metadata": {
        "id": "aso1fe0iaghE",
        "colab": {
          "base_uri": "https://localhost:8080/"
        },
        "outputId": "9a4aa7bc-f553-4a51-ab38-246859bee2ea"
      },
      "execution_count": 104,
      "outputs": [
        {
          "output_type": "stream",
          "name": "stdout",
          "text": [
            "(8, 6, 1)\n",
            "tf.Tensor(\n",
            "[[0.521286  ]\n",
            " [0.49874088]\n",
            " [0.449305  ]\n",
            " [0.7352557 ]\n",
            " [0.3572423 ]\n",
            " [0.5801759 ]\n",
            " [0.7071914 ]\n",
            " [0.54725754]], shape=(8, 1), dtype=float32)\n",
            "(8, 6, 1)\n",
            "tf.Tensor(\n",
            "[[0.48574692]\n",
            " [0.3538642 ]\n",
            " [0.2906035 ]\n",
            " [0.28351116]\n",
            " [0.3461567 ]\n",
            " [0.65168154]\n",
            " [0.3207238 ]\n",
            " [0.7204987 ]], shape=(8, 1), dtype=float32)\n",
            "(8, 6, 1)\n",
            "tf.Tensor(\n",
            "[[0.46102953]\n",
            " [0.52609056]\n",
            " [0.36763585]\n",
            " [0.6551914 ]\n",
            " [0.34205496]\n",
            " [0.2935481 ]\n",
            " [0.70688033]\n",
            " [0.25318545]], shape=(8, 1), dtype=float32)\n",
            "(8, 6, 1)\n",
            "tf.Tensor(\n",
            "[[0.49705607]\n",
            " [0.514427  ]\n",
            " [0.47010607]\n",
            " [0.48866662]\n",
            " [0.3547003 ]\n",
            " [0.41379482]\n",
            " [0.49473813]\n",
            " [0.28165087]], shape=(8, 1), dtype=float32)\n",
            "(8, 6, 1)\n",
            "tf.Tensor(\n",
            "[[0.6453314 ]\n",
            " [0.73758346]\n",
            " [0.64707357]\n",
            " [0.3782568 ]\n",
            " [0.6755241 ]\n",
            " [0.5272345 ]\n",
            " [0.4618438 ]\n",
            " [0.6870201 ]], shape=(8, 1), dtype=float32)\n",
            "(8, 6, 1)\n",
            "tf.Tensor(\n",
            "[[0.3812075 ]\n",
            " [0.3020892 ]\n",
            " [0.29064062]\n",
            " [0.60753113]\n",
            " [0.2542567 ]\n",
            " [0.6237982 ]\n",
            " [0.28681177]\n",
            " [0.3487197 ]], shape=(8, 1), dtype=float32)\n",
            "(8, 6, 1)\n",
            "tf.Tensor(\n",
            "[[0.59458745]\n",
            " [0.3630575 ]\n",
            " [0.720544  ]\n",
            " [0.7425705 ]\n",
            " [0.7480747 ]\n",
            " [0.53759384]\n",
            " [0.5211411 ]\n",
            " [0.56843555]], shape=(8, 1), dtype=float32)\n",
            "(8, 6, 1)\n",
            "tf.Tensor(\n",
            "[[0.62255675]\n",
            " [0.4542885 ]\n",
            " [0.4602475 ]\n",
            " [0.4133395 ]\n",
            " [0.3481733 ]\n",
            " [0.5787352 ]\n",
            " [0.6128236 ]\n",
            " [0.26586783]], shape=(8, 1), dtype=float32)\n",
            "(8, 6, 1)\n",
            "tf.Tensor(\n",
            "[[0.6510173 ]\n",
            " [0.54285365]\n",
            " [0.42779326]\n",
            " [0.49691823]\n",
            " [0.43969703]\n",
            " [0.7156706 ]\n",
            " [0.38966942]\n",
            " [0.25629252]], shape=(8, 1), dtype=float32)\n",
            "(8, 6, 1)\n",
            "tf.Tensor(\n",
            "[[0.5805867 ]\n",
            " [0.36778426]\n",
            " [0.51035655]\n",
            " [0.5198098 ]\n",
            " [0.46227658]\n",
            " [0.4348048 ]\n",
            " [0.64672524]\n",
            " [0.41538754]], shape=(8, 1), dtype=float32)\n",
            "(8, 6, 1)\n",
            "tf.Tensor(\n",
            "[[0.25804427]\n",
            " [0.51327443]\n",
            " [0.4123465 ]\n",
            " [0.6465763 ]\n",
            " [0.39976028]\n",
            " [0.32975647]\n",
            " [0.5052467 ]\n",
            " [0.5481911 ]], shape=(8, 1), dtype=float32)\n",
            "(8, 6, 1)\n",
            "tf.Tensor(\n",
            "[[0.45351586]\n",
            " [0.38461566]\n",
            " [0.48854324]\n",
            " [0.41842312]\n",
            " [0.34280878]\n",
            " [0.6764645 ]\n",
            " [0.45631212]\n",
            " [0.5917231 ]], shape=(8, 1), dtype=float32)\n",
            "(8, 6, 1)\n",
            "tf.Tensor(\n",
            "[[0.7205676 ]\n",
            " [0.3871803 ]\n",
            " [0.2678942 ]\n",
            " [0.5869837 ]\n",
            " [0.6827691 ]\n",
            " [0.34829256]\n",
            " [0.6079344 ]\n",
            " [0.6434746 ]], shape=(8, 1), dtype=float32)\n",
            "(8, 6, 1)\n",
            "tf.Tensor(\n",
            "[[0.36975902]\n",
            " [0.39367148]\n",
            " [0.30966327]\n",
            " [0.30040368]\n",
            " [0.47034487]\n",
            " [0.30566508]\n",
            " [0.4864297 ]\n",
            " [0.73998785]], shape=(8, 1), dtype=float32)\n",
            "(8, 6, 1)\n",
            "tf.Tensor(\n",
            "[[0.49810657]\n",
            " [0.2792308 ]\n",
            " [0.44354782]\n",
            " [0.63298756]\n",
            " [0.533393  ]\n",
            " [0.25244632]\n",
            " [0.41180274]\n",
            " [0.74148625]], shape=(8, 1), dtype=float32)\n",
            "(8, 6, 1)\n",
            "tf.Tensor(\n",
            "[[0.651191  ]\n",
            " [0.5139345 ]\n",
            " [0.6084586 ]\n",
            " [0.26577294]\n",
            " [0.3969946 ]\n",
            " [0.6224455 ]\n",
            " [0.7187842 ]\n",
            " [0.44849613]], shape=(8, 1), dtype=float32)\n",
            "(8, 6, 1)\n",
            "tf.Tensor(\n",
            "[[0.5451317 ]\n",
            " [0.7147266 ]\n",
            " [0.7298163 ]\n",
            " [0.32010984]\n",
            " [0.4833066 ]\n",
            " [0.4446326 ]\n",
            " [0.26869804]\n",
            " [0.6150836 ]], shape=(8, 1), dtype=float32)\n",
            "(8, 6, 1)\n",
            "tf.Tensor(\n",
            "[[0.54031825]\n",
            " [0.35630333]\n",
            " [0.49896124]\n",
            " [0.34864295]\n",
            " [0.5900636 ]\n",
            " [0.48655498]\n",
            " [0.32157815]\n",
            " [0.3597519 ]], shape=(8, 1), dtype=float32)\n",
            "(8, 6, 1)\n",
            "tf.Tensor(\n",
            "[[0.678712  ]\n",
            " [0.64861834]\n",
            " [0.44249493]\n",
            " [0.33958834]\n",
            " [0.28509927]\n",
            " [0.72261494]\n",
            " [0.53472936]\n",
            " [0.5696787 ]], shape=(8, 1), dtype=float32)\n",
            "(8, 6, 1)\n",
            "tf.Tensor(\n",
            "[[0.53738195]\n",
            " [0.5495333 ]\n",
            " [0.689337  ]\n",
            " [0.5265569 ]\n",
            " [0.7233266 ]\n",
            " [0.48628947]\n",
            " [0.65555054]\n",
            " [0.5977055 ]], shape=(8, 1), dtype=float32)\n",
            "(8, 6, 1)\n",
            "tf.Tensor(\n",
            "[[0.6639157 ]\n",
            " [0.34097427]\n",
            " [0.29305178]\n",
            " [0.7143881 ]\n",
            " [0.5446415 ]\n",
            " [0.5102367 ]\n",
            " [0.7458416 ]\n",
            " [0.48343375]], shape=(8, 1), dtype=float32)\n",
            "(8, 6, 1)\n",
            "tf.Tensor(\n",
            "[[0.40619773]\n",
            " [0.3458031 ]\n",
            " [0.40954727]\n",
            " [0.39068887]\n",
            " [0.61245155]\n",
            " [0.5575331 ]\n",
            " [0.29315224]\n",
            " [0.29314032]], shape=(8, 1), dtype=float32)\n",
            "(8, 6, 1)\n",
            "tf.Tensor(\n",
            "[[0.6716539 ]\n",
            " [0.6127633 ]\n",
            " [0.38736838]\n",
            " [0.52334356]\n",
            " [0.71071833]\n",
            " [0.6565796 ]\n",
            " [0.2516184 ]\n",
            " [0.27148676]], shape=(8, 1), dtype=float32)\n",
            "(8, 6, 1)\n",
            "tf.Tensor(\n",
            "[[0.4169851 ]\n",
            " [0.5109744 ]\n",
            " [0.5325249 ]\n",
            " [0.2818203 ]\n",
            " [0.40104643]\n",
            " [0.30521294]\n",
            " [0.25715998]\n",
            " [0.39840013]], shape=(8, 1), dtype=float32)\n",
            "(8, 6, 1)\n",
            "tf.Tensor(\n",
            "[[0.5187467 ]\n",
            " [0.64334095]\n",
            " [0.3953607 ]\n",
            " [0.62384754]\n",
            " [0.42703915]\n",
            " [0.6438085 ]\n",
            " [0.42811146]\n",
            " [0.5154713 ]], shape=(8, 1), dtype=float32)\n",
            "(8, 6, 1)\n",
            "tf.Tensor(\n",
            "[[0.53141105]\n",
            " [0.6992455 ]\n",
            " [0.41292396]\n",
            " [0.54549944]\n",
            " [0.64236   ]\n",
            " [0.57801014]\n",
            " [0.5274915 ]\n",
            " [0.46216834]], shape=(8, 1), dtype=float32)\n",
            "(8, 6, 1)\n",
            "tf.Tensor(\n",
            "[[0.49445838]\n",
            " [0.74373376]\n",
            " [0.50010306]\n",
            " [0.7275159 ]\n",
            " [0.72189003]\n",
            " [0.47717968]\n",
            " [0.69831437]\n",
            " [0.37473947]], shape=(8, 1), dtype=float32)\n",
            "(8, 6, 1)\n",
            "tf.Tensor(\n",
            "[[0.5989955 ]\n",
            " [0.7141969 ]\n",
            " [0.5426325 ]\n",
            " [0.5482087 ]\n",
            " [0.31227693]\n",
            " [0.62323636]\n",
            " [0.36250308]\n",
            " [0.51928073]], shape=(8, 1), dtype=float32)\n",
            "(8, 6, 1)\n",
            "tf.Tensor(\n",
            "[[0.36750403]\n",
            " [0.445117  ]\n",
            " [0.34229478]\n",
            " [0.66022265]\n",
            " [0.47135267]\n",
            " [0.27468082]\n",
            " [0.5750166 ]\n",
            " [0.30175492]], shape=(8, 1), dtype=float32)\n",
            "(8, 6, 1)\n",
            "tf.Tensor(\n",
            "[[0.465414  ]\n",
            " [0.29074574]\n",
            " [0.3989409 ]\n",
            " [0.6719508 ]\n",
            " [0.6121402 ]\n",
            " [0.6904001 ]\n",
            " [0.55491865]\n",
            " [0.4173298 ]], shape=(8, 1), dtype=float32)\n",
            "(8, 6, 1)\n",
            "tf.Tensor(\n",
            "[[0.36331838]\n",
            " [0.35554737]\n",
            " [0.4287609 ]\n",
            " [0.599622  ]\n",
            " [0.72401637]\n",
            " [0.6546936 ]\n",
            " [0.45581728]\n",
            " [0.67085207]], shape=(8, 1), dtype=float32)\n",
            "(8, 6, 1)\n",
            "tf.Tensor(\n",
            "[[0.26902798]\n",
            " [0.481724  ]\n",
            " [0.43108273]\n",
            " [0.43985805]\n",
            " [0.45841417]\n",
            " [0.38030976]\n",
            " [0.55201817]\n",
            " [0.48712483]], shape=(8, 1), dtype=float32)\n",
            "(8, 6, 1)\n",
            "tf.Tensor(\n",
            "[[0.40667397]\n",
            " [0.26666316]\n",
            " [0.45491108]\n",
            " [0.63451916]\n",
            " [0.47635478]\n",
            " [0.5588272 ]\n",
            " [0.6114455 ]\n",
            " [0.6623729 ]], shape=(8, 1), dtype=float32)\n",
            "(8, 6, 1)\n",
            "tf.Tensor(\n",
            "[[0.6394211 ]\n",
            " [0.5601448 ]\n",
            " [0.26553422]\n",
            " [0.3998315 ]\n",
            " [0.44298202]\n",
            " [0.6865928 ]\n",
            " [0.5287259 ]\n",
            " [0.31043047]], shape=(8, 1), dtype=float32)\n",
            "(8, 6, 1)\n",
            "tf.Tensor(\n",
            "[[0.3122866 ]\n",
            " [0.3393621 ]\n",
            " [0.5227342 ]\n",
            " [0.3058854 ]\n",
            " [0.5762333 ]\n",
            " [0.61414886]\n",
            " [0.30197382]\n",
            " [0.27027997]], shape=(8, 1), dtype=float32)\n",
            "(8, 6, 1)\n",
            "tf.Tensor(\n",
            "[[0.49377543]\n",
            " [0.587235  ]\n",
            " [0.46098575]\n",
            " [0.47543755]\n",
            " [0.66144603]\n",
            " [0.7090387 ]\n",
            " [0.28594252]\n",
            " [0.33114734]], shape=(8, 1), dtype=float32)\n",
            "(8, 6, 1)\n",
            "tf.Tensor(\n",
            "[[0.33938557]\n",
            " [0.34507024]\n",
            " [0.57041067]\n",
            " [0.38706145]\n",
            " [0.27519774]\n",
            " [0.34181738]\n",
            " [0.7109442 ]\n",
            " [0.74255604]], shape=(8, 1), dtype=float32)\n",
            "(8, 6, 1)\n",
            "tf.Tensor(\n",
            "[[0.28637445]\n",
            " [0.6183334 ]\n",
            " [0.5248182 ]\n",
            " [0.50191855]\n",
            " [0.7430841 ]\n",
            " [0.66817343]\n",
            " [0.70093024]\n",
            " [0.56976587]], shape=(8, 1), dtype=float32)\n",
            "(8, 6, 1)\n",
            "tf.Tensor(\n",
            "[[0.32040176]\n",
            " [0.44831422]\n",
            " [0.59341264]\n",
            " [0.43774274]\n",
            " [0.45908046]\n",
            " [0.5214718 ]\n",
            " [0.3806881 ]\n",
            " [0.6300719 ]], shape=(8, 1), dtype=float32)\n",
            "(8, 6, 1)\n",
            "tf.Tensor(\n",
            "[[0.3353966 ]\n",
            " [0.4805372 ]\n",
            " [0.5613259 ]\n",
            " [0.7080112 ]\n",
            " [0.7120387 ]\n",
            " [0.49667135]\n",
            " [0.6018475 ]\n",
            " [0.2662761 ]], shape=(8, 1), dtype=float32)\n",
            "(8, 6, 1)\n",
            "tf.Tensor(\n",
            "[[0.34566304]\n",
            " [0.33833426]\n",
            " [0.42218077]\n",
            " [0.4737561 ]\n",
            " [0.36806387]\n",
            " [0.44158033]\n",
            " [0.50286907]\n",
            " [0.46729338]], shape=(8, 1), dtype=float32)\n",
            "(8, 6, 1)\n",
            "tf.Tensor(\n",
            "[[0.48078784]\n",
            " [0.5543859 ]\n",
            " [0.6050558 ]\n",
            " [0.5327914 ]\n",
            " [0.29909533]\n",
            " [0.5209262 ]\n",
            " [0.411187  ]\n",
            " [0.5825249 ]], shape=(8, 1), dtype=float32)\n",
            "(8, 6, 1)\n",
            "tf.Tensor(\n",
            "[[0.5436899 ]\n",
            " [0.41855252]\n",
            " [0.47825083]\n",
            " [0.6529558 ]\n",
            " [0.3912204 ]\n",
            " [0.30589342]\n",
            " [0.51071334]\n",
            " [0.46147224]], shape=(8, 1), dtype=float32)\n",
            "(8, 6, 1)\n",
            "tf.Tensor(\n",
            "[[0.7245975 ]\n",
            " [0.32177317]\n",
            " [0.33231658]\n",
            " [0.5159242 ]\n",
            " [0.5617068 ]\n",
            " [0.5092627 ]\n",
            " [0.6545279 ]\n",
            " [0.61417407]], shape=(8, 1), dtype=float32)\n",
            "(8, 6, 1)\n",
            "tf.Tensor(\n",
            "[[0.558345  ]\n",
            " [0.4130738 ]\n",
            " [0.6357718 ]\n",
            " [0.6644652 ]\n",
            " [0.7171665 ]\n",
            " [0.5845268 ]\n",
            " [0.46480036]\n",
            " [0.6094781 ]], shape=(8, 1), dtype=float32)\n",
            "(8, 6, 1)\n",
            "tf.Tensor(\n",
            "[[0.6319782 ]\n",
            " [0.608722  ]\n",
            " [0.61424166]\n",
            " [0.65209144]\n",
            " [0.7005136 ]\n",
            " [0.558292  ]\n",
            " [0.46096778]\n",
            " [0.38617402]], shape=(8, 1), dtype=float32)\n",
            "(8, 6, 1)\n",
            "tf.Tensor(\n",
            "[[0.6530048 ]\n",
            " [0.42596662]\n",
            " [0.45305228]\n",
            " [0.30960733]\n",
            " [0.7264254 ]\n",
            " [0.47298637]\n",
            " [0.29633883]\n",
            " [0.65863484]], shape=(8, 1), dtype=float32)\n",
            "(8, 6, 1)\n",
            "tf.Tensor(\n",
            "[[0.34054443]\n",
            " [0.6240864 ]\n",
            " [0.4504496 ]\n",
            " [0.4818853 ]\n",
            " [0.26243934]\n",
            " [0.5414538 ]\n",
            " [0.7271659 ]\n",
            " [0.3258187 ]], shape=(8, 1), dtype=float32)\n",
            "(8, 6, 1)\n",
            "tf.Tensor(\n",
            "[[0.48523334]\n",
            " [0.42291498]\n",
            " [0.65184337]\n",
            " [0.58827174]\n",
            " [0.32320443]\n",
            " [0.48343503]\n",
            " [0.50901306]\n",
            " [0.66556734]], shape=(8, 1), dtype=float32)\n",
            "(8, 6, 1)\n",
            "tf.Tensor(\n",
            "[[0.64662606]\n",
            " [0.69423026]\n",
            " [0.5563915 ]\n",
            " [0.3136581 ]\n",
            " [0.7356867 ]\n",
            " [0.5293351 ]\n",
            " [0.4275552 ]\n",
            " [0.39000818]], shape=(8, 1), dtype=float32)\n"
          ]
        }
      ]
    },
    {
      "cell_type": "code",
      "source": [
        "min_max_values"
      ],
      "metadata": {
        "id": "fwpiX9DVakLg",
        "colab": {
          "base_uri": "https://localhost:8080/"
        },
        "outputId": "6afdfcc5-2896-435d-ac16-88aebbafe8b5"
      },
      "execution_count": 105,
      "outputs": [
        {
          "output_type": "execute_result",
          "data": {
            "text/plain": [
              "[(19.95, 20.05), (-8, -6), (-13, -12), (-10, -5), (0.0, 2.0), (0, 90)]"
            ]
          },
          "metadata": {},
          "execution_count": 105
        }
      ]
    },
    {
      "cell_type": "code",
      "source": [
        "y_test_s[0,:,:,0].shape"
      ],
      "metadata": {
        "colab": {
          "base_uri": "https://localhost:8080/"
        },
        "id": "NDOoRHHcazsB",
        "outputId": "17243fa6-8498-4c29-9395-a610f3bc9b46"
      },
      "execution_count": 106,
      "outputs": [
        {
          "output_type": "execute_result",
          "data": {
            "text/plain": [
              "TensorShape([90, 48])"
            ]
          },
          "metadata": {},
          "execution_count": 106
        }
      ]
    },
    {
      "cell_type": "code",
      "source": [
        "# samples = gen_samples(model, y_test_s, ramp=ramp, nsamples=params['n_samples'])"
      ],
      "metadata": {
        "id": "2UY-_TYqc1KG"
      },
      "execution_count": 107,
      "outputs": []
    },
    {
      "cell_type": "code",
      "source": [
        "x_s.shape"
      ],
      "metadata": {
        "colab": {
          "base_uri": "https://localhost:8080/"
        },
        "id": "AzPBfERvHi0v",
        "outputId": "e565f152-f678-483e-91b4-62d3d6db8eee"
      },
      "execution_count": 108,
      "outputs": [
        {
          "output_type": "execute_result",
          "data": {
            "text/plain": [
              "(500, 6)"
            ]
          },
          "metadata": {},
          "execution_count": 108
        }
      ]
    },
    {
      "cell_type": "code",
      "source": [
        "x_test_s[0,:,0]"
      ],
      "metadata": {
        "colab": {
          "base_uri": "https://localhost:8080/"
        },
        "id": "Da8VIwKqU_1Z",
        "outputId": "3c2813a1-3c40-4c6f-d103-7c5f229591e2"
      },
      "execution_count": 109,
      "outputs": [
        {
          "output_type": "execute_result",
          "data": {
            "text/plain": [
              "<tf.Tensor: shape=(6,), dtype=float32, numpy=\n",
              "array([ 0.49387065,  0.30026686, -0.8044004 ,  0.56740624,  0.5479027 ,\n",
              "        0.4888889 ], dtype=float32)>"
            ]
          },
          "metadata": {},
          "execution_count": 109
        }
      ]
    },
    {
      "cell_type": "code",
      "source": [
        "x_mean, x_var = x_scaler.mean_, x_scaler.var_"
      ],
      "metadata": {
        "id": "ccjQSDp-JDgx",
        "colab": {
          "base_uri": "https://localhost:8080/",
          "height": 167
        },
        "outputId": "231a9a00-41c2-4a2c-f587-c0ed8aca5a73"
      },
      "execution_count": 110,
      "outputs": [
        {
          "output_type": "error",
          "ename": "NameError",
          "evalue": "ignored",
          "traceback": [
            "\u001b[0;31m---------------------------------------------------------------------------\u001b[0m",
            "\u001b[0;31mNameError\u001b[0m                                 Traceback (most recent call last)",
            "\u001b[0;32m<ipython-input-110-fb5a751262a2>\u001b[0m in \u001b[0;36m<module>\u001b[0;34m\u001b[0m\n\u001b[0;32m----> 1\u001b[0;31m \u001b[0mx_mean\u001b[0m\u001b[0;34m,\u001b[0m \u001b[0mx_var\u001b[0m \u001b[0;34m=\u001b[0m \u001b[0mx_scaler\u001b[0m\u001b[0;34m.\u001b[0m\u001b[0mmean_\u001b[0m\u001b[0;34m,\u001b[0m \u001b[0mx_scaler\u001b[0m\u001b[0;34m.\u001b[0m\u001b[0mvar_\u001b[0m\u001b[0;34m\u001b[0m\u001b[0;34m\u001b[0m\u001b[0m\n\u001b[0m",
            "\u001b[0;31mNameError\u001b[0m: name 'x_scaler' is not defined"
          ]
        }
      ]
    },
    {
      "cell_type": "code",
      "source": [
        "x_test_s[0,:,0] * np.sqrt(x_var) + x_mean"
      ],
      "metadata": {
        "id": "5-yAJVn_VMcx"
      },
      "execution_count": null,
      "outputs": []
    },
    {
      "cell_type": "code",
      "source": [
        "plt.pcolormesh(y_test_s[0,:,:,0])"
      ],
      "metadata": {
        "id": "a6hya2HWV2s1"
      },
      "execution_count": null,
      "outputs": []
    },
    {
      "cell_type": "code",
      "source": [
        "samples = gen_samples(model, tf.expand_dims(y_test_s[0], axis=0), ramp=ramp, nsamples=200)"
      ],
      "metadata": {
        "id": "TDyMVC4HJHm8"
      },
      "execution_count": null,
      "outputs": []
    },
    {
      "cell_type": "code",
      "source": [
        "import seaborn as sns"
      ],
      "metadata": {
        "id": "MDvAVTlRULhn"
      },
      "execution_count": null,
      "outputs": []
    },
    {
      "cell_type": "code",
      "source": [
        "sns.distplot(samples[:,0])"
      ],
      "metadata": {
        "id": "8fisfx5fSTYx"
      },
      "execution_count": null,
      "outputs": []
    },
    {
      "cell_type": "code",
      "source": [
        "import corner\n",
        "import numpy as np\n",
        "\n",
        "ndim, nsamples = 4, 50000\n",
        "np.random.seed(1234)\n",
        "data1 = np.random.randn(ndim * 4 * nsamples // 5).reshape(\n",
        "    [4 * nsamples // 5, ndim]\n",
        ")\n",
        "mean = 4 * np.random.rand(ndim)\n",
        "data2 = mean[None, :] + np.random.randn(ndim * nsamples // 5).reshape(\n",
        "    [nsamples // 5, ndim]\n",
        ")\n",
        "samples = np.vstack([data1, data2])\n",
        "\n",
        "# figure = corner.corner(samples)\n"
      ],
      "metadata": {
        "id": "EBSA_mMUSU2K"
      },
      "execution_count": null,
      "outputs": []
    },
    {
      "cell_type": "code",
      "source": [
        "# This is the true mean of the second mode that we used above:\n",
        "value1 = mean\n",
        "\n",
        "# This is the empirical mean of the sample:\n",
        "value2 = np.mean(samples, axis=0)\n",
        "\n",
        "# Make the base corner plot\n",
        "figure = corner.corner(samples)\n",
        "\n",
        "# Extract the axes\n",
        "axes = np.array(figure.axes).reshape((ndim, ndim))\n",
        "\n",
        "# Loop over the diagonal\n",
        "for i in range(ndim):\n",
        "    ax = axes[i, i]\n",
        "    ax.axvline(value1[i], color=\"g\")\n",
        "    ax.axvline(value2[i], color=\"r\")\n",
        "\n",
        "# Loop over the histograms\n",
        "for yi in range(ndim):\n",
        "    for xi in range(yi):\n",
        "        ax = axes[yi, xi]\n",
        "        ax.axvline(value1[xi], color=\"g\")\n",
        "        ax.axvline(value2[xi], color=\"r\")\n",
        "        ax.axhline(value1[yi], color=\"g\")\n",
        "        ax.axhline(value2[yi], color=\"r\")\n",
        "        ax.plot(value1[xi], value1[yi], \"sg\")\n",
        "        ax.plot(value2[xi], value2[yi], \"sr\")\n",
        "\n",
        "        ax.set_xlim(-10, 10)"
      ],
      "metadata": {
        "id": "HefbOtm2TlOU"
      },
      "execution_count": null,
      "outputs": []
    },
    {
      "cell_type": "code",
      "source": [
        "encoder = tf.keras.Sequential(\n",
        "        [\n",
        "            tf.keras.layers.InputLayer(input_shape=(28, 28, 1)),\n",
        "            tf.keras.layers.Conv2D(\n",
        "                filters=32, kernel_size=3, strides=(2, 2), activation='relu'),\n",
        "            tf.keras.layers.Conv2D(\n",
        "                filters=64, kernel_size=3, strides=(2, 2), activation='relu'),\n",
        "            tf.keras.layers.Flatten(),\n",
        "            # No activation\n",
        "            tf.keras.layers.Dense(24 + 24),\n",
        "        ]\n",
        "    )\n"
      ],
      "metadata": {
        "id": "3xBobhL1MofD"
      },
      "execution_count": null,
      "outputs": []
    },
    {
      "cell_type": "code",
      "source": [
        "decoder = tf.keras.Sequential(\n",
        "        [\n",
        "            tf.keras.layers.InputLayer(input_shape=(24,)),\n",
        "            tf.keras.layers.Dense(units=7*7*32, activation=tf.nn.relu),\n",
        "            tf.keras.layers.Reshape(target_shape=(7, 7, 32)),\n",
        "            tf.keras.layers.Conv2DTranspose(\n",
        "                filters=64, kernel_size=3, strides=2, padding='same',\n",
        "                activation='relu'),\n",
        "            tf.keras.layers.Conv2DTranspose(\n",
        "                filters=32, kernel_size=3, strides=2, padding='same',\n",
        "                activation='relu'),\n",
        "            # No activation\n",
        "            tf.keras.layers.Conv2DTranspose(\n",
        "                filters=1, kernel_size=3, strides=1, padding='same'),\n",
        "        ]\n",
        "    )\n"
      ],
      "metadata": {
        "id": "81UIx3zyTn68"
      },
      "execution_count": null,
      "outputs": []
    },
    {
      "cell_type": "code",
      "source": [
        "encoder.summary()"
      ],
      "metadata": {
        "id": "XDzM9CiAMr1g"
      },
      "execution_count": null,
      "outputs": []
    },
    {
      "cell_type": "code",
      "source": [
        "decoder.summary()"
      ],
      "metadata": {
        "id": "GyUOn5ozKZsq"
      },
      "execution_count": null,
      "outputs": []
    },
    {
      "cell_type": "code",
      "source": [],
      "metadata": {
        "id": "zKOGF5XVKcRK"
      },
      "execution_count": null,
      "outputs": []
    }
  ]
}