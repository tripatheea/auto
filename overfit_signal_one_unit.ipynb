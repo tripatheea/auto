{
  "nbformat": 4,
  "nbformat_minor": 0,
  "metadata": {
    "colab": {
      "provenance": [],
      "collapsed_sections": [],
      "authorship_tag": "ABX9TyNbsSF1xVdFaV3WboXCctdz",
      "include_colab_link": true
    },
    "kernelspec": {
      "name": "python3",
      "display_name": "Python 3"
    },
    "language_info": {
      "name": "python"
    }
  },
  "cells": [
    {
      "cell_type": "markdown",
      "metadata": {
        "id": "view-in-github",
        "colab_type": "text"
      },
      "source": [
        "<a href=\"https://colab.research.google.com/github/tripatheea/auto/blob/main/overfit_signal_one_unit.ipynb\" target=\"_parent\"><img src=\"https://colab.research.google.com/assets/colab-badge.svg\" alt=\"Open In Colab\"/></a>"
      ]
    },
    {
      "cell_type": "code",
      "execution_count": 1,
      "metadata": {
        "colab": {
          "base_uri": "https://localhost:8080/"
        },
        "id": "oEn2cy1_w-Xn",
        "outputId": "4218b0ee-abc1-42c0-d5d5-70f6f1bdbfe3"
      },
      "outputs": [
        {
          "output_type": "stream",
          "name": "stdout",
          "text": [
            "Looking in indexes: https://pypi.org/simple, https://us-python.pkg.dev/colab-wheels/public/simple/\n",
            "Collecting corner\n",
            "  Downloading corner-2.2.1-py3-none-any.whl (15 kB)\n",
            "Requirement already satisfied: matplotlib>=2.1 in /usr/local/lib/python3.7/dist-packages (from corner) (3.2.2)\n",
            "Requirement already satisfied: pyparsing!=2.0.4,!=2.1.2,!=2.1.6,>=2.0.1 in /usr/local/lib/python3.7/dist-packages (from matplotlib>=2.1->corner) (3.0.9)\n",
            "Requirement already satisfied: cycler>=0.10 in /usr/local/lib/python3.7/dist-packages (from matplotlib>=2.1->corner) (0.11.0)\n",
            "Requirement already satisfied: kiwisolver>=1.0.1 in /usr/local/lib/python3.7/dist-packages (from matplotlib>=2.1->corner) (1.4.4)\n",
            "Requirement already satisfied: numpy>=1.11 in /usr/local/lib/python3.7/dist-packages (from matplotlib>=2.1->corner) (1.21.6)\n",
            "Requirement already satisfied: python-dateutil>=2.1 in /usr/local/lib/python3.7/dist-packages (from matplotlib>=2.1->corner) (2.8.2)\n",
            "Requirement already satisfied: typing-extensions in /usr/local/lib/python3.7/dist-packages (from kiwisolver>=1.0.1->matplotlib>=2.1->corner) (4.1.1)\n",
            "Requirement already satisfied: six>=1.5 in /usr/local/lib/python3.7/dist-packages (from python-dateutil>=2.1->matplotlib>=2.1->corner) (1.15.0)\n",
            "Installing collected packages: corner\n",
            "Successfully installed corner-2.2.1\n"
          ]
        }
      ],
      "source": [
        "from IPython import display\n",
        "\n",
        "import glob\n",
        "import imageio\n",
        "import matplotlib.pyplot as plt\n",
        "import numpy as np\n",
        "import PIL\n",
        "import tensorflow as tf\n",
        "import tensorflow_probability as tfp\n",
        "import time\n",
        "from tensorflow.keras import regularizers\n",
        "import tensorflow.keras.initializers\n",
        "\n",
        "from scipy.fft import fft, ifft, fftfreq\n",
        "\n",
        "\n",
        "!pip install corner\n",
        "\n",
        "import corner\n",
        "\n",
        "tfd = tfp.distributions"
      ]
    },
    {
      "cell_type": "code",
      "source": [
        "sampling_freq = 120\n",
        "T_duration = 1\n",
        "\n",
        "N = sampling_freq * T_duration"
      ],
      "metadata": {
        "id": "zZCD0EU0xCc_"
      },
      "execution_count": 2,
      "outputs": []
    },
    {
      "cell_type": "code",
      "source": [
        "def generate_signal(sampling_freq=100, T_duration=1, noiseamp=0.000, hamp=5.0, f_sig=8.0):\n",
        "    \n",
        "    \n",
        "    t = np.linspace(0.0, T_duration, sampling_freq * T_duration, endpoint=False)\n",
        "    Nsample = len(t)\n",
        "    noise = noiseamp * np.random.normal(0, scale = 1, size = Nsample)\n",
        "    signal = hamp * np.sin(2 * np.pi * (f_sig * t))\n",
        "\n",
        "    data = signal + noise\n",
        "    \n",
        "    return data"
      ],
      "metadata": {
        "id": "c0TD-gPxxDnb"
      },
      "execution_count": 3,
      "outputs": []
    },
    {
      "cell_type": "code",
      "source": [
        "y = generate_signal()\n",
        "\n",
        "plt.plot(y)\n",
        "plt.plot(generate_signal())"
      ],
      "metadata": {
        "colab": {
          "base_uri": "https://localhost:8080/",
          "height": 282
        },
        "id": "V4pbS4w9xEY4",
        "outputId": "ae359478-b747-4cb1-fca4-79e74b755e9b"
      },
      "execution_count": 4,
      "outputs": [
        {
          "output_type": "execute_result",
          "data": {
            "text/plain": [
              "[<matplotlib.lines.Line2D at 0x7fd5d07f5890>]"
            ]
          },
          "metadata": {},
          "execution_count": 4
        },
        {
          "output_type": "display_data",
          "data": {
            "text/plain": [
              "<Figure size 432x288 with 1 Axes>"
            ],
            "image/png": "[encoded data removed]"
          },
          "metadata": {
            "needs_background": "light"
          }
        }
      ]
    },
    {
      "cell_type": "code",
      "source": [
        "plt.plot(np.abs(fft(y)))"
      ],
      "metadata": {
        "colab": {
          "base_uri": "https://localhost:8080/",
          "height": 282
        },
        "id": "1yqnznVRxebJ",
        "outputId": "01482546-a7a4-4e9c-b022-d14bf1bc8aa9"
      },
      "execution_count": 5,
      "outputs": [
        {
          "output_type": "execute_result",
          "data": {
            "text/plain": [
              "[<matplotlib.lines.Line2D at 0x7fd5d034c510>]"
            ]
          },
          "metadata": {},
          "execution_count": 5
        },
        {
          "output_type": "display_data",
          "data": {
            "text/plain": [
              "<Figure size 432x288 with 1 Axes>"
            ],
            "image/png": "[encoded data removed]"
          },
          "metadata": {
            "needs_background": "light"
          }
        }
      ]
    },
    {
      "cell_type": "code",
      "source": [
        "N_data_points = 100"
      ],
      "metadata": {
        "id": "xHV6NSXcxFXf"
      },
      "execution_count": 180,
      "outputs": []
    },
    {
      "cell_type": "code",
      "source": [
        "f_s = np.linspace(15, 20, N_data_points)\n",
        "\n",
        "np.random.shuffle(f_s)"
      ],
      "metadata": {
        "id": "oIBfS8xkxHvq"
      },
      "execution_count": 181,
      "outputs": []
    },
    {
      "cell_type": "code",
      "source": [
        "y_s = []\n",
        "x_s = []\n",
        "for f in f_s:\n",
        "    y = generate_signal(sampling_freq=sampling_freq, T_duration=T_duration, noiseamp=0.000000, hamp=100.0, f_sig=f)\n",
        "    xf = fftfreq(N, 1 / sampling_freq)[:N//2]\n",
        "    \n",
        "    fft_y = fft(y)\n",
        "    \n",
        "    re = np.array([np.real(a) for a in fft_y])\n",
        "    im = np.array([np.imag(a) for a in fft_y])\n",
        "    \n",
        "    re = (re - np.mean(re)) / np.std(re)\n",
        "    im = (im - np.mean(im)) / np.std(im)\n",
        "    \n",
        "    y_fft = [[f, y_i, r, i] for f, y_i, r, i in zip(xf, y, re, im)]\n",
        "    y_s.append(y_fft)\n",
        "    x_s.append([f])\n",
        "\n",
        "x_s, y_s = np.array(x_s), np.array(y_s)\n",
        "\n",
        "y_s = y_s.astype(np.float32)\n",
        "x_s = x_s.astype(np.float32)\n",
        "\n",
        "x_s.shape, y_s.shape"
      ],
      "metadata": {
        "id": "047mrnA9xIoT",
        "colab": {
          "base_uri": "https://localhost:8080/"
        },
        "outputId": "de5ed93e-a91e-43bf-bd5a-225e31060350"
      },
      "execution_count": 182,
      "outputs": [
        {
          "output_type": "execute_result",
          "data": {
            "text/plain": [
              "((100, 1), (100, 60, 4))"
            ]
          },
          "metadata": {},
          "execution_count": 182
        }
      ]
    },
    {
      "cell_type": "code",
      "source": [
        "plt.plot(y_s[0,:, 2] * y_s[0,:, 2] + y_s[0,:, 3] * y_s[0,:,3])\n",
        "\n",
        "print(x_s[0,0])"
      ],
      "metadata": {
        "colab": {
          "base_uri": "https://localhost:8080/",
          "height": 286
        },
        "id": "MoHKAAQixJwV",
        "outputId": "d1d954a5-b9a5-4dea-f870-c566154866df"
      },
      "execution_count": 183,
      "outputs": [
        {
          "output_type": "stream",
          "name": "stdout",
          "text": [
            "18.88889\n"
          ]
        },
        {
          "output_type": "display_data",
          "data": {
            "text/plain": [
              "<Figure size 432x288 with 1 Axes>"
            ],
            "image/png": "[encoded data removed]"
          },
          "metadata": {
            "needs_background": "light"
          }
        }
      ]
    },
    {
      "cell_type": "code",
      "source": [
        "y_s.shape"
      ],
      "metadata": {
        "colab": {
          "base_uri": "https://localhost:8080/"
        },
        "id": "kANtoiZQM2hW",
        "outputId": "15507c86-7f58-4a33-d619-adbc9607cbc5"
      },
      "execution_count": 184,
      "outputs": [
        {
          "output_type": "execute_result",
          "data": {
            "text/plain": [
              "(100, 60, 4)"
            ]
          },
          "metadata": {},
          "execution_count": 184
        }
      ]
    },
    {
      "cell_type": "code",
      "source": [
        "x_s = tf.convert_to_tensor(x_s, dtype=tf.float32)\n",
        "y_s = tf.convert_to_tensor(y_s, dtype=tf.float32)"
      ],
      "metadata": {
        "id": "V09HhVwPxM6e"
      },
      "execution_count": 185,
      "outputs": []
    },
    {
      "cell_type": "code",
      "source": [
        "x_train = x_s\n",
        "y_train = y_s"
      ],
      "metadata": {
        "id": "hh4vp-Ltxo7C"
      },
      "execution_count": 186,
      "outputs": []
    },
    {
      "cell_type": "code",
      "source": [
        "y_train.shape"
      ],
      "metadata": {
        "colab": {
          "base_uri": "https://localhost:8080/"
        },
        "id": "JNEZBk_8DsYk",
        "outputId": "6aed8beb-5710-4d43-b14b-a65167b857da"
      },
      "execution_count": 187,
      "outputs": [
        {
          "output_type": "execute_result",
          "data": {
            "text/plain": [
              "TensorShape([100, 60, 4])"
            ]
          },
          "metadata": {},
          "execution_count": 187
        }
      ]
    },
    {
      "cell_type": "code",
      "source": [
        "train_size = 20\n",
        "batch_size = 4"
      ],
      "metadata": {
        "id": "MP2UxlOSyJG0"
      },
      "execution_count": 188,
      "outputs": []
    },
    {
      "cell_type": "code",
      "source": [
        "# train_dataset = tf.data.Dataset.from_tensor_slices((x_train, y_train)).batch(batch_size)\n",
        "\n",
        "# train_dataset = (tf.data.Dataset.from_tensor_slices(y_train).shuffle(train_size)).batch(batch_size)\n",
        "train_dataset = (tf.data.Dataset.from_tensor_slices(y_train)).batch(batch_size)\n",
        "\n",
        "train_dataset"
      ],
      "metadata": {
        "id": "dJ0vivQmyBtH",
        "colab": {
          "base_uri": "https://localhost:8080/"
        },
        "outputId": "fb5cda87-18db-4aea-ab10-490e98ff99f4"
      },
      "execution_count": 189,
      "outputs": [
        {
          "output_type": "execute_result",
          "data": {
            "text/plain": [
              "<BatchDataset element_spec=TensorSpec(shape=(None, 60, 4), dtype=tf.float32, name=None)>"
            ]
          },
          "metadata": {},
          "execution_count": 189
        }
      ]
    },
    {
      "cell_type": "code",
      "source": [
        "class SimpleOverFittingCVAE(tf.keras.Model):\n",
        "    \"\"\"Convolutional variational autoencoder.\"\"\"\n",
        "\n",
        "    def __init__(self, x_dim, y_dim, n_channels, z_dim, n_modes, params):\n",
        "        super(SimpleOverFittingCVAE, self).__init__()\n",
        "        self.z_dim = z_dim\n",
        "        self.n_modes = n_modes\n",
        "        self.x_modes = 1   # hardcoded for testing\n",
        "        self.x_dim = x_dim\n",
        "        self.y_dim = y_dim\n",
        "        self.n_channels = n_channels\n",
        "        self.act = tf.keras.layers.LeakyReLU(alpha=0.1)\n",
        "        self.params = params\n",
        "        self.reg = regularizers.l2(0.01)\n",
        "\n",
        "        \"\"\"\n",
        "        # Add this to get rid of regularizer\n",
        "        a2 = tf.keras.layers.Dense(2*self.z_dim*self.n_modes + self.n_modes)(a2)\n",
        "        self.encoder = tf.keras.Model(inputs=r1_input_y, outputs=a2)\n",
        "        print(self.encoder.summary())\n",
        "        \"\"\"\n",
        "        # the r1 encoder network\n",
        "        r1_input_y = tf.keras.Input(shape=(self.y_dim, self.n_channels, 1))\n",
        "        # a2 = r1_input_y\n",
        "        # print(\"r1 input y shape is\", r1_input_y.shape)\n",
        "        a2 = tf.keras.layers.Conv1D(filters=32, kernel_size=2, strides=1, activation=self.act)(r1_input_y)\n",
        "        \n",
        "        # Kernel size is k = 8.\n",
        "        # Our data is a d x nchannels array.\n",
        "        # The k = 8 kernel size will hence have d - k + 1 = 50 - 8 + 1 convolutions (for a stride of 1).\n",
        "        # Hence, the output above will be (d - k + 1) x nfilters hence, (,43, 4).\n",
        "\n",
        "        a2 = tf.keras.layers.Conv1D(filters=64, kernel_size=2, strides=1, activation=self.act)(a2)\n",
        "        \n",
        "\n",
        "        # print(\"a shape is\", a.shape)\n",
        "        a2 = tf.keras.layers.Flatten()(a2)\n",
        "\n",
        "        # This flattens everything, so shape will be (, (d - k) + 1) x nfilters) = (, 172) for example.\n",
        "\n",
        "        \n",
        "        # a2 = tf.keras.layers.Dense(32, kernel_regularizer=self.reg, activation=self.act)(a2)\n",
        "\n",
        "        # # This would give (,32)\n",
        "\n",
        "        # a2 = tf.keras.layers.Dense(16, kernel_regularizer=self.reg, activation=self.act)(a2)\n",
        "\n",
        "        # (,16)\n",
        "\n",
        "        a2 = tf.keras.layers.Dense(2 * self.z_dim)(a2)  # No activation.\n",
        "        # 2 * 14 = 28.\n",
        "\n",
        "        \n",
        "        self.encoder = tf.keras.Model(inputs=r1_input_y, outputs=a2)\n",
        "        \n",
        "        # Conv size is [ (W - K + 2P) / S ] + 1\n",
        "        # \n",
        "        # W is the input volume - in your case 128\n",
        "        # K is the Kernel size - in your case 5\n",
        "        # P is the padding - in your case 0 i believe\n",
        "        # S is the stride - which you have not provided.\n",
        "\n",
        "\n",
        "        print(self.encoder.summary())\n",
        "\n",
        "        # # the r2 decoder network\n",
        "        r2_input_z = tf.keras.Input(shape=(self.z_dim,))\n",
        "\n",
        "        # # Make this \n",
        "        a2 = tf.keras.layers.Dense(7 * 32, activation=self.act)(r2_input_z)\n",
        "\n",
        "        a2 = tf.keras.layers.Reshape(target_shape=(7, 32))(a2)\n",
        "\n",
        "        a2 = tf.keras.layers.Conv1DTranspose(\n",
        "                filters=64, kernel_size=32 , strides=1,\n",
        "                activation='relu')(a2)        # (7 + 32 - 1 = 38) so (18, 18, 64); (3 + 1 - 1) / 2 = 2.\n",
        "\n",
        "        a2 = tf.keras.layers.Conv1DTranspose(\n",
        "                filters=32, kernel_size=23, strides=1,\n",
        "                activation='relu')(a2)        # (38 + 23 - 1 = 60) so (60, 64); (4 - 0 + 1) / 1 = 2 / 2 = 3.\n",
        "\n",
        "        a2 = tf.keras.layers.Conv1DTranspose(\n",
        "                filters=4, kernel_size=4, strides=1, padding='same')(a2)  # Want this to be (None, 60, 4, 1). Second element needs to be 4.\n",
        "\n",
        "        \n",
        "        self.decoder = tf.keras.Model(inputs=r2_input_z, outputs=a2)\n",
        "        print(self.decoder.summary())\n",
        "    \n",
        "    def reparameterize(self, mean, logvar):\n",
        "      eps = tf.random.normal(shape=mean.shape)\n",
        "      return eps * tf.exp(logvar * .5) + mean\n",
        "\n",
        "    \n",
        "    def get_encoders(self):\n",
        "        return self.encoder\n",
        "    \n",
        "    def encode(self, y=None):\n",
        "        # print(\"==\")\n",
        "        # print(y)\n",
        "        # print(\"AAA\")\n",
        "        # print(self.encoder(y).shape)\n",
        "        # print(self.encoder(y))Nikon DX VR AF-P NIKKOR 70-300mm 1:4.5-6.3 G ED\n",
        "#         print([self.z_dim*self.n_modes, self.z_dim*self.n_modes,self.n_modes])\n",
        "        # print(\"==\")\n",
        "        # print(self.z_dim*self.n_modes + self.z_dim*self.n_modes + self.n_modes)\n",
        "        # print(y.shape)\n",
        "#         mean, logvar, weight = tf.split(self.encoder(y), num_or_size_splits=[2, 4, 3], axis=1)\n",
        "        mean, logvar = tf.split(self.encoder(y), num_or_size_splits=2, axis=1)\n",
        "        \n",
        "#         print(mean)\n",
        "        return mean, logvar\n",
        "        # return tf.reshape(mean,[-1,self.n_modes,self.z_dim]), tf.reshape(logvar,[-1,self.n_modes,self.z_dim]), tf.reshape(weight,[-1,self.n_modes])\n",
        "\n",
        "    def decode(self, z=None, apply_sigmoid=False):\n",
        "        logits = self.decoder(z)\n",
        "        if apply_sigmoid:\n",
        "          probs = tf.sigmoid(logits)\n",
        "          return probs\n",
        "        return logits"
      ],
      "metadata": {
        "id": "-i9AWBDbyGli"
      },
      "execution_count": 190,
      "outputs": []
    },
    {
      "cell_type": "code",
      "source": [
        "mse_loss_fn = tf.keras.losses.MeanSquaredError()\n",
        "\n",
        "def log_normal_pdf(sample, mean, logvar, raxis=1):\n",
        "  log2pi = tf.math.log(2. * np.pi)\n",
        "  return tf.reduce_sum(\n",
        "      -.5 * ((sample - mean) ** 2. * tf.exp(-logvar) + logvar + log2pi),\n",
        "      axis=raxis)\n",
        "\n",
        "\n",
        "def compute_loss(model, x):\n",
        "  # print(\"Encoding...\")\n",
        "  mean, logvar = model.encode(x)\n",
        "  # print(\"Reparameterizing...\")\n",
        "  z = model.reparameterize(mean, logvar)\n",
        "\n",
        "  # print(\"z is\", z)\n",
        "  # print(\"Decoding...\")\n",
        "  x_logit = model.decode(z)\n",
        "  # print(\"x shape = \", x.shape, \"z shape = \", z.shape, \"x_logit shape = \", x_logit.shape)\n",
        "  # print(\"Calculating cross entropy...\")\n",
        "  cross_ent = tf.nn.sigmoid_cross_entropy_with_logits(logits=x_logit, labels=x)\n",
        "  # print(cross_ent.shape)\n",
        "  # print(\"Now getting logpx_z.\")\n",
        "  logpx_z = -tf.reduce_sum(cross_ent, axis=[1, 2])\n",
        "  # print(\"Now getting logpz.\")\n",
        "  logpz = log_normal_pdf(z, 0., 0.)\n",
        "  # print(\"Now getting pgqzx.\")\n",
        "  logqz_x = log_normal_pdf(z, mean, logvar)\n",
        "  # print(\"Got everything I wanted.\")\n",
        "  # print(type(logpx_z), type(logpz), type(logqz_x))\n",
        "  # print(\"logpx_z\")\n",
        "  # print(logpx_z)\n",
        "  # print(\"logpz\")\n",
        "  # print(logpz)\n",
        "  # print(\"logz_x\")\n",
        "  # print(logqz_x)\n",
        "  me = -tf.reduce_mean(logpx_z + logpz - logqz_x)\n",
        "  # print(\"Got reduced_mean.\")\n",
        "  return me  \n"
      ],
      "metadata": {
        "id": "AvRL1_xpzXHI"
      },
      "execution_count": 191,
      "outputs": []
    },
    {
      "cell_type": "code",
      "source": [
        "train_loss_metric = tf.keras.metrics.Mean('train_loss', dtype=tf.float32)\n",
        "\n",
        "@tf.function\n",
        "def train_step(model, x, optimizer):\n",
        "  \"\"\"Executes one training step and returns the loss.\n",
        "\n",
        "  This function computes the loss and gradients, and uses the latter to\n",
        "  update the model's parameters.\n",
        "  \"\"\"\n",
        "  with tf.GradientTape() as tape:\n",
        "    loss = compute_loss(model, x)\n",
        "  gradients = tape.gradient(loss, model.trainable_variables)\n",
        "  optimizer.apply_gradients(zip(gradients, model.trainable_variables))\n"
      ],
      "metadata": {
        "id": "CsADoWt_zXQG"
      },
      "execution_count": 192,
      "outputs": []
    },
    {
      "cell_type": "code",
      "source": [
        "\n",
        "epochs = 10\n",
        "\n",
        "# start the training loop\n",
        "train_loss = np.zeros((epochs, 2))\n",
        "test_loss = np.zeros((epochs, 2))\n",
        "\n",
        "params = dict()\n",
        "\n",
        "params['z_dim'] = 14\n",
        "params['n_modes'] = 3\n",
        "params['n_channels'] = 4\n",
        "params['ramp_start'] = 10\n",
        "params['ramp_end'] = 20\n",
        "params['y_normscale'] = 1.0\n",
        "\n",
        "params['rand_pars'] = ['frequency']\n",
        "params['inf_pars'] = ['frequency']\n",
        "\n",
        "\n",
        "ramp_start = params['ramp_start']\n",
        "ramp_length = params['ramp_end']\n",
        "\n",
        "\n",
        "ramp_cycles = 1\n",
        "KL_samples = []\n",
        "\n",
        "\n",
        "\n",
        "model = SimpleOverFittingCVAE(x_dim=3, y_dim=y_s.shape[1], n_channels=params['n_channels'], \\\n",
        "             z_dim=params['z_dim'], n_modes=params['n_modes'], params=params)\n",
        "\n",
        "model.compile()"
      ],
      "metadata": {
        "colab": {
          "base_uri": "https://localhost:8080/"
        },
        "id": "526tWVc7zXSH",
        "outputId": "c112ca94-f9cb-4876-c598-96bfed37df8e"
      },
      "execution_count": 193,
      "outputs": [
        {
          "output_type": "stream",
          "name": "stdout",
          "text": [
            "Model: \"model_34\"\n",
            "_________________________________________________________________\n",
            " Layer (type)                Output Shape              Param #   \n",
            "=================================================================\n",
            " input_41 (InputLayer)       [(None, 60, 4, 1)]        0         \n",
            "                                                                 \n",
            " conv1d_37 (Conv1D)          (None, 60, 3, 32)         96        \n",
            "                                                                 \n",
            " conv1d_38 (Conv1D)          (None, 60, 2, 64)         4160      \n",
            "                                                                 \n",
            " flatten_20 (Flatten)        (None, 7680)              0         \n",
            "                                                                 \n",
            " dense_39 (Dense)            (None, 28)                215068    \n",
            "                                                                 \n",
            "=================================================================\n",
            "Total params: 219,324\n",
            "Trainable params: 219,324\n",
            "Non-trainable params: 0\n",
            "_________________________________________________________________\n",
            "None\n",
            "Model: \"model_35\"\n",
            "_________________________________________________________________\n",
            " Layer (type)                Output Shape              Param #   \n",
            "=================================================================\n",
            " input_42 (InputLayer)       [(None, 14)]              0         \n",
            "                                                                 \n",
            " dense_40 (Dense)            (None, 224)               3360      \n",
            "                                                                 \n",
            " reshape_19 (Reshape)        (None, 7, 32)             0         \n",
            "                                                                 \n",
            " conv1d_transpose_41 (Conv1D  (None, 38, 64)           65600     \n",
            " Transpose)                                                      \n",
            "                                                                 \n",
            " conv1d_transpose_42 (Conv1D  (None, 60, 32)           47136     \n",
            " Transpose)                                                      \n",
            "                                                                 \n",
            " conv1d_transpose_43 (Conv1D  (None, 60, 4)            516       \n",
            " Transpose)                                                      \n",
            "                                                                 \n",
            "=================================================================\n",
            "Total params: 116,612\n",
            "Trainable params: 116,612\n",
            "Non-trainable params: 0\n",
            "_________________________________________________________________\n",
            "None\n"
          ]
        }
      ]
    },
    {
      "cell_type": "code",
      "source": [],
      "metadata": {
        "id": "-eMyKNWTF4bn"
      },
      "execution_count": 193,
      "outputs": []
    },
    {
      "cell_type": "code",
      "source": [
        "for a in train_dataset:\n",
        "  # print(a[3].shape)\n",
        "  # print(tf.expand_dims(a[0], 0).shape)\n",
        "  loss = compute_loss(model, tf.expand_dims(a[0], 0))\n",
        "  # print(a)\n",
        "  print(loss)\n",
        "\n",
        "  break"
      ],
      "metadata": {
        "colab": {
          "base_uri": "https://localhost:8080/"
        },
        "id": "eXDl7jLkzXUo",
        "outputId": "96b60eca-e7e7-4374-d4bb-d1b637099dea"
      },
      "execution_count": 194,
      "outputs": [
        {
          "output_type": "stream",
          "name": "stdout",
          "text": [
            "tf.Tensor(37488.305, shape=(), dtype=float32)\n"
          ]
        }
      ]
    },
    {
      "cell_type": "code",
      "source": [
        "for t in train_dataset:\n",
        "  # print(t)\n",
        "  break"
      ],
      "metadata": {
        "id": "6wTcYKw6DUcP"
      },
      "execution_count": 195,
      "outputs": []
    },
    {
      "cell_type": "code",
      "source": [
        "epochs = 10\n",
        "optimizer = tf.keras.optimizers.Adam(1e-4)\n",
        "\n",
        "all_losses = []\n",
        "\n",
        "for epoch in range(1, epochs + 1):\n",
        "  start_time = time.time()\n",
        "  for train_x in train_dataset:\n",
        "    # for step, x_batch_train in enumerate(train_x):\n",
        "      # train_x = tf.expand_dims(train_x[0], 0)\n",
        "    train_step(model, train_x, optimizer)\n",
        "  \n",
        "  end_time = time.time()\n",
        "\n",
        "  loss = tf.keras.metrics.Mean()\n",
        "  for test_x in train_dataset:        # Should be test_dataset.\n",
        "    # test_x = tf.expand_dims(test_x, 0)\n",
        "    loss(compute_loss(model, test_x))\n",
        "  elbo = -loss.result()\n",
        "  all_losses.append(elbo)\n",
        "  display.clear_output(wait=False)\n",
        "  print('Epoch: {}, Test set ELBO: {}, time elapse for current epoch: {}'\n",
        "        .format(epoch, elbo, end_time - start_time))\n",
        "  # generate_and_save_images(model, epoch, test_sample)\n"
      ],
      "metadata": {
        "colab": {
          "base_uri": "https://localhost:8080/"
        },
        "id": "96wec0Eh6Op3",
        "outputId": "71b1e094-0f3d-4531-ce56-bde7382ae740"
      },
      "execution_count": 196,
      "outputs": [
        {
          "output_type": "stream",
          "name": "stdout",
          "text": [
            "Epoch: 10, Test set ELBO: 1200096256.0, time elapse for current epoch: 0.20227837562561035\n"
          ]
        }
      ]
    },
    {
      "cell_type": "code",
      "source": [
        "plt.figure(figsize=(8, 3), dpi=125)\n",
        "\n",
        "plt.plot(np.arange(epochs), all_losses, marker=\"o\", ms=4)\n",
        "\n",
        "plt.grid(alpha=0.3, ls=\"dotted\")"
      ],
      "metadata": {
        "id": "WjTh0geP6lBL",
        "colab": {
          "base_uri": "https://localhost:8080/",
          "height": 374
        },
        "outputId": "86f9f984-95e7-4115-c0e4-145189cb1d81"
      },
      "execution_count": 198,
      "outputs": [
        {
          "output_type": "display_data",
          "data": {
            "text/plain": [
              "<Figure size 1000x375 with 1 Axes>"
            ],
            "image/png": "[encoded data removed]"
          },
          "metadata": {
            "needs_background": "light"
          }
        }
      ]
    },
    {
      "cell_type": "code",
      "source": [
        "6np.array()"
      ],
      "metadata": {
        "id": "Oq-Su9Y_6lDf",
        "colab": {
          "base_uri": "https://localhost:8080/",
          "height": 167
        },
        "outputId": "b1bd6a31-55b0-4497-bf4c-798a2f3f349b"
      },
      "execution_count": null,
      "outputs": [
        {
          "output_type": "error",
          "ename": "TypeError",
          "evalue": "ignored",
          "traceback": [
            "\u001b[0;31m---------------------------------------------------------------------------\u001b[0m",
            "\u001b[0;31mTypeError\u001b[0m                                 Traceback (most recent call last)",
            "\u001b[0;32m<ipython-input-125-e4f3b47dc252>\u001b[0m in \u001b[0;36m<module>\u001b[0;34m\u001b[0m\n\u001b[0;32m----> 1\u001b[0;31m \u001b[0mnp\u001b[0m\u001b[0;34m.\u001b[0m\u001b[0marray\u001b[0m\u001b[0;34m(\u001b[0m\u001b[0;34m)\u001b[0m\u001b[0;34m\u001b[0m\u001b[0;34m\u001b[0m\u001b[0m\n\u001b[0m",
            "\u001b[0;31mTypeError\u001b[0m: array() missing required argument 'object' (pos 0)"
          ]
        }
      ]
    },
    {
      "cell_type": "code",
      "source": [],
      "metadata": {
        "id": "bAEtXLPE6lGO"
      },
      "execution_count": null,
      "outputs": []
    },
    {
      "cell_type": "code",
      "source": [
        "a = tf.keras.Sequential(\n",
        "        [\n",
        "            tf.keras.layers.InputLayer(input_shape=(28, 28, 1)),\n",
        "            tf.keras.layers.Conv2D(\n",
        "                filters=32, kernel_size=3, strides=(2, 2), activation='relu'),\n",
        "            tf.keras.layers.Conv2D(\n",
        "                filters=64, kernel_size=3, strides=(2, 2), activation='relu'),\n",
        "            tf.keras.layers.Flatten(),\n",
        "            # No activation\n",
        "            tf.keras.layers.Dense(14 + 14),\n",
        "        ]\n",
        "    )\n",
        "\n",
        "b = tf.keras.Sequential(\n",
        "        [\n",
        "            tf.keras.layers.InputLayer(input_shape=(14,)),\n",
        "            tf.keras.layers.Dense(units=7*7*32, activation=tf.nn.relu),\n",
        "            tf.keras.layers.Reshape(target_shape=(7, 7, 32)),\n",
        "            tf.keras.layers.Conv2DTranspose(\n",
        "                filters=64, kernel_size=3, strides=2, padding='same',\n",
        "                activation='relu'),\n",
        "            tf.keras.layers.Conv2DTranspose(\n",
        "                filters=32, kernel_size=3, strides=2, padding='same',\n",
        "                activation='relu'),\n",
        "            # No activation\n",
        "            tf.keras.layers.Conv2DTranspose(\n",
        "                filters=1, kernel_size=3, strides=1, padding='same'),\n",
        "        ]\n",
        "    )\n"
      ],
      "metadata": {
        "id": "QtI2W80YRBIE"
      },
      "execution_count": null,
      "outputs": []
    },
    {
      "cell_type": "code",
      "source": [
        "a.summary()"
      ],
      "metadata": {
        "colab": {
          "base_uri": "https://localhost:8080/"
        },
        "id": "6u1IFIAZwiKn",
        "outputId": "0c02adfc-425c-4b92-c442-4e1fd0efca3d"
      },
      "execution_count": null,
      "outputs": [
        {
          "output_type": "stream",
          "name": "stdout",
          "text": [
            "Model: \"sequential_2\"\n",
            "_________________________________________________________________\n",
            " Layer (type)                Output Shape              Param #   \n",
            "=================================================================\n",
            " conv2d_6 (Conv2D)           (None, 13, 13, 32)        320       \n",
            "                                                                 \n",
            " conv2d_7 (Conv2D)           (None, 6, 6, 64)          18496     \n",
            "                                                                 \n",
            " flatten_58 (Flatten)        (None, 2304)              0         \n",
            "                                                                 \n",
            " dense_172 (Dense)           (None, 28)                64540     \n",
            "                                                                 \n",
            "=================================================================\n",
            "Total params: 83,356\n",
            "Trainable params: 83,356\n",
            "Non-trainable params: 0\n",
            "_________________________________________________________________\n"
          ]
        }
      ]
    },
    {
      "cell_type": "code",
      "source": [
        "b.summary()"
      ],
      "metadata": {
        "colab": {
          "base_uri": "https://localhost:8080/"
        },
        "id": "iu70Lz3Ywnqq",
        "outputId": "f879e49a-c487-4c01-f539-d0873b171101"
      },
      "execution_count": null,
      "outputs": [
        {
          "output_type": "stream",
          "name": "stdout",
          "text": [
            "Model: \"sequential_3\"\n",
            "_________________________________________________________________\n",
            " Layer (type)                Output Shape              Param #   \n",
            "=================================================================\n",
            " dense_173 (Dense)           (None, 1568)              23520     \n",
            "                                                                 \n",
            " reshape_59 (Reshape)        (None, 7, 7, 32)          0         \n",
            "                                                                 \n",
            " conv2d_transpose_3 (Conv2DT  (None, 14, 14, 64)       18496     \n",
            " ranspose)                                                       \n",
            "                                                                 \n",
            " conv2d_transpose_4 (Conv2DT  (None, 28, 28, 32)       18464     \n",
            " ranspose)                                                       \n",
            "                                                                 \n",
            " conv2d_transpose_5 (Conv2DT  (None, 28, 28, 1)        289       \n",
            " ranspose)                                                       \n",
            "                                                                 \n",
            "=================================================================\n",
            "Total params: 60,769\n",
            "Trainable params: 60,769\n",
            "Non-trainable params: 0\n",
            "_________________________________________________________________\n"
          ]
        }
      ]
    },
    {
      "cell_type": "code",
      "source": [],
      "metadata": {
        "id": "md7i9I8gwovj"
      },
      "execution_count": null,
      "outputs": []
    }
  ]
}