{
  "nbformat": 4,
  "nbformat_minor": 0,
  "metadata": {
    "colab": {
      "name": "autoencoder_from_the_ground_up",
      "provenance": [],
      "collapsed_sections": [],
      "authorship_tag": "ABX9TyPRL3zvbYIcsS5Uo51v40LO",
      "include_colab_link": true
    },
    "kernelspec": {
      "name": "python3",
      "display_name": "Python 3"
    },
    "language_info": {
      "name": "python"
    }
  },
  "cells": [
    {
      "cell_type": "markdown",
      "metadata": {
        "id": "view-in-github",
        "colab_type": "text"
      },
      "source": [
        "<a href=\"https://colab.research.google.com/github/tripatheea/auto/blob/main/autoencoder_from_the_ground_up.ipynb\" target=\"_parent\"><img src=\"https://colab.research.google.com/assets/colab-badge.svg\" alt=\"Open In Colab\"/></a>"
      ]
    },
    {
      "cell_type": "code",
      "execution_count": 1,
      "metadata": {
        "colab": {
          "base_uri": "https://localhost:8080/"
        },
        "id": "Fj-OdKbRHMq5",
        "outputId": "e0f4f5ed-b0b4-4855-a441-cc6102f0b87d"
      },
      "outputs": [
        {
          "output_type": "stream",
          "name": "stdout",
          "text": [
            "Looking in indexes: https://pypi.org/simple, https://us-python.pkg.dev/colab-wheels/public/simple/\n",
            "Collecting corner\n",
            "  Downloading corner-2.2.1-py3-none-any.whl (15 kB)\n",
            "Requirement already satisfied: matplotlib>=2.1 in /usr/local/lib/python3.7/dist-packages (from corner) (3.2.2)\n",
            "Requirement already satisfied: kiwisolver>=1.0.1 in /usr/local/lib/python3.7/dist-packages (from matplotlib>=2.1->corner) (1.4.4)\n",
            "Requirement already satisfied: cycler>=0.10 in /usr/local/lib/python3.7/dist-packages (from matplotlib>=2.1->corner) (0.11.0)\n",
            "Requirement already satisfied: numpy>=1.11 in /usr/local/lib/python3.7/dist-packages (from matplotlib>=2.1->corner) (1.21.6)\n",
            "Requirement already satisfied: python-dateutil>=2.1 in /usr/local/lib/python3.7/dist-packages (from matplotlib>=2.1->corner) (2.8.2)\n",
            "Requirement already satisfied: pyparsing!=2.0.4,!=2.1.2,!=2.1.6,>=2.0.1 in /usr/local/lib/python3.7/dist-packages (from matplotlib>=2.1->corner) (3.0.9)\n",
            "Requirement already satisfied: typing-extensions in /usr/local/lib/python3.7/dist-packages (from kiwisolver>=1.0.1->matplotlib>=2.1->corner) (4.1.1)\n",
            "Requirement already satisfied: six>=1.5 in /usr/local/lib/python3.7/dist-packages (from python-dateutil>=2.1->matplotlib>=2.1->corner) (1.15.0)\n",
            "Installing collected packages: corner\n",
            "Successfully installed corner-2.2.1\n"
          ]
        }
      ],
      "source": [
        "from IPython import display\n",
        "\n",
        "import glob\n",
        "import imageio\n",
        "import matplotlib.pyplot as plt\n",
        "import numpy as np\n",
        "import PIL\n",
        "import tensorflow as tf\n",
        "import tensorflow_probability as tfp\n",
        "import time\n",
        "from tensorflow.keras import regularizers\n",
        "import tensorflow.keras.initializers\n",
        "\n",
        "from scipy.fft import fft, ifft, fftfreq\n",
        "\n",
        "\n",
        "!pip install corner\n",
        "\n",
        "import corner\n",
        "\n",
        "tfd = tfp.distributions"
      ]
    },
    {
      "cell_type": "code",
      "source": [
        "sampling_freq = 100\n",
        "T_duration = 1 \n",
        "\n",
        "N = sampling_freq * T_duration"
      ],
      "metadata": {
        "id": "5Z19bp5kHPNb"
      },
      "execution_count": 2,
      "outputs": []
    },
    {
      "cell_type": "code",
      "source": [
        "def generate_signal(sampling_freq=100, T_duration=1, noiseamp=0.000, hamp=5.0, f_sig=8.0):\n",
        "    \n",
        "    \n",
        "    t = np.linspace(0.0, T_duration, sampling_freq * T_duration, endpoint=False)\n",
        "    Nsample = len(t)\n",
        "    noise = noiseamp * np.random.normal(0, scale = 1, size = Nsample)\n",
        "    signal = hamp * np.sin(2 * np.pi * (f_sig * t))\n",
        "\n",
        "    data = signal + noise\n",
        "    \n",
        "    return data"
      ],
      "metadata": {
        "id": "ptLFqfOWHQo1"
      },
      "execution_count": 3,
      "outputs": []
    },
    {
      "cell_type": "code",
      "source": [
        "y = generate_signal()\n",
        "\n",
        "plt.plot(y)\n",
        "plt.plot(generate_signal())"
      ],
      "metadata": {
        "colab": {
          "base_uri": "https://localhost:8080/",
          "height": 282
        },
        "id": "j4JxFE8wHRiI",
        "outputId": "5e0b7fb3-ad6b-4f0a-80e3-a0f22b947a81"
      },
      "execution_count": 4,
      "outputs": [
        {
          "output_type": "execute_result",
          "data": {
            "text/plain": [
              "[<matplotlib.lines.Line2D at 0x7f58a1a30050>]"
            ]
          },
          "metadata": {},
          "execution_count": 4
        },
        {
          "output_type": "display_data",
          "data": {
            "text/plain": [
              "<Figure size 432x288 with 1 Axes>"
            ],
            "image/png": "[encoded data removed]"
          },
          "metadata": {
            "needs_background": "light"
          }
        }
      ]
    },
    {
      "cell_type": "code",
      "source": [
        "N_data_points = 100"
      ],
      "metadata": {
        "id": "9wP0cQxLHSKj"
      },
      "execution_count": 5,
      "outputs": []
    },
    {
      "cell_type": "code",
      "source": [
        "f_s = np.linspace(15, 20, N_data_points)\n",
        "\n",
        "np.random.shuffle(f_s)"
      ],
      "metadata": {
        "id": "2w0pzc-zHTXN"
      },
      "execution_count": 6,
      "outputs": []
    },
    {
      "cell_type": "code",
      "source": [
        "y_s = []\n",
        "x_s = []\n",
        "for f in f_s:\n",
        "    y = generate_signal(sampling_freq=sampling_freq, T_duration=T_duration, noiseamp=0.000000, hamp=100.0, f_sig=f)\n",
        "    xf = fftfreq(N, 1 / sampling_freq)[:N//2]\n",
        "    \n",
        "    fft_y = fft(y)\n",
        "    \n",
        "    re = np.array([np.real(a) for a in fft_y])\n",
        "    im = np.array([np.imag(a) for a in fft_y])\n",
        "    \n",
        "    re = (re - np.mean(re)) / np.std(re)\n",
        "    im = (im - np.mean(im)) / np.std(im)\n",
        "    \n",
        "    y_fft = [[f, r, i] for f, r, i in zip(xf, re, im)]\n",
        "    y_s.append(y_fft)\n",
        "    x_s.append([f])\n",
        "\n",
        "x_s, y_s = np.array(x_s), np.array(y_s)\n",
        "\n",
        "y_s = y_s.astype(np.float32)\n",
        "x_s = x_s.astype(np.float32)"
      ],
      "metadata": {
        "id": "_eEoYD6pHUJe"
      },
      "execution_count": 7,
      "outputs": []
    },
    {
      "cell_type": "code",
      "source": [
        "freq = y_s[0][:,0]\n",
        "mag = y_s[0][:,1] ** 2 + y_s[0][:,2] ** 2\n",
        "\n",
        "plt.plot(freq, mag)"
      ],
      "metadata": {
        "colab": {
          "base_uri": "https://localhost:8080/",
          "height": 282
        },
        "id": "CspRnbxKHU1a",
        "outputId": "d2d5322c-5cf9-4f8b-b5f9-05624927f366"
      },
      "execution_count": 8,
      "outputs": [
        {
          "output_type": "execute_result",
          "data": {
            "text/plain": [
              "[<matplotlib.lines.Line2D at 0x7f58a1568950>]"
            ]
          },
          "metadata": {},
          "execution_count": 8
        },
        {
          "output_type": "display_data",
          "data": {
            "text/plain": [
              "<Figure size 432x288 with 1 Axes>"
            ],
            "image/png": "[encoded data removed]"
          },
          "metadata": {
            "needs_background": "light"
          }
        }
      ]
    },
    {
      "cell_type": "code",
      "source": [
        "split = 0.7\n",
        "\n",
        "cutoff = int(split * len(x_s))\n",
        "\n",
        "print(cutoff, len(x_s))"
      ],
      "metadata": {
        "colab": {
          "base_uri": "https://localhost:8080/"
        },
        "id": "8ZSbVmHzHVvF",
        "outputId": "0512c553-478f-45c3-ac6d-90038b983d82"
      },
      "execution_count": 9,
      "outputs": [
        {
          "output_type": "stream",
          "name": "stdout",
          "text": [
            "70 100\n"
          ]
        }
      ]
    },
    {
      "cell_type": "code",
      "source": [
        "x_s = tf.convert_to_tensor(x_s, dtype=tf.float32)\n",
        "y_s = tf.convert_to_tensor(y_s, dtype=tf.float32)"
      ],
      "metadata": {
        "id": "RVMB3CkMHWyl"
      },
      "execution_count": 10,
      "outputs": []
    },
    {
      "cell_type": "code",
      "source": [
        "x_train, y_train = x_s[:cutoff], y_s[:cutoff]\n",
        "x_test, y_test = x_s[cutoff:], y_s[cutoff:]"
      ],
      "metadata": {
        "id": "YTIcl5E_HXfl"
      },
      "execution_count": 11,
      "outputs": []
    },
    {
      "cell_type": "code",
      "source": [
        "batch_size = 4"
      ],
      "metadata": {
        "id": "choe2bBnHYPZ"
      },
      "execution_count": 12,
      "outputs": []
    },
    {
      "cell_type": "code",
      "source": [
        "train_dataset = tf.data.Dataset.from_tensor_slices((x_train, y_train)).shuffle(cutoff).batch(batch_size)\n",
        "test_dataset = tf.data.Dataset.from_tensor_slices((x_test, y_test)).shuffle(cutoff).batch(batch_size)"
      ],
      "metadata": {
        "id": "wtqj2pXJHZL3"
      },
      "execution_count": 13,
      "outputs": []
    },
    {
      "cell_type": "code",
      "source": [
        "len(train_dataset), len(test_dataset)"
      ],
      "metadata": {
        "colab": {
          "base_uri": "https://localhost:8080/"
        },
        "id": "3q5QvhhxHZ2a",
        "outputId": "ffa2fd28-dc3e-4574-cdc9-a2e8d35297ed"
      },
      "execution_count": 14,
      "outputs": [
        {
          "output_type": "execute_result",
          "data": {
            "text/plain": [
              "(18, 8)"
            ]
          },
          "metadata": {},
          "execution_count": 14
        }
      ]
    },
    {
      "cell_type": "code",
      "source": [
        "for a in train_dataset.enumerate():\n",
        "    print(a[0].shape, a[1][0].shape, a[1][1].shape)\n",
        "    break"
      ],
      "metadata": {
        "colab": {
          "base_uri": "https://localhost:8080/"
        },
        "id": "jmSmCyEdHa2Y",
        "outputId": "fd939f5c-4e17-4cef-cd4b-802a9622d11b"
      },
      "execution_count": 15,
      "outputs": [
        {
          "output_type": "stream",
          "name": "stdout",
          "text": [
            "() (4, 1) (4, 50, 3)\n"
          ]
        }
      ]
    },
    {
      "cell_type": "code",
      "source": [
        "tf.config.run_functions_eagerly(True)"
      ],
      "metadata": {
        "id": "gQ33B2AAHbju"
      },
      "execution_count": 16,
      "outputs": []
    },
    {
      "cell_type": "code",
      "source": [
        "def ramp_func(epoch,start,ramp_length, n_cycles):\n",
        "    i = (epoch - start) / (2.0 * ramp_length)\n",
        "    print(epoch,i)\n",
        "    \n",
        "    if i < 0:\n",
        "        return 0.0\n",
        "    if i >= n_cycles:\n",
        "        return 1.0\n",
        "    \n",
        "    return min(1.0, 2.0 * np.remainder(i, 1.0))\n",
        "\n",
        "optimizer = tf.keras.optimizers.Adam(1e-4)\n",
        "initializer = tf.keras.initializers.GlorotUniform()"
      ],
      "metadata": {
        "id": "srumCquLHc53"
      },
      "execution_count": 17,
      "outputs": []
    },
    {
      "cell_type": "code",
      "source": [
        "# This is the encoder that encodes x which is just the time-series in either time or frequency domain.\n",
        "\n",
        "\n",
        "x_dim, n_channels = 4, 4\n",
        "y_dim = 1\n",
        "input_shape = (x_dim, n_channels)\n",
        "\n",
        "\n",
        "z_dim = 3\n",
        "n_modes = 2\n",
        "x_modes = 1\n",
        "\n",
        "assert z_dim > x_modes\n",
        "\n",
        "r1_input_x = tf.keras.Input(shape=input_shape)\n",
        "\n",
        "encoder_r1_x_first_part = tf.keras.layers.Conv1D(filters=1, kernel_size=2, strides=1)(r1_input_x) # Each filter is applied separately. So 3 filters would essentially produce 3 separate layers.\n",
        "encoder_r1_x_first_part = tf.keras.layers.Flatten()(encoder_r1_x_first_part) # Flattens the matrix.\n",
        "\n",
        "encoder_r1_x_second_part = tf.keras.layers.Dense(16)(encoder_r1_x_first_part)\n",
        "encoder_r1_x = tf.keras.layers.Dense(2 * z_dim * n_modes + n_modes)(encoder_r1_x_second_part)\n",
        "# a2 = a"
      ],
      "metadata": {
        "id": "gMy4zK3dHduQ"
      },
      "execution_count": 18,
      "outputs": []
    },
    {
      "cell_type": "code",
      "source": [
        "x_encoder_model = tf.keras.Model(inputs=r1_input_x, outputs=encoder_r1_x)\n",
        "\n",
        "x_encoder_model.summary()"
      ],
      "metadata": {
        "colab": {
          "base_uri": "https://localhost:8080/"
        },
        "id": "8afA1juLH8hL",
        "outputId": "2ee0237d-d150-4d7f-ec3d-bf2921e4f514"
      },
      "execution_count": 19,
      "outputs": [
        {
          "output_type": "stream",
          "name": "stdout",
          "text": [
            "Model: \"model\"\n",
            "_________________________________________________________________\n",
            " Layer (type)                Output Shape              Param #   \n",
            "=================================================================\n",
            " input_1 (InputLayer)        [(None, 4, 4)]            0         \n",
            "                                                                 \n",
            " conv1d (Conv1D)             (None, 3, 1)              9         \n",
            "                                                                 \n",
            " flatten (Flatten)           (None, 3)                 0         \n",
            "                                                                 \n",
            " dense (Dense)               (None, 16)                64        \n",
            "                                                                 \n",
            " dense_1 (Dense)             (None, 14)                238       \n",
            "                                                                 \n",
            "=================================================================\n",
            "Total params: 311\n",
            "Trainable params: 311\n",
            "Non-trainable params: 0\n",
            "_________________________________________________________________\n"
          ]
        }
      ]
    },
    {
      "cell_type": "code",
      "source": [
        "input_norm = np.random.normal(0, 1, (4, 4)).reshape((1, 4, 4))   # Input x is (4, 4)\n",
        "\n",
        "\n",
        "x_input_norm = tf.convert_to_tensor(input_norm)\n",
        "\n",
        "input_norm.shape, x_input_norm.shape"
      ],
      "metadata": {
        "colab": {
          "base_uri": "https://localhost:8080/"
        },
        "id": "5Ie39IqBJvn8",
        "outputId": "6543a4f5-d08b-4184-b4e1-fdc5c01672f1"
      },
      "execution_count": 63,
      "outputs": [
        {
          "output_type": "execute_result",
          "data": {
            "text/plain": [
              "((1, 4, 4), TensorShape([1, 4, 4]))"
            ]
          },
          "metadata": {},
          "execution_count": 63
        }
      ]
    },
    {
      "cell_type": "code",
      "source": [
        "x_encoder_model(x_input_norm)"
      ],
      "metadata": {
        "colab": {
          "base_uri": "https://localhost:8080/"
        },
        "id": "nCkccKOxIhT-",
        "outputId": "4cd71756-d266-432f-cff8-ad9d78b95b35"
      },
      "execution_count": 21,
      "outputs": [
        {
          "output_type": "execute_result",
          "data": {
            "text/plain": [
              "<tf.Tensor: shape=(1, 14), dtype=float32, numpy=\n",
              "array([[-0.42809886,  1.1861148 , -1.1884309 ,  1.6569933 ,  0.9835188 ,\n",
              "         0.12392876, -0.961425  ,  0.5176296 , -0.6887892 , -1.215472  ,\n",
              "         1.3028177 , -1.4342482 ,  0.95555407, -0.03998576]],\n",
              "      dtype=float32)>"
            ]
          },
          "metadata": {},
          "execution_count": 21
        }
      ]
    },
    {
      "cell_type": "markdown",
      "source": [
        ""
      ],
      "metadata": {
        "id": "iavQal-bDbNj"
      }
    },
    {
      "cell_type": "code",
      "source": [
        "# Now build a network that encodes both x and y. In this scenario, we are going to encode both the \"time-series\" and the frequency of the source.\n",
        "\n"
      ],
      "metadata": {
        "id": "GxMoejlWItvQ"
      },
      "execution_count": 22,
      "outputs": []
    },
    {
      "cell_type": "code",
      "source": [
        "q_input_y = tf.keras.Input(shape=(y_dim))\n",
        "\n",
        "# q_input_y_flattened = tf.keras.layers.Flatten()(q_input_y) # Not sure whether or not this is a good idea.\n",
        "\n",
        "encoder_r1_y = tf.keras.layers.concatenate([encoder_r1_x_first_part, q_input_y])\n",
        "\n",
        "encoder_r1_y = tf.keras.layers.Dense(2)(encoder_r1_y)\n",
        "\n",
        "encoder_r1_y = tf.keras.layers.Dense(2 * z_dim)(encoder_r1_y)"
      ],
      "metadata": {
        "id": "xtBmDtCEJXdp"
      },
      "execution_count": 71,
      "outputs": []
    },
    {
      "cell_type": "code",
      "source": [
        "y_encoder_model = tf.keras.Model(inputs=[r1_input_x, q_input_y], outputs=encoder_r1_y)\n",
        "\n",
        "y_input_norm = tf.convert_to_tensor(np.random.normal(0, 1, (y_dim,))) # y input is (1, 1)\n",
        "\n",
        "y_encoder_model([x_input_norm, y_input_norm])"
      ],
      "metadata": {
        "colab": {
          "base_uri": "https://localhost:8080/"
        },
        "id": "3jMJPgAj-uIf",
        "outputId": "b1e3046c-aa0d-4ac9-def6-395482144aa3"
      },
      "execution_count": 72,
      "outputs": [
        {
          "output_type": "execute_result",
          "data": {
            "text/plain": [
              "<tf.Tensor: shape=(1, 6), dtype=float32, numpy=\n",
              "array([[ 0.9586711 ,  1.1119756 , -0.84627056,  1.0001388 , -0.77144414,\n",
              "        -0.17072237]], dtype=float32)>"
            ]
          },
          "metadata": {},
          "execution_count": 72
        }
      ]
    },
    {
      "cell_type": "code",
      "source": [
        "## So we have two encoders:\n",
        "#  a) Encodes our \"time-series\"\n",
        "#  b) Encodes our \"time-series\" and frequency (or any other predictor).\n",
        "#  \n",
        "# We can now force the network to learn how to build (b) from (a) such that (a) and (b) have the same latent representation.\n",
        "# Then, when we have a new (a) (test data), we can endode it the same way we would if it were (b). Then, decode that to find the frequency."
      ],
      "metadata": {
        "id": "rfGg752M_eSV"
      },
      "execution_count": 73,
      "outputs": []
    },
    {
      "cell_type": "code",
      "source": [
        "# So let's build a decoder network."
      ],
      "metadata": {
        "id": "pvpyqH1iNe0x"
      },
      "execution_count": 74,
      "outputs": []
    },
    {
      "cell_type": "code",
      "source": [
        "r2_input_z = tf.keras.Input(shape=(z_dim))   # The input is our latent representation.\n",
        "\n",
        "decoder_r1_z = tf.keras.layers.Flatten()(r2_input_z)  # Not sure if we need to flatten this or not.\n",
        "\n",
        "# We're taking our x and z for decoding. So, the \"time-series\" and the label / frequency.\n",
        "decoder_r1_z = tf.keras.layers.concatenate([encoder_r1_x_first_part, decoder_r1_z])\n",
        "decoder_r1_z = tf.keras.layers.Dense(8)(decoder_r1_z)\n",
        "decoder_r1_z = tf.keras.layers.Dense(2 * x_dim * x_modes + x_modes)(decoder_r1_z)"
      ],
      "metadata": {
        "id": "K5ITS0KsNgfC"
      },
      "execution_count": 96,
      "outputs": []
    },
    {
      "cell_type": "code",
      "source": [
        "decoder_r2_z_model = tf.keras.Model(inputs=[r1_input_x, r2_input_z], outputs=decoder_r1_z)"
      ],
      "metadata": {
        "id": "KoMrsV5sPgAH"
      },
      "execution_count": 97,
      "outputs": []
    },
    {
      "cell_type": "code",
      "source": [
        "z_input_norm =  tf.convert_to_tensor(np.random.normal(0, 1, (z_dim,)).reshape(-1, z_dim)) # z input is (z_dim, 1)"
      ],
      "metadata": {
        "id": "18USELVBQHsY"
      },
      "execution_count": 98,
      "outputs": []
    },
    {
      "cell_type": "code",
      "source": [
        "decoder_r2_z_model([x_input_norm, z_input_norm])"
      ],
      "metadata": {
        "colab": {
          "base_uri": "https://localhost:8080/"
        },
        "id": "ziHhzZ_EPgRZ",
        "outputId": "5065bc76-b407-468b-e9d9-0d045e28b466"
      },
      "execution_count": 99,
      "outputs": [
        {
          "output_type": "execute_result",
          "data": {
            "text/plain": [
              "<tf.Tensor: shape=(1, 9), dtype=float32, numpy=\n",
              "array([[-1.1855365 , -0.86742693, -0.27236095, -0.1662738 , -0.4872437 ,\n",
              "         1.4184157 ,  1.9721115 ,  0.58932465, -1.7211382 ]],\n",
              "      dtype=float32)>"
            ]
          },
          "metadata": {},
          "execution_count": 99
        }
      ]
    },
    {
      "cell_type": "code",
      "source": [
        "def encode_q_x_and_y(x=None, y=None):\n",
        "  # return tf.split(y_encoder_model([x, y]), num_or_size_splits=[z_dim, z_dim], axis=1)\n",
        "  ab = y_encoder_model([x, y])\n",
        "\n",
        "  # print(ab.shape)\n",
        "  \n",
        "  return tf.split(ab, num_or_size_splits=[z_dim, z_dim], axis=1)\n",
        "\n",
        "def encode_r1_x(x=None):\n",
        "  mean, logvar, weight = tf.split(x_encoder_model(x), num_or_size_splits=[z_dim * n_modes, z_dim * n_modes, n_modes], axis=1)\n",
        "  \n",
        "  return tf.reshape(mean,[-1, n_modes, z_dim]), tf.reshape(logvar, [-1, n_modes, z_dim]), tf.reshape(weight, [-1, n_modes])\n",
        "\n",
        "def decode_r2_x_and_z(x, z):\n",
        "  mean, logvar, weight = tf.split(decoder_r2_z_model([x, z]), num_or_size_splits=[x_dim * x_modes, x_dim * x_modes, x_modes], axis=1)\n",
        "  return tf.reshape(mean,[-1, x_modes, x_dim]), tf.reshape(logvar, [-1, x_modes, x_dim]), tf.reshape(weight, [-1, x_modes])"
      ],
      "metadata": {
        "id": "O21pAffpQNt8"
      },
      "execution_count": 100,
      "outputs": []
    },
    {
      "cell_type": "code",
      "source": [
        "encode_q_x_and_y(x_input_norm, y_input_norm)"
      ],
      "metadata": {
        "colab": {
          "base_uri": "https://localhost:8080/"
        },
        "id": "EqS1RWXFQqgj",
        "outputId": "8b287fe4-2b1d-4819-cb08-8e90c3f73cd8"
      },
      "execution_count": 101,
      "outputs": [
        {
          "output_type": "execute_result",
          "data": {
            "text/plain": [
              "[<tf.Tensor: shape=(1, 3), dtype=float32, numpy=array([[ 0.9586711 ,  1.1119756 , -0.84627056]], dtype=float32)>,\n",
              " <tf.Tensor: shape=(1, 3), dtype=float32, numpy=array([[ 1.0001388 , -0.77144414, -0.17072237]], dtype=float32)>]"
            ]
          },
          "metadata": {},
          "execution_count": 101
        }
      ]
    },
    {
      "cell_type": "code",
      "source": [
        "encode_r1_x(x_input_norm)"
      ],
      "metadata": {
        "colab": {
          "base_uri": "https://localhost:8080/"
        },
        "id": "Hp42geZVRRro",
        "outputId": "a1d277cc-7adc-48b2-ed02-ea75d9542870"
      },
      "execution_count": 102,
      "outputs": [
        {
          "output_type": "execute_result",
          "data": {
            "text/plain": [
              "(<tf.Tensor: shape=(1, 2, 3), dtype=float32, numpy=\n",
              " array([[[-0.46004832, -1.1600399 ,  1.5285637 ],\n",
              "         [-0.92791045, -0.57782525, -0.14804573]]], dtype=float32)>,\n",
              " <tf.Tensor: shape=(1, 2, 3), dtype=float32, numpy=\n",
              " array([[[ 0.23180005,  0.5905957 ,  0.5088981 ],\n",
              "         [ 0.37839168, -0.74403876,  0.73883903]]], dtype=float32)>,\n",
              " <tf.Tensor: shape=(1, 2), dtype=float32, numpy=array([[-0.9549498,  0.5617389]], dtype=float32)>)"
            ]
          },
          "metadata": {},
          "execution_count": 102
        }
      ]
    },
    {
      "cell_type": "code",
      "source": [
        "decode_r2_x_and_z(x_input_norm, z_input_norm)"
      ],
      "metadata": {
        "colab": {
          "base_uri": "https://localhost:8080/"
        },
        "id": "0OWIBQ8fTpbA",
        "outputId": "33a99558-ee50-41eb-881f-c55cc284e94e"
      },
      "execution_count": 103,
      "outputs": [
        {
          "output_type": "execute_result",
          "data": {
            "text/plain": [
              "(<tf.Tensor: shape=(1, 1, 4), dtype=float32, numpy=\n",
              " array([[[-1.1855365 , -0.86742693, -0.27236095, -0.1662738 ]]],\n",
              "       dtype=float32)>, <tf.Tensor: shape=(1, 1, 4), dtype=float32, numpy=\n",
              " array([[[-0.4872437 ,  1.4184157 ,  1.9721115 ,  0.58932465]]],\n",
              "       dtype=float32)>, <tf.Tensor: shape=(1, 1), dtype=float32, numpy=array([[-1.7211382]], dtype=float32)>)"
            ]
          },
          "metadata": {},
          "execution_count": 103
        }
      ]
    },
    {
      "cell_type": "code",
      "source": [
        "# So we have a way to encode just x, or x and y.\n",
        "# And a way to decode z and x to get y.\n",
        "\n",
        "# x    => z\n",
        "# x, y => z\n",
        "# \n",
        "# x, z => y"
      ],
      "metadata": {
        "id": "c3WMbLO2Ux39"
      },
      "execution_count": 104,
      "outputs": []
    },
    {
      "cell_type": "code",
      "source": [
        "# Let's take the time-series (x) and frequency (y) to find the latent distribution z."
      ],
      "metadata": {
        "id": "y6As7FoFVM5Y"
      },
      "execution_count": 105,
      "outputs": []
    },
    {
      "cell_type": "code",
      "source": [
        "z_latent = encode_q_x_and_y(x_input_norm, y_input_norm)\n",
        "\n",
        "y_input_norm"
      ],
      "metadata": {
        "colab": {
          "base_uri": "https://localhost:8080/"
        },
        "id": "LsThpHnvWA1k",
        "outputId": "69ef3663-e7e9-4452-d8b0-547a199a78ba"
      },
      "execution_count": 106,
      "outputs": [
        {
          "output_type": "execute_result",
          "data": {
            "text/plain": [
              "<tf.Tensor: shape=(1,), dtype=float64, numpy=array([-0.59689445])>"
            ]
          },
          "metadata": {},
          "execution_count": 106
        }
      ]
    },
    {
      "cell_type": "code",
      "source": [
        "z_latent"
      ],
      "metadata": {
        "colab": {
          "base_uri": "https://localhost:8080/"
        },
        "id": "uzqSeu7rWEz8",
        "outputId": "b26412f4-69d4-4939-a16e-e66fbf257cd7"
      },
      "execution_count": 107,
      "outputs": [
        {
          "output_type": "execute_result",
          "data": {
            "text/plain": [
              "[<tf.Tensor: shape=(1, 3), dtype=float32, numpy=array([[ 0.9586711 ,  1.1119756 , -0.84627056]], dtype=float32)>,\n",
              " <tf.Tensor: shape=(1, 3), dtype=float32, numpy=array([[ 1.0001388 , -0.77144414, -0.17072237]], dtype=float32)>]"
            ]
          },
          "metadata": {},
          "execution_count": 107
        }
      ]
    },
    {
      "cell_type": "code",
      "source": [
        "# Now, let's use the latent distribution z and x to reconstruct y."
      ],
      "metadata": {
        "id": "zGVJPPfIWFax"
      },
      "execution_count": 108,
      "outputs": []
    },
    {
      "cell_type": "code",
      "source": [
        "decode_r2_x_and_z(x_input_norm, z_input_norm)"
      ],
      "metadata": {
        "colab": {
          "base_uri": "https://localhost:8080/"
        },
        "id": "uAT0MmQwWOWE",
        "outputId": "3a25ad83-6bce-4c71-ae53-400d6e550db1"
      },
      "execution_count": 109,
      "outputs": [
        {
          "output_type": "execute_result",
          "data": {
            "text/plain": [
              "(<tf.Tensor: shape=(1, 1, 4), dtype=float32, numpy=\n",
              " array([[[-1.1855365 , -0.86742693, -0.27236095, -0.1662738 ]]],\n",
              "       dtype=float32)>, <tf.Tensor: shape=(1, 1, 4), dtype=float32, numpy=\n",
              " array([[[-0.4872437 ,  1.4184157 ,  1.9721115 ,  0.58932465]]],\n",
              "       dtype=float32)>, <tf.Tensor: shape=(1, 1), dtype=float32, numpy=array([[-1.7211382]], dtype=float32)>)"
            ]
          },
          "metadata": {},
          "execution_count": 109
        }
      ]
    },
    {
      "cell_type": "code",
      "source": [
        "class CVAE(tf.keras.Model):\n",
        "  def __init__(self):\n",
        "    super(CVAE, self).__init__()\n",
        "    self.act = tf.keras.layers.LeakyReLU(alpha=0.1)\n",
        "    self.reg = regularizers.l2(0.01)\n",
        "\n",
        "  def encode_x(self, x):\n",
        "    return encode_r1_x(x)\n",
        "\n",
        "  def encode_x_and_y(self, x, y):\n",
        "    return encode_q_x_and_y(x, y)\n",
        "\n",
        "  def decode_x_and_z(self, x, z):\n",
        "    return decode_r2_x_and_z\n",
        "\n",
        "  def get_shape(self):\n",
        "    print( x_encoder_model.summary() )\n",
        "    print( y_encoder_model.summary() )\n",
        "    print( decoder_r2_z_model.summary() )"
      ],
      "metadata": {
        "id": "9OmzRYPqemCQ"
      },
      "execution_count": 110,
      "outputs": []
    },
    {
      "cell_type": "code",
      "source": [
        "def compute_loss(model, x, y, ramp=1.0, noiseampt=1.0):\n",
        "\n",
        "  EPS = 1e-3\n",
        "\n",
        "  x = x\n",
        "\n",
        "  noiseamp = 1.0\n",
        "  params = {}\n",
        "  params['x_normscale'] = 1.0\n",
        "\n",
        "  actual_y = y\n",
        "\n",
        "  # Just create tf objects with noise amp and x norm scale.\n",
        "  noiseamp = tf.cast(noiseamp, dtype=tf.float32)\n",
        "  x_normscale = tf.cast(params['x_normscale'], dtype=tf.float32)\n",
        "\n",
        "  # This is in the latent space z. z just from x.\n",
        "  mean_r1_sample_z_from_x, logvar_r1_sample_z_from_x, logweight_r1_sample_z_from_x = encode_r1_x(x=x)\n",
        "  scale_r1_sample_z_from_x = EPS + tf.sqrt(tf.exp(logvar_r1_sample_z_from_x))\n",
        "\n",
        "  # Get latent representation z just from x.\n",
        "  gm_r1_z_from_just_x = tfd.MixtureSameFamily(mixture_distribution=tfd.Categorical(logits=logweight_r1_sample_z_from_x),\n",
        "                        components_distribution=tfd.MultivariateNormalDiag(\n",
        "                        loc=mean_r1_sample_z_from_x,\n",
        "                        scale_diag=scale_r1_sample_z_from_x))\n",
        "  \n",
        "  # Now, use x and y to get the latent space z.\n",
        "\n",
        "  # Latent space. z from x and y.\n",
        "  mean_q_sample_z_from_x_and_y, logvar_q_sample_z_from_x_and_y = encode_q_x_and_y(x, y)\n",
        "  scale_q_sample_z_from_x_and_y = EPS + tf.sqrt(tf.exp(logvar_q_sample_z_from_x_and_y))\n",
        "\n",
        "  # Sample.\n",
        "  mvn_q = tfp.distributions.MultivariateNormalDiag(\n",
        "                            loc=mean_q_sample_z_from_x_and_y,\n",
        "                            scale_diag=scale_q_sample_z_from_x_and_y)\n",
        "      \n",
        "  z_samp = mvn_q.sample()\n",
        "\n",
        "  # Take the latent sample and y to reconstruct y. Pr[y | x, z]\n",
        "  mean_r2_y_from_x_and_z, logvar_r2_y_from_x_and_z, logweight_r2_y_from_x_and_z = decode_r2_x_and_z(x=x, z=z_samp)\n",
        "  scale_r2_y_from_x_and_z = EPS + tf.sqrt(tf.exp(logvar_r2_y_from_x_and_z))\n",
        "\n",
        "  # This is a sample from y (our label).\n",
        "\n",
        "  # Distribution for x. Pr[y | x, z]\n",
        "  gm_r2_y_from_x_and_z = tfd.MixtureSameFamily(mixture_distribution=tfd.Categorical(logits=logweight_r2_y_from_x_and_z),\n",
        "                          components_distribution=tfd.MultivariateNormalDiag(\n",
        "                          loc=mean_r2_y_from_x_and_z,\n",
        "                          scale_diag=scale_r2_y_from_x_and_z))\n",
        "  \n",
        "  simple_cost_recon = -1.0*tf.reduce_mean(gm_r2_y_from_x_and_z.log_prob(tf.cast(y, tf.float32)))\n",
        "\n",
        "  selfent_q = -1.0*tf.reduce_mean(mvn_q.entropy())\n",
        "  log_r1_q = gm_r1_z_from_just_x.log_prob(z_samp)   # evaluate the log prob of z_sample for the distribution of z obtained from just x.\n",
        "\n",
        "  # Calculate the K-L divergence.\n",
        "  cost_KL = selfent_q - tf.reduce_mean(log_r1_q)\n",
        "\n",
        "  return simple_cost_recon, cost_KL"
      ],
      "metadata": {
        "id": "moYp278MWUnN"
      },
      "execution_count": 111,
      "outputs": []
    },
    {
      "cell_type": "code",
      "source": [
        "train_loss_metric = tf.keras.metrics.Mean('train_loss', dtype=tf.float32)\n",
        "\n",
        "@tf.function\n",
        "def train_step(model, x, y, optimizer, ramp=1.0):\n",
        "    \"\"\"Executes one training step and returns the loss.\n",
        "    This function computes the loss and gradients, and uses the latter to\n",
        "    update the model's parameters.\n",
        "    \"\"\"\n",
        "    \n",
        "    ramp = 1.0\n",
        "    \n",
        "    with tf.GradientTape() as tape:\n",
        "#         r_loss, kl_loss = compute_loss(model, x, y, ramp=ramp)\n",
        "        r_loss, kl_loss = compute_loss(model, x, y, ramp)\n",
        "        loss = r_loss + ramp * kl_loss\n",
        "        \n",
        "    gradients = tape.gradient(loss, model.trainable_variables, unconnected_gradients=tf.UnconnectedGradients.ZERO)\n",
        "    optimizer.apply_gradients(zip(gradients, model.trainable_variables))\n",
        "    \n",
        "    train_loss_metric(loss)\n",
        "    \n",
        "    return r_loss, kl_loss"
      ],
      "metadata": {
        "id": "lt-Cp261W9q5"
      },
      "execution_count": 143,
      "outputs": []
    },
    {
      "cell_type": "code",
      "source": [
        "model = CVAE()\n",
        "\n",
        "model.compile()\n",
        "\n",
        "# model.build(x_input_norm.shape)"
      ],
      "metadata": {
        "id": "5YqzilPCXAzR"
      },
      "execution_count": 144,
      "outputs": []
    },
    {
      "cell_type": "code",
      "source": [
        "model.get_shape()"
      ],
      "metadata": {
        "colab": {
          "base_uri": "https://localhost:8080/"
        },
        "id": "rPHM1oZykecL",
        "outputId": "3efc4512-7af1-4a35-eca2-7aebc6b51310"
      },
      "execution_count": 145,
      "outputs": [
        {
          "output_type": "stream",
          "name": "stdout",
          "text": [
            "Model: \"model\"\n",
            "_________________________________________________________________\n",
            " Layer (type)                Output Shape              Param #   \n",
            "=================================================================\n",
            " input_1 (InputLayer)        [(None, 4, 4)]            0         \n",
            "                                                                 \n",
            " conv1d (Conv1D)             (None, 3, 1)              9         \n",
            "                                                                 \n",
            " flatten (Flatten)           (None, 3)                 0         \n",
            "                                                                 \n",
            " dense (Dense)               (None, 16)                64        \n",
            "                                                                 \n",
            " dense_1 (Dense)             (None, 14)                238       \n",
            "                                                                 \n",
            "=================================================================\n",
            "Total params: 311\n",
            "Trainable params: 311\n",
            "Non-trainable params: 0\n",
            "_________________________________________________________________\n",
            "None\n",
            "Model: \"model_3\"\n",
            "__________________________________________________________________________________________________\n",
            " Layer (type)                   Output Shape         Param #     Connected to                     \n",
            "==================================================================================================\n",
            " input_1 (InputLayer)           [(None, 4, 4)]       0           []                               \n",
            "                                                                                                  \n",
            " conv1d (Conv1D)                (None, 3, 1)         9           ['input_1[0][0]']                \n",
            "                                                                                                  \n",
            " flatten (Flatten)              (None, 3)            0           ['conv1d[0][0]']                 \n",
            "                                                                                                  \n",
            " input_4 (InputLayer)           [(None, 1)]          0           []                               \n",
            "                                                                                                  \n",
            " concatenate_2 (Concatenate)    (None, 4)            0           ['flatten[0][0]',                \n",
            "                                                                  'input_4[0][0]']                \n",
            "                                                                                                  \n",
            " dense_6 (Dense)                (None, 2)            10          ['concatenate_2[0][0]']          \n",
            "                                                                                                  \n",
            " dense_7 (Dense)                (None, 6)            18          ['dense_6[0][0]']                \n",
            "                                                                                                  \n",
            "==================================================================================================\n",
            "Total params: 37\n",
            "Trainable params: 37\n",
            "Non-trainable params: 0\n",
            "__________________________________________________________________________________________________\n",
            "None\n",
            "Model: \"model_5\"\n",
            "__________________________________________________________________________________________________\n",
            " Layer (type)                   Output Shape         Param #     Connected to                     \n",
            "==================================================================================================\n",
            " input_1 (InputLayer)           [(None, 4, 4)]       0           []                               \n",
            "                                                                                                  \n",
            " conv1d (Conv1D)                (None, 3, 1)         9           ['input_1[0][0]']                \n",
            "                                                                                                  \n",
            " input_7 (InputLayer)           [(None, 3)]          0           []                               \n",
            "                                                                                                  \n",
            " flatten (Flatten)              (None, 3)            0           ['conv1d[0][0]']                 \n",
            "                                                                                                  \n",
            " flatten_5 (Flatten)            (None, 3)            0           ['input_7[0][0]']                \n",
            "                                                                                                  \n",
            " concatenate_5 (Concatenate)    (None, 6)            0           ['flatten[0][0]',                \n",
            "                                                                  'flatten_5[0][0]']              \n",
            "                                                                                                  \n",
            " dense_12 (Dense)               (None, 8)            56          ['concatenate_5[0][0]']          \n",
            "                                                                                                  \n",
            " dense_13 (Dense)               (None, 9)            81          ['dense_12[0][0]']               \n",
            "                                                                                                  \n",
            "==================================================================================================\n",
            "Total params: 146\n",
            "Trainable params: 146\n",
            "Non-trainable params: 0\n",
            "__________________________________________________________________________________________________\n",
            "None\n"
          ]
        }
      ]
    },
    {
      "cell_type": "code",
      "source": [
        "x_s = tf.reshape(x_input_norm, (*x_input_norm.shape, 1))\n",
        "y_s = tf.reshape(y_input_norm, (*y_input_norm.shape, 1))\n",
        "\n",
        "x_s.shape, y_s.shape, x_input_norm.shape, y_input_norm.shape"
      ],
      "metadata": {
        "colab": {
          "base_uri": "https://localhost:8080/"
        },
        "id": "MjkZYlpzkcX-",
        "outputId": "a7d55480-6ff1-4f1d-fdef-8e73bb16554f"
      },
      "execution_count": 146,
      "outputs": [
        {
          "output_type": "execute_result",
          "data": {
            "text/plain": [
              "(TensorShape([1, 4, 4, 1]),\n",
              " TensorShape([1, 1]),\n",
              " TensorShape([1, 4, 4]),\n",
              " TensorShape([1]))"
            ]
          },
          "metadata": {},
          "execution_count": 146
        }
      ]
    },
    {
      "cell_type": "code",
      "source": [
        "compute_loss(model, x_input_norm, y_input_norm)"
      ],
      "metadata": {
        "colab": {
          "base_uri": "https://localhost:8080/"
        },
        "id": "Pfw9NpB4kz8t",
        "outputId": "5224ea60-94c1-4059-8121-4bfee0815f17"
      },
      "execution_count": 147,
      "outputs": [
        {
          "output_type": "execute_result",
          "data": {
            "text/plain": [
              "(<tf.Tensor: shape=(), dtype=float32, numpy=5.960945>,\n",
              " <tf.Tensor: shape=(), dtype=float32, numpy=1.1600523>)"
            ]
          },
          "metadata": {},
          "execution_count": 147
        }
      ]
    },
    {
      "cell_type": "code",
      "source": [
        "multiple_x_s = np.random.normal(0, 1, (5, 1, 4, 4))   # Input x is (4, 4)\n",
        "multiple_y_s = np.random.normal(0, 1, (5, 1))   # Input x is (4, 4)\n",
        "\n",
        "multiple_x_s_tensor = tf.convert_to_tensor(multiple_x_s)\n",
        "multiple_y_s_tensor = tf.convert_to_tensor(multiple_y_s)\n",
        "\n",
        "multiple_x_s_tensor.shape, multiple_y_s_tensor.shape"
      ],
      "metadata": {
        "colab": {
          "base_uri": "https://localhost:8080/"
        },
        "id": "gUsgGpJ4oov0",
        "outputId": "70d6d3bf-b66f-41db-9f1a-ad9907e356fb"
      },
      "execution_count": 148,
      "outputs": [
        {
          "output_type": "execute_result",
          "data": {
            "text/plain": [
              "(TensorShape([5, 1, 4, 4]), TensorShape([5, 1]))"
            ]
          },
          "metadata": {},
          "execution_count": 148
        }
      ]
    },
    {
      "cell_type": "code",
      "source": [
        "for x, y in zip(multiple_x_s_tensor, multiple_y_s_tensor):\n",
        "  compute_loss(model, x, y)"
      ],
      "metadata": {
        "id": "rj0lkEaYpCRP"
      },
      "execution_count": 149,
      "outputs": []
    },
    {
      "cell_type": "code",
      "source": [
        "batch_size = 2\n",
        "\n",
        "train_dataset = tf.data.Dataset.from_tensor_slices((multiple_x_s_tensor, multiple_y_s_tensor)).batch(batch_size)"
      ],
      "metadata": {
        "id": "PtFe0Fl0p19f"
      },
      "execution_count": 160,
      "outputs": []
    },
    {
      "cell_type": "code",
      "source": [
        "epochs = 20\n",
        "\n",
        "ramp_start = 1\n",
        "ramp_length = 20\n",
        "ramp_cycles = 1\n",
        "train_loss = np.zeros((epochs, 2))\n",
        "test_loss = np.zeros((epochs, 2))\n",
        "\n",
        "ramp = tf.convert_to_tensor(ramp_func(epochs, ramp_start, ramp_length, ramp_cycles), dtype=tf.float32)"
      ],
      "metadata": {
        "colab": {
          "base_uri": "https://localhost:8080/"
        },
        "id": "lNNRxPj-qDIX",
        "outputId": "e47ffd71-7003-4f54-c41a-7c86b919f933"
      },
      "execution_count": 174,
      "outputs": [
        {
          "output_type": "stream",
          "name": "stdout",
          "text": [
            "20 0.475\n"
          ]
        }
      ]
    },
    {
      "cell_type": "code",
      "source": [
        "for epoch in range(1, epochs + 1):\n",
        "\n",
        "  temp_train_r_loss, temp_train_kl_loss = 0.0, 0.0\n",
        "  temp_test_r_loss, temp_test_kl_loss = 0.0, 0.0\n",
        "\n",
        "  for step, (x, y) in enumerate(zip(multiple_x_s_tensor, multiple_y_s_tensor)):\n",
        "    # print(step, x.shape, y.shape)\n",
        "\n",
        "    temp_train_r_loss, temp_train_kl_loss = train_step(model, x, y, optimizer, ramp=ramp)\n",
        "    \n",
        "    train_loss[epoch - 1, 0] += temp_train_r_loss / len(multiple_x_s_tensor)\n",
        "    train_loss[epoch - 1, 1] += temp_train_kl_loss / len(multiple_x_s_tensor)\n",
        "\n",
        "  if epoch % 10 == 0:\n",
        "    print(\"epoch = %d; train loss = %.4e, %.4e.\" % \\\n",
        "          (epoch, train_loss[epoch - 1, 0], train_loss[epoch - 1, 1]))"
      ],
      "metadata": {
        "colab": {
          "base_uri": "https://localhost:8080/"
        },
        "id": "oYNd9nZDqge0",
        "outputId": "765d3d60-3ea2-46df-e5bd-b368f50adadc"
      },
      "execution_count": 175,
      "outputs": [
        {
          "output_type": "stream",
          "name": "stdout",
          "text": [
            "epoch = 10; train loss = 7.8094e-01, -2.0360e-01.\n",
            "epoch = 10; train loss = 2.4584e+00, -4.5334e-02.\n",
            "epoch = 10; train loss = 1.3426e+01, 6.1249e+00.\n",
            "epoch = 10; train loss = 1.4732e+01, 7.9569e+00.\n",
            "epoch = 10; train loss = 1.7079e+01, 1.0994e+01.\n",
            "epoch = 20; train loss = 2.3116e+00, 6.7166e-02.\n",
            "epoch = 20; train loss = 3.6338e+00, 1.4934e+00.\n",
            "epoch = 20; train loss = 3.0737e+01, 8.3484e+00.\n",
            "epoch = 20; train loss = 3.2050e+01, 1.0529e+01.\n",
            "epoch = 20; train loss = 3.5836e+01, 1.3066e+01.\n"
          ]
        }
      ]
    },
    {
      "cell_type": "code",
      "source": [
        "# train_loss"
      ],
      "metadata": {
        "id": "_4RtCHjzXc4O"
      },
      "execution_count": 177,
      "outputs": []
    },
    {
      "cell_type": "code",
      "source": [
        "plt.figure(figsize=(15, 3), dpi=125)\n",
        "\n",
        "plt.subplot(121)\n",
        "plt.plot(train_loss[:,0], label=\"Train R Loss\", marker=\"o\", ms=3)\n",
        "# plt.plot(test_loss[:,0], label=\"Test R Loss\")\n",
        "\n",
        "# plt.ylim(0, 0.1)\n",
        "\n",
        "plt.legend()\n",
        "plt.yscale('log')\n",
        "\n",
        "plt.subplot(122)\n",
        "plt.plot(train_loss[:,1], label=\"Train KL Loss\", marker=\"o\", ms=3)\n",
        "# plt.plot(test_loss[:,1], label=\"Test KL Loss\")\n",
        "\n",
        "# plt.ylim(0, 0.15)\n",
        "\n",
        "plt.legend()\n",
        "plt.yscale('log')"
      ],
      "metadata": {
        "colab": {
          "base_uri": "https://localhost:8080/",
          "height": 334
        },
        "id": "iFfEFsScXnVn",
        "outputId": "1ed09675-e327-4b29-e020-3a704ac705ab"
      },
      "execution_count": 178,
      "outputs": [
        {
          "output_type": "display_data",
          "data": {
            "text/plain": [
              "<Figure size 1875x375 with 2 Axes>"
            ],
            "image/png": "[encoded data removed]"
          },
          "metadata": {
            "needs_background": "light"
          }
        }
      ]
    },
    {
      "cell_type": "code",
      "source": [
        ""
      ],
      "metadata": {
        "id": "S7jb9ejYbG16"
      },
      "execution_count": null,
      "outputs": []
    },
    {
      "cell_type": "code",
      "source": [
        ""
      ],
      "metadata": {
        "id": "WDgg4ODvcTME"
      },
      "execution_count": null,
      "outputs": []
    },
    {
      "cell_type": "code",
      "source": [
        ""
      ],
      "metadata": {
        "id": "QgTlnQNpcff8"
      },
      "execution_count": 177,
      "outputs": []
    },
    {
      "cell_type": "code",
      "source": [
        ""
      ],
      "metadata": {
        "colab": {
          "base_uri": "https://localhost:8080/"
        },
        "id": "3Hh4RoBPcfzS",
        "outputId": "45d9c0b8-4413-4553-caa9-b63bb745bb24"
      },
      "execution_count": 178,
      "outputs": [
        {
          "output_type": "execute_result",
          "data": {
            "text/plain": [
              "(<tf.Tensor: shape=(), dtype=float32, numpy=7.0975313>,\n",
              " <tf.Tensor: shape=(), dtype=float32, numpy=0.18166876>)"
            ]
          },
          "metadata": {},
          "execution_count": 178
        }
      ]
    },
    {
      "cell_type": "code",
      "source": [
        ""
      ],
      "metadata": {
        "id": "-nUvAAaUdPx8"
      },
      "execution_count": null,
      "outputs": []
    }
  ]
}