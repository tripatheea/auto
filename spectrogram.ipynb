{
  "nbformat": 4,
  "nbformat_minor": 0,
  "metadata": {
    "colab": {
      "provenance": [],
      "collapsed_sections": [],
      "authorship_tag": "ABX9TyO0yfiOPa5ylt8Rtg7frYES",
      "include_colab_link": true
    },
    "kernelspec": {
      "name": "python3",
      "display_name": "Python 3"
    },
    "language_info": {
      "name": "python"
    },
    "gpuClass": "standard"
  },
  "cells": [
    {
      "cell_type": "markdown",
      "metadata": {
        "id": "view-in-github",
        "colab_type": "text"
      },
      "source": [
        "<a href=\"https://colab.research.google.com/github/tripatheea/auto/blob/main/spectrogram.ipynb\" target=\"_parent\"><img src=\"https://colab.research.google.com/assets/colab-badge.svg\" alt=\"Open In Colab\"/></a>"
      ]
    },
    {
      "cell_type": "code",
      "execution_count": 1,
      "metadata": {
        "colab": {
          "base_uri": "https://localhost:8080/"
        },
        "id": "Nmh3yP7kYf1-",
        "outputId": "08764a4b-8e14-4685-9862-baded5520288"
      },
      "outputs": [
        {
          "output_type": "stream",
          "name": "stdout",
          "text": [
            "Looking in indexes: https://pypi.org/simple, https://us-python.pkg.dev/colab-wheels/public/simple/\n",
            "Requirement already satisfied: tensorflow-probability in /usr/local/lib/python3.7/dist-packages (0.16.0)\n",
            "Requirement already satisfied: absl-py in /usr/local/lib/python3.7/dist-packages (from tensorflow-probability) (1.2.0)\n",
            "Requirement already satisfied: six>=1.10.0 in /usr/local/lib/python3.7/dist-packages (from tensorflow-probability) (1.15.0)\n",
            "Requirement already satisfied: gast>=0.3.2 in /usr/local/lib/python3.7/dist-packages (from tensorflow-probability) (0.5.3)\n",
            "Requirement already satisfied: numpy>=1.13.3 in /usr/local/lib/python3.7/dist-packages (from tensorflow-probability) (1.21.6)\n",
            "Requirement already satisfied: cloudpickle>=1.3 in /usr/local/lib/python3.7/dist-packages (from tensorflow-probability) (1.5.0)\n",
            "Requirement already satisfied: decorator in /usr/local/lib/python3.7/dist-packages (from tensorflow-probability) (4.4.2)\n",
            "Requirement already satisfied: dm-tree in /usr/local/lib/python3.7/dist-packages (from tensorflow-probability) (0.1.7)\n",
            "Looking in indexes: https://pypi.org/simple, https://us-python.pkg.dev/colab-wheels/public/simple/\n",
            "Requirement already satisfied: imageio in /usr/local/lib/python3.7/dist-packages (2.9.0)\n",
            "Requirement already satisfied: numpy in /usr/local/lib/python3.7/dist-packages (from imageio) (1.21.6)\n",
            "Requirement already satisfied: pillow in /usr/local/lib/python3.7/dist-packages (from imageio) (7.1.2)\n",
            "Looking in indexes: https://pypi.org/simple, https://us-python.pkg.dev/colab-wheels/public/simple/\n",
            "Collecting git+https://github.com/tensorflow/docs\n",
            "  Cloning https://github.com/tensorflow/docs to /tmp/pip-req-build-8zw8v3zt\n",
            "  Running command git clone -q https://github.com/tensorflow/docs /tmp/pip-req-build-8zw8v3zt\n",
            "Requirement already satisfied: astor in /usr/local/lib/python3.7/dist-packages (from tensorflow-docs==0.0.0.dev0) (0.8.1)\n",
            "Requirement already satisfied: absl-py in /usr/local/lib/python3.7/dist-packages (from tensorflow-docs==0.0.0.dev0) (1.2.0)\n",
            "Requirement already satisfied: jinja2 in /usr/local/lib/python3.7/dist-packages (from tensorflow-docs==0.0.0.dev0) (2.11.3)\n",
            "Requirement already satisfied: nbformat in /usr/local/lib/python3.7/dist-packages (from tensorflow-docs==0.0.0.dev0) (5.4.0)\n",
            "Requirement already satisfied: protobuf<3.20,>=3.12.0 in /usr/local/lib/python3.7/dist-packages (from tensorflow-docs==0.0.0.dev0) (3.17.3)\n",
            "Requirement already satisfied: pyyaml in /usr/local/lib/python3.7/dist-packages (from tensorflow-docs==0.0.0.dev0) (6.0)\n",
            "Requirement already satisfied: six>=1.9 in /usr/local/lib/python3.7/dist-packages (from protobuf<3.20,>=3.12.0->tensorflow-docs==0.0.0.dev0) (1.15.0)\n",
            "Requirement already satisfied: MarkupSafe>=0.23 in /usr/local/lib/python3.7/dist-packages (from jinja2->tensorflow-docs==0.0.0.dev0) (2.0.1)\n",
            "Requirement already satisfied: jupyter-core in /usr/local/lib/python3.7/dist-packages (from nbformat->tensorflow-docs==0.0.0.dev0) (4.11.1)\n",
            "Requirement already satisfied: traitlets>=5.1 in /usr/local/lib/python3.7/dist-packages (from nbformat->tensorflow-docs==0.0.0.dev0) (5.1.1)\n",
            "Requirement already satisfied: fastjsonschema in /usr/local/lib/python3.7/dist-packages (from nbformat->tensorflow-docs==0.0.0.dev0) (2.16.1)\n",
            "Requirement already satisfied: jsonschema>=2.6 in /usr/local/lib/python3.7/dist-packages (from nbformat->tensorflow-docs==0.0.0.dev0) (4.3.3)\n",
            "Requirement already satisfied: attrs>=17.4.0 in /usr/local/lib/python3.7/dist-packages (from jsonschema>=2.6->nbformat->tensorflow-docs==0.0.0.dev0) (22.1.0)\n",
            "Requirement already satisfied: importlib-resources>=1.4.0 in /usr/local/lib/python3.7/dist-packages (from jsonschema>=2.6->nbformat->tensorflow-docs==0.0.0.dev0) (5.9.0)\n",
            "Requirement already satisfied: importlib-metadata in /usr/local/lib/python3.7/dist-packages (from jsonschema>=2.6->nbformat->tensorflow-docs==0.0.0.dev0) (4.12.0)\n",
            "Requirement already satisfied: pyrsistent!=0.17.0,!=0.17.1,!=0.17.2,>=0.14.0 in /usr/local/lib/python3.7/dist-packages (from jsonschema>=2.6->nbformat->tensorflow-docs==0.0.0.dev0) (0.18.1)\n",
            "Requirement already satisfied: typing-extensions in /usr/local/lib/python3.7/dist-packages (from jsonschema>=2.6->nbformat->tensorflow-docs==0.0.0.dev0) (4.1.1)\n",
            "Requirement already satisfied: zipp>=3.1.0 in /usr/local/lib/python3.7/dist-packages (from importlib-resources>=1.4.0->jsonschema>=2.6->nbformat->tensorflow-docs==0.0.0.dev0) (3.8.1)\n"
          ]
        }
      ],
      "source": [
        "! pip install tensorflow-probability\n",
        "\n",
        "# to generate gifs\n",
        "! pip install imageio\n",
        "! pip install git+https://github.com/tensorflow/docs"
      ]
    },
    {
      "cell_type": "code",
      "source": [
        "from IPython import display\n",
        "\n",
        "import glob\n",
        "import imageio\n",
        "import matplotlib.pyplot as plt\n",
        "import numpy as np\n",
        "import PIL\n",
        "import tensorflow as tf\n",
        "import tensorflow_probability as tfp\n",
        "import time\n",
        "\n",
        "from tensorflow.python.framework.ops import disable_eager_execution"
      ],
      "metadata": {
        "id": "HFHTd4YUZ-Vk"
      },
      "execution_count": 2,
      "outputs": []
    },
    {
      "cell_type": "code",
      "source": [
        "# import keras\n",
        "# from keras import Model\n",
        "# from keras.layers import Input, Conv2D, MaxPooling2D, UpSampling2D, Concatenate, Reshape, Dense, Lambda, Flatten\n",
        "# from keras import backend as K\n",
        "\n",
        "import warnings\n",
        "warnings.filterwarnings('ignore')\n",
        "import numpy as np\n",
        "import glob\n",
        "import skimage\n",
        "import skimage.transform\n",
        "import skimage.io\n",
        "import PIL\n",
        "import numpy as np\n",
        "import os\n",
        "from IPython.display import clear_output\n",
        "import pandas as pd\n",
        "import matplotlib.pyplot as plt\n",
        "%matplotlib inline\n",
        "from ipywidgets import interact, interactive, fixed, interact_manual\n",
        "import ipywidgets as widgets\n",
        "import imageio\n",
        "# import utils"
      ],
      "metadata": {
        "id": "IIyz7CJIdSOl"
      },
      "execution_count": 3,
      "outputs": []
    },
    {
      "cell_type": "code",
      "source": [
        "disable_eager_execution()"
      ],
      "metadata": {
        "id": "JGJ7cCy2twoC"
      },
      "execution_count": 4,
      "outputs": []
    },
    {
      "cell_type": "code",
      "source": [
        "WIDTH = 48"
      ],
      "metadata": {
        "id": "jYcZanU1i7-z"
      },
      "execution_count": 5,
      "outputs": []
    },
    {
      "cell_type": "code",
      "source": [
        "import numpy as np\n",
        "import matplotlib.pyplot as plt\n",
        "\n",
        "def\tMakeSpectrogram(f_sig = 100., bandwidth = 0.25, Tobs_hr = 24., Tcoh_hr = .25, \n",
        "\t\thnoise = 100., hamp = .4, fsamp = 512., fdot_sig = -1e-6, \n",
        "\t\tplot_num = 0, plot = False, write_to_file = False):\n",
        "\t\n",
        "\t##### Defining Variables #####\n",
        "\t# f_sig     --- signal central frequency, hz\n",
        "\t# bandwidth --- bandwidth of search, width of each freq, hz\n",
        "\t# Tobs_hr   --- Length of observation, hrs\n",
        "\t# Tcoh_hr   --- Coherence time, hrs\n",
        "\t# hnoise    --- noise amplitude\n",
        "\t# hamp      --- signal amplitude\n",
        "\t# fsamp     --- sampling frequency, hz\n",
        "\t# fdot_sig  --- Signal frequency derivative \n",
        "\t# plot_num  --- if multiple files is an index\n",
        "\t# whereto   --- Where to save plot\n",
        "\t\n",
        "\t##### Booleans ####\n",
        "\t# plot      \t--- whether or not to plot\n",
        "\t# write_to_file --- whether to save data to .txt file\n",
        "\n",
        "\t#### Returns ####\n",
        "\t# frequency \n",
        "\t# time\n",
        "\t# spectrogram\n",
        "\n",
        "\t# Define constants\n",
        "\tSECS_PER_HOUR = 3600\n",
        "\t\n",
        "\t# Find amplitude spectral density for noise\n",
        "\tnoiseamp = hnoise*np.sqrt(4./fsamp) \n",
        "\t\n",
        "\t\n",
        "\t# Convert observation and coherence time to seconds\n",
        "\tTobs = Tobs_hr * SECS_PER_HOUR\n",
        "\tTcoh = Tcoh_hr * SECS_PER_HOUR\n",
        "\n",
        "\t# Find low and high frequency\n",
        "\tfreqlo_approx = f_sig - 0.5 * bandwidth\n",
        "\tfreqlo = np.floor(freqlo_approx * Tcoh) / Tcoh\n",
        "\tfreqhi = freqlo + bandwidth\n",
        "\n",
        "\t# Define time series to hold raw data stream of signal + noise\n",
        "\tdeltat = 1. / fsamp\n",
        "\tt = np.arange(0,Tobs,deltat)\n",
        "\tNsample = len(t)\n",
        "\tprint ('Nsample = %i'%len(t))\n",
        "\t\n",
        "\t# Generate signal in the time domain\n",
        "\tnoise = noiseamp * np.random.normal(0, scale = 1, size = (Nsample,))\n",
        "\tsignal = hamp * np.sin(2 * np.pi * (f_sig * t + .5 * fdot_sig * t**2))\n",
        "\n",
        "\tdata = signal + noise\n",
        "\n",
        "\t# Generate spectra for each coherence time & extract band of interest to make spectrogram\n",
        "\tindbandlo = int(np.floor(freqlo * Tcoh))\n",
        "\tindbandhi = int(np.floor(freqhi * Tcoh))\n",
        "\tnbandbin  = indbandhi - indbandlo\n",
        "\tNseg = int(np.floor(Tobs / Tcoh))\n",
        "\tNsample_coh = int(np.floor(Nsample / Nseg))\n",
        "\tspectrogram = np.zeros((nbandbin,Nseg),)\t\n",
        "\tprint( np.shape(spectrogram) )\n",
        "\t\n",
        "\tfor seg in range(Nseg):\n",
        "\t\t# print('Generating segment %d\\n'%(seg))\n",
        "\t\tindlo = seg * Nsample_coh\n",
        "\t\tindhi = indlo + Nsample_coh \n",
        "\t\tsegment = data[indlo:indhi]\n",
        "\t\t\n",
        "\t\trawfft = np.fft.fft(segment,Nsample_coh, axis = 0)\n",
        "\t\tspectrogram[:,seg] = 2 * abs(rawfft[indbandlo:indbandhi])\n",
        "\t\t\n",
        "\tsegarray = np.arange(0,Nseg)\n",
        "\tseghour = (segarray) * Tcoh / SECS_PER_HOUR\n",
        "\tindarray = np.arange(indbandlo,indbandhi + 1)\n",
        "\tfreqplot = (indarray - indbandlo)*1.0/Tcoh + freqlo\t\n",
        "\t\n",
        "\tif plot:\n",
        "\t\tplt.clf()\n",
        "\t\tprint('Plotting spectrogram')\n",
        "\t\tplt.pcolormesh(seghour, freqplot, spectrogram)\n",
        "\t\tplt.ylabel('Frequency [Hz]')\n",
        "\t\tplt.xlabel('Time [Hours]')\n",
        "  \n",
        "  \n",
        "\treturn(seghour, freqplot, spectrogram)\n",
        "\n"
      ],
      "metadata": {
        "id": "4LyaAsj1aG-o"
      },
      "execution_count": 6,
      "outputs": []
    },
    {
      "cell_type": "code",
      "source": [
        "def define_encoder_block(x, num_filters):  \n",
        "    \"\"\"\n",
        "    Todo: Define two sequential 2D convolutional layers (Conv2D) with the following properties:\n",
        "          - num_filters many filters\n",
        "          - kernel_size 3\n",
        "          - activation \"relu\"\n",
        "          - padding \"same\"\n",
        "          - kernel_initializer \"he_normal\"\n",
        "          Also define a 2D max pooling layer (MaxPooling2D) (you can keep default arguments).\n",
        "    \"\"\"\n",
        "    x = tf.keras.layers.Conv2D(num_filters, 3, activation='relu', padding='same', kernel_initializer='he_normal')(x)\n",
        "    x = tf.keras.layers.Conv2D(num_filters, 3, activation='relu', padding='same', kernel_initializer='he_normal')(x)\n",
        "    x = tf.keras.layers.MaxPooling2D()(x)\n",
        "    return x"
      ],
      "metadata": {
        "id": "GK7P4_BZaKmi"
      },
      "execution_count": 7,
      "outputs": []
    },
    {
      "cell_type": "code",
      "source": [
        "def define_decoder_block(x, num_filters):\n",
        "    \"\"\"\n",
        "    Todo: Define one 2D upsampling layer (UpSampling2D) (you can keep default arguments).\n",
        "          Also, define two sequential 2D convolutional layers (Conv2D) with the following properties:\n",
        "          - num_filters many filters\n",
        "          - kernel_size 3\n",
        "          - activation \"relu\"\n",
        "          - padding \"same\"\n",
        "          - kernel_initializer \"he_normal\"\n",
        "    \"\"\"\n",
        "    x = tf.keras.layers.UpSampling2D()(x)\n",
        "    x = tf.keras.layers.Conv2D(num_filters, 3, activation='relu', padding = 'same', kernel_initializer = 'he_normal')(x)\n",
        "    x = tf.keras.layers.Conv2D(num_filters, 3, activation='relu', padding = 'same', kernel_initializer = 'he_normal')(x)\n",
        "    return x"
      ],
      "metadata": {
        "id": "m-Q7ExLmd2M0"
      },
      "execution_count": 8,
      "outputs": []
    },
    {
      "cell_type": "code",
      "source": [
        "def define_net(variational, height, width, batch_size, latent_dim, conditioning_dim=0,\n",
        "               start_filters=8):\n",
        "    \"\"\"Defines a (variational) encoder-decoder architecture.\n",
        "    , in train_function  *\n",
        "        return step_function(self, iterator)\n",
        "    Args:\n",
        "        variational: Whether a variational autoencoder should be defined.\n",
        "        height: The height of the image input and output.\n",
        "        width: The width of the image input and output.\n",
        "        batch_size: The batchsize that is used during training. Must also be used for inference on the encoder side.\n",
        "        latent_dim: The dimension of the latent space.\n",
        "        conditioning_dim: The dimension of the space of variables to condition on. Can be zero for an unconditional VAE.\n",
        "        start_filters: The number of filters to start from. Multiples of this value are used across the network. Can be used\n",
        "            to change model capacity.\n",
        "        \n",
        "    Returns:\n",
        "        Tuple of keras models for full VAE, encoder part and decoder part only.\n",
        "    \"\"\"\n",
        "    \n",
        "    # Prepare the inputs.\n",
        "    inputs = tf.keras.layers.Input((height, width, 1))\n",
        "    # inputs = Input((height, width))\n",
        "    if conditioning_dim > 0:\n",
        "        # Define conditional VAE. Note that this is usually not the preferred way\n",
        "        # of incorporating the conditioning information in the encoder.\n",
        "        condition = tf.keras.layers.Input([conditioning_dim])\n",
        "        condition_up = tf.keras.layers.Dense(height * width)(condition)\n",
        "        condition_up = tf.keras.layers.Reshape([height, width, 1])(condition_up)\n",
        "        inputs_new = tf.keras.layers.Concatenate(axis=3)([inputs, condition_up])\n",
        "    else:\n",
        "        inputs_new = inputs\n",
        "    \n",
        "    # Define the encoder.\n",
        "    eblock1 = define_encoder_block(inputs_new, start_filters)\n",
        "    eblock2 = define_encoder_block(eblock1, start_filters*2)\n",
        "    eblock3 = define_encoder_block(eblock2, start_filters*4)\n",
        "    eblock4 = define_encoder_block(eblock3, start_filters*8)\n",
        "    _, *shape_spatial = eblock4.get_shape().as_list()\n",
        "    eblock4_flat = tf.keras.layers.Flatten()(eblock4)\n",
        "    \n",
        "    if not variational:\n",
        "        z = tf.keras.layers.Dense(latent_dim)(eblock4_flat)\n",
        "    else:\n",
        "        # Perform the sampling.\n",
        "        def sampling(args):\n",
        "            \"\"\"Samples latent variable from a normal distribution using the given parameters.\"\"\"\n",
        "            z_mean, z_log_sigma = args\n",
        "            return z_mean\n",
        "            # epsilon = tf.random.normal(shape=(batch_size, latent_dim), mean=0., stddev=1.)\n",
        "            # return z_mean + tf.math.exp(z_log_sigma) * epsilon\n",
        "        \n",
        "        z_mean = tf.keras.layers.Dense(latent_dim)(eblock4_flat)\n",
        "        z_log_sigma = tf.keras.layers.Dense(latent_dim)(eblock4_flat)\n",
        "        z = tf.keras.layers.Lambda(sampling, output_shape=(latent_dim,))([z_mean, z_log_sigma])\n",
        "    \n",
        "    if conditioning_dim > 0:\n",
        "        z_ext = tf.keras.layers.Concatenate()([z, condition])\n",
        "\n",
        "    print(shape_spatial)\n",
        "    # Define the decoder.\n",
        "    inputs_embedding = tf.keras.layers.Input([latent_dim + conditioning_dim])                       # 2\n",
        "    embedding = tf.keras.layers.Dense(np.prod(shape_spatial), activation='relu')(inputs_embedding)  # \n",
        "    embedding = tf.keras.layers.Reshape(eblock4.shape.as_list()[1:])(embedding)                     # (None, 1, , 64)\n",
        "    \n",
        "    print(\"embeding\", embedding.shape)          \n",
        "    dblock1 = define_decoder_block(embedding, start_filters*2)      # (None, 2, 2, 24)\n",
        "    print(\"dblock1\", dblock1.shape)\n",
        "    dblock2 = define_decoder_block(dblock1, start_filters*4)        # (None, 4, 4, 32)\n",
        "    print(\"dblock2\", dblock2.shape)\n",
        "    dblock3 = define_decoder_block(dblock2, start_filters*8)        # (None, 8, 8, 24)\n",
        "    print(\"dblock3\", dblock3.shape)\n",
        "    dblock4 = define_decoder_block(dblock3, start_filters)          # (None, 16, 16, 8)\n",
        "    print(\"dblock4\", dblock4.shape)\n",
        "    output = tf.keras.layers.Conv2D(1, 1, activation = 'tanh')(dblock4)             # (8, 32, 48, 3)\n",
        "    # output = Conv2D(1, 1, activation = 'tanh')(dblock4)\n",
        "\n",
        "    # 1, 1, 64; 2, 2, 24; 4, 4, 32; 8, 8, 24; 16, 16, 8\n",
        "    \n",
        "    print(\"hey\")\n",
        "    # Define the models.\n",
        "    decoder = tf.keras.Model(inputs = inputs_embedding, outputs = output)\n",
        "    if conditioning_dim > 0:\n",
        "        encoder_with_sampling = tf.keras.Model(inputs = [inputs, condition], outputs = z)\n",
        "        encoder_with_sampling_ext = tf.keras.Model(inputs = [inputs, condition], outputs = z_ext)\n",
        "        vae_out = decoder(encoder_with_sampling_ext([inputs, condition]))\n",
        "        vae = tf.keras.Model(inputs = [inputs, condition], outputs = vae_out)\n",
        "    else:\n",
        "        encoder_with_sampling = tf.keras.Model(inputs = inputs, outputs = z)\n",
        "        vae_out = decoder(encoder_with_sampling(inputs))\n",
        "        vae = tf.keras.Model(inputs = inputs, outputs = vae_out)\n",
        "    print(vae.summary())\n",
        "    # Define the VAE loss.\n",
        "    def vae_loss(x, x_decoded_mean):\n",
        "        \"\"\"Defines the VAE loss functions as a combination of MSE and KL-divergence loss.\"\"\"\n",
        "\n",
        "        # print(x.shape, x_decoded_mean.shape)\n",
        "        mse_loss = tf.math.reduce_mean(tf.keras.losses.mse(x, x_decoded_mean), axis=(1, 2)) * height * width\n",
        "        kl_loss = - 0.5 * tf.math.reduce_mean(1 + z_log_sigma - tf.math.square(z_mean) - tf.math.exp(z_log_sigma), axis=-1)\n",
        "        # kl_loss = - 0.5 * tf.math.reduce_mean(z_log_sigma, axis=-1)\n",
        "\n",
        "        # print(kl_loss)\n",
        "        # return mse_loss + kl_loss\n",
        "        # return -1.56\n",
        "        # return np.random.random()\n",
        "        return mse_loss + kl_loss\n",
        "    \n",
        "    if variational:\n",
        "        vae.compile(loss=vae_loss, optimizer='adam', experimental_run_tf_function=False)\n",
        "    else:\n",
        "        vae.compile(loss='mse', optimizer='adam', experimental_run_tf_function=False)    \n",
        "        \n",
        "    print('done,', vae.count_params(), 'parameters.')\n",
        "    return vae, encoder_with_sampling, decoder"
      ],
      "metadata": {
        "id": "cR4ZsaTneKdB"
      },
      "execution_count": 9,
      "outputs": []
    },
    {
      "cell_type": "code",
      "source": [
        "def encode_image(img, conditioning, encoder, height, width, batch_size):\n",
        "    '''Encodes an image that is given in RGB-channel order with value range of [0, 255].\n",
        "    \n",
        "    Args:\n",
        "        img: The image input. If shapes differ from (height, width), it will be resized.\n",
        "        conditoning: The set of values to condition on, if any. Can be None.\n",
        "        encoder: The keras encoder model to use.\n",
        "        height: The target image height.\n",
        "        width: The target image width.\n",
        "        batch_size: The batchsize that the encoder expects.\n",
        "        \n",
        "    Returns:\n",
        "        The latent representation of the input image.\n",
        "    '''\n",
        "    if img.shape[0] != height or img.shape[1] != width:\n",
        "        img = skimage.transform.resize(img, (height, width))\n",
        "    img_single = np.expand_dims(img, axis=0)\n",
        "    img_single = img_single.astype(np.float32)\n",
        "    img_single = np.repeat(img_single, batch_size, axis=0)\n",
        "    if conditioning is None:\n",
        "        z = encoder.predict(img_single)\n",
        "    else:\n",
        "        z = encoder.predict([img_single, np.repeat(np.expand_dims(conditioning, axis=0), batch_size, axis=0)])\n",
        "    return z"
      ],
      "metadata": {
        "id": "Ow-VqpFYeM4A"
      },
      "execution_count": 10,
      "outputs": []
    },
    {
      "cell_type": "code",
      "source": [
        "def decode_embedding(z, conditioning, decoder):\n",
        "    '''Decodes the given representation into an image.\n",
        "    \n",
        "    Args:\n",
        "        z: The latent representation.\n",
        "        conditioning: The set of values to condition on, if any. Can be None.\n",
        "        decoder: The keras decoder model to use.\n",
        "    '''\n",
        "    if z.ndim < 2:\n",
        "        z = np.expand_dims(z, axis=0) # Single-batch\n",
        "    if conditioning is not None:\n",
        "        z = np.concatenate((z, np.repeat(np.expand_dims(conditioning, axis=0), z.shape[0], axis=0)), axis=1)\n",
        "    return decoder.predict(z)"
      ],
      "metadata": {
        "id": "dJAKMfjceO9V"
      },
      "execution_count": 11,
      "outputs": []
    },
    {
      "cell_type": "code",
      "source": [
        "def load_weights(folder):\n",
        "    vae.load_weights(folder + '/vae.w')\n",
        "    encoder.load_weights(folder + '/encoder.w')\n",
        "    decoder.load_weights(folder + '/decoder.w')\n",
        "    \n",
        "def save_weights(folder):\n",
        "    if not os.path.isdir(folder):\n",
        "        os.mkdir(folder)\n",
        "    vae.save_weights(folder + '/vae.w')\n",
        "    encoder.save_weights(folder + '/encoder.w')\n",
        "    decoder.save_weights(folder + '/decoder.w')"
      ],
      "metadata": {
        "id": "HmD9gkPfeQgc"
      },
      "execution_count": 12,
      "outputs": []
    },
    {
      "cell_type": "code",
      "source": [
        "def fix_dims_and_normalize(s):\n",
        "  \n",
        "  s = np.pad(s, ((0, WIDTH - s.shape[0]), (0, WIDTH - s.shape[1])))\n",
        "\n",
        "  return s / np.max(s)"
      ],
      "metadata": {
        "id": "wO6e5DysiGhv"
      },
      "execution_count": 13,
      "outputs": []
    },
    {
      "cell_type": "code",
      "source": [
        "t, f, spec = MakeSpectrogram(f_sig = 100., bandwidth = 0.05, Tobs_hr = 12., Tcoh_hr = .25, \n",
        "              hnoise = 1., hamp = 5.0, fsamp = 128., fdot_sig = -1e-6, \n",
        "              plot_num = 0, plot = True, write_to_file = False)"
      ],
      "metadata": {
        "colab": {
          "base_uri": "https://localhost:8080/",
          "height": 342
        },
        "id": "zJLMl0i_eRz8",
        "outputId": "1f30fedb-1b53-4856-e851-560b4cc506b3"
      },
      "execution_count": 14,
      "outputs": [
        {
          "output_type": "stream",
          "name": "stdout",
          "text": [
            "Nsample = 5529600\n",
            "(45, 48)\n",
            "Plotting spectrogram\n"
          ]
        },
        {
          "output_type": "display_data",
          "data": {
            "text/plain": [
              "<Figure size 432x288 with 1 Axes>"
            ],
            "image/png": "[encoded data removed]"
          },
          "metadata": {
            "needs_background": "light"
          }
        }
      ]
    },
    {
      "cell_type": "code",
      "source": [
        "# spec"
      ],
      "metadata": {
        "id": "wxusI6d0KNhQ"
      },
      "execution_count": 15,
      "outputs": []
    },
    {
      "cell_type": "code",
      "source": [
        "all_specs = []\n",
        "N = 10\n",
        "for i in range(N):\n",
        "  # t, f, spec = MakeSpectrogram(f_sig = np.random.random() * 100., bandwidth = 0.05, Tobs_hr = 12., Tcoh_hr = .25, \n",
        "  #             hnoise = 100. + (1 - 2 * np.random.random() * 10.), hamp = .4, fsamp = 128., fdot_sig = -1e-6, \n",
        "  #             plot_num = 0, plot = True, write_to_file = False)\n",
        "  t, f, spec = MakeSpectrogram(f_sig = np.random.random() * 100., bandwidth = 0.05, Tobs_hr = 12., Tcoh_hr = .25, \n",
        "            hnoise = (1 - 2 * np.random.random() * 10.), hamp = 5.0, fsamp = 128., fdot_sig = -1e-6, \n",
        "            plot_num = 0, plot = True, write_to_file = False)\n",
        "  \n",
        "  r = fix_dims_and_normalize(np.copy(spec))\n",
        "\n",
        "  print(r.shape)\n",
        "  all_specs.append(r)\n",
        "\n",
        "all_specs = np.asanyarray(all_specs)\n",
        "\n",
        "size = len(all_specs)\n",
        "\n",
        "print(all_specs.shape)"
      ],
      "metadata": {
        "colab": {
          "base_uri": "https://localhost:8080/",
          "height": 991
        },
        "id": "XsTSEcWSemr8",
        "outputId": "d5def396-eb4f-459c-9049-a47cd6dec28a"
      },
      "execution_count": 16,
      "outputs": [
        {
          "output_type": "stream",
          "name": "stdout",
          "text": [
            "Nsample = 5529600\n",
            "(45, 48)\n",
            "Plotting spectrogram\n",
            "(48, 48)\n",
            "Nsample = 5529600\n",
            "(44, 48)\n",
            "Plotting spectrogram\n",
            "(48, 48)\n",
            "Nsample = 5529600\n",
            "(45, 48)\n",
            "Plotting spectrogram\n",
            "(48, 48)\n",
            "Nsample = 5529600\n",
            "(45, 48)\n",
            "Plotting spectrogram\n",
            "(48, 48)\n",
            "Nsample = 5529600\n",
            "(45, 48)\n",
            "Plotting spectrogram\n",
            "(48, 48)\n",
            "Nsample = 5529600\n",
            "(45, 48)\n",
            "Plotting spectrogram\n",
            "(48, 48)\n",
            "Nsample = 5529600\n",
            "(44, 48)\n",
            "Plotting spectrogram\n",
            "(48, 48)\n",
            "Nsample = 5529600\n",
            "(45, 48)\n",
            "Plotting spectrogram\n",
            "(48, 48)\n",
            "Nsample = 5529600\n",
            "(45, 48)\n",
            "Plotting spectrogram\n",
            "(48, 48)\n",
            "Nsample = 5529600\n",
            "(45, 48)\n",
            "Plotting spectrogram\n",
            "(48, 48)\n",
            "(10, 48, 48)\n"
          ]
        },
        {
          "output_type": "display_data",
          "data": {
            "text/plain": [
              "<Figure size 432x288 with 1 Axes>"
            ],
            "image/png": "[encoded data removed]"
          },
          "metadata": {
            "needs_background": "light"
          }
        }
      ]
    },
    {
      "cell_type": "code",
      "source": [
        "x_train = all_specs[np.random.choice(list(range(all_specs.shape[0])), size=int(0.8 * size), replace=False)]\n",
        "x_test = all_specs[np.random.choice(list(range(all_specs.shape[0])), size=int(0.2 * size), replace=False)]\n",
        "\n",
        "x_train = np.expand_dims(x_train, -1)\n",
        "x_test = np.expand_dims(x_test, -1)"
      ],
      "metadata": {
        "id": "qusGwnLFfAN9"
      },
      "execution_count": 17,
      "outputs": []
    },
    {
      "cell_type": "code",
      "source": [
        "x_train.shape, x_test.shape"
      ],
      "metadata": {
        "colab": {
          "base_uri": "https://localhost:8080/"
        },
        "id": "Y-tz3f3lfBYi",
        "outputId": "d58c936e-d7a0-4866-de78-b8769a4f3a44"
      },
      "execution_count": 18,
      "outputs": [
        {
          "output_type": "execute_result",
          "data": {
            "text/plain": [
              "((8, 48, 48, 1), (2, 48, 48, 1))"
            ]
          },
          "metadata": {},
          "execution_count": 18
        }
      ]
    },
    {
      "cell_type": "code",
      "source": [
        "plt.imshow(x_train[0,:,:,0])\n",
        "\n",
        "x_train[0,:,:,0].shape"
      ],
      "metadata": {
        "colab": {
          "base_uri": "https://localhost:8080/",
          "height": 284
        },
        "id": "gwcio4sLLuHW",
        "outputId": "c61fcf92-4c5e-427f-ca2d-f93fe4837267"
      },
      "execution_count": 19,
      "outputs": [
        {
          "output_type": "execute_result",
          "data": {
            "text/plain": [
              "(48, 48)"
            ]
          },
          "metadata": {},
          "execution_count": 19
        },
        {
          "output_type": "display_data",
          "data": {
            "text/plain": [
              "<Figure size 432x288 with 1 Axes>"
            ],
            "image/png": "[encoded data removed]"
          },
          "metadata": {
            "needs_background": "light"
          }
        }
      ]
    },
    {
      "cell_type": "code",
      "source": [
        "vae, encoder, decoder = define_net(True, 48, 48, batch_size=4, latent_dim=8, start_filters=8)"
      ],
      "metadata": {
        "colab": {
          "base_uri": "https://localhost:8080/"
        },
        "id": "6lDTXfd8fFjk",
        "outputId": "0b2111cd-7fba-4b85-a47c-26cc49bfbea8"
      },
      "execution_count": 20,
      "outputs": [
        {
          "output_type": "stream",
          "name": "stdout",
          "text": [
            "[3, 3, 64]\n",
            "embeding (None, 3, 3, 64)\n",
            "dblock1 (None, 6, 6, 16)\n",
            "dblock2 (None, 12, 12, 32)\n",
            "dblock3 (None, 24, 24, 64)\n",
            "dblock4 (None, 48, 48, 8)\n",
            "hey\n",
            "Model: \"model_2\"\n",
            "_________________________________________________________________\n",
            " Layer (type)                Output Shape              Param #   \n",
            "=================================================================\n",
            " input_1 (InputLayer)        [(None, 48, 48, 1)]       0         \n",
            "                                                                 \n",
            " model_1 (Functional)        (None, 8)                 82696     \n",
            "                                                                 \n",
            " model (Functional)          (None, 48, 48, 1)         91257     \n",
            "                                                                 \n",
            "=================================================================\n",
            "Total params: 173,953\n",
            "Trainable params: 173,953\n",
            "Non-trainable params: 0\n",
            "_________________________________________________________________\n",
            "None\n",
            "done, 173953 parameters.\n"
          ]
        }
      ]
    },
    {
      "cell_type": "code",
      "source": [
        "vae.fit(x_train, x_train, batch_size=4, verbose=1, epochs=50)"
      ],
      "metadata": {
        "colab": {
          "base_uri": "https://localhost:8080/"
        },
        "id": "bme0fEH0gxCo",
        "outputId": "f44f884d-fa36-4b2e-f382-6fc1c7586747"
      },
      "execution_count": 21,
      "outputs": [
        {
          "output_type": "stream",
          "name": "stdout",
          "text": [
            "Train on 8 samples\n",
            "Epoch 1/50\n",
            "8/8 [==============================] - 1s 103ms/sample - loss: 31.8870\n",
            "Epoch 2/50\n",
            "8/8 [==============================] - 0s 27ms/sample - loss: 26.7818\n",
            "Epoch 3/50\n",
            "8/8 [==============================] - 0s 29ms/sample - loss: 26.4041\n",
            "Epoch 4/50\n",
            "8/8 [==============================] - 0s 28ms/sample - loss: 22.6112\n",
            "Epoch 5/50\n",
            "8/8 [==============================] - 0s 27ms/sample - loss: 20.1722\n",
            "Epoch 6/50\n",
            "8/8 [==============================] - 0s 30ms/sample - loss: 16.9171\n",
            "Epoch 7/50\n",
            "8/8 [==============================] - 0s 26ms/sample - loss: 15.3271\n",
            "Epoch 8/50\n",
            "8/8 [==============================] - 0s 28ms/sample - loss: 13.6273\n",
            "Epoch 9/50\n",
            "8/8 [==============================] - 0s 27ms/sample - loss: 12.7485\n",
            "Epoch 10/50\n",
            "8/8 [==============================] - 0s 29ms/sample - loss: 11.5220\n",
            "Epoch 11/50\n",
            "8/8 [==============================] - 0s 27ms/sample - loss: 12.0903\n",
            "Epoch 12/50\n",
            "8/8 [==============================] - 0s 28ms/sample - loss: 11.2715\n",
            "Epoch 13/50\n",
            "8/8 [==============================] - 0s 28ms/sample - loss: 11.0137\n",
            "Epoch 14/50\n",
            "8/8 [==============================] - 0s 29ms/sample - loss: 10.2519\n",
            "Epoch 15/50\n",
            "8/8 [==============================] - 0s 29ms/sample - loss: 9.9543\n",
            "Epoch 16/50\n",
            "8/8 [==============================] - 0s 30ms/sample - loss: 9.4328\n",
            "Epoch 17/50\n",
            "8/8 [==============================] - 0s 30ms/sample - loss: 9.4301\n",
            "Epoch 18/50\n",
            "8/8 [==============================] - 0s 30ms/sample - loss: 9.2124\n",
            "Epoch 19/50\n",
            "8/8 [==============================] - 0s 29ms/sample - loss: 8.8071\n",
            "Epoch 20/50\n",
            "8/8 [==============================] - 0s 27ms/sample - loss: 8.6359\n",
            "Epoch 21/50\n",
            "8/8 [==============================] - 0s 28ms/sample - loss: 8.3146\n",
            "Epoch 22/50\n",
            "8/8 [==============================] - 0s 28ms/sample - loss: 8.1596\n",
            "Epoch 23/50\n",
            "8/8 [==============================] - 0s 29ms/sample - loss: 7.7044\n",
            "Epoch 24/50\n",
            "8/8 [==============================] - 0s 28ms/sample - loss: 7.5475\n",
            "Epoch 25/50\n",
            "8/8 [==============================] - 0s 28ms/sample - loss: 7.2175\n",
            "Epoch 26/50\n",
            "8/8 [==============================] - 0s 28ms/sample - loss: 7.0937\n",
            "Epoch 27/50\n",
            "8/8 [==============================] - 0s 30ms/sample - loss: 7.0166\n",
            "Epoch 28/50\n",
            "8/8 [==============================] - 0s 31ms/sample - loss: 6.6213\n",
            "Epoch 29/50\n",
            "8/8 [==============================] - 0s 27ms/sample - loss: 6.5309\n",
            "Epoch 30/50\n",
            "8/8 [==============================] - 0s 28ms/sample - loss: 6.6453\n",
            "Epoch 31/50\n",
            "8/8 [==============================] - 0s 28ms/sample - loss: 5.9678\n",
            "Epoch 32/50\n",
            "8/8 [==============================] - 0s 30ms/sample - loss: 5.9112\n",
            "Epoch 33/50\n",
            "8/8 [==============================] - 0s 28ms/sample - loss: 5.7510\n",
            "Epoch 34/50\n",
            "8/8 [==============================] - 0s 28ms/sample - loss: 5.6477\n",
            "Epoch 35/50\n",
            "8/8 [==============================] - 0s 28ms/sample - loss: 5.8442\n",
            "Epoch 36/50\n",
            "8/8 [==============================] - 0s 28ms/sample - loss: 5.3697\n",
            "Epoch 37/50\n",
            "8/8 [==============================] - 0s 28ms/sample - loss: 5.3779\n",
            "Epoch 38/50\n",
            "8/8 [==============================] - 0s 26ms/sample - loss: 4.9613\n",
            "Epoch 39/50\n",
            "8/8 [==============================] - 0s 27ms/sample - loss: 4.7068\n",
            "Epoch 40/50\n",
            "8/8 [==============================] - 0s 29ms/sample - loss: 4.5297\n",
            "Epoch 41/50\n",
            "8/8 [==============================] - 0s 29ms/sample - loss: 4.3244\n",
            "Epoch 42/50\n",
            "8/8 [==============================] - 0s 28ms/sample - loss: 4.1168\n",
            "Epoch 43/50\n",
            "8/8 [==============================] - 0s 27ms/sample - loss: 4.0815\n",
            "Epoch 44/50\n",
            "8/8 [==============================] - 0s 28ms/sample - loss: 3.8095\n",
            "Epoch 45/50\n",
            "8/8 [==============================] - 0s 29ms/sample - loss: 3.6923\n",
            "Epoch 46/50\n",
            "8/8 [==============================] - 0s 29ms/sample - loss: 3.5225\n",
            "Epoch 47/50\n",
            "8/8 [==============================] - 0s 28ms/sample - loss: 3.3552\n",
            "Epoch 48/50\n",
            "8/8 [==============================] - 0s 28ms/sample - loss: 3.3986\n",
            "Epoch 49/50\n",
            "8/8 [==============================] - 0s 28ms/sample - loss: 3.2709\n",
            "Epoch 50/50\n",
            "8/8 [==============================] - 0s 30ms/sample - loss: 3.3660\n"
          ]
        },
        {
          "output_type": "execute_result",
          "data": {
            "text/plain": [
              "<keras.callbacks.History at 0x7fe2585dcfd0>"
            ]
          },
          "metadata": {},
          "execution_count": 21
        }
      ]
    },
    {
      "cell_type": "code",
      "source": [
        "x_train.shape, x_train[0,:,:].shape, np.expand_dims(x_train[0,:,:], axis=0).shape"
      ],
      "metadata": {
        "colab": {
          "base_uri": "https://localhost:8080/"
        },
        "id": "o4jdmy68JJpU",
        "outputId": "d862fc6c-578e-4805-f6bb-fcd842e11624"
      },
      "execution_count": 23,
      "outputs": [
        {
          "output_type": "execute_result",
          "data": {
            "text/plain": [
              "((8, 48, 48, 1), (48, 48, 1), (1, 48, 48, 1))"
            ]
          },
          "metadata": {},
          "execution_count": 23
        }
      ]
    },
    {
      "cell_type": "code",
      "source": [
        "x_train_encoded = encoder.predict(np.expand_dims(x_train[0,:,:], axis=0), batch_size=1)\n",
        "\n",
        "x_train_encoded.shape"
      ],
      "metadata": {
        "id": "aYW1X8yorDDM",
        "colab": {
          "base_uri": "https://localhost:8080/"
        },
        "outputId": "ce11dbf5-1e33-4220-8ab1-629c284051a6"
      },
      "execution_count": 25,
      "outputs": [
        {
          "output_type": "execute_result",
          "data": {
            "text/plain": [
              "(1, 8)"
            ]
          },
          "metadata": {},
          "execution_count": 25
        }
      ]
    },
    {
      "cell_type": "code",
      "source": [
        "plt.figure(figsize=(5, 3), dpi=125)\n",
        "\n",
        "plt.imshow(x_train_encoded)"
      ],
      "metadata": {
        "id": "crDuO7SIsJR4",
        "colab": {
          "base_uri": "https://localhost:8080/",
          "height": 156
        },
        "outputId": "379c53b5-78ba-4b4e-91c3-7d2ff7294a10"
      },
      "execution_count": 26,
      "outputs": [
        {
          "output_type": "execute_result",
          "data": {
            "text/plain": [
              "<matplotlib.image.AxesImage at 0x7fe251183290>"
            ]
          },
          "metadata": {},
          "execution_count": 26
        },
        {
          "output_type": "display_data",
          "data": {
            "text/plain": [
              "<Figure size 625x375 with 1 Axes>"
            ],
            "image/png": "[encoded data removed]"
          },
          "metadata": {
            "needs_background": "light"
          }
        }
      ]
    },
    {
      "cell_type": "code",
      "source": [
        "# decoder."
      ],
      "metadata": {
        "id": "f4x_Go1bkkRG"
      },
      "execution_count": 27,
      "outputs": []
    },
    {
      "cell_type": "code",
      "source": [
        "x_demo = x_test[np.random.randint(x_test.shape[0])]\n",
        "pred = vae.predict(np.expand_dims(x_demo, axis=0))\n",
        "# plt.imshow(x_demo)\n",
        "# plt.show()\n",
        "# plt.imshow(pred[0])\n",
        "\n",
        "x_demo.shape, np.expand_dims(x_demo, axis=0).shape, pred.shape"
      ],
      "metadata": {
        "colab": {
          "base_uri": "https://localhost:8080/"
        },
        "id": "AkcZIQwECjzX",
        "outputId": "5241ce1d-15a9-4e1e-beee-83b9f57ee506"
      },
      "execution_count": 28,
      "outputs": [
        {
          "output_type": "execute_result",
          "data": {
            "text/plain": [
              "((48, 48, 1), (1, 48, 48, 1), (1, 48, 48, 1))"
            ]
          },
          "metadata": {},
          "execution_count": 28
        }
      ]
    },
    {
      "cell_type": "code",
      "source": [
        "plt.imshow(x_demo[:,:,0])\n",
        "\n",
        "x_demo[:,:,0].shape"
      ],
      "metadata": {
        "id": "14Qh4WeqrCaU",
        "colab": {
          "base_uri": "https://localhost:8080/",
          "height": 284
        },
        "outputId": "168f93eb-3f16-4a43-b6c5-34dd46f7d6df"
      },
      "execution_count": 29,
      "outputs": [
        {
          "output_type": "execute_result",
          "data": {
            "text/plain": [
              "(48, 48)"
            ]
          },
          "metadata": {},
          "execution_count": 29
        },
        {
          "output_type": "display_data",
          "data": {
            "text/plain": [
              "<Figure size 432x288 with 1 Axes>"
            ],
            "image/png": "[encoded data removed]"
          },
          "metadata": {
            "needs_background": "light"
          }
        }
      ]
    },
    {
      "cell_type": "code",
      "source": [
        "# for i in range(3):\n",
        "plt.matshow(pred[0,:,:,0])"
      ],
      "metadata": {
        "colab": {
          "base_uri": "https://localhost:8080/",
          "height": 292
        },
        "id": "Q73c9xMYC5K7",
        "outputId": "f426181b-c94d-4414-f99e-4994e862d1c4"
      },
      "execution_count": 30,
      "outputs": [
        {
          "output_type": "execute_result",
          "data": {
            "text/plain": [
              "<matplotlib.image.AxesImage at 0x7fe2510bfd90>"
            ]
          },
          "metadata": {},
          "execution_count": 30
        },
        {
          "output_type": "display_data",
          "data": {
            "text/plain": [
              "<Figure size 288x288 with 1 Axes>"
            ],
            "image/png": "[encoded data removed]"
          },
          "metadata": {
            "needs_background": "light"
          }
        }
      ]
    },
    {
      "cell_type": "code",
      "source": [
        "plt.figure(figsize=(8, 5), dpi=125)\n",
        "\n",
        "plt.subplot(121)\n",
        "plt.imshow(x_demo[:,:,0])\n",
        "plt.title(\"Signal\")\n",
        "\n",
        "plt.subplot(122)\n",
        "plt.imshow(pred[0,:,:,0])\n",
        "plt.title(\"Reconstruction\")"
      ],
      "metadata": {
        "colab": {
          "base_uri": "https://localhost:8080/",
          "height": 467
        },
        "id": "v8OKqLH3koP_",
        "outputId": "c013d273-df4c-46ad-f57c-c03db447edff"
      },
      "execution_count": 31,
      "outputs": [
        {
          "output_type": "execute_result",
          "data": {
            "text/plain": [
              "Text(0.5, 1.0, 'Reconstruction')"
            ]
          },
          "metadata": {},
          "execution_count": 31
        },
        {
          "output_type": "display_data",
          "data": {
            "text/plain": [
              "<Figure size 1000x625 with 2 Axes>"
            ],
            "image/png": "[encoded data removed]"
          },
          "metadata": {
            "needs_background": "light"
          }
        }
      ]
    },
    {
      "cell_type": "code",
      "source": [
        "x_demo_train = x_train[np.random.randint(x_test.shape[0])]\n",
        "pred_train = vae.predict(np.expand_dims(x_demo_train, axis=0))"
      ],
      "metadata": {
        "id": "hOHFMem0SXGD"
      },
      "execution_count": 32,
      "outputs": []
    },
    {
      "cell_type": "code",
      "source": [
        "plt.matshow(x_demo_train[:,:,0])"
      ],
      "metadata": {
        "colab": {
          "base_uri": "https://localhost:8080/",
          "height": 292
        },
        "id": "i4DEMQj9SnJt",
        "outputId": "22e72d30-4158-41a1-a31c-2341ca9464d4"
      },
      "execution_count": 33,
      "outputs": [
        {
          "output_type": "execute_result",
          "data": {
            "text/plain": [
              "<matplotlib.image.AxesImage at 0x7fe250fe9950>"
            ]
          },
          "metadata": {},
          "execution_count": 33
        },
        {
          "output_type": "display_data",
          "data": {
            "text/plain": [
              "<Figure size 288x288 with 1 Axes>"
            ],
            "image/png": "[encoded data removed]"
          },
          "metadata": {
            "needs_background": "light"
          }
        }
      ]
    },
    {
      "cell_type": "code",
      "source": [
        "for i in range(3):\n",
        "  plt.matshow(pred_train[i,:,:,0])"
      ],
      "metadata": {
        "colab": {
          "base_uri": "https://localhost:8080/",
          "height": 443
        },
        "id": "v1e6J-RDSfOZ",
        "outputId": "df67f805-556c-41fd-e032-db3a33b5784e"
      },
      "execution_count": 34,
      "outputs": [
        {
          "output_type": "error",
          "ename": "IndexError",
          "evalue": "ignored",
          "traceback": [
            "\u001b[0;31m---------------------------------------------------------------------------\u001b[0m",
            "\u001b[0;31mIndexError\u001b[0m                                Traceback (most recent call last)",
            "\u001b[0;32m<ipython-input-34-073e0ce31d02>\u001b[0m in \u001b[0;36m<module>\u001b[0;34m\u001b[0m\n\u001b[1;32m      1\u001b[0m \u001b[0;32mfor\u001b[0m \u001b[0mi\u001b[0m \u001b[0;32min\u001b[0m \u001b[0mrange\u001b[0m\u001b[0;34m(\u001b[0m\u001b[0;36m3\u001b[0m\u001b[0;34m)\u001b[0m\u001b[0;34m:\u001b[0m\u001b[0;34m\u001b[0m\u001b[0;34m\u001b[0m\u001b[0m\n\u001b[0;32m----> 2\u001b[0;31m   \u001b[0mplt\u001b[0m\u001b[0;34m.\u001b[0m\u001b[0mmatshow\u001b[0m\u001b[0;34m(\u001b[0m\u001b[0mpred_train\u001b[0m\u001b[0;34m[\u001b[0m\u001b[0mi\u001b[0m\u001b[0;34m,\u001b[0m\u001b[0;34m:\u001b[0m\u001b[0;34m,\u001b[0m\u001b[0;34m:\u001b[0m\u001b[0;34m,\u001b[0m\u001b[0;36m0\u001b[0m\u001b[0;34m]\u001b[0m\u001b[0;34m)\u001b[0m\u001b[0;34m\u001b[0m\u001b[0;34m\u001b[0m\u001b[0m\n\u001b[0m",
            "\u001b[0;31mIndexError\u001b[0m: index 1 is out of bounds for axis 0 with size 1"
          ]
        },
        {
          "output_type": "display_data",
          "data": {
            "text/plain": [
              "<Figure size 288x288 with 1 Axes>"
            ],
            "image/png": "[encoded data removed]"
          },
          "metadata": {
            "needs_background": "light"
          }
        }
      ]
    },
    {
      "cell_type": "code",
      "source": [
        "x_test_encoded = encoder.predict(x_test, batch_size=8)\n",
        "plt.figure(figsize=(6, 6))\n",
        "plt.scatter(x_test_encoded[:, 0], x_test_encoded[:, 1], cmap='tab10')\n",
        "plt.colorbar()\n",
        "plt.show()"
      ],
      "metadata": {
        "id": "nLKzCpfVsaPA",
        "colab": {
          "base_uri": "https://localhost:8080/",
          "height": 1000
        },
        "outputId": "84ee2af8-6a85-40ec-e182-af52e493185c"
      },
      "execution_count": null,
      "outputs": [
        {
          "output_type": "error",
          "ename": "InvalidArgumentError",
          "evalue": "ignored",
          "traceback": [
            "\u001b[0;31m---------------------------------------------------------------------------\u001b[0m",
            "\u001b[0;31mInvalidArgumentError\u001b[0m                      Traceback (most recent call last)",
            "\u001b[0;32m<ipython-input-80-cb899a7233a5>\u001b[0m in \u001b[0;36m<module>\u001b[0;34m\u001b[0m\n\u001b[0;32m----> 1\u001b[0;31m \u001b[0mx_test_encoded\u001b[0m \u001b[0;34m=\u001b[0m \u001b[0mencoder\u001b[0m\u001b[0;34m.\u001b[0m\u001b[0mpredict\u001b[0m\u001b[0;34m(\u001b[0m\u001b[0mx_test\u001b[0m\u001b[0;34m,\u001b[0m \u001b[0mbatch_size\u001b[0m\u001b[0;34m=\u001b[0m\u001b[0;36m8\u001b[0m\u001b[0;34m)\u001b[0m\u001b[0;34m\u001b[0m\u001b[0;34m\u001b[0m\u001b[0m\n\u001b[0m\u001b[1;32m      2\u001b[0m \u001b[0mplt\u001b[0m\u001b[0;34m.\u001b[0m\u001b[0mfigure\u001b[0m\u001b[0;34m(\u001b[0m\u001b[0mfigsize\u001b[0m\u001b[0;34m=\u001b[0m\u001b[0;34m(\u001b[0m\u001b[0;36m6\u001b[0m\u001b[0;34m,\u001b[0m \u001b[0;36m6\u001b[0m\u001b[0;34m)\u001b[0m\u001b[0;34m)\u001b[0m\u001b[0;34m\u001b[0m\u001b[0;34m\u001b[0m\u001b[0m\n\u001b[1;32m      3\u001b[0m \u001b[0mplt\u001b[0m\u001b[0;34m.\u001b[0m\u001b[0mscatter\u001b[0m\u001b[0;34m(\u001b[0m\u001b[0mx_test_encoded\u001b[0m\u001b[0;34m[\u001b[0m\u001b[0;34m:\u001b[0m\u001b[0;34m,\u001b[0m \u001b[0;36m0\u001b[0m\u001b[0;34m]\u001b[0m\u001b[0;34m,\u001b[0m \u001b[0mx_test_encoded\u001b[0m\u001b[0;34m[\u001b[0m\u001b[0;34m:\u001b[0m\u001b[0;34m,\u001b[0m \u001b[0;36m1\u001b[0m\u001b[0;34m]\u001b[0m\u001b[0;34m,\u001b[0m \u001b[0mcmap\u001b[0m\u001b[0;34m=\u001b[0m\u001b[0;34m'tab10'\u001b[0m\u001b[0;34m)\u001b[0m\u001b[0;34m\u001b[0m\u001b[0;34m\u001b[0m\u001b[0m\n\u001b[1;32m      4\u001b[0m \u001b[0mplt\u001b[0m\u001b[0;34m.\u001b[0m\u001b[0mcolorbar\u001b[0m\u001b[0;34m(\u001b[0m\u001b[0;34m)\u001b[0m\u001b[0;34m\u001b[0m\u001b[0;34m\u001b[0m\u001b[0m\n\u001b[1;32m      5\u001b[0m \u001b[0mplt\u001b[0m\u001b[0;34m.\u001b[0m\u001b[0mshow\u001b[0m\u001b[0;34m(\u001b[0m\u001b[0;34m)\u001b[0m\u001b[0;34m\u001b[0m\u001b[0;34m\u001b[0m\u001b[0m\n",
            "\u001b[0;32m/usr/local/lib/python3.7/dist-packages/keras/utils/traceback_utils.py\u001b[0m in \u001b[0;36merror_handler\u001b[0;34m(*args, **kwargs)\u001b[0m\n\u001b[1;32m     65\u001b[0m     \u001b[0;32mexcept\u001b[0m \u001b[0mException\u001b[0m \u001b[0;32mas\u001b[0m \u001b[0me\u001b[0m\u001b[0;34m:\u001b[0m  \u001b[0;31m# pylint: disable=broad-except\u001b[0m\u001b[0;34m\u001b[0m\u001b[0;34m\u001b[0m\u001b[0m\n\u001b[1;32m     66\u001b[0m       \u001b[0mfiltered_tb\u001b[0m \u001b[0;34m=\u001b[0m \u001b[0m_process_traceback_frames\u001b[0m\u001b[0;34m(\u001b[0m\u001b[0me\u001b[0m\u001b[0;34m.\u001b[0m\u001b[0m__traceback__\u001b[0m\u001b[0;34m)\u001b[0m\u001b[0;34m\u001b[0m\u001b[0;34m\u001b[0m\u001b[0m\n\u001b[0;32m---> 67\u001b[0;31m       \u001b[0;32mraise\u001b[0m \u001b[0me\u001b[0m\u001b[0;34m.\u001b[0m\u001b[0mwith_traceback\u001b[0m\u001b[0;34m(\u001b[0m\u001b[0mfiltered_tb\u001b[0m\u001b[0;34m)\u001b[0m \u001b[0;32mfrom\u001b[0m \u001b[0;32mNone\u001b[0m\u001b[0;34m\u001b[0m\u001b[0;34m\u001b[0m\u001b[0m\n\u001b[0m\u001b[1;32m     68\u001b[0m     \u001b[0;32mfinally\u001b[0m\u001b[0;34m:\u001b[0m\u001b[0;34m\u001b[0m\u001b[0;34m\u001b[0m\u001b[0m\n\u001b[1;32m     69\u001b[0m       \u001b[0;32mdel\u001b[0m \u001b[0mfiltered_tb\u001b[0m\u001b[0;34m\u001b[0m\u001b[0;34m\u001b[0m\u001b[0m\n",
            "\u001b[0;32m/usr/local/lib/python3.7/dist-packages/tensorflow/python/eager/execute.py\u001b[0m in \u001b[0;36mquick_execute\u001b[0;34m(op_name, num_outputs, inputs, attrs, ctx, name)\u001b[0m\n\u001b[1;32m     53\u001b[0m     \u001b[0mctx\u001b[0m\u001b[0;34m.\u001b[0m\u001b[0mensure_initialized\u001b[0m\u001b[0;34m(\u001b[0m\u001b[0;34m)\u001b[0m\u001b[0;34m\u001b[0m\u001b[0;34m\u001b[0m\u001b[0m\n\u001b[1;32m     54\u001b[0m     tensors = pywrap_tfe.TFE_Py_Execute(ctx._handle, device_name, op_name,\n\u001b[0;32m---> 55\u001b[0;31m                                         inputs, attrs, num_outputs)\n\u001b[0m\u001b[1;32m     56\u001b[0m   \u001b[0;32mexcept\u001b[0m \u001b[0mcore\u001b[0m\u001b[0;34m.\u001b[0m\u001b[0m_NotOkStatusException\u001b[0m \u001b[0;32mas\u001b[0m \u001b[0me\u001b[0m\u001b[0;34m:\u001b[0m\u001b[0;34m\u001b[0m\u001b[0;34m\u001b[0m\u001b[0m\n\u001b[1;32m     57\u001b[0m     \u001b[0;32mif\u001b[0m \u001b[0mname\u001b[0m \u001b[0;32mis\u001b[0m \u001b[0;32mnot\u001b[0m \u001b[0;32mNone\u001b[0m\u001b[0;34m:\u001b[0m\u001b[0;34m\u001b[0m\u001b[0;34m\u001b[0m\u001b[0m\n",
            "\u001b[0;31mInvalidArgumentError\u001b[0m: Graph execution error:\n\nDetected at node 'model_16/lambda_5/mul' defined at (most recent call last):\n    File \"/usr/lib/python3.7/runpy.py\", line 193, in _run_module_as_main\n      \"__main__\", mod_spec)\n    File \"/usr/lib/python3.7/runpy.py\", line 85, in _run_code\n      exec(code, run_globals)\n    File \"/usr/local/lib/python3.7/dist-packages/ipykernel_launcher.py\", line 16, in <module>\n      app.launch_new_instance()\n    File \"/usr/local/lib/python3.7/dist-packages/traitlets/config/application.py\", line 846, in launch_instance\n      app.start()\n    File \"/usr/local/lib/python3.7/dist-packages/ipykernel/kernelapp.py\", line 612, in start\n      self.io_loop.start()\n    File \"/usr/local/lib/python3.7/dist-packages/tornado/platform/asyncio.py\", line 132, in start\n      self.asyncio_loop.run_forever()\n    File \"/usr/lib/python3.7/asyncio/base_events.py\", line 541, in run_forever\n      self._run_once()\n    File \"/usr/lib/python3.7/asyncio/base_events.py\", line 1786, in _run_once\n      handle._run()\n    File \"/usr/lib/python3.7/asyncio/events.py\", line 88, in _run\n      self._context.run(self._callback, *self._args)\n    File \"/usr/local/lib/python3.7/dist-packages/tornado/ioloop.py\", line 758, in _run_callback\n      ret = callback()\n    File \"/usr/local/lib/python3.7/dist-packages/tornado/stack_context.py\", line 300, in null_wrapper\n      return fn(*args, **kwargs)\n    File \"/usr/local/lib/python3.7/dist-packages/tornado/gen.py\", line 1233, in inner\n      self.run()\n    File \"/usr/local/lib/python3.7/dist-packages/tornado/gen.py\", line 1147, in run\n      yielded = self.gen.send(value)\n    File \"/usr/local/lib/python3.7/dist-packages/ipykernel/kernelbase.py\", line 365, in process_one\n      yield gen.maybe_future(dispatch(*args))\n    File \"/usr/local/lib/python3.7/dist-packages/tornado/gen.py\", line 326, in wrapper\n      yielded = next(result)\n    File \"/usr/local/lib/python3.7/dist-packages/ipykernel/kernelbase.py\", line 268, in dispatch_shell\n      yield gen.maybe_future(handler(stream, idents, msg))\n    File \"/usr/local/lib/python3.7/dist-packages/tornado/gen.py\", line 326, in wrapper\n      yielded = next(result)\n    File \"/usr/local/lib/python3.7/dist-packages/ipykernel/kernelbase.py\", line 545, in execute_request\n      user_expressions, allow_stdin,\n    File \"/usr/local/lib/python3.7/dist-packages/tornado/gen.py\", line 326, in wrapper\n      yielded = next(result)\n    File \"/usr/local/lib/python3.7/dist-packages/ipykernel/ipkernel.py\", line 306, in do_execute\n      res = shell.run_cell(code, store_history=store_history, silent=silent)\n    File \"/usr/local/lib/python3.7/dist-packages/ipykernel/zmqshell.py\", line 536, in run_cell\n      return super(ZMQInteractiveShell, self).run_cell(*args, **kwargs)\n    File \"/usr/local/lib/python3.7/dist-packages/IPython/core/interactiveshell.py\", line 2855, in run_cell\n      raw_cell, store_history, silent, shell_futures)\n    File \"/usr/local/lib/python3.7/dist-packages/IPython/core/interactiveshell.py\", line 2881, in _run_cell\n      return runner(coro)\n    File \"/usr/local/lib/python3.7/dist-packages/IPython/core/async_helpers.py\", line 68, in _pseudo_sync_runner\n      coro.send(None)\n    File \"/usr/local/lib/python3.7/dist-packages/IPython/core/interactiveshell.py\", line 3058, in run_cell_async\n      interactivity=interactivity, compiler=compiler, result=result)\n    File \"/usr/local/lib/python3.7/dist-packages/IPython/core/interactiveshell.py\", line 3249, in run_ast_nodes\n      if (await self.run_code(code, result,  async_=asy)):\n    File \"/usr/local/lib/python3.7/dist-packages/IPython/core/interactiveshell.py\", line 3326, in run_code\n      exec(code_obj, self.user_global_ns, self.user_ns)\n    File \"<ipython-input-80-cb899a7233a5>\", line 1, in <module>\n      x_test_encoded = encoder.predict(x_test, batch_size=8)\n    File \"/usr/local/lib/python3.7/dist-packages/keras/utils/traceback_utils.py\", line 64, in error_handler\n      return fn(*args, **kwargs)\n    File \"/usr/local/lib/python3.7/dist-packages/keras/engine/training.py\", line 1982, in predict\n      tmp_batch_outputs = self.predict_function(iterator)\n    File \"/usr/local/lib/python3.7/dist-packages/keras/engine/training.py\", line 1801, in predict_function\n      return step_function(self, iterator)\n    File \"/usr/local/lib/python3.7/dist-packages/keras/engine/training.py\", line 1790, in step_function\n      outputs = model.distribute_strategy.run(run_step, args=(data,))\n    File \"/usr/local/lib/python3.7/dist-packages/keras/engine/training.py\", line 1783, in run_step\n      outputs = model.predict_step(data)\n    File \"/usr/local/lib/python3.7/dist-packages/keras/engine/training.py\", line 1751, in predict_step\n      return self(x, training=False)\n    File \"/usr/local/lib/python3.7/dist-packages/keras/utils/traceback_utils.py\", line 64, in error_handler\n      return fn(*args, **kwargs)\n    File \"/usr/local/lib/python3.7/dist-packages/keras/engine/base_layer.py\", line 1096, in __call__\n      outputs = call_fn(inputs, *args, **kwargs)\n    File \"/usr/local/lib/python3.7/dist-packages/keras/utils/traceback_utils.py\", line 92, in error_handler\n      return fn(*args, **kwargs)\n    File \"/usr/local/lib/python3.7/dist-packages/keras/engine/functional.py\", line 452, in call\n      inputs, training=training, mask=mask)\n    File \"/usr/local/lib/python3.7/dist-packages/keras/engine/functional.py\", line 589, in _run_internal_graph\n      outputs = node.layer(*args, **kwargs)\n    File \"/usr/local/lib/python3.7/dist-packages/keras/utils/traceback_utils.py\", line 64, in error_handler\n      return fn(*args, **kwargs)\n    File \"/usr/local/lib/python3.7/dist-packages/keras/engine/base_layer.py\", line 1096, in __call__\n      outputs = call_fn(inputs, *args, **kwargs)\n    File \"/usr/local/lib/python3.7/dist-packages/keras/utils/traceback_utils.py\", line 92, in error_handler\n      return fn(*args, **kwargs)\n    File \"/usr/local/lib/python3.7/dist-packages/keras/layers/core/lambda_layer.py\", line 196, in call\n      result = self.function(inputs, **kwargs)\n    File \"<ipython-input-21-09d6474f9ce9>\", line 49, in sampling\n      return z_mean + tf.math.exp(z_log_sigma) * epsilon\nNode: 'model_16/lambda_5/mul'\nIncompatible shapes: [3,32] vs. [4,32]\n\t [[{{node model_16/lambda_5/mul}}]] [Op:__inference_predict_function_10093]"
          ]
        }
      ]
    },
    {
      "cell_type": "code",
      "source": [],
      "metadata": {
        "id": "omh3EQOvS7Id"
      },
      "execution_count": null,
      "outputs": []
    }
  ]
}