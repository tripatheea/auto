{
  "nbformat": 4,
  "nbformat_minor": 0,
  "metadata": {
    "colab": {
      "name": "old autoencoder better?",
      "provenance": [],
      "collapsed_sections": [],
      "authorship_tag": "ABX9TyP/xMATFOjtoKN3fastPZa5",
      "include_colab_link": true
    },
    "kernelspec": {
      "name": "python3",
      "display_name": "Python 3"
    },
    "language_info": {
      "name": "python"
    },
    "accelerator": "TPU"
  },
  "cells": [
    {
      "cell_type": "markdown",
      "metadata": {
        "id": "view-in-github",
        "colab_type": "text"
      },
      "source": [
        "<a href=\"https://colab.research.google.com/github/tripatheea/auto/blob/main/old_autoencoder_better%3F.ipynb\" target=\"_parent\"><img src=\"https://colab.research.google.com/assets/colab-badge.svg\" alt=\"Open In Colab\"/></a>"
      ]
    },
    {
      "cell_type": "code",
      "metadata": {
        "id": "D_HD2yHx9l6J"
      },
      "source": [
        "from __future__ import absolute_import, division, print_function, unicode_literals\n",
        "\n",
        "import tensorflow as tf\n",
        "\n",
        "from tensorflow.keras import datasets, layers, models\n",
        "\n",
        "# import keras\n",
        "import numpy as np\n",
        "import pandas as pd\n",
        "import matplotlib as mpl\n",
        "from matplotlib import pyplot as plt\n",
        "\n",
        "\n",
        "from tensorflow.keras.models import Sequential\n",
        "# import keras\n",
        "from tensorflow.keras.models import Sequential\n",
        "from tensorflow.keras.layers import Dense, Flatten, Conv1D\n",
        "from tensorflow.keras.callbacks import ModelCheckpoint\n",
        "from tensorflow.keras.models import model_from_json\n",
        "from tensorflow.keras import backend as K\n",
        "\n",
        "import numpy\n",
        "from tensorflow.keras.datasets import imdb\n",
        "from tensorflow.keras.models import Sequential\n",
        "from tensorflow.keras.layers import Dense\n",
        "from tensorflow.keras.layers import LSTM\n",
        "# from tensorflow.keras.layers.embeddings import Embedding\n",
        "from tensorflow.keras.preprocessing import sequence\n",
        "\n",
        "from sklearn.preprocessing import StandardScaler\n",
        "\n",
        "from sklearn.model_selection import train_test_split, cross_val_score, cross_val_predict, GridSearchCV\n",
        "\n",
        "import seaborn as sns\n",
        "\n",
        "from tensorflow.keras.layers import add, Activation, LSTM, Conv1D\n",
        "from tensorflow.keras.layers import MaxPooling1D, UpSampling1D, Cropping1D, SpatialDropout1D, Bidirectional, BatchNormalization\n",
        "from tensorflow.keras.models import Model\n",
        "\n",
        "from numpy.random import seed\n",
        "from tensorflow.random import set_seed\n",
        "\n",
        "\n",
        "import random\n",
        "\n",
        "from scipy.signal import welch"
      ],
      "execution_count": 1,
      "outputs": []
    },
    {
      "cell_type": "code",
      "metadata": {
        "colab": {
          "base_uri": "https://localhost:8080/"
        },
        "id": "4PkajX-PEN64",
        "outputId": "2abf875e-23b9-4d5d-c840-147a37d2b9eb"
      },
      "source": [
        "from psutil import virtual_memory\n",
        "ram_gb = virtual_memory().total / 1e9\n",
        "print('Your runtime has {:.1f} gigabytes of available RAM\\n'.format(ram_gb))\n",
        "\n",
        "if ram_gb < 20:\n",
        "  print('To enable a high-RAM runtime, select the Runtime > \"Change runtime type\"')\n",
        "  print('menu, and then select High-RAM in the Runtime shape dropdown. Then, ')\n",
        "  print('re-execute this cell.')\n",
        "else:\n",
        "  print('You are using a high-RAM runtime!')"
      ],
      "execution_count": 2,
      "outputs": [
        {
          "output_type": "stream",
          "text": [
            "Your runtime has 13.6 gigabytes of available RAM\n",
            "\n",
            "To enable a high-RAM runtime, select the Runtime > \"Change runtime type\"\n",
            "menu, and then select High-RAM in the Runtime shape dropdown. Then, \n",
            "re-execute this cell.\n"
          ],
          "name": "stdout"
        }
      ]
    },
    {
      "cell_type": "code",
      "metadata": {
        "colab": {
          "base_uri": "https://localhost:8080/"
        },
        "id": "XGF-XD0TEQZp",
        "outputId": "14954bf2-456b-4c3b-e41d-33caaafc0886"
      },
      "source": [
        "gpu_info = !nvidia-smi\n",
        "gpu_info = '\\n'.join(gpu_info)\n",
        "if gpu_info.find('failed') >= 0:\n",
        "  print('Select the Runtime > \"Change runtime type\" menu to enable a GPU accelerator, ')\n",
        "  print('and then re-execute this cell.')\n",
        "else:\n",
        "  print(gpu_info)"
      ],
      "execution_count": 3,
      "outputs": [
        {
          "output_type": "stream",
          "text": [
            "Select the Runtime > \"Change runtime type\" menu to enable a GPU accelerator, \n",
            "and then re-execute this cell.\n"
          ],
          "name": "stdout"
        }
      ]
    },
    {
      "cell_type": "code",
      "metadata": {
        "colab": {
          "base_uri": "https://localhost:8080/"
        },
        "id": "d8ooaDeKESz1",
        "outputId": "4592acd8-dab4-403b-f1e3-9747a2de99ee"
      },
      "source": [
        "try:\n",
        "  tpu = tf.distribute.cluster_resolver.TPUClusterResolver()  # TPU detection\n",
        "  print('Running on TPU ', tpu.cluster_spec().as_dict()['worker'])\n",
        "except ValueError:\n",
        "  raise BaseException('ERROR: Not connected to a TPU runtime; please see the previous cell in this notebook for instructions!')\n",
        "\n",
        "tf.config.experimental_connect_to_cluster(tpu)\n",
        "tf.tpu.experimental.initialize_tpu_system(tpu)\n",
        "tpu_strategy = tf.distribute.experimental.TPUStrategy(tpu)"
      ],
      "execution_count": 4,
      "outputs": [
        {
          "output_type": "stream",
          "text": [
            "Running on TPU  ['10.110.184.202:8470']\n",
            "INFO:tensorflow:Initializing the TPU system: grpc://10.110.184.202:8470\n"
          ],
          "name": "stdout"
        },
        {
          "output_type": "stream",
          "text": [
            "INFO:tensorflow:Initializing the TPU system: grpc://10.110.184.202:8470\n"
          ],
          "name": "stderr"
        },
        {
          "output_type": "stream",
          "text": [
            "INFO:tensorflow:Clearing out eager caches\n"
          ],
          "name": "stdout"
        },
        {
          "output_type": "stream",
          "text": [
            "INFO:tensorflow:Clearing out eager caches\n"
          ],
          "name": "stderr"
        },
        {
          "output_type": "stream",
          "text": [
            "INFO:tensorflow:Finished initializing TPU system.\n"
          ],
          "name": "stdout"
        },
        {
          "output_type": "stream",
          "text": [
            "INFO:tensorflow:Finished initializing TPU system.\n",
            "WARNING:absl:`tf.distribute.experimental.TPUStrategy` is deprecated, please use  the non experimental symbol `tf.distribute.TPUStrategy` instead.\n"
          ],
          "name": "stderr"
        },
        {
          "output_type": "stream",
          "text": [
            "INFO:tensorflow:Found TPU system:\n"
          ],
          "name": "stdout"
        },
        {
          "output_type": "stream",
          "text": [
            "INFO:tensorflow:Found TPU system:\n"
          ],
          "name": "stderr"
        },
        {
          "output_type": "stream",
          "text": [
            "INFO:tensorflow:*** Num TPU Cores: 8\n"
          ],
          "name": "stdout"
        },
        {
          "output_type": "stream",
          "text": [
            "INFO:tensorflow:*** Num TPU Cores: 8\n"
          ],
          "name": "stderr"
        },
        {
          "output_type": "stream",
          "text": [
            "INFO:tensorflow:*** Num TPU Workers: 1\n"
          ],
          "name": "stdout"
        },
        {
          "output_type": "stream",
          "text": [
            "INFO:tensorflow:*** Num TPU Workers: 1\n"
          ],
          "name": "stderr"
        },
        {
          "output_type": "stream",
          "text": [
            "INFO:tensorflow:*** Num TPU Cores Per Worker: 8\n"
          ],
          "name": "stdout"
        },
        {
          "output_type": "stream",
          "text": [
            "INFO:tensorflow:*** Num TPU Cores Per Worker: 8\n"
          ],
          "name": "stderr"
        },
        {
          "output_type": "stream",
          "text": [
            "INFO:tensorflow:*** Available Device: _DeviceAttributes(/job:localhost/replica:0/task:0/device:CPU:0, CPU, 0, 0)\n"
          ],
          "name": "stdout"
        },
        {
          "output_type": "stream",
          "text": [
            "INFO:tensorflow:*** Available Device: _DeviceAttributes(/job:localhost/replica:0/task:0/device:CPU:0, CPU, 0, 0)\n"
          ],
          "name": "stderr"
        },
        {
          "output_type": "stream",
          "text": [
            "INFO:tensorflow:*** Available Device: _DeviceAttributes(/job:worker/replica:0/task:0/device:CPU:0, CPU, 0, 0)\n"
          ],
          "name": "stdout"
        },
        {
          "output_type": "stream",
          "text": [
            "INFO:tensorflow:*** Available Device: _DeviceAttributes(/job:worker/replica:0/task:0/device:CPU:0, CPU, 0, 0)\n"
          ],
          "name": "stderr"
        },
        {
          "output_type": "stream",
          "text": [
            "INFO:tensorflow:*** Available Device: _DeviceAttributes(/job:worker/replica:0/task:0/device:TPU:0, TPU, 0, 0)\n"
          ],
          "name": "stdout"
        },
        {
          "output_type": "stream",
          "text": [
            "INFO:tensorflow:*** Available Device: _DeviceAttributes(/job:worker/replica:0/task:0/device:TPU:0, TPU, 0, 0)\n"
          ],
          "name": "stderr"
        },
        {
          "output_type": "stream",
          "text": [
            "INFO:tensorflow:*** Available Device: _DeviceAttributes(/job:worker/replica:0/task:0/device:TPU:1, TPU, 0, 0)\n"
          ],
          "name": "stdout"
        },
        {
          "output_type": "stream",
          "text": [
            "INFO:tensorflow:*** Available Device: _DeviceAttributes(/job:worker/replica:0/task:0/device:TPU:1, TPU, 0, 0)\n"
          ],
          "name": "stderr"
        },
        {
          "output_type": "stream",
          "text": [
            "INFO:tensorflow:*** Available Device: _DeviceAttributes(/job:worker/replica:0/task:0/device:TPU:2, TPU, 0, 0)\n"
          ],
          "name": "stdout"
        },
        {
          "output_type": "stream",
          "text": [
            "INFO:tensorflow:*** Available Device: _DeviceAttributes(/job:worker/replica:0/task:0/device:TPU:2, TPU, 0, 0)\n"
          ],
          "name": "stderr"
        },
        {
          "output_type": "stream",
          "text": [
            "INFO:tensorflow:*** Available Device: _DeviceAttributes(/job:worker/replica:0/task:0/device:TPU:3, TPU, 0, 0)\n"
          ],
          "name": "stdout"
        },
        {
          "output_type": "stream",
          "text": [
            "INFO:tensorflow:*** Available Device: _DeviceAttributes(/job:worker/replica:0/task:0/device:TPU:3, TPU, 0, 0)\n"
          ],
          "name": "stderr"
        },
        {
          "output_type": "stream",
          "text": [
            "INFO:tensorflow:*** Available Device: _DeviceAttributes(/job:worker/replica:0/task:0/device:TPU:4, TPU, 0, 0)\n"
          ],
          "name": "stdout"
        },
        {
          "output_type": "stream",
          "text": [
            "INFO:tensorflow:*** Available Device: _DeviceAttributes(/job:worker/replica:0/task:0/device:TPU:4, TPU, 0, 0)\n"
          ],
          "name": "stderr"
        },
        {
          "output_type": "stream",
          "text": [
            "INFO:tensorflow:*** Available Device: _DeviceAttributes(/job:worker/replica:0/task:0/device:TPU:5, TPU, 0, 0)\n"
          ],
          "name": "stdout"
        },
        {
          "output_type": "stream",
          "text": [
            "INFO:tensorflow:*** Available Device: _DeviceAttributes(/job:worker/replica:0/task:0/device:TPU:5, TPU, 0, 0)\n"
          ],
          "name": "stderr"
        },
        {
          "output_type": "stream",
          "text": [
            "INFO:tensorflow:*** Available Device: _DeviceAttributes(/job:worker/replica:0/task:0/device:TPU:6, TPU, 0, 0)\n"
          ],
          "name": "stdout"
        },
        {
          "output_type": "stream",
          "text": [
            "INFO:tensorflow:*** Available Device: _DeviceAttributes(/job:worker/replica:0/task:0/device:TPU:6, TPU, 0, 0)\n"
          ],
          "name": "stderr"
        },
        {
          "output_type": "stream",
          "text": [
            "INFO:tensorflow:*** Available Device: _DeviceAttributes(/job:worker/replica:0/task:0/device:TPU:7, TPU, 0, 0)\n"
          ],
          "name": "stdout"
        },
        {
          "output_type": "stream",
          "text": [
            "INFO:tensorflow:*** Available Device: _DeviceAttributes(/job:worker/replica:0/task:0/device:TPU:7, TPU, 0, 0)\n"
          ],
          "name": "stderr"
        },
        {
          "output_type": "stream",
          "text": [
            "INFO:tensorflow:*** Available Device: _DeviceAttributes(/job:worker/replica:0/task:0/device:TPU_SYSTEM:0, TPU_SYSTEM, 0, 0)\n"
          ],
          "name": "stdout"
        },
        {
          "output_type": "stream",
          "text": [
            "INFO:tensorflow:*** Available Device: _DeviceAttributes(/job:worker/replica:0/task:0/device:TPU_SYSTEM:0, TPU_SYSTEM, 0, 0)\n"
          ],
          "name": "stderr"
        },
        {
          "output_type": "stream",
          "text": [
            "INFO:tensorflow:*** Available Device: _DeviceAttributes(/job:worker/replica:0/task:0/device:XLA_CPU:0, XLA_CPU, 0, 0)\n"
          ],
          "name": "stdout"
        },
        {
          "output_type": "stream",
          "text": [
            "INFO:tensorflow:*** Available Device: _DeviceAttributes(/job:worker/replica:0/task:0/device:XLA_CPU:0, XLA_CPU, 0, 0)\n"
          ],
          "name": "stderr"
        }
      ]
    },
    {
      "cell_type": "code",
      "metadata": {
        "id": "sfHOQxLU_lCq"
      },
      "source": [
        "seed(10)\n",
        "set_seed(10)\n",
        "\n",
        "N = 1000\n",
        "T = 1 / 500.0\n",
        "\n",
        "f = 100\n",
        "\n",
        "h0 = 1e-24"
      ],
      "execution_count": 5,
      "outputs": []
    },
    {
      "cell_type": "code",
      "metadata": {
        "id": "Q2wLqdIs_0gT"
      },
      "source": [
        " def make_signal(f, signal=True, noise=False, noise_std=0.1):\n",
        "    t_s = np.linspace(0, N * T, N)\n",
        "    \n",
        "    y_signal = np.sin(2 * np.pi * f * t_s)\n",
        "    y_noise = np.random.normal(loc=0, scale=noise_std, size=t_s.shape)\n",
        "    \n",
        "    y_s = np.zeros(N)\n",
        "    if signal:\n",
        "        y_s += y_signal\n",
        "    if noise:\n",
        "        y_s += y_noise\n",
        "        \n",
        "    return y_s\n",
        "\n",
        "\n",
        "def plot_signal(t_s, y_s):\n",
        "    plt.figure(figsize=(5, 2))\n",
        "    plt.plot(t_s, y_s)\n",
        "\n",
        "resolution = 100\n",
        "\n",
        "width = 100\n",
        "subsampling = 3\n",
        "n_components = resolution // subsampling"
      ],
      "execution_count": 6,
      "outputs": []
    },
    {
      "cell_type": "code",
      "metadata": {
        "colab": {
          "base_uri": "https://localhost:8080/",
          "height": 437
        },
        "id": "NkMFAv0K_-c2",
        "outputId": "d500087d-ed29-4979-a3ba-04a94bb660e1"
      },
      "source": [
        "f = 30\n",
        "\n",
        "y1 = make_signal(f=f, signal=True, noise=False)\n",
        "plot_signal(np.arange(len(y1)), y1)\n",
        "\n",
        "y2 = make_signal(f=f, signal=False, noise=True)\n",
        "plot_signal(np.arange(len(y2)), y2)\n",
        "\n",
        "y3 = make_signal(f=f, signal=True, noise=True, noise_std=10)\n",
        "plot_signal(np.arange(len(y3)), y3)"
      ],
      "execution_count": 7,
      "outputs": [
        {
          "output_type": "display_data",
          "data": {
            "image/png": "[encoded data removed]",
            "text/plain": [
              "<Figure size 360x144 with 1 Axes>"
            ]
          },
          "metadata": {
            "tags": [],
            "needs_background": "light"
          }
        },
        {
          "output_type": "display_data",
          "data": {
            "image/png": "[encoded data removed]",
            "text/plain": [
              "<Figure size 360x144 with 1 Axes>"
            ]
          },
          "metadata": {
            "tags": [],
            "needs_background": "light"
          }
        },
        {
          "output_type": "display_data",
          "data": {
            "image/png": "[encoded data removed]",
            "text/plain": [
              "<Figure size 360x144 with 1 Axes>"
            ]
          },
          "metadata": {
            "tags": [],
            "needs_background": "light"
          }
        }
      ]
    },
    {
      "cell_type": "code",
      "metadata": {
        "id": "fzp1ZeU5__et"
      },
      "source": [
        "from scipy.fftpack import fft, ifft"
      ],
      "execution_count": 8,
      "outputs": []
    },
    {
      "cell_type": "code",
      "metadata": {
        "colab": {
          "base_uri": "https://localhost:8080/",
          "height": 283
        },
        "id": "qDlGCFWaAH6n",
        "outputId": "12b364a4-ef5a-47c0-9d71-af31559b8983"
      },
      "source": [
        "yf = fft(y3)\n",
        "\n",
        "xf = np.linspace(0.0, 1.0/(2.0*T), int(N/2))\n",
        "\n",
        "plt.plot(xf, 2.0/N * np.abs(yf[:N//2]))\n",
        "# plt.show()"
      ],
      "execution_count": 9,
      "outputs": [
        {
          "output_type": "execute_result",
          "data": {
            "text/plain": [
              "[<matplotlib.lines.Line2D at 0x7f1141a40790>]"
            ]
          },
          "metadata": {
            "tags": []
          },
          "execution_count": 9
        },
        {
          "output_type": "display_data",
          "data": {
            "image/png": "[encoded data removed]",
            "text/plain": [
              "<Figure size 432x288 with 1 Axes>"
            ]
          },
          "metadata": {
            "tags": [],
            "needs_background": "light"
          }
        }
      ]
    },
    {
      "cell_type": "code",
      "metadata": {
        "id": "j0wken0LAI4e"
      },
      "source": [
        "def calculate_ex2(y):\n",
        "    return sum([i**2 for i in y]) / len(y)\n",
        "\n",
        "def calculate_snr(noise_std, f=10, N=100, T=1/800):\n",
        "    t = np.linspace(0, N * T, N)\n",
        "    y_sig = np.sin(2 * np.pi * f * t)\n",
        "    y_noise = np.random.normal(loc=0, scale=noise_std, size=t.shape)\n",
        "    \n",
        "    y = y_sig + y_noise\n",
        "\n",
        "    sn_var = np.std(y_sig) / np.sqrt(calculate_ex2(y_noise))\n",
        "    \n",
        "    return sn_var, 10 * np.log10(sn_var)\n",
        "\n",
        "\n",
        "def get_sensitivity_depth(h0, y_noise):\n",
        "    \n",
        "    freq_psd, power_data = welch(y_noise, fs=int(1/T), nfft=int(1/T))\n",
        "\n",
        "    S_n = get_sqrt_S(y_noise)**2\n",
        "\n",
        "    sqrt_S = np.sqrt(S_n)\n",
        "    \n",
        "    return sqrt_S / h0"
      ],
      "execution_count": 10,
      "outputs": []
    },
    {
      "cell_type": "code",
      "metadata": {
        "colab": {
          "base_uri": "https://localhost:8080/"
        },
        "id": "2Icv3mX9AKB0",
        "outputId": "ac64b87c-c2c4-4605-c8f6-f4203b27349f"
      },
      "source": [
        "lower_f, upper_f = 20, 25\n",
        "# noise_lower, noise_upper = 2, 5\n",
        "\n",
        "noise_std_lower, noise_std_upper = 3, 3.5\n",
        "\n",
        "print( calculate_snr(noise_std=noise_std_lower, f=23, N=N, T=T) )\n",
        "print( calculate_snr(noise_std=noise_std_upper, f=23, N=N, T=T) )"
      ],
      "execution_count": 11,
      "outputs": [
        {
          "output_type": "stream",
          "text": [
            "(0.2315818991917805, -6.3529538876298215)\n",
            "(0.20143437737850325, -6.958664094938053)\n"
          ],
          "name": "stdout"
        }
      ]
    },
    {
      "cell_type": "code",
      "metadata": {
        "id": "KG-vL4PRAK5x"
      },
      "source": [
        "def get_sqrt_S(y_noise):\n",
        "    freq_psd, power_data = welch(y_noise, fs=int(1/T), nfft=int(1/T))\n",
        "    return np.sqrt( np.average(power_data) )"
      ],
      "execution_count": 12,
      "outputs": []
    },
    {
      "cell_type": "code",
      "metadata": {
        "colab": {
          "base_uri": "https://localhost:8080/",
          "height": 355
        },
        "id": "Q-i9uCZAAL1m",
        "outputId": "a1007f1e-de20-4cfe-f180-14c2f3d93c92"
      },
      "source": [
        "from scipy.signal import spectrogram\n",
        "\n",
        "y = make_signal(f=23, signal=True, noise=True, noise_std=noise_std_upper)\n",
        "\n",
        "plt.figure(figsize=(10, 5))\n",
        "\n",
        "f, t, Sxx = spectrogram(y, fs=10e3)\n",
        "plt.pcolormesh(t, f, Sxx, shading='gouraud')\n",
        "plt.ylabel('Frequency [Hz]')\n",
        "plt.xlabel('Time [sec]')\n",
        "plt.ylim(0, 1000)"
      ],
      "execution_count": 13,
      "outputs": [
        {
          "output_type": "execute_result",
          "data": {
            "text/plain": [
              "(0.0, 1000.0)"
            ]
          },
          "metadata": {
            "tags": []
          },
          "execution_count": 13
        },
        {
          "output_type": "display_data",
          "data": {
            "image/png": "[encoded data removed]",
            "text/plain": [
              "<Figure size 720x360 with 1 Axes>"
            ]
          },
          "metadata": {
            "tags": [],
            "needs_background": "light"
          }
        }
      ]
    },
    {
      "cell_type": "code",
      "metadata": {
        "id": "nDmC4vQXAMog"
      },
      "source": [
        "train_size = 3000\n",
        "\n",
        "\n",
        "random.seed(10)\n",
        "\n",
        "test_size = int(train_size  * 0.1)\n",
        "\n",
        "f_s = []\n",
        "all_data_raw = []\n",
        "noises = []\n",
        "labels = []\n",
        "\n",
        "for i in range(train_size):\n",
        "    f = random.uniform(lower_f, upper_f)\n",
        "    \n",
        "    # 0 = Signal; 1 = Noise; 2 = Signal + Noise.\n",
        "    \n",
        "#     signal = random.choices(population=[0, 1, 2], weights=[0.45, 0.1, 0.45])[0]\n",
        "#     signal = random.choices(population=[0], weights=[1.0])[0]\n",
        "\n",
        "    signal = random.choices(population=[2, 1], weights=[0.5, 0.5])[0]\n",
        "#     if i == 0:\n",
        "#         signal = 0\n",
        "#     elif i == 1:\n",
        "#         signal = 1\n",
        "    \n",
        "    noise_std = random.uniform(noise_std_lower, noise_std_upper)\n",
        "    \n",
        "    if signal == 0:\n",
        "        current_y = make_signal(f=f, signal=True, noise=False, noise_std=noise_std)\n",
        "    elif signal == 1:\n",
        "        current_y = make_signal(f=f, signal=False, noise=True, noise_std=noise_std)\n",
        "    elif signal == 2:\n",
        "        current_y = make_signal(f=f, signal=True, noise=True, noise_std=noise_std)\n",
        "    \n",
        "    \n",
        "    \n",
        "    y_fft = fft(current_y)\n",
        "    \n",
        "    current_y = [[x.real, x.imag, f] for x in y_fft]\n",
        "\n",
        "#     current_y = [[x] for x in current_y]\n",
        "#     freqs = [[f] * len(current_y)]\n",
        "    \n",
        "    if signal == 0 or signal == 2:\n",
        "        was_signal_there = 1\n",
        "    elif signal == 1:\n",
        "        was_signal_there = 0\n",
        "        \n",
        "    f_s.append(f)\n",
        "#     noises.append(noise_amp)\n",
        "    \n",
        "#     current_y = np.append(current_y, int(signal))\n",
        "    labels.append([int(was_signal_there)])\n",
        "    all_data_raw.append(current_y)"
      ],
      "execution_count": 14,
      "outputs": []
    },
    {
      "cell_type": "code",
      "metadata": {
        "colab": {
          "base_uri": "https://localhost:8080/"
        },
        "id": "BOuUpJy6ANyO",
        "outputId": "6e6a263c-32ad-465c-f865-2552ae43d124"
      },
      "source": [
        "np.array(all_data_raw).shape"
      ],
      "execution_count": 15,
      "outputs": [
        {
          "output_type": "execute_result",
          "data": {
            "text/plain": [
              "(3000, 1000, 3)"
            ]
          },
          "metadata": {
            "tags": []
          },
          "execution_count": 15
        }
      ]
    },
    {
      "cell_type": "code",
      "metadata": {
        "colab": {
          "base_uri": "https://localhost:8080/"
        },
        "id": "njqPLWImAO_K",
        "outputId": "ab6a9a38-9412-4027-eaec-135e534dccaa"
      },
      "source": [
        "print(np.array(all_data_raw).shape)\n",
        "\n",
        "print(np.array(all_data_raw[train_size - test_size:]).shape)"
      ],
      "execution_count": 16,
      "outputs": [
        {
          "output_type": "stream",
          "text": [
            "(3000, 1000, 3)\n",
            "(300, 1000, 3)\n"
          ],
          "name": "stdout"
        }
      ]
    },
    {
      "cell_type": "code",
      "metadata": {
        "colab": {
          "base_uri": "https://localhost:8080/"
        },
        "id": "OR_R4efDAPsT",
        "outputId": "300429da-f3f7-4612-db9b-9b69030370df"
      },
      "source": [
        "np.array(all_data_raw).shape"
      ],
      "execution_count": 17,
      "outputs": [
        {
          "output_type": "execute_result",
          "data": {
            "text/plain": [
              "(3000, 1000, 3)"
            ]
          },
          "metadata": {
            "tags": []
          },
          "execution_count": 17
        }
      ]
    },
    {
      "cell_type": "code",
      "metadata": {
        "colab": {
          "base_uri": "https://localhost:8080/"
        },
        "id": "Bf4gJmccAQgc",
        "outputId": "5cc2c790-35b3-4131-ca66-cedbfc3289e3"
      },
      "source": [
        "x_train = np.array(all_data_raw[:train_size - test_size])\n",
        "y_train = np.array(labels[:train_size - test_size])\n",
        "\n",
        "x_train.shape, y_train.shape"
      ],
      "execution_count": 18,
      "outputs": [
        {
          "output_type": "execute_result",
          "data": {
            "text/plain": [
              "((2700, 1000, 3), (2700, 1))"
            ]
          },
          "metadata": {
            "tags": []
          },
          "execution_count": 18
        }
      ]
    },
    {
      "cell_type": "code",
      "metadata": {
        "colab": {
          "base_uri": "https://localhost:8080/",
          "height": 282
        },
        "id": "Pw75RZ_bASEM",
        "outputId": "c145ab3a-aa06-453f-8cb4-2f444f19eb87"
      },
      "source": [
        "plt.plot(x_train[15][:,1])"
      ],
      "execution_count": 19,
      "outputs": [
        {
          "output_type": "execute_result",
          "data": {
            "text/plain": [
              "[<matplotlib.lines.Line2D at 0x7f114174d590>]"
            ]
          },
          "metadata": {
            "tags": []
          },
          "execution_count": 19
        },
        {
          "output_type": "display_data",
          "data": {
            "image/png": "[encoded data removed]",
            "text/plain": [
              "<Figure size 432x288 with 1 Axes>"
            ]
          },
          "metadata": {
            "tags": [],
            "needs_background": "light"
          }
        }
      ]
    },
    {
      "cell_type": "code",
      "metadata": {
        "colab": {
          "base_uri": "https://localhost:8080/"
        },
        "id": "v75vhm1SATcu",
        "outputId": "e7757be7-14a8-406b-e012-2812979d0a32"
      },
      "source": [
        "x_test = np.array(all_data_raw[train_size - test_size:])\n",
        "y_test = np.array(labels[train_size - test_size:])\n",
        "\n",
        "x_test.shape, y_test.shape"
      ],
      "execution_count": 20,
      "outputs": [
        {
          "output_type": "execute_result",
          "data": {
            "text/plain": [
              "((300, 1000, 3), (300, 1))"
            ]
          },
          "metadata": {
            "tags": []
          },
          "execution_count": 20
        }
      ]
    },
    {
      "cell_type": "code",
      "metadata": {
        "colab": {
          "base_uri": "https://localhost:8080/"
        },
        "id": "HI68lYdGAUhx",
        "outputId": "4f8a7117-ee69-4e0d-a791-94c55aefdfc9"
      },
      "source": [
        "y_train.flatten()"
      ],
      "execution_count": 21,
      "outputs": [
        {
          "output_type": "execute_result",
          "data": {
            "text/plain": [
              "array([1, 0, 1, ..., 0, 0, 0])"
            ]
          },
          "metadata": {
            "tags": []
          },
          "execution_count": 21
        }
      ]
    },
    {
      "cell_type": "code",
      "metadata": {
        "id": "8YlEn9iNAVpB"
      },
      "source": [
        "class LayerNormalization(tf.keras.layers.Layer):\n",
        "    \n",
        "    \"\"\" \n",
        "    \n",
        "    Layer normalization layer modified from https://github.com/CyberZHG based on [Layer Normalization](https://arxiv.org/pdf/1607.06450.pdf)\n",
        "    \n",
        "    Parameters\n",
        "    ----------\n",
        "    center: bool\n",
        "        Add an offset parameter if it is True. \n",
        "        \n",
        "    scale: bool\n",
        "        Add a scale parameter if it is True.     \n",
        "        \n",
        "    epsilon: bool\n",
        "        Epsilon for calculating variance.     \n",
        "        \n",
        "    gamma_initializer: str\n",
        "        Initializer for the gamma weight.     \n",
        "        \n",
        "    beta_initializer: str\n",
        "        Initializer for the beta weight.     \n",
        "                    \n",
        "    Returns\n",
        "    -------  \n",
        "    data: 3D tensor\n",
        "        with shape: (batch_size, …, input_dim) \n",
        "            \n",
        "    \"\"\"   \n",
        "              \n",
        "    def __init__(self,\n",
        "                 center=True,\n",
        "                 scale=True,\n",
        "                 epsilon=None,\n",
        "                 gamma_initializer='ones',\n",
        "                 beta_initializer='zeros',\n",
        "                 **kwargs):\n",
        "\n",
        "        super(LayerNormalization, self).__init__(**kwargs)\n",
        "        self.supports_masking = True\n",
        "        self.center = center\n",
        "        self.scale = scale\n",
        "        if epsilon is None:\n",
        "            epsilon = K.epsilon() * K.epsilon()\n",
        "        self.epsilon = epsilon\n",
        "        self.gamma_initializer = tf.keras.initializers.get(gamma_initializer)\n",
        "        self.beta_initializer = tf.keras.initializers.get(beta_initializer)\n",
        "      \n",
        "\n",
        "    def get_config(self):\n",
        "        config = {\n",
        "            'center': self.center,\n",
        "            'scale': self.scale,\n",
        "            'epsilon': self.epsilon,\n",
        "            'gamma_initializer': tf.keras.initializers.serialize(self.gamma_initializer),\n",
        "            'beta_initializer': tf.keras.initializers.serialize(self.beta_initializer),\n",
        "        }\n",
        "        base_config = super(LayerNormalization, self).get_config()\n",
        "        return dict(list(base_config.items()) + list(config.items()))\n",
        "\n",
        "    def compute_output_shape(self, input_shape):\n",
        "        return input_shape\n",
        "\n",
        "    def compute_mask(self, inputs, input_mask=None):\n",
        "        return input_mask\n",
        "\n",
        "    def build(self, input_shape):\n",
        "        self.input_spec = tf.keras.engine.InputSpec(shape=input_shape)\n",
        "        shape = input_shape[-1:]\n",
        "        if self.scale:\n",
        "            self.gamma = self.add_weight(\n",
        "                shape=shape,\n",
        "                initializer=self.gamma_initializer,\n",
        "                name='gamma',\n",
        "            )\n",
        "        if self.center:\n",
        "            self.beta = self.add_weight(\n",
        "                shape=shape,\n",
        "                initializer=self.beta_initializer,\n",
        "                name='beta',\n",
        "            )\n",
        "        super(LayerNormalization, self).build(input_shape)\n",
        "\n",
        "    def call(self, inputs, training=None):\n",
        "        mean = K.mean(inputs, axis=-1, keepdims=True)\n",
        "        variance = K.mean(K.square(inputs - mean), axis=-1, keepdims=True)\n",
        "        std = K.sqrt(variance + self.epsilon)\n",
        "        outputs = (inputs - mean) / std\n",
        "        if self.scale:\n",
        "            outputs *= self.gamma\n",
        "        if self.center:\n",
        "            outputs += self.beta\n",
        "        return outputs\n",
        "\n",
        "    \n",
        "class FeedForward(tf.keras.layers.Layer):\n",
        "    \"\"\"Position-wise feed-forward layer. modified from https://github.com/CyberZHG \n",
        "    # Arguments\n",
        "        units: int >= 0. Dimension of hidden units.\n",
        "        activation: Activation function to use\n",
        "        use_bias: Boolean, whether the layer uses a bias vector.\n",
        "        kernel_initializer: Initializer for the `kernel` weights matrix.\n",
        "        bias_initializer: Initializer for the bias vector.\n",
        "        dropout_rate: 0.0 <= float <= 1.0. Dropout rate for hidden units.\n",
        "    # Input shape\n",
        "        3D tensor with shape: `(batch_size, ..., input_dim)`.\n",
        "    # Output shape\n",
        "        3D tensor with shape: `(batch_size, ..., input_dim)`.\n",
        "    # References\n",
        "        - [Attention is All You Need](https://arxiv.org/pdf/1706.03762.pdf)\n",
        "    \"\"\"\n",
        "    \n",
        "    def __init__(self,\n",
        "                 units,\n",
        "                 activation='relu',\n",
        "                 use_bias=True,\n",
        "                 kernel_initializer='glorot_normal',\n",
        "                 bias_initializer='zeros',\n",
        "                 dropout_rate=0.0,\n",
        "                 **kwargs):\n",
        "        self.supports_masking = True\n",
        "        self.units = units\n",
        "        self.activation = tf.keras.activations.get(activation)\n",
        "        self.use_bias = use_bias\n",
        "        self.kernel_initializer = tf.keras.initializers.get(kernel_initializer)\n",
        "        self.bias_initializer = tf.keras.initializers.get(bias_initializer)\n",
        "        self.dropout_rate = dropout_rate\n",
        "        self.W1, self.b1 = None, None\n",
        "        self.W2, self.b2 = None, None\n",
        "        super(FeedForward, self).__init__(**kwargs)\n",
        "\n",
        "    def get_config(self):\n",
        "        config = {\n",
        "            'units': self.units,\n",
        "            'activation': tf.keras.activations.serialize(self.activation),\n",
        "            'use_bias': self.use_bias,\n",
        "            'kernel_initializer': tf.keras.initializers.serialize(self.kernel_initializer),\n",
        "            'bias_initializer': tf.keras.initializers.serialize(self.bias_initializer),\n",
        "            'dropout_rate': self.dropout_rate,\n",
        "        }\n",
        "        base_config = super(FeedForward, self).get_config()\n",
        "        return dict(list(base_config.items()) + list(config.items()))\n",
        "\n",
        "    def compute_output_shape(self, input_shape):\n",
        "        return input_shape\n",
        "\n",
        "    def compute_mask(self, inputs, input_mask=None):\n",
        "        return input_mask\n",
        "\n",
        "    def build(self, input_shape):\n",
        "        feature_dim = int(input_shape[-1])\n",
        "        self.W1 = self.add_weight(\n",
        "            shape=(feature_dim, self.units),\n",
        "            initializer=self.kernel_initializer,\n",
        "            name='{}_W1'.format(self.name),\n",
        "        )\n",
        "        if self.use_bias:\n",
        "            self.b1 = self.add_weight(\n",
        "                shape=(self.units,),\n",
        "                initializer=self.bias_initializer,\n",
        "                name='{}_b1'.format(self.name),\n",
        "            )\n",
        "        self.W2 = self.add_weight(\n",
        "            shape=(self.units, feature_dim),\n",
        "            initializer=self.kernel_initializer,\n",
        "            name='{}_W2'.format(self.name),\n",
        "        )\n",
        "        if self.use_bias:\n",
        "            self.b2 = self.add_weight(\n",
        "                shape=(feature_dim,),\n",
        "                initializer=self.bias_initializer,\n",
        "                name='{}_b2'.format(self.name),\n",
        "            )\n",
        "        super(FeedForward, self).build(input_shape)\n",
        "\n",
        "    def call(self, x, mask=None, training=None):\n",
        "        h = K.dot(x, self.W1)\n",
        "        if self.use_bias:\n",
        "            h = K.bias_add(h, self.b1)\n",
        "        if self.activation is not None:\n",
        "            h = self.activation(h)\n",
        "        if 0.0 < self.dropout_rate < 1.0:\n",
        "            def dropped_inputs():\n",
        "                return K.dropout(h, self.dropout_rate, K.shape(h))\n",
        "            h = K.in_train_phase(dropped_inputs, h, training=training)\n",
        "        y = K.dot(h, self.W2)\n",
        "        if self.use_bias:\n",
        "            y = K.bias_add(y, self.b2)\n",
        "        return y\n",
        "\n",
        "    \n",
        "    \n",
        "    \n",
        "\n",
        "class SeqSelfAttention(tf.keras.layers.Layer):\n",
        "    \"\"\"Layer initialization. modified from https://github.com/CyberZHG\n",
        "    For additive attention, see: https://arxiv.org/pdf/1806.01264.pdf\n",
        "    :param units: The dimension of the vectors that used to calculate the attention weights.\n",
        "    :param attention_width: The width of local attention.\n",
        "    :param attention_type: 'additive' or 'multiplicative'.\n",
        "    :param return_attention: Whether to return the attention weights for visualization.\n",
        "    :param history_only: Only use historical pieces of data.\n",
        "    :param kernel_initializer: The initializer for weight matrices.\n",
        "    :param bias_initializer: The initializer for biases.\n",
        "    :param kernel_regularizer: The regularization for weight matrices.\n",
        "    :param bias_regularizer: The regularization for biases.\n",
        "    :param kernel_constraint: The constraint for weight matrices.\n",
        "    :param bias_constraint: The constraint for biases.\n",
        "    :param use_additive_bias: Whether to use bias while calculating the relevance of inputs features\n",
        "                              in additive mode.\n",
        "    :param use_attention_bias: Whether to use bias while calculating the weights of attention.\n",
        "    :param attention_activation: The activation used for calculating the weights of attention.\n",
        "    :param attention_regularizer_weight: The weights of attention regularizer.\n",
        "    :param kwargs: Parameters for parent class.\n",
        "    \"\"\"\n",
        "        \n",
        "    ATTENTION_TYPE_ADD = 'additive'\n",
        "    ATTENTION_TYPE_MUL = 'multiplicative'\n",
        "\n",
        "    def __init__(self,\n",
        "                 units=32,\n",
        "                 attention_width=None,\n",
        "                 attention_type=ATTENTION_TYPE_ADD,\n",
        "                 return_attention=False,\n",
        "                 history_only=False,\n",
        "                 kernel_initializer='glorot_normal',\n",
        "                 bias_initializer='zeros',\n",
        "                 kernel_regularizer=None,\n",
        "                 bias_regularizer=None,\n",
        "                 kernel_constraint=None,\n",
        "                 bias_constraint=None,\n",
        "                 use_additive_bias=True,\n",
        "                 use_attention_bias=True,\n",
        "                 attention_activation=None,\n",
        "                 attention_regularizer_weight=0.0,\n",
        "                 **kwargs):\n",
        "\n",
        "        super(SeqSelfAttention, self).__init__(**kwargs)\n",
        "        self.supports_masking = True\n",
        "        self.units = units\n",
        "        self.attention_width = attention_width\n",
        "        self.attention_type = attention_type\n",
        "        self.return_attention = return_attention\n",
        "        self.history_only = history_only\n",
        "        if history_only and attention_width is None:\n",
        "            self.attention_width = int(1e9)\n",
        "\n",
        "        self.use_additive_bias = use_additive_bias\n",
        "        self.use_attention_bias = use_attention_bias\n",
        "        self.kernel_initializer = tf.keras.initializers.get(kernel_initializer)\n",
        "        self.bias_initializer = tf.keras.initializers.get(bias_initializer)\n",
        "        self.kernel_regularizer = tf.keras.regularizers.get(kernel_regularizer)\n",
        "        self.bias_regularizer = tf.keras.regularizers.get(bias_regularizer)\n",
        "        self.kernel_constraint = tf.keras.constraints.get(kernel_constraint)\n",
        "        self.bias_constraint = tf.keras.constraints.get(bias_constraint)\n",
        "        self.attention_activation = tf.keras.activations.get(attention_activation)\n",
        "        self.attention_regularizer_weight = attention_regularizer_weight\n",
        "        self._backend = keras.backend.backend()\n",
        "\n",
        "        if attention_type == SeqSelfAttention.ATTENTION_TYPE_ADD:\n",
        "            self.Wx, self.Wt, self.bh = None, None, None\n",
        "            self.Wa, self.ba = None, None\n",
        "        elif attention_type == SeqSelfAttention.ATTENTION_TYPE_MUL:\n",
        "            self.Wa, self.ba = None, None\n",
        "        else:\n",
        "            raise NotImplementedError('No implementation for attention type : ' + attention_type)\n",
        "\n",
        "    def get_config(self):\n",
        "        config = {\n",
        "            'units': self.units,\n",
        "            'attention_width': self.attention_width,\n",
        "            'attention_type': self.attention_type,\n",
        "            'return_attention': self.return_attention,\n",
        "            'history_only': self.history_only,\n",
        "            'use_additive_bias': self.use_additive_bias,\n",
        "            'use_attention_bias': self.use_attention_bias,\n",
        "            'kernel_initializer': tf.keras.regularizers.serialize(self.kernel_initializer),\n",
        "            'bias_initializer': tf.keras.regularizers.serialize(self.bias_initializer),\n",
        "            'kernel_regularizer': tf.keras.regularizers.serialize(self.kernel_regularizer),\n",
        "            'bias_regularizer': tf.keras.regularizers.serialize(self.bias_regularizer),\n",
        "            'kernel_constraint': tf.keras.constraints.serialize(self.kernel_constraint),\n",
        "            'bias_constraint': tf.keras.constraints.serialize(self.bias_constraint),\n",
        "            'attention_activation': tf.keras.activations.serialize(self.attention_activation),\n",
        "            'attention_regularizer_weight': self.attention_regularizer_weight,\n",
        "        }\n",
        "        base_config = super(SeqSelfAttention, self).get_config()\n",
        "        return dict(list(base_config.items()) + list(config.items()))\n",
        "\n",
        "    def build(self, input_shape):\n",
        "        if self.attention_type == SeqSelfAttention.ATTENTION_TYPE_ADD:\n",
        "            self._build_additive_attention(input_shape)\n",
        "        elif self.attention_type == SeqSelfAttention.ATTENTION_TYPE_MUL:\n",
        "            self._build_multiplicative_attention(input_shape)\n",
        "        super(SeqSelfAttention, self).build(input_shape)\n",
        "\n",
        "    def _build_additive_attention(self, input_shape):\n",
        "        feature_dim = int(input_shape[2])\n",
        "\n",
        "        self.Wt = self.add_weight(shape=(feature_dim, self.units),\n",
        "                                  name='{}_Add_Wt'.format(self.name),\n",
        "                                  initializer=self.kernel_initializer,\n",
        "                                  regularizer=self.kernel_regularizer,\n",
        "                                  constraint=self.kernel_constraint)\n",
        "        self.Wx = self.add_weight(shape=(feature_dim, self.units),\n",
        "                                  name='{}_Add_Wx'.format(self.name),\n",
        "                                  initializer=self.kernel_initializer,\n",
        "                                  regularizer=self.kernel_regularizer,\n",
        "                                  constraint=self.kernel_constraint)\n",
        "        if self.use_additive_bias:\n",
        "            self.bh = self.add_weight(shape=(self.units,),\n",
        "                                      name='{}_Add_bh'.format(self.name),\n",
        "                                      initializer=self.bias_initializer,\n",
        "                                      regularizer=self.bias_regularizer,\n",
        "                                      constraint=self.bias_constraint)\n",
        "\n",
        "        self.Wa = self.add_weight(shape=(self.units, 1),\n",
        "                                  name='{}_Add_Wa'.format(self.name),\n",
        "                                  initializer=self.kernel_initializer,\n",
        "                                  regularizer=self.kernel_regularizer,\n",
        "                                  constraint=self.kernel_constraint)\n",
        "        if self.use_attention_bias:\n",
        "            self.ba = self.add_weight(shape=(1,),\n",
        "                                      name='{}_Add_ba'.format(self.name),\n",
        "                                      initializer=self.bias_initializer,\n",
        "                                      regularizer=self.bias_regularizer,\n",
        "                                      constraint=self.bias_constraint)\n",
        "\n",
        "    def _build_multiplicative_attention(self, input_shape):\n",
        "        feature_dim = int(input_shape[2])\n",
        "\n",
        "        self.Wa = self.add_weight(shape=(feature_dim, feature_dim),\n",
        "                                  name='{}_Mul_Wa'.format(self.name),\n",
        "                                  initializer=self.kernel_initializer,\n",
        "                                  regularizer=self.kernel_regularizer,\n",
        "                                  constraint=self.kernel_constraint)\n",
        "        if self.use_attention_bias:\n",
        "            self.ba = self.add_weight(shape=(1,),\n",
        "                                      name='{}_Mul_ba'.format(self.name),\n",
        "                                      initializer=self.bias_initializer,\n",
        "                                      regularizer=self.bias_regularizer,\n",
        "                                      constraint=self.bias_constraint)\n",
        "\n",
        "    def call(self, inputs, mask=None, **kwargs):\n",
        "        input_len = K.shape(inputs)[1]\n",
        "\n",
        "        if self.attention_type == SeqSelfAttention.ATTENTION_TYPE_ADD:\n",
        "            e = self._call_additive_emission(inputs)\n",
        "        elif self.attention_type == SeqSelfAttention.ATTENTION_TYPE_MUL:\n",
        "            e = self._call_multiplicative_emission(inputs)\n",
        "\n",
        "        if self.attention_activation is not None:\n",
        "            e = self.attention_activation(e)\n",
        "        e = K.exp(e - K.max(e, axis=-1, keepdims=True))\n",
        "        if self.attention_width is not None:\n",
        "            if self.history_only:\n",
        "                lower = K.arange(0, input_len) - (self.attention_width - 1)\n",
        "            else:\n",
        "                lower = K.arange(0, input_len) - self.attention_width // 2\n",
        "            lower = K.expand_dims(lower, axis=-1)\n",
        "            upper = lower + self.attention_width\n",
        "            indices = K.expand_dims(K.arange(0, input_len), axis=0)\n",
        "            e = e * K.cast(lower <= indices, K.floatx()) * K.cast(indices < upper, K.floatx())\n",
        "        if mask is not None:\n",
        "            mask = K.cast(mask, K.floatx())\n",
        "            mask = K.expand_dims(mask)\n",
        "            e = K.permute_dimensions(K.permute_dimensions(e * mask, (0, 2, 1)) * mask, (0, 2, 1))\n",
        "\n",
        "        # a_{t} = \\text{softmax}(e_t)\n",
        "        s = K.sum(e, axis=-1, keepdims=True)\n",
        "        a = e / (s + K.epsilon())\n",
        "\n",
        "        # l_t = \\sum_{t'} a_{t, t'} x_{t'}\n",
        "        v = K.batch_dot(a, inputs)\n",
        "        if self.attention_regularizer_weight > 0.0:\n",
        "            self.add_loss(self._attention_regularizer(a))\n",
        "\n",
        "        if self.return_attention:\n",
        "            return [v, a]\n",
        "        return v\n",
        "\n",
        "    def _call_additive_emission(self, inputs):\n",
        "        input_shape = K.shape(inputs)\n",
        "        batch_size, input_len = input_shape[0], input_shape[1]\n",
        "\n",
        "        # h_{t, t'} = \\tanh(x_t^T W_t + x_{t'}^T W_x + b_h)\n",
        "        q = K.expand_dims(K.dot(inputs, self.Wt), 2)\n",
        "        k = K.expand_dims(K.dot(inputs, self.Wx), 1)\n",
        "        if self.use_additive_bias:\n",
        "            h = K.tanh(q + k + self.bh)\n",
        "        else:\n",
        "            h = K.tanh(q + k)\n",
        "\n",
        "        # e_{t, t'} = W_a h_{t, t'} + b_a\n",
        "        if self.use_attention_bias:\n",
        "            e = K.reshape(K.dot(h, self.Wa) + self.ba, (batch_size, input_len, input_len))\n",
        "        else:\n",
        "            e = K.reshape(K.dot(h, self.Wa), (batch_size, input_len, input_len))\n",
        "        return e\n",
        "\n",
        "    def _call_multiplicative_emission(self, inputs):\n",
        "        # e_{t, t'} = x_t^T W_a x_{t'} + b_a\n",
        "        e = K.batch_dot(K.dot(inputs, self.Wa), K.permute_dimensions(inputs, (0, 2, 1)))\n",
        "        if self.use_attention_bias:\n",
        "            e += self.ba[0]\n",
        "        return e\n",
        "\n",
        "    def compute_output_shape(self, input_shape):\n",
        "        output_shape = input_shape\n",
        "        if self.return_attention:\n",
        "            attention_shape = (input_shape[0], output_shape[1], input_shape[1])\n",
        "            return [output_shape, attention_shape]\n",
        "        return output_shape\n",
        "\n",
        "    def compute_mask(self, inputs, mask=None):\n",
        "        if self.return_attention:\n",
        "            return [mask, None]\n",
        "        return mask\n",
        "\n",
        "    def _attention_regularizer(self, attention):\n",
        "        batch_size = K.cast(K.shape(attention)[0], K.floatx())\n",
        "        input_len = K.shape(attention)[-1]\n",
        "        indices = K.expand_dims(K.arange(0, input_len), axis=0)\n",
        "        diagonal = K.expand_dims(K.arange(0, input_len), axis=-1)\n",
        "        eye = K.cast(K.equal(indices, diagonal), K.floatx())\n",
        "        return self.attention_regularizer_weight * K.sum(K.square(K.batch_dot(\n",
        "            attention,\n",
        "            K.permute_dimensions(attention, (0, 2, 1))) - eye)) / batch_size\n",
        "\n",
        "    @staticmethod\n",
        "    def get_custom_objects():\n",
        "        return {'SeqSelfAttention': SeqSelfAttention}\n",
        "\n",
        "def f1(y_true, y_pred):\n",
        "    \n",
        "    \"\"\" \n",
        "    \n",
        "    Calculate F1-score.\n",
        "    \n",
        "    Parameters\n",
        "    ----------\n",
        "    y_true : 1D array\n",
        "        Ground truth labels. \n",
        "        \n",
        "    y_pred : 1D array\n",
        "        Predicted labels.     \n",
        "        \n",
        "    Returns\n",
        "    -------  \n",
        "    f1 : float\n",
        "        Calculated F1-score. \n",
        "        \n",
        "    \"\"\"     \n",
        "    \n",
        "    def recall(y_true, y_pred):\n",
        "        'Recall metric. Only computes a batch-wise average of recall. Computes the recall, a metric for multi-label classification of how many relevant items are selected.'\n",
        "\n",
        "        true_positives = K.sum(K.round(K.clip(y_true * y_pred, 0, 1)))\n",
        "        possible_positives = K.sum(K.round(K.clip(y_true, 0, 1)))\n",
        "        recall = true_positives / (possible_positives + K.epsilon())\n",
        "        return recall\n",
        "\n",
        "    def precision(y_true, y_pred):\n",
        "        'Precision metric. Only computes a batch-wise average of precision. Computes the precision, a metric for multi-label classification of how many selected items are relevant.'\n",
        "\n",
        "        true_positives = K.sum(K.round(K.clip(y_true * y_pred, 0, 1)))\n",
        "        predicted_positives = K.sum(K.round(K.clip(y_pred, 0, 1)))\n",
        "        precision = true_positives / (predicted_positives + K.epsilon())\n",
        "        return precision\n",
        "    \n",
        "    precision = precision(y_true, y_pred)\n",
        "    recall = recall(y_true, y_pred)\n",
        "    return 2*((precision*recall)/(precision+recall+K.epsilon()))\n",
        "\n",
        "\n",
        "\n",
        "def _block_BiLSTM(filters, drop_rate, padding, inpR, regularizer):\n",
        "    'Returns LSTM residual block'    \n",
        "    prev = inpR\n",
        "    x_rnn = Bidirectional(LSTM(filters, \n",
        "                               return_sequences=True, \n",
        "                               dropout=drop_rate, \n",
        "                               recurrent_dropout=drop_rate,\n",
        "                               kernel_regularizer=regularizer, \n",
        "                               recurrent_regularizer=regularizer, \n",
        "                               bias_regularizer=regularizer,\n",
        "                               activity_regularizer=regularizer\n",
        "                              ))(prev)\n",
        "    \n",
        "    NiN = Conv1D(filters, 1, padding = padding, kernel_regularizer = regularizer, bias_regularizer = regularizer,)(x_rnn)     \n",
        "    res_out = BatchNormalization()(NiN)\n",
        "    return res_out\n",
        "\n",
        "\n",
        "def _block_CNN_1(filters, ker, drop_rate, activation, padding, inpC, regularizer): \n",
        "    ' Returns CNN residual blocks '\n",
        "    prev = inpC\n",
        "    layer_1 = BatchNormalization()(prev) \n",
        "    act_1 = Activation(activation)(layer_1) \n",
        "    act_1 = SpatialDropout1D(drop_rate)(act_1, training=True)\n",
        "    conv_1 = Conv1D(filters, ker, padding = padding, kernel_regularizer = regularizer, bias_regularizer = regularizer)(act_1) \n",
        "    \n",
        "    layer_2 = BatchNormalization()(conv_1) \n",
        "    act_2 = Activation(activation)(layer_2) \n",
        "    act_2 = SpatialDropout1D(drop_rate)(act_2, training=True)\n",
        "    conv_2 = Conv1D(filters, ker, padding = padding, kernel_regularizer = regularizer, bias_regularizer = regularizer)(act_2)\n",
        "    \n",
        "    res_out = add([prev, conv_2])\n",
        "    \n",
        "    return res_out \n",
        "\n",
        "\n",
        "def _transformer(drop_rate, width, name, inpC, regularizer): \n",
        "    ' Returns a transformer block containing one addetive attention and one feed  forward layer with residual connections '\n",
        "    x = inpC\n",
        "    \n",
        "    att_layer, weight = SeqSelfAttention(return_attention =True,                                       \n",
        "                                         attention_width = width,\n",
        "                                         name=name)(x)\n",
        "   \n",
        "#  att_layer = Dropout(drop_rate)(att_layer, training=True)    \n",
        "    att_layer2 = add([x, att_layer])    \n",
        "    norm_layer = LayerNormalization()(att_layer2)\n",
        "    \n",
        "    FF = FeedForward(units=16, dropout_rate=drop_rate)(norm_layer) # Was 128.\n",
        "    \n",
        "    FF_add = add([norm_layer, FF])    \n",
        "    norm_out = LayerNormalization()(FF_add)\n",
        "    \n",
        "    return norm_out, weight \n",
        "\n",
        "\n"
      ],
      "execution_count": 22,
      "outputs": []
    },
    {
      "cell_type": "code",
      "metadata": {
        "id": "qQYYHNWZAWsA"
      },
      "source": [
        "# ker_regul = keras.regularizers.l2(1e-10)\n",
        "# bias_regul = keras.regularizers.l2(1e-10)\n",
        "\n",
        "ker_regul = tf.keras.regularizers.l2(1e-50)\n",
        "bias_regul = tf.keras.regularizers.l2(1e-50)\n",
        "\n",
        "\n",
        "# 5e-2 This works well when noise = [1, 1.5]\n",
        "\n",
        "dropout_rate = 0.00\n",
        "\n",
        "# m = 2\n",
        "# n = 2\n",
        "\n",
        "m = 9\n",
        "n = 9\n",
        "\n",
        "\n",
        "def autoencoder_model(X, attention=False):\n",
        "    inputs = tf.keras.layers.Input(shape=(X.shape[1], X.shape[2]))\n",
        "    \n",
        "    e = Conv1D( m, \n",
        "                [n], \n",
        "                activation = 'relu',\n",
        "                padding='causal',\n",
        "                kernel_regularizer = ker_regul,\n",
        "                bias_regularizer = bias_regul,\n",
        "                )(inputs)             \n",
        "    \n",
        "    e = MaxPooling1D(2, padding='same')(e)      \n",
        "    \n",
        "    \n",
        "    \n",
        "#     layer_1 = BatchNormalization()(e) \n",
        "#     act_1 = Activation('relu')(layer_1) \n",
        "#     act_1 = SpatialDropout1D(dropout_rate)(act_1, training=True)\n",
        "#     e = Conv1D(15, 9, padding='causal', kernel_regularizer = ker_regul, bias_regularizer = bias_regul,)(act_1) \n",
        "    \n",
        "#     e = _block_BiLSTM(1, dropout_rate, 'causal', e, ker_regul)\n",
        "    e = _block_BiLSTM(5, dropout_rate, 'causal', e, ker_regul) # Remove\n",
        "    \n",
        "    \n",
        "    if attention:\n",
        "        x, weightdD0 = _transformer(dropout_rate, None, 'attentionD0', e, ker_regul)\n",
        "        encoded, weightdD = _transformer(dropout_rate, None, 'attentionD', x, ker_regul)\n",
        "        e = encoded\n",
        "    \n",
        "    # Decoder\n",
        "#     e = UpSampling1D(2)(e)    # Remove\n",
        "\n",
        "    e = UpSampling1D(8)(e)\n",
        "    e = Conv1D(m, \n",
        "               [n], \n",
        "               padding = 'causal', \n",
        "               activation = 'relu',\n",
        "               kernel_regularizer = ker_regul, \n",
        "               bias_regularizer = bias_regul\n",
        "               )(e)\n",
        "\n",
        "    # Decoder done.\n",
        "    \n",
        "#     e = Conv1D(11, 9, padding='causal', activation='relu', name='detector',\n",
        "#                    kernel_regularizer = ker_regul, \n",
        "#                    bias_regularizer = bias_regul)(e)\n",
        "    \n",
        "    e = Flatten()(e)\n",
        "    \n",
        "    e = Dense(32)(e) # Remove\n",
        "    e = Dense(16)(e) # Remove\n",
        "    e = Dense(8)(e) # Remove\n",
        "    e = Dense(2)(e)\n",
        "    e = Dense(1, activation='sigmoid')(e)\n",
        "    \n",
        "    model = Model(inputs=inputs, outputs=e)\n",
        "    \n",
        "    return model"
      ],
      "execution_count": 23,
      "outputs": []
    },
    {
      "cell_type": "code",
      "metadata": {
        "colab": {
          "base_uri": "https://localhost:8080/"
        },
        "id": "nnj21vs2AZ2S",
        "outputId": "ef20d61d-de4b-4bbd-f98d-1978942025b4"
      },
      "source": [
        "X_tensor = tf.convert_to_tensor(x_train)\n",
        "Y_tensor = tf.convert_to_tensor(y_train)\n",
        "\n",
        "X_tensor.shape, Y_tensor.shape"
      ],
      "execution_count": 24,
      "outputs": [
        {
          "output_type": "execute_result",
          "data": {
            "text/plain": [
              "(TensorShape([2700, 1000, 3]), TensorShape([2700, 1]))"
            ]
          },
          "metadata": {
            "tags": []
          },
          "execution_count": 24
        }
      ]
    },
    {
      "cell_type": "code",
      "metadata": {
        "colab": {
          "base_uri": "https://localhost:8080/"
        },
        "id": "CUxoi79lAbTv",
        "outputId": "f3036e27-76c4-4e57-a6c4-31c55b3311eb"
      },
      "source": [
        "attention = False\n",
        "\n",
        "with tpu_strategy.scope(): # creating the model in the TPUStrategy scope means we will train the model on the TPU\n",
        "  # model = create_model()\n",
        "  model = autoencoder_model(x_train, attention=attention)\n",
        "\n",
        "model.summary()\n"
      ],
      "execution_count": 32,
      "outputs": [
        {
          "output_type": "stream",
          "text": [
            "Model: \"model_1\"\n",
            "_________________________________________________________________\n",
            "Layer (type)                 Output Shape              Param #   \n",
            "=================================================================\n",
            "input_2 (InputLayer)         [(None, 1000, 3)]         0         \n",
            "_________________________________________________________________\n",
            "conv1d_3 (Conv1D)            (None, 1000, 9)           252       \n",
            "_________________________________________________________________\n",
            "max_pooling1d_1 (MaxPooling1 (None, 500, 9)            0         \n",
            "_________________________________________________________________\n",
            "bidirectional_1 (Bidirection (None, 500, 10)           600       \n",
            "_________________________________________________________________\n",
            "conv1d_4 (Conv1D)            (None, 500, 5)            55        \n",
            "_________________________________________________________________\n",
            "batch_normalization_1 (Batch (None, 500, 5)            20        \n",
            "_________________________________________________________________\n",
            "up_sampling1d_1 (UpSampling1 (None, 4000, 5)           0         \n",
            "_________________________________________________________________\n",
            "conv1d_5 (Conv1D)            (None, 4000, 9)           414       \n",
            "_________________________________________________________________\n",
            "flatten_1 (Flatten)          (None, 36000)             0         \n",
            "_________________________________________________________________\n",
            "dense_5 (Dense)              (None, 32)                1152032   \n",
            "_________________________________________________________________\n",
            "dense_6 (Dense)              (None, 16)                528       \n",
            "_________________________________________________________________\n",
            "dense_7 (Dense)              (None, 8)                 136       \n",
            "_________________________________________________________________\n",
            "dense_8 (Dense)              (None, 2)                 18        \n",
            "_________________________________________________________________\n",
            "dense_9 (Dense)              (None, 1)                 3         \n",
            "=================================================================\n",
            "Total params: 1,154,058\n",
            "Trainable params: 1,154,048\n",
            "Non-trainable params: 10\n",
            "_________________________________________________________________\n"
          ],
          "name": "stdout"
        }
      ]
    },
    {
      "cell_type": "code",
      "metadata": {
        "colab": {
          "base_uri": "https://localhost:8080/"
        },
        "id": "noPG46knAcPU",
        "outputId": "bed449f4-d485-4b7e-ee6a-3b7e8b3884a5"
      },
      "source": [
        "model.summary()"
      ],
      "execution_count": 33,
      "outputs": [
        {
          "output_type": "stream",
          "text": [
            "Model: \"model_1\"\n",
            "_________________________________________________________________\n",
            "Layer (type)                 Output Shape              Param #   \n",
            "=================================================================\n",
            "input_2 (InputLayer)         [(None, 1000, 3)]         0         \n",
            "_________________________________________________________________\n",
            "conv1d_3 (Conv1D)            (None, 1000, 9)           252       \n",
            "_________________________________________________________________\n",
            "max_pooling1d_1 (MaxPooling1 (None, 500, 9)            0         \n",
            "_________________________________________________________________\n",
            "bidirectional_1 (Bidirection (None, 500, 10)           600       \n",
            "_________________________________________________________________\n",
            "conv1d_4 (Conv1D)            (None, 500, 5)            55        \n",
            "_________________________________________________________________\n",
            "batch_normalization_1 (Batch (None, 500, 5)            20        \n",
            "_________________________________________________________________\n",
            "up_sampling1d_1 (UpSampling1 (None, 4000, 5)           0         \n",
            "_________________________________________________________________\n",
            "conv1d_5 (Conv1D)            (None, 4000, 9)           414       \n",
            "_________________________________________________________________\n",
            "flatten_1 (Flatten)          (None, 36000)             0         \n",
            "_________________________________________________________________\n",
            "dense_5 (Dense)              (None, 32)                1152032   \n",
            "_________________________________________________________________\n",
            "dense_6 (Dense)              (None, 16)                528       \n",
            "_________________________________________________________________\n",
            "dense_7 (Dense)              (None, 8)                 136       \n",
            "_________________________________________________________________\n",
            "dense_8 (Dense)              (None, 2)                 18        \n",
            "_________________________________________________________________\n",
            "dense_9 (Dense)              (None, 1)                 3         \n",
            "=================================================================\n",
            "Total params: 1,154,058\n",
            "Trainable params: 1,154,048\n",
            "Non-trainable params: 10\n",
            "_________________________________________________________________\n"
          ],
          "name": "stdout"
        }
      ]
    },
    {
      "cell_type": "code",
      "metadata": {
        "id": "_5FSqTJfKLF3"
      },
      "source": [
        "model.compile(loss=\"binary_crossentropy\", optimizer=Adam(learning_rate=0.01), metrics=[f1]) "
      ],
      "execution_count": 36,
      "outputs": []
    },
    {
      "cell_type": "code",
      "metadata": {
        "colab": {
          "base_uri": "https://localhost:8080/"
        },
        "id": "hQJvh9qEKFNt",
        "outputId": "1ecd0bc3-cf76-45f2-d34d-4da11df787cb"
      },
      "source": [
        " EPOCH = 100\n",
        "\n",
        "validation = False\n",
        "\n",
        "x_train = X_tensor\n",
        "y_train_binary = Y_tensor \n",
        "\n",
        "\n",
        "# batch_size=16,\n",
        "with tpu_strategy.scope():\n",
        "  history = model.fit(x_train,\n",
        "                      y_train_binary,\n",
        "                      epochs=EPOCH,\n",
        "                      validation_split=0.3)"
      ],
      "execution_count": 37,
      "outputs": [
        {
          "output_type": "stream",
          "text": [
            "Epoch 1/100\n",
            "60/60 [==============================] - 70s 689ms/step - loss: nan - f1: 0.3685 - val_loss: nan - val_f1: 0.6023\n",
            "Epoch 2/100\n",
            "60/60 [==============================] - 6s 104ms/step - loss: nan - f1: 0.5510 - val_loss: nan - val_f1: 0.5861\n",
            "Epoch 3/100\n",
            "60/60 [==============================] - 6s 105ms/step - loss: nan - f1: 0.6682 - val_loss: nan - val_f1: 0.6516\n",
            "Epoch 4/100\n",
            "60/60 [==============================] - 6s 104ms/step - loss: nan - f1: 0.7657 - val_loss: nan - val_f1: 0.6371\n",
            "Epoch 5/100\n",
            "60/60 [==============================] - 6s 105ms/step - loss: nan - f1: 0.8217 - val_loss: nan - val_f1: 0.7594\n",
            "Epoch 6/100\n",
            "60/60 [==============================] - 6s 106ms/step - loss: nan - f1: 0.8659 - val_loss: nan - val_f1: 0.7471\n",
            "Epoch 7/100\n",
            "60/60 [==============================] - 6s 106ms/step - loss: nan - f1: 0.8666 - val_loss: nan - val_f1: 0.7874\n",
            "Epoch 8/100\n",
            "60/60 [==============================] - 6s 105ms/step - loss: nan - f1: 0.8931 - val_loss: nan - val_f1: 0.7934\n",
            "Epoch 9/100\n",
            "60/60 [==============================] - 6s 107ms/step - loss: nan - f1: 0.8823 - val_loss: nan - val_f1: 0.7030\n",
            "Epoch 10/100\n",
            "60/60 [==============================] - 6s 107ms/step - loss: nan - f1: 0.8571 - val_loss: nan - val_f1: 0.8024\n",
            "Epoch 11/100\n",
            "60/60 [==============================] - 6s 106ms/step - loss: nan - f1: 0.8766 - val_loss: nan - val_f1: 0.7422\n",
            "Epoch 12/100\n",
            "60/60 [==============================] - 6s 106ms/step - loss: nan - f1: 0.8898 - val_loss: nan - val_f1: 0.8136\n",
            "Epoch 13/100\n",
            "60/60 [==============================] - 6s 105ms/step - loss: nan - f1: 0.8997 - val_loss: nan - val_f1: 0.7777\n",
            "Epoch 14/100\n",
            "60/60 [==============================] - 6s 106ms/step - loss: nan - f1: 0.8854 - val_loss: nan - val_f1: 0.7964\n",
            "Epoch 15/100\n",
            "60/60 [==============================] - 6s 105ms/step - loss: nan - f1: 0.8979 - val_loss: nan - val_f1: 0.8331\n",
            "Epoch 16/100\n",
            "60/60 [==============================] - 6s 106ms/step - loss: nan - f1: 0.8865 - val_loss: nan - val_f1: 0.7804\n",
            "Epoch 17/100\n",
            "60/60 [==============================] - 6s 106ms/step - loss: nan - f1: 0.9060 - val_loss: nan - val_f1: 0.8088\n",
            "Epoch 18/100\n",
            "60/60 [==============================] - 6s 105ms/step - loss: nan - f1: 0.9015 - val_loss: nan - val_f1: 0.8433\n",
            "Epoch 19/100\n",
            "60/60 [==============================] - 6s 106ms/step - loss: nan - f1: 0.9086 - val_loss: nan - val_f1: 0.8550\n",
            "Epoch 20/100\n",
            "60/60 [==============================] - 7s 116ms/step - loss: nan - f1: 0.9092 - val_loss: nan - val_f1: 0.8350\n",
            "Epoch 21/100\n",
            "60/60 [==============================] - 6s 105ms/step - loss: nan - f1: 0.9032 - val_loss: nan - val_f1: 0.8126\n",
            "Epoch 22/100\n",
            "60/60 [==============================] - 6s 106ms/step - loss: nan - f1: 0.8785 - val_loss: nan - val_f1: 0.6796\n",
            "Epoch 23/100\n",
            "60/60 [==============================] - 6s 106ms/step - loss: nan - f1: 0.8894 - val_loss: nan - val_f1: 0.7896\n",
            "Epoch 24/100\n",
            "60/60 [==============================] - 6s 107ms/step - loss: nan - f1: 0.9049 - val_loss: nan - val_f1: 0.8566\n",
            "Epoch 25/100\n",
            "60/60 [==============================] - 6s 106ms/step - loss: nan - f1: 0.9253 - val_loss: nan - val_f1: 0.8835\n",
            "Epoch 26/100\n",
            "60/60 [==============================] - 6s 106ms/step - loss: nan - f1: 0.9139 - val_loss: nan - val_f1: 0.8714\n",
            "Epoch 27/100\n",
            "60/60 [==============================] - 6s 107ms/step - loss: nan - f1: 0.9186 - val_loss: nan - val_f1: 0.8339\n",
            "Epoch 28/100\n",
            "60/60 [==============================] - 6s 105ms/step - loss: nan - f1: 0.8897 - val_loss: nan - val_f1: 0.8582\n",
            "Epoch 29/100\n",
            "60/60 [==============================] - 6s 106ms/step - loss: nan - f1: 0.9199 - val_loss: nan - val_f1: 0.8269\n",
            "Epoch 30/100\n",
            "60/60 [==============================] - 6s 105ms/step - loss: nan - f1: 0.9000 - val_loss: nan - val_f1: 0.8404\n",
            "Epoch 31/100\n",
            "60/60 [==============================] - 6s 105ms/step - loss: nan - f1: 0.9100 - val_loss: nan - val_f1: 0.8732\n",
            "Epoch 32/100\n",
            "60/60 [==============================] - 6s 106ms/step - loss: nan - f1: 0.9112 - val_loss: nan - val_f1: 0.8510\n",
            "Epoch 33/100\n",
            "60/60 [==============================] - 6s 107ms/step - loss: nan - f1: 0.9254 - val_loss: nan - val_f1: 0.8178\n",
            "Epoch 34/100\n",
            "60/60 [==============================] - 6s 107ms/step - loss: nan - f1: 0.9088 - val_loss: nan - val_f1: 0.8615\n",
            "Epoch 35/100\n",
            "60/60 [==============================] - 6s 107ms/step - loss: nan - f1: 0.9130 - val_loss: nan - val_f1: 0.8641\n",
            "Epoch 36/100\n",
            "60/60 [==============================] - 6s 106ms/step - loss: nan - f1: 0.8970 - val_loss: nan - val_f1: 0.8573\n",
            "Epoch 37/100\n",
            "60/60 [==============================] - 6s 107ms/step - loss: nan - f1: 0.9199 - val_loss: nan - val_f1: 0.8099\n",
            "Epoch 38/100\n",
            "60/60 [==============================] - 6s 105ms/step - loss: nan - f1: 0.9119 - val_loss: nan - val_f1: 0.8161\n",
            "Epoch 39/100\n",
            "60/60 [==============================] - 6s 105ms/step - loss: nan - f1: 0.9012 - val_loss: nan - val_f1: 0.8658\n",
            "Epoch 40/100\n",
            "60/60 [==============================] - 6s 104ms/step - loss: nan - f1: 0.9094 - val_loss: nan - val_f1: 0.8568\n",
            "Epoch 41/100\n",
            "60/60 [==============================] - 6s 105ms/step - loss: nan - f1: 0.8948 - val_loss: nan - val_f1: 0.8676\n",
            "Epoch 42/100\n",
            "60/60 [==============================] - 6s 105ms/step - loss: nan - f1: 0.9042 - val_loss: nan - val_f1: 0.8658\n",
            "Epoch 43/100\n",
            "60/60 [==============================] - 6s 105ms/step - loss: nan - f1: 0.9089 - val_loss: nan - val_f1: 0.8699\n",
            "Epoch 44/100\n",
            "60/60 [==============================] - 6s 107ms/step - loss: nan - f1: 0.9132 - val_loss: nan - val_f1: 0.8691\n",
            "Epoch 45/100\n",
            "60/60 [==============================] - 6s 107ms/step - loss: nan - f1: 0.9164 - val_loss: nan - val_f1: 0.8625\n",
            "Epoch 46/100\n",
            "60/60 [==============================] - 6s 108ms/step - loss: nan - f1: 0.9185 - val_loss: nan - val_f1: 0.8486\n",
            "Epoch 47/100\n",
            "60/60 [==============================] - 6s 107ms/step - loss: nan - f1: 0.9130 - val_loss: nan - val_f1: 0.8568\n",
            "Epoch 48/100\n",
            "60/60 [==============================] - 6s 106ms/step - loss: nan - f1: 0.9062 - val_loss: nan - val_f1: 0.8677\n",
            "Epoch 49/100\n",
            "60/60 [==============================] - 6s 105ms/step - loss: nan - f1: 0.9165 - val_loss: nan - val_f1: 0.8547\n",
            "Epoch 50/100\n",
            "60/60 [==============================] - 6s 105ms/step - loss: nan - f1: 0.9073 - val_loss: nan - val_f1: 0.8385\n",
            "Epoch 51/100\n",
            "60/60 [==============================] - 6s 105ms/step - loss: nan - f1: 0.8938 - val_loss: nan - val_f1: 0.8419\n",
            "Epoch 52/100\n",
            "60/60 [==============================] - 6s 106ms/step - loss: nan - f1: 0.8984 - val_loss: nan - val_f1: 0.8166\n",
            "Epoch 53/100\n",
            "60/60 [==============================] - 6s 107ms/step - loss: nan - f1: 0.9159 - val_loss: nan - val_f1: 0.8411\n",
            "Epoch 54/100\n",
            "60/60 [==============================] - 6s 106ms/step - loss: nan - f1: 0.9050 - val_loss: nan - val_f1: 0.8588\n",
            "Epoch 55/100\n",
            "60/60 [==============================] - 6s 107ms/step - loss: nan - f1: 0.9178 - val_loss: nan - val_f1: 0.8668\n",
            "Epoch 56/100\n",
            "60/60 [==============================] - 6s 107ms/step - loss: nan - f1: 0.9232 - val_loss: nan - val_f1: 0.8793\n",
            "Epoch 57/100\n",
            "60/60 [==============================] - 6s 107ms/step - loss: nan - f1: 0.9248 - val_loss: nan - val_f1: 0.8679\n",
            "Epoch 58/100\n",
            "60/60 [==============================] - 6s 106ms/step - loss: nan - f1: 0.9164 - val_loss: nan - val_f1: 0.8463\n",
            "Epoch 59/100\n",
            "60/60 [==============================] - 6s 106ms/step - loss: nan - f1: 0.9090 - val_loss: nan - val_f1: 0.8682\n",
            "Epoch 60/100\n",
            "60/60 [==============================] - 6s 105ms/step - loss: nan - f1: 0.9083 - val_loss: nan - val_f1: 0.8732\n",
            "Epoch 61/100\n",
            "60/60 [==============================] - 6s 105ms/step - loss: nan - f1: 0.9402 - val_loss: nan - val_f1: 0.8660\n",
            "Epoch 62/100\n",
            "60/60 [==============================] - 6s 105ms/step - loss: nan - f1: 0.9302 - val_loss: nan - val_f1: 0.8659\n",
            "Epoch 63/100\n",
            "60/60 [==============================] - 6s 106ms/step - loss: nan - f1: 0.9193 - val_loss: nan - val_f1: 0.8732\n",
            "Epoch 64/100\n",
            "60/60 [==============================] - 6s 107ms/step - loss: nan - f1: 0.9305 - val_loss: nan - val_f1: 0.8587\n",
            "Epoch 65/100\n",
            "60/60 [==============================] - 6s 108ms/step - loss: nan - f1: 0.9302 - val_loss: nan - val_f1: 0.8569\n",
            "Epoch 66/100\n",
            "60/60 [==============================] - 6s 107ms/step - loss: nan - f1: 0.9129 - val_loss: nan - val_f1: 0.8751\n",
            "Epoch 67/100\n",
            "60/60 [==============================] - 6s 108ms/step - loss: nan - f1: 0.9190 - val_loss: nan - val_f1: 0.8615\n",
            "Epoch 68/100\n",
            "60/60 [==============================] - 7s 110ms/step - loss: nan - f1: 0.9261 - val_loss: nan - val_f1: 0.8715\n",
            "Epoch 69/100\n",
            "60/60 [==============================] - 6s 107ms/step - loss: nan - f1: 0.8874 - val_loss: nan - val_f1: 0.8473\n",
            "Epoch 70/100\n",
            "60/60 [==============================] - 6s 106ms/step - loss: nan - f1: 0.9113 - val_loss: nan - val_f1: 0.8581\n",
            "Epoch 71/100\n",
            "60/60 [==============================] - 6s 107ms/step - loss: nan - f1: 0.9214 - val_loss: nan - val_f1: 0.8758\n",
            "Epoch 72/100\n",
            "60/60 [==============================] - 6s 105ms/step - loss: nan - f1: 0.9265 - val_loss: nan - val_f1: 0.8733\n",
            "Epoch 73/100\n",
            "60/60 [==============================] - 6s 106ms/step - loss: nan - f1: 0.9187 - val_loss: nan - val_f1: 0.8640\n",
            "Epoch 74/100\n",
            "60/60 [==============================] - 6s 107ms/step - loss: nan - f1: 0.9083 - val_loss: nan - val_f1: 0.8678\n",
            "Epoch 75/100\n",
            "60/60 [==============================] - 6s 104ms/step - loss: nan - f1: 0.9138 - val_loss: nan - val_f1: 0.8371\n",
            "Epoch 76/100\n",
            "60/60 [==============================] - 6s 106ms/step - loss: nan - f1: 0.9039 - val_loss: nan - val_f1: 0.8517\n",
            "Epoch 77/100\n",
            "60/60 [==============================] - 6s 106ms/step - loss: nan - f1: 0.9352 - val_loss: nan - val_f1: 0.8469\n",
            "Epoch 78/100\n",
            "60/60 [==============================] - 6s 108ms/step - loss: nan - f1: 0.9302 - val_loss: nan - val_f1: 0.8569\n",
            "Epoch 79/100\n",
            "60/60 [==============================] - 6s 108ms/step - loss: nan - f1: 0.9219 - val_loss: nan - val_f1: 0.8374\n",
            "Epoch 80/100\n",
            "60/60 [==============================] - 6s 107ms/step - loss: nan - f1: 0.9005 - val_loss: nan - val_f1: 0.8428\n",
            "Epoch 81/100\n",
            "60/60 [==============================] - 6s 108ms/step - loss: nan - f1: 0.9020 - val_loss: nan - val_f1: 0.8534\n",
            "Epoch 82/100\n",
            "60/60 [==============================] - 6s 107ms/step - loss: nan - f1: 0.9012 - val_loss: nan - val_f1: 0.8584\n",
            "Epoch 83/100\n",
            "60/60 [==============================] - 6s 107ms/step - loss: nan - f1: 0.9066 - val_loss: nan - val_f1: 0.8639\n",
            "Epoch 84/100\n",
            "60/60 [==============================] - 6s 108ms/step - loss: nan - f1: 0.9160 - val_loss: nan - val_f1: 0.8641\n",
            "Epoch 85/100\n",
            "60/60 [==============================] - 6s 105ms/step - loss: nan - f1: 0.9040 - val_loss: nan - val_f1: 0.8593\n",
            "Epoch 86/100\n",
            "60/60 [==============================] - 6s 105ms/step - loss: nan - f1: 0.9333 - val_loss: nan - val_f1: 0.8624\n",
            "Epoch 87/100\n",
            "60/60 [==============================] - 6s 106ms/step - loss: nan - f1: 0.9148 - val_loss: nan - val_f1: 0.8599\n",
            "Epoch 88/100\n",
            "60/60 [==============================] - 6s 105ms/step - loss: nan - f1: 0.9082 - val_loss: nan - val_f1: 0.8544\n",
            "Epoch 89/100\n",
            "60/60 [==============================] - 6s 107ms/step - loss: nan - f1: 0.9156 - val_loss: nan - val_f1: 0.8557\n",
            "Epoch 90/100\n",
            "60/60 [==============================] - 6s 107ms/step - loss: nan - f1: 0.8943 - val_loss: nan - val_f1: 0.7916\n",
            "Epoch 91/100\n",
            "60/60 [==============================] - 6s 107ms/step - loss: nan - f1: 0.8954 - val_loss: nan - val_f1: 0.8548\n",
            "Epoch 92/100\n",
            "60/60 [==============================] - 6s 107ms/step - loss: nan - f1: 0.9125 - val_loss: nan - val_f1: 0.8507\n",
            "Epoch 93/100\n",
            "60/60 [==============================] - 6s 107ms/step - loss: nan - f1: 0.9367 - val_loss: nan - val_f1: 0.8646\n",
            "Epoch 94/100\n",
            "60/60 [==============================] - 6s 107ms/step - loss: nan - f1: 0.9394 - val_loss: nan - val_f1: 0.8625\n",
            "Epoch 95/100\n",
            "60/60 [==============================] - 6s 106ms/step - loss: nan - f1: 0.9364 - val_loss: nan - val_f1: 0.8430\n",
            "Epoch 96/100\n",
            "60/60 [==============================] - 6s 107ms/step - loss: nan - f1: 0.9401 - val_loss: nan - val_f1: 0.8532\n",
            "Epoch 97/100\n",
            "60/60 [==============================] - 6s 106ms/step - loss: nan - f1: 0.8966 - val_loss: nan - val_f1: 0.8520\n",
            "Epoch 98/100\n",
            "60/60 [==============================] - 6s 107ms/step - loss: nan - f1: 0.9094 - val_loss: nan - val_f1: 0.8341\n",
            "Epoch 99/100\n",
            "60/60 [==============================] - 6s 108ms/step - loss: nan - f1: 0.9200 - val_loss: nan - val_f1: 0.8458\n",
            "Epoch 100/100\n",
            "60/60 [==============================] - 6s 108ms/step - loss: nan - f1: 0.9238 - val_loss: nan - val_f1: 0.8623\n"
          ],
          "name": "stdout"
        }
      ]
    },
    {
      "cell_type": "code",
      "metadata": {
        "colab": {
          "base_uri": "https://localhost:8080/"
        },
        "id": "D3zQprcjEtFh",
        "outputId": "ecf0a625-db11-463b-8490-a5033fb60e13"
      },
      "source": [
        "tpu_strategy.num_replicas_in_sync"
      ],
      "execution_count": 38,
      "outputs": [
        {
          "output_type": "execute_result",
          "data": {
            "text/plain": [
              "8"
            ]
          },
          "metadata": {
            "tags": []
          },
          "execution_count": 38
        }
      ]
    },
    {
      "cell_type": "code",
      "metadata": {
        "id": "XU6CoTpjEzGr"
      },
      "source": [
        "EPOCH = 100"
      ],
      "execution_count": 39,
      "outputs": []
    },
    {
      "cell_type": "code",
      "metadata": {
        "id": "LUL55dqeEvvN"
      },
      "source": [
        "# start_lr = 0.001\n",
        "# min_lr = 0.001\n",
        "# max_lr = 0.005 * tpu_strategy.num_replicas_in_sync\n",
        "# rampup_epochs = 25\n",
        "# sustain_epochs = 10\n",
        "# exp_decay = .8\n",
        "\n",
        "# def lrfn(epoch):\n",
        "#   if epoch < rampup_epochs:\n",
        "#     return (max_lr - start_lr)/rampup_epochs * epoch + start_lr\n",
        "#   elif epoch < rampup_epochs + sustain_epochs:\n",
        "#     return max_lr\n",
        "#   else:\n",
        "#     return (max_lr - min_lr) * exp_decay**(epoch-rampup_epochs-sustain_epochs) + min_lr\n",
        "    \n",
        "# lr_callback = tf.keras.callbacks.LearningRateScheduler(lambda epoch: lrfn(epoch), verbose=True)\n",
        "\n",
        "# rang = np.arange(EPOCH)\n",
        "# y = [lrfn(x) for x in rang]\n",
        "# plt.plot(rang, y)\n",
        "# print('Learning rate per epoch:')"
      ],
      "execution_count": 40,
      "outputs": []
    },
    {
      "cell_type": "code",
      "metadata": {
        "id": "x5p9OLD5AdlO"
      },
      "source": [
        "# from tensorflow.keras import optimizers\n",
        "from keras.optimizers import Adam"
      ],
      "execution_count": 41,
      "outputs": []
    },
    {
      "cell_type": "code",
      "metadata": {
        "id": "5H-JpY4uAfQr"
      },
      "source": [
        "\n",
        "\n",
        "# validation = False\n",
        "\n",
        "# # with tf.device('/device:GPU:0'):\n",
        "\n",
        "# batch_size = 32 * tpu_strategy.num_replicas_in_sync\n",
        "# train_steps = len(X_tensor) // batch_size\n",
        "\n",
        "\n",
        "# x_train = X_tensor\n",
        "# y_train_binary = Y_tensor \n",
        "\n",
        "# callback = tf.keras.callbacks.EarlyStopping(monitor='loss', patience=100)\n",
        "# # tf.keras.backend.clear_session()\n",
        "\n",
        "# # optimizer='adam', \n",
        "\n",
        "# with tpu_strategy.scope():\n",
        "#   # batch_size=16,\n",
        "#   model.compile(loss=\"binary_crossentropy\", \n",
        "#                 optimizer=Adam(learning_rate=0.01), \n",
        "#                 metrics=[f1],\n",
        "#                 steps_per_execution=50,) \n",
        "#   # model.compile(loss=\"binary_crossentropy\", optimizer=Adam(lr=0.01)) \n",
        "\n",
        "# # callbacks=[lr_callback],\n",
        "# history = model.fit(x_train,\n",
        "#                     y_train_binary,\n",
        "#                     epochs=EPOCH,\n",
        "#                     validation_split=0.3,\n",
        "#                     callbacks=[callback],\n",
        "#                     batch_size=batch_size,)"
      ],
      "execution_count": 42,
      "outputs": []
    },
    {
      "cell_type": "code",
      "metadata": {
        "colab": {
          "base_uri": "https://localhost:8080/",
          "height": 355
        },
        "id": "zfpwW0VdAgo5",
        "outputId": "ad0b7f7f-6d8b-4f97-8fe6-90f5ce370d00"
      },
      "source": [
        "validation = True\n",
        "\n",
        "current_index = 1\n",
        "\n",
        "plt.figure(figsize=(15, 5))\n",
        "plt.subplot(121)\n",
        "plt.plot(history.history['loss'], label=\"Training Loss\")\n",
        "\n",
        "if validation:\n",
        "    plt.plot(history.history['val_loss'], label=\"Validation Loss\")\n",
        "    \n",
        "plt.ylabel('Loss')\n",
        "plt.xlabel('Epoch')\n",
        "plt.legend()\n",
        "\n",
        "plt.ylim(-0.1, 1)\n",
        "\n",
        "plt.subplot(122)\n",
        "plt.plot(history.history['f1'], label=\"Training F1\")\n",
        "\n",
        "if validation:\n",
        "    plt.plot(history.history['val_f1'], label=\"Validation F1\")\n",
        "    \n",
        "plt.ylabel('F1')\n",
        "plt.xlabel('Epoch')\n",
        "plt.ylim(-0.1, 1.1)\n",
        "plt.legend()\n",
        "\n",
        "# plt.savefig(\"log_plots/{}.jpg\".format(current_index))"
      ],
      "execution_count": 43,
      "outputs": [
        {
          "output_type": "execute_result",
          "data": {
            "text/plain": [
              "<matplotlib.legend.Legend at 0x7f111a098a10>"
            ]
          },
          "metadata": {
            "tags": []
          },
          "execution_count": 43
        },
        {
          "output_type": "display_data",
          "data": {
            "image/png": "[encoded data removed]",
            "text/plain": [
              "<Figure size 1080x360 with 2 Axes>"
            ]
          },
          "metadata": {
            "tags": [],
            "needs_background": "light"
          }
        }
      ]
    },
    {
      "cell_type": "code",
      "metadata": {
        "id": "FZBUydXnAuIv"
      },
      "source": [
        "probs = model(x_train).numpy()\n",
        "\n",
        "# print(probs.flatten())\n",
        "\n",
        "# print(y_train.flatten())"
      ],
      "execution_count": 75,
      "outputs": []
    },
    {
      "cell_type": "code",
      "metadata": {
        "id": "-nQF5UuqAyvr"
      },
      "source": [
        "thres = 0.5"
      ],
      "execution_count": 76,
      "outputs": []
    },
    {
      "cell_type": "code",
      "metadata": {
        "colab": {
          "base_uri": "https://localhost:8080/"
        },
        "id": "xqRdN-JlAz4q",
        "outputId": "1e6d83f5-3fbd-4dee-9dd0-9d4156820383"
      },
      "source": [
        "sum([x >= thres for x in probs.flatten()]), sum([x < 0.5 for x in probs.flatten()])"
      ],
      "execution_count": 77,
      "outputs": [
        {
          "output_type": "execute_result",
          "data": {
            "text/plain": [
              "(1392, 1308)"
            ]
          },
          "metadata": {
            "tags": []
          },
          "execution_count": 77
        }
      ]
    },
    {
      "cell_type": "code",
      "metadata": {
        "id": "Ojan3gOoA0vY"
      },
      "source": [
        "import sklearn.metrics as metrics\n",
        "from bisect import bisect_left"
      ],
      "execution_count": 78,
      "outputs": []
    },
    {
      "cell_type": "code",
      "metadata": {
        "id": "wuR5PduLA1g6"
      },
      "source": [
        "preds = [int(x > thres) for x in probs]"
      ],
      "execution_count": 79,
      "outputs": []
    },
    {
      "cell_type": "code",
      "metadata": {
        "id": "Kv2LUmw9N60g"
      },
      "source": [
        ""
      ],
      "execution_count": 79,
      "outputs": []
    },
    {
      "cell_type": "code",
      "metadata": {
        "colab": {
          "base_uri": "https://localhost:8080/"
        },
        "id": "a8Ir7CWLA2WV",
        "outputId": "30a1fb2b-e88c-47ef-b542-b1e67082c6bd"
      },
      "source": [
        "fpr, tpr, threshold = metrics.roc_curve(y_train.flatten(), probs)\n",
        "\n",
        "tpr"
      ],
      "execution_count": 80,
      "outputs": [
        {
          "output_type": "execute_result",
          "data": {
            "text/plain": [
              "array([0.        , 0.67083027, 0.67597355, 0.67817781, 0.69654666,\n",
              "       0.70022043, 0.71271124, 0.71932403, 0.72814107, 0.72961058,\n",
              "       0.73328435, 0.73475386, 0.73916238, 0.73989713, 0.74430566,\n",
              "       0.7531227 , 0.75385746, 0.75679647, 0.761205  , 0.7626745 ,\n",
              "       0.76340926, 0.76561352, 0.76928729, 0.7707568 , 0.77369581,\n",
              "       0.77443057, 0.77663483, 0.77736958, 0.77957384, 0.7803086 ,\n",
              "       0.78251286, 0.78398237, 0.78545187, 0.78618663, 0.78618663,\n",
              "       0.78692138, 0.7898604 , 0.79059515, 0.79206466, 0.79573843,\n",
              "       0.79794269, 0.79867744, 0.80014695, 0.8008817 , 0.80308597,\n",
              "       0.80382072, 0.80529023, 0.80675974, 0.80822924, 0.808964  ,\n",
              "       0.8104335 , 0.81410727, 0.81631154, 0.82292432, 0.82439383,\n",
              "       0.83468038, 0.83614989, 0.84055841, 0.84276267, 0.90815577,\n",
              "       0.90815577, 0.92505511, 0.92505511, 0.92799412, 0.92799412,\n",
              "       0.94121969, 0.94121969, 0.9426892 , 0.9426892 , 0.94415871,\n",
              "       0.94415871, 0.94709772, 0.94709772, 0.95003674, 0.95003674,\n",
              "       0.95591477, 0.95591477, 0.95738428, 0.95738428, 0.95885378,\n",
              "       0.95885378, 0.9617928 , 0.9617928 , 0.96767083, 0.96767083,\n",
              "       0.96840558, 0.96840558, 0.96914034, 0.96914034, 0.97207935,\n",
              "       0.97207935, 0.97648788, 0.97648788, 0.97795738, 0.97795738,\n",
              "       0.98383542, 0.98383542, 0.98603968, 0.98603968, 0.98677443,\n",
              "       0.98677443, 0.98750918, 0.98750918, 0.98897869, 0.98897869,\n",
              "       0.98971345, 0.98971345, 0.9904482 , 0.9904482 , 0.99191771,\n",
              "       0.99191771, 0.99265246, 0.99265246, 0.99338722, 0.99338722,\n",
              "       0.99412197, 0.99412197, 0.99485672, 0.99485672, 0.99559148,\n",
              "       0.99559148, 0.99632623, 0.99632623, 0.99706098, 0.99706098,\n",
              "       0.99779574, 0.99779574, 0.99853049, 0.99853049, 0.99926525,\n",
              "       0.99926525, 1.        , 1.        ])"
            ]
          },
          "metadata": {
            "tags": []
          },
          "execution_count": 80
        }
      ]
    },
    {
      "cell_type": "code",
      "metadata": {
        "colab": {
          "base_uri": "https://localhost:8080/"
        },
        "id": "lh1kqzwkA3Fq",
        "outputId": "edd61c87-558c-4873-8c7c-7c0d734f30bb"
      },
      "source": [
        "train_roc_auc = metrics.auc(fpr, tpr)\n",
        "train_roc_auc"
      ],
      "execution_count": 81,
      "outputs": [
        {
          "output_type": "execute_result",
          "data": {
            "text/plain": [
              "0.9977175439357017"
            ]
          },
          "metadata": {
            "tags": []
          },
          "execution_count": 81
        }
      ]
    },
    {
      "cell_type": "code",
      "metadata": {
        "id": "OC6eOMyeN1Dj"
      },
      "source": [
        ""
      ],
      "execution_count": 81,
      "outputs": []
    },
    {
      "cell_type": "code",
      "metadata": {
        "colab": {
          "base_uri": "https://localhost:8080/"
        },
        "id": "-S1Y7GiSA3_S",
        "outputId": "f67d6794-6ba0-41c9-df48-1294a326424f"
      },
      "source": [
        "train_accu = metrics.accuracy_score(y_train.flatten(), preds)\n",
        "\n",
        "train_accu"
      ],
      "execution_count": 82,
      "outputs": [
        {
          "output_type": "execute_result",
          "data": {
            "text/plain": [
              "0.9803703703703703"
            ]
          },
          "metadata": {
            "tags": []
          },
          "execution_count": 82
        }
      ]
    },
    {
      "cell_type": "code",
      "metadata": {
        "id": "WiGXofQ9A49g"
      },
      "source": [
        "probs = model(x_test).numpy()\n",
        "\n",
        "# print(probs.flatten())\n",
        "\n",
        "# print(y_test.flatten())"
      ],
      "execution_count": 83,
      "outputs": []
    },
    {
      "cell_type": "code",
      "metadata": {
        "colab": {
          "base_uri": "https://localhost:8080/"
        },
        "id": "LICMZRt4A5z5",
        "outputId": "61dc6bd2-e0e7-41de-a8b1-02d6b9acf913"
      },
      "source": [
        "sum([x >= thres for x in probs.flatten()]), sum([x < 0.5 for x in probs.flatten()])"
      ],
      "execution_count": 84,
      "outputs": [
        {
          "output_type": "execute_result",
          "data": {
            "text/plain": [
              "(162, 138)"
            ]
          },
          "metadata": {
            "tags": []
          },
          "execution_count": 84
        }
      ]
    },
    {
      "cell_type": "code",
      "metadata": {
        "id": "3bmTwwz5A6mf"
      },
      "source": [
        "preds = [int(x > thres) for x in probs.flatten()]"
      ],
      "execution_count": 85,
      "outputs": []
    },
    {
      "cell_type": "code",
      "metadata": {
        "id": "q-AXKGnHN-2w"
      },
      "source": [
        ""
      ],
      "execution_count": 85,
      "outputs": []
    },
    {
      "cell_type": "code",
      "metadata": {
        "colab": {
          "base_uri": "https://localhost:8080/"
        },
        "id": "NpKDJCdYA7T7",
        "outputId": "1d8a3e99-0589-41eb-c7be-7cfa34389e3f"
      },
      "source": [
        "test_fpr, test_tpr, test_threshold = metrics.roc_curve(y_test.flatten(), probs)\n",
        "\n",
        "test_tpr"
      ],
      "execution_count": 86,
      "outputs": [
        {
          "output_type": "execute_result",
          "data": {
            "text/plain": [
              "array([0.        , 0.64666667, 0.66      , 0.67333333, 0.7       ,\n",
              "       0.71333333, 0.72      , 0.73333333, 0.76      , 0.76      ,\n",
              "       0.86      , 0.86      , 0.92666667, 0.92666667, 0.94666667,\n",
              "       0.94666667, 0.98666667, 0.98666667, 1.        , 1.        ])"
            ]
          },
          "metadata": {
            "tags": []
          },
          "execution_count": 86
        }
      ]
    },
    {
      "cell_type": "code",
      "metadata": {
        "colab": {
          "base_uri": "https://localhost:8080/"
        },
        "id": "abxLQksXA8Sf",
        "outputId": "b6c13b0c-899a-4d21-875c-1ae628033ba5"
      },
      "source": [
        "test_roc_auc = metrics.auc(test_fpr, test_tpr)\n",
        "test_roc_auc"
      ],
      "execution_count": 87,
      "outputs": [
        {
          "output_type": "execute_result",
          "data": {
            "text/plain": [
              "0.9918444444444445"
            ]
          },
          "metadata": {
            "tags": []
          },
          "execution_count": 87
        }
      ]
    },
    {
      "cell_type": "code",
      "metadata": {
        "colab": {
          "base_uri": "https://localhost:8080/"
        },
        "id": "NkExuvxeA9BQ",
        "outputId": "49a6a9de-a0c8-4303-eda7-9c9ad6ecc340"
      },
      "source": [
        "test_accu = metrics.accuracy_score(y_test.flatten(), preds)\n",
        "\n",
        "test_accu"
      ],
      "execution_count": 88,
      "outputs": [
        {
          "output_type": "execute_result",
          "data": {
            "text/plain": [
              "0.96"
            ]
          },
          "metadata": {
            "tags": []
          },
          "execution_count": 88
        }
      ]
    },
    {
      "cell_type": "code",
      "metadata": {
        "colab": {
          "base_uri": "https://localhost:8080/",
          "height": 295
        },
        "id": "n620_iK5A9yw",
        "outputId": "06b1e7e8-2469-4eff-9f8f-3c4e7c456e57"
      },
      "source": [
        "plt.title('ROC')\n",
        "\n",
        "plt.plot(fpr, tpr, label = 'Train AUC = %0.2f' % train_roc_auc)\n",
        "plt.plot(test_fpr, test_tpr, label = 'Test AUC = %0.2f' % test_roc_auc)\n",
        "\n",
        "plt.legend(loc = 'lower right')\n",
        "plt.plot([0, 1], [0, 1],'r--')\n",
        "plt.xlim([-0.1, 1.1])\n",
        "plt.ylim([-0.1, 1.1])\n",
        "plt.ylabel('TPR')\n",
        "plt.xlabel('FPR')\n",
        "plt.show()"
      ],
      "execution_count": 89,
      "outputs": [
        {
          "output_type": "display_data",
          "data": {
            "image/png": "[encoded data removed]",
            "text/plain": [
              "<Figure size 432x288 with 1 Axes>"
            ]
          },
          "metadata": {
            "tags": [],
            "needs_background": "light"
          }
        }
      ]
    },
    {
      "cell_type": "code",
      "metadata": {
        "colab": {
          "base_uri": "https://localhost:8080/"
        },
        "id": "YK-Dkbx7A-rL",
        "outputId": "273c98a6-3da8-481a-e738-9c62a2c8252c"
      },
      "source": [
        "print(\"Kernel = \", ker_regul.l2)\n",
        "print(\"Bias = \", bias_regul.l2)\n",
        "print(\"Dropout = \", dropout_rate)\n",
        "print(\"Train AUC = \", train_roc_auc)\n",
        "print(\"Train Accu = \", train_accu)\n",
        "print(\"Test ROC = \", test_roc_auc)\n",
        "print(\"Test Accu = \", test_accu)"
      ],
      "execution_count": 90,
      "outputs": [
        {
          "output_type": "stream",
          "text": [
            "Kernel =  0.0\n",
            "Bias =  0.0\n",
            "Dropout =  0.0\n",
            "Train AUC =  0.9977175439357017\n",
            "Train Accu =  0.9803703703703703\n",
            "Test ROC =  0.9918444444444445\n",
            "Test Accu =  0.96\n"
          ],
          "name": "stdout"
        }
      ]
    },
    {
      "cell_type": "code",
      "metadata": {
        "id": "twvVWbJhA_Xm"
      },
      "source": [
        "df = pd.DataFrame({'fpr': test_fpr, 'tpr': test_tpr, 'threshold': test_threshold})\n",
        "one_percent_fpr_idx = bisect_left(df['fpr'].values, 0.01)\n",
        "\n",
        "row = df.iloc[one_percent_fpr_idx]\n",
        "    \n",
        "detection_probability = row['tpr']"
      ],
      "execution_count": 91,
      "outputs": []
    },
    {
      "cell_type": "code",
      "metadata": {
        "colab": {
          "base_uri": "https://localhost:8080/"
        },
        "id": "v8E24MQZDPtD",
        "outputId": "4e52c215-d4ff-40e1-d040-eb30c670192e"
      },
      "source": [
        "detection_probability"
      ],
      "execution_count": 92,
      "outputs": [
        {
          "output_type": "execute_result",
          "data": {
            "text/plain": [
              "0.72"
            ]
          },
          "metadata": {
            "tags": []
          },
          "execution_count": 92
        }
      ]
    },
    {
      "cell_type": "code",
      "metadata": {
        "colab": {
          "base_uri": "https://localhost:8080/",
          "height": 295
        },
        "id": "GN8kwyrwDQ0H",
        "outputId": "fbc19301-5a05-4a0d-e879-91204653214b"
      },
      "source": [
        "plt.title('ROC; p_det = ' + str(detection_probability))\n",
        "\n",
        "plt.plot(test_fpr, test_tpr, label = 'Test AUC = %0.2f' % test_roc_auc)\n",
        "\n",
        "plt.legend(loc = 'lower right')\n",
        "plt.plot([0, 1], [0, 1],'r--')\n",
        "plt.xlim([-0., 1.1])\n",
        "plt.ylim([-0., 1.1])\n",
        "plt.ylabel('TPR')\n",
        "plt.xlabel('FPR')\n",
        "plt.show()"
      ],
      "execution_count": 93,
      "outputs": [
        {
          "output_type": "display_data",
          "data": {
            "image/png": "[encoded data removed]",
            "text/plain": [
              "<Figure size 432x288 with 1 Axes>"
            ]
          },
          "metadata": {
            "tags": [],
            "needs_background": "light"
          }
        }
      ]
    },
    {
      "cell_type": "code",
      "metadata": {
        "id": "V3-NFpCHDStK"
      },
      "source": [
        "from scipy.signal import welch"
      ],
      "execution_count": 63,
      "outputs": []
    },
    {
      "cell_type": "code",
      "metadata": {
        "id": "aHyav2EWDVrD"
      },
      "source": [
        "random.seed(42)\n",
        "\n",
        "scaling = 1e-23\n",
        "\n",
        "def generate_test_data(test_size, lower_f, upper_f, h0_lower, h0_upper):\n",
        "\n",
        "    # snr_s = []\n",
        "    f_s = []\n",
        "    all_data_raw = []\n",
        "    h0_s = []\n",
        "    labels = []\n",
        "    sqrt_S_s = []\n",
        "    rho_s = []\n",
        "\n",
        "    for i in range(test_size):\n",
        "      f = random.uniform(lower_f, upper_f)\n",
        "      \n",
        "      # 0 = Signal; 1 = Noise; 2 = Signal + Noise.\n",
        "      \n",
        "  #     signal = random.choices(population=[0, 1, 2], weights=[0.45, 0.1, 0.45])[0]\n",
        "  #     signal = random.choices(population=[0], weights=[1.0])[0]\n",
        "\n",
        "      signal = random.choices(population=[2, 1], weights=[0.5, 0.5])[0]\n",
        "  #     if i == 0:\n",
        "  #         signal = 0\n",
        "  #     elif i == 1:\n",
        "  #         signal = 1\n",
        "      \n",
        "      noise_std = random.uniform(noise_std_lower, noise_std_upper)\n",
        "      \n",
        "      if signal == 0:\n",
        "          current_y = make_signal(f=f, signal=True, noise=False, noise_std=noise_std)\n",
        "      elif signal == 1:\n",
        "          current_y = make_signal(f=f, signal=False, noise=True, noise_std=noise_std)\n",
        "      elif signal == 2:\n",
        "          current_y = make_signal(f=f, signal=True, noise=True, noise_std=noise_std)\n",
        "      \n",
        "      \n",
        "      \n",
        "      y_fft = fft(current_y)\n",
        "      \n",
        "      current_y = [[x.real, x.imag, f] for x in y_fft]\n",
        "\n",
        "  #     current_y = [[x] for x in current_y]\n",
        "  #     freqs = [[f] * len(current_y)]\n",
        "      \n",
        "      if signal == 0 or signal == 2:\n",
        "          was_signal_there = 1\n",
        "      elif signal == 1:\n",
        "          was_signal_there = 0\n",
        "          \n",
        "      f_s.append(f)\n",
        "  #     noises.append(noise_amp)\n",
        "      \n",
        "  #     current_y = np.append(current_y, int(signal))\n",
        "      labels.append([int(was_signal_there)])\n",
        "      all_data_raw.append(current_y)\n",
        "\n",
        "    \n",
        "    \n",
        "    labels = np.array(labels).flatten()\n",
        "    \n",
        "    return all_data_raw, labels, f_s, h0_s, sqrt_S_s, rho_s"
      ],
      "execution_count": 94,
      "outputs": []
    },
    {
      "cell_type": "code",
      "metadata": {
        "id": "CaWQL1GcDfh7"
      },
      "source": [
        "def get_results(x_s, labels):\n",
        "\n",
        "    y_pred = model.predict(x_s).flatten().tolist()\n",
        "\n",
        "    preds = [int(x > 0.5) for x in y_pred]\n",
        "    \n",
        "    \n",
        "    labels = np.array(labels).flatten()\n",
        "    \n",
        "    fpr, tpr, threshold = metrics.roc_curve(labels, y_pred)\n",
        "    roc_auc = metrics.auc(fpr, tpr)\n",
        "    accu = metrics.accuracy_score(labels, preds)\n",
        "\n",
        "    print(\"N = \", len(y_pred), \"; AUC = \", roc_auc, \"; Accuracy = \", accu)\n",
        "    \n",
        "    \n",
        "    \n",
        "    df = pd.DataFrame({'fpr': fpr, 'tpr': tpr, 'threshold': threshold})\n",
        "    one_percent_fpr_idx = bisect_left(df['fpr'].values, 0.01)\n",
        "\n",
        "    # df.iloc[229]\n",
        "\n",
        "    row = df.iloc[one_percent_fpr_idx]\n",
        "    \n",
        "    detection_probability = row['tpr']\n",
        "    \n",
        "    \n",
        "    plt.title(\"ROC; p_det = {:.2f}\".format(detection_probability))\n",
        "\n",
        "    plt.plot(fpr, tpr, label = 'Test AUC = %0.2f' % roc_auc)\n",
        "\n",
        "    plt.legend(loc = 'lower right')\n",
        "    plt.plot([0, 1], [0, 1],'r--')\n",
        "    plt.xlim([-0.01, 1.01])\n",
        "    plt.ylim([-0.01, 1.01])\n",
        "    plt.ylabel('TPR')\n",
        "    plt.xlabel('FPR')\n",
        "    plt.show()\n",
        "    \n",
        "#     return fpr, tpr, threshold\n",
        "\n",
        "    \n",
        "    return detection_probability\n",
        "#     print(\"Detection Probability @ 1% false alarm rate = {:.2f}\".format(row['tpr']))\n",
        "\n"
      ],
      "execution_count": 95,
      "outputs": []
    },
    {
      "cell_type": "code",
      "metadata": {
        "colab": {
          "base_uri": "https://localhost:8080/",
          "height": 312
        },
        "id": "lr7keMjEDg5Z",
        "outputId": "c85e7589-d050-4aa9-d6eb-885e42a24ba8"
      },
      "source": [
        "test_size = 1000\n",
        "\n",
        "all_data_raw, labels, f_s, h0_s, sqrt_S_s, rho_s = generate_test_data(test_size, lower_f=20, upper_f=25, h0_lower=-20, h0_upper=-27)\n",
        "\n",
        "detection_probability = get_results(all_data_raw, labels)"
      ],
      "execution_count": 96,
      "outputs": [
        {
          "output_type": "stream",
          "text": [
            "N =  1000 ; AUC =  0.9852497639962239 ; Accuracy =  0.945\n"
          ],
          "name": "stdout"
        },
        {
          "output_type": "display_data",
          "data": {
            "image/png": "[encoded data removed]",
            "text/plain": [
              "<Figure size 432x288 with 1 Axes>"
            ]
          },
          "metadata": {
            "tags": [],
            "needs_background": "light"
          }
        }
      ]
    },
    {
      "cell_type": "code",
      "metadata": {
        "colab": {
          "base_uri": "https://localhost:8080/"
        },
        "id": "EqjySiorDiDS",
        "outputId": "7d5bc9fa-0bea-4d3a-e01f-f5e59c30654a"
      },
      "source": [
        "labels"
      ],
      "execution_count": 71,
      "outputs": [
        {
          "output_type": "execute_result",
          "data": {
            "text/plain": [
              "[[1]]"
            ]
          },
          "metadata": {
            "tags": []
          },
          "execution_count": 71
        }
      ]
    },
    {
      "cell_type": "code",
      "metadata": {
        "id": "fOGNiWg3Nc7a"
      },
      "source": [
        ""
      ],
      "execution_count": null,
      "outputs": []
    }
  ]
}