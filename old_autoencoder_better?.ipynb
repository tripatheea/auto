{
  "nbformat": 4,
  "nbformat_minor": 0,
  "metadata": {
    "colab": {
      "name": "old autoencoder better?",
      "provenance": [],
      "collapsed_sections": [],
      "authorship_tag": "ABX9TyNEoWb13z8h9mkGv5edutW7",
      "include_colab_link": true
    },
    "kernelspec": {
      "name": "python3",
      "display_name": "Python 3"
    },
    "language_info": {
      "name": "python"
    },
    "accelerator": "TPU"
  },
  "cells": [
    {
      "cell_type": "markdown",
      "metadata": {
        "id": "view-in-github",
        "colab_type": "text"
      },
      "source": [
        "<a href=\"https://colab.research.google.com/github/tripatheea/auto/blob/main/old_autoencoder_better%3F.ipynb\" target=\"_parent\"><img src=\"https://colab.research.google.com/assets/colab-badge.svg\" alt=\"Open In Colab\"/></a>"
      ]
    },
    {
      "cell_type": "code",
      "metadata": {
        "id": "D_HD2yHx9l6J"
      },
      "source": [
        "from __future__ import absolute_import, division, print_function, unicode_literals\n",
        "\n",
        "import tensorflow as tf\n",
        "\n",
        "from tensorflow.keras import datasets, layers, models\n",
        "\n",
        "# import keras\n",
        "import numpy as np\n",
        "import pandas as pd\n",
        "import matplotlib as mpl\n",
        "from matplotlib import pyplot as plt\n",
        "\n",
        "\n",
        "from tensorflow.keras.models import Sequential\n",
        "# import keras\n",
        "from tensorflow.keras.models import Sequential\n",
        "from tensorflow.keras.layers import Dense, Flatten, Conv1D\n",
        "from tensorflow.keras.callbacks import ModelCheckpoint\n",
        "from tensorflow.keras.models import model_from_json\n",
        "from tensorflow.keras import backend as K\n",
        "\n",
        "import numpy\n",
        "from tensorflow.keras.datasets import imdb\n",
        "from tensorflow.keras.models import Sequential\n",
        "from tensorflow.keras.layers import Dense\n",
        "from tensorflow.keras.layers import LSTM\n",
        "# from tensorflow.keras.layers.embeddings import Embedding\n",
        "from tensorflow.keras.preprocessing import sequence\n",
        "\n",
        "from sklearn.preprocessing import StandardScaler\n",
        "\n",
        "from sklearn.model_selection import train_test_split, cross_val_score, cross_val_predict, GridSearchCV\n",
        "\n",
        "import seaborn as sns\n",
        "\n",
        "from tensorflow.keras.layers import add, Activation, LSTM, Conv1D\n",
        "from tensorflow.keras.layers import MaxPooling1D, UpSampling1D, Cropping1D, SpatialDropout1D, Bidirectional, BatchNormalization\n",
        "from tensorflow.keras.models import Model\n",
        "\n",
        "from numpy.random import seed\n",
        "from tensorflow.random import set_seed\n",
        "\n",
        "\n",
        "import random\n",
        "\n",
        "from scipy.signal import welch\n",
        "\n",
        "from tensorflow.keras.optimizers import Adam"
      ],
      "execution_count": 2,
      "outputs": []
    },
    {
      "cell_type": "code",
      "metadata": {
        "colab": {
          "base_uri": "https://localhost:8080/"
        },
        "id": "4PkajX-PEN64",
        "outputId": "d7f5f577-5918-4145-9eb7-f905b19fc71d"
      },
      "source": [
        "from psutil import virtual_memory\n",
        "ram_gb = virtual_memory().total / 1e9\n",
        "print('Your runtime has {:.1f} gigabytes of available RAM\\n'.format(ram_gb))\n",
        "\n",
        "if ram_gb < 20:\n",
        "  print('To enable a high-RAM runtime, select the Runtime > \"Change runtime type\"')\n",
        "  print('menu, and then select High-RAM in the Runtime shape dropdown. Then, ')\n",
        "  print('re-execute this cell.')\n",
        "else:\n",
        "  print('You are using a high-RAM runtime!')"
      ],
      "execution_count": 3,
      "outputs": [
        {
          "output_type": "stream",
          "text": [
            "Your runtime has 13.6 gigabytes of available RAM\n",
            "\n",
            "To enable a high-RAM runtime, select the Runtime > \"Change runtime type\"\n",
            "menu, and then select High-RAM in the Runtime shape dropdown. Then, \n",
            "re-execute this cell.\n"
          ],
          "name": "stdout"
        }
      ]
    },
    {
      "cell_type": "code",
      "metadata": {
        "colab": {
          "base_uri": "https://localhost:8080/"
        },
        "id": "XGF-XD0TEQZp",
        "outputId": "fca2adaf-6178-44d5-ad4d-efd1b2d0b915"
      },
      "source": [
        "gpu_info = !nvidia-smi\n",
        "gpu_info = '\\n'.join(gpu_info)\n",
        "if gpu_info.find('failed') >= 0:\n",
        "  print('Select the Runtime > \"Change runtime type\" menu to enable a GPU accelerator, ')\n",
        "  print('and then re-execute this cell.')\n",
        "else:\n",
        "  print(gpu_info)"
      ],
      "execution_count": 4,
      "outputs": [
        {
          "output_type": "stream",
          "text": [
            "Select the Runtime > \"Change runtime type\" menu to enable a GPU accelerator, \n",
            "and then re-execute this cell.\n"
          ],
          "name": "stdout"
        }
      ]
    },
    {
      "cell_type": "code",
      "metadata": {
        "colab": {
          "base_uri": "https://localhost:8080/"
        },
        "id": "d8ooaDeKESz1",
        "outputId": "1c51fc7e-fd86-46cb-98cf-8d57dd145547"
      },
      "source": [
        "try:\n",
        "  tpu = tf.distribute.cluster_resolver.TPUClusterResolver()  # TPU detection\n",
        "  print('Running on TPU ', tpu.cluster_spec().as_dict()['worker'])\n",
        "except ValueError:\n",
        "  raise BaseException('ERROR: Not connected to a TPU runtime; please see the previous cell in this notebook for instructions!')\n",
        "\n",
        "tf.config.experimental_connect_to_cluster(tpu)\n",
        "tf.tpu.experimental.initialize_tpu_system(tpu)\n",
        "tpu_strategy = tf.distribute.experimental.TPUStrategy(tpu)"
      ],
      "execution_count": 5,
      "outputs": [
        {
          "output_type": "stream",
          "text": [
            "Running on TPU  ['10.117.255.42:8470']\n",
            "INFO:tensorflow:Clearing out eager caches\n"
          ],
          "name": "stdout"
        },
        {
          "output_type": "stream",
          "text": [
            "INFO:tensorflow:Clearing out eager caches\n"
          ],
          "name": "stderr"
        },
        {
          "output_type": "stream",
          "text": [
            "INFO:tensorflow:Initializing the TPU system: grpc://10.117.255.42:8470\n"
          ],
          "name": "stdout"
        },
        {
          "output_type": "stream",
          "text": [
            "INFO:tensorflow:Initializing the TPU system: grpc://10.117.255.42:8470\n"
          ],
          "name": "stderr"
        },
        {
          "output_type": "stream",
          "text": [
            "INFO:tensorflow:Finished initializing TPU system.\n"
          ],
          "name": "stdout"
        },
        {
          "output_type": "stream",
          "text": [
            "INFO:tensorflow:Finished initializing TPU system.\n",
            "WARNING:absl:`tf.distribute.experimental.TPUStrategy` is deprecated, please use  the non experimental symbol `tf.distribute.TPUStrategy` instead.\n"
          ],
          "name": "stderr"
        },
        {
          "output_type": "stream",
          "text": [
            "INFO:tensorflow:Found TPU system:\n"
          ],
          "name": "stdout"
        },
        {
          "output_type": "stream",
          "text": [
            "INFO:tensorflow:Found TPU system:\n"
          ],
          "name": "stderr"
        },
        {
          "output_type": "stream",
          "text": [
            "INFO:tensorflow:*** Num TPU Cores: 8\n"
          ],
          "name": "stdout"
        },
        {
          "output_type": "stream",
          "text": [
            "INFO:tensorflow:*** Num TPU Cores: 8\n"
          ],
          "name": "stderr"
        },
        {
          "output_type": "stream",
          "text": [
            "INFO:tensorflow:*** Num TPU Workers: 1\n"
          ],
          "name": "stdout"
        },
        {
          "output_type": "stream",
          "text": [
            "INFO:tensorflow:*** Num TPU Workers: 1\n"
          ],
          "name": "stderr"
        },
        {
          "output_type": "stream",
          "text": [
            "INFO:tensorflow:*** Num TPU Cores Per Worker: 8\n"
          ],
          "name": "stdout"
        },
        {
          "output_type": "stream",
          "text": [
            "INFO:tensorflow:*** Num TPU Cores Per Worker: 8\n"
          ],
          "name": "stderr"
        },
        {
          "output_type": "stream",
          "text": [
            "INFO:tensorflow:*** Available Device: _DeviceAttributes(/job:localhost/replica:0/task:0/device:CPU:0, CPU, 0, 0)\n"
          ],
          "name": "stdout"
        },
        {
          "output_type": "stream",
          "text": [
            "INFO:tensorflow:*** Available Device: _DeviceAttributes(/job:localhost/replica:0/task:0/device:CPU:0, CPU, 0, 0)\n"
          ],
          "name": "stderr"
        },
        {
          "output_type": "stream",
          "text": [
            "INFO:tensorflow:*** Available Device: _DeviceAttributes(/job:worker/replica:0/task:0/device:CPU:0, CPU, 0, 0)\n"
          ],
          "name": "stdout"
        },
        {
          "output_type": "stream",
          "text": [
            "INFO:tensorflow:*** Available Device: _DeviceAttributes(/job:worker/replica:0/task:0/device:CPU:0, CPU, 0, 0)\n"
          ],
          "name": "stderr"
        },
        {
          "output_type": "stream",
          "text": [
            "INFO:tensorflow:*** Available Device: _DeviceAttributes(/job:worker/replica:0/task:0/device:TPU:0, TPU, 0, 0)\n"
          ],
          "name": "stdout"
        },
        {
          "output_type": "stream",
          "text": [
            "INFO:tensorflow:*** Available Device: _DeviceAttributes(/job:worker/replica:0/task:0/device:TPU:0, TPU, 0, 0)\n"
          ],
          "name": "stderr"
        },
        {
          "output_type": "stream",
          "text": [
            "INFO:tensorflow:*** Available Device: _DeviceAttributes(/job:worker/replica:0/task:0/device:TPU:1, TPU, 0, 0)\n"
          ],
          "name": "stdout"
        },
        {
          "output_type": "stream",
          "text": [
            "INFO:tensorflow:*** Available Device: _DeviceAttributes(/job:worker/replica:0/task:0/device:TPU:1, TPU, 0, 0)\n"
          ],
          "name": "stderr"
        },
        {
          "output_type": "stream",
          "text": [
            "INFO:tensorflow:*** Available Device: _DeviceAttributes(/job:worker/replica:0/task:0/device:TPU:2, TPU, 0, 0)\n"
          ],
          "name": "stdout"
        },
        {
          "output_type": "stream",
          "text": [
            "INFO:tensorflow:*** Available Device: _DeviceAttributes(/job:worker/replica:0/task:0/device:TPU:2, TPU, 0, 0)\n"
          ],
          "name": "stderr"
        },
        {
          "output_type": "stream",
          "text": [
            "INFO:tensorflow:*** Available Device: _DeviceAttributes(/job:worker/replica:0/task:0/device:TPU:3, TPU, 0, 0)\n"
          ],
          "name": "stdout"
        },
        {
          "output_type": "stream",
          "text": [
            "INFO:tensorflow:*** Available Device: _DeviceAttributes(/job:worker/replica:0/task:0/device:TPU:3, TPU, 0, 0)\n"
          ],
          "name": "stderr"
        },
        {
          "output_type": "stream",
          "text": [
            "INFO:tensorflow:*** Available Device: _DeviceAttributes(/job:worker/replica:0/task:0/device:TPU:4, TPU, 0, 0)\n"
          ],
          "name": "stdout"
        },
        {
          "output_type": "stream",
          "text": [
            "INFO:tensorflow:*** Available Device: _DeviceAttributes(/job:worker/replica:0/task:0/device:TPU:4, TPU, 0, 0)\n"
          ],
          "name": "stderr"
        },
        {
          "output_type": "stream",
          "text": [
            "INFO:tensorflow:*** Available Device: _DeviceAttributes(/job:worker/replica:0/task:0/device:TPU:5, TPU, 0, 0)\n"
          ],
          "name": "stdout"
        },
        {
          "output_type": "stream",
          "text": [
            "INFO:tensorflow:*** Available Device: _DeviceAttributes(/job:worker/replica:0/task:0/device:TPU:5, TPU, 0, 0)\n"
          ],
          "name": "stderr"
        },
        {
          "output_type": "stream",
          "text": [
            "INFO:tensorflow:*** Available Device: _DeviceAttributes(/job:worker/replica:0/task:0/device:TPU:6, TPU, 0, 0)\n"
          ],
          "name": "stdout"
        },
        {
          "output_type": "stream",
          "text": [
            "INFO:tensorflow:*** Available Device: _DeviceAttributes(/job:worker/replica:0/task:0/device:TPU:6, TPU, 0, 0)\n"
          ],
          "name": "stderr"
        },
        {
          "output_type": "stream",
          "text": [
            "INFO:tensorflow:*** Available Device: _DeviceAttributes(/job:worker/replica:0/task:0/device:TPU:7, TPU, 0, 0)\n"
          ],
          "name": "stdout"
        },
        {
          "output_type": "stream",
          "text": [
            "INFO:tensorflow:*** Available Device: _DeviceAttributes(/job:worker/replica:0/task:0/device:TPU:7, TPU, 0, 0)\n"
          ],
          "name": "stderr"
        },
        {
          "output_type": "stream",
          "text": [
            "INFO:tensorflow:*** Available Device: _DeviceAttributes(/job:worker/replica:0/task:0/device:TPU_SYSTEM:0, TPU_SYSTEM, 0, 0)\n"
          ],
          "name": "stdout"
        },
        {
          "output_type": "stream",
          "text": [
            "INFO:tensorflow:*** Available Device: _DeviceAttributes(/job:worker/replica:0/task:0/device:TPU_SYSTEM:0, TPU_SYSTEM, 0, 0)\n"
          ],
          "name": "stderr"
        },
        {
          "output_type": "stream",
          "text": [
            "INFO:tensorflow:*** Available Device: _DeviceAttributes(/job:worker/replica:0/task:0/device:XLA_CPU:0, XLA_CPU, 0, 0)\n"
          ],
          "name": "stdout"
        },
        {
          "output_type": "stream",
          "text": [
            "INFO:tensorflow:*** Available Device: _DeviceAttributes(/job:worker/replica:0/task:0/device:XLA_CPU:0, XLA_CPU, 0, 0)\n"
          ],
          "name": "stderr"
        }
      ]
    },
    {
      "cell_type": "code",
      "metadata": {
        "id": "sfHOQxLU_lCq"
      },
      "source": [
        "seed(10)\n",
        "set_seed(10)\n",
        "\n",
        "N = 1000\n",
        "T = 1 / 500.0\n",
        "\n",
        "f = 100\n",
        "\n",
        "h0 = 1e-24"
      ],
      "execution_count": 6,
      "outputs": []
    },
    {
      "cell_type": "code",
      "metadata": {
        "id": "Q2wLqdIs_0gT"
      },
      "source": [
        "h0 = 1e-23\n",
        " \n",
        "# def make_signal(f, signal=True, noise=False, noise_std=0.1):\n",
        "#     t_s = np.linspace(0, N * T, N)\n",
        "    \n",
        "#     y_signal = h0 * np.sin(2 * np.pi * f * t_s)\n",
        "#     y_noise = h0 * np.random.normal(loc=0, scale=noise_std, size=t_s.shape)\n",
        "    \n",
        "#     y_s = np.zeros(N)\n",
        "#     if signal:\n",
        "#         y_s += y_signal\n",
        "#     if noise:\n",
        "#         y_s += y_noise\n",
        "    \n",
        "#     # print(y_signal[10], y_noise[10], y_s[10])\n",
        "#     return y_s\n",
        "\n",
        "\n",
        "\n",
        "def make_signal_h0(f, signal=True, noise=False, amp=8e-23, noise_std=1e-22):\n",
        "# def make_signal_h0(f, signal=True, noise=False, amp=8e-23, h0=1e-25):\n",
        "    t_s = np.linspace(0, N * T, N)\n",
        "    \n",
        "    y_signal = amp * np.sin(2 * np.pi * f * t_s)\n",
        "    y_noise = np.random.normal(loc=0, scale=noise_std, size=t_s.shape)\n",
        "    \n",
        "    y_s = np.zeros(N)\n",
        "    if signal:\n",
        "        y_s += y_signal\n",
        "    if noise:\n",
        "        y_s += y_noise\n",
        "    \n",
        "    # print(y_signal[10], y_noise[10], y_s[10])\n",
        "    return y_s\n",
        "\n",
        "\n",
        "\n",
        "def plot_signal(t_s, y_s):\n",
        "    plt.figure(figsize=(5, 2))\n",
        "    plt.plot(t_s, y_s)\n",
        "\n",
        "resolution = 100\n",
        "\n",
        "width = 100\n",
        "subsampling = 3\n",
        "n_components = resolution // subsampling"
      ],
      "execution_count": 7,
      "outputs": []
    },
    {
      "cell_type": "code",
      "metadata": {
        "colab": {
          "base_uri": "https://localhost:8080/",
          "height": 470
        },
        "id": "NkMFAv0K_-c2",
        "outputId": "66f53720-ff5e-40ae-f940-98a4d6daf9ae"
      },
      "source": [
        "f = 30\n",
        "\n",
        "y1 = make_signal_h0(f=f, signal=True, noise=False)\n",
        "plot_signal(np.arange(len(y1)), y1)\n",
        "\n",
        "y2 = make_signal_h0(f=f, signal=False, noise=True)\n",
        "plot_signal(np.arange(len(y2)), y2)\n",
        "\n",
        "y3 = make_signal_h0(f=f, signal=True, noise=True, amp=8e-20, noise_std=1e-22)\n",
        "plot_signal(np.arange(len(y3)), y3)"
      ],
      "execution_count": 8,
      "outputs": [
        {
          "output_type": "display_data",
          "data": {
            "image/png": "[encoded data removed]",
            "text/plain": [
              "<Figure size 360x144 with 1 Axes>"
            ]
          },
          "metadata": {
            "needs_background": "light"
          }
        },
        {
          "output_type": "display_data",
          "data": {
            "image/png": "[encoded data removed]",
            "text/plain": [
              "<Figure size 360x144 with 1 Axes>"
            ]
          },
          "metadata": {
            "needs_background": "light"
          }
        },
        {
          "output_type": "display_data",
          "data": {
            "image/png": "[encoded data removed]",
            "text/plain": [
              "<Figure size 360x144 with 1 Axes>"
            ]
          },
          "metadata": {
            "needs_background": "light"
          }
        }
      ]
    },
    {
      "cell_type": "code",
      "metadata": {
        "id": "fzp1ZeU5__et"
      },
      "source": [
        "from scipy.fftpack import fft, ifft"
      ],
      "execution_count": 9,
      "outputs": []
    },
    {
      "cell_type": "code",
      "metadata": {
        "colab": {
          "base_uri": "https://localhost:8080/",
          "height": 293
        },
        "id": "qDlGCFWaAH6n",
        "outputId": "fc7440c3-b6bb-424a-faf3-d241f05efb1e"
      },
      "source": [
        "yf = fft(y3)\n",
        "\n",
        "xf = np.linspace(0.0, 1.0/(2.0*T), int(N/2))\n",
        "\n",
        "plt.plot(xf, 2.0/N * np.abs(yf[:N//2]))\n",
        "# plt.show()"
      ],
      "execution_count": 10,
      "outputs": [
        {
          "output_type": "execute_result",
          "data": {
            "text/plain": [
              "[<matplotlib.lines.Line2D at 0x7fbfb784e4d0>]"
            ]
          },
          "metadata": {},
          "execution_count": 10
        },
        {
          "output_type": "display_data",
          "data": {
            "image/png": "[encoded data removed]",
            "text/plain": [
              "<Figure size 432x288 with 1 Axes>"
            ]
          },
          "metadata": {
            "needs_background": "light"
          }
        }
      ]
    },
    {
      "cell_type": "code",
      "metadata": {
        "id": "j0wken0LAI4e"
      },
      "source": [
        "def calculate_ex2(y):\n",
        "    return sum([i**2 for i in y]) / len(y)\n",
        "\n",
        "def calculate_snr(noise_std, f=10, N=100, T=1/800):\n",
        "    t = np.linspace(0, N * T, N)\n",
        "    y_sig = np.sin(2 * np.pi * f * t)\n",
        "    y_noise = np.random.normal(loc=0, scale=noise_std, size=t.shape)\n",
        "    \n",
        "    y = y_sig + y_noise\n",
        "\n",
        "    sn_var = np.std(y_sig) / np.sqrt(calculate_ex2(y_noise))\n",
        "    \n",
        "    return sn_var, 10 * np.log10(sn_var)\n",
        "\n",
        "\n",
        "def get_sensitivity_depth(h0, y_noise):\n",
        "    \n",
        "    freq_psd, power_data = welch(y_noise, fs=int(1/T), nfft=int(1/T))\n",
        "\n",
        "    S_n = get_sqrt_S(y_noise)**2\n",
        "\n",
        "    sqrt_S = np.sqrt(S_n)\n",
        "    \n",
        "    return sqrt_S / h0"
      ],
      "execution_count": 11,
      "outputs": []
    },
    {
      "cell_type": "code",
      "metadata": {
        "colab": {
          "base_uri": "https://localhost:8080/"
        },
        "id": "2Icv3mX9AKB0",
        "outputId": "a50379fd-6742-43d1-b232-e42376e2c309"
      },
      "source": [
        "lower_f, upper_f = 20, 25\n",
        "# noise_lower, noise_upper = 2, 5\n",
        "\n",
        "noise_std_lower, noise_std_upper = 3, 3.5\n",
        "\n",
        "h0_lower, h0_upper = 0.0, 0.0\n",
        "\n",
        "print( calculate_snr(noise_std=noise_std_lower, f=23, N=N, T=T) )\n",
        "print( calculate_snr(noise_std=noise_std_upper, f=23, N=N, T=T) )"
      ],
      "execution_count": 77,
      "outputs": [
        {
          "output_type": "stream",
          "text": [
            "(0.22781160426657468, -6.4242415760291305)\n",
            "(0.20260165781930253, -6.933570052796407)\n"
          ],
          "name": "stdout"
        }
      ]
    },
    {
      "cell_type": "code",
      "metadata": {
        "id": "KG-vL4PRAK5x"
      },
      "source": [
        "def get_sqrt_S(y_noise):\n",
        "    freq_psd, power_data = welch(y_noise, fs=int(1/T), nfft=int(1/T))\n",
        "    return np.sqrt( np.average(power_data) )"
      ],
      "execution_count": 13,
      "outputs": []
    },
    {
      "cell_type": "code",
      "metadata": {
        "colab": {
          "base_uri": "https://localhost:8080/",
          "height": 355
        },
        "id": "Q-i9uCZAAL1m",
        "outputId": "3d737a68-324a-4a6e-9843-8472999134ba"
      },
      "source": [
        "from scipy.signal import spectrogram\n",
        "\n",
        "y = make_signal_h0(f=23, signal=True, noise=True, amp=1e-20, noise_std=1e-22)\n",
        "\n",
        "plt.figure(figsize=(10, 5))\n",
        "\n",
        "f, t, Sxx = spectrogram(y, fs=10e3)\n",
        "plt.pcolormesh(t, f, Sxx, shading='gouraud')\n",
        "plt.ylabel('Frequency [Hz]')\n",
        "plt.xlabel('Time [sec]')\n",
        "plt.ylim(0, 1000)"
      ],
      "execution_count": 245,
      "outputs": [
        {
          "output_type": "execute_result",
          "data": {
            "text/plain": [
              "(0.0, 1000.0)"
            ]
          },
          "metadata": {},
          "execution_count": 245
        },
        {
          "output_type": "display_data",
          "data": {
            "image/png": "[encoded data removed]",
            "text/plain": [
              "<Figure size 720x360 with 1 Axes>"
            ]
          },
          "metadata": {
            "needs_background": "light"
          }
        }
      ]
    },
    {
      "cell_type": "code",
      "metadata": {
        "id": "nDmC4vQXAMog"
      },
      "source": [
        "# train_size = 1500\n",
        "\n",
        "\n",
        "# random.seed(42)\n",
        "\n",
        "# test_size = int(train_size  * 0.1)\n",
        "\n",
        "# f_s = []\n",
        "# all_data_raw = []\n",
        "# noises = []\n",
        "# labels = []\n",
        "\n",
        "# for i in range(train_size):\n",
        "#     f = random.uniform(lower_f, upper_f)\n",
        "    \n",
        "#     # 0 = Signal; 1 = Noise; 2 = Signal + Noise.\n",
        "    \n",
        "# #     signal = random.choices(population=[0, 1, 2], weights=[0.45, 0.1, 0.45])[0]\n",
        "# #     signal = random.choices(population=[0], weights=[1.0])[0]\n",
        "\n",
        "#     signal = random.choices(population=[2, 1], weights=[0.5, 0.5])[0]\n",
        "# #     if i == 0:\n",
        "# #         signal = 0\n",
        "# #     elif i == 1:\n",
        "# #         signal = 1\n",
        "    \n",
        "#     noise_std = random.uniform(noise_std_lower, noise_std_upper)\n",
        "    \n",
        "#     if signal == 0:\n",
        "#         # current_y = make_signal(f=f, signal=True, noise=False, noise_std=noise_std)\n",
        "#         current_y = make_signal_h0(f=f, signal=True, noise=False)\n",
        "#     elif signal == 1:\n",
        "#         # current_y = make_signal(f=f, signal=False, noise=True, noise_std=noise_std)\n",
        "#         current_y = make_signal_h0(f=f, signal=False, noise=True)\n",
        "#     elif signal == 2:\n",
        "#         # current_y = make_signal(f=f, signal=True, noise=True, noise_std=noise_std)\n",
        "#         current_y = make_signal_h0(f=f, signal=True, noise=True)\n",
        "    \n",
        "    \n",
        "    \n",
        "#     y_fft = fft(current_y)\n",
        "    \n",
        "#     # current_y = [[x.real, x.imag, f] for x in y_fft]\n",
        "#     current_y = [[x.real / 1e-21, x.imag / 1e-21, f] for x in y_fft]\n",
        "\n",
        "# #     current_y = [[x] for x in current_y]\n",
        "# #     freqs = [[f] * len(current_y)]\n",
        "    \n",
        "#     if signal == 0 or signal == 2:\n",
        "#         was_signal_there = 1\n",
        "#     elif signal == 1:\n",
        "#         was_signal_there = 0\n",
        "        \n",
        "#     f_s.append(f)\n",
        "# #     noises.append(noise_amp)\n",
        "    \n",
        "# #     current_y = np.append(current_y, int(signal))\n",
        "#     labels.append([int(was_signal_there)])\n",
        "#     all_data_raw.append(current_y)"
      ],
      "execution_count": 246,
      "outputs": []
    },
    {
      "cell_type": "code",
      "metadata": {
        "colab": {
          "base_uri": "https://localhost:8080/"
        },
        "id": "TMe-bNrUeKIt",
        "outputId": "48323c32-72fd-4217-f488-94b51ba8b384"
      },
      "source": [
        "#random.seed(42)\n",
        "\n",
        "from random import randrange\n",
        "seed = randrange(1000)\n",
        "\n",
        "print(\"Using seed = \", seed)\n",
        "\n",
        "random.seed(seed)\n",
        "np.random.seed(seed)\n",
        "\n",
        "scaling = 1e-23\n",
        "\n",
        "def generate_data(size, lower_f, upper_f, h0_lower, h0_upper):\n",
        "\n",
        "    # snr_s = []\n",
        "    f_s = []\n",
        "    all_data_raw = []\n",
        "    h0_s = []\n",
        "    labels = []\n",
        "    sqrt_S_s = []\n",
        "    rho_s = []\n",
        "\n",
        "    for i in range(size):\n",
        "      f = random.uniform(lower_f, upper_f)\n",
        "      \n",
        "      # 0 = Signal; 1 = Noise; 2 = Signal + Noise.\n",
        "      \n",
        "  #     signal = random.choices(population=[0, 1, 2], weights=[0.45, 0.1, 0.45])[0]\n",
        "  #     signal = random.choices(population=[0], weights=[1.0])[0]\n",
        "\n",
        "      signal = random.choices(population=[2, 1], weights=[0.5, 0.5])[0]\n",
        "  #     if i == 0:\n",
        "  #         signal = 0\n",
        "  #     elif i == 1:\n",
        "  #         signal = 1\n",
        "      \n",
        "      noise_std = random.uniform(noise_std_lower, noise_std_upper)\n",
        "      \n",
        "      if signal == 0:\n",
        "          current_y = make_signal_h0(f=f, signal=True, noise=False)\n",
        "      elif signal == 1:\n",
        "          current_y = make_signal_h0(f=f, signal=False, noise=True)\n",
        "      elif signal == 2:\n",
        "          current_y = make_signal_h0(f=f, signal=True, noise=True)\n",
        "      \n",
        "      \n",
        "      \n",
        "      y_fft = fft(current_y)\n",
        "      \n",
        "      current_y = [[x.real / 1e-21, x.imag / 1e-21, f] for x in y_fft]\n",
        "\n",
        "  #     current_y = [[x] for x in current_y]\n",
        "  #     freqs = [[f] * len(current_y)]\n",
        "      \n",
        "      if signal == 0 or signal == 2:\n",
        "          was_signal_there = 1\n",
        "      elif signal == 1:\n",
        "          was_signal_there = 0\n",
        "          \n",
        "      f_s.append(f)\n",
        "  #     noises.append(noise_amp)\n",
        "      \n",
        "  #     current_y = np.append(current_y, int(signal))\n",
        "      labels.append([float(was_signal_there)])\n",
        "      all_data_raw.append(current_y)\n",
        "\n",
        "    \n",
        "    \n",
        "    labels = np.array(labels).flatten()\n",
        "    \n",
        "    return all_data_raw, labels, f_s, h0_s, sqrt_S_s, rho_s"
      ],
      "execution_count": 247,
      "outputs": [
        {
          "output_type": "stream",
          "text": [
            "Using seed =  703\n"
          ],
          "name": "stdout"
        }
      ]
    },
    {
      "cell_type": "code",
      "metadata": {
        "id": "q64Chfu4eQHE"
      },
      "source": [
        "data_size = 3000\n",
        "\n",
        "all_data_raw, labels, f_s, h0_s, sqrt_S_s, rho_s = generate_data(data_size, lower_f=lower_f, upper_f=upper_f, h0_lower=h0_lower, h0_upper=h0_upper)"
      ],
      "execution_count": 248,
      "outputs": []
    },
    {
      "cell_type": "code",
      "metadata": {
        "id": "IG8LE2UAbA8a"
      },
      "source": [
        "X, y =  np.array(all_data_raw), np.array(labels)"
      ],
      "execution_count": 249,
      "outputs": []
    },
    {
      "cell_type": "code",
      "metadata": {
        "id": "YxatzHZRL6hU"
      },
      "source": [
        " X_train, X_test, y_train, y_test = train_test_split(X, y, test_size=0.1, random_state=1)\n",
        "\n",
        " X_train, X_val, y_train, y_val = train_test_split(X_train, y_train, test_size=0.1, random_state=1) # 0.25 x 0.8 = 0.2"
      ],
      "execution_count": 252,
      "outputs": []
    },
    {
      "cell_type": "code",
      "metadata": {
        "colab": {
          "base_uri": "https://localhost:8080/"
        },
        "id": "BOuUpJy6ANyO",
        "outputId": "24b4a951-1f09-4869-ac9b-1d8eb0f2bd18"
      },
      "source": [
        "X_train.shape, X_test.shape, X_val.shape, "
      ],
      "execution_count": 253,
      "outputs": [
        {
          "output_type": "execute_result",
          "data": {
            "text/plain": [
              "((2430, 1000, 3), (300, 1000, 3), (270, 1000, 3))"
            ]
          },
          "metadata": {},
          "execution_count": 253
        }
      ]
    },
    {
      "cell_type": "code",
      "metadata": {
        "colab": {
          "base_uri": "https://localhost:8080/",
          "height": 285
        },
        "id": "Pw75RZ_bASEM",
        "outputId": "1847bb51-0702-453c-f6b2-a068773f923a"
      },
      "source": [
        "plt.plot(X_train[10][:,1])"
      ],
      "execution_count": 254,
      "outputs": [
        {
          "output_type": "execute_result",
          "data": {
            "text/plain": [
              "[<matplotlib.lines.Line2D at 0x7fbfb3e61cd0>]"
            ]
          },
          "metadata": {},
          "execution_count": 254
        },
        {
          "output_type": "display_data",
          "data": {
            "image/png": "[encoded data removed]",
            "text/plain": [
              "<Figure size 432x288 with 1 Axes>"
            ]
          },
          "metadata": {
            "needs_background": "light"
          }
        }
      ]
    },
    {
      "cell_type": "code",
      "metadata": {
        "id": "QhhWEUaRdcE2"
      },
      "source": [
        "# y_train"
      ],
      "execution_count": 255,
      "outputs": []
    },
    {
      "cell_type": "code",
      "metadata": {
        "id": "8YlEn9iNAVpB"
      },
      "source": [
        "class LayerNormalization(tf.keras.layers.Layer):\n",
        "    \n",
        "    \"\"\" \n",
        "    \n",
        "    Layer normalization layer modified from https://github.com/CyberZHG based on [Layer Normalization](https://arxiv.org/pdf/1607.06450.pdf)\n",
        "    \n",
        "    Parameters\n",
        "    ----------\n",
        "    center: bool\n",
        "        Add an offset parameter if it is True. \n",
        "        \n",
        "    scale: bool\n",
        "        Add a scale parameter if it is True.     \n",
        "        \n",
        "    epsilon: bool\n",
        "        Epsilon for calculating variance.     \n",
        "        \n",
        "    gamma_initializer: str\n",
        "        Initializer for the gamma weight.     \n",
        "        \n",
        "    beta_initializer: str\n",
        "        Initializer for the beta weight.     \n",
        "                    \n",
        "    Returns\n",
        "    -------  \n",
        "    data: 3D tensor\n",
        "        with shape: (batch_size, …, input_dim) \n",
        "            \n",
        "    \"\"\"   \n",
        "              \n",
        "    def __init__(self,\n",
        "                 center=True,\n",
        "                 scale=True,\n",
        "                 epsilon=None,\n",
        "                 gamma_initializer='ones',\n",
        "                 beta_initializer='zeros',\n",
        "                 **kwargs):\n",
        "\n",
        "        super(LayerNormalization, self).__init__(**kwargs)\n",
        "        self.supports_masking = True\n",
        "        self.center = center\n",
        "        self.scale = scale\n",
        "        if epsilon is None:\n",
        "            epsilon = K.epsilon() * K.epsilon()\n",
        "        self.epsilon = epsilon\n",
        "        self.gamma_initializer = tf.keras.initializers.get(gamma_initializer)\n",
        "        self.beta_initializer = tf.keras.initializers.get(beta_initializer)\n",
        "      \n",
        "\n",
        "    def get_config(self):\n",
        "        config = {\n",
        "            'center': self.center,\n",
        "            'scale': self.scale,\n",
        "            'epsilon': self.epsilon,\n",
        "            'gamma_initializer': tf.keras.initializers.serialize(self.gamma_initializer),\n",
        "            'beta_initializer': tf.keras.initializers.serialize(self.beta_initializer),\n",
        "        }\n",
        "        base_config = super(LayerNormalization, self).get_config()\n",
        "        return dict(list(base_config.items()) + list(config.items()))\n",
        "\n",
        "    def compute_output_shape(self, input_shape):\n",
        "        return input_shape\n",
        "\n",
        "    def compute_mask(self, inputs, input_mask=None):\n",
        "        return input_mask\n",
        "\n",
        "    def build(self, input_shape):\n",
        "        self.input_spec = tf.keras.engine.InputSpec(shape=input_shape)\n",
        "        shape = input_shape[-1:]\n",
        "        if self.scale:\n",
        "            self.gamma = self.add_weight(\n",
        "                shape=shape,\n",
        "                initializer=self.gamma_initializer,\n",
        "                name='gamma',\n",
        "            )\n",
        "        if self.center:\n",
        "            self.beta = self.add_weight(\n",
        "                shape=shape,\n",
        "                initializer=self.beta_initializer,\n",
        "                name='beta',\n",
        "            )\n",
        "        super(LayerNormalization, self).build(input_shape)\n",
        "\n",
        "    def call(self, inputs, training=None):\n",
        "        mean = K.mean(inputs, axis=-1, keepdims=True)\n",
        "        variance = K.mean(K.square(inputs - mean), axis=-1, keepdims=True)\n",
        "        std = K.sqrt(variance + self.epsilon)\n",
        "        outputs = (inputs - mean) / std\n",
        "        if self.scale:\n",
        "            outputs *= self.gamma\n",
        "        if self.center:\n",
        "            outputs += self.beta\n",
        "        return outputs\n",
        "\n",
        "    \n",
        "class FeedForward(tf.keras.layers.Layer):\n",
        "    \"\"\"Position-wise feed-forward layer. modified from https://github.com/CyberZHG \n",
        "    # Arguments\n",
        "        units: int >= 0. Dimension of hidden units.\n",
        "        activation: Activation function to use\n",
        "        use_bias: Boolean, whether the layer uses a bias vector.\n",
        "        kernel_initializer: Initializer for the `kernel` weights matrix.\n",
        "        bias_initializer: Initializer for the bias vector.\n",
        "        dropout_rate: 0.0 <= float <= 1.0. Dropout rate for hidden units.\n",
        "    # Input shape\n",
        "        3D tensor with shape: `(batch_size, ..., input_dim)`.\n",
        "    # Output shape\n",
        "        3D tensor with shape: `(batch_size, ..., input_dim)`.\n",
        "    # References\n",
        "        - [Attention is All You Need](https://arxiv.org/pdf/1706.03762.pdf)\n",
        "    \"\"\"\n",
        "    \n",
        "    def __init__(self,\n",
        "                 units,\n",
        "                 activation='relu',\n",
        "                 use_bias=True,\n",
        "                 kernel_initializer='glorot_normal',\n",
        "                 bias_initializer='zeros',\n",
        "                 dropout_rate=0.0,\n",
        "                 **kwargs):\n",
        "        self.supports_masking = True\n",
        "        self.units = units\n",
        "        self.activation = tf.keras.activations.get(activation)\n",
        "        self.use_bias = use_bias\n",
        "        self.kernel_initializer = tf.keras.initializers.get(kernel_initializer)\n",
        "        self.bias_initializer = tf.keras.initializers.get(bias_initializer)\n",
        "        self.dropout_rate = dropout_rate\n",
        "        self.W1, self.b1 = None, None\n",
        "        self.W2, self.b2 = None, None\n",
        "        super(FeedForward, self).__init__(**kwargs)\n",
        "\n",
        "    def get_config(self):\n",
        "        config = {\n",
        "            'units': self.units,\n",
        "            'activation': tf.keras.activations.serialize(self.activation),\n",
        "            'use_bias': self.use_bias,\n",
        "            'kernel_initializer': tf.keras.initializers.serialize(self.kernel_initializer),\n",
        "            'bias_initializer': tf.keras.initializers.serialize(self.bias_initializer),\n",
        "            'dropout_rate': self.dropout_rate,\n",
        "        }\n",
        "        base_config = super(FeedForward, self).get_config()\n",
        "        return dict(list(base_config.items()) + list(config.items()))\n",
        "\n",
        "    def compute_output_shape(self, input_shape):\n",
        "        return input_shape\n",
        "\n",
        "    def compute_mask(self, inputs, input_mask=None):\n",
        "        return input_mask\n",
        "\n",
        "    def build(self, input_shape):\n",
        "        feature_dim = int(input_shape[-1])\n",
        "        self.W1 = self.add_weight(\n",
        "            shape=(feature_dim, self.units),\n",
        "            initializer=self.kernel_initializer,\n",
        "            name='{}_W1'.format(self.name),\n",
        "        )\n",
        "        if self.use_bias:\n",
        "            self.b1 = self.add_weight(\n",
        "                shape=(self.units,),\n",
        "                initializer=self.bias_initializer,\n",
        "                name='{}_b1'.format(self.name),\n",
        "            )\n",
        "        self.W2 = self.add_weight(\n",
        "            shape=(self.units, feature_dim),\n",
        "            initializer=self.kernel_initializer,\n",
        "            name='{}_W2'.format(self.name),\n",
        "        )\n",
        "        if self.use_bias:\n",
        "            self.b2 = self.add_weight(\n",
        "                shape=(feature_dim,),\n",
        "                initializer=self.bias_initializer,\n",
        "                name='{}_b2'.format(self.name),\n",
        "            )\n",
        "        super(FeedForward, self).build(input_shape)\n",
        "\n",
        "    def call(self, x, mask=None, training=None):\n",
        "        h = K.dot(x, self.W1)\n",
        "        if self.use_bias:\n",
        "            h = K.bias_add(h, self.b1)\n",
        "        if self.activation is not None:\n",
        "            h = self.activation(h)\n",
        "        if 0.0 < self.dropout_rate < 1.0:\n",
        "            def dropped_inputs():\n",
        "                return K.dropout(h, self.dropout_rate, K.shape(h))\n",
        "            h = K.in_train_phase(dropped_inputs, h, training=training)\n",
        "        y = K.dot(h, self.W2)\n",
        "        if self.use_bias:\n",
        "            y = K.bias_add(y, self.b2)\n",
        "        return y\n",
        "\n",
        "    \n",
        "    \n",
        "    \n",
        "\n",
        "class SeqSelfAttention(tf.keras.layers.Layer):\n",
        "    \"\"\"Layer initialization. modified from https://github.com/CyberZHG\n",
        "    For additive attention, see: https://arxiv.org/pdf/1806.01264.pdf\n",
        "    :param units: The dimension of the vectors that used to calculate the attention weights.\n",
        "    :param attention_width: The width of local attention.\n",
        "    :param attention_type: 'additive' or 'multiplicative'.\n",
        "    :param return_attention: Whether to return the attention weights for visualization.\n",
        "    :param history_only: Only use historical pieces of data.\n",
        "    :param kernel_initializer: The initializer for weight matrices.\n",
        "    :param bias_initializer: The initializer for biases.\n",
        "    :param kernel_regularizer: The regularization for weight matrices.\n",
        "    :param bias_regularizer: The regularization for biases.\n",
        "    :param kernel_constraint: The constraint for weight matrices.\n",
        "    :param bias_constraint: The constraint for biases.\n",
        "    :param use_additive_bias: Whether to use bias while calculating the relevance of inputs features\n",
        "                              in additive mode.\n",
        "    :param use_attention_bias: Whether to use bias while calculating the weights of attention.\n",
        "    :param attention_activation: The activation used for calculating the weights of attention.\n",
        "    :param attention_regularizer_weight: The weights of attention regularizer.\n",
        "    :param kwargs: Parameters for parent class.\n",
        "    \"\"\"\n",
        "        \n",
        "    ATTENTION_TYPE_ADD = 'additive'\n",
        "    ATTENTION_TYPE_MUL = 'multiplicative'\n",
        "\n",
        "    def __init__(self,\n",
        "                 units=32,\n",
        "                 attention_width=None,\n",
        "                 attention_type=ATTENTION_TYPE_ADD,\n",
        "                 return_attention=False,\n",
        "                 history_only=False,\n",
        "                 kernel_initializer='glorot_normal',\n",
        "                 bias_initializer='zeros',\n",
        "                 kernel_regularizer=None,\n",
        "                 bias_regularizer=None,\n",
        "                 kernel_constraint=None,\n",
        "                 bias_constraint=None,\n",
        "                 use_additive_bias=True,\n",
        "                 use_attention_bias=True,\n",
        "                 attention_activation=None,\n",
        "                 attention_regularizer_weight=0.0,\n",
        "                 **kwargs):\n",
        "\n",
        "        super(SeqSelfAttention, self).__init__(**kwargs)\n",
        "        self.supports_masking = True\n",
        "        self.units = units\n",
        "        self.attention_width = attention_width\n",
        "        self.attention_type = attention_type\n",
        "        self.return_attention = return_attention\n",
        "        self.history_only = history_only\n",
        "        if history_only and attention_width is None:\n",
        "            self.attention_width = int(1e9)\n",
        "\n",
        "        self.use_additive_bias = use_additive_bias\n",
        "        self.use_attention_bias = use_attention_bias\n",
        "        self.kernel_initializer = tf.keras.initializers.get(kernel_initializer)\n",
        "        self.bias_initializer = tf.keras.initializers.get(bias_initializer)\n",
        "        self.kernel_regularizer = tf.keras.regularizers.get(kernel_regularizer)\n",
        "        self.bias_regularizer = tf.keras.regularizers.get(bias_regularizer)\n",
        "        self.kernel_constraint = tf.keras.constraints.get(kernel_constraint)\n",
        "        self.bias_constraint = tf.keras.constraints.get(bias_constraint)\n",
        "        self.attention_activation = tf.keras.activations.get(attention_activation)\n",
        "        self.attention_regularizer_weight = attention_regularizer_weight\n",
        "        self._backend = keras.backend.backend()\n",
        "\n",
        "        if attention_type == SeqSelfAttention.ATTENTION_TYPE_ADD:\n",
        "            self.Wx, self.Wt, self.bh = None, None, None\n",
        "            self.Wa, self.ba = None, None\n",
        "        elif attention_type == SeqSelfAttention.ATTENTION_TYPE_MUL:\n",
        "            self.Wa, self.ba = None, None\n",
        "        else:\n",
        "            raise NotImplementedError('No implementation for attention type : ' + attention_type)\n",
        "\n",
        "    def get_config(self):\n",
        "        config = {\n",
        "            'units': self.units,\n",
        "            'attention_width': self.attention_width,\n",
        "            'attention_type': self.attention_type,\n",
        "            'return_attention': self.return_attention,\n",
        "            'history_only': self.history_only,\n",
        "            'use_additive_bias': self.use_additive_bias,\n",
        "            'use_attention_bias': self.use_attention_bias,\n",
        "            'kernel_initializer': tf.keras.regularizers.serialize(self.kernel_initializer),\n",
        "            'bias_initializer': tf.keras.regularizers.serialize(self.bias_initializer),\n",
        "            'kernel_regularizer': tf.keras.regularizers.serialize(self.kernel_regularizer),\n",
        "            'bias_regularizer': tf.keras.regularizers.serialize(self.bias_regularizer),\n",
        "            'kernel_constraint': tf.keras.constraints.serialize(self.kernel_constraint),\n",
        "            'bias_constraint': tf.keras.constraints.serialize(self.bias_constraint),\n",
        "            'attention_activation': tf.keras.activations.serialize(self.attention_activation),\n",
        "            'attention_regularizer_weight': self.attention_regularizer_weight,\n",
        "        }\n",
        "        base_config = super(SeqSelfAttention, self).get_config()\n",
        "        return dict(list(base_config.items()) + list(config.items()))\n",
        "\n",
        "    def build(self, input_shape):\n",
        "        if self.attention_type == SeqSelfAttention.ATTENTION_TYPE_ADD:\n",
        "            self._build_additive_attention(input_shape)\n",
        "        elif self.attention_type == SeqSelfAttention.ATTENTION_TYPE_MUL:\n",
        "            self._build_multiplicative_attention(input_shape)\n",
        "        super(SeqSelfAttention, self).build(input_shape)\n",
        "\n",
        "    def _build_additive_attention(self, input_shape):\n",
        "        feature_dim = int(input_shape[2])\n",
        "\n",
        "        self.Wt = self.add_weight(shape=(feature_dim, self.units),\n",
        "                                  name='{}_Add_Wt'.format(self.name),\n",
        "                                  initializer=self.kernel_initializer,\n",
        "                                  regularizer=self.kernel_regularizer,\n",
        "                                  constraint=self.kernel_constraint)\n",
        "        self.Wx = self.add_weight(shape=(feature_dim, self.units),\n",
        "                                  name='{}_Add_Wx'.format(self.name),\n",
        "                                  initializer=self.kernel_initializer,\n",
        "                                  regularizer=self.kernel_regularizer,\n",
        "                                  constraint=self.kernel_constraint)\n",
        "        if self.use_additive_bias:\n",
        "            self.bh = self.add_weight(shape=(self.units,),\n",
        "                                      name='{}_Add_bh'.format(self.name),\n",
        "                                      initializer=self.bias_initializer,\n",
        "                                      regularizer=self.bias_regularizer,\n",
        "                                      constraint=self.bias_constraint)\n",
        "\n",
        "        self.Wa = self.add_weight(shape=(self.units, 1),\n",
        "                                  name='{}_Add_Wa'.format(self.name),\n",
        "                                  initializer=self.kernel_initializer,\n",
        "                                  regularizer=self.kernel_regularizer,\n",
        "                                  constraint=self.kernel_constraint)\n",
        "        if self.use_attention_bias:\n",
        "            self.ba = self.add_weight(shape=(1,),\n",
        "                                      name='{}_Add_ba'.format(self.name),\n",
        "                                      initializer=self.bias_initializer,\n",
        "                                      regularizer=self.bias_regularizer,\n",
        "                                      constraint=self.bias_constraint)\n",
        "\n",
        "    def _build_multiplicative_attention(self, input_shape):\n",
        "        feature_dim = int(input_shape[2])\n",
        "\n",
        "        self.Wa = self.add_weight(shape=(feature_dim, feature_dim),\n",
        "                                  name='{}_Mul_Wa'.format(self.name),\n",
        "                                  initializer=self.kernel_initializer,\n",
        "                                  regularizer=self.kernel_regularizer,\n",
        "                                  constraint=self.kernel_constraint)\n",
        "        if self.use_attention_bias:\n",
        "            self.ba = self.add_weight(shape=(1,),\n",
        "                                      name='{}_Mul_ba'.format(self.name),\n",
        "                                      initializer=self.bias_initializer,\n",
        "                                      regularizer=self.bias_regularizer,\n",
        "                                      constraint=self.bias_constraint)\n",
        "\n",
        "    def call(self, inputs, mask=None, **kwargs):\n",
        "        input_len = K.shape(inputs)[1]\n",
        "\n",
        "        if self.attention_type == SeqSelfAttention.ATTENTION_TYPE_ADD:\n",
        "            e = self._call_additive_emission(inputs)\n",
        "        elif self.attention_type == SeqSelfAttention.ATTENTION_TYPE_MUL:\n",
        "            e = self._call_multiplicative_emission(inputs)\n",
        "\n",
        "        if self.attention_activation is not None:\n",
        "            e = self.attention_activation(e)\n",
        "        e = K.exp(e - K.max(e, axis=-1, keepdims=True))\n",
        "        if self.attention_width is not None:\n",
        "            if self.history_only:\n",
        "                lower = K.arange(0, input_len) - (self.attention_width - 1)\n",
        "            else:\n",
        "                lower = K.arange(0, input_len) - self.attention_width // 2\n",
        "            lower = K.expand_dims(lower, axis=-1)\n",
        "            upper = lower + self.attention_width\n",
        "            indices = K.expand_dims(K.arange(0, input_len), axis=0)\n",
        "            e = e * K.cast(lower <= indices, K.floatx()) * K.cast(indices < upper, K.floatx())\n",
        "        if mask is not None:\n",
        "            mask = K.cast(mask, K.floatx())\n",
        "            mask = K.expand_dims(mask)\n",
        "            e = K.permute_dimensions(K.permute_dimensions(e * mask, (0, 2, 1)) * mask, (0, 2, 1))\n",
        "\n",
        "        # a_{t} = \\text{softmax}(e_t)\n",
        "        s = K.sum(e, axis=-1, keepdims=True)\n",
        "        a = e / (s + K.epsilon())\n",
        "\n",
        "        # l_t = \\sum_{t'} a_{t, t'} x_{t'}\n",
        "        v = K.batch_dot(a, inputs)\n",
        "        if self.attention_regularizer_weight > 0.0:\n",
        "            self.add_loss(self._attention_regularizer(a))\n",
        "\n",
        "        if self.return_attention:\n",
        "            return [v, a]\n",
        "        return v\n",
        "\n",
        "    def _call_additive_emission(self, inputs):\n",
        "        input_shape = K.shape(inputs)\n",
        "        batch_size, input_len = input_shape[0], input_shape[1]\n",
        "\n",
        "        # h_{t, t'} = \\tanh(x_t^T W_t + x_{t'}^T W_x + b_h)\n",
        "        q = K.expand_dims(K.dot(inputs, self.Wt), 2)\n",
        "        k = K.expand_dims(K.dot(inputs, self.Wx), 1)\n",
        "        if self.use_additive_bias:\n",
        "            h = K.tanh(q + k + self.bh)\n",
        "        else:\n",
        "            h = K.tanh(q + k)\n",
        "\n",
        "        # e_{t, t'} = W_a h_{t, t'} + b_a\n",
        "        if self.use_attention_bias:\n",
        "            e = K.reshape(K.dot(h, self.Wa) + self.ba, (batch_size, input_len, input_len))\n",
        "        else:\n",
        "            e = K.reshape(K.dot(h, self.Wa), (batch_size, input_len, input_len))\n",
        "        return e\n",
        "\n",
        "    def _call_multiplicative_emission(self, inputs):\n",
        "        # e_{t, t'} = x_t^T W_a x_{t'} + b_a\n",
        "        e = K.batch_dot(K.dot(inputs, self.Wa), K.permute_dimensions(inputs, (0, 2, 1)))\n",
        "        if self.use_attention_bias:\n",
        "            e += self.ba[0]\n",
        "        return e\n",
        "\n",
        "    def compute_output_shape(self, input_shape):\n",
        "        output_shape = input_shape\n",
        "        if self.return_attention:\n",
        "            attention_shape = (input_shape[0], output_shape[1], input_shape[1])\n",
        "            return [output_shape, attention_shape]\n",
        "        return output_shape\n",
        "\n",
        "    def compute_mask(self, inputs, mask=None):\n",
        "        if self.return_attention:\n",
        "            return [mask, None]\n",
        "        return mask\n",
        "\n",
        "    def _attention_regularizer(self, attention):\n",
        "        batch_size = K.cast(K.shape(attention)[0], K.floatx())\n",
        "        input_len = K.shape(attention)[-1]\n",
        "        indices = K.expand_dims(K.arange(0, input_len), axis=0)\n",
        "        diagonal = K.expand_dims(K.arange(0, input_len), axis=-1)\n",
        "        eye = K.cast(K.equal(indices, diagonal), K.floatx())\n",
        "        return self.attention_regularizer_weight * K.sum(K.square(K.batch_dot(\n",
        "            attention,\n",
        "            K.permute_dimensions(attention, (0, 2, 1))) - eye)) / batch_size\n",
        "\n",
        "    @staticmethod\n",
        "    def get_custom_objects():\n",
        "        return {'SeqSelfAttention': SeqSelfAttention}\n",
        "\n",
        "def f1(y_true, y_pred):\n",
        "    \n",
        "    \"\"\" \n",
        "    \n",
        "    Calculate F1-score.\n",
        "    \n",
        "    Parameters\n",
        "    ----------\n",
        "    y_true : 1D array\n",
        "        Ground truth labels. \n",
        "        \n",
        "    y_pred : 1D array\n",
        "        Predicted labels.     \n",
        "        \n",
        "    Returns\n",
        "    -------  \n",
        "    f1 : float\n",
        "        Calculated F1-score. \n",
        "        \n",
        "    \"\"\"     \n",
        "    \n",
        "    def recall(y_true, y_pred):\n",
        "        'Recall metric. Only computes a batch-wise average of recall. Computes the recall, a metric for multi-label classification of how many relevant items are selected.'\n",
        "\n",
        "        true_positives = K.sum(K.round(K.clip(y_true * y_pred, 0, 1)))\n",
        "        possible_positives = K.sum(K.round(K.clip(y_true, 0, 1)))\n",
        "        recall = true_positives / (possible_positives + K.epsilon())\n",
        "        return recall\n",
        "\n",
        "    def precision(y_true, y_pred):\n",
        "        'Precision metric. Only computes a batch-wise average of precision. Computes the precision, a metric for multi-label classification of how many selected items are relevant.'\n",
        "\n",
        "        true_positives = K.sum(K.round(K.clip(y_true * y_pred, 0, 1)))\n",
        "        predicted_positives = K.sum(K.round(K.clip(y_pred, 0, 1)))\n",
        "        precision = true_positives / (predicted_positives + K.epsilon())\n",
        "        return precision\n",
        "    \n",
        "    precision = precision(y_true, y_pred)\n",
        "    recall = recall(y_true, y_pred)\n",
        "    return 2*((precision*recall)/(precision+recall+K.epsilon()))\n",
        "\n",
        "\n",
        "\n",
        "def _block_BiLSTM(filters, drop_rate, padding, inpR, regularizer):\n",
        "    'Returns LSTM residual block'    \n",
        "    prev = inpR\n",
        "    x_rnn = Bidirectional(LSTM(filters, \n",
        "                               return_sequences=True, \n",
        "                               dropout=drop_rate, \n",
        "                               recurrent_dropout=drop_rate,\n",
        "                               kernel_regularizer=regularizer, \n",
        "                               recurrent_regularizer=regularizer, \n",
        "                               bias_regularizer=regularizer,\n",
        "                               activity_regularizer=regularizer\n",
        "                              ))(prev)\n",
        "    \n",
        "    NiN = Conv1D(filters, 1, padding = padding, kernel_regularizer = regularizer, bias_regularizer = regularizer,)(x_rnn)     \n",
        "    res_out = BatchNormalization()(NiN)\n",
        "    return res_out\n",
        "\n",
        "\n",
        "def _block_CNN_1(filters, ker, drop_rate, activation, padding, inpC, regularizer): \n",
        "    ' Returns CNN residual blocks '\n",
        "    prev = inpC\n",
        "    layer_1 = BatchNormalization()(prev) \n",
        "    act_1 = Activation(activation)(layer_1) \n",
        "    act_1 = SpatialDropout1D(drop_rate)(act_1, training=True)\n",
        "    conv_1 = Conv1D(filters, ker, padding = padding, kernel_regularizer = regularizer, bias_regularizer = regularizer)(act_1) \n",
        "    \n",
        "    layer_2 = BatchNormalization()(conv_1) \n",
        "    act_2 = Activation(activation)(layer_2) \n",
        "    act_2 = SpatialDropout1D(drop_rate)(act_2, training=True)\n",
        "    conv_2 = Conv1D(filters, ker, padding = padding, kernel_regularizer = regularizer, bias_regularizer = regularizer)(act_2)\n",
        "    \n",
        "    res_out = add([prev, conv_2])\n",
        "    \n",
        "    return res_out \n",
        "\n",
        "\n",
        "def _transformer(drop_rate, width, name, inpC, regularizer): \n",
        "    ' Returns a transformer block containing one addetive attention and one feed  forward layer with residual connections '\n",
        "    x = inpC\n",
        "    \n",
        "    att_layer, weight = SeqSelfAttention(return_attention =True,                                       \n",
        "                                         attention_width = width,\n",
        "                                         name=name)(x)\n",
        "   \n",
        "#  att_layer = Dropout(drop_rate)(att_layer, training=True)    \n",
        "    att_layer2 = add([x, att_layer])    \n",
        "    norm_layer = LayerNormalization()(att_layer2)\n",
        "    \n",
        "    FF = FeedForward(units=16, dropout_rate=drop_rate)(norm_layer) # Was 128.\n",
        "    \n",
        "    FF_add = add([norm_layer, FF])    \n",
        "    norm_out = LayerNormalization()(FF_add)\n",
        "    \n",
        "    return norm_out, weight \n",
        "\n",
        "\n"
      ],
      "execution_count": 256,
      "outputs": []
    },
    {
      "cell_type": "code",
      "metadata": {
        "id": "qQYYHNWZAWsA"
      },
      "source": [
        "# ker_regul = keras.regularizers.l2(1e-10)\n",
        "# bias_regul = keras.regularizers.l2(1e-10)\n",
        "\n",
        "ker_regul = tf.keras.regularizers.l1(1e-5)\n",
        "bias_regul = tf.keras.regularizers.l1(1e-5)\n",
        "\n",
        "\n",
        "# 5e-2 This works well when noise = [1, 1.5]\n",
        "\n",
        "dropout_rate = 0.01\n",
        "\n",
        "# m = 2\n",
        "# n = 2\n",
        "\n",
        "m = 3\n",
        "n = 3\n",
        "\n",
        "\n",
        "def autoencoder_model(X, attention=False):\n",
        "    inputs = tf.keras.layers.Input(shape=(X.shape[1], X.shape[2]))\n",
        "    \n",
        "    e = Conv1D( m, \n",
        "                [n], \n",
        "                activation = 'relu',\n",
        "                padding='causal',\n",
        "                kernel_regularizer = ker_regul,\n",
        "                bias_regularizer = bias_regul,\n",
        "                )(inputs)             \n",
        "            \n",
        "    e = MaxPooling1D(2, padding='same')(e)      \n",
        "    \n",
        "    \n",
        "    \n",
        "    layer_1 = BatchNormalization()(e) \n",
        "    act_1 = Activation('relu')(layer_1) \n",
        "    act_1 = SpatialDropout1D(dropout_rate)(act_1, training=True)\n",
        "    # e = Conv1D(15, 9, padding='causal', kernel_regularizer = ker_regul, bias_regularizer = bias_regul,)(act_1) \n",
        "\n",
        "    e = Conv1D(m, n, padding='causal', kernel_regularizer = ker_regul, bias_regularizer = bias_regul,)(act_1) \n",
        "    \n",
        "    e = _block_BiLSTM(1, dropout_rate, 'causal', e, ker_regul)\n",
        "    # e = _block_BiLSTM(5, dropout_rate, 'causal', e, ker_regul) # Remove\n",
        "    \n",
        "    \n",
        "    if attention:\n",
        "        x, weightdD0 = _transformer(dropout_rate, None, 'attentionD0', e, ker_regul)\n",
        "        encoded, weightdD = _transformer(dropout_rate, None, 'attentionD', x, ker_regul)\n",
        "        e = encoded\n",
        "    \n",
        "    # Decoder\n",
        "#     e = UpSampling1D(2)(e)    # Remove\n",
        "\n",
        "    # e = UpSampling1D(8)(e)\n",
        "    e = UpSampling1D(4)(e)\n",
        "    e = Conv1D(m, \n",
        "               [n], \n",
        "               padding = 'causal', \n",
        "               activation = 'relu',\n",
        "               kernel_regularizer = ker_regul, \n",
        "               bias_regularizer = bias_regul\n",
        "               )(e)\n",
        "\n",
        "    # Decoder done.\n",
        "    \n",
        "    e = Conv1D(m, n, padding='causal', activation='relu', name='detector',\n",
        "                   kernel_regularizer = ker_regul, \n",
        "                   bias_regularizer = bias_regul)(e)\n",
        "    \n",
        "    e = Flatten()(e)\n",
        "    \n",
        "    # e = Dense(32)(e) # Remove\n",
        "    # e = Dense(16)(e) # Remove\n",
        "    # e = Dense(8)(e) # Remove\n",
        "    e = Dense(2)(e)\n",
        "    e = Dense(1, activation='sigmoid')(e)\n",
        "    \n",
        "    model = Model(inputs=inputs, outputs=e)\n",
        "    \n",
        "    return model"
      ],
      "execution_count": 316,
      "outputs": []
    },
    {
      "cell_type": "code",
      "metadata": {
        "id": "qHfSwA-GVWBW"
      },
      "source": [
        "def convert_to_dataset(X_inp, y_inp, batch_size=1):\n",
        "  X_tensor_un = tf.convert_to_tensor(X_inp)\n",
        "  y_tensor = tf.convert_to_tensor(y_inp)\n",
        "\n",
        "  # X_tensor = tf.keras.utils.normalize(X_tensor_un)\n",
        "  X_tensor = X_tensor_un\n",
        "  \n",
        "  return tf.data.Dataset.from_tensor_slices((X_tensor, y_tensor)).batch(batch_size=batch_size, drop_remainder=True)"
      ],
      "execution_count": 317,
      "outputs": []
    },
    {
      "cell_type": "code",
      "metadata": {
        "id": "nnj21vs2AZ2S"
      },
      "source": [
        "batch_size = 16"
      ],
      "execution_count": 318,
      "outputs": []
    },
    {
      "cell_type": "code",
      "metadata": {
        "id": "ZGFagvy0QGs2"
      },
      "source": [
        "dset_train = convert_to_dataset(X_train, y_train, batch_size)\n",
        "dset_test = convert_to_dataset(X_test, y_test, batch_size)\n",
        "dset_val = convert_to_dataset(X_val, y_val, batch_size)"
      ],
      "execution_count": 319,
      "outputs": []
    },
    {
      "cell_type": "code",
      "metadata": {
        "id": "CfBe_-TmZsTN",
        "colab": {
          "base_uri": "https://localhost:8080/"
        },
        "outputId": "93ade4b6-0e4e-4b62-f8a6-b868e53f79f0"
      },
      "source": [
        "dset_train"
      ],
      "execution_count": 320,
      "outputs": [
        {
          "output_type": "execute_result",
          "data": {
            "text/plain": [
              "<BatchDataset shapes: ((16, 1000, 3), (16,)), types: (tf.float64, tf.float64)>"
            ]
          },
          "metadata": {},
          "execution_count": 320
        }
      ]
    },
    {
      "cell_type": "code",
      "metadata": {
        "id": "UcIfluyhphS_"
      },
      "source": [
        "# list(dset_train.as_numpy_iterator())"
      ],
      "execution_count": 321,
      "outputs": []
    },
    {
      "cell_type": "code",
      "metadata": {
        "id": "0pr5sDscZ4ch"
      },
      "source": [
        ""
      ],
      "execution_count": 321,
      "outputs": []
    },
    {
      "cell_type": "code",
      "metadata": {
        "colab": {
          "base_uri": "https://localhost:8080/"
        },
        "id": "CUxoi79lAbTv",
        "outputId": "03ccc597-79c6-4ed9-b17c-e30f04f5c920"
      },
      "source": [
        "attention = False\n",
        "\n",
        "with tpu_strategy.scope(): # creating the model in the TPUStrategy scope means we will train the model on the TPU\n",
        "  model = autoencoder_model(X_train, attention=attention)\n",
        "\n",
        "model.summary()\n"
      ],
      "execution_count": 322,
      "outputs": [
        {
          "output_type": "stream",
          "text": [
            "Model: \"model_18\"\n",
            "_________________________________________________________________\n",
            "Layer (type)                 Output Shape              Param #   \n",
            "=================================================================\n",
            "input_19 (InputLayer)        [(None, 1000, 3)]         0         \n",
            "_________________________________________________________________\n",
            "conv1d_61 (Conv1D)           (None, 1000, 3)           30        \n",
            "_________________________________________________________________\n",
            "max_pooling1d_18 (MaxPooling (None, 500, 3)            0         \n",
            "_________________________________________________________________\n",
            "batch_normalization_25 (Batc (None, 500, 3)            12        \n",
            "_________________________________________________________________\n",
            "activation_7 (Activation)    (None, 500, 3)            0         \n",
            "_________________________________________________________________\n",
            "spatial_dropout1d_7 (Spatial (None, 500, 3)            0         \n",
            "_________________________________________________________________\n",
            "conv1d_62 (Conv1D)           (None, 500, 3)            30        \n",
            "_________________________________________________________________\n",
            "bidirectional_18 (Bidirectio (None, 500, 2)            40        \n",
            "_________________________________________________________________\n",
            "conv1d_63 (Conv1D)           (None, 500, 1)            3         \n",
            "_________________________________________________________________\n",
            "batch_normalization_26 (Batc (None, 500, 1)            4         \n",
            "_________________________________________________________________\n",
            "up_sampling1d_18 (UpSampling (None, 2000, 1)           0         \n",
            "_________________________________________________________________\n",
            "conv1d_64 (Conv1D)           (None, 2000, 3)           12        \n",
            "_________________________________________________________________\n",
            "detector (Conv1D)            (None, 2000, 3)           30        \n",
            "_________________________________________________________________\n",
            "flatten_18 (Flatten)         (None, 6000)              0         \n",
            "_________________________________________________________________\n",
            "dense_69 (Dense)             (None, 2)                 12002     \n",
            "_________________________________________________________________\n",
            "dense_70 (Dense)             (None, 1)                 3         \n",
            "=================================================================\n",
            "Total params: 12,166\n",
            "Trainable params: 12,158\n",
            "Non-trainable params: 8\n",
            "_________________________________________________________________\n"
          ],
          "name": "stdout"
        }
      ]
    },
    {
      "cell_type": "code",
      "metadata": {
        "id": "_5FSqTJfKLF3"
      },
      "source": [
        "model.compile(loss=\"binary_crossentropy\", optimizer=Adam(learning_rate=0.02), metrics=[f1]) "
      ],
      "execution_count": 323,
      "outputs": []
    },
    {
      "cell_type": "code",
      "metadata": {
        "colab": {
          "base_uri": "https://localhost:8080/",
          "height": 374
        },
        "id": "hQJvh9qEKFNt",
        "outputId": "471c0aef-3b4d-4a1d-d53e-636adaa99816"
      },
      "source": [
        "EPOCH = 50\n",
        "\n",
        "validation = False\n",
        "\n",
        "# with tpu_strategy.scope():\n",
        "#   history = model.fit(X_tensor,\n",
        "#                     Y_tensor,\n",
        "#                     epochs=EPOCH,\n",
        "#                     batch_size=10,\n",
        "#                     validation_split=0.3)\n",
        "\n",
        "callback = tf.keras.callbacks.EarlyStopping(monitor='loss', patience=20)\n",
        "\n",
        "with tpu_strategy.scope():\n",
        "  history = model.fit(dset_train,\n",
        "                    epochs=EPOCH,\n",
        "                    callbacks=[callback],\n",
        "                    validation_data=dset_val)"
      ],
      "execution_count": 325,
      "outputs": [
        {
          "output_type": "stream",
          "text": [
            "Epoch 1/50\n",
            " 81/151 [===============>..............] - ETA: 5s - loss: 0.0059 - f1: 0.7469"
          ],
          "name": "stdout"
        },
        {
          "output_type": "error",
          "ename": "KeyboardInterrupt",
          "evalue": "ignored",
          "traceback": [
            "\u001b[0;31m---------------------------------------------------------------------------\u001b[0m",
            "\u001b[0;31mKeyboardInterrupt\u001b[0m                         Traceback (most recent call last)",
            "\u001b[0;32m<ipython-input-325-f91fdbb7675c>\u001b[0m in \u001b[0;36m<module>\u001b[0;34m()\u001b[0m\n\u001b[1;32m     16\u001b[0m                     \u001b[0mepochs\u001b[0m\u001b[0;34m=\u001b[0m\u001b[0mEPOCH\u001b[0m\u001b[0;34m,\u001b[0m\u001b[0;34m\u001b[0m\u001b[0;34m\u001b[0m\u001b[0m\n\u001b[1;32m     17\u001b[0m                     \u001b[0mcallbacks\u001b[0m\u001b[0;34m=\u001b[0m\u001b[0;34m[\u001b[0m\u001b[0mcallback\u001b[0m\u001b[0;34m]\u001b[0m\u001b[0;34m,\u001b[0m\u001b[0;34m\u001b[0m\u001b[0;34m\u001b[0m\u001b[0m\n\u001b[0;32m---> 18\u001b[0;31m                     validation_data=dset_val)\n\u001b[0m",
            "\u001b[0;32m/usr/local/lib/python3.7/dist-packages/keras/engine/training.py\u001b[0m in \u001b[0;36mfit\u001b[0;34m(self, x, y, batch_size, epochs, verbose, callbacks, validation_split, validation_data, shuffle, class_weight, sample_weight, initial_epoch, steps_per_epoch, validation_steps, validation_batch_size, validation_freq, max_queue_size, workers, use_multiprocessing)\u001b[0m\n\u001b[1;32m   1187\u001b[0m               \u001b[0mlogs\u001b[0m \u001b[0;34m=\u001b[0m \u001b[0mtmp_logs\u001b[0m  \u001b[0;31m# No error, now safe to assign to logs.\u001b[0m\u001b[0;34m\u001b[0m\u001b[0;34m\u001b[0m\u001b[0m\n\u001b[1;32m   1188\u001b[0m               \u001b[0mend_step\u001b[0m \u001b[0;34m=\u001b[0m \u001b[0mstep\u001b[0m \u001b[0;34m+\u001b[0m \u001b[0mdata_handler\u001b[0m\u001b[0;34m.\u001b[0m\u001b[0mstep_increment\u001b[0m\u001b[0;34m\u001b[0m\u001b[0;34m\u001b[0m\u001b[0m\n\u001b[0;32m-> 1189\u001b[0;31m               \u001b[0mcallbacks\u001b[0m\u001b[0;34m.\u001b[0m\u001b[0mon_train_batch_end\u001b[0m\u001b[0;34m(\u001b[0m\u001b[0mend_step\u001b[0m\u001b[0;34m,\u001b[0m \u001b[0mlogs\u001b[0m\u001b[0;34m)\u001b[0m\u001b[0;34m\u001b[0m\u001b[0;34m\u001b[0m\u001b[0m\n\u001b[0m\u001b[1;32m   1190\u001b[0m               \u001b[0;32mif\u001b[0m \u001b[0mself\u001b[0m\u001b[0;34m.\u001b[0m\u001b[0mstop_training\u001b[0m\u001b[0;34m:\u001b[0m\u001b[0;34m\u001b[0m\u001b[0;34m\u001b[0m\u001b[0m\n\u001b[1;32m   1191\u001b[0m                 \u001b[0;32mbreak\u001b[0m\u001b[0;34m\u001b[0m\u001b[0;34m\u001b[0m\u001b[0m\n",
            "\u001b[0;32m/usr/local/lib/python3.7/dist-packages/keras/callbacks.py\u001b[0m in \u001b[0;36mon_train_batch_end\u001b[0;34m(self, batch, logs)\u001b[0m\n\u001b[1;32m    433\u001b[0m     \"\"\"\n\u001b[1;32m    434\u001b[0m     \u001b[0;32mif\u001b[0m \u001b[0mself\u001b[0m\u001b[0;34m.\u001b[0m\u001b[0m_should_call_train_batch_hooks\u001b[0m\u001b[0;34m:\u001b[0m\u001b[0;34m\u001b[0m\u001b[0;34m\u001b[0m\u001b[0m\n\u001b[0;32m--> 435\u001b[0;31m       \u001b[0mself\u001b[0m\u001b[0;34m.\u001b[0m\u001b[0m_call_batch_hook\u001b[0m\u001b[0;34m(\u001b[0m\u001b[0mModeKeys\u001b[0m\u001b[0;34m.\u001b[0m\u001b[0mTRAIN\u001b[0m\u001b[0;34m,\u001b[0m \u001b[0;34m'end'\u001b[0m\u001b[0;34m,\u001b[0m \u001b[0mbatch\u001b[0m\u001b[0;34m,\u001b[0m \u001b[0mlogs\u001b[0m\u001b[0;34m=\u001b[0m\u001b[0mlogs\u001b[0m\u001b[0;34m)\u001b[0m\u001b[0;34m\u001b[0m\u001b[0;34m\u001b[0m\u001b[0m\n\u001b[0m\u001b[1;32m    436\u001b[0m \u001b[0;34m\u001b[0m\u001b[0m\n\u001b[1;32m    437\u001b[0m   \u001b[0;32mdef\u001b[0m \u001b[0mon_test_batch_begin\u001b[0m\u001b[0;34m(\u001b[0m\u001b[0mself\u001b[0m\u001b[0;34m,\u001b[0m \u001b[0mbatch\u001b[0m\u001b[0;34m,\u001b[0m \u001b[0mlogs\u001b[0m\u001b[0;34m=\u001b[0m\u001b[0;32mNone\u001b[0m\u001b[0;34m)\u001b[0m\u001b[0;34m:\u001b[0m\u001b[0;34m\u001b[0m\u001b[0;34m\u001b[0m\u001b[0m\n",
            "\u001b[0;32m/usr/local/lib/python3.7/dist-packages/keras/callbacks.py\u001b[0m in \u001b[0;36m_call_batch_hook\u001b[0;34m(self, mode, hook, batch, logs)\u001b[0m\n\u001b[1;32m    293\u001b[0m       \u001b[0mself\u001b[0m\u001b[0;34m.\u001b[0m\u001b[0m_call_batch_begin_hook\u001b[0m\u001b[0;34m(\u001b[0m\u001b[0mmode\u001b[0m\u001b[0;34m,\u001b[0m \u001b[0mbatch\u001b[0m\u001b[0;34m,\u001b[0m \u001b[0mlogs\u001b[0m\u001b[0;34m)\u001b[0m\u001b[0;34m\u001b[0m\u001b[0;34m\u001b[0m\u001b[0m\n\u001b[1;32m    294\u001b[0m     \u001b[0;32melif\u001b[0m \u001b[0mhook\u001b[0m \u001b[0;34m==\u001b[0m \u001b[0;34m'end'\u001b[0m\u001b[0;34m:\u001b[0m\u001b[0;34m\u001b[0m\u001b[0;34m\u001b[0m\u001b[0m\n\u001b[0;32m--> 295\u001b[0;31m       \u001b[0mself\u001b[0m\u001b[0;34m.\u001b[0m\u001b[0m_call_batch_end_hook\u001b[0m\u001b[0;34m(\u001b[0m\u001b[0mmode\u001b[0m\u001b[0;34m,\u001b[0m \u001b[0mbatch\u001b[0m\u001b[0;34m,\u001b[0m \u001b[0mlogs\u001b[0m\u001b[0;34m)\u001b[0m\u001b[0;34m\u001b[0m\u001b[0;34m\u001b[0m\u001b[0m\n\u001b[0m\u001b[1;32m    296\u001b[0m     \u001b[0;32melse\u001b[0m\u001b[0;34m:\u001b[0m\u001b[0;34m\u001b[0m\u001b[0;34m\u001b[0m\u001b[0m\n\u001b[1;32m    297\u001b[0m       \u001b[0;32mraise\u001b[0m \u001b[0mValueError\u001b[0m\u001b[0;34m(\u001b[0m\u001b[0;34m'Unrecognized hook: {}'\u001b[0m\u001b[0;34m.\u001b[0m\u001b[0mformat\u001b[0m\u001b[0;34m(\u001b[0m\u001b[0mhook\u001b[0m\u001b[0;34m)\u001b[0m\u001b[0;34m)\u001b[0m\u001b[0;34m\u001b[0m\u001b[0;34m\u001b[0m\u001b[0m\n",
            "\u001b[0;32m/usr/local/lib/python3.7/dist-packages/keras/callbacks.py\u001b[0m in \u001b[0;36m_call_batch_end_hook\u001b[0;34m(self, mode, batch, logs)\u001b[0m\n\u001b[1;32m    313\u001b[0m       \u001b[0mself\u001b[0m\u001b[0;34m.\u001b[0m\u001b[0m_batch_times\u001b[0m\u001b[0;34m.\u001b[0m\u001b[0mappend\u001b[0m\u001b[0;34m(\u001b[0m\u001b[0mbatch_time\u001b[0m\u001b[0;34m)\u001b[0m\u001b[0;34m\u001b[0m\u001b[0;34m\u001b[0m\u001b[0m\n\u001b[1;32m    314\u001b[0m \u001b[0;34m\u001b[0m\u001b[0m\n\u001b[0;32m--> 315\u001b[0;31m     \u001b[0mself\u001b[0m\u001b[0;34m.\u001b[0m\u001b[0m_call_batch_hook_helper\u001b[0m\u001b[0;34m(\u001b[0m\u001b[0mhook_name\u001b[0m\u001b[0;34m,\u001b[0m \u001b[0mbatch\u001b[0m\u001b[0;34m,\u001b[0m \u001b[0mlogs\u001b[0m\u001b[0;34m)\u001b[0m\u001b[0;34m\u001b[0m\u001b[0;34m\u001b[0m\u001b[0m\n\u001b[0m\u001b[1;32m    316\u001b[0m \u001b[0;34m\u001b[0m\u001b[0m\n\u001b[1;32m    317\u001b[0m     \u001b[0;32mif\u001b[0m \u001b[0mlen\u001b[0m\u001b[0;34m(\u001b[0m\u001b[0mself\u001b[0m\u001b[0;34m.\u001b[0m\u001b[0m_batch_times\u001b[0m\u001b[0;34m)\u001b[0m \u001b[0;34m>=\u001b[0m \u001b[0mself\u001b[0m\u001b[0;34m.\u001b[0m\u001b[0m_num_batches_for_timing_check\u001b[0m\u001b[0;34m:\u001b[0m\u001b[0;34m\u001b[0m\u001b[0;34m\u001b[0m\u001b[0m\n",
            "\u001b[0;32m/usr/local/lib/python3.7/dist-packages/keras/callbacks.py\u001b[0m in \u001b[0;36m_call_batch_hook_helper\u001b[0;34m(self, hook_name, batch, logs)\u001b[0m\n\u001b[1;32m    351\u001b[0m     \u001b[0;32mfor\u001b[0m \u001b[0mcallback\u001b[0m \u001b[0;32min\u001b[0m \u001b[0mself\u001b[0m\u001b[0;34m.\u001b[0m\u001b[0mcallbacks\u001b[0m\u001b[0;34m:\u001b[0m\u001b[0;34m\u001b[0m\u001b[0;34m\u001b[0m\u001b[0m\n\u001b[1;32m    352\u001b[0m       \u001b[0mhook\u001b[0m \u001b[0;34m=\u001b[0m \u001b[0mgetattr\u001b[0m\u001b[0;34m(\u001b[0m\u001b[0mcallback\u001b[0m\u001b[0;34m,\u001b[0m \u001b[0mhook_name\u001b[0m\u001b[0;34m)\u001b[0m\u001b[0;34m\u001b[0m\u001b[0;34m\u001b[0m\u001b[0m\n\u001b[0;32m--> 353\u001b[0;31m       \u001b[0mhook\u001b[0m\u001b[0;34m(\u001b[0m\u001b[0mbatch\u001b[0m\u001b[0;34m,\u001b[0m \u001b[0mlogs\u001b[0m\u001b[0;34m)\u001b[0m\u001b[0;34m\u001b[0m\u001b[0;34m\u001b[0m\u001b[0m\n\u001b[0m\u001b[1;32m    354\u001b[0m \u001b[0;34m\u001b[0m\u001b[0m\n\u001b[1;32m    355\u001b[0m     \u001b[0;32mif\u001b[0m \u001b[0mself\u001b[0m\u001b[0;34m.\u001b[0m\u001b[0m_check_timing\u001b[0m\u001b[0;34m:\u001b[0m\u001b[0;34m\u001b[0m\u001b[0;34m\u001b[0m\u001b[0m\n",
            "\u001b[0;32m/usr/local/lib/python3.7/dist-packages/keras/callbacks.py\u001b[0m in \u001b[0;36mon_train_batch_end\u001b[0;34m(self, batch, logs)\u001b[0m\n\u001b[1;32m   1026\u001b[0m \u001b[0;34m\u001b[0m\u001b[0m\n\u001b[1;32m   1027\u001b[0m   \u001b[0;32mdef\u001b[0m \u001b[0mon_train_batch_end\u001b[0m\u001b[0;34m(\u001b[0m\u001b[0mself\u001b[0m\u001b[0;34m,\u001b[0m \u001b[0mbatch\u001b[0m\u001b[0;34m,\u001b[0m \u001b[0mlogs\u001b[0m\u001b[0;34m=\u001b[0m\u001b[0;32mNone\u001b[0m\u001b[0;34m)\u001b[0m\u001b[0;34m:\u001b[0m\u001b[0;34m\u001b[0m\u001b[0;34m\u001b[0m\u001b[0m\n\u001b[0;32m-> 1028\u001b[0;31m     \u001b[0mself\u001b[0m\u001b[0;34m.\u001b[0m\u001b[0m_batch_update_progbar\u001b[0m\u001b[0;34m(\u001b[0m\u001b[0mbatch\u001b[0m\u001b[0;34m,\u001b[0m \u001b[0mlogs\u001b[0m\u001b[0;34m)\u001b[0m\u001b[0;34m\u001b[0m\u001b[0;34m\u001b[0m\u001b[0m\n\u001b[0m\u001b[1;32m   1029\u001b[0m \u001b[0;34m\u001b[0m\u001b[0m\n\u001b[1;32m   1030\u001b[0m   \u001b[0;32mdef\u001b[0m \u001b[0mon_test_batch_end\u001b[0m\u001b[0;34m(\u001b[0m\u001b[0mself\u001b[0m\u001b[0;34m,\u001b[0m \u001b[0mbatch\u001b[0m\u001b[0;34m,\u001b[0m \u001b[0mlogs\u001b[0m\u001b[0;34m=\u001b[0m\u001b[0;32mNone\u001b[0m\u001b[0;34m)\u001b[0m\u001b[0;34m:\u001b[0m\u001b[0;34m\u001b[0m\u001b[0;34m\u001b[0m\u001b[0m\n",
            "\u001b[0;32m/usr/local/lib/python3.7/dist-packages/keras/callbacks.py\u001b[0m in \u001b[0;36m_batch_update_progbar\u001b[0;34m(self, batch, logs)\u001b[0m\n\u001b[1;32m   1098\u001b[0m     \u001b[0;32mif\u001b[0m \u001b[0mself\u001b[0m\u001b[0;34m.\u001b[0m\u001b[0mverbose\u001b[0m \u001b[0;34m==\u001b[0m \u001b[0;36m1\u001b[0m\u001b[0;34m:\u001b[0m\u001b[0;34m\u001b[0m\u001b[0;34m\u001b[0m\u001b[0m\n\u001b[1;32m   1099\u001b[0m       \u001b[0;31m# Only block async when verbose = 1.\u001b[0m\u001b[0;34m\u001b[0m\u001b[0;34m\u001b[0m\u001b[0;34m\u001b[0m\u001b[0m\n\u001b[0;32m-> 1100\u001b[0;31m       \u001b[0mlogs\u001b[0m \u001b[0;34m=\u001b[0m \u001b[0mtf_utils\u001b[0m\u001b[0;34m.\u001b[0m\u001b[0msync_to_numpy_or_python_type\u001b[0m\u001b[0;34m(\u001b[0m\u001b[0mlogs\u001b[0m\u001b[0;34m)\u001b[0m\u001b[0;34m\u001b[0m\u001b[0;34m\u001b[0m\u001b[0m\n\u001b[0m\u001b[1;32m   1101\u001b[0m       \u001b[0mself\u001b[0m\u001b[0;34m.\u001b[0m\u001b[0mprogbar\u001b[0m\u001b[0;34m.\u001b[0m\u001b[0mupdate\u001b[0m\u001b[0;34m(\u001b[0m\u001b[0mself\u001b[0m\u001b[0;34m.\u001b[0m\u001b[0mseen\u001b[0m\u001b[0;34m,\u001b[0m \u001b[0mlist\u001b[0m\u001b[0;34m(\u001b[0m\u001b[0mlogs\u001b[0m\u001b[0;34m.\u001b[0m\u001b[0mitems\u001b[0m\u001b[0;34m(\u001b[0m\u001b[0;34m)\u001b[0m\u001b[0;34m)\u001b[0m\u001b[0;34m,\u001b[0m \u001b[0mfinalize\u001b[0m\u001b[0;34m=\u001b[0m\u001b[0;32mFalse\u001b[0m\u001b[0;34m)\u001b[0m\u001b[0;34m\u001b[0m\u001b[0;34m\u001b[0m\u001b[0m\n\u001b[1;32m   1102\u001b[0m \u001b[0;34m\u001b[0m\u001b[0m\n",
            "\u001b[0;32m/usr/local/lib/python3.7/dist-packages/keras/utils/tf_utils.py\u001b[0m in \u001b[0;36msync_to_numpy_or_python_type\u001b[0;34m(tensors)\u001b[0m\n\u001b[1;32m    514\u001b[0m     \u001b[0;32mreturn\u001b[0m \u001b[0mt\u001b[0m  \u001b[0;31m# Don't turn ragged or sparse tensors to NumPy.\u001b[0m\u001b[0;34m\u001b[0m\u001b[0;34m\u001b[0m\u001b[0m\n\u001b[1;32m    515\u001b[0m \u001b[0;34m\u001b[0m\u001b[0m\n\u001b[0;32m--> 516\u001b[0;31m   \u001b[0;32mreturn\u001b[0m \u001b[0mtf\u001b[0m\u001b[0;34m.\u001b[0m\u001b[0mnest\u001b[0m\u001b[0;34m.\u001b[0m\u001b[0mmap_structure\u001b[0m\u001b[0;34m(\u001b[0m\u001b[0m_to_single_numpy_or_python_type\u001b[0m\u001b[0;34m,\u001b[0m \u001b[0mtensors\u001b[0m\u001b[0;34m)\u001b[0m\u001b[0;34m\u001b[0m\u001b[0;34m\u001b[0m\u001b[0m\n\u001b[0m\u001b[1;32m    517\u001b[0m \u001b[0;34m\u001b[0m\u001b[0m\n\u001b[1;32m    518\u001b[0m \u001b[0;34m\u001b[0m\u001b[0m\n",
            "\u001b[0;32m/usr/local/lib/python3.7/dist-packages/tensorflow/python/util/nest.py\u001b[0m in \u001b[0;36mmap_structure\u001b[0;34m(func, *structure, **kwargs)\u001b[0m\n\u001b[1;32m    867\u001b[0m \u001b[0;34m\u001b[0m\u001b[0m\n\u001b[1;32m    868\u001b[0m   return pack_sequence_as(\n\u001b[0;32m--> 869\u001b[0;31m       \u001b[0mstructure\u001b[0m\u001b[0;34m[\u001b[0m\u001b[0;36m0\u001b[0m\u001b[0;34m]\u001b[0m\u001b[0;34m,\u001b[0m \u001b[0;34m[\u001b[0m\u001b[0mfunc\u001b[0m\u001b[0;34m(\u001b[0m\u001b[0;34m*\u001b[0m\u001b[0mx\u001b[0m\u001b[0;34m)\u001b[0m \u001b[0;32mfor\u001b[0m \u001b[0mx\u001b[0m \u001b[0;32min\u001b[0m \u001b[0mentries\u001b[0m\u001b[0;34m]\u001b[0m\u001b[0;34m,\u001b[0m\u001b[0;34m\u001b[0m\u001b[0;34m\u001b[0m\u001b[0m\n\u001b[0m\u001b[1;32m    870\u001b[0m       expand_composites=expand_composites)\n\u001b[1;32m    871\u001b[0m \u001b[0;34m\u001b[0m\u001b[0m\n",
            "\u001b[0;32m/usr/local/lib/python3.7/dist-packages/tensorflow/python/util/nest.py\u001b[0m in \u001b[0;36m<listcomp>\u001b[0;34m(.0)\u001b[0m\n\u001b[1;32m    867\u001b[0m \u001b[0;34m\u001b[0m\u001b[0m\n\u001b[1;32m    868\u001b[0m   return pack_sequence_as(\n\u001b[0;32m--> 869\u001b[0;31m       \u001b[0mstructure\u001b[0m\u001b[0;34m[\u001b[0m\u001b[0;36m0\u001b[0m\u001b[0;34m]\u001b[0m\u001b[0;34m,\u001b[0m \u001b[0;34m[\u001b[0m\u001b[0mfunc\u001b[0m\u001b[0;34m(\u001b[0m\u001b[0;34m*\u001b[0m\u001b[0mx\u001b[0m\u001b[0;34m)\u001b[0m \u001b[0;32mfor\u001b[0m \u001b[0mx\u001b[0m \u001b[0;32min\u001b[0m \u001b[0mentries\u001b[0m\u001b[0;34m]\u001b[0m\u001b[0;34m,\u001b[0m\u001b[0;34m\u001b[0m\u001b[0;34m\u001b[0m\u001b[0m\n\u001b[0m\u001b[1;32m    870\u001b[0m       expand_composites=expand_composites)\n\u001b[1;32m    871\u001b[0m \u001b[0;34m\u001b[0m\u001b[0m\n",
            "\u001b[0;32m/usr/local/lib/python3.7/dist-packages/keras/utils/tf_utils.py\u001b[0m in \u001b[0;36m_to_single_numpy_or_python_type\u001b[0;34m(t)\u001b[0m\n\u001b[1;32m    510\u001b[0m   \u001b[0;32mdef\u001b[0m \u001b[0m_to_single_numpy_or_python_type\u001b[0m\u001b[0;34m(\u001b[0m\u001b[0mt\u001b[0m\u001b[0;34m)\u001b[0m\u001b[0;34m:\u001b[0m\u001b[0;34m\u001b[0m\u001b[0;34m\u001b[0m\u001b[0m\n\u001b[1;32m    511\u001b[0m     \u001b[0;32mif\u001b[0m \u001b[0misinstance\u001b[0m\u001b[0;34m(\u001b[0m\u001b[0mt\u001b[0m\u001b[0;34m,\u001b[0m \u001b[0mtf\u001b[0m\u001b[0;34m.\u001b[0m\u001b[0mTensor\u001b[0m\u001b[0;34m)\u001b[0m\u001b[0;34m:\u001b[0m\u001b[0;34m\u001b[0m\u001b[0;34m\u001b[0m\u001b[0m\n\u001b[0;32m--> 512\u001b[0;31m       \u001b[0mx\u001b[0m \u001b[0;34m=\u001b[0m \u001b[0mt\u001b[0m\u001b[0;34m.\u001b[0m\u001b[0mnumpy\u001b[0m\u001b[0;34m(\u001b[0m\u001b[0;34m)\u001b[0m\u001b[0;34m\u001b[0m\u001b[0;34m\u001b[0m\u001b[0m\n\u001b[0m\u001b[1;32m    513\u001b[0m       \u001b[0;32mreturn\u001b[0m \u001b[0mx\u001b[0m\u001b[0;34m.\u001b[0m\u001b[0mitem\u001b[0m\u001b[0;34m(\u001b[0m\u001b[0;34m)\u001b[0m \u001b[0;32mif\u001b[0m \u001b[0mnp\u001b[0m\u001b[0;34m.\u001b[0m\u001b[0mndim\u001b[0m\u001b[0;34m(\u001b[0m\u001b[0mx\u001b[0m\u001b[0;34m)\u001b[0m \u001b[0;34m==\u001b[0m \u001b[0;36m0\u001b[0m \u001b[0;32melse\u001b[0m \u001b[0mx\u001b[0m\u001b[0;34m\u001b[0m\u001b[0;34m\u001b[0m\u001b[0m\n\u001b[1;32m    514\u001b[0m     \u001b[0;32mreturn\u001b[0m \u001b[0mt\u001b[0m  \u001b[0;31m# Don't turn ragged or sparse tensors to NumPy.\u001b[0m\u001b[0;34m\u001b[0m\u001b[0;34m\u001b[0m\u001b[0m\n",
            "\u001b[0;32m/usr/local/lib/python3.7/dist-packages/tensorflow/python/framework/ops.py\u001b[0m in \u001b[0;36mnumpy\u001b[0;34m(self)\u001b[0m\n\u001b[1;32m   1092\u001b[0m     \"\"\"\n\u001b[1;32m   1093\u001b[0m     \u001b[0;31m# TODO(slebedev): Consider avoiding a copy for non-CPU or remote tensors.\u001b[0m\u001b[0;34m\u001b[0m\u001b[0;34m\u001b[0m\u001b[0;34m\u001b[0m\u001b[0m\n\u001b[0;32m-> 1094\u001b[0;31m     \u001b[0mmaybe_arr\u001b[0m \u001b[0;34m=\u001b[0m \u001b[0mself\u001b[0m\u001b[0;34m.\u001b[0m\u001b[0m_numpy\u001b[0m\u001b[0;34m(\u001b[0m\u001b[0;34m)\u001b[0m  \u001b[0;31m# pylint: disable=protected-access\u001b[0m\u001b[0;34m\u001b[0m\u001b[0;34m\u001b[0m\u001b[0m\n\u001b[0m\u001b[1;32m   1095\u001b[0m     \u001b[0;32mreturn\u001b[0m \u001b[0mmaybe_arr\u001b[0m\u001b[0;34m.\u001b[0m\u001b[0mcopy\u001b[0m\u001b[0;34m(\u001b[0m\u001b[0;34m)\u001b[0m \u001b[0;32mif\u001b[0m \u001b[0misinstance\u001b[0m\u001b[0;34m(\u001b[0m\u001b[0mmaybe_arr\u001b[0m\u001b[0;34m,\u001b[0m \u001b[0mnp\u001b[0m\u001b[0;34m.\u001b[0m\u001b[0mndarray\u001b[0m\u001b[0;34m)\u001b[0m \u001b[0;32melse\u001b[0m \u001b[0mmaybe_arr\u001b[0m\u001b[0;34m\u001b[0m\u001b[0;34m\u001b[0m\u001b[0m\n\u001b[1;32m   1096\u001b[0m \u001b[0;34m\u001b[0m\u001b[0m\n",
            "\u001b[0;32m/usr/local/lib/python3.7/dist-packages/tensorflow/python/framework/ops.py\u001b[0m in \u001b[0;36m_numpy\u001b[0;34m(self)\u001b[0m\n\u001b[1;32m   1058\u001b[0m   \u001b[0;32mdef\u001b[0m \u001b[0m_numpy\u001b[0m\u001b[0;34m(\u001b[0m\u001b[0mself\u001b[0m\u001b[0;34m)\u001b[0m\u001b[0;34m:\u001b[0m\u001b[0;34m\u001b[0m\u001b[0;34m\u001b[0m\u001b[0m\n\u001b[1;32m   1059\u001b[0m     \u001b[0;32mtry\u001b[0m\u001b[0;34m:\u001b[0m\u001b[0;34m\u001b[0m\u001b[0;34m\u001b[0m\u001b[0m\n\u001b[0;32m-> 1060\u001b[0;31m       \u001b[0;32mreturn\u001b[0m \u001b[0mself\u001b[0m\u001b[0;34m.\u001b[0m\u001b[0m_numpy_internal\u001b[0m\u001b[0;34m(\u001b[0m\u001b[0;34m)\u001b[0m\u001b[0;34m\u001b[0m\u001b[0;34m\u001b[0m\u001b[0m\n\u001b[0m\u001b[1;32m   1061\u001b[0m     \u001b[0;32mexcept\u001b[0m \u001b[0mcore\u001b[0m\u001b[0;34m.\u001b[0m\u001b[0m_NotOkStatusException\u001b[0m \u001b[0;32mas\u001b[0m \u001b[0me\u001b[0m\u001b[0;34m:\u001b[0m  \u001b[0;31m# pylint: disable=protected-access\u001b[0m\u001b[0;34m\u001b[0m\u001b[0;34m\u001b[0m\u001b[0m\n\u001b[1;32m   1062\u001b[0m       \u001b[0msix\u001b[0m\u001b[0;34m.\u001b[0m\u001b[0mraise_from\u001b[0m\u001b[0;34m(\u001b[0m\u001b[0mcore\u001b[0m\u001b[0;34m.\u001b[0m\u001b[0m_status_to_exception\u001b[0m\u001b[0;34m(\u001b[0m\u001b[0me\u001b[0m\u001b[0;34m.\u001b[0m\u001b[0mcode\u001b[0m\u001b[0;34m,\u001b[0m \u001b[0me\u001b[0m\u001b[0;34m.\u001b[0m\u001b[0mmessage\u001b[0m\u001b[0;34m)\u001b[0m\u001b[0;34m,\u001b[0m \u001b[0;32mNone\u001b[0m\u001b[0;34m)\u001b[0m  \u001b[0;31m# pylint: disable=protected-access\u001b[0m\u001b[0;34m\u001b[0m\u001b[0;34m\u001b[0m\u001b[0m\n",
            "\u001b[0;31mKeyboardInterrupt\u001b[0m: "
          ]
        }
      ]
    },
    {
      "cell_type": "code",
      "metadata": {
        "colab": {
          "base_uri": "https://localhost:8080/"
        },
        "id": "D3zQprcjEtFh",
        "outputId": "9e414ed7-cdbf-4abb-d199-b7ac301f2632"
      },
      "source": [
        "tpu_strategy.num_replicas_in_sync"
      ],
      "execution_count": 300,
      "outputs": [
        {
          "output_type": "execute_result",
          "data": {
            "text/plain": [
              "8"
            ]
          },
          "metadata": {},
          "execution_count": 300
        }
      ]
    },
    {
      "cell_type": "code",
      "metadata": {
        "id": "XU6CoTpjEzGr"
      },
      "source": [
        ""
      ],
      "execution_count": 325,
      "outputs": []
    },
    {
      "cell_type": "code",
      "metadata": {
        "id": "LUL55dqeEvvN"
      },
      "source": [
        "# start_lr = 0.001\n",
        "# min_lr = 0.001\n",
        "# max_lr = 0.005 * tpu_strategy.num_replicas_in_sync\n",
        "# rampup_epochs = 25\n",
        "# sustain_epochs = 10\n",
        "# exp_decay = .8\n",
        "\n",
        "# def lrfn(epoch):\n",
        "#   if epoch < rampup_epochs:\n",
        "#     return (max_lr - start_lr)/rampup_epochs * epoch + start_lr\n",
        "#   elif epoch < rampup_epochs + sustain_epochs:\n",
        "#     return max_lr\n",
        "#   else:\n",
        "#     return (max_lr - min_lr) * exp_decay**(epoch-rampup_epochs-sustain_epochs) + min_lr\n",
        "    \n",
        "# lr_callback = tf.keras.callbacks.LearningRateScheduler(lambda epoch: lrfn(epoch), verbose=True)\n",
        "\n",
        "# rang = np.arange(EPOCH)\n",
        "# y = [lrfn(x) for x in rang]\n",
        "# plt.plot(rang, y)\n",
        "# print('Learning rate per epoch:')"
      ],
      "execution_count": 326,
      "outputs": []
    },
    {
      "cell_type": "code",
      "metadata": {
        "id": "x5p9OLD5AdlO"
      },
      "source": [
        ""
      ],
      "execution_count": 326,
      "outputs": []
    },
    {
      "cell_type": "code",
      "metadata": {
        "id": "5H-JpY4uAfQr"
      },
      "source": [
        "\n",
        "\n",
        "# validation = False\n",
        "\n",
        "# # with tf.device('/device:GPU:0'):\n",
        "\n",
        "# batch_size = 32 * tpu_strategy.num_replicas_in_sync\n",
        "# train_steps = len(X_tensor) // batch_size\n",
        "\n",
        "\n",
        "# x_train = X_tensor\n",
        "# y_train_binary = Y_tensor \n",
        "\n",
        "# callback = tf.keras.callbacks.EarlyStopping(monitor='loss', patience=100)\n",
        "# # tf.keras.backend.clear_session()\n",
        "\n",
        "# # optimizer='adam', \n",
        "\n",
        "# with tpu_strategy.scope():\n",
        "#   # batch_size=16,\n",
        "#   model.compile(loss=\"binary_crossentropy\", \n",
        "#                 optimizer=Adam(learning_rate=0.01), \n",
        "#                 metrics=[f1],\n",
        "#                 steps_per_execution=50,) \n",
        "#   # model.compile(loss=\"binary_crossentropy\", optimizer=Adam(lr=0.01)) \n",
        "\n",
        "# # callbacks=[lr_callback],\n",
        "# history = model.fit(x_train,\n",
        "#                     y_train_binary,\n",
        "#                     epochs=EPOCH,\n",
        "#                     validation_split=0.3,\n",
        "#                     callbacks=[callback],\n",
        "#                     batch_size=batch_size,)"
      ],
      "execution_count": 327,
      "outputs": []
    },
    {
      "cell_type": "code",
      "metadata": {
        "colab": {
          "base_uri": "https://localhost:8080/",
          "height": 351
        },
        "id": "zfpwW0VdAgo5",
        "outputId": "ffbf3d07-46de-4e60-db35-8745074d683e"
      },
      "source": [
        "validation = True\n",
        "\n",
        "current_index = 1\n",
        "\n",
        "plt.figure(figsize=(15, 5))\n",
        "plt.subplot(121)\n",
        "plt.plot(history.history['loss'], label=\"Training Loss\")\n",
        "\n",
        "if validation:\n",
        "    plt.plot(history.history['val_loss'], label=\"Validation Loss\")\n",
        "    \n",
        "plt.ylabel('Loss')\n",
        "plt.xlabel('Epoch')\n",
        "plt.legend()\n",
        "\n",
        "# plt.ylim(-0.1, 1)\n",
        "\n",
        "plt.subplot(122)\n",
        "plt.plot(history.history['f1'], label=\"Training F1\")\n",
        "\n",
        "if validation:\n",
        "    plt.plot(history.history['val_f1'], label=\"Validation F1\")\n",
        "    \n",
        "plt.ylabel('F1')\n",
        "plt.xlabel('Epoch')\n",
        "plt.ylim(-0.1, 1.1)\n",
        "plt.legend()\n",
        "\n",
        "# plt.savefig(\"log_plots/{}.jpg\".format(current_index))"
      ],
      "execution_count": 328,
      "outputs": [
        {
          "output_type": "execute_result",
          "data": {
            "text/plain": [
              "<matplotlib.legend.Legend at 0x7fbf87805190>"
            ]
          },
          "metadata": {},
          "execution_count": 328
        },
        {
          "output_type": "display_data",
          "data": {
            "image/png": "[encoded data removed]",
            "text/plain": [
              "<Figure size 1080x360 with 2 Axes>"
            ]
          },
          "metadata": {
            "needs_background": "light"
          }
        }
      ]
    },
    {
      "cell_type": "code",
      "metadata": {
        "id": "FZBUydXnAuIv",
        "colab": {
          "base_uri": "https://localhost:8080/"
        },
        "outputId": "3e810537-8a3e-4a71-a60a-14fe5927f35e"
      },
      "source": [
        "probs = model(X_train).numpy()\n",
        "\n",
        "print(probs.flatten())\n",
        "\n",
        "print(y_train.flatten())\n",
        "\n",
        "print([int(x >= thres) for x in probs.flatten()])"
      ],
      "execution_count": 329,
      "outputs": [
        {
          "output_type": "stream",
          "text": [
            "[1.000000e+00 1.000000e+00 1.000000e+00 ... 7.376047e-05 6.424925e-05\n",
            " 1.000000e+00]\n",
            "[1. 1. 1. ... 0. 0. 1.]\n",
            "[1, 1, 1, 1, 0, 0, 0, 1, 1, 1, 1, 0, 1, 0, 0, 0, 0, 0, 1, 0, 1, 1, 1, 1, 0, 0, 0, 0, 0, 0, 1, 0, 0, 0, 1, 1, 1, 0, 0, 0, 1, 1, 0, 0, 0, 0, 0, 1, 0, 1, 0, 0, 1, 0, 0, 1, 0, 1, 1, 1, 1, 0, 1, 0, 1, 1, 0, 0, 1, 1, 0, 0, 1, 0, 0, 1, 1, 0, 0, 0, 0, 1, 0, 1, 0, 1, 0, 1, 1, 1, 0, 1, 0, 1, 1, 0, 1, 1, 1, 1, 1, 1, 0, 0, 1, 1, 0, 0, 1, 1, 0, 0, 1, 1, 1, 1, 1, 1, 1, 1, 0, 0, 0, 0, 1, 0, 1, 1, 0, 1, 1, 1, 1, 1, 1, 0, 0, 1, 0, 0, 1, 1, 0, 1, 1, 1, 0, 1, 0, 0, 1, 1, 0, 0, 0, 1, 1, 1, 1, 1, 0, 0, 0, 1, 1, 1, 0, 1, 1, 0, 0, 1, 0, 0, 1, 1, 0, 1, 1, 0, 1, 0, 1, 0, 1, 0, 1, 1, 0, 0, 0, 1, 0, 1, 1, 0, 1, 1, 1, 1, 0, 0, 0, 0, 1, 1, 1, 1, 0, 1, 0, 0, 1, 0, 0, 0, 1, 1, 0, 0, 0, 0, 0, 0, 0, 0, 1, 0, 0, 0, 0, 1, 1, 1, 0, 0, 1, 1, 1, 0, 1, 0, 0, 0, 0, 1, 1, 0, 1, 1, 0, 0, 1, 0, 1, 1, 0, 1, 0, 1, 0, 1, 1, 0, 0, 1, 0, 1, 0, 1, 1, 0, 0, 0, 0, 1, 1, 0, 0, 0, 1, 0, 1, 1, 1, 1, 0, 1, 1, 1, 1, 1, 0, 0, 0, 0, 0, 0, 1, 0, 1, 1, 1, 1, 0, 0, 0, 0, 0, 0, 0, 0, 0, 0, 1, 0, 0, 0, 1, 1, 0, 0, 0, 1, 1, 1, 1, 0, 1, 1, 0, 0, 0, 0, 0, 0, 0, 0, 0, 1, 1, 1, 0, 0, 1, 1, 0, 1, 0, 1, 0, 1, 1, 1, 1, 0, 0, 1, 1, 0, 0, 1, 0, 1, 1, 1, 0, 0, 0, 1, 0, 0, 0, 1, 1, 1, 1, 0, 0, 1, 0, 0, 0, 1, 1, 1, 1, 0, 0, 0, 0, 0, 0, 0, 1, 0, 1, 0, 0, 0, 0, 0, 0, 0, 0, 0, 1, 1, 0, 0, 0, 0, 1, 1, 1, 0, 0, 0, 1, 0, 1, 1, 1, 1, 0, 1, 0, 0, 0, 0, 0, 0, 0, 1, 0, 1, 0, 1, 0, 1, 0, 0, 0, 1, 1, 1, 0, 0, 1, 1, 1, 0, 1, 0, 1, 1, 0, 1, 1, 0, 0, 1, 0, 1, 1, 0, 1, 1, 1, 1, 1, 0, 0, 1, 0, 1, 0, 1, 1, 0, 0, 0, 0, 1, 0, 1, 1, 1, 1, 0, 0, 1, 0, 1, 1, 1, 0, 1, 0, 0, 1, 0, 1, 1, 0, 1, 0, 0, 1, 0, 0, 0, 1, 1, 0, 1, 0, 1, 1, 0, 0, 0, 0, 1, 0, 1, 0, 0, 0, 1, 0, 0, 0, 0, 1, 1, 0, 0, 0, 0, 0, 0, 0, 0, 0, 1, 1, 0, 0, 1, 1, 0, 1, 0, 0, 0, 0, 0, 0, 0, 1, 0, 1, 1, 1, 0, 0, 1, 1, 0, 0, 1, 0, 1, 1, 1, 0, 1, 0, 1, 1, 1, 0, 1, 0, 0, 0, 0, 0, 1, 1, 1, 1, 0, 0, 0, 0, 0, 0, 0, 0, 1, 1, 1, 0, 1, 0, 1, 0, 0, 0, 0, 1, 0, 0, 1, 0, 1, 1, 1, 1, 0, 1, 0, 1, 0, 0, 0, 1, 0, 1, 0, 1, 1, 0, 1, 0, 1, 0, 0, 1, 1, 0, 1, 0, 0, 1, 1, 0, 0, 1, 1, 1, 1, 0, 1, 0, 1, 1, 0, 0, 1, 1, 0, 0, 1, 0, 0, 0, 0, 0, 1, 0, 0, 1, 0, 1, 0, 0, 1, 1, 1, 1, 1, 1, 1, 1, 0, 1, 1, 0, 0, 1, 0, 1, 0, 0, 1, 1, 1, 1, 1, 1, 1, 1, 1, 0, 0, 1, 1, 1, 0, 0, 0, 0, 1, 1, 1, 1, 0, 0, 1, 0, 0, 1, 1, 1, 1, 1, 1, 1, 1, 0, 1, 1, 1, 0, 1, 0, 0, 1, 1, 1, 1, 0, 1, 0, 0, 0, 0, 1, 0, 1, 1, 1, 0, 1, 1, 0, 1, 1, 1, 0, 1, 1, 1, 1, 0, 0, 0, 0, 1, 1, 0, 0, 0, 0, 1, 1, 0, 1, 0, 1, 1, 0, 0, 0, 1, 0, 1, 0, 1, 0, 0, 1, 1, 0, 0, 0, 1, 1, 0, 1, 1, 0, 1, 0, 1, 0, 1, 0, 0, 0, 1, 0, 1, 0, 1, 0, 1, 0, 0, 0, 0, 0, 1, 1, 0, 0, 0, 0, 0, 1, 1, 1, 1, 1, 1, 1, 0, 1, 1, 0, 1, 1, 1, 0, 0, 1, 1, 1, 1, 1, 1, 0, 0, 0, 1, 0, 0, 0, 0, 0, 1, 0, 1, 0, 0, 0, 0, 1, 1, 1, 0, 0, 1, 0, 1, 0, 0, 1, 0, 1, 1, 1, 0, 1, 0, 1, 1, 1, 1, 0, 0, 0, 1, 0, 0, 1, 0, 1, 1, 1, 1, 0, 0, 1, 1, 0, 1, 0, 1, 0, 1, 1, 1, 1, 0, 1, 0, 1, 0, 1, 0, 1, 0, 1, 1, 1, 0, 1, 0, 1, 1, 1, 1, 1, 1, 1, 1, 0, 1, 0, 0, 1, 0, 0, 0, 0, 0, 1, 0, 0, 1, 1, 0, 0, 1, 1, 1, 1, 0, 0, 1, 0, 0, 0, 1, 1, 1, 0, 0, 1, 1, 0, 1, 1, 1, 0, 0, 0, 0, 1, 0, 1, 0, 0, 1, 1, 1, 1, 0, 0, 1, 0, 1, 1, 1, 0, 1, 1, 0, 1, 0, 1, 1, 0, 0, 1, 0, 0, 1, 1, 1, 1, 0, 1, 1, 0, 1, 0, 1, 1, 1, 0, 0, 1, 0, 1, 1, 0, 0, 1, 0, 1, 1, 0, 1, 1, 0, 0, 1, 1, 0, 0, 0, 0, 1, 1, 0, 1, 0, 1, 1, 1, 1, 0, 0, 1, 1, 0, 1, 0, 0, 0, 1, 1, 1, 0, 0, 0, 0, 1, 0, 1, 0, 0, 0, 0, 1, 1, 0, 1, 1, 1, 1, 0, 1, 0, 1, 1, 1, 0, 0, 1, 0, 0, 1, 1, 0, 1, 1, 1, 0, 0, 1, 0, 1, 0, 0, 0, 1, 1, 1, 0, 1, 1, 0, 1, 0, 0, 1, 1, 1, 1, 1, 0, 1, 0, 0, 0, 1, 1, 0, 1, 0, 1, 0, 1, 0, 1, 1, 1, 0, 0, 1, 0, 1, 1, 1, 0, 1, 0, 1, 1, 1, 1, 1, 1, 1, 0, 0, 0, 1, 0, 0, 0, 1, 1, 0, 0, 0, 0, 1, 0, 0, 1, 0, 1, 1, 1, 0, 1, 0, 0, 0, 0, 1, 0, 0, 1, 1, 1, 1, 0, 1, 0, 0, 0, 1, 1, 0, 0, 1, 1, 0, 0, 0, 1, 1, 0, 1, 0, 1, 0, 0, 0, 1, 1, 1, 0, 1, 1, 1, 0, 1, 1, 0, 1, 1, 0, 0, 0, 1, 1, 1, 1, 1, 0, 1, 1, 0, 1, 0, 1, 0, 0, 1, 1, 0, 0, 1, 0, 1, 0, 1, 0, 0, 1, 0, 0, 0, 0, 0, 0, 0, 1, 0, 0, 0, 1, 0, 1, 1, 1, 0, 0, 0, 1, 0, 0, 0, 0, 1, 1, 0, 1, 0, 0, 1, 0, 0, 1, 0, 0, 0, 0, 0, 0, 1, 1, 1, 0, 0, 1, 0, 0, 0, 1, 0, 1, 0, 0, 1, 1, 0, 0, 1, 1, 0, 0, 0, 1, 0, 0, 0, 1, 0, 1, 1, 1, 1, 0, 0, 1, 1, 1, 0, 1, 1, 0, 1, 0, 1, 1, 1, 1, 0, 0, 0, 0, 0, 1, 0, 1, 0, 0, 1, 0, 1, 1, 1, 0, 0, 0, 0, 0, 0, 1, 0, 1, 0, 0, 0, 0, 0, 0, 0, 1, 0, 1, 1, 1, 1, 1, 1, 0, 0, 1, 0, 1, 1, 0, 0, 0, 1, 1, 1, 1, 0, 0, 0, 0, 0, 0, 1, 0, 1, 1, 0, 0, 0, 0, 0, 0, 1, 0, 0, 0, 1, 1, 0, 1, 0, 0, 0, 0, 0, 1, 1, 0, 0, 1, 1, 0, 0, 0, 0, 1, 0, 0, 0, 0, 0, 1, 0, 1, 0, 1, 0, 1, 0, 0, 0, 1, 0, 0, 1, 0, 0, 1, 1, 1, 1, 1, 0, 0, 0, 0, 0, 1, 0, 0, 0, 1, 0, 0, 1, 1, 1, 1, 0, 0, 1, 0, 0, 1, 0, 1, 1, 0, 1, 0, 1, 0, 1, 1, 0, 0, 1, 0, 1, 0, 1, 1, 1, 1, 1, 0, 0, 1, 0, 0, 0, 1, 1, 0, 1, 1, 0, 0, 0, 1, 0, 0, 0, 0, 1, 1, 0, 1, 1, 0, 0, 1, 1, 0, 1, 0, 1, 0, 0, 1, 0, 0, 0, 1, 0, 1, 1, 1, 0, 1, 0, 1, 1, 1, 1, 0, 1, 1, 0, 1, 1, 1, 0, 0, 1, 1, 0, 1, 0, 1, 0, 1, 1, 0, 0, 0, 0, 1, 1, 1, 1, 1, 0, 1, 1, 0, 0, 1, 0, 1, 1, 0, 1, 1, 0, 1, 1, 1, 0, 0, 0, 0, 0, 0, 0, 1, 1, 1, 1, 0, 0, 0, 0, 0, 1, 1, 0, 0, 1, 0, 0, 0, 0, 1, 1, 0, 1, 0, 1, 1, 1, 1, 1, 0, 0, 1, 0, 1, 0, 0, 1, 0, 1, 1, 0, 0, 0, 1, 0, 1, 1, 0, 1, 1, 1, 0, 0, 0, 1, 1, 0, 1, 1, 1, 1, 0, 1, 0, 1, 1, 1, 0, 0, 1, 0, 0, 0, 1, 1, 0, 0, 0, 0, 0, 1, 1, 0, 0, 1, 1, 0, 0, 1, 1, 0, 1, 0, 1, 0, 1, 0, 0, 1, 1, 1, 0, 1, 0, 0, 1, 0, 0, 1, 1, 0, 1, 0, 1, 1, 0, 1, 1, 0, 1, 0, 1, 0, 1, 1, 0, 1, 0, 1, 1, 0, 0, 0, 0, 1, 1, 0, 0, 0, 0, 0, 1, 0, 0, 1, 0, 0, 1, 0, 0, 0, 1, 1, 1, 1, 1, 0, 0, 0, 1, 1, 0, 1, 0, 0, 0, 0, 0, 1, 0, 0, 0, 0, 0, 1, 0, 0, 1, 0, 0, 1, 0, 1, 0, 1, 0, 0, 0, 0, 0, 1, 0, 0, 1, 0, 0, 0, 0, 1, 0, 1, 0, 1, 0, 1, 0, 1, 0, 0, 1, 1, 1, 0, 0, 1, 1, 0, 0, 1, 0, 0, 0, 0, 0, 1, 1, 0, 0, 0, 1, 0, 1, 1, 0, 1, 1, 0, 1, 0, 1, 0, 0, 1, 1, 0, 0, 1, 1, 0, 1, 0, 0, 0, 0, 0, 1, 1, 1, 1, 1, 0, 1, 0, 1, 0, 1, 0, 0, 0, 1, 0, 0, 0, 1, 1, 0, 0, 0, 0, 0, 0, 1, 0, 0, 1, 0, 1, 1, 1, 0, 0, 0, 0, 0, 0, 0, 1, 0, 1, 1, 1, 1, 1, 1, 0, 1, 0, 1, 0, 1, 0, 0, 0, 0, 1, 1, 1, 1, 0, 1, 1, 0, 0, 0, 1, 0, 0, 1, 0, 1, 0, 1, 1, 1, 1, 1, 1, 0, 1, 0, 0, 1, 1, 1, 0, 0, 0, 1, 1, 0, 0, 0, 1, 1, 1, 1, 0, 1, 1, 0, 0, 1, 1, 1, 1, 1, 0, 0, 1, 0, 0, 0, 0, 0, 1, 1, 0, 0, 0, 1, 0, 0, 1, 1, 0, 1, 0, 1, 1, 1, 1, 0, 0, 1, 1, 1, 0, 1, 0, 0, 1, 1, 1, 1, 1, 0, 0, 0, 1, 0, 1, 1, 1, 1, 1, 0, 0, 0, 0, 0, 1, 1, 1, 1, 0, 0, 1, 1, 1, 1, 1, 1, 0, 0, 0, 1, 1, 0, 0, 0, 1, 0, 0, 0, 1, 1, 1, 0, 1, 0, 0, 1, 1, 1, 0, 0, 1, 1, 1, 1, 1, 0, 1, 1, 1, 1, 0, 1, 0, 1, 0, 0, 1, 0, 1, 0, 0, 1, 1, 0, 1, 1, 1, 0, 1, 1, 0, 1, 1, 0, 1, 0, 0, 1, 1, 0, 0, 0, 1, 0, 0, 0, 1, 0, 0, 1, 1, 1, 1, 1, 0, 1, 0, 1, 0, 0, 1, 1, 0, 1, 0, 0, 1, 1, 0, 0, 0, 1, 1, 1, 0, 0, 0, 1, 0, 0, 1, 0, 1, 0, 1, 1, 0, 0, 1, 0, 1, 1, 0, 0, 1, 1, 1, 1, 1, 1, 0, 0, 1, 0, 0, 1, 0, 1, 0, 0, 1, 0, 1, 0, 1, 0, 0, 1, 0, 0, 1, 1, 0, 1, 1, 1, 0, 0, 0, 1, 1, 0, 0, 1, 0, 1, 0, 0, 1, 1, 0, 1, 0, 0, 0, 0, 0, 0, 1, 0, 1, 1, 1, 1, 1, 0, 0, 1, 1, 0, 0, 0, 0, 0, 1, 0, 0, 1, 0, 0, 0, 1, 0, 0, 1, 0, 0, 0, 0, 1, 1, 1, 0, 1, 0, 0, 1, 1, 1, 0, 0, 0, 1, 1, 1, 1, 1, 0, 0, 0, 1, 0, 1, 1, 0, 0, 0, 0, 1, 1, 0, 0, 1, 1, 1, 0, 1, 0, 0, 0, 1, 0, 1, 1, 0, 0, 0, 1, 1, 1, 1, 0, 1, 0, 1, 0, 0, 1, 1, 1, 0, 0, 0, 1, 1, 1, 0, 1, 1, 1, 1, 1, 1, 0, 0, 0, 0, 1, 0, 1, 1, 0, 1, 0, 0, 0, 1, 0, 1, 1, 0, 0, 1, 0, 1, 1, 0, 0, 0, 1, 1, 0, 1, 1, 0, 0, 1, 1, 1, 0, 0, 0, 0, 1, 0, 0, 0, 0, 0, 0, 0, 1, 0, 1, 1, 0, 1, 1, 0, 1, 0, 1, 1, 1, 0, 1, 0, 1, 0, 1, 0, 0, 0, 1, 0, 1, 1, 0, 1, 1, 0, 0, 1, 1, 1, 1, 0, 1, 1, 1, 1, 0, 0, 0, 1, 1, 1, 1, 1, 1, 1, 0, 0, 0, 1, 1, 1, 0, 0, 1, 1, 0, 0, 1, 0, 0, 1]\n"
          ],
          "name": "stdout"
        }
      ]
    },
    {
      "cell_type": "code",
      "metadata": {
        "id": "-nQF5UuqAyvr"
      },
      "source": [
        "thres = 0.5"
      ],
      "execution_count": 330,
      "outputs": []
    },
    {
      "cell_type": "code",
      "metadata": {
        "colab": {
          "base_uri": "https://localhost:8080/"
        },
        "id": "xqRdN-JlAz4q",
        "outputId": "6d39065b-d4da-40ef-f27d-985135b10edf"
      },
      "source": [
        "sum([x >= thres for x in probs.flatten()]), sum([x < 0.5 for x in probs.flatten()])"
      ],
      "execution_count": 331,
      "outputs": [
        {
          "output_type": "execute_result",
          "data": {
            "text/plain": [
              "(1190, 1240)"
            ]
          },
          "metadata": {},
          "execution_count": 331
        }
      ]
    },
    {
      "cell_type": "code",
      "metadata": {
        "id": "Ojan3gOoA0vY"
      },
      "source": [
        "import sklearn.metrics as metrics\n",
        "from bisect import bisect_left"
      ],
      "execution_count": 332,
      "outputs": []
    },
    {
      "cell_type": "code",
      "metadata": {
        "id": "wuR5PduLA1g6"
      },
      "source": [
        "preds = [int(x > thres) for x in probs]"
      ],
      "execution_count": 333,
      "outputs": []
    },
    {
      "cell_type": "code",
      "metadata": {
        "id": "Kv2LUmw9N60g"
      },
      "source": [
        ""
      ],
      "execution_count": 333,
      "outputs": []
    },
    {
      "cell_type": "code",
      "metadata": {
        "colab": {
          "base_uri": "https://localhost:8080/"
        },
        "id": "a8Ir7CWLA2WV",
        "outputId": "5768e2df-8eac-489a-da9f-002811403072"
      },
      "source": [
        "fpr, tpr, threshold = metrics.roc_curve(y_train.flatten(), probs)\n",
        "\n",
        "tpr"
      ],
      "execution_count": 334,
      "outputs": [
        {
          "output_type": "execute_result",
          "data": {
            "text/plain": [
              "array([0.        , 0.9875208 , 0.99001664, 0.99001664, 0.99084859,\n",
              "       0.99084859, 0.99168053, 0.99168053, 0.99417637, 0.99417637,\n",
              "       0.99833611, 0.99833611, 1.        , 1.        , 1.        ,\n",
              "       1.        ])"
            ]
          },
          "metadata": {},
          "execution_count": 334
        }
      ]
    },
    {
      "cell_type": "code",
      "metadata": {
        "colab": {
          "base_uri": "https://localhost:8080/"
        },
        "id": "lh1kqzwkA3Fq",
        "outputId": "a28ef4d2-0fdc-4720-f268-7eaf33653524"
      },
      "source": [
        "train_roc_auc = metrics.auc(fpr, tpr)\n",
        "train_roc_auc"
      ],
      "execution_count": 335,
      "outputs": [
        {
          "output_type": "execute_result",
          "data": {
            "text/plain": [
              "0.9999654484653698"
            ]
          },
          "metadata": {},
          "execution_count": 335
        }
      ]
    },
    {
      "cell_type": "code",
      "metadata": {
        "id": "OC6eOMyeN1Dj"
      },
      "source": [
        ""
      ],
      "execution_count": 335,
      "outputs": []
    },
    {
      "cell_type": "code",
      "metadata": {
        "colab": {
          "base_uri": "https://localhost:8080/"
        },
        "id": "-S1Y7GiSA3_S",
        "outputId": "5e58bb78-c873-4974-ad00-5bd159ac54b8"
      },
      "source": [
        "train_accu = metrics.accuracy_score(y_train.flatten(), preds)\n",
        "\n",
        "train_accu"
      ],
      "execution_count": 336,
      "outputs": [
        {
          "output_type": "execute_result",
          "data": {
            "text/plain": [
              "0.9950617283950617"
            ]
          },
          "metadata": {},
          "execution_count": 336
        }
      ]
    },
    {
      "cell_type": "code",
      "metadata": {
        "id": "WiGXofQ9A49g"
      },
      "source": [
        "probs = model(X_test).numpy()\n",
        "\n",
        "# print(probs.flatten())\n",
        "\n",
        "# print(y_test.flatten())"
      ],
      "execution_count": 337,
      "outputs": []
    },
    {
      "cell_type": "code",
      "metadata": {
        "colab": {
          "base_uri": "https://localhost:8080/"
        },
        "id": "LICMZRt4A5z5",
        "outputId": "54b8d7b1-13ef-4778-a004-7c3a6b7142af"
      },
      "source": [
        "sum([x >= thres for x in probs.flatten()]), sum([x < 0.5 for x in probs.flatten()])"
      ],
      "execution_count": 338,
      "outputs": [
        {
          "output_type": "execute_result",
          "data": {
            "text/plain": [
              "(140, 160)"
            ]
          },
          "metadata": {},
          "execution_count": 338
        }
      ]
    },
    {
      "cell_type": "code",
      "metadata": {
        "id": "3bmTwwz5A6mf"
      },
      "source": [
        "preds = [int(x > thres) for x in probs.flatten()]"
      ],
      "execution_count": 339,
      "outputs": []
    },
    {
      "cell_type": "code",
      "metadata": {
        "id": "q-AXKGnHN-2w"
      },
      "source": [
        ""
      ],
      "execution_count": 339,
      "outputs": []
    },
    {
      "cell_type": "code",
      "metadata": {
        "colab": {
          "base_uri": "https://localhost:8080/"
        },
        "id": "NpKDJCdYA7T7",
        "outputId": "39b66ade-e997-4db5-d2be-0047346afa84"
      },
      "source": [
        "test_fpr, test_tpr, test_threshold = metrics.roc_curve(y_test.flatten(), probs)\n",
        "\n",
        "test_tpr"
      ],
      "execution_count": 340,
      "outputs": [
        {
          "output_type": "execute_result",
          "data": {
            "text/plain": [
              "array([0.        , 0.98571429, 1.        , 1.        ])"
            ]
          },
          "metadata": {},
          "execution_count": 340
        }
      ]
    },
    {
      "cell_type": "code",
      "metadata": {
        "colab": {
          "base_uri": "https://localhost:8080/"
        },
        "id": "abxLQksXA8Sf",
        "outputId": "27f83841-2e97-4941-cfc1-3ac97ba1403c"
      },
      "source": [
        "test_roc_auc = metrics.auc(test_fpr, test_tpr)\n",
        "test_roc_auc"
      ],
      "execution_count": 341,
      "outputs": [
        {
          "output_type": "execute_result",
          "data": {
            "text/plain": [
              "0.9968303571428572"
            ]
          },
          "metadata": {},
          "execution_count": 341
        }
      ]
    },
    {
      "cell_type": "code",
      "metadata": {
        "colab": {
          "base_uri": "https://localhost:8080/"
        },
        "id": "NkExuvxeA9BQ",
        "outputId": "02cf41d5-54e7-4da6-983f-7fd2c3eb8231"
      },
      "source": [
        "test_accu = metrics.accuracy_score(y_test.flatten(), preds)\n",
        "\n",
        "test_accu"
      ],
      "execution_count": 342,
      "outputs": [
        {
          "output_type": "execute_result",
          "data": {
            "text/plain": [
              "0.9933333333333333"
            ]
          },
          "metadata": {},
          "execution_count": 342
        }
      ]
    },
    {
      "cell_type": "code",
      "metadata": {
        "colab": {
          "base_uri": "https://localhost:8080/",
          "height": 295
        },
        "id": "n620_iK5A9yw",
        "outputId": "f6499b9e-0758-420d-9bde-d923f8350cc6"
      },
      "source": [
        "plt.title('ROC')\n",
        "\n",
        "plt.plot(fpr, tpr, label = 'Train AUC = %0.2f' % train_roc_auc)\n",
        "plt.plot(test_fpr, test_tpr, label = 'Test AUC = %0.2f' % test_roc_auc)\n",
        "\n",
        "plt.legend(loc = 'lower right')\n",
        "plt.plot([0, 1], [0, 1],'r--')\n",
        "plt.xlim([-0.1, 1.1])\n",
        "plt.ylim([-0.1, 1.1])\n",
        "plt.ylabel('TPR')\n",
        "plt.xlabel('FPR')\n",
        "plt.show()"
      ],
      "execution_count": 343,
      "outputs": [
        {
          "output_type": "display_data",
          "data": {
            "image/png": "[encoded data removed]",
            "text/plain": [
              "<Figure size 432x288 with 1 Axes>"
            ]
          },
          "metadata": {
            "needs_background": "light"
          }
        }
      ]
    },
    {
      "cell_type": "code",
      "metadata": {
        "colab": {
          "base_uri": "https://localhost:8080/"
        },
        "id": "YK-Dkbx7A-rL",
        "outputId": "752e507d-439c-44ea-864e-db6b0faec3c9"
      },
      "source": [
        "print(\"Kernel = \", ker_regul.l1)\n",
        "print(\"Bias = \", bias_regul.l1)\n",
        "print(\"Dropout = \", dropout_rate)\n",
        "print(\"Train AUC = \", train_roc_auc)\n",
        "print(\"Train Accu = \", train_accu)\n",
        "print(\"Test ROC = \", test_roc_auc)\n",
        "print(\"Test Accu = \", test_accu)"
      ],
      "execution_count": 345,
      "outputs": [
        {
          "output_type": "stream",
          "text": [
            "Kernel =  1e-05\n",
            "Bias =  1e-05\n",
            "Dropout =  0.01\n",
            "Train AUC =  0.9999654484653698\n",
            "Train Accu =  0.9950617283950617\n",
            "Test ROC =  0.9968303571428572\n",
            "Test Accu =  0.9933333333333333\n"
          ],
          "name": "stdout"
        }
      ]
    },
    {
      "cell_type": "code",
      "metadata": {
        "id": "twvVWbJhA_Xm"
      },
      "source": [
        "df = pd.DataFrame({'fpr': test_fpr, 'tpr': test_tpr, 'threshold': test_threshold})\n",
        "one_percent_fpr_idx = bisect_left(df['fpr'].values, 0.01)\n",
        "\n",
        "row = df.iloc[one_percent_fpr_idx]\n",
        "    \n",
        "detection_probability = row['tpr']"
      ],
      "execution_count": 346,
      "outputs": []
    },
    {
      "cell_type": "code",
      "metadata": {
        "colab": {
          "base_uri": "https://localhost:8080/"
        },
        "id": "v8E24MQZDPtD",
        "outputId": "1622463d-a5f6-4927-847a-7e05014adea0"
      },
      "source": [
        "detection_probability"
      ],
      "execution_count": 347,
      "outputs": [
        {
          "output_type": "execute_result",
          "data": {
            "text/plain": [
              "1.0"
            ]
          },
          "metadata": {},
          "execution_count": 347
        }
      ]
    },
    {
      "cell_type": "code",
      "metadata": {
        "colab": {
          "base_uri": "https://localhost:8080/",
          "height": 295
        },
        "id": "GN8kwyrwDQ0H",
        "outputId": "ffaf2f58-a86a-4db7-c1e2-d7c4ecfefc4f"
      },
      "source": [
        "plt.title('ROC; p_det = ' + str(detection_probability))\n",
        "\n",
        "plt.plot(test_fpr, test_tpr, label = 'Test AUC = %0.2f' % test_roc_auc)\n",
        "\n",
        "plt.legend(loc = 'lower right')\n",
        "plt.plot([0, 1], [0, 1],'r--')\n",
        "plt.xlim([-0., 1.1])\n",
        "plt.ylim([-0., 1.1])\n",
        "plt.ylabel('TPR')\n",
        "plt.xlabel('FPR')\n",
        "plt.show()"
      ],
      "execution_count": 348,
      "outputs": [
        {
          "output_type": "display_data",
          "data": {
            "image/png": "[encoded data removed]",
            "text/plain": [
              "<Figure size 432x288 with 1 Axes>"
            ]
          },
          "metadata": {
            "needs_background": "light"
          }
        }
      ]
    },
    {
      "cell_type": "code",
      "metadata": {
        "id": "V3-NFpCHDStK"
      },
      "source": [
        "from scipy.signal import welch"
      ],
      "execution_count": 349,
      "outputs": []
    },
    {
      "cell_type": "code",
      "metadata": {
        "id": "aHyav2EWDVrD",
        "colab": {
          "base_uri": "https://localhost:8080/"
        },
        "outputId": "f7c1e417-b424-4a52-b9f5-87be31d60a8f"
      },
      "source": [
        "#random.seed(42)\n",
        "\n",
        "from random import randrange\n",
        "seed = randrange(1000)\n",
        "\n",
        "print(\"Using seed = \", seed)\n",
        "\n",
        "random.seed(seed)\n",
        "np.random.seed(seed)\n",
        "\n",
        "scaling = 1e-23\n",
        "\n",
        "def generate_test_data(test_size, lower_f, upper_f, h0_lower, h0_upper):\n",
        "\n",
        "    # snr_s = []\n",
        "    f_s = []\n",
        "    all_data_raw = []\n",
        "    h0_s = []\n",
        "    labels = []\n",
        "    sqrt_S_s = []\n",
        "    rho_s = []\n",
        "\n",
        "    for i in range(test_size):\n",
        "      f = random.uniform(lower_f, upper_f)\n",
        "      \n",
        "      # 0 = Signal; 1 = Noise; 2 = Signal + Noise.\n",
        "      \n",
        "  #     signal = random.choices(population=[0, 1, 2], weights=[0.45, 0.1, 0.45])[0]\n",
        "  #     signal = random.choices(population=[0], weights=[1.0])[0]\n",
        "\n",
        "      signal = random.choices(population=[2, 1], weights=[0.5, 0.5])[0]\n",
        "  #     if i == 0:\n",
        "  #         signal = 0\n",
        "  #     elif i == 1:\n",
        "  #         signal = 1\n",
        "      \n",
        "      noise_std = random.uniform(noise_std_lower, noise_std_upper)\n",
        "      \n",
        "      if signal == 0:\n",
        "          current_y = make_signal_h0(f=f, signal=True, noise=False)\n",
        "      elif signal == 1:\n",
        "          current_y = make_signal_h0(f=f, signal=False, noise=True)\n",
        "      elif signal == 2:\n",
        "          current_y = make_signal_h0(f=f, signal=True, noise=True)\n",
        "      \n",
        "      \n",
        "      \n",
        "      y_fft = fft(current_y)\n",
        "      \n",
        "      current_y = [[x.real / 1e-21, x.imag / 1e-21, f] for x in y_fft]\n",
        "\n",
        "  #     current_y = [[x] for x in current_y]\n",
        "  #     freqs = [[f] * len(current_y)]\n",
        "      \n",
        "      if signal == 0 or signal == 2:\n",
        "          was_signal_there = 1\n",
        "      elif signal == 1:\n",
        "          was_signal_there = 0\n",
        "          \n",
        "      f_s.append(f)\n",
        "  #     noises.append(noise_amp)\n",
        "      \n",
        "  #     current_y = np.append(current_y, int(signal))\n",
        "      labels.append([int(was_signal_there)])\n",
        "      all_data_raw.append(current_y)\n",
        "\n",
        "    \n",
        "    \n",
        "    labels = np.array(labels).flatten()\n",
        "    \n",
        "    return all_data_raw, labels, f_s, h0_s, sqrt_S_s, rho_s"
      ],
      "execution_count": 354,
      "outputs": [
        {
          "output_type": "stream",
          "text": [
            "Using seed =  415\n"
          ],
          "name": "stdout"
        }
      ]
    },
    {
      "cell_type": "code",
      "metadata": {
        "id": "CaWQL1GcDfh7"
      },
      "source": [
        "def get_results(x_s, labels):\n",
        "\n",
        "    y_pred = model.predict(x_s).flatten().tolist()\n",
        "\n",
        "    preds = [int(x > 0.5) for x in y_pred]\n",
        "    \n",
        "    \n",
        "    labels = np.array(labels).flatten()\n",
        "    \n",
        "    fpr, tpr, threshold = metrics.roc_curve(labels, y_pred)\n",
        "    roc_auc = metrics.auc(fpr, tpr)\n",
        "    accu = metrics.accuracy_score(labels, preds)\n",
        "\n",
        "    print(\"N = \", len(y_pred), \"; AUC = \", roc_auc, \"; Accuracy = \", accu)\n",
        "    \n",
        "    \n",
        "    \n",
        "    df = pd.DataFrame({'fpr': fpr, 'tpr': tpr, 'threshold': threshold})\n",
        "    one_percent_fpr_idx = bisect_left(df['fpr'].values, 0.01)\n",
        "\n",
        "    # df.iloc[229]\n",
        "\n",
        "    row = df.iloc[one_percent_fpr_idx]\n",
        "    \n",
        "    detection_probability = row['tpr']\n",
        "    \n",
        "    \n",
        "    plt.title(\"ROC; p_det = {:.2f}\".format(detection_probability))\n",
        "\n",
        "    plt.plot(fpr, tpr, label = 'Test AUC = %0.2f' % roc_auc)\n",
        "\n",
        "    plt.legend(loc = 'lower right')\n",
        "    plt.plot([0, 1], [0, 1],'r--')\n",
        "    plt.xlim([-0.01, 1.01])\n",
        "    plt.ylim([-0.01, 1.01])\n",
        "    plt.ylabel('TPR')\n",
        "    plt.xlabel('FPR')\n",
        "    plt.show()\n",
        "    \n",
        "#     return fpr, tpr, threshold\n",
        "\n",
        "    print(\"Detection Probability @ 1% false alarm rate = {:.2f}\".format(row['tpr']))\n",
        "\n",
        "    return detection_probability\n",
        "\n"
      ],
      "execution_count": 359,
      "outputs": []
    },
    {
      "cell_type": "code",
      "metadata": {
        "colab": {
          "base_uri": "https://localhost:8080/",
          "height": 329
        },
        "id": "lr7keMjEDg5Z",
        "outputId": "c4798d4e-3b34-4e7a-9fca-a822cec51037"
      },
      "source": [
        "test_size = 1000\n",
        "\n",
        "all_data_raw, labels, f_s, h0_s, sqrt_S_s, rho_s = generate_test_data(test_size, lower_f=20, upper_f=25, h0_lower=-20, h0_upper=-27)\n",
        "\n",
        "detection_probability = get_results(all_data_raw, labels)"
      ],
      "execution_count": 360,
      "outputs": [
        {
          "output_type": "stream",
          "text": [
            "N =  1000 ; AUC =  0.9999619328495466 ; Accuracy =  0.996\n"
          ],
          "name": "stdout"
        },
        {
          "output_type": "display_data",
          "data": {
            "image/png": "[encoded data removed]",
            "text/plain": [
              "<Figure size 432x288 with 1 Axes>"
            ]
          },
          "metadata": {
            "needs_background": "light"
          }
        },
        {
          "output_type": "stream",
          "text": [
            "Detection Probability @ 1% false alarm rate = 1.00\n"
          ],
          "name": "stdout"
        }
      ]
    },
    {
      "cell_type": "code",
      "metadata": {
        "colab": {
          "base_uri": "https://localhost:8080/"
        },
        "id": "EqjySiorDiDS",
        "outputId": "720ffdc4-28d9-4c23-bb4a-f07f29d988c5"
      },
      "source": [
        "labels"
      ],
      "execution_count": 357,
      "outputs": [
        {
          "output_type": "execute_result",
          "data": {
            "text/plain": [
              "array([1, 0, 0, 0, 1, 1, 1, 0, 0, 1, 1, 0, 1, 0, 0, 1, 1, 1, 1, 0, 0, 0,\n",
              "       1, 0, 0, 1, 0, 0, 1, 1, 0, 1, 0, 0, 0, 0, 0, 1, 0, 1, 1, 1, 1, 0,\n",
              "       1, 0, 1, 0, 0, 1, 0, 0, 0, 0, 0, 0, 1, 0, 1, 1, 1, 1, 0, 1, 1, 1,\n",
              "       0, 0, 0, 1, 1, 0, 0, 1, 0, 0, 0, 0, 0, 1, 0, 0, 0, 1, 0, 0, 0, 1,\n",
              "       1, 0, 0, 1, 1, 1, 1, 0, 1, 0, 1, 0, 0, 1, 0, 1, 0, 0, 1, 1, 0, 0,\n",
              "       1, 0, 0, 0, 0, 0, 1, 1, 0, 0, 1, 0, 0, 1, 1, 1, 1, 0, 0, 1, 0, 0,\n",
              "       1, 0, 1, 0, 1, 1, 0, 0, 0, 0, 1, 0, 0, 1, 0, 1, 1, 1, 1, 0, 1, 1,\n",
              "       1, 1, 0, 0, 1, 1, 1, 0, 1, 1, 1, 0, 1, 1, 1, 1, 0, 1, 0, 1, 1, 1,\n",
              "       1, 0, 1, 0, 1, 0, 0, 1, 1, 1, 1, 1, 1, 1, 1, 0, 0, 0, 0, 1, 0, 0,\n",
              "       0, 1, 0, 0, 0, 0, 0, 0, 0, 1, 1, 1, 0, 1, 0, 1, 0, 0, 0, 0, 0, 1,\n",
              "       1, 0, 1, 1, 0, 1, 0, 1, 0, 1, 1, 0, 0, 0, 0, 1, 1, 1, 0, 1, 0, 1,\n",
              "       0, 1, 0, 1, 1, 1, 0, 0, 0, 1, 1, 1, 0, 0, 0, 1, 0, 1, 0, 0, 0, 1,\n",
              "       0, 0, 1, 0, 1, 1, 0, 1, 0, 1, 0, 1, 1, 0, 1, 0, 1, 1, 1, 1, 0, 1,\n",
              "       1, 0, 0, 0, 1, 1, 1, 0, 0, 1, 0, 0, 1, 0, 1, 1, 1, 1, 0, 1, 1, 0,\n",
              "       1, 0, 0, 0, 1, 0, 0, 0, 1, 1, 0, 1, 0, 0, 0, 1, 1, 0, 1, 0, 0, 0,\n",
              "       0, 0, 1, 0, 0, 1, 1, 1, 0, 0, 1, 1, 0, 1, 0, 1, 1, 0, 1, 1, 0, 1,\n",
              "       0, 0, 0, 1, 1, 1, 1, 1, 1, 1, 0, 1, 1, 0, 0, 1, 1, 0, 0, 1, 0, 0,\n",
              "       1, 0, 0, 0, 0, 0, 0, 0, 1, 0, 1, 0, 1, 1, 0, 1, 1, 1, 1, 1, 1, 0,\n",
              "       0, 1, 0, 0, 0, 1, 1, 0, 1, 1, 0, 1, 1, 1, 0, 0, 1, 1, 1, 0, 0, 1,\n",
              "       0, 1, 0, 0, 0, 0, 1, 1, 1, 0, 0, 0, 0, 0, 1, 0, 0, 0, 1, 1, 0, 1,\n",
              "       1, 0, 1, 0, 1, 0, 0, 1, 1, 0, 0, 0, 0, 0, 1, 0, 1, 1, 0, 1, 1, 1,\n",
              "       0, 0, 0, 0, 0, 1, 1, 0, 1, 0, 1, 0, 1, 0, 0, 1, 1, 1, 1, 0, 1, 0,\n",
              "       1, 1, 0, 0, 1, 1, 0, 0, 0, 1, 0, 0, 0, 0, 1, 1, 1, 1, 1, 1, 1, 1,\n",
              "       1, 1, 1, 0, 0, 1, 1, 1, 1, 0, 1, 1, 0, 1, 1, 0, 0, 1, 1, 0, 1, 1,\n",
              "       0, 1, 0, 0, 1, 0, 1, 0, 1, 1, 0, 0, 0, 1, 0, 1, 1, 0, 1, 0, 1, 1,\n",
              "       1, 1, 0, 0, 0, 1, 1, 0, 0, 1, 1, 1, 1, 1, 1, 1, 0, 0, 0, 0, 0, 0,\n",
              "       0, 1, 1, 0, 0, 1, 0, 0, 0, 1, 1, 1, 1, 1, 0, 1, 0, 0, 1, 1, 1, 1,\n",
              "       1, 0, 1, 1, 1, 0, 1, 1, 1, 0, 1, 0, 0, 0, 1, 0, 1, 1, 0, 0, 0, 0,\n",
              "       1, 0, 1, 0, 1, 0, 0, 1, 1, 0, 1, 1, 0, 1, 1, 0, 0, 1, 1, 1, 0, 0,\n",
              "       1, 0, 0, 1, 1, 0, 1, 1, 0, 1, 1, 0, 0, 0, 0, 0, 0, 1, 1, 0, 0, 0,\n",
              "       0, 1, 1, 0, 1, 0, 0, 1, 1, 1, 0, 0, 1, 1, 1, 0, 1, 0, 1, 1, 0, 1,\n",
              "       0, 1, 1, 1, 0, 0, 1, 1, 1, 1, 0, 0, 0, 0, 0, 0, 0, 1, 1, 0, 0, 0,\n",
              "       0, 0, 1, 1, 1, 0, 0, 1, 0, 1, 0, 1, 0, 0, 1, 1, 0, 1, 1, 1, 1, 0,\n",
              "       1, 1, 0, 0, 1, 1, 1, 1, 1, 0, 1, 0, 1, 1, 1, 1, 1, 1, 0, 1, 1, 0,\n",
              "       0, 1, 0, 1, 0, 0, 0, 0, 0, 0, 1, 1, 1, 1, 1, 0, 1, 1, 1, 0, 0, 1,\n",
              "       1, 1, 0, 0, 1, 0, 0, 0, 0, 1, 1, 1, 0, 1, 0, 1, 0, 1, 1, 0, 0, 1,\n",
              "       0, 0, 0, 1, 1, 1, 1, 1, 0, 0, 0, 1, 1, 1, 1, 0, 1, 1, 0, 0, 1, 0,\n",
              "       0, 0, 1, 1, 0, 0, 0, 1, 0, 1, 0, 0, 0, 1, 0, 0, 1, 0, 0, 1, 1, 1,\n",
              "       0, 1, 1, 1, 1, 1, 0, 0, 1, 0, 0, 0, 0, 0, 0, 0, 1, 0, 1, 1, 1, 0,\n",
              "       1, 0, 1, 1, 0, 0, 0, 0, 1, 0, 0, 1, 1, 1, 1, 0, 0, 0, 0, 1, 0, 0,\n",
              "       1, 0, 0, 0, 1, 0, 0, 0, 1, 1, 0, 1, 1, 1, 1, 1, 0, 0, 1, 0, 0, 0,\n",
              "       1, 0, 1, 1, 0, 1, 1, 0, 0, 0, 0, 1, 1, 1, 1, 1, 0, 1, 0, 0, 0, 1,\n",
              "       1, 1, 1, 0, 0, 0, 1, 0, 1, 0, 0, 0, 1, 0, 1, 0, 1, 0, 1, 0, 0, 0,\n",
              "       0, 0, 0, 0, 1, 0, 1, 1, 0, 1, 1, 1, 1, 0, 1, 0, 0, 1, 1, 1, 1, 0,\n",
              "       1, 0, 0, 1, 1, 1, 0, 1, 1, 0, 0, 1, 0, 1, 1, 1, 0, 1, 0, 1, 0, 1,\n",
              "       1, 0, 1, 1, 0, 1, 1, 1, 0, 1])"
            ]
          },
          "metadata": {},
          "execution_count": 357
        }
      ]
    },
    {
      "cell_type": "code",
      "metadata": {
        "id": "fOGNiWg3Nc7a",
        "colab": {
          "base_uri": "https://localhost:8080/"
        },
        "outputId": "586ce4af-b7c8-4371-dc0a-92724f41aada"
      },
      "source": [
        "model.predict(all_data_raw).flatten().tolist()"
      ],
      "execution_count": 358,
      "outputs": [
        {
          "output_type": "execute_result",
          "data": {
            "text/plain": [
              "[1.0,\n",
              " 2.9802322387695312e-08,\n",
              " 0.0,\n",
              " 1.4901161193847656e-07,\n",
              " 1.0,\n",
              " 1.0,\n",
              " 1.0,\n",
              " 0.0,\n",
              " 0.0,\n",
              " 1.0,\n",
              " 1.0,\n",
              " 0.0,\n",
              " 1.0,\n",
              " 0.0,\n",
              " 0.0,\n",
              " 1.0,\n",
              " 1.0,\n",
              " 1.0,\n",
              " 1.0,\n",
              " 0.0,\n",
              " 0.0,\n",
              " 1.2814998626708984e-06,\n",
              " 1.0,\n",
              " 0.0,\n",
              " 0.0,\n",
              " 1.0,\n",
              " 0.00010734796524047852,\n",
              " 8.285045623779297e-06,\n",
              " 1.0,\n",
              " 1.0,\n",
              " 2.110004425048828e-05,\n",
              " 1.0,\n",
              " 0.0,\n",
              " 0.0,\n",
              " 1.6987323760986328e-06,\n",
              " 0.00016200542449951172,\n",
              " 0.0,\n",
              " 1.0,\n",
              " 0.0,\n",
              " 1.0,\n",
              " 1.0,\n",
              " 1.0,\n",
              " 1.0,\n",
              " 0.0,\n",
              " 1.0,\n",
              " 0.0,\n",
              " 1.0,\n",
              " 4.76837158203125e-07,\n",
              " 0.0,\n",
              " 1.0,\n",
              " 0.0,\n",
              " 2.7120113372802734e-06,\n",
              " 0.0,\n",
              " 2.9802322387695312e-08,\n",
              " 0.0,\n",
              " 2.086162567138672e-07,\n",
              " 1.0,\n",
              " 0.0,\n",
              " 1.0,\n",
              " 1.0,\n",
              " 1.0,\n",
              " 1.0,\n",
              " 0.0,\n",
              " 1.0,\n",
              " 1.0,\n",
              " 1.0,\n",
              " 3.9637088775634766e-06,\n",
              " 0.0,\n",
              " 1.424551010131836e-05,\n",
              " 1.0,\n",
              " 1.0,\n",
              " 1.1920928955078125e-07,\n",
              " 0.0002854764461517334,\n",
              " 1.0,\n",
              " 0.0,\n",
              " 1.5497207641601562e-06,\n",
              " 0.0,\n",
              " 0.0,\n",
              " 0.0,\n",
              " 1.0,\n",
              " 3.8743019104003906e-07,\n",
              " 0.0,\n",
              " 0.00023350119590759277,\n",
              " 1.0,\n",
              " 0.0,\n",
              " 2.1249055862426758e-05,\n",
              " 0.0,\n",
              " 1.0,\n",
              " 1.0,\n",
              " 0.0,\n",
              " 2.9802322387695312e-08,\n",
              " 1.0,\n",
              " 1.0,\n",
              " 1.0,\n",
              " 1.0,\n",
              " 0.0,\n",
              " 1.0,\n",
              " 0.0,\n",
              " 1.0,\n",
              " 2.9802322387695312e-08,\n",
              " 0.0,\n",
              " 1.0,\n",
              " 0.0,\n",
              " 1.0,\n",
              " 0.0,\n",
              " 2.9802322387695312e-08,\n",
              " 1.0,\n",
              " 1.0,\n",
              " 1.043081283569336e-06,\n",
              " 0.0,\n",
              " 1.0,\n",
              " 5.900859832763672e-06,\n",
              " 0.0,\n",
              " 0.000422060489654541,\n",
              " 0.0,\n",
              " 5.960464477539063e-08,\n",
              " 1.0,\n",
              " 1.0,\n",
              " 2.9802322387695312e-08,\n",
              " 0.0,\n",
              " 1.0,\n",
              " 3.5762786865234375e-07,\n",
              " 0.0,\n",
              " 1.0,\n",
              " 1.0,\n",
              " 1.0,\n",
              " 1.0,\n",
              " 0.0,\n",
              " 6.854534149169922e-07,\n",
              " 1.0,\n",
              " 0.0,\n",
              " 2.9802322387695312e-08,\n",
              " 1.0,\n",
              " 3.9637088775634766e-06,\n",
              " 1.0,\n",
              " 0.0,\n",
              " 1.0,\n",
              " 1.0,\n",
              " 0.0,\n",
              " 0.0,\n",
              " 0.0,\n",
              " 0.00010147690773010254,\n",
              " 1.0,\n",
              " 0.0,\n",
              " 0.0,\n",
              " 1.0,\n",
              " 6.35683536529541e-05,\n",
              " 1.0,\n",
              " 1.0,\n",
              " 1.0,\n",
              " 1.0,\n",
              " 0.0,\n",
              " 1.0,\n",
              " 1.0,\n",
              " 1.0,\n",
              " 1.0,\n",
              " 0.012139558792114258,\n",
              " 0.0,\n",
              " 1.0,\n",
              " 1.0,\n",
              " 1.0,\n",
              " 0.0,\n",
              " 1.0,\n",
              " 1.0,\n",
              " 1.0,\n",
              " 0.0,\n",
              " 1.0,\n",
              " 1.0,\n",
              " 1.0,\n",
              " 1.0,\n",
              " 0.0,\n",
              " 1.0,\n",
              " 0.000279843807220459,\n",
              " 1.0,\n",
              " 1.0,\n",
              " 1.0,\n",
              " 1.0,\n",
              " 8.344650268554688e-07,\n",
              " 1.0,\n",
              " 0.002907365560531616,\n",
              " 1.0,\n",
              " 0.007031619548797607,\n",
              " 0.0,\n",
              " 1.0,\n",
              " 1.0,\n",
              " 1.0,\n",
              " 1.0,\n",
              " 1.0,\n",
              " 1.0,\n",
              " 1.0,\n",
              " 1.0,\n",
              " 3.3080577850341797e-06,\n",
              " 0.0,\n",
              " 0.0,\n",
              " 0.0,\n",
              " 1.0,\n",
              " 0.0012822449207305908,\n",
              " 0.4548516571521759,\n",
              " 0.0,\n",
              " 1.0,\n",
              " 0.0,\n",
              " 0.0,\n",
              " 0.0,\n",
              " 0.0,\n",
              " 1.6093254089355469e-06,\n",
              " 5.960464477539063e-08,\n",
              " 0.0,\n",
              " 1.0,\n",
              " 1.0,\n",
              " 1.0,\n",
              " 0.0,\n",
              " 1.0,\n",
              " 0.0,\n",
              " 1.0,\n",
              " 1.4901161193847656e-07,\n",
              " 0.0,\n",
              " 0.0,\n",
              " 0.0,\n",
              " 0.0,\n",
              " 1.0,\n",
              " 1.0,\n",
              " 2.384185791015625e-07,\n",
              " 1.0,\n",
              " 1.0,\n",
              " 0.0005258619785308838,\n",
              " 1.0,\n",
              " 0.0,\n",
              " 1.0,\n",
              " 2.9802322387695312e-08,\n",
              " 1.0,\n",
              " 1.0,\n",
              " 0.0,\n",
              " 9.834766387939453e-07,\n",
              " 0.0,\n",
              " 0.0,\n",
              " 1.0,\n",
              " 1.0,\n",
              " 1.0,\n",
              " 0.0,\n",
              " 1.0,\n",
              " 6.556510925292969e-06,\n",
              " 1.0,\n",
              " 0.0,\n",
              " 1.0,\n",
              " 1.7881393432617188e-07,\n",
              " 1.0,\n",
              " 1.0,\n",
              " 1.0,\n",
              " 0.0,\n",
              " 0.00015929341316223145,\n",
              " 1.0132789611816406e-06,\n",
              " 1.0,\n",
              " 1.0,\n",
              " 1.0,\n",
              " 0.0,\n",
              " 7.143616676330566e-05,\n",
              " 1.4901161193847656e-07,\n",
              " 1.0,\n",
              " 0.0,\n",
              " 1.0,\n",
              " 0.0,\n",
              " 2.9802322387695312e-08,\n",
              " 0.0,\n",
              " 1.0,\n",
              " 0.45434725284576416,\n",
              " 7.870793342590332e-05,\n",
              " 1.0,\n",
              " 0.0,\n",
              " 1.0,\n",
              " 1.0,\n",
              " 5.692243576049805e-06,\n",
              " 1.0,\n",
              " 0.0,\n",
              " 1.0,\n",
              " 0.0,\n",
              " 1.0,\n",
              " 1.0,\n",
              " 2.682209014892578e-07,\n",
              " 1.0,\n",
              " 0.0,\n",
              " 1.0,\n",
              " 1.0,\n",
              " 1.0,\n",
              " 1.0,\n",
              " 0.0,\n",
              " 1.0,\n",
              " 1.0,\n",
              " 0.0,\n",
              " 0.0,\n",
              " 1.4901161193847656e-07,\n",
              " 1.0,\n",
              " 1.0,\n",
              " 1.0,\n",
              " 0.0002936124801635742,\n",
              " 0.0,\n",
              " 1.0,\n",
              " 1.1026859283447266e-06,\n",
              " 0.0,\n",
              " 1.0,\n",
              " 0.0,\n",
              " 1.0,\n",
              " 1.0,\n",
              " 1.0,\n",
              " 1.0,\n",
              " 2.086162567138672e-07,\n",
              " 1.0,\n",
              " 1.0,\n",
              " 1.4901161193847656e-07,\n",
              " 1.0,\n",
              " 2.682209014892578e-05,\n",
              " 0.0,\n",
              " 0.0,\n",
              " 1.0,\n",
              " 2.3543834686279297e-06,\n",
              " 0.0005909204483032227,\n",
              " 0.0,\n",
              " 1.0,\n",
              " 1.0,\n",
              " 0.0,\n",
              " 1.0,\n",
              " 0.0,\n",
              " 0.0,\n",
              " 0.0,\n",
              " 1.0,\n",
              " 1.0,\n",
              " 0.0,\n",
              " 1.0,\n",
              " 0.0,\n",
              " 0.0,\n",
              " 0.0,\n",
              " 2.9802322387695312e-08,\n",
              " 6.377696990966797e-06,\n",
              " 1.0,\n",
              " 0.0,\n",
              " 0.0,\n",
              " 1.0,\n",
              " 1.0,\n",
              " 1.0,\n",
              " 2.682209014892578e-06,\n",
              " 1.3202428817749023e-05,\n",
              " 1.0,\n",
              " 1.0,\n",
              " 0.0,\n",
              " 1.0,\n",
              " 0.0,\n",
              " 1.0,\n",
              " 1.0,\n",
              " 2.9802322387695312e-08,\n",
              " 1.0,\n",
              " 1.0,\n",
              " 0.0,\n",
              " 1.0,\n",
              " 0.0,\n",
              " 5.960464477539063e-08,\n",
              " 0.0,\n",
              " 1.0,\n",
              " 1.0,\n",
              " 1.0,\n",
              " 1.0,\n",
              " 1.0,\n",
              " 1.0,\n",
              " 1.0,\n",
              " 1.7881393432617188e-07,\n",
              " 1.0,\n",
              " 1.0,\n",
              " 0.0,\n",
              " 0.0,\n",
              " 1.0,\n",
              " 1.0,\n",
              " 0.0,\n",
              " 0.0,\n",
              " 1.0,\n",
              " 0.0,\n",
              " 0.0,\n",
              " 1.0,\n",
              " 1.7881393432617188e-07,\n",
              " 2.682209014892578e-07,\n",
              " 0.0,\n",
              " 0.0,\n",
              " 0.0,\n",
              " 2.980232238769531e-07,\n",
              " 0.0,\n",
              " 1.0,\n",
              " 0.0,\n",
              " 0.46303102374076843,\n",
              " 0.0,\n",
              " 1.0,\n",
              " 0.46303102374076843,\n",
              " 1.150369644165039e-05,\n",
              " 1.0,\n",
              " 1.0,\n",
              " 1.0,\n",
              " 1.0,\n",
              " 1.0,\n",
              " 1.0,\n",
              " 0.0,\n",
              " 0.0,\n",
              " 1.0,\n",
              " 0.0,\n",
              " 0.0,\n",
              " 0.0,\n",
              " 1.0,\n",
              " 1.0,\n",
              " 3.2782554626464844e-07,\n",
              " 1.0,\n",
              " 1.0,\n",
              " 0.0,\n",
              " 1.0,\n",
              " 1.0,\n",
              " 1.0,\n",
              " 0.0,\n",
              " 0.0,\n",
              " 1.0,\n",
              " 1.0,\n",
              " 1.0,\n",
              " 0.0,\n",
              " 3.5762786865234375e-07,\n",
              " 1.0,\n",
              " 0.0,\n",
              " 1.0,\n",
              " 0.0,\n",
              " 0.0,\n",
              " 0.0,\n",
              " 8.940696716308594e-08,\n",
              " 1.0,\n",
              " 1.0,\n",
              " 1.0,\n",
              " 0.0,\n",
              " 8.940696716308594e-08,\n",
              " 0.0,\n",
              " 9.834766387939453e-07,\n",
              " 0.0,\n",
              " 1.0,\n",
              " 0.0,\n",
              " 0.0,\n",
              " 0.0,\n",
              " 1.0,\n",
              " 1.0,\n",
              " 0.0,\n",
              " 1.0,\n",
              " 1.0,\n",
              " 3.5762786865234375e-07,\n",
              " 1.0,\n",
              " 0.0,\n",
              " 1.0,\n",
              " 0.0,\n",
              " 0.9998029470443726,\n",
              " 1.0,\n",
              " 1.0,\n",
              " 0.0,\n",
              " 0.0001539289951324463,\n",
              " 0.0,\n",
              " 1.430511474609375e-06,\n",
              " 0.0,\n",
              " 1.0,\n",
              " 0.0,\n",
              " 1.0,\n",
              " 1.0,\n",
              " 1.6093254089355469e-06,\n",
              " 1.0,\n",
              " 1.0,\n",
              " 1.0,\n",
              " 0.0021727383136749268,\n",
              " 0.0,\n",
              " 0.0,\n",
              " 4.76837158203125e-07,\n",
              " 0.0,\n",
              " 1.0,\n",
              " 1.0,\n",
              " 0.0,\n",
              " 1.0,\n",
              " 0.0,\n",
              " 1.0,\n",
              " 0.0,\n",
              " 1.0,\n",
              " 0.0,\n",
              " 0.0,\n",
              " 1.0,\n",
              " 1.0,\n",
              " 1.0,\n",
              " 1.0,\n",
              " 0.0,\n",
              " 1.0,\n",
              " 0.0,\n",
              " 1.0,\n",
              " 1.0,\n",
              " 1.2814998626708984e-06,\n",
              " 0.0,\n",
              " 1.0,\n",
              " 1.0,\n",
              " 0.0,\n",
              " 2.9802322387695312e-08,\n",
              " 0.0017150342464447021,\n",
              " 1.0,\n",
              " 0.0,\n",
              " 0.0032185018062591553,\n",
              " 3.8743019104003906e-07,\n",
              " 0.005729079246520996,\n",
              " 1.0,\n",
              " 1.0,\n",
              " 1.0,\n",
              " 1.0,\n",
              " 1.0,\n",
              " 1.0,\n",
              " 1.0,\n",
              " 1.0,\n",
              " 1.0,\n",
              " 1.0,\n",
              " 1.0,\n",
              " 0.0,\n",
              " 2.9802322387695312e-08,\n",
              " 1.0,\n",
              " 1.0,\n",
              " 1.0,\n",
              " 1.0,\n",
              " 0.0,\n",
              " 1.0,\n",
              " 1.0,\n",
              " 0.0,\n",
              " 1.0,\n",
              " 1.0,\n",
              " 0.0,\n",
              " 0.0,\n",
              " 1.0,\n",
              " 1.0,\n",
              " 0.001717209815979004,\n",
              " 1.0,\n",
              " 1.0,\n",
              " 0.0,\n",
              " 1.0,\n",
              " 2.8014183044433594e-06,\n",
              " 2.9802322387695312e-08,\n",
              " 1.0,\n",
              " 0.0,\n",
              " 1.0,\n",
              " 0.0,\n",
              " 1.0,\n",
              " 1.0,\n",
              " 0.0,\n",
              " 0.0015170872211456299,\n",
              " 0.0,\n",
              " 0.4700118899345398,\n",
              " 0.0,\n",
              " 1.0,\n",
              " 1.0,\n",
              " 2.9802322387695312e-08,\n",
              " 1.0,\n",
              " 0.0,\n",
              " 1.0,\n",
              " 1.0,\n",
              " 1.0,\n",
              " 1.0,\n",
              " 0.0,\n",
              " 0.0,\n",
              " 1.7881393432617188e-06,\n",
              " 1.0,\n",
              " 1.0,\n",
              " 0.0,\n",
              " 1.8477439880371094e-06,\n",
              " 1.0,\n",
              " 1.0,\n",
              " 1.0,\n",
              " 1.0,\n",
              " 1.0,\n",
              " 1.0,\n",
              " 1.0,\n",
              " 0.0,\n",
              " 2.771615982055664e-06,\n",
              " 0.00044909119606018066,\n",
              " 0.0001939237117767334,\n",
              " 1.4901161193847656e-07,\n",
              " 0.0,\n",
              " 0.0,\n",
              " 1.0,\n",
              " 1.0,\n",
              " 0.0,\n",
              " 0.0,\n",
              " 1.0,\n",
              " 0.0001932084560394287,\n",
              " 0.0,\n",
              " 0.0,\n",
              " 0.4548516571521759,\n",
              " 1.0,\n",
              " 1.0,\n",
              " 1.0,\n",
              " 1.0,\n",
              " 0.0,\n",
              " 1.0,\n",
              " 0.0,\n",
              " 0.0,\n",
              " 1.0,\n",
              " 1.0,\n",
              " 1.0,\n",
              " 1.0,\n",
              " 1.0,\n",
              " 0.0,\n",
              " 1.0,\n",
              " 1.0,\n",
              " 1.0,\n",
              " 0.0,\n",
              " 1.0,\n",
              " 1.0,\n",
              " 1.0,\n",
              " 0.00011020898818969727,\n",
              " 1.0,\n",
              " 1.9431114196777344e-05,\n",
              " 0.0,\n",
              " 0.0,\n",
              " 1.0,\n",
              " 0.0,\n",
              " 1.0,\n",
              " 1.0,\n",
              " 2.980232238769531e-07,\n",
              " 2.384185791015625e-07,\n",
              " 1.7881393432617188e-07,\n",
              " 2.384185791015625e-07,\n",
              " 1.0,\n",
              " 0.0,\n",
              " 1.0,\n",
              " 1.1920928955078125e-07,\n",
              " 1.0,\n",
              " 0.0,\n",
              " 2.086162567138672e-07,\n",
              " 1.0,\n",
              " 1.0,\n",
              " 0.0,\n",
              " 1.0,\n",
              " 1.0,\n",
              " 0.0,\n",
              " 1.0,\n",
              " 1.0,\n",
              " 0.0,\n",
              " 5.9217214584350586e-05,\n",
              " 1.0,\n",
              " 1.0,\n",
              " 1.0,\n",
              " 0.0,\n",
              " 0.0,\n",
              " 1.0,\n",
              " 0.0,\n",
              " 0.0,\n",
              " 1.0,\n",
              " 1.0,\n",
              " 3.2782554626464844e-07,\n",
              " 1.0,\n",
              " 1.0,\n",
              " 0.0,\n",
              " 1.0,\n",
              " 1.0,\n",
              " 0.0,\n",
              " 0.0,\n",
              " 6.401538848876953e-05,\n",
              " 0.0,\n",
              " 0.0,\n",
              " 0.0,\n",
              " 1.0,\n",
              " 1.0,\n",
              " 0.0,\n",
              " 0.0,\n",
              " 0.0,\n",
              " 0.0,\n",
              " 1.0,\n",
              " 1.0,\n",
              " 0.0,\n",
              " 1.0,\n",
              " 4.76837158203125e-07,\n",
              " 0.0,\n",
              " 1.0,\n",
              " 1.0,\n",
              " 1.0,\n",
              " 0.0,\n",
              " 0.0,\n",
              " 1.0,\n",
              " 1.0,\n",
              " 1.0,\n",
              " 0.0,\n",
              " 1.0,\n",
              " 0.4548516571521759,\n",
              " 1.0,\n",
              " 1.0,\n",
              " 0.0,\n",
              " 1.0,\n",
              " 1.7881393432617188e-07,\n",
              " 1.0,\n",
              " 1.0,\n",
              " 1.0,\n",
              " 0.0,\n",
              " 0.0,\n",
              " 1.0,\n",
              " 1.0,\n",
              " 1.0,\n",
              " 1.0,\n",
              " 0.0,\n",
              " 0.0,\n",
              " 0.0,\n",
              " 1.2576580047607422e-05,\n",
              " 3.7550926208496094e-06,\n",
              " 0.0,\n",
              " 0.0004768669605255127,\n",
              " 1.0,\n",
              " 1.0,\n",
              " 0.0,\n",
              " 6.854534149169922e-07,\n",
              " 0.0014680922031402588,\n",
              " 0.0,\n",
              " 0.0002389848232269287,\n",
              " 1.0,\n",
              " 1.0,\n",
              " 1.0,\n",
              " 0.0,\n",
              " 0.0,\n",
              " 1.0,\n",
              " 8.940696716308594e-08,\n",
              " 1.0,\n",
              " 0.0,\n",
              " 1.0,\n",
              " 0.0,\n",
              " 2.980232238769531e-07,\n",
              " 1.0,\n",
              " 1.0,\n",
              " 0.0,\n",
              " 1.0,\n",
              " 1.0,\n",
              " 1.0,\n",
              " 1.0,\n",
              " 4.172325134277344e-07,\n",
              " 1.0,\n",
              " 1.0,\n",
              " 0.0001652240753173828,\n",
              " 8.344650268554688e-07,\n",
              " 1.0,\n",
              " 1.0,\n",
              " 1.0,\n",
              " 1.0,\n",
              " 1.0,\n",
              " 2.9802322387695312e-08,\n",
              " 1.0,\n",
              " 0.0,\n",
              " 1.0,\n",
              " 0.4638325870037079,\n",
              " 1.0,\n",
              " 1.0,\n",
              " 1.0,\n",
              " 1.0,\n",
              " 0.0,\n",
              " 1.0,\n",
              " 1.0,\n",
              " 0.0,\n",
              " 0.0,\n",
              " 1.0,\n",
              " 0.00029018521308898926,\n",
              " 1.0,\n",
              " 0.0,\n",
              " 0.0,\n",
              " 0.000554203987121582,\n",
              " 2.2739171981811523e-05,\n",
              " 2.205371856689453e-06,\n",
              " 0.0,\n",
              " 1.0,\n",
              " 1.0,\n",
              " 1.0,\n",
              " 1.0,\n",
              " 1.0,\n",
              " 0.0,\n",
              " 1.0,\n",
              " 1.0,\n",
              " 1.0,\n",
              " 1.4901161193847656e-07,\n",
              " 0.0,\n",
              " 1.0,\n",
              " 1.0,\n",
              " 1.0,\n",
              " 0.0,\n",
              " 0.0,\n",
              " 1.0,\n",
              " 3.5762786865234375e-07,\n",
              " 0.0,\n",
              " 0.0,\n",
              " 1.4901161193847656e-07,\n",
              " 0.45434725284576416,\n",
              " 1.0,\n",
              " 1.0,\n",
              " 2.9802322387695312e-08,\n",
              " 1.0,\n",
              " 0.0,\n",
              " 1.0,\n",
              " 0.0,\n",
              " 1.0,\n",
              " 1.0,\n",
              " 4.380941390991211e-06,\n",
              " 0.0,\n",
              " 1.0,\n",
              " 0.0,\n",
              " 0.0,\n",
              " 0.0,\n",
              " 1.0,\n",
              " 1.0,\n",
              " 1.0,\n",
              " 1.0,\n",
              " 1.0,\n",
              " 0.0,\n",
              " 1.1473894119262695e-05,\n",
              " 0.0,\n",
              " 1.0,\n",
              " 1.0,\n",
              " 1.0,\n",
              " 1.0,\n",
              " 0.0,\n",
              " 1.0,\n",
              " 1.0,\n",
              " 0.0,\n",
              " 0.0,\n",
              " 1.0,\n",
              " 0.0,\n",
              " 0.0,\n",
              " 0.0,\n",
              " 1.0,\n",
              " 1.0,\n",
              " 0.0,\n",
              " 0.00016379356384277344,\n",
              " 0.0,\n",
              " 1.0,\n",
              " 0.0,\n",
              " 1.0,\n",
              " 0.0,\n",
              " 0.0,\n",
              " 0.0,\n",
              " 1.0,\n",
              " 0.0,\n",
              " 0.0,\n",
              " 1.0,\n",
              " 0.0,\n",
              " 0.0,\n",
              " 1.0,\n",
              " 1.0,\n",
              " 1.0,\n",
              " 0.0,\n",
              " 1.0,\n",
              " 1.0,\n",
              " 1.0,\n",
              " 1.0,\n",
              " 1.0,\n",
              " 0.0,\n",
              " 0.0,\n",
              " 1.0,\n",
              " 6.839632987976074e-05,\n",
              " 5.9098005294799805e-05,\n",
              " 0.0,\n",
              " 0.0,\n",
              " 0.0,\n",
              " 0.00033220648765563965,\n",
              " 0.0,\n",
              " 1.0,\n",
              " 0.0,\n",
              " 1.0,\n",
              " 1.0,\n",
              " 1.0,\n",
              " 0.0,\n",
              " 1.0,\n",
              " 5.91278076171875e-05,\n",
              " 1.0,\n",
              " 1.0,\n",
              " 0.4700118899345398,\n",
              " 1.341104507446289e-06,\n",
              " 3.546476364135742e-06,\n",
              " 0.0,\n",
              " 1.0,\n",
              " 0.0,\n",
              " 3.2782554626464844e-07,\n",
              " 1.0,\n",
              " 1.0,\n",
              " 1.0,\n",
              " 1.0,\n",
              " 6.064772605895996e-05,\n",
              " 0.0,\n",
              " 0.001625657081604004,\n",
              " 0.0,\n",
              " 1.0,\n",
              " 2.9802322387695312e-08,\n",
              " 3.606081008911133e-06,\n",
              " 1.0,\n",
              " 5.0067901611328125e-06,\n",
              " 0.0,\n",
              " 0.0,\n",
              " 1.0,\n",
              " 0.0,\n",
              " 0.0,\n",
              " 0.0,\n",
              " 1.0,\n",
              " 1.0,\n",
              " 0.0,\n",
              " 1.0,\n",
              " 1.0,\n",
              " 1.0,\n",
              " 1.0,\n",
              " 1.0,\n",
              " 0.0,\n",
              " 0.0,\n",
              " 1.0,\n",
              " 0.0,\n",
              " 0.001352846622467041,\n",
              " 2.9802322387695312e-08,\n",
              " 1.0,\n",
              " 2.086162567138672e-06,\n",
              " 1.0,\n",
              " 1.0,\n",
              " 0.0,\n",
              " 1.0,\n",
              " 1.0,\n",
              " 0.0,\n",
              " 6.195902824401855e-05,\n",
              " 0.0,\n",
              " 2.682209014892578e-06,\n",
              " 1.0,\n",
              " 1.0,\n",
              " 1.0,\n",
              " 1.0,\n",
              " 1.0,\n",
              " 0.0,\n",
              " 1.0,\n",
              " 2.950429916381836e-06,\n",
              " 0.0017813146114349365,\n",
              " 0.0,\n",
              " 1.0,\n",
              " 1.0,\n",
              " 1.0,\n",
              " 1.0,\n",
              " 0.0,\n",
              " 0.0,\n",
              " 0.0,\n",
              " 1.0,\n",
              " 0.0,\n",
              " 1.0,\n",
              " 0.0,\n",
              " 0.0,\n",
              " 2.6226043701171875e-06,\n",
              " 1.0,\n",
              " 0.0,\n",
              " 1.0,\n",
              " 0.0,\n",
              " 1.0,\n",
              " 1.341104507446289e-06,\n",
              " 1.0,\n",
              " 0.0,\n",
              " 0.0,\n",
              " 0.0,\n",
              " 0.0,\n",
              " 9.831786155700684e-05,\n",
              " 5.996227264404297e-05,\n",
              " 7.337331771850586e-05,\n",
              " 1.0,\n",
              " 0.0,\n",
              " 1.0,\n",
              " 1.0,\n",
              " 0.004022538661956787,\n",
              " 1.0,\n",
              " 1.0,\n",
              " 1.0,\n",
              " 1.0,\n",
              " 0.0,\n",
              " 1.0,\n",
              " 1.4901161193847656e-07,\n",
              " 5.960464477539063e-08,\n",
              " 1.0,\n",
              " 1.0,\n",
              " 1.0,\n",
              " 1.0,\n",
              " 1.1920928955078125e-07,\n",
              " 1.0,\n",
              " 0.0,\n",
              " 0.7955175638198853,\n",
              " 1.0,\n",
              " 1.0,\n",
              " 1.0,\n",
              " 2.6226043701171875e-06,\n",
              " 1.0,\n",
              " 1.0,\n",
              " 0.0,\n",
              " 2.682209014892578e-07,\n",
              " 1.0,\n",
              " 0.0,\n",
              " 1.0,\n",
              " 1.0,\n",
              " 1.0,\n",
              " 0.0,\n",
              " 1.0,\n",
              " 0.0,\n",
              " 1.0,\n",
              " 0.0,\n",
              " 1.0,\n",
              " 1.0,\n",
              " 0.00010341405868530273,\n",
              " 1.0,\n",
              " 1.0,\n",
              " 0.0,\n",
              " 1.0,\n",
              " 1.0,\n",
              " 1.0,\n",
              " 0.0,\n",
              " 1.0]"
            ]
          },
          "metadata": {},
          "execution_count": 358
        }
      ]
    },
    {
      "cell_type": "code",
      "metadata": {
        "id": "iLZJZWe_YuiH"
      },
      "source": [
        ""
      ],
      "execution_count": null,
      "outputs": []
    }
  ]
}