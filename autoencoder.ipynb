{
  "nbformat": 4,
  "nbformat_minor": 0,
  "metadata": {
    "accelerator": "TPU",
    "colab": {
      "name": "autoencoder",
      "provenance": [],
      "collapsed_sections": [],
      "machine_shape": "hm",
      "authorship_tag": "ABX9TyNei6z+EAv51iO4kxgzVPn8",
      "include_colab_link": true
    },
    "kernelspec": {
      "display_name": "Python 3",
      "name": "python3"
    },
    "language_info": {
      "name": "python"
    }
  },
  "cells": [
    {
      "cell_type": "markdown",
      "metadata": {
        "id": "view-in-github",
        "colab_type": "text"
      },
      "source": [
        "<a href=\"https://colab.research.google.com/github/tripatheea/auto/blob/main/autoencoder.ipynb\" target=\"_parent\"><img src=\"https://colab.research.google.com/assets/colab-badge.svg\" alt=\"Open In Colab\"/></a>"
      ]
    },
    {
      "cell_type": "code",
      "metadata": {
        "colab": {
          "base_uri": "https://localhost:8080/"
        },
        "id": "tUY0RTNtJP2D",
        "outputId": "ab94ab26-a06d-45e7-a834-828394d77c22"
      },
      "source": [
        "!pip uninstall tensorflow -y"
      ],
      "execution_count": null,
      "outputs": [
        {
          "output_type": "stream",
          "text": [
            "Uninstalling tensorflow-2.4.1:\n",
            "  Successfully uninstalled tensorflow-2.4.1\n"
          ],
          "name": "stdout"
        }
      ]
    },
    {
      "cell_type": "code",
      "metadata": {
        "colab": {
          "base_uri": "https://localhost:8080/",
          "height": 882
        },
        "id": "KtVKU3zfJYPm",
        "outputId": "5d418279-1406-46f8-c601-db3a56ec28e4"
      },
      "source": [
        "!pip install  tensorflow-gpu"
      ],
      "execution_count": null,
      "outputs": [
        {
          "output_type": "stream",
          "text": [
            "Collecting tensorflow-gpu\n",
            "\u001b[?25l  Downloading https://files.pythonhosted.org/packages/85/cc/a27e73cf8b23f2ce4bdd2b7089a42a7819ce6dd7366dceba406ddc5daa9c/tensorflow_gpu-2.4.1-cp37-cp37m-manylinux2010_x86_64.whl (394.3MB)\n",
            "\u001b[K     |████████████████████████████████| 394.3MB 41kB/s \n",
            "\u001b[?25hRequirement already satisfied: flatbuffers~=1.12.0 in /usr/local/lib/python3.7/dist-packages (from tensorflow-gpu) (1.12)\n",
            "Requirement already satisfied: wrapt~=1.12.1 in /usr/local/lib/python3.7/dist-packages (from tensorflow-gpu) (1.12.1)\n",
            "Requirement already satisfied: gast==0.3.3 in /usr/local/lib/python3.7/dist-packages (from tensorflow-gpu) (0.3.3)\n",
            "Requirement already satisfied: astunparse~=1.6.3 in /usr/local/lib/python3.7/dist-packages (from tensorflow-gpu) (1.6.3)\n",
            "Requirement already satisfied: tensorflow-estimator<2.5.0,>=2.4.0 in /usr/local/lib/python3.7/dist-packages (from tensorflow-gpu) (2.4.0)\n",
            "Requirement already satisfied: protobuf>=3.9.2 in /usr/local/lib/python3.7/dist-packages (from tensorflow-gpu) (3.12.4)\n",
            "Requirement already satisfied: numpy~=1.19.2 in /usr/local/lib/python3.7/dist-packages (from tensorflow-gpu) (1.19.5)\n",
            "Requirement already satisfied: six~=1.15.0 in /usr/local/lib/python3.7/dist-packages (from tensorflow-gpu) (1.15.0)\n",
            "Requirement already satisfied: keras-preprocessing~=1.1.2 in /usr/local/lib/python3.7/dist-packages (from tensorflow-gpu) (1.1.2)\n",
            "Requirement already satisfied: opt-einsum~=3.3.0 in /usr/local/lib/python3.7/dist-packages (from tensorflow-gpu) (3.3.0)\n",
            "Requirement already satisfied: h5py~=2.10.0 in /usr/local/lib/python3.7/dist-packages (from tensorflow-gpu) (2.10.0)\n",
            "Requirement already satisfied: typing-extensions~=3.7.4 in /usr/local/lib/python3.7/dist-packages (from tensorflow-gpu) (3.7.4.3)\n",
            "Requirement already satisfied: absl-py~=0.10 in /usr/local/lib/python3.7/dist-packages (from tensorflow-gpu) (0.12.0)\n",
            "Requirement already satisfied: grpcio~=1.32.0 in /usr/local/lib/python3.7/dist-packages (from tensorflow-gpu) (1.32.0)\n",
            "Requirement already satisfied: google-pasta~=0.2 in /usr/local/lib/python3.7/dist-packages (from tensorflow-gpu) (0.2.0)\n",
            "Requirement already satisfied: tensorboard~=2.4 in /usr/local/lib/python3.7/dist-packages (from tensorflow-gpu) (2.4.1)\n",
            "Requirement already satisfied: termcolor~=1.1.0 in /usr/local/lib/python3.7/dist-packages (from tensorflow-gpu) (1.1.0)\n",
            "Requirement already satisfied: wheel~=0.35 in /usr/local/lib/python3.7/dist-packages (from tensorflow-gpu) (0.36.2)\n",
            "Requirement already satisfied: setuptools in /usr/local/lib/python3.7/dist-packages (from protobuf>=3.9.2->tensorflow-gpu) (56.1.0)\n",
            "Requirement already satisfied: google-auth<2,>=1.6.3 in /usr/local/lib/python3.7/dist-packages (from tensorboard~=2.4->tensorflow-gpu) (1.30.0)\n",
            "Requirement already satisfied: requests<3,>=2.21.0 in /usr/local/lib/python3.7/dist-packages (from tensorboard~=2.4->tensorflow-gpu) (2.23.0)\n",
            "Requirement already satisfied: werkzeug>=0.11.15 in /usr/local/lib/python3.7/dist-packages (from tensorboard~=2.4->tensorflow-gpu) (1.0.1)\n",
            "Requirement already satisfied: markdown>=2.6.8 in /usr/local/lib/python3.7/dist-packages (from tensorboard~=2.4->tensorflow-gpu) (3.3.4)\n",
            "Requirement already satisfied: google-auth-oauthlib<0.5,>=0.4.1 in /usr/local/lib/python3.7/dist-packages (from tensorboard~=2.4->tensorflow-gpu) (0.4.4)\n",
            "Requirement already satisfied: tensorboard-plugin-wit>=1.6.0 in /usr/local/lib/python3.7/dist-packages (from tensorboard~=2.4->tensorflow-gpu) (1.8.0)\n",
            "Requirement already satisfied: rsa<5,>=3.1.4; python_version >= \"3.6\" in /usr/local/lib/python3.7/dist-packages (from google-auth<2,>=1.6.3->tensorboard~=2.4->tensorflow-gpu) (4.7.2)\n",
            "Requirement already satisfied: cachetools<5.0,>=2.0.0 in /usr/local/lib/python3.7/dist-packages (from google-auth<2,>=1.6.3->tensorboard~=2.4->tensorflow-gpu) (4.2.2)\n",
            "Requirement already satisfied: pyasn1-modules>=0.2.1 in /usr/local/lib/python3.7/dist-packages (from google-auth<2,>=1.6.3->tensorboard~=2.4->tensorflow-gpu) (0.2.8)\n",
            "Requirement already satisfied: urllib3!=1.25.0,!=1.25.1,<1.26,>=1.21.1 in /usr/local/lib/python3.7/dist-packages (from requests<3,>=2.21.0->tensorboard~=2.4->tensorflow-gpu) (1.24.3)\n",
            "Requirement already satisfied: chardet<4,>=3.0.2 in /usr/local/lib/python3.7/dist-packages (from requests<3,>=2.21.0->tensorboard~=2.4->tensorflow-gpu) (3.0.4)\n",
            "Requirement already satisfied: idna<3,>=2.5 in /usr/local/lib/python3.7/dist-packages (from requests<3,>=2.21.0->tensorboard~=2.4->tensorflow-gpu) (2.10)\n",
            "Requirement already satisfied: certifi>=2017.4.17 in /usr/local/lib/python3.7/dist-packages (from requests<3,>=2.21.0->tensorboard~=2.4->tensorflow-gpu) (2020.12.5)\n",
            "Requirement already satisfied: importlib-metadata; python_version < \"3.8\" in /usr/local/lib/python3.7/dist-packages (from markdown>=2.6.8->tensorboard~=2.4->tensorflow-gpu) (4.0.1)\n",
            "Requirement already satisfied: requests-oauthlib>=0.7.0 in /usr/local/lib/python3.7/dist-packages (from google-auth-oauthlib<0.5,>=0.4.1->tensorboard~=2.4->tensorflow-gpu) (1.3.0)\n",
            "Requirement already satisfied: pyasn1>=0.1.3 in /usr/local/lib/python3.7/dist-packages (from rsa<5,>=3.1.4; python_version >= \"3.6\"->google-auth<2,>=1.6.3->tensorboard~=2.4->tensorflow-gpu) (0.4.8)\n",
            "Requirement already satisfied: zipp>=0.5 in /usr/local/lib/python3.7/dist-packages (from importlib-metadata; python_version < \"3.8\"->markdown>=2.6.8->tensorboard~=2.4->tensorflow-gpu) (3.4.1)\n",
            "Requirement already satisfied: oauthlib>=3.0.0 in /usr/local/lib/python3.7/dist-packages (from requests-oauthlib>=0.7.0->google-auth-oauthlib<0.5,>=0.4.1->tensorboard~=2.4->tensorflow-gpu) (3.1.0)\n",
            "Installing collected packages: tensorflow-gpu\n",
            "Successfully installed tensorflow-gpu-2.4.1\n"
          ],
          "name": "stdout"
        },
        {
          "output_type": "display_data",
          "data": {
            "application/vnd.colab-display-data+json": {
              "pip_warning": {
                "packages": [
                  "tensorflow"
                ]
              }
            }
          },
          "metadata": {
            "tags": []
          }
        }
      ]
    },
    {
      "cell_type": "code",
      "metadata": {
        "id": "6dith3gH6OY3"
      },
      "source": [
        "from __future__ import absolute_import, division, print_function, unicode_literals\n",
        "\n",
        "import tensorflow as tf\n",
        "\n",
        "from tensorflow.keras import datasets, layers, models\n",
        "\n",
        "import numpy as np\n",
        "import pandas as pd\n",
        "import matplotlib as mpl\n",
        "from matplotlib import pyplot as plt\n",
        "\n",
        "\n",
        "from keras.models import Sequential\n",
        "import keras\n",
        "\n",
        "from keras.layers import Dense, Flatten, Conv1D\n",
        "from keras.callbacks import ModelCheckpoint\n",
        "from keras.models import model_from_json\n",
        "from keras import backend as K\n",
        "\n",
        "import numpy\n",
        "\n",
        "\n",
        "\n",
        "from keras.layers.embeddings import Embedding\n",
        "from keras.preprocessing import sequence\n",
        "\n",
        "from sklearn.preprocessing import StandardScaler\n",
        "\n",
        "from sklearn.model_selection import train_test_split, cross_val_score, cross_val_predict, GridSearchCV\n",
        "\n",
        "import seaborn as sns\n",
        "\n",
        "from keras.layers import add, Activation, LSTM, Conv1D\n",
        "from keras.layers import MaxPooling1D, UpSampling1D, Cropping1D, SpatialDropout1D, Bidirectional, BatchNormalization\n",
        "from keras.models import Model\n",
        "\n",
        "from keras.optimizers import Adam\n",
        "\n",
        "from numpy.random import seed\n",
        "from tensorflow.random import set_seed\n",
        "\n",
        "\n",
        "import random\n",
        "\n",
        "from tensorflow.compat.v1.keras.layers import CuDNNLSTM"
      ],
      "execution_count": null,
      "outputs": []
    },
    {
      "cell_type": "code",
      "metadata": {
        "id": "-hp8Z1orJwjV"
      },
      "source": [
        ""
      ],
      "execution_count": null,
      "outputs": []
    },
    {
      "cell_type": "code",
      "metadata": {
        "colab": {
          "base_uri": "https://localhost:8080/"
        },
        "id": "27dl7LsDBJio",
        "outputId": "53df90bd-71bb-4474-9522-8a54fb15b19f"
      },
      "source": [
        "from psutil import virtual_memory\n",
        "ram_gb = virtual_memory().total / 1e9\n",
        "print('Your runtime has {:.1f} gigabytes of available RAM\\n'.format(ram_gb))\n",
        "\n",
        "if ram_gb < 20:\n",
        "  print('To enable a high-RAM runtime, select the Runtime > \"Change runtime type\"')\n",
        "  print('menu, and then select High-RAM in the Runtime shape dropdown. Then, ')\n",
        "  print('re-execute this cell.')\n",
        "else:\n",
        "  print('You are using a high-RAM runtime!')"
      ],
      "execution_count": null,
      "outputs": [
        {
          "output_type": "stream",
          "text": [
            "Your runtime has 37.9 gigabytes of available RAM\n",
            "\n",
            "You are using a high-RAM runtime!\n"
          ],
          "name": "stdout"
        }
      ]
    },
    {
      "cell_type": "code",
      "metadata": {
        "colab": {
          "base_uri": "https://localhost:8080/"
        },
        "id": "V8W9OPSABAnI",
        "outputId": "0772b3d8-4b91-4c50-c9f8-2f239a825f7c"
      },
      "source": [
        "gpu_info = !nvidia-smi\n",
        "gpu_info = '\\n'.join(gpu_info)\n",
        "if gpu_info.find('failed') >= 0:\n",
        "  print('Select the Runtime > \"Change runtime type\" menu to enable a GPU accelerator, ')\n",
        "  print('and then re-execute this cell.')\n",
        "else:\n",
        "  print(gpu_info)"
      ],
      "execution_count": null,
      "outputs": [
        {
          "output_type": "stream",
          "text": [
            "Select the Runtime > \"Change runtime type\" menu to enable a GPU accelerator, \n",
            "and then re-execute this cell.\n"
          ],
          "name": "stdout"
        }
      ]
    },
    {
      "cell_type": "code",
      "metadata": {
        "colab": {
          "base_uri": "https://localhost:8080/"
        },
        "id": "0tT97NgTJysz",
        "outputId": "9a3c996f-2e2f-49d0-8796-5d6376f0387e"
      },
      "source": [
        "try:\n",
        "  tpu = tf.distribute.cluster_resolver.TPUClusterResolver()  # TPU detection\n",
        "  print('Running on TPU ', tpu.cluster_spec().as_dict()['worker'])\n",
        "except ValueError:\n",
        "  raise BaseException('ERROR: Not connected to a TPU runtime; please see the previous cell in this notebook for instructions!')\n",
        "\n",
        "tf.config.experimental_connect_to_cluster(tpu)\n",
        "tf.tpu.experimental.initialize_tpu_system(tpu)\n",
        "tpu_strategy = tf.distribute.experimental.TPUStrategy(tpu)"
      ],
      "execution_count": null,
      "outputs": [
        {
          "output_type": "stream",
          "text": [
            "Running on TPU  ['10.97.126.34:8470']\n",
            "INFO:tensorflow:Initializing the TPU system: grpc://10.97.126.34:8470\n"
          ],
          "name": "stdout"
        },
        {
          "output_type": "stream",
          "text": [
            "INFO:tensorflow:Initializing the TPU system: grpc://10.97.126.34:8470\n"
          ],
          "name": "stderr"
        },
        {
          "output_type": "stream",
          "text": [
            "INFO:tensorflow:Clearing out eager caches\n"
          ],
          "name": "stdout"
        },
        {
          "output_type": "stream",
          "text": [
            "INFO:tensorflow:Clearing out eager caches\n"
          ],
          "name": "stderr"
        },
        {
          "output_type": "stream",
          "text": [
            "INFO:tensorflow:Finished initializing TPU system.\n"
          ],
          "name": "stdout"
        },
        {
          "output_type": "stream",
          "text": [
            "INFO:tensorflow:Finished initializing TPU system.\n",
            "WARNING:absl:`tf.distribute.experimental.TPUStrategy` is deprecated, please use  the non experimental symbol `tf.distribute.TPUStrategy` instead.\n"
          ],
          "name": "stderr"
        },
        {
          "output_type": "stream",
          "text": [
            "INFO:tensorflow:Found TPU system:\n"
          ],
          "name": "stdout"
        },
        {
          "output_type": "stream",
          "text": [
            "INFO:tensorflow:Found TPU system:\n"
          ],
          "name": "stderr"
        },
        {
          "output_type": "stream",
          "text": [
            "INFO:tensorflow:*** Num TPU Cores: 8\n"
          ],
          "name": "stdout"
        },
        {
          "output_type": "stream",
          "text": [
            "INFO:tensorflow:*** Num TPU Cores: 8\n"
          ],
          "name": "stderr"
        },
        {
          "output_type": "stream",
          "text": [
            "INFO:tensorflow:*** Num TPU Workers: 1\n"
          ],
          "name": "stdout"
        },
        {
          "output_type": "stream",
          "text": [
            "INFO:tensorflow:*** Num TPU Workers: 1\n"
          ],
          "name": "stderr"
        },
        {
          "output_type": "stream",
          "text": [
            "INFO:tensorflow:*** Num TPU Cores Per Worker: 8\n"
          ],
          "name": "stdout"
        },
        {
          "output_type": "stream",
          "text": [
            "INFO:tensorflow:*** Num TPU Cores Per Worker: 8\n"
          ],
          "name": "stderr"
        },
        {
          "output_type": "stream",
          "text": [
            "INFO:tensorflow:*** Available Device: _DeviceAttributes(/job:localhost/replica:0/task:0/device:CPU:0, CPU, 0, 0)\n"
          ],
          "name": "stdout"
        },
        {
          "output_type": "stream",
          "text": [
            "INFO:tensorflow:*** Available Device: _DeviceAttributes(/job:localhost/replica:0/task:0/device:CPU:0, CPU, 0, 0)\n"
          ],
          "name": "stderr"
        },
        {
          "output_type": "stream",
          "text": [
            "INFO:tensorflow:*** Available Device: _DeviceAttributes(/job:worker/replica:0/task:0/device:CPU:0, CPU, 0, 0)\n"
          ],
          "name": "stdout"
        },
        {
          "output_type": "stream",
          "text": [
            "INFO:tensorflow:*** Available Device: _DeviceAttributes(/job:worker/replica:0/task:0/device:CPU:0, CPU, 0, 0)\n"
          ],
          "name": "stderr"
        },
        {
          "output_type": "stream",
          "text": [
            "INFO:tensorflow:*** Available Device: _DeviceAttributes(/job:worker/replica:0/task:0/device:TPU:0, TPU, 0, 0)\n"
          ],
          "name": "stdout"
        },
        {
          "output_type": "stream",
          "text": [
            "INFO:tensorflow:*** Available Device: _DeviceAttributes(/job:worker/replica:0/task:0/device:TPU:0, TPU, 0, 0)\n"
          ],
          "name": "stderr"
        },
        {
          "output_type": "stream",
          "text": [
            "INFO:tensorflow:*** Available Device: _DeviceAttributes(/job:worker/replica:0/task:0/device:TPU:1, TPU, 0, 0)\n"
          ],
          "name": "stdout"
        },
        {
          "output_type": "stream",
          "text": [
            "INFO:tensorflow:*** Available Device: _DeviceAttributes(/job:worker/replica:0/task:0/device:TPU:1, TPU, 0, 0)\n"
          ],
          "name": "stderr"
        },
        {
          "output_type": "stream",
          "text": [
            "INFO:tensorflow:*** Available Device: _DeviceAttributes(/job:worker/replica:0/task:0/device:TPU:2, TPU, 0, 0)\n"
          ],
          "name": "stdout"
        },
        {
          "output_type": "stream",
          "text": [
            "INFO:tensorflow:*** Available Device: _DeviceAttributes(/job:worker/replica:0/task:0/device:TPU:2, TPU, 0, 0)\n"
          ],
          "name": "stderr"
        },
        {
          "output_type": "stream",
          "text": [
            "INFO:tensorflow:*** Available Device: _DeviceAttributes(/job:worker/replica:0/task:0/device:TPU:3, TPU, 0, 0)\n"
          ],
          "name": "stdout"
        },
        {
          "output_type": "stream",
          "text": [
            "INFO:tensorflow:*** Available Device: _DeviceAttributes(/job:worker/replica:0/task:0/device:TPU:3, TPU, 0, 0)\n"
          ],
          "name": "stderr"
        },
        {
          "output_type": "stream",
          "text": [
            "INFO:tensorflow:*** Available Device: _DeviceAttributes(/job:worker/replica:0/task:0/device:TPU:4, TPU, 0, 0)\n"
          ],
          "name": "stdout"
        },
        {
          "output_type": "stream",
          "text": [
            "INFO:tensorflow:*** Available Device: _DeviceAttributes(/job:worker/replica:0/task:0/device:TPU:4, TPU, 0, 0)\n"
          ],
          "name": "stderr"
        },
        {
          "output_type": "stream",
          "text": [
            "INFO:tensorflow:*** Available Device: _DeviceAttributes(/job:worker/replica:0/task:0/device:TPU:5, TPU, 0, 0)\n"
          ],
          "name": "stdout"
        },
        {
          "output_type": "stream",
          "text": [
            "INFO:tensorflow:*** Available Device: _DeviceAttributes(/job:worker/replica:0/task:0/device:TPU:5, TPU, 0, 0)\n"
          ],
          "name": "stderr"
        },
        {
          "output_type": "stream",
          "text": [
            "INFO:tensorflow:*** Available Device: _DeviceAttributes(/job:worker/replica:0/task:0/device:TPU:6, TPU, 0, 0)\n"
          ],
          "name": "stdout"
        },
        {
          "output_type": "stream",
          "text": [
            "INFO:tensorflow:*** Available Device: _DeviceAttributes(/job:worker/replica:0/task:0/device:TPU:6, TPU, 0, 0)\n"
          ],
          "name": "stderr"
        },
        {
          "output_type": "stream",
          "text": [
            "INFO:tensorflow:*** Available Device: _DeviceAttributes(/job:worker/replica:0/task:0/device:TPU:7, TPU, 0, 0)\n"
          ],
          "name": "stdout"
        },
        {
          "output_type": "stream",
          "text": [
            "INFO:tensorflow:*** Available Device: _DeviceAttributes(/job:worker/replica:0/task:0/device:TPU:7, TPU, 0, 0)\n"
          ],
          "name": "stderr"
        },
        {
          "output_type": "stream",
          "text": [
            "INFO:tensorflow:*** Available Device: _DeviceAttributes(/job:worker/replica:0/task:0/device:TPU_SYSTEM:0, TPU_SYSTEM, 0, 0)\n"
          ],
          "name": "stdout"
        },
        {
          "output_type": "stream",
          "text": [
            "INFO:tensorflow:*** Available Device: _DeviceAttributes(/job:worker/replica:0/task:0/device:TPU_SYSTEM:0, TPU_SYSTEM, 0, 0)\n"
          ],
          "name": "stderr"
        },
        {
          "output_type": "stream",
          "text": [
            "INFO:tensorflow:*** Available Device: _DeviceAttributes(/job:worker/replica:0/task:0/device:XLA_CPU:0, XLA_CPU, 0, 0)\n"
          ],
          "name": "stdout"
        },
        {
          "output_type": "stream",
          "text": [
            "INFO:tensorflow:*** Available Device: _DeviceAttributes(/job:worker/replica:0/task:0/device:XLA_CPU:0, XLA_CPU, 0, 0)\n"
          ],
          "name": "stderr"
        }
      ]
    },
    {
      "cell_type": "code",
      "metadata": {
        "colab": {
          "base_uri": "https://localhost:8080/"
        },
        "id": "3PyI2wOq6bT0",
        "outputId": "776a4cb1-1bc3-4bbd-8e42-446064a95c3a"
      },
      "source": [
        "seed(10)\n",
        "set_seed(10)\n",
        "\n",
        "N = 1000\n",
        "T = 1 / 500.0\n",
        "\n",
        "f = 100\n",
        "\n",
        "h0 = 1e-24\n",
        "\n",
        "print(\"NT = \", N * T, \"s\")"
      ],
      "execution_count": null,
      "outputs": [
        {
          "output_type": "stream",
          "text": [
            "NT =  2.0 s\n"
          ],
          "name": "stdout"
        }
      ]
    },
    {
      "cell_type": "code",
      "metadata": {
        "id": "xRXaMpSw61II"
      },
      "source": [
        "noise_std_for_sqrt_S = 1.6e-22 # Gives noise floor of around 1e-23."
      ],
      "execution_count": null,
      "outputs": []
    },
    {
      "cell_type": "code",
      "metadata": {
        "id": "NydKeRDq6fk-"
      },
      "source": [
        "def make_signal(f, signal=True, noise=False, h0=1e-23):\n",
        "    t_s = np.linspace(0, N * T, N)\n",
        "    \n",
        "    y_signal = h0 * np.sin(2 * np.pi * f * t_s)\n",
        "    y_noise = np.random.normal(loc=0, scale=noise_std_for_sqrt_S, size=t_s.shape)\n",
        "    \n",
        "    y_s = np.zeros(N)\n",
        "    \n",
        "    if signal:\n",
        "        y_s += y_signal\n",
        "    if noise:\n",
        "        y_s += y_noise\n",
        "        \n",
        "    return y_s\n",
        "\n",
        "def plot_signal(t_s, y_s):\n",
        "    plt.figure(figsize=(5, 2))\n",
        "    plt.plot(t_s, y_s)\n",
        "\n",
        "resolution = 100\n",
        "\n",
        "width = 100\n",
        "subsampling = 3\n",
        "n_components = resolution // subsampling"
      ],
      "execution_count": null,
      "outputs": []
    },
    {
      "cell_type": "code",
      "metadata": {
        "colab": {
          "base_uri": "https://localhost:8080/",
          "height": 470
        },
        "id": "uOqgnjWU6glc",
        "outputId": "e56f61d1-feb5-43fe-cf6d-ce4d979fb867"
      },
      "source": [
        "f = 30\n",
        "\n",
        "y1 = make_signal(f=f, signal=True, noise=False)\n",
        "plot_signal(np.arange(len(y1)), y1)\n",
        "\n",
        "y2 = make_signal(f=f, signal=False, noise=True)\n",
        "plot_signal(np.arange(len(y2)), y2)\n",
        "\n",
        "y3 = make_signal(f=f, signal=True, noise=True, h0=1e-25)\n",
        "plot_signal(np.arange(len(y3)), y3)"
      ],
      "execution_count": null,
      "outputs": [
        {
          "output_type": "display_data",
          "data": {
            "image/png": "[encoded data removed]",
            "text/plain": [
              "<Figure size 360x144 with 1 Axes>"
            ]
          },
          "metadata": {
            "tags": []
          }
        },
        {
          "output_type": "display_data",
          "data": {
            "image/png": "[encoded data removed]",
            "text/plain": [
              "<Figure size 360x144 with 1 Axes>"
            ]
          },
          "metadata": {
            "tags": []
          }
        },
        {
          "output_type": "display_data",
          "data": {
            "image/png": "[encoded data removed]",
            "text/plain": [
              "<Figure size 360x144 with 1 Axes>"
            ]
          },
          "metadata": {
            "tags": []
          }
        }
      ]
    },
    {
      "cell_type": "code",
      "metadata": {
        "id": "h0A1H1xc6jGt"
      },
      "source": [
        "from scipy.fftpack import fft, ifft "
      ],
      "execution_count": null,
      "outputs": []
    },
    {
      "cell_type": "code",
      "metadata": {
        "colab": {
          "base_uri": "https://localhost:8080/",
          "height": 294
        },
        "id": "O9Pedr4h6mGB",
        "outputId": "ce891bfd-53a5-4308-c4a9-749561547f7b"
      },
      "source": [
        "yf = fft(y1)\n",
        "\n",
        "xf = np.linspace(0.0, 1.0/(2.0*T), int(N/2))\n",
        "\n",
        "plt.plot(xf, 2.0/N * np.abs(yf[:N//2]))\n",
        "# plt.show()"
      ],
      "execution_count": null,
      "outputs": [
        {
          "output_type": "execute_result",
          "data": {
            "text/plain": [
              "[<matplotlib.lines.Line2D at 0x7f8a8961d050>]"
            ]
          },
          "metadata": {
            "tags": []
          },
          "execution_count": 10
        },
        {
          "output_type": "display_data",
          "data": {
            "image/png": "[encoded data removed]",
            "text/plain": [
              "<Figure size 432x288 with 1 Axes>"
            ]
          },
          "metadata": {
            "tags": []
          }
        }
      ]
    },
    {
      "cell_type": "code",
      "metadata": {
        "id": "6CxTrsQS6m90"
      },
      "source": [
        ""
      ],
      "execution_count": null,
      "outputs": []
    },
    {
      "cell_type": "code",
      "metadata": {
        "id": "mIdJVfNY6oXX"
      },
      "source": [
        "lower_f, upper_f = 20, 25\n",
        "\n",
        "\n",
        "h0_lower, h0_upper = -23, -20"
      ],
      "execution_count": null,
      "outputs": []
    },
    {
      "cell_type": "code",
      "metadata": {
        "colab": {
          "base_uri": "https://localhost:8080/",
          "height": 363
        },
        "id": "ZN5zccIN6pWb",
        "outputId": "3d40e2e9-7108-45c0-8b17-d84f0664ee00"
      },
      "source": [
        "from scipy.signal import spectrogram\n",
        "\n",
        "# y = make_signal(f=23, signal=True, noise=True, noise_std=noise_std_upper)\n",
        "y = make_signal(f=23, signal=True, noise=True, h0=10**(-22.5))\n",
        "\n",
        "plt.figure(figsize=(10, 5))\n",
        "\n",
        "f, t, Sxx = spectrogram(y, fs=10e3)\n",
        "plt.pcolormesh(t, f, Sxx, shading='gouraud')\n",
        "plt.ylabel('Frequency [Hz]')\n",
        "plt.xlabel('Time [sec]')\n",
        "plt.ylim(0, 1000)"
      ],
      "execution_count": null,
      "outputs": [
        {
          "output_type": "execute_result",
          "data": {
            "text/plain": [
              "(0.0, 1000.0)"
            ]
          },
          "metadata": {
            "tags": []
          },
          "execution_count": 85
        },
        {
          "output_type": "display_data",
          "data": {
            "image/png": "[encoded data removed]",
            "text/plain": [
              "<Figure size 720x360 with 1 Axes>"
            ]
          },
          "metadata": {
            "tags": []
          }
        }
      ]
    },
    {
      "cell_type": "code",
      "metadata": {
        "id": "q0h47Y-M6qlW"
      },
      "source": [
        "train_size = 500\n",
        "\n",
        "scaling = 1e-23\n",
        "\n",
        "random.seed(10)\n",
        "\n",
        "test_size = int(train_size  * 0.05)\n",
        "\n",
        "f_s = []\n",
        "all_data_raw = []\n",
        "h0_s = []\n",
        "labels = []\n",
        "\n",
        "for i in range(train_size):\n",
        "    f = random.uniform(lower_f, upper_f)\n",
        "    \n",
        "    # 0 = Signal; 1 = Noise; 2 = Signal + Noise.\n",
        "    \n",
        "#     signal = random.choices(population=[0, 1, 2], weights=[0.45, 0.1, 0.45])[0]\n",
        "#     signal = random.choices(population=[0], weights=[1.0])[0]\n",
        "\n",
        "    signal = random.choices(population=[2, 1], weights=[0.5, 0.5])[0]\n",
        "#     if i == 0:\n",
        "#         signal = 0\n",
        "#     elif i == 1:\n",
        "#         signal = 1\n",
        "    \n",
        "    h0_exp = random.uniform(h0_lower, h0_upper)\n",
        "    h0 = 10**(h0_exp)\n",
        "\n",
        "    if signal == 0:\n",
        "        current_y = make_signal(f=f, signal=True, noise=False, h0=h0)\n",
        "    elif signal == 1:\n",
        "        current_y = make_signal(f=f, signal=False, noise=True, h0=h0)\n",
        "    elif signal == 2:\n",
        "        current_y = make_signal(f=f, signal=True, noise=True, h0=h0)\n",
        "    \n",
        "    \n",
        "    \n",
        "    y_fft = fft(current_y)\n",
        "    \n",
        "    current_y = [[x.real / scaling, x.imag / scaling, f] for x in y_fft]\n",
        "\n",
        "#     current_y = [[x] for x in current_y]\n",
        "#     freqs = [[f] * len(current_y)]\n",
        "    \n",
        "    if signal == 0 or signal == 2:\n",
        "        was_signal_there = 1\n",
        "    elif signal == 1:\n",
        "        was_signal_there = 0\n",
        "        \n",
        "    f_s.append(f)\n",
        "    h0_s.append(h0)\n",
        "    \n",
        "#     current_y = np.append(current_y, int(signal))\n",
        "    labels.append([int(was_signal_there)])\n",
        "    all_data_raw.append(current_y)"
      ],
      "execution_count": null,
      "outputs": []
    },
    {
      "cell_type": "code",
      "metadata": {
        "colab": {
          "base_uri": "https://localhost:8080/",
          "height": 559
        },
        "id": "AwwmeQ8s3aOX",
        "outputId": "ec2c3ddc-081a-4e34-c514-eef8140d3d2d"
      },
      "source": [
        "sns.distplot(h0_s)\n",
        "plt.xscale('log')"
      ],
      "execution_count": null,
      "outputs": [
        {
          "output_type": "stream",
          "text": [
            "/usr/local/lib/python3.7/dist-packages/seaborn/distributions.py:2557: FutureWarning: `distplot` is a deprecated function and will be removed in a future version. Please adapt your code to use either `displot` (a figure-level function with similar flexibility) or `histplot` (an axes-level function for histograms).\n",
            "  warnings.warn(msg, FutureWarning)\n"
          ],
          "name": "stderr"
        },
        {
          "output_type": "display_data",
          "data": {
            "image/png": "[encoded data removed]",
            "text/plain": [
              "<Figure size 576x576 with 1 Axes>"
            ]
          },
          "metadata": {
            "tags": []
          }
        }
      ]
    },
    {
      "cell_type": "code",
      "metadata": {
        "colab": {
          "base_uri": "https://localhost:8080/",
          "height": 559
        },
        "id": "4_GYT6dX38b_",
        "outputId": "40ebf9a8-c04e-48da-f4ca-d31e80d19b9e"
      },
      "source": [
        "sns.distplot(np.log10(h0_s))\n",
        "# plt.xscale('log')"
      ],
      "execution_count": null,
      "outputs": [
        {
          "output_type": "stream",
          "text": [
            "/usr/local/lib/python3.7/dist-packages/seaborn/distributions.py:2557: FutureWarning: `distplot` is a deprecated function and will be removed in a future version. Please adapt your code to use either `displot` (a figure-level function with similar flexibility) or `histplot` (an axes-level function for histograms).\n",
            "  warnings.warn(msg, FutureWarning)\n"
          ],
          "name": "stderr"
        },
        {
          "output_type": "execute_result",
          "data": {
            "text/plain": [
              "<matplotlib.axes._subplots.AxesSubplot at 0x7f883faca850>"
            ]
          },
          "metadata": {
            "tags": []
          },
          "execution_count": 262
        },
        {
          "output_type": "display_data",
          "data": {
            "image/png": "[encoded data removed]",
            "text/plain": [
              "<Figure size 576x576 with 1 Axes>"
            ]
          },
          "metadata": {
            "tags": []
          }
        }
      ]
    },
    {
      "cell_type": "code",
      "metadata": {
        "colab": {
          "base_uri": "https://localhost:8080/"
        },
        "id": "HJ-04Rhl6tDV",
        "outputId": "75bc1434-3123-4939-f118-1f0ef61549dc"
      },
      "source": [
        "np.array( all_data_raw ).shape"
      ],
      "execution_count": null,
      "outputs": [
        {
          "output_type": "execute_result",
          "data": {
            "text/plain": [
              "(500, 1000, 3)"
            ]
          },
          "metadata": {
            "tags": []
          },
          "execution_count": 263
        }
      ]
    },
    {
      "cell_type": "code",
      "metadata": {
        "colab": {
          "base_uri": "https://localhost:8080/"
        },
        "id": "4e2UrJPa6vKD",
        "outputId": "9975b752-6fcb-497d-9b70-8cc25b669d90"
      },
      "source": [
        "test_size"
      ],
      "execution_count": null,
      "outputs": [
        {
          "output_type": "execute_result",
          "data": {
            "text/plain": [
              "25"
            ]
          },
          "metadata": {
            "tags": []
          },
          "execution_count": 264
        }
      ]
    },
    {
      "cell_type": "code",
      "metadata": {
        "colab": {
          "base_uri": "https://localhost:8080/"
        },
        "id": "FK-HFSrr6wJ6",
        "outputId": "f88352aa-501f-4e9d-9307-023970bfe932"
      },
      "source": [
        "print(np.array(all_data_raw).shape)\n",
        "\n",
        "print(np.array(all_data_raw[train_size - test_size:]).shape)"
      ],
      "execution_count": null,
      "outputs": [
        {
          "output_type": "stream",
          "text": [
            "(500, 1000, 3)\n",
            "(25, 1000, 3)\n"
          ],
          "name": "stdout"
        }
      ]
    },
    {
      "cell_type": "code",
      "metadata": {
        "colab": {
          "base_uri": "https://localhost:8080/"
        },
        "id": "bnMLeXuF6xG4",
        "outputId": "84c9e053-5f59-49b0-b23a-a6197e4140bd"
      },
      "source": [
        "x_train = np.array(all_data_raw[:train_size - test_size])\n",
        "y_train = np.array(labels[:train_size - test_size])\n",
        "\n",
        "x_train.shape, y_train.shape"
      ],
      "execution_count": null,
      "outputs": [
        {
          "output_type": "execute_result",
          "data": {
            "text/plain": [
              "((475, 1000, 3), (475, 1))"
            ]
          },
          "metadata": {
            "tags": []
          },
          "execution_count": 266
        }
      ]
    },
    {
      "cell_type": "code",
      "metadata": {
        "colab": {
          "base_uri": "https://localhost:8080/"
        },
        "id": "UX9qOUNW6yaa",
        "outputId": "9738b84f-7201-4eb5-9eeb-21ba56aa91ab"
      },
      "source": [
        "x_test = np.array(all_data_raw[train_size - test_size:])\n",
        "y_test = np.array(labels[train_size - test_size:])\n",
        "\n",
        "x_test.shape, y_test.shape"
      ],
      "execution_count": null,
      "outputs": [
        {
          "output_type": "execute_result",
          "data": {
            "text/plain": [
              "((25, 1000, 3), (25, 1))"
            ]
          },
          "metadata": {
            "tags": []
          },
          "execution_count": 267
        }
      ]
    },
    {
      "cell_type": "code",
      "metadata": {
        "colab": {
          "base_uri": "https://localhost:8080/"
        },
        "id": "xYgDCVjP6zVD",
        "outputId": "c1d56bef-eb97-42fb-a5ce-51c439ed729f"
      },
      "source": [
        "y_train.flatten() "
      ],
      "execution_count": null,
      "outputs": [
        {
          "output_type": "execute_result",
          "data": {
            "text/plain": [
              "array([1, 0, 1, 1, 1, 1, 1, 1, 0, 1, 1, 1, 1, 1, 1, 0, 1, 0, 1, 0, 1, 1,\n",
              "       1, 0, 1, 1, 1, 0, 0, 0, 1, 0, 1, 1, 0, 1, 1, 0, 0, 0, 1, 0, 1, 1,\n",
              "       0, 0, 1, 0, 1, 1, 0, 0, 0, 1, 1, 0, 1, 1, 0, 0, 1, 1, 1, 0, 0, 1,\n",
              "       1, 0, 1, 0, 0, 0, 0, 0, 0, 1, 1, 1, 1, 0, 0, 0, 0, 0, 0, 0, 1, 1,\n",
              "       0, 1, 1, 1, 1, 0, 1, 0, 0, 0, 0, 0, 0, 0, 0, 0, 0, 0, 1, 0, 0, 1,\n",
              "       0, 0, 1, 1, 0, 1, 1, 1, 1, 0, 1, 1, 0, 1, 1, 1, 0, 0, 1, 0, 0, 0,\n",
              "       1, 1, 0, 1, 0, 1, 1, 0, 0, 0, 1, 0, 0, 0, 0, 0, 1, 1, 0, 1, 1, 0,\n",
              "       1, 0, 0, 1, 1, 1, 0, 1, 0, 1, 0, 1, 0, 1, 0, 1, 0, 1, 0, 0, 1, 0,\n",
              "       1, 0, 1, 1, 1, 1, 1, 1, 1, 1, 0, 0, 0, 0, 1, 0, 1, 0, 0, 1, 1, 0,\n",
              "       0, 0, 0, 0, 0, 0, 1, 0, 0, 0, 0, 1, 0, 0, 0, 0, 1, 1, 0, 0, 0, 0,\n",
              "       0, 0, 1, 0, 1, 1, 1, 0, 0, 0, 0, 0, 1, 1, 1, 1, 1, 1, 1, 0, 1, 0,\n",
              "       1, 1, 0, 0, 0, 1, 0, 0, 1, 0, 0, 0, 1, 1, 1, 0, 0, 0, 1, 1, 0, 0,\n",
              "       1, 0, 1, 0, 0, 0, 0, 1, 0, 1, 0, 1, 0, 0, 1, 1, 1, 0, 1, 1, 0, 1,\n",
              "       1, 0, 1, 1, 1, 0, 0, 1, 1, 0, 0, 0, 1, 1, 0, 1, 1, 1, 0, 1, 0, 0,\n",
              "       0, 1, 0, 0, 0, 0, 1, 1, 1, 0, 0, 1, 1, 0, 0, 0, 1, 1, 0, 1, 1, 0,\n",
              "       1, 0, 1, 1, 1, 1, 1, 0, 1, 1, 1, 0, 1, 1, 0, 0, 1, 1, 1, 1, 0, 0,\n",
              "       1, 0, 0, 0, 0, 1, 0, 1, 0, 1, 1, 1, 0, 0, 1, 0, 1, 0, 1, 1, 0, 1,\n",
              "       0, 1, 0, 0, 0, 0, 0, 1, 0, 1, 1, 0, 0, 1, 1, 0, 0, 0, 1, 1, 0, 0,\n",
              "       1, 1, 1, 0, 0, 1, 1, 0, 1, 0, 0, 1, 1, 1, 1, 0, 1, 1, 1, 1, 1, 1,\n",
              "       1, 0, 0, 1, 1, 1, 1, 0, 0, 0, 0, 1, 1, 1, 1, 0, 0, 0, 0, 0, 1, 1,\n",
              "       1, 0, 1, 0, 0, 1, 0, 0, 0, 0, 0, 0, 0, 1, 1, 1, 1, 1, 1, 1, 1, 1,\n",
              "       0, 1, 1, 1, 1, 0, 1, 1, 0, 0, 1, 1, 0])"
            ]
          },
          "metadata": {
            "tags": []
          },
          "execution_count": 268
        }
      ]
    },
    {
      "cell_type": "code",
      "metadata": {
        "id": "wBJSqjKU60_Y"
      },
      "source": [
        "class LayerNormalization(keras.layers.Layer):\n",
        "    \n",
        "    \"\"\" \n",
        "    \n",
        "    Layer normalization layer modified from https://github.com/CyberZHG based on [Layer Normalization](https://arxiv.org/pdf/1607.06450.pdf)\n",
        "    \n",
        "    Parameters\n",
        "    ----------\n",
        "    center: bool\n",
        "        Add an offset parameter if it is True. \n",
        "        \n",
        "    scale: bool\n",
        "        Add a scale parameter if it is True.     \n",
        "        \n",
        "    epsilon: bool\n",
        "        Epsilon for calculating variance.     \n",
        "        \n",
        "    gamma_initializer: str\n",
        "        Initializer for the gamma weight.     \n",
        "        \n",
        "    beta_initializer: str\n",
        "        Initializer for the beta weight.     \n",
        "                    \n",
        "    Returns\n",
        "    -------  \n",
        "    data: 3D tensor\n",
        "        with shape: (batch_size, …, input_dim) \n",
        "            \n",
        "    \"\"\"   \n",
        "              \n",
        "    def __init__(self,\n",
        "                 center=True,\n",
        "                 scale=True,\n",
        "                 epsilon=None,\n",
        "                 gamma_initializer='ones',\n",
        "                 beta_initializer='zeros',\n",
        "                 **kwargs):\n",
        "\n",
        "        super(LayerNormalization, self).__init__(**kwargs)\n",
        "        self.supports_masking = True\n",
        "        self.center = center\n",
        "        self.scale = scale\n",
        "        if epsilon is None:\n",
        "            epsilon = K.epsilon() * K.epsilon()\n",
        "        self.epsilon = epsilon\n",
        "        self.gamma_initializer = keras.initializers.get(gamma_initializer)\n",
        "        self.beta_initializer = keras.initializers.get(beta_initializer)\n",
        "      \n",
        "\n",
        "    def get_config(self):\n",
        "        config = {\n",
        "            'center': self.center,\n",
        "            'scale': self.scale,\n",
        "            'epsilon': self.epsilon,\n",
        "            'gamma_initializer': keras.initializers.serialize(self.gamma_initializer),\n",
        "            'beta_initializer': keras.initializers.serialize(self.beta_initializer),\n",
        "        }\n",
        "        base_config = super(LayerNormalization, self).get_config()\n",
        "        return dict(list(base_config.items()) + list(config.items()))\n",
        "\n",
        "    def compute_output_shape(self, input_shape):\n",
        "        return input_shape\n",
        "\n",
        "    def compute_mask(self, inputs, input_mask=None):\n",
        "        return input_mask\n",
        "\n",
        "    def build(self, input_shape):\n",
        "        self.input_spec = keras.engine.InputSpec(shape=input_shape)\n",
        "        shape = input_shape[-1:]\n",
        "        if self.scale:\n",
        "            self.gamma = self.add_weight(\n",
        "                shape=shape,\n",
        "                initializer=self.gamma_initializer,\n",
        "                name='gamma',\n",
        "            )\n",
        "        if self.center:\n",
        "            self.beta = self.add_weight(\n",
        "                shape=shape,\n",
        "                initializer=self.beta_initializer,\n",
        "                name='beta',\n",
        "            )\n",
        "        super(LayerNormalization, self).build(input_shape)\n",
        "\n",
        "    def call(self, inputs, training=None):\n",
        "        mean = K.mean(inputs, axis=-1, keepdims=True)\n",
        "        variance = K.mean(K.square(inputs - mean), axis=-1, keepdims=True)\n",
        "        std = K.sqrt(variance + self.epsilon)\n",
        "        outputs = (inputs - mean) / std\n",
        "        if self.scale:\n",
        "            outputs *= self.gamma\n",
        "        if self.center:\n",
        "            outputs += self.beta\n",
        "        return outputs\n",
        "\n",
        "    \n",
        "class FeedForward(keras.layers.Layer):\n",
        "    \"\"\"Position-wise feed-forward layer. modified from https://github.com/CyberZHG \n",
        "    # Arguments\n",
        "        units: int >= 0. Dimension of hidden units.\n",
        "        activation: Activation function to use\n",
        "        use_bias: Boolean, whether the layer uses a bias vector.\n",
        "        kernel_initializer: Initializer for the `kernel` weights matrix.\n",
        "        bias_initializer: Initializer for the bias vector.\n",
        "        dropout_rate: 0.0 <= float <= 1.0. Dropout rate for hidden units.\n",
        "    # Input shape\n",
        "        3D tensor with shape: `(batch_size, ..., input_dim)`.\n",
        "    # Output shape\n",
        "        3D tensor with shape: `(batch_size, ..., input_dim)`.\n",
        "    # References\n",
        "        - [Attention is All You Need](https://arxiv.org/pdf/1706.03762.pdf)\n",
        "    \"\"\"\n",
        "    \n",
        "    def __init__(self,\n",
        "                 units,\n",
        "                 activation='relu',\n",
        "                 use_bias=True,\n",
        "                 kernel_initializer='glorot_normal',\n",
        "                 bias_initializer='zeros',\n",
        "                 dropout_rate=0.0,\n",
        "                 **kwargs):\n",
        "        self.supports_masking = True\n",
        "        self.units = units\n",
        "        self.activation = keras.activations.get(activation)\n",
        "        self.use_bias = use_bias\n",
        "        self.kernel_initializer = keras.initializers.get(kernel_initializer)\n",
        "        self.bias_initializer = keras.initializers.get(bias_initializer)\n",
        "        self.dropout_rate = dropout_rate\n",
        "        self.W1, self.b1 = None, None\n",
        "        self.W2, self.b2 = None, None\n",
        "        super(FeedForward, self).__init__(**kwargs)\n",
        "\n",
        "    def get_config(self):\n",
        "        config = {\n",
        "            'units': self.units,\n",
        "            'activation': keras.activations.serialize(self.activation),\n",
        "            'use_bias': self.use_bias,\n",
        "            'kernel_initializer': keras.initializers.serialize(self.kernel_initializer),\n",
        "            'bias_initializer': keras.initializers.serialize(self.bias_initializer),\n",
        "            'dropout_rate': self.dropout_rate,\n",
        "        }\n",
        "        base_config = super(FeedForward, self).get_config()\n",
        "        return dict(list(base_config.items()) + list(config.items()))\n",
        "\n",
        "    def compute_output_shape(self, input_shape):\n",
        "        return input_shape\n",
        "\n",
        "    def compute_mask(self, inputs, input_mask=None):\n",
        "        return input_mask\n",
        "\n",
        "    def build(self, input_shape):\n",
        "        feature_dim = int(input_shape[-1])\n",
        "        self.W1 = self.add_weight(\n",
        "            shape=(feature_dim, self.units),\n",
        "            initializer=self.kernel_initializer,\n",
        "            name='{}_W1'.format(self.name),\n",
        "        )\n",
        "        if self.use_bias:\n",
        "            self.b1 = self.add_weight(\n",
        "                shape=(self.units,),\n",
        "                initializer=self.bias_initializer,\n",
        "                name='{}_b1'.format(self.name),\n",
        "            )\n",
        "        self.W2 = self.add_weight(\n",
        "            shape=(self.units, feature_dim),\n",
        "            initializer=self.kernel_initializer,\n",
        "            name='{}_W2'.format(self.name),\n",
        "        )\n",
        "        if self.use_bias:\n",
        "            self.b2 = self.add_weight(\n",
        "                shape=(feature_dim,),\n",
        "                initializer=self.bias_initializer,\n",
        "                name='{}_b2'.format(self.name),\n",
        "            )\n",
        "        super(FeedForward, self).build(input_shape)\n",
        "\n",
        "    def call(self, x, mask=None, training=None):\n",
        "        h = K.dot(x, self.W1)\n",
        "        if self.use_bias:\n",
        "            h = K.bias_add(h, self.b1)\n",
        "        if self.activation is not None:\n",
        "            h = self.activation(h)\n",
        "        if 0.0 < self.dropout_rate < 1.0:\n",
        "            def dropped_inputs():\n",
        "                return K.dropout(h, self.dropout_rate, K.shape(h))\n",
        "            h = K.in_train_phase(dropped_inputs, h, training=training)\n",
        "        y = K.dot(h, self.W2)\n",
        "        if self.use_bias:\n",
        "            y = K.bias_add(y, self.b2)\n",
        "        return y\n",
        "\n",
        "    \n",
        "    \n",
        "    \n",
        "\n",
        "class SeqSelfAttention(keras.layers.Layer):\n",
        "    \"\"\"Layer initialization. modified from https://github.com/CyberZHG\n",
        "    For additive attention, see: https://arxiv.org/pdf/1806.01264.pdf\n",
        "    :param units: The dimension of the vectors that used to calculate the attention weights.\n",
        "    :param attention_width: The width of local attention.\n",
        "    :param attention_type: 'additive' or 'multiplicative'.\n",
        "    :param return_attention: Whether to return the attention weights for visualization.\n",
        "    :param history_only: Only use historical pieces of data.\n",
        "    :param kernel_initializer: The initializer for weight matrices.\n",
        "    :param bias_initializer: The initializer for biases.\n",
        "    :param kernel_regularizer: The regularization for weight matrices.\n",
        "    :param bias_regularizer: The regularization for biases.\n",
        "    :param kernel_constraint: The constraint for weight matrices.\n",
        "    :param bias_constraint: The constraint for biases.\n",
        "    :param use_additive_bias: Whether to use bias while calculating the relevance of inputs features\n",
        "                              in additive mode.\n",
        "    :param use_attention_bias: Whether to use bias while calculating the weights of attention.\n",
        "    :param attention_activation: The activation used for calculating the weights of attention.\n",
        "    :param attention_regularizer_weight: The weights of attention regularizer.\n",
        "    :param kwargs: Parameters for parent class.\n",
        "    \"\"\"\n",
        "        \n",
        "    ATTENTION_TYPE_ADD = 'additive'\n",
        "    ATTENTION_TYPE_MUL = 'multiplicative'\n",
        "\n",
        "    def __init__(self,\n",
        "                 units=8,\n",
        "                 attention_width=None,\n",
        "                 attention_type=ATTENTION_TYPE_MUL,\n",
        "                 return_attention=False,\n",
        "                 history_only=False,\n",
        "                 kernel_initializer='glorot_normal',\n",
        "                 bias_initializer='zeros',\n",
        "                 kernel_regularizer=None,\n",
        "                 bias_regularizer=None,\n",
        "                 kernel_constraint=None,\n",
        "                 bias_constraint=None,\n",
        "                 use_additive_bias=True,\n",
        "                 use_attention_bias=True,\n",
        "                 attention_activation=None,\n",
        "                 attention_regularizer_weight=0.0,\n",
        "                 **kwargs):\n",
        "\n",
        "        super(SeqSelfAttention, self).__init__(**kwargs)\n",
        "        self.supports_masking = True\n",
        "        self.units = units\n",
        "        self.attention_width = attention_width\n",
        "        self.attention_type = attention_type\n",
        "        self.return_attention = return_attention\n",
        "        self.history_only = history_only\n",
        "        if history_only and attention_width is None:\n",
        "            self.attention_width = int(1e9)\n",
        "\n",
        "        self.use_additive_bias = use_additive_bias\n",
        "        self.use_attention_bias = use_attention_bias\n",
        "        self.kernel_initializer = keras.initializers.get(kernel_initializer)\n",
        "        self.bias_initializer = keras.initializers.get(bias_initializer)\n",
        "        self.kernel_regularizer = keras.regularizers.get(kernel_regularizer)\n",
        "        self.bias_regularizer = keras.regularizers.get(bias_regularizer)\n",
        "        self.kernel_constraint = keras.constraints.get(kernel_constraint)\n",
        "        self.bias_constraint = keras.constraints.get(bias_constraint)\n",
        "        self.attention_activation = keras.activations.get(attention_activation)\n",
        "        self.attention_regularizer_weight = attention_regularizer_weight\n",
        "        self._backend = keras.backend.backend()\n",
        "\n",
        "        if attention_type == SeqSelfAttention.ATTENTION_TYPE_ADD:\n",
        "            self.Wx, self.Wt, self.bh = None, None, None\n",
        "            self.Wa, self.ba = None, None\n",
        "        elif attention_type == SeqSelfAttention.ATTENTION_TYPE_MUL:\n",
        "            self.Wa, self.ba = None, None\n",
        "        else:\n",
        "            raise NotImplementedError('No implementation for attention type : ' + attention_type)\n",
        "\n",
        "    def get_config(self):\n",
        "        config = {\n",
        "            'units': self.units,\n",
        "            'attention_width': self.attention_width,\n",
        "            'attention_type': self.attention_type,\n",
        "            'return_attention': self.return_attention,\n",
        "            'history_only': self.history_only,\n",
        "            'use_additive_bias': self.use_additive_bias,\n",
        "            'use_attention_bias': self.use_attention_bias,\n",
        "            'kernel_initializer': keras.regularizers.serialize(self.kernel_initializer),\n",
        "            'bias_initializer': keras.regularizers.serialize(self.bias_initializer),\n",
        "            'kernel_regularizer': keras.regularizers.serialize(self.kernel_regularizer),\n",
        "            'bias_regularizer': keras.regularizers.serialize(self.bias_regularizer),\n",
        "            'kernel_constraint': keras.constraints.serialize(self.kernel_constraint),\n",
        "            'bias_constraint': keras.constraints.serialize(self.bias_constraint),\n",
        "            'attention_activation': keras.activations.serialize(self.attention_activation),\n",
        "            'attention_regularizer_weight': self.attention_regularizer_weight,\n",
        "        }\n",
        "        base_config = super(SeqSelfAttention, self).get_config()\n",
        "        return dict(list(base_config.items()) + list(config.items()))\n",
        "\n",
        "    def build(self, input_shape):\n",
        "        if self.attention_type == SeqSelfAttention.ATTENTION_TYPE_ADD:\n",
        "            self._build_additive_attention(input_shape)\n",
        "        elif self.attention_type == SeqSelfAttention.ATTENTION_TYPE_MUL:\n",
        "            self._build_multiplicative_attention(input_shape)\n",
        "        super(SeqSelfAttention, self).build(input_shape)\n",
        "\n",
        "    def _build_additive_attention(self, input_shape):\n",
        "        feature_dim = int(input_shape[2])\n",
        "\n",
        "        self.Wt = self.add_weight(shape=(feature_dim, self.units),\n",
        "                                  name='{}_Add_Wt'.format(self.name),\n",
        "                                  initializer=self.kernel_initializer,\n",
        "                                  regularizer=self.kernel_regularizer,\n",
        "                                  constraint=self.kernel_constraint)\n",
        "        self.Wx = self.add_weight(shape=(feature_dim, self.units),\n",
        "                                  name='{}_Add_Wx'.format(self.name),\n",
        "                                  initializer=self.kernel_initializer,\n",
        "                                  regularizer=self.kernel_regularizer,\n",
        "                                  constraint=self.kernel_constraint)\n",
        "        if self.use_additive_bias:\n",
        "            self.bh = self.add_weight(shape=(self.units,),\n",
        "                                      name='{}_Add_bh'.format(self.name),\n",
        "                                      initializer=self.bias_initializer,\n",
        "                                      regularizer=self.bias_regularizer,\n",
        "                                      constraint=self.bias_constraint)\n",
        "\n",
        "        self.Wa = self.add_weight(shape=(self.units, 1),\n",
        "                                  name='{}_Add_Wa'.format(self.name),\n",
        "                                  initializer=self.kernel_initializer,\n",
        "                                  regularizer=self.kernel_regularizer,\n",
        "                                  constraint=self.kernel_constraint)\n",
        "        if self.use_attention_bias:\n",
        "            self.ba = self.add_weight(shape=(1,),\n",
        "                                      name='{}_Add_ba'.format(self.name),\n",
        "                                      initializer=self.bias_initializer,\n",
        "                                      regularizer=self.bias_regularizer,\n",
        "                                      constraint=self.bias_constraint)\n",
        "\n",
        "    def _build_multiplicative_attention(self, input_shape):\n",
        "        feature_dim = int(input_shape[2])\n",
        "\n",
        "        self.Wa = self.add_weight(shape=(feature_dim, feature_dim),\n",
        "                                  name='{}_Mul_Wa'.format(self.name),\n",
        "                                  initializer=self.kernel_initializer,\n",
        "                                  regularizer=self.kernel_regularizer,\n",
        "                                  constraint=self.kernel_constraint)\n",
        "        if self.use_attention_bias:\n",
        "            self.ba = self.add_weight(shape=(1,),\n",
        "                                      name='{}_Mul_ba'.format(self.name),\n",
        "                                      initializer=self.bias_initializer,\n",
        "                                      regularizer=self.bias_regularizer,\n",
        "                                      constraint=self.bias_constraint)\n",
        "\n",
        "    def call(self, inputs, mask=None, **kwargs):\n",
        "        input_len = K.shape(inputs)[1]\n",
        "\n",
        "        if self.attention_type == SeqSelfAttention.ATTENTION_TYPE_ADD:\n",
        "            e = self._call_additive_emission(inputs)\n",
        "        elif self.attention_type == SeqSelfAttention.ATTENTION_TYPE_MUL:\n",
        "            e = self._call_multiplicative_emission(inputs)\n",
        "\n",
        "        if self.attention_activation is not None:\n",
        "            e = self.attention_activation(e)\n",
        "        e = K.exp(e - K.max(e, axis=-1, keepdims=True))\n",
        "        if self.attention_width is not None:\n",
        "            if self.history_only:\n",
        "                lower = K.arange(0, input_len) - (self.attention_width - 1)\n",
        "            else:\n",
        "                lower = K.arange(0, input_len) - self.attention_width // 2\n",
        "            lower = K.expand_dims(lower, axis=-1)\n",
        "            upper = lower + self.attention_width\n",
        "            indices = K.expand_dims(K.arange(0, input_len), axis=0)\n",
        "            e = e * K.cast(lower <= indices, K.floatx()) * K.cast(indices < upper, K.floatx())\n",
        "        if mask is not None:\n",
        "            mask = K.cast(mask, K.floatx())\n",
        "            mask = K.expand_dims(mask)\n",
        "            e = K.permute_dimensions(K.permute_dimensions(e * mask, (0, 2, 1)) * mask, (0, 2, 1))\n",
        "\n",
        "        # a_{t} = \\text{softmax}(e_t)\n",
        "        s = K.sum(e, axis=-1, keepdims=True)\n",
        "        a = e / (s + K.epsilon())\n",
        "\n",
        "        # l_t = \\sum_{t'} a_{t, t'} x_{t'}\n",
        "        v = K.batch_dot(a, inputs)\n",
        "        if self.attention_regularizer_weight > 0.0:\n",
        "            self.add_loss(self._attention_regularizer(a))\n",
        "\n",
        "        if self.return_attention:\n",
        "            return [v, a]\n",
        "        return v\n",
        "\n",
        "    def _call_additive_emission(self, inputs):\n",
        "        input_shape = K.shape(inputs)\n",
        "        batch_size, input_len = input_shape[0], input_shape[1]\n",
        "\n",
        "        # h_{t, t'} = \\tanh(x_t^T W_t + x_{t'}^T W_x + b_h)\n",
        "        q = K.expand_dims(K.dot(inputs, self.Wt), 2)\n",
        "        k = K.expand_dims(K.dot(inputs, self.Wx), 1)\n",
        "        if self.use_additive_bias:\n",
        "            h = K.tanh(q + k + self.bh)\n",
        "        else:\n",
        "            h = K.tanh(q + k)\n",
        "\n",
        "        # e_{t, t'} = W_a h_{t, t'} + b_a\n",
        "        if self.use_attention_bias:\n",
        "            e = K.reshape(K.dot(h, self.Wa) + self.ba, (batch_size, input_len, input_len))\n",
        "        else:\n",
        "            e = K.reshape(K.dot(h, self.Wa), (batch_size, input_len, input_len))\n",
        "        return e\n",
        "\n",
        "    def _call_multiplicative_emission(self, inputs):\n",
        "        # e_{t, t'} = x_t^T W_a x_{t'} + b_a\n",
        "        e = K.batch_dot(K.dot(inputs, self.Wa), K.permute_dimensions(inputs, (0, 2, 1)))\n",
        "        if self.use_attention_bias:\n",
        "            e += self.ba[0]\n",
        "        return e\n",
        "\n",
        "    def compute_output_shape(self, input_shape):\n",
        "        output_shape = input_shape\n",
        "        if self.return_attention:\n",
        "            attention_shape = (input_shape[0], output_shape[1], input_shape[1])\n",
        "            return [output_shape, attention_shape]\n",
        "        return output_shape\n",
        "\n",
        "    def compute_mask(self, inputs, mask=None):\n",
        "        if self.return_attention:\n",
        "            return [mask, None]\n",
        "        return mask\n",
        "\n",
        "    def _attention_regularizer(self, attention):\n",
        "        batch_size = K.cast(K.shape(attention)[0], K.floatx())\n",
        "        input_len = K.shape(attention)[-1]\n",
        "        indices = K.expand_dims(K.arange(0, input_len), axis=0)\n",
        "        diagonal = K.expand_dims(K.arange(0, input_len), axis=-1)\n",
        "        eye = K.cast(K.equal(indices, diagonal), K.floatx())\n",
        "        return self.attention_regularizer_weight * K.sum(K.square(K.batch_dot(\n",
        "            attention,\n",
        "            K.permute_dimensions(attention, (0, 2, 1))) - eye)) / batch_size\n",
        "\n",
        "    @staticmethod\n",
        "    def get_custom_objects():\n",
        "        return {'SeqSelfAttention': SeqSelfAttention}\n",
        "\n",
        "def f1(y_true, y_pred):\n",
        "    \n",
        "    \"\"\" \n",
        "    \n",
        "    Calculate F1-score.\n",
        "    \n",
        "    Parameters\n",
        "    ----------\n",
        "    y_true : 1D array\n",
        "        Ground truth labels. \n",
        "        \n",
        "    y_pred : 1D array\n",
        "        Predicted labels.     \n",
        "        \n",
        "    Returns\n",
        "    -------  \n",
        "    f1 : float\n",
        "        Calculated F1-score. \n",
        "        \n",
        "    \"\"\"     \n",
        "    \n",
        "    def recall(y_true, y_pred):\n",
        "        'Recall metric. Only computes a batch-wise average of recall. Computes the recall, a metric for multi-label classification of how many relevant items are selected.'\n",
        "\n",
        "        true_positives = K.sum(K.round(K.clip(y_true * y_pred, 0, 1)))\n",
        "        possible_positives = K.sum(K.round(K.clip(y_true, 0, 1)))\n",
        "        recall = true_positives / (possible_positives + K.epsilon())\n",
        "        return recall\n",
        "\n",
        "    def precision(y_true, y_pred):\n",
        "        'Precision metric. Only computes a batch-wise average of precision. Computes the precision, a metric for multi-label classification of how many selected items are relevant.'\n",
        "\n",
        "        true_positives = K.sum(K.round(K.clip(y_true * y_pred, 0, 1)))\n",
        "        predicted_positives = K.sum(K.round(K.clip(y_pred, 0, 1)))\n",
        "        precision = true_positives / (predicted_positives + K.epsilon())\n",
        "        return precision\n",
        "    \n",
        "    precision = precision(y_true, y_pred)\n",
        "    recall = recall(y_true, y_pred)\n",
        "    return 2*((precision*recall)/(precision+recall+K.epsilon()))\n",
        "\n",
        "\n",
        "\n",
        "def _block_BiLSTM(filters, drop_rate, padding, inpR, regularizer):\n",
        "    'Returns LSTM residual block'    \n",
        "    prev = inpR\n",
        "    x_rnn = Bidirectional(LSTM(filters, \n",
        "                               return_sequences=True, \n",
        "                               dropout=drop_rate, \n",
        "                               recurrent_dropout=drop_rate,\n",
        "                               kernel_regularizer=regularizer, \n",
        "                               recurrent_regularizer=regularizer, \n",
        "                               bias_regularizer=regularizer,\n",
        "                               activity_regularizer=regularizer\n",
        "                              ))(prev)\n",
        "\n",
        "    # x_rnn = Bidirectional(CuDNNLSTM(filters, \n",
        "    #                            return_sequences=True, \n",
        "    #                            kernel_regularizer=regularizer, \n",
        "    #                            recurrent_regularizer=regularizer, \n",
        "    #                            bias_regularizer=regularizer,\n",
        "    #                            activity_regularizer=regularizer\n",
        "    #                           ))(prev)\n",
        "    \n",
        "    NiN = Conv1D(filters, 1, padding = padding, kernel_regularizer = regularizer, bias_regularizer = regularizer,)(x_rnn)     \n",
        "    res_out = BatchNormalization()(NiN)\n",
        "    return res_out\n",
        "\n",
        "\n",
        "def _block_CNN_1(filters, ker, drop_rate, activation, padding, inpC, regularizer): \n",
        "    ' Returns CNN residual blocks '\n",
        "    prev = inpC\n",
        "    layer_1 = BatchNormalization()(prev) \n",
        "    act_1 = Activation(activation)(layer_1) \n",
        "    act_1 = SpatialDropout1D(drop_rate)(act_1, training=True)\n",
        "    conv_1 = Conv1D(filters, ker, padding = padding, kernel_regularizer = regularizer, bias_regularizer = regularizer)(act_1) \n",
        "    \n",
        "    layer_2 = BatchNormalization()(conv_1) \n",
        "    act_2 = Activation(activation)(layer_2) \n",
        "    act_2 = SpatialDropout1D(drop_rate)(act_2, training=True)\n",
        "    conv_2 = Conv1D(filters, ker, padding = padding, kernel_regularizer = regularizer, bias_regularizer = regularizer)(act_2)\n",
        "    \n",
        "    res_out = add([prev, conv_2])\n",
        "    \n",
        "    return res_out \n",
        "\n",
        "\n",
        "def _transformer(drop_rate, width, name, inpC, regularizer): \n",
        "    ' Returns a transformer block containing one addetive attention and one feed  forward layer with residual connections '\n",
        "    x = inpC\n",
        "    \n",
        "    att_layer, weight = SeqSelfAttention(return_attention =True,                                       \n",
        "                                         attention_width = width,\n",
        "                                         name=name)(x)\n",
        "   \n",
        "#  att_layer = Dropout(drop_rate)(att_layer, training=True)    \n",
        "    att_layer2 = add([x, att_layer])    \n",
        "    norm_layer = LayerNormalization()(att_layer2)\n",
        "    \n",
        "    # FF = FeedForward(units=16, dropout_rate=drop_rate)(norm_layer) # Was 128.\n",
        "    FF = FeedForward(units=4, dropout_rate=drop_rate)(norm_layer) # Was 128.\n",
        "\n",
        "    FF_add = add([norm_layer, FF])    \n",
        "    norm_out = LayerNormalization()(FF_add)\n",
        "    \n",
        "    return norm_out, weight \n",
        "\n"
      ],
      "execution_count": null,
      "outputs": []
    },
    {
      "cell_type": "code",
      "metadata": {
        "id": "gl_GMUIX62Cn"
      },
      "source": [
        "# ker_regul = keras.regularizers.l2(1e-10)\n",
        "# bias_regul = keras.regularizers.l2(1e-10)\n",
        "\n",
        "ker_regul = keras.regularizers.l1(0)\n",
        "bias_regul = keras.regularizers.l1(0)\n",
        "\n",
        "\n",
        "# 5e-2 This works well when noise = [1, 1.5]\n",
        "\n",
        "dropout_rate = 0\n",
        "\n",
        "# m = 2\n",
        "# n = 2\n",
        "\n",
        "m = 16\n",
        "n = 16\n",
        "\n",
        "# m = 8\n",
        "# n = 8\n",
        "\n",
        "def autoencoder_model(X, attention=False):\n",
        "    inputs = keras.layers.Input(shape=(X.shape[1], X.shape[2]))\n",
        "    \n",
        "    e = Conv1D( m, \n",
        "                [n], \n",
        "                activation = 'relu',\n",
        "                padding='causal',\n",
        "                kernel_regularizer = ker_regul,\n",
        "                bias_regularizer = bias_regul,\n",
        "                )(inputs)             \n",
        "    \n",
        "    e = MaxPooling1D(8, padding='same')(e)      \n",
        "    \n",
        "    \n",
        "    \n",
        "    layer_1 = BatchNormalization()(e) \n",
        "    act_1 = Activation('relu')(layer_1) \n",
        "    act_1 = SpatialDropout1D(dropout_rate)(act_1, training=True)\n",
        "    e = Conv1D(15, 9, padding='causal', kernel_regularizer = ker_regul, bias_regularizer = bias_regul,)(act_1) \n",
        "    \n",
        "    # e = _block_BiLSTM(1, dropout_rate, 'causal', e, ker_regul)\n",
        "    e = _block_BiLSTM(16, dropout_rate, 'causal', e, ker_regul) # Remove\n",
        "    \n",
        "    \n",
        "    if attention:\n",
        "        x, weightdD0 = _transformer(dropout_rate, None, 'attentionD0', e, ker_regul)\n",
        "        encoded, weightdD = _transformer(dropout_rate, None, 'attentionD', x, ker_regul)\n",
        "        e = encoded\n",
        "    \n",
        "    # Decoder\n",
        "#     e = UpSampling1D(2)(e)    # Remove\n",
        "\n",
        "    e = UpSampling1D(32)(e)\n",
        "    # e = UpSampling1D(2)(e)\n",
        "    e = Conv1D(m, \n",
        "               [n], \n",
        "               padding = 'causal', \n",
        "               activation = 'relu',\n",
        "               kernel_regularizer = ker_regul, \n",
        "               bias_regularizer = bias_regul\n",
        "               )(e)\n",
        "\n",
        "    # Decoder done.\n",
        "    \n",
        "    e = Conv1D(15, 9, padding='causal', activation='relu', name='detector',\n",
        "                   kernel_regularizer = ker_regul, \n",
        "                   bias_regularizer = bias_regul)(e)\n",
        "    \n",
        "    e = Flatten()(e)\n",
        "    \n",
        "    e = Dense(32)(e) # Remove\n",
        "    e = Dense(16)(e) # Remove\n",
        "    e = Dense(8)(e) # Remove\n",
        "    e = Dense(2)(e)\n",
        "    e = Dense(1, activation='sigmoid')(e)\n",
        "    \n",
        "    model = Model(inputs=inputs, outputs=e)\n",
        "    \n",
        "    return model"
      ],
      "execution_count": null,
      "outputs": []
    },
    {
      "cell_type": "code",
      "metadata": {
        "colab": {
          "base_uri": "https://localhost:8080/"
        },
        "id": "pBuHMW7l646M",
        "outputId": "3a694551-cb45-4e31-b7ca-415726e689d2"
      },
      "source": [
        "X_tensor = tf.convert_to_tensor(x_train)\n",
        "Y_tensor = tf.convert_to_tensor(y_train)\n",
        "\n",
        "X_tensor.shape, Y_tensor.shape"
      ],
      "execution_count": null,
      "outputs": [
        {
          "output_type": "execute_result",
          "data": {
            "text/plain": [
              "(TensorShape([475, 1000, 3]), TensorShape([475, 1]))"
            ]
          },
          "metadata": {
            "tags": []
          },
          "execution_count": 271
        }
      ]
    },
    {
      "cell_type": "code",
      "metadata": {
        "id": "FFDVxUMp66P0"
      },
      "source": [
        ""
      ],
      "execution_count": null,
      "outputs": []
    },
    {
      "cell_type": "code",
      "metadata": {
        "id": "5vhadrXv67Mr"
      },
      "source": [
        "# model.summary() "
      ],
      "execution_count": null,
      "outputs": []
    },
    {
      "cell_type": "code",
      "metadata": {
        "id": "U1aZ52eP68LP"
      },
      "source": [
        ""
      ],
      "execution_count": null,
      "outputs": []
    },
    {
      "cell_type": "code",
      "metadata": {
        "id": "XAZ03s82C-fB"
      },
      "source": [
        "# gpus = tf.config.experimental.list_physical_devices('GPU')\n",
        "# print(gpus)\n",
        "# # tf.config.set_visible_devices([], 'CPU') # hide the CPU\n",
        "# tf.config.set_visible_devices(gpus[0], 'GPU') # unhide potentially hidden GPU\n",
        "# tf.config.get_visible_devices()"
      ],
      "execution_count": null,
      "outputs": []
    },
    {
      "cell_type": "code",
      "metadata": {
        "id": "BqGrjTlTKpze"
      },
      "source": [
        "tf.debugging.set_log_device_placement(True)\n"
      ],
      "execution_count": null,
      "outputs": []
    },
    {
      "cell_type": "code",
      "metadata": {
        "colab": {
          "base_uri": "https://localhost:8080/"
        },
        "id": "ejRgbhMnFnwf",
        "outputId": "de64e0a2-631a-41b7-d753-bdec30ad6962"
      },
      "source": [
        "attention = False\n",
        "\n",
        "with tpu_strategy.scope(): # creating the model in the TPUStrategy scope means we will train the model on the TPU\n",
        "  # model = create_model()\n",
        "  model = autoencoder_model(x_train, attention=attention)\n",
        "\n",
        "model.summary()\n"
      ],
      "execution_count": null,
      "outputs": [
        {
          "output_type": "stream",
          "text": [
            "Model: \"model_9\"\n",
            "_________________________________________________________________\n",
            "Layer (type)                 Output Shape              Param #   \n",
            "=================================================================\n",
            "input_10 (InputLayer)        [(None, 1000, 3)]         0         \n",
            "_________________________________________________________________\n",
            "conv1d_34 (Conv1D)           (None, 1000, 16)          784       \n",
            "_________________________________________________________________\n",
            "max_pooling1d_9 (MaxPooling1 (None, 125, 16)           0         \n",
            "_________________________________________________________________\n",
            "batch_normalization_16 (Batc (None, 125, 16)           64        \n",
            "_________________________________________________________________\n",
            "activation_7 (Activation)    (None, 125, 16)           0         \n",
            "_________________________________________________________________\n",
            "spatial_dropout1d_2 (Spatial (None, 125, 16)           0         \n",
            "_________________________________________________________________\n",
            "conv1d_35 (Conv1D)           (None, 125, 15)           2175      \n",
            "_________________________________________________________________\n",
            "bidirectional_9 (Bidirection (None, 125, 32)           4096      \n",
            "_________________________________________________________________\n",
            "conv1d_36 (Conv1D)           (None, 125, 16)           528       \n",
            "_________________________________________________________________\n",
            "batch_normalization_17 (Batc (None, 125, 16)           64        \n",
            "_________________________________________________________________\n",
            "up_sampling1d_9 (UpSampling1 (None, 4000, 16)          0         \n",
            "_________________________________________________________________\n",
            "conv1d_37 (Conv1D)           (None, 4000, 16)          4112      \n",
            "_________________________________________________________________\n",
            "detector (Conv1D)            (None, 4000, 15)          2175      \n",
            "_________________________________________________________________\n",
            "flatten_8 (Flatten)          (None, 60000)             0         \n",
            "_________________________________________________________________\n",
            "dense_29 (Dense)             (None, 32)                1920032   \n",
            "_________________________________________________________________\n",
            "dense_30 (Dense)             (None, 16)                528       \n",
            "_________________________________________________________________\n",
            "dense_31 (Dense)             (None, 8)                 136       \n",
            "_________________________________________________________________\n",
            "dense_32 (Dense)             (None, 2)                 18        \n",
            "_________________________________________________________________\n",
            "dense_33 (Dense)             (None, 1)                 3         \n",
            "=================================================================\n",
            "Total params: 1,934,715\n",
            "Trainable params: 1,934,651\n",
            "Non-trainable params: 64\n",
            "_________________________________________________________________\n"
          ],
          "name": "stdout"
        }
      ]
    },
    {
      "cell_type": "code",
      "metadata": {
        "colab": {
          "base_uri": "https://localhost:8080/"
        },
        "id": "hE2ZZWQ8Q5FZ",
        "outputId": "0b95e0f9-ec96-42db-9d0d-4255eadbb7b4"
      },
      "source": [
        "len(X_tensor)"
      ],
      "execution_count": null,
      "outputs": [
        {
          "output_type": "execute_result",
          "data": {
            "text/plain": [
              "475"
            ]
          },
          "metadata": {
            "tags": []
          },
          "execution_count": 276
        }
      ]
    },
    {
      "cell_type": "code",
      "metadata": {
        "colab": {
          "base_uri": "https://localhost:8080/"
        },
        "id": "4-axAum8Ybcl",
        "outputId": "0c7b4716-39c7-4b0f-89f0-1fab6579c0df"
      },
      "source": [
        "tpu_strategy.num_replicas_in_sync"
      ],
      "execution_count": null,
      "outputs": [
        {
          "output_type": "execute_result",
          "data": {
            "text/plain": [
              "8"
            ]
          },
          "metadata": {
            "tags": []
          },
          "execution_count": 277
        }
      ]
    },
    {
      "cell_type": "code",
      "metadata": {
        "id": "0UUuULCfwzJa"
      },
      "source": [
        "EPOCH = 100"
      ],
      "execution_count": null,
      "outputs": []
    },
    {
      "cell_type": "code",
      "metadata": {
        "colab": {
          "base_uri": "https://localhost:8080/",
          "height": 503
        },
        "id": "PVzVQZmLwRiJ",
        "outputId": "18ce2fce-97fd-4978-cf98-60dd69f73703"
      },
      "source": [
        "start_lr = 0.001\n",
        "min_lr = 0.001\n",
        "max_lr = 0.005 * tpu_strategy.num_replicas_in_sync\n",
        "rampup_epochs = 25\n",
        "sustain_epochs = 10\n",
        "exp_decay = .8\n",
        "\n",
        "def lrfn(epoch):\n",
        "  if epoch < rampup_epochs:\n",
        "    return (max_lr - start_lr)/rampup_epochs * epoch + start_lr\n",
        "  elif epoch < rampup_epochs + sustain_epochs:\n",
        "    return max_lr\n",
        "  else:\n",
        "    return (max_lr - min_lr) * exp_decay**(epoch-rampup_epochs-sustain_epochs) + min_lr\n",
        "    \n",
        "lr_callback = tf.keras.callbacks.LearningRateScheduler(lambda epoch: lrfn(epoch), verbose=True)\n",
        "\n",
        "rang = np.arange(EPOCH)\n",
        "y = [lrfn(x) for x in rang]\n",
        "plt.plot(rang, y)\n",
        "print('Learning rate per epoch:')"
      ],
      "execution_count": null,
      "outputs": [
        {
          "output_type": "stream",
          "text": [
            "Learning rate per epoch:\n"
          ],
          "name": "stdout"
        },
        {
          "output_type": "display_data",
          "data": {
            "image/png": "[encoded data removed]",
            "text/plain": [
              "<Figure size 576x576 with 1 Axes>"
            ]
          },
          "metadata": {
            "tags": []
          }
        }
      ]
    },
    {
      "cell_type": "code",
      "metadata": {
        "colab": {
          "background_save": true,
          "base_uri": "https://localhost:8080/"
        },
        "id": "ZVKdKm3R69wK",
        "outputId": "06dc3b15-ceb2-44f8-c03d-e02e3b511c12"
      },
      "source": [
        "\n",
        "\n",
        "validation = False\n",
        "\n",
        "# with tf.device('/device:GPU:0'):\n",
        "\n",
        "batch_size = 32 * tpu_strategy.num_replicas_in_sync\n",
        "train_steps = len(X_tensor) // batch_size\n",
        "\n",
        "\n",
        "x_train = X_tensor\n",
        "y_train_binary = Y_tensor \n",
        "\n",
        "callback = tf.keras.callbacks.EarlyStopping(monitor='loss', patience=100)\n",
        "# tf.keras.backend.clear_session()\n",
        "\n",
        "# optimizer='adam', \n",
        "\n",
        "with tpu_strategy.scope():\n",
        "  # batch_size=16,\n",
        "  model.compile(loss=\"binary_crossentropy\", \n",
        "                optimizer=Adam(lr=0.01), \n",
        "                metrics=[f1],\n",
        "                steps_per_execution=50,) \n",
        "  # model.compile(loss=\"binary_crossentropy\", optimizer=Adam(lr=0.01)) \n",
        "\n",
        "# callbacks=[lr_callback],\n",
        "history = model.fit(x_train,\n",
        "                    y_train_binary,\n",
        "                    epochs=EPOCH,\n",
        "                    validation_split=0.3,\n",
        "                    callbacks=[callback],\n",
        "                    batch_size=batch_size,)"
      ],
      "execution_count": null,
      "outputs": [
        {
          "output_type": "stream",
          "text": [
            "Epoch 1/100\n",
            "2/2 [==============================] - 65s 32s/step - loss: 23.1021 - f1: 0.4740 - val_loss: 48.8872 - val_f1: 0.7082\n",
            "Epoch 2/100\n",
            "2/2 [==============================] - 1s 265ms/step - loss: 10.7185 - f1: 0.5911 - val_loss: 13.3284 - val_f1: 0.7082\n",
            "Epoch 3/100\n",
            "2/2 [==============================] - 1s 257ms/step - loss: 2.3311 - f1: 0.6540 - val_loss: 22.9683 - val_f1: 0.0000e+00\n",
            "Epoch 4/100\n",
            "2/2 [==============================] - 1s 254ms/step - loss: 10.0845 - f1: 0.3284 - val_loss: 2.1505 - val_f1: 0.1310\n",
            "Epoch 5/100\n",
            "2/2 [==============================] - 1s 262ms/step - loss: 0.7939 - f1: 0.8518 - val_loss: 29.7371 - val_f1: 0.0000e+00\n",
            "Epoch 6/100\n",
            "2/2 [==============================] - 1s 260ms/step - loss: 2.0418 - f1: 0.7626 - val_loss: 37.8111 - val_f1: 0.0000e+00\n",
            "Epoch 7/100\n",
            "2/2 [==============================] - 1s 258ms/step - loss: 0.8977 - f1: 0.8007 - val_loss: 29.1264 - val_f1: 0.0000e+00\n",
            "Epoch 8/100\n",
            "2/2 [==============================] - 1s 263ms/step - loss: 0.9601 - f1: 0.8058 - val_loss: 22.8871 - val_f1: 0.0000e+00\n",
            "Epoch 9/100\n",
            "2/2 [==============================] - 1s 259ms/step - loss: 0.6532 - f1: 0.8041 - val_loss: 9.3504 - val_f1: 0.4237\n",
            "Epoch 10/100\n",
            "2/2 [==============================] - 1s 274ms/step - loss: 0.3890 - f1: 0.8267 - val_loss: 3.7790 - val_f1: 0.7558\n",
            "Epoch 11/100\n",
            "2/2 [==============================] - 1s 259ms/step - loss: 0.4370 - f1: 0.8234 - val_loss: 1.3451 - val_f1: 0.8159\n",
            "Epoch 12/100\n",
            "2/2 [==============================] - 1s 265ms/step - loss: 0.4284 - f1: 0.8146 - val_loss: 0.9303 - val_f1: 0.7205\n",
            "Epoch 13/100\n",
            "2/2 [==============================] - 1s 264ms/step - loss: 0.6412 - f1: 0.7470 - val_loss: 0.3656 - val_f1: 0.8101\n",
            "Epoch 14/100\n",
            "2/2 [==============================] - 1s 261ms/step - loss: 0.4370 - f1: 0.7561 - val_loss: 0.4346 - val_f1: 0.7448\n",
            "Epoch 15/100\n",
            "2/2 [==============================] - 1s 264ms/step - loss: 0.4146 - f1: 0.7733 - val_loss: 0.5062 - val_f1: 0.6545\n",
            "Epoch 16/100\n",
            "2/2 [==============================] - 1s 260ms/step - loss: 0.4020 - f1: 0.7996 - val_loss: 0.5436 - val_f1: 0.6351\n",
            "Epoch 17/100\n",
            "2/2 [==============================] - 1s 266ms/step - loss: 0.4677 - f1: 0.7458 - val_loss: 0.6184 - val_f1: 0.5746\n",
            "Epoch 18/100\n",
            "2/2 [==============================] - 1s 263ms/step - loss: 0.4408 - f1: 0.7223 - val_loss: 0.7830 - val_f1: 0.2303\n",
            "Epoch 19/100\n",
            "2/2 [==============================] - 1s 259ms/step - loss: 0.4170 - f1: 0.7308 - val_loss: 0.8127 - val_f1: 0.1519\n",
            "Epoch 20/100\n",
            "2/2 [==============================] - 1s 262ms/step - loss: 0.4280 - f1: 0.7440 - val_loss: 0.7555 - val_f1: 0.2871\n",
            "Epoch 21/100\n",
            "2/2 [==============================] - 1s 259ms/step - loss: 0.3851 - f1: 0.7961 - val_loss: 0.6679 - val_f1: 0.5292\n",
            "Epoch 22/100\n",
            "2/2 [==============================] - 1s 264ms/step - loss: 0.3837 - f1: 0.8024 - val_loss: 0.5881 - val_f1: 0.5794\n",
            "Epoch 23/100\n",
            "2/2 [==============================] - 1s 266ms/step - loss: 0.3801 - f1: 0.7595 - val_loss: 0.5543 - val_f1: 0.6207\n",
            "Epoch 24/100\n",
            "2/2 [==============================] - 1s 258ms/step - loss: 0.3756 - f1: 0.7980 - val_loss: 0.5302 - val_f1: 0.6401\n",
            "Epoch 25/100\n",
            "2/2 [==============================] - 1s 265ms/step - loss: 0.3656 - f1: 0.8020 - val_loss: 0.5027 - val_f1: 0.6243\n",
            "Epoch 26/100\n",
            "2/2 [==============================] - 1s 267ms/step - loss: 0.3427 - f1: 0.8128 - val_loss: 0.4479 - val_f1: 0.7345\n",
            "Epoch 27/100\n",
            "2/2 [==============================] - 1s 265ms/step - loss: 0.3526 - f1: 0.7853 - val_loss: 0.3842 - val_f1: 0.8101\n",
            "Epoch 28/100\n",
            "2/2 [==============================] - 1s 263ms/step - loss: 0.3578 - f1: 0.8272 - val_loss: 0.3557 - val_f1: 0.8211\n",
            "Epoch 29/100\n",
            "2/2 [==============================] - 2s 814ms/step - loss: 0.3338 - f1: 0.8315 - val_loss: 0.3424 - val_f1: 0.8323\n",
            "Epoch 30/100\n",
            "2/2 [==============================] - 1s 263ms/step - loss: 0.3382 - f1: 0.7621 - val_loss: 0.3378 - val_f1: 0.8323\n",
            "Epoch 31/100\n",
            "2/2 [==============================] - 1s 264ms/step - loss: 0.3358 - f1: 0.8321 - val_loss: 0.3363 - val_f1: 0.8323\n",
            "Epoch 32/100\n",
            "2/2 [==============================] - 1s 262ms/step - loss: 0.3677 - f1: 0.8046 - val_loss: 0.3380 - val_f1: 0.8323\n",
            "Epoch 33/100\n",
            "2/2 [==============================] - 1s 259ms/step - loss: 0.3322 - f1: 0.7890 - val_loss: 0.3409 - val_f1: 0.8323\n",
            "Epoch 34/100\n",
            "2/2 [==============================] - 1s 262ms/step - loss: 0.3306 - f1: 0.8327 - val_loss: 0.3430 - val_f1: 0.8323\n",
            "Epoch 35/100\n",
            "2/2 [==============================] - 1s 264ms/step - loss: 0.3357 - f1: 0.8349 - val_loss: 0.3454 - val_f1: 0.8269\n",
            "Epoch 36/100\n",
            "2/2 [==============================] - 1s 262ms/step - loss: 0.3388 - f1: 0.8482 - val_loss: 0.3578 - val_f1: 0.8211\n",
            "Epoch 37/100\n",
            "2/2 [==============================] - 1s 260ms/step - loss: 0.3549 - f1: 0.8217 - val_loss: 0.4081 - val_f1: 0.8023\n",
            "Epoch 38/100\n",
            "2/2 [==============================] - 1s 259ms/step - loss: 0.3253 - f1: 0.8409 - val_loss: 0.5134 - val_f1: 0.6652\n",
            "Epoch 39/100\n",
            "2/2 [==============================] - 1s 255ms/step - loss: 0.3283 - f1: 0.8014 - val_loss: 0.5869 - val_f1: 0.6110\n",
            "Epoch 40/100\n",
            "2/2 [==============================] - 1s 258ms/step - loss: 0.3165 - f1: 0.8437 - val_loss: 0.6258 - val_f1: 0.5623\n",
            "Epoch 41/100\n",
            "2/2 [==============================] - 1s 265ms/step - loss: 0.3171 - f1: 0.8337 - val_loss: 0.6217 - val_f1: 0.5924\n",
            "Epoch 42/100\n",
            "2/2 [==============================] - 1s 262ms/step - loss: 0.3278 - f1: 0.8226 - val_loss: 0.6039 - val_f1: 0.5924\n",
            "Epoch 43/100\n",
            "2/2 [==============================] - 1s 259ms/step - loss: 0.3113 - f1: 0.8716 - val_loss: 0.5825 - val_f1: 0.6031\n",
            "Epoch 44/100\n",
            "2/2 [==============================] - 1s 262ms/step - loss: 0.3156 - f1: 0.8084 - val_loss: 0.5566 - val_f1: 0.6351\n",
            "Epoch 45/100\n",
            "2/2 [==============================] - 1s 264ms/step - loss: 0.3151 - f1: 0.8159 - val_loss: 0.5376 - val_f1: 0.6545\n",
            "Epoch 46/100\n",
            "2/2 [==============================] - 1s 266ms/step - loss: 0.3026 - f1: 0.8422 - val_loss: 0.5340 - val_f1: 0.6545\n",
            "Epoch 47/100\n",
            "2/2 [==============================] - 1s 266ms/step - loss: 0.3209 - f1: 0.8412 - val_loss: 0.5318 - val_f1: 0.6697\n",
            "Epoch 48/100\n",
            "2/2 [==============================] - 1s 268ms/step - loss: 0.3338 - f1: 0.8539 - val_loss: 0.5459 - val_f1: 0.6351\n",
            "Epoch 49/100\n",
            "2/2 [==============================] - 1s 266ms/step - loss: 0.2998 - f1: 0.8404 - val_loss: 0.5523 - val_f1: 0.6351\n",
            "Epoch 50/100\n",
            "2/2 [==============================] - 1s 264ms/step - loss: 0.3065 - f1: 0.8584 - val_loss: 0.5602 - val_f1: 0.6351\n",
            "Epoch 51/100\n",
            "2/2 [==============================] - 1s 267ms/step - loss: 0.3027 - f1: 0.8408 - val_loss: 0.5500 - val_f1: 0.6351\n",
            "Epoch 52/100\n",
            "2/2 [==============================] - 1s 261ms/step - loss: 0.2860 - f1: 0.8685 - val_loss: 0.5091 - val_f1: 0.6927\n",
            "Epoch 53/100\n",
            "2/2 [==============================] - 1s 268ms/step - loss: 0.3101 - f1: 0.8569 - val_loss: 0.4904 - val_f1: 0.7078\n",
            "Epoch 54/100\n",
            "2/2 [==============================] - 1s 260ms/step - loss: 0.3169 - f1: 0.8681 - val_loss: 0.5287 - val_f1: 0.6609\n",
            "Epoch 55/100\n",
            "2/2 [==============================] - 1s 262ms/step - loss: 0.3075 - f1: 0.8680 - val_loss: 0.6180 - val_f1: 0.6107\n",
            "Epoch 56/100\n",
            "2/2 [==============================] - 1s 263ms/step - loss: 0.2910 - f1: 0.8381 - val_loss: 0.7136 - val_f1: 0.4921\n",
            "Epoch 57/100\n",
            "2/2 [==============================] - 1s 262ms/step - loss: 0.3134 - f1: 0.8507 - val_loss: 0.7098 - val_f1: 0.4802\n",
            "Epoch 58/100\n",
            "2/2 [==============================] - 1s 269ms/step - loss: 0.2916 - f1: 0.8617 - val_loss: 0.6841 - val_f1: 0.5234\n",
            "Epoch 59/100\n",
            "2/2 [==============================] - 1s 263ms/step - loss: 0.2794 - f1: 0.8803 - val_loss: 0.6310 - val_f1: 0.5928\n",
            "Epoch 60/100\n",
            "2/2 [==============================] - 1s 269ms/step - loss: 0.2923 - f1: 0.8783 - val_loss: 0.5854 - val_f1: 0.6351\n",
            "Epoch 61/100\n",
            "2/2 [==============================] - 1s 266ms/step - loss: 0.3066 - f1: 0.8658 - val_loss: 0.5314 - val_f1: 0.6609\n",
            "Epoch 62/100\n",
            "2/2 [==============================] - 1s 265ms/step - loss: 0.2938 - f1: 0.8799 - val_loss: 0.4769 - val_f1: 0.7341\n",
            "Epoch 63/100\n",
            "2/2 [==============================] - 1s 266ms/step - loss: 0.3001 - f1: 0.8685 - val_loss: 0.4407 - val_f1: 0.7576\n",
            "Epoch 64/100\n",
            "2/2 [==============================] - 1s 266ms/step - loss: 0.3179 - f1: 0.8733 - val_loss: 0.4327 - val_f1: 0.7576\n",
            "Epoch 65/100\n",
            "2/2 [==============================] - 1s 262ms/step - loss: 0.2673 - f1: 0.8811 - val_loss: 0.4267 - val_f1: 0.7828\n",
            "Epoch 66/100\n",
            "2/2 [==============================] - 1s 266ms/step - loss: 0.3181 - f1: 0.8507 - val_loss: 0.4481 - val_f1: 0.7576\n",
            "Epoch 67/100\n",
            "2/2 [==============================] - 1s 262ms/step - loss: 0.3042 - f1: 0.8827 - val_loss: 0.4745 - val_f1: 0.7319\n",
            "Epoch 68/100\n",
            "2/2 [==============================] - 1s 261ms/step - loss: 0.2860 - f1: 0.8593 - val_loss: 0.4951 - val_f1: 0.7078\n",
            "Epoch 69/100\n",
            "2/2 [==============================] - 1s 262ms/step - loss: 0.2969 - f1: 0.8682 - val_loss: 0.5125 - val_f1: 0.6955\n",
            "Epoch 70/100\n",
            "2/2 [==============================] - 1s 258ms/step - loss: 0.2821 - f1: 0.8637 - val_loss: 0.5195 - val_f1: 0.6609\n",
            "Epoch 71/100\n",
            "2/2 [==============================] - 1s 258ms/step - loss: 0.3235 - f1: 0.8306 - val_loss: 0.5191 - val_f1: 0.6609\n",
            "Epoch 72/100\n",
            "2/2 [==============================] - 1s 262ms/step - loss: 0.3093 - f1: 0.8638 - val_loss: 0.5179 - val_f1: 0.6502\n",
            "Epoch 73/100\n",
            "2/2 [==============================] - 1s 255ms/step - loss: 0.2954 - f1: 0.8787 - val_loss: 0.4974 - val_f1: 0.6955\n",
            "Epoch 74/100\n",
            "2/2 [==============================] - 1s 262ms/step - loss: 0.2963 - f1: 0.8866 - val_loss: 0.4468 - val_f1: 0.7319\n",
            "Epoch 75/100\n",
            "2/2 [==============================] - 1s 264ms/step - loss: 0.3021 - f1: 0.8447 - val_loss: 0.3948 - val_f1: 0.7914\n",
            "Epoch 76/100\n",
            "2/2 [==============================] - 1s 262ms/step - loss: 0.2906 - f1: 0.8895 - val_loss: 0.3691 - val_f1: 0.8101\n",
            "Epoch 77/100\n",
            "2/2 [==============================] - 1s 260ms/step - loss: 0.2811 - f1: 0.8849 - val_loss: 0.3643 - val_f1: 0.8101\n",
            "Epoch 78/100\n",
            "2/2 [==============================] - 1s 259ms/step - loss: 0.3055 - f1: 0.8482 - val_loss: 0.3700 - val_f1: 0.8101\n",
            "Epoch 79/100\n",
            "2/2 [==============================] - 1s 257ms/step - loss: 0.2818 - f1: 0.8757 - val_loss: 0.3875 - val_f1: 0.8101\n",
            "Epoch 80/100\n",
            "2/2 [==============================] - 1s 262ms/step - loss: 0.3043 - f1: 0.8419 - val_loss: 0.4125 - val_f1: 0.7828\n",
            "Epoch 81/100\n",
            "2/2 [==============================] - 1s 255ms/step - loss: 0.2630 - f1: 0.8221 - val_loss: 0.4274 - val_f1: 0.7576\n",
            "Epoch 82/100\n",
            "2/2 [==============================] - 1s 259ms/step - loss: 0.2772 - f1: 0.8472 - val_loss: 0.4278 - val_f1: 0.7576\n",
            "Epoch 83/100\n",
            "2/2 [==============================] - 1s 261ms/step - loss: 0.3001 - f1: 0.8807 - val_loss: 0.4176 - val_f1: 0.7828\n",
            "Epoch 84/100\n",
            "2/2 [==============================] - 1s 259ms/step - loss: 0.2718 - f1: 0.8606 - val_loss: 0.3893 - val_f1: 0.8101\n",
            "Epoch 85/100\n",
            "2/2 [==============================] - 1s 259ms/step - loss: 0.2663 - f1: 0.8927 - val_loss: 0.3628 - val_f1: 0.8211\n",
            "Epoch 86/100\n",
            "2/2 [==============================] - 1s 266ms/step - loss: 0.2708 - f1: 0.8628 - val_loss: 0.3461 - val_f1: 0.8323\n",
            "Epoch 87/100\n",
            "2/2 [==============================] - 1s 265ms/step - loss: 0.2581 - f1: 0.8658 - val_loss: 0.3331 - val_f1: 0.8323\n",
            "Epoch 88/100\n",
            "2/2 [==============================] - 1s 260ms/step - loss: 0.2639 - f1: 0.8863 - val_loss: 0.3262 - val_f1: 0.8406\n",
            "Epoch 89/100\n",
            "2/2 [==============================] - 1s 261ms/step - loss: 0.2541 - f1: 0.8933 - val_loss: 0.3223 - val_f1: 0.8456\n",
            "Epoch 90/100\n",
            "2/2 [==============================] - 1s 259ms/step - loss: 0.2927 - f1: 0.8680 - val_loss: 0.3228 - val_f1: 0.8456\n",
            "Epoch 91/100\n",
            "2/2 [==============================] - 1s 261ms/step - loss: 0.2730 - f1: 0.8797 - val_loss: 0.3270 - val_f1: 0.8406\n",
            "Epoch 92/100\n",
            "2/2 [==============================] - 1s 260ms/step - loss: 0.2603 - f1: 0.8870 - val_loss: 0.3353 - val_f1: 0.8323\n",
            "Epoch 93/100\n",
            "2/2 [==============================] - 1s 260ms/step - loss: 0.2631 - f1: 0.8771 - val_loss: 0.3459 - val_f1: 0.8323\n",
            "Epoch 94/100\n",
            "2/2 [==============================] - 1s 260ms/step - loss: 0.2878 - f1: 0.8658 - val_loss: 0.3620 - val_f1: 0.8211\n",
            "Epoch 95/100\n",
            "2/2 [==============================] - 1s 296ms/step - loss: 0.2421 - f1: 0.8954 - val_loss: 0.3832 - val_f1: 0.8101\n",
            "Epoch 96/100\n",
            "2/2 [==============================] - 1s 261ms/step - loss: 0.2601 - f1: 0.9062 - val_loss: 0.3779 - val_f1: 0.8211\n",
            "Epoch 97/100\n",
            "2/2 [==============================] - 1s 253ms/step - loss: 0.2821 - f1: 0.8688 - val_loss: 0.3595 - val_f1: 0.8269\n",
            "Epoch 98/100\n",
            "2/2 [==============================] - 1s 258ms/step - loss: 0.2564 - f1: 0.8930 - val_loss: 0.3418 - val_f1: 0.8323\n",
            "Epoch 99/100\n",
            "2/2 [==============================] - 1s 258ms/step - loss: 0.2636 - f1: 0.8849 - val_loss: 0.3336 - val_f1: 0.8406\n",
            "Epoch 100/100\n",
            "2/2 [==============================] - 1s 259ms/step - loss: 0.2341 - f1: 0.9086 - val_loss: 0.3291 - val_f1: 0.8456\n"
          ],
          "name": "stdout"
        }
      ]
    },
    {
      "cell_type": "code",
      "metadata": {
        "colab": {
          "background_save": true
        },
        "id": "bMepgUmi6-6G",
        "outputId": "2076c711-43c3-4562-d127-d73f7980250a"
      },
      "source": [
        "validation = True\n",
        "\n",
        "current_index = 1\n",
        "\n",
        "plt.figure(figsize=(15, 5))\n",
        "plt.subplot(121)\n",
        "plt.plot(history.history['loss'], label=\"Training Loss\")\n",
        "\n",
        "if validation:\n",
        "    plt.plot(history.history['val_loss'], label=\"Validation Loss\")\n",
        "    \n",
        "plt.ylabel('Loss')\n",
        "plt.xlabel('Epoch')\n",
        "plt.legend()\n",
        "\n",
        "plt.ylim(-0.1, 1)\n",
        "\n",
        "plt.subplot(122)\n",
        "plt.plot(history.history['f1'], label=\"Training F1\")\n",
        "\n",
        "if validation:\n",
        "    plt.plot(history.history['val_f1'], label=\"Validation F1\")\n",
        "    \n",
        "plt.ylabel('F1')\n",
        "plt.xlabel('Epoch')\n",
        "plt.ylim(-0.1, 1.1)\n",
        "plt.legend()\n",
        "\n",
        "# plt.savefig(\"log_plots/{}.jpg\".format(current_index))"
      ],
      "execution_count": null,
      "outputs": [
        {
          "output_type": "execute_result",
          "data": {
            "text/plain": [
              "<matplotlib.legend.Legend at 0x7f8849c2c8d0>"
            ]
          },
          "metadata": {
            "tags": []
          },
          "execution_count": 0
        },
        {
          "output_type": "display_data",
          "data": {
            "image/png": "[encoded data removed]",
            "text/plain": [
              "<Figure size 1080x360 with 2 Axes>"
            ]
          },
          "metadata": {
            "tags": []
          }
        }
      ]
    },
    {
      "cell_type": "code",
      "metadata": {
        "id": "aqTAIOyF7oAB"
      },
      "source": [
        "probs = model(x_test).numpy()\n",
        "\n",
        "# print(probs.flatten())\n",
        "\n",
        "# print(y_test.flatten())"
      ],
      "execution_count": null,
      "outputs": []
    },
    {
      "cell_type": "code",
      "metadata": {
        "id": "rzERGfZrCcTG"
      },
      "source": [
        "thres = 0.5"
      ],
      "execution_count": null,
      "outputs": []
    },
    {
      "cell_type": "code",
      "metadata": {
        "colab": {
          "base_uri": "https://localhost:8080/"
        },
        "id": "pHkCkITfCc0_",
        "outputId": "3f1eb90a-b512-4f29-b69b-be4836d7200b"
      },
      "source": [
        "sum([x >= thres for x in probs.flatten()]), sum([x < 0.5 for x in probs.flatten()])"
      ],
      "execution_count": null,
      "outputs": [
        {
          "output_type": "execute_result",
          "data": {
            "text/plain": [
              "(1068, 1432)"
            ]
          },
          "metadata": {
            "tags": []
          },
          "execution_count": 208
        }
      ]
    },
    {
      "cell_type": "code",
      "metadata": {
        "id": "v1qyHWHGNzDM"
      },
      "source": [
        "preds = [int(x > thres) for x in probs.flatten()]"
      ],
      "execution_count": null,
      "outputs": []
    },
    {
      "cell_type": "code",
      "metadata": {
        "id": "5DgtVd6hCLgo"
      },
      "source": [
        "import sklearn.metrics as metrics\n",
        "from bisect import bisect_left"
      ],
      "execution_count": null,
      "outputs": []
    },
    {
      "cell_type": "code",
      "metadata": {
        "id": "zT84iyv4CAiT"
      },
      "source": [
        "test_fpr, test_tpr, test_threshold = metrics.roc_curve(y_test.flatten(), probs)\n",
        "\n",
        "# test_tpr"
      ],
      "execution_count": null,
      "outputs": []
    },
    {
      "cell_type": "code",
      "metadata": {
        "colab": {
          "base_uri": "https://localhost:8080/"
        },
        "id": "I6BmVpFvCBpl",
        "outputId": "b139cac2-052d-43be-fb5a-ba99a10fd1ef"
      },
      "source": [
        "test_roc_auc = metrics.auc(test_fpr, test_tpr)\n",
        "test_roc_auc"
      ],
      "execution_count": null,
      "outputs": [
        {
          "output_type": "execute_result",
          "data": {
            "text/plain": [
              "0.9567754004967771"
            ]
          },
          "metadata": {
            "tags": []
          },
          "execution_count": 212
        }
      ]
    },
    {
      "cell_type": "code",
      "metadata": {
        "colab": {
          "base_uri": "https://localhost:8080/"
        },
        "id": "OZDo53rNCDnM",
        "outputId": "af243ff1-5f0b-49c4-88e2-3e4e57a6d769"
      },
      "source": [
        "test_accu = metrics.accuracy_score(y_test.flatten(), preds)\n",
        "\n",
        "test_accu"
      ],
      "execution_count": null,
      "outputs": [
        {
          "output_type": "execute_result",
          "data": {
            "text/plain": [
              "0.9292"
            ]
          },
          "metadata": {
            "tags": []
          },
          "execution_count": 213
        }
      ]
    },
    {
      "cell_type": "code",
      "metadata": {
        "id": "DaCsytNXIeVz"
      },
      "source": [
        "df = pd.DataFrame({'fpr': test_fpr, 'tpr': test_tpr, 'threshold': test_threshold})\n",
        "one_percent_fpr_idx = bisect_left(df['fpr'].values, 0.01)\n",
        "\n",
        "row = df.iloc[one_percent_fpr_idx]\n",
        "    \n",
        "detection_probability = row['tpr']"
      ],
      "execution_count": null,
      "outputs": []
    },
    {
      "cell_type": "code",
      "metadata": {
        "colab": {
          "base_uri": "https://localhost:8080/",
          "height": 522
        },
        "id": "yPX86vsMCE11",
        "outputId": "3d754eef-cf25-4a68-d137-f7a6436bb511"
      },
      "source": [
        "plt.title('ROC; p_det = ' + str(detection_probability))\n",
        "\n",
        "plt.plot(test_fpr, test_tpr, label = 'Test AUC = %0.2f' % test_roc_auc)\n",
        "\n",
        "plt.legend(loc = 'lower right')\n",
        "plt.plot([0, 1], [0, 1],'r--')\n",
        "plt.xlim([-0., 1.1])\n",
        "plt.ylim([-0., 1.1])\n",
        "plt.ylabel('TPR')\n",
        "plt.xlabel('FPR')\n",
        "plt.show()"
      ],
      "execution_count": null,
      "outputs": [
        {
          "output_type": "display_data",
          "data": {
            "image/png": "[encoded data removed]",
            "text/plain": [
              "<Figure size 576x576 with 1 Axes>"
            ]
          },
          "metadata": {
            "tags": []
          }
        }
      ]
    },
    {
      "cell_type": "code",
      "metadata": {
        "id": "eWwtRNaS-C4Z"
      },
      "source": [
        "from scipy.signal import welch"
      ],
      "execution_count": null,
      "outputs": []
    },
    {
      "cell_type": "code",
      "metadata": {
        "id": "GIM_-RA2CF7v"
      },
      "source": [
        "random.seed(42)\n",
        "\n",
        "scaling = 1e-23\n",
        "\n",
        "def generate_test_data(test_size, lower_f, upper_f, h0_lower, h0_upper):\n",
        "\n",
        "    # snr_s = []\n",
        "    f_s = []\n",
        "    all_data_raw = []\n",
        "    h0_s = []\n",
        "    labels = []\n",
        "    sqrt_S_s = []\n",
        "    rho_s = []\n",
        "\n",
        "    for i in range(test_size):\n",
        "      f = random.uniform(lower_f, upper_f)\n",
        "      \n",
        "      # 0 = Signal; 1 = Noise; 2 = Signal + Noise.\n",
        "      \n",
        "      #     signal = random.choices(population=[0, 1, 2], weights=[0.45, 0.1, 0.45])[0]\n",
        "      #     signal = random.choices(population=[0], weights=[1.0])[0]\n",
        "\n",
        "      signal = random.choices(population=[2, 1], weights=[0.5, 0.5])[0]\n",
        "      #     if i == 0:\n",
        "      #         signal = 0\n",
        "      #     elif i == 1:\n",
        "      #         signal = 1\n",
        "      \n",
        "      h0_exp = random.uniform(h0_lower, h0_upper)\n",
        "      h0 = 10**(h0_exp)\n",
        "\n",
        "      if signal == 0:\n",
        "          current_y = make_signal(f=f, signal=True, noise=False, h0=h0)\n",
        "      elif signal == 1:\n",
        "          current_y = make_signal(f=f, signal=False, noise=True, h0=h0)\n",
        "      elif signal == 2:\n",
        "          current_y = make_signal(f=f, signal=True, noise=True, h0=h0)\n",
        "      \n",
        "      freq_psd, power_data = welch(current_y, fs=int(1/T), nfft=int(1/T))\n",
        "      sqrt_S = np.sqrt( np.average(power_data) )\n",
        "      sqrt_S_s.append(sqrt_S)\n",
        "      \n",
        "      rho = h0 * np.sqrt(N*T) / sqrt_S\n",
        "      rho_s.append(rho)\n",
        "\n",
        "      y_fft = fft(current_y)\n",
        "      \n",
        "      current_y = [[x.real / scaling, x.imag / scaling, f] for x in y_fft]\n",
        "\n",
        "  #     current_y = [[x] for x in current_y]\n",
        "  #     freqs = [[f] * len(current_y)]\n",
        "      \n",
        "      if signal == 0 or signal == 2:\n",
        "          was_signal_there = 1\n",
        "      elif signal == 1:\n",
        "          was_signal_there = 0\n",
        "          \n",
        "      f_s.append(f)\n",
        "      h0_s.append(h0)\n",
        "      \n",
        "\n",
        "      labels.append([int(was_signal_there)])\n",
        "      all_data_raw.append(current_y)\n",
        "\n",
        "    \n",
        "    \n",
        "    labels = np.array(labels).flatten()\n",
        "    \n",
        "    return all_data_raw, labels, f_s, h0_s, sqrt_S_s, rho_s"
      ],
      "execution_count": null,
      "outputs": []
    },
    {
      "cell_type": "code",
      "metadata": {
        "id": "Gcq42y869Pvh"
      },
      "source": [
        ""
      ],
      "execution_count": null,
      "outputs": []
    },
    {
      "cell_type": "code",
      "metadata": {
        "id": "1r-d27IQ99MH"
      },
      "source": [
        "def get_results(x_s, labels):\n",
        "\n",
        "    y_pred = model.predict(x_s).flatten().tolist()\n",
        "\n",
        "    preds = [int(x > 0.5) for x in y_pred]\n",
        "    \n",
        "    \n",
        "    labels = np.array(labels).flatten()\n",
        "    \n",
        "    fpr, tpr, threshold = metrics.roc_curve(labels, y_pred)\n",
        "    roc_auc = metrics.auc(fpr, tpr)\n",
        "    accu = metrics.accuracy_score(labels, preds)\n",
        "\n",
        "    print(\"N = \", len(y_pred), \"; AUC = \", roc_auc, \"; Accuracy = \", accu)\n",
        "    \n",
        "    \n",
        "    \n",
        "    df = pd.DataFrame({'fpr': fpr, 'tpr': tpr, 'threshold': threshold})\n",
        "    one_percent_fpr_idx = bisect_left(df['fpr'].values, 0.01)\n",
        "\n",
        "    # df.iloc[229]\n",
        "\n",
        "    row = df.iloc[one_percent_fpr_idx]\n",
        "    \n",
        "    detection_probability = row['tpr']\n",
        "    \n",
        "    \n",
        "    plt.title(\"ROC; p_det = {:.2f}\".format(detection_probability))\n",
        "\n",
        "    plt.plot(fpr, tpr, label = 'Test AUC = %0.2f' % roc_auc)\n",
        "\n",
        "    plt.legend(loc = 'lower right')\n",
        "    plt.plot([0, 1], [0, 1],'r--')\n",
        "    plt.xlim([-0.01, 1.01])\n",
        "    plt.ylim([-0.01, 1.01])\n",
        "    plt.ylabel('TPR')\n",
        "    plt.xlabel('FPR')\n",
        "    plt.show()\n",
        "    \n",
        "#     return fpr, tpr, threshold\n",
        "\n",
        "    \n",
        "    return detection_probability\n",
        "#     print(\"Detection Probability @ 1% false alarm rate = {:.2f}\".format(row['tpr']))\n",
        "\n"
      ],
      "execution_count": null,
      "outputs": []
    },
    {
      "cell_type": "code",
      "metadata": {
        "colab": {
          "base_uri": "https://localhost:8080/",
          "height": 540
        },
        "id": "UIHJ1B3z-L7w",
        "outputId": "61627adf-c734-45dc-e373-a78d0c6d5a0b"
      },
      "source": [
        "test_size = 1000\n",
        "\n",
        "all_data_raw, labels, f_s, h0_s, sqrt_S_s, rho_s = generate_test_data(test_size, lower_f=20, upper_f=25, h0_lower=-20, h0_upper=-27)\n",
        "\n",
        "detection_probability = get_results(all_data_raw, labels)"
      ],
      "execution_count": null,
      "outputs": [
        {
          "output_type": "stream",
          "text": [
            "N =  1000 ; AUC =  0.6953111249779996 ; Accuracy =  0.68\n"
          ],
          "name": "stdout"
        },
        {
          "output_type": "display_data",
          "data": {
            "image/png": "[encoded data removed]",
            "text/plain": [
              "<Figure size 576x576 with 1 Axes>"
            ]
          },
          "metadata": {
            "tags": []
          }
        }
      ]
    },
    {
      "cell_type": "code",
      "metadata": {
        "id": "ICroKfrb_FUj"
      },
      "source": [
        "# sqrt_S_s"
      ],
      "execution_count": null,
      "outputs": []
    },
    {
      "cell_type": "code",
      "metadata": {
        "id": "YEXh9hKp-RO-"
      },
      "source": [
        "preds = model.predict(all_data_raw).flatten().tolist()\n",
        "y_pred = np.array( [1 if x >= 0.5 else 0 for x in preds] )"
      ],
      "execution_count": null,
      "outputs": []
    },
    {
      "cell_type": "code",
      "metadata": {
        "id": "IMyQ4fpv-kuY"
      },
      "source": [
        "found = []\n",
        "\n",
        "for i in range(len(labels)):\n",
        "    if (labels[i] and y_pred[i]) or ( (not labels[i]) and (not y_pred[i]) ):\n",
        "        found.append(True)\n",
        "    else:\n",
        "        found.append(False)"
      ],
      "execution_count": null,
      "outputs": []
    },
    {
      "cell_type": "code",
      "metadata": {
        "id": "83LXfWlx-qO0"
      },
      "source": [
        "df = pd.DataFrame()\n",
        "\n",
        "df['h0'] = h0_s\n",
        "df['rho'] = rho_s\n",
        "df['found'] = found\n",
        "\n",
        "\n",
        "df = df.sort_values(['h0'])\n",
        "\n",
        "deno = 200\n",
        "\n",
        "df['group'] = list( np.floor((np.arange(0, len(df))) / deno))\n",
        "\n",
        "a = df.groupby(['group']).mean().sort_values(['h0'])"
      ],
      "execution_count": null,
      "outputs": []
    },
    {
      "cell_type": "code",
      "metadata": {
        "colab": {
          "base_uri": "https://localhost:8080/"
        },
        "id": "Yg0hJJxZ-xIK",
        "outputId": "f5df2146-9183-4497-febb-1e0b72ead6df"
      },
      "source": [
        "len(df['group'].unique())"
      ],
      "execution_count": null,
      "outputs": [
        {
          "output_type": "execute_result",
          "data": {
            "text/plain": [
              "5"
            ]
          },
          "metadata": {
            "tags": []
          },
          "execution_count": 255
        }
      ]
    },
    {
      "cell_type": "code",
      "metadata": {
        "id": "l1aIuiQC1AoH"
      },
      "source": [
        "from scipy.optimize import curve_fit"
      ],
      "execution_count": null,
      "outputs": []
    },
    {
      "cell_type": "code",
      "metadata": {
        "colab": {
          "base_uri": "https://localhost:8080/",
          "height": 540
        },
        "id": "mQ4XU_Ib-ylj",
        "outputId": "c8c4680b-f410-48b9-c3df-6486e4654f14"
      },
      "source": [
        "\n",
        "sns.set_theme()\n",
        "sns.set(rc={'figure.figsize': (8, 8),\"font.size\": 15,\"axes.titlesize\": 15, \"axes.labelsize\": 15})\n",
        "\n",
        "\n",
        "a['log_h0'] = np.log10(a['h0'])\n",
        "\n",
        "plt.figure(figsize=(8, 8))\n",
        "\n",
        "# plt.plot(a['snr'], a['found'], lw=0, marker=\"+\", ms=5)\n",
        "# plt.ylim(0.45, 1.05)\n",
        "\n",
        "plt.plot([min(a['log_h0']), max(a['log_h0'])], [0.95, 0.95], ls=\"--\", color=\"red\")\n",
        "\n",
        "sns.scatterplot(x='log_h0', y='found', data=a, s=80, marker=\"o\")\n",
        "\n",
        "\n",
        "# def fsigmoid(x, b, c):\n",
        "#     return 0.5 + 0.5 / (1.0 + np.exp(-b*(x-c)))\n",
        "\n",
        "# popt, pcov = curve_fit(fsigmoid, a['log_h0'], a['found'], method='dogbox', bounds=([0, -27],[1.1, -21]))\n",
        "\n",
        "# x_s = np.linspace(min(a['log_h0']), max(a['log_h0']), 1000)\n",
        "# y_s = [fsigmoid(x, popt[0], popt[1]) for x in x_s]\n",
        "\n",
        "# plt.plot(x_s, y_s)\n",
        "\n",
        "plt.xlabel(\"h0\")\n",
        "plt.ylabel(\"Efficiency\")"
      ],
      "execution_count": null,
      "outputs": [
        {
          "output_type": "stream",
          "text": [
            "[  1.1        -22.39482633]\n"
          ],
          "name": "stdout"
        },
        {
          "output_type": "execute_result",
          "data": {
            "text/plain": [
              "Text(0, 0.5, 'Efficiency')"
            ]
          },
          "metadata": {
            "tags": []
          },
          "execution_count": 257
        },
        {
          "output_type": "display_data",
          "data": {
            "image/png": "[encoded data removed]",
            "text/plain": [
              "<Figure size 576x576 with 1 Axes>"
            ]
          },
          "metadata": {
            "tags": []
          }
        }
      ]
    },
    {
      "cell_type": "code",
      "metadata": {
        "id": "ElYrkjtu-4Pc"
      },
      "source": [
        "\n",
        "df = df.sort_values(['rho'])\n",
        "\n",
        "\n",
        "\n",
        "df['group'] = list( np.floor((np.arange(0, len(df))) / deno))\n",
        "\n",
        "a = df.groupby(['group']).mean().sort_values(['rho'])"
      ],
      "execution_count": null,
      "outputs": []
    },
    {
      "cell_type": "code",
      "metadata": {
        "colab": {
          "base_uri": "https://localhost:8080/",
          "height": 529
        },
        "id": "DgZgDJ7u_1SP",
        "outputId": "e943510e-1edc-4c54-a4fa-c7438a6d069a"
      },
      "source": [
        "\n",
        "sns.set_theme()\n",
        "sns.set(rc={'figure.figsize': (8, 8),\"font.size\": 15,\"axes.titlesize\": 15, \"axes.labelsize\": 15})\n",
        "\n",
        "\n",
        "plt.figure(figsize=(8, 8))\n",
        "\n",
        "# plt.plot(a['snr'], a['found'], lw=0, marker=\"+\", ms=5)\n",
        "# plt.ylim(0.45, 1.05)\n",
        "\n",
        "plt.plot([min(a['rho']), max(a['rho'])], [0.95, 0.95], ls=\"--\", color=\"red\")\n",
        "\n",
        "sns.scatterplot(x='rho', y='found', data=a, s=80, marker=\"o\")\n",
        "\n",
        "\n",
        "plt.xscale('log')\n",
        "\n",
        "plt.xlabel(\"rho\")\n",
        "plt.ylabel(\"Efficiency\")"
      ],
      "execution_count": null,
      "outputs": [
        {
          "output_type": "execute_result",
          "data": {
            "text/plain": [
              "Text(0, 0.5, 'Efficiency')"
            ]
          },
          "metadata": {
            "tags": []
          },
          "execution_count": 145
        },
        {
          "output_type": "display_data",
          "data": {
            "image/png": "[encoded data removed]",
            "text/plain": [
              "<Figure size 576x576 with 1 Axes>"
            ]
          },
          "metadata": {
            "tags": []
          }
        }
      ]
    },
    {
      "cell_type": "code",
      "metadata": {
        "id": "spYW4-Q-_6En"
      },
      "source": [
        ""
      ],
      "execution_count": null,
      "outputs": []
    }
  ]
}